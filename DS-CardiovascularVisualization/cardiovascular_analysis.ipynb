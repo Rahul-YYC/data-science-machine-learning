{
 "cells": [
  {
   "cell_type": "code",
   "execution_count": null,
   "metadata": {},
   "outputs": [],
   "source": [
    "import numpy as np\n",
    "import pandas as pd\n",
    "from sklearn.manifold import TSNE\n",
    "from sklearn.preprocessing import StandardScaler\n",
    "import pprint\n",
    "pp = pprint.PrettyPrinter(indent=4)\n",
    "\n",
    "pd.set_option(\"display.precision\", 2)\n",
    "\n",
    "# some imports to set up plotting\n",
    "import matplotlib.pyplot as plt\n",
    "\n",
    "# !pip install seaborn\n",
    "import seaborn as sns\n",
    "\n",
    "# import some nice vis settings\n",
    "sns.set()\n",
    "# Graphics in the Retina format are more sharp and legible\n",
    "%config InlineBackend.figure_format = 'retina'"
   ]
  }
 ],
 "metadata": {
  "kernelspec": {
   "display_name": "Python 3.9.12 ('base')",
   "language": "python",
   "name": "python3"
  },
  "language_info": {
   "name": "python",
   "version": "3.9.12"
  },
  "orig_nbformat": 4,
  "vscode": {
   "interpreter": {
    "hash": "082ceb77612068675b38e9f15bc77958bd091f2287c5a449c21c8449f8e5e3e7"
   }
  }
 },
 "nbformat": 4,
 "nbformat_minor": 2
}
