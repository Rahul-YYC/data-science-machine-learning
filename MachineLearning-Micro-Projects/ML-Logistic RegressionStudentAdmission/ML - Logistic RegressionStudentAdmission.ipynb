{
 "cells": [
  {
   "cell_type": "markdown",
   "id": "e5e932e8",
   "metadata": {},
   "source": [
    "### Logistic Regression - Classification\n",
    "\n",
    "We will do the Classification Problem. \n",
    "\n",
    "Logistic Regression is a common techinque used to classify binary target variable - 1 or 0\n",
    "\n",
    "The common logistic classification models a binary outcome — something that can take two values such as true/false, yes/no, and so on. \n",
    "\n",
    "What is the probability of a discrete outcome given an input variable?"
   ]
  },
  {
   "cell_type": "code",
   "execution_count": 3,
   "id": "e46bf8bf",
   "metadata": {},
   "outputs": [
    {
     "name": "stdout",
     "output_type": "stream",
     "text": [
      "Logistic Regression - Classification - whether a student gets admitted into a university??\n",
      "\n"
     ]
    }
   ],
   "source": [
    "println(\"Logistic Regression - Classification - whether a student gets admitted into a university??\n",
    "\")"
   ]
  },
  {
   "cell_type": "code",
   "execution_count": 4,
   "id": "47b06902",
   "metadata": {},
   "outputs": [
    {
     "data": {
      "application/vnd.webio.node+json": {
       "children": [],
       "instanceArgs": {
        "namespace": "html",
        "tag": "div"
       },
       "nodeType": "DOM",
       "props": {},
       "type": "node"
      },
      "text/html": [
       "<div style=\"padding: 1em; background-color: #f8d6da; border: 1px solid #f5c6cb; font-weight: bold;\">\n",
       "<p>The WebIO Jupyter extension was not detected. See the\n",
       "<a href=\"https://juliagizmos.github.io/WebIO.jl/latest/providers/ijulia/\" target=\"_blank\">\n",
       "    WebIO Jupyter integration documentation\n",
       "</a>\n",
       "for more information.\n",
       "</div>\n"
      ],
      "text/plain": [
       "WebIO._IJuliaInit()"
      ]
     },
     "metadata": {
      "application/vnd.webio.node+json": {
       "kernelId": "42bbf9a5-0452-478a-80ff-9a969f67a190"
      }
     },
     "output_type": "display_data"
    },
    {
     "data": {
      "text/plain": [
       "Plots.GRBackend()"
      ]
     },
     "execution_count": 4,
     "metadata": {},
     "output_type": "execute_result"
    }
   ],
   "source": [
    "using CSV\n",
    "using DataFrames\n",
    "using Plots\n",
    "using PlotlyJS\n",
    "using WebIO\n",
    "using ForwardDiff\n",
    "using Optim\n",
    "using Statistics\n",
    "gr()\n",
    "Plots.GRBackend()"
   ]
  },
  {
   "cell_type": "markdown",
   "id": "2d5c6cf1",
   "metadata": {},
   "source": [
    "How to determine each applicant’s chance of admission based on their results on two exams?\n",
    "\n",
    "### Dataset\n",
    "\n",
    "Historical data from previous applicants that we will use as a training set for logistic regression. For each training example, we have the applicant’s scores on two exams and the admissions decision."
   ]
  },
  {
   "cell_type": "code",
   "execution_count": 5,
   "id": "b0b57daa",
   "metadata": {
    "scrolled": true
   },
   "outputs": [
    {
     "data": {
      "text/html": [
       "<div class=\"data-frame\"><p>100 rows × 3 columns</p><table class=\"data-frame\"><thead><tr><th></th><th>exam1score</th><th>exam2score</th><th>decision</th></tr><tr><th></th><th title=\"Float64\">Float64</th><th title=\"Float64\">Float64</th><th title=\"Int64\">Int64</th></tr></thead><tbody><tr><th>1</th><td>34.6237</td><td>78.0247</td><td>0</td></tr><tr><th>2</th><td>30.2867</td><td>43.895</td><td>0</td></tr><tr><th>3</th><td>35.8474</td><td>72.9022</td><td>0</td></tr><tr><th>4</th><td>60.1826</td><td>86.3086</td><td>1</td></tr><tr><th>5</th><td>79.0327</td><td>75.3444</td><td>1</td></tr><tr><th>6</th><td>45.0833</td><td>56.3164</td><td>0</td></tr><tr><th>7</th><td>61.1067</td><td>96.5114</td><td>1</td></tr><tr><th>8</th><td>75.0247</td><td>46.554</td><td>1</td></tr><tr><th>9</th><td>76.0988</td><td>87.4206</td><td>1</td></tr><tr><th>10</th><td>84.4328</td><td>43.5334</td><td>1</td></tr><tr><th>11</th><td>95.8616</td><td>38.2253</td><td>0</td></tr><tr><th>12</th><td>75.0137</td><td>30.6033</td><td>0</td></tr><tr><th>13</th><td>82.3071</td><td>76.482</td><td>1</td></tr><tr><th>14</th><td>69.3646</td><td>97.7187</td><td>1</td></tr><tr><th>15</th><td>39.5383</td><td>76.0368</td><td>0</td></tr><tr><th>16</th><td>53.9711</td><td>89.2074</td><td>1</td></tr><tr><th>17</th><td>69.0701</td><td>52.7405</td><td>1</td></tr><tr><th>18</th><td>67.9469</td><td>46.6786</td><td>0</td></tr><tr><th>19</th><td>70.6615</td><td>92.9271</td><td>1</td></tr><tr><th>20</th><td>76.9788</td><td>47.576</td><td>1</td></tr><tr><th>21</th><td>67.372</td><td>42.8384</td><td>0</td></tr><tr><th>22</th><td>89.6768</td><td>65.7994</td><td>1</td></tr><tr><th>23</th><td>50.5348</td><td>48.8558</td><td>0</td></tr><tr><th>24</th><td>34.2121</td><td>44.2095</td><td>0</td></tr><tr><th>25</th><td>77.9241</td><td>68.9724</td><td>1</td></tr><tr><th>26</th><td>62.271</td><td>69.9545</td><td>1</td></tr><tr><th>27</th><td>80.1902</td><td>44.8216</td><td>1</td></tr><tr><th>28</th><td>93.1144</td><td>38.8007</td><td>0</td></tr><tr><th>29</th><td>61.8302</td><td>50.2561</td><td>0</td></tr><tr><th>30</th><td>38.7858</td><td>64.9957</td><td>0</td></tr><tr><th>&vellip;</th><td>&vellip;</td><td>&vellip;</td><td>&vellip;</td></tr></tbody></table></div>"
      ],
      "text/latex": [
       "\\begin{tabular}{r|ccc}\n",
       "\t& exam1score & exam2score & decision\\\\\n",
       "\t\\hline\n",
       "\t& Float64 & Float64 & Int64\\\\\n",
       "\t\\hline\n",
       "\t1 & 34.6237 & 78.0247 & 0 \\\\\n",
       "\t2 & 30.2867 & 43.895 & 0 \\\\\n",
       "\t3 & 35.8474 & 72.9022 & 0 \\\\\n",
       "\t4 & 60.1826 & 86.3086 & 1 \\\\\n",
       "\t5 & 79.0327 & 75.3444 & 1 \\\\\n",
       "\t6 & 45.0833 & 56.3164 & 0 \\\\\n",
       "\t7 & 61.1067 & 96.5114 & 1 \\\\\n",
       "\t8 & 75.0247 & 46.554 & 1 \\\\\n",
       "\t9 & 76.0988 & 87.4206 & 1 \\\\\n",
       "\t10 & 84.4328 & 43.5334 & 1 \\\\\n",
       "\t11 & 95.8616 & 38.2253 & 0 \\\\\n",
       "\t12 & 75.0137 & 30.6033 & 0 \\\\\n",
       "\t13 & 82.3071 & 76.482 & 1 \\\\\n",
       "\t14 & 69.3646 & 97.7187 & 1 \\\\\n",
       "\t15 & 39.5383 & 76.0368 & 0 \\\\\n",
       "\t16 & 53.9711 & 89.2074 & 1 \\\\\n",
       "\t17 & 69.0701 & 52.7405 & 1 \\\\\n",
       "\t18 & 67.9469 & 46.6786 & 0 \\\\\n",
       "\t19 & 70.6615 & 92.9271 & 1 \\\\\n",
       "\t20 & 76.9788 & 47.576 & 1 \\\\\n",
       "\t21 & 67.372 & 42.8384 & 0 \\\\\n",
       "\t22 & 89.6768 & 65.7994 & 1 \\\\\n",
       "\t23 & 50.5348 & 48.8558 & 0 \\\\\n",
       "\t24 & 34.2121 & 44.2095 & 0 \\\\\n",
       "\t25 & 77.9241 & 68.9724 & 1 \\\\\n",
       "\t26 & 62.271 & 69.9545 & 1 \\\\\n",
       "\t27 & 80.1902 & 44.8216 & 1 \\\\\n",
       "\t28 & 93.1144 & 38.8007 & 0 \\\\\n",
       "\t29 & 61.8302 & 50.2561 & 0 \\\\\n",
       "\t30 & 38.7858 & 64.9957 & 0 \\\\\n",
       "\t$\\dots$ & $\\dots$ & $\\dots$ & $\\dots$ \\\\\n",
       "\\end{tabular}\n"
      ],
      "text/plain": [
       "\u001b[1m100×3 DataFrame\u001b[0m\n",
       "\u001b[1m Row \u001b[0m│\u001b[1m exam1score \u001b[0m\u001b[1m exam2score \u001b[0m\u001b[1m decision \u001b[0m\n",
       "\u001b[1m     \u001b[0m│\u001b[90m Float64    \u001b[0m\u001b[90m Float64    \u001b[0m\u001b[90m Int64    \u001b[0m\n",
       "─────┼──────────────────────────────────\n",
       "   1 │    34.6237     78.0247         0\n",
       "   2 │    30.2867     43.895          0\n",
       "   3 │    35.8474     72.9022         0\n",
       "   4 │    60.1826     86.3086         1\n",
       "   5 │    79.0327     75.3444         1\n",
       "   6 │    45.0833     56.3164         0\n",
       "   7 │    61.1067     96.5114         1\n",
       "   8 │    75.0247     46.554          1\n",
       "   9 │    76.0988     87.4206         1\n",
       "  10 │    84.4328     43.5334         1\n",
       "  11 │    95.8616     38.2253         0\n",
       "  ⋮  │     ⋮           ⋮          ⋮\n",
       "  91 │    94.0943     77.1591         1\n",
       "  92 │    90.4486     87.5088         1\n",
       "  93 │    55.4822     35.5707         0\n",
       "  94 │    74.4927     84.8451         1\n",
       "  95 │    89.8458     45.3583         1\n",
       "  96 │    83.4892     48.3803         1\n",
       "  97 │    42.2617     87.1039         1\n",
       "  98 │    99.315      68.7754         1\n",
       "  99 │    55.34       64.9319         1\n",
       " 100 │    74.7759     89.5298         1\n",
       "\u001b[36m                         79 rows omitted\u001b[0m"
      ]
     },
     "execution_count": 5,
     "metadata": {},
     "output_type": "execute_result"
    }
   ],
   "source": [
    "data = CSV.read(\"ex2data1.csv\", DataFrame)"
   ]
  },
  {
   "cell_type": "code",
   "execution_count": 7,
   "id": "3271283f",
   "metadata": {},
   "outputs": [
    {
     "data": {
      "text/plain": [
       "3-element Vector{String}:\n",
       " \"exam1score\"\n",
       " \"exam2score\"\n",
       " \"decision\""
      ]
     },
     "execution_count": 7,
     "metadata": {},
     "output_type": "execute_result"
    }
   ],
   "source": [
    "names(data)"
   ]
  },
  {
   "cell_type": "code",
   "execution_count": 8,
   "id": "c110b0dc",
   "metadata": {},
   "outputs": [
    {
     "data": {
      "text/plain": [
       "(100, 3)"
      ]
     },
     "execution_count": 8,
     "metadata": {},
     "output_type": "execute_result"
    }
   ],
   "source": [
    "size(data)"
   ]
  },
  {
   "cell_type": "markdown",
   "id": "3f57a71a",
   "metadata": {},
   "source": [
    "Create a column \"status\" in our dataframe that translates binary outcome — 1 and 0 — to \"Admitted\" or \"Not Admitted\""
   ]
  },
  {
   "cell_type": "code",
   "execution_count": 9,
   "id": "44857bf0",
   "metadata": {},
   "outputs": [
    {
     "data": {
      "text/html": [
       "<div class=\"data-frame\"><p>100 rows × 4 columns</p><table class=\"data-frame\"><thead><tr><th></th><th>exam1score</th><th>exam2score</th><th>decision</th><th>status</th></tr><tr><th></th><th title=\"Float64\">Float64</th><th title=\"Float64\">Float64</th><th title=\"Int64\">Int64</th><th title=\"String\">String</th></tr></thead><tbody><tr><th>1</th><td>34.6237</td><td>78.0247</td><td>0</td><td>Not Admitted</td></tr><tr><th>2</th><td>30.2867</td><td>43.895</td><td>0</td><td>Not Admitted</td></tr><tr><th>3</th><td>35.8474</td><td>72.9022</td><td>0</td><td>Not Admitted</td></tr><tr><th>4</th><td>60.1826</td><td>86.3086</td><td>1</td><td>Admitted</td></tr><tr><th>5</th><td>79.0327</td><td>75.3444</td><td>1</td><td>Admitted</td></tr><tr><th>6</th><td>45.0833</td><td>56.3164</td><td>0</td><td>Not Admitted</td></tr><tr><th>7</th><td>61.1067</td><td>96.5114</td><td>1</td><td>Admitted</td></tr><tr><th>8</th><td>75.0247</td><td>46.554</td><td>1</td><td>Admitted</td></tr><tr><th>9</th><td>76.0988</td><td>87.4206</td><td>1</td><td>Admitted</td></tr><tr><th>10</th><td>84.4328</td><td>43.5334</td><td>1</td><td>Admitted</td></tr><tr><th>11</th><td>95.8616</td><td>38.2253</td><td>0</td><td>Not Admitted</td></tr><tr><th>12</th><td>75.0137</td><td>30.6033</td><td>0</td><td>Not Admitted</td></tr><tr><th>13</th><td>82.3071</td><td>76.482</td><td>1</td><td>Admitted</td></tr><tr><th>14</th><td>69.3646</td><td>97.7187</td><td>1</td><td>Admitted</td></tr><tr><th>15</th><td>39.5383</td><td>76.0368</td><td>0</td><td>Not Admitted</td></tr><tr><th>16</th><td>53.9711</td><td>89.2074</td><td>1</td><td>Admitted</td></tr><tr><th>17</th><td>69.0701</td><td>52.7405</td><td>1</td><td>Admitted</td></tr><tr><th>18</th><td>67.9469</td><td>46.6786</td><td>0</td><td>Not Admitted</td></tr><tr><th>19</th><td>70.6615</td><td>92.9271</td><td>1</td><td>Admitted</td></tr><tr><th>20</th><td>76.9788</td><td>47.576</td><td>1</td><td>Admitted</td></tr><tr><th>21</th><td>67.372</td><td>42.8384</td><td>0</td><td>Not Admitted</td></tr><tr><th>22</th><td>89.6768</td><td>65.7994</td><td>1</td><td>Admitted</td></tr><tr><th>23</th><td>50.5348</td><td>48.8558</td><td>0</td><td>Not Admitted</td></tr><tr><th>24</th><td>34.2121</td><td>44.2095</td><td>0</td><td>Not Admitted</td></tr><tr><th>25</th><td>77.9241</td><td>68.9724</td><td>1</td><td>Admitted</td></tr><tr><th>26</th><td>62.271</td><td>69.9545</td><td>1</td><td>Admitted</td></tr><tr><th>27</th><td>80.1902</td><td>44.8216</td><td>1</td><td>Admitted</td></tr><tr><th>28</th><td>93.1144</td><td>38.8007</td><td>0</td><td>Not Admitted</td></tr><tr><th>29</th><td>61.8302</td><td>50.2561</td><td>0</td><td>Not Admitted</td></tr><tr><th>30</th><td>38.7858</td><td>64.9957</td><td>0</td><td>Not Admitted</td></tr><tr><th>&vellip;</th><td>&vellip;</td><td>&vellip;</td><td>&vellip;</td><td>&vellip;</td></tr></tbody></table></div>"
      ],
      "text/latex": [
       "\\begin{tabular}{r|cccc}\n",
       "\t& exam1score & exam2score & decision & status\\\\\n",
       "\t\\hline\n",
       "\t& Float64 & Float64 & Int64 & String\\\\\n",
       "\t\\hline\n",
       "\t1 & 34.6237 & 78.0247 & 0 & Not Admitted \\\\\n",
       "\t2 & 30.2867 & 43.895 & 0 & Not Admitted \\\\\n",
       "\t3 & 35.8474 & 72.9022 & 0 & Not Admitted \\\\\n",
       "\t4 & 60.1826 & 86.3086 & 1 & Admitted \\\\\n",
       "\t5 & 79.0327 & 75.3444 & 1 & Admitted \\\\\n",
       "\t6 & 45.0833 & 56.3164 & 0 & Not Admitted \\\\\n",
       "\t7 & 61.1067 & 96.5114 & 1 & Admitted \\\\\n",
       "\t8 & 75.0247 & 46.554 & 1 & Admitted \\\\\n",
       "\t9 & 76.0988 & 87.4206 & 1 & Admitted \\\\\n",
       "\t10 & 84.4328 & 43.5334 & 1 & Admitted \\\\\n",
       "\t11 & 95.8616 & 38.2253 & 0 & Not Admitted \\\\\n",
       "\t12 & 75.0137 & 30.6033 & 0 & Not Admitted \\\\\n",
       "\t13 & 82.3071 & 76.482 & 1 & Admitted \\\\\n",
       "\t14 & 69.3646 & 97.7187 & 1 & Admitted \\\\\n",
       "\t15 & 39.5383 & 76.0368 & 0 & Not Admitted \\\\\n",
       "\t16 & 53.9711 & 89.2074 & 1 & Admitted \\\\\n",
       "\t17 & 69.0701 & 52.7405 & 1 & Admitted \\\\\n",
       "\t18 & 67.9469 & 46.6786 & 0 & Not Admitted \\\\\n",
       "\t19 & 70.6615 & 92.9271 & 1 & Admitted \\\\\n",
       "\t20 & 76.9788 & 47.576 & 1 & Admitted \\\\\n",
       "\t21 & 67.372 & 42.8384 & 0 & Not Admitted \\\\\n",
       "\t22 & 89.6768 & 65.7994 & 1 & Admitted \\\\\n",
       "\t23 & 50.5348 & 48.8558 & 0 & Not Admitted \\\\\n",
       "\t24 & 34.2121 & 44.2095 & 0 & Not Admitted \\\\\n",
       "\t25 & 77.9241 & 68.9724 & 1 & Admitted \\\\\n",
       "\t26 & 62.271 & 69.9545 & 1 & Admitted \\\\\n",
       "\t27 & 80.1902 & 44.8216 & 1 & Admitted \\\\\n",
       "\t28 & 93.1144 & 38.8007 & 0 & Not Admitted \\\\\n",
       "\t29 & 61.8302 & 50.2561 & 0 & Not Admitted \\\\\n",
       "\t30 & 38.7858 & 64.9957 & 0 & Not Admitted \\\\\n",
       "\t$\\dots$ & $\\dots$ & $\\dots$ & $\\dots$ & $\\dots$ \\\\\n",
       "\\end{tabular}\n"
      ],
      "text/plain": [
       "\u001b[1m100×4 DataFrame\u001b[0m\n",
       "\u001b[1m Row \u001b[0m│\u001b[1m exam1score \u001b[0m\u001b[1m exam2score \u001b[0m\u001b[1m decision \u001b[0m\u001b[1m status       \u001b[0m\n",
       "\u001b[1m     \u001b[0m│\u001b[90m Float64    \u001b[0m\u001b[90m Float64    \u001b[0m\u001b[90m Int64    \u001b[0m\u001b[90m String       \u001b[0m\n",
       "─────┼────────────────────────────────────────────────\n",
       "   1 │    34.6237     78.0247         0  Not Admitted\n",
       "   2 │    30.2867     43.895          0  Not Admitted\n",
       "   3 │    35.8474     72.9022         0  Not Admitted\n",
       "   4 │    60.1826     86.3086         1  Admitted\n",
       "   5 │    79.0327     75.3444         1  Admitted\n",
       "   6 │    45.0833     56.3164         0  Not Admitted\n",
       "   7 │    61.1067     96.5114         1  Admitted\n",
       "   8 │    75.0247     46.554          1  Admitted\n",
       "   9 │    76.0988     87.4206         1  Admitted\n",
       "  10 │    84.4328     43.5334         1  Admitted\n",
       "  11 │    95.8616     38.2253         0  Not Admitted\n",
       "  ⋮  │     ⋮           ⋮          ⋮           ⋮\n",
       "  91 │    94.0943     77.1591         1  Admitted\n",
       "  92 │    90.4486     87.5088         1  Admitted\n",
       "  93 │    55.4822     35.5707         0  Not Admitted\n",
       "  94 │    74.4927     84.8451         1  Admitted\n",
       "  95 │    89.8458     45.3583         1  Admitted\n",
       "  96 │    83.4892     48.3803         1  Admitted\n",
       "  97 │    42.2617     87.1039         1  Admitted\n",
       "  98 │    99.315      68.7754         1  Admitted\n",
       "  99 │    55.34       64.9319         1  Admitted\n",
       " 100 │    74.7759     89.5298         1  Admitted\n",
       "\u001b[36m                                       79 rows omitted\u001b[0m"
      ]
     },
     "execution_count": 9,
     "metadata": {},
     "output_type": "execute_result"
    }
   ],
   "source": [
    "status = [x == 1 ? \"Admitted\" : \"Not Admitted\" for x in data.decision]\n",
    "data[!, :status] = status\n",
    "data"
   ]
  },
  {
   "cell_type": "markdown",
   "id": "1db95b1d",
   "metadata": {},
   "source": [
    "Before we do anyting, let's visualize the data\n",
    "\n",
    "A simple scatter plot"
   ]
  },
  {
   "cell_type": "code",
   "execution_count": 11,
   "id": "316507a1",
   "metadata": {},
   "outputs": [],
   "source": [
    "x1 = data.exam1score\n",
    "x2 = data.exam2score\n",
    "gr()\n",
    "exam_score_scatter_plot = Plots.plot(x1, x2, seriestype = :scatter, title = \"Scatter Plot\", markersize=3,\n",
    "        alpha=.8,\n",
    "        legend=false, \n",
    "        xlabel=\"Exam 1 Score\",\n",
    "        ylabel=\"Exam 2 Score\")\n",
    "\n",
    "Plots.savefig(exam_score_scatter_plot, \"ScatterPlotExamScores-1.png\")"
   ]
  },
  {
   "cell_type": "code",
   "execution_count": 12,
   "id": "7a145198",
   "metadata": {},
   "outputs": [
    {
     "data": {
      "application/vnd.plotly.v1+json": {
       "config": {
        "editable": false,
        "responsive": true,
        "scrollZoom": true,
        "showLink": false,
        "staticPlot": false
       },
       "data": [
        {
         "legendgroup": "Admitted",
         "marker": {
          "color": "#EF553B",
          "line": {
           "color": "DarkSlateGrey",
           "width": 2
          },
          "size": 10
         },
         "mode": "markers",
         "name": "Admitted",
         "showlegend": true,
         "type": "scatter",
         "x": [
          60.18259938620976,
          79.0327360507101,
          61.10666453684766,
          75.02474556738889,
          76.09878670226257,
          84.43281996120035,
          82.30705337399482,
          69.36458875970939,
          53.9710521485623,
          69.07014406283025,
          70.66150955499435,
          76.97878372747498,
          89.6767757507208,
          77.9240914545704,
          62.27101367004632,
          80.1901807509566,
          61.379289447425,
          85.40451939411645,
          52.04540476831827,
          64.17698887494485,
          83.90239366249155,
          94.44336776917852,
          77.19303492601364,
          97.77159928000232,
          62.07306379667647,
          91.56497449807442,
          79.94481794066932,
          99.2725269292572,
          90.54671411399852,
          97.64563396007767,
          74.24869136721598,
          71.7964620586338,
          75.3956114656803,
          40.45755098375164,
          80.27957401466998,
          66.74671856944039,
          64.0393204150601,
          72.34649422579923,
          60.45788573918959,
          58.84095621726802,
          99.82785779692128,
          47.26426910848174,
          50.45815980285988,
          88.9138964166533,
          94.83450672430196,
          67.31925746917527,
          57.23870631569862,
          80.36675600171273,
          68.46852178591112,
          75.47770200533905,
          78.63542434898018,
          94.09433112516793,
          90.44855097096364,
          74.49269241843041,
          89.84580670720979,
          83.48916274498238,
          42.2617008099817,
          99.31500880510394,
          55.34001756003703,
          74.77589300092767
         ],
         "xaxis": "x",
         "y": [
          86.30855209546826,
          75.3443764369103,
          96.51142588489624,
          46.55401354116538,
          87.42056971926803,
          43.53339331072109,
          76.48196330235604,
          97.71869196188608,
          89.20735013750205,
          52.74046973016765,
          92.92713789364831,
          47.57596364975532,
          65.79936592745237,
          68.9723599933059,
          69.95445795447587,
          44.82162893218353,
          72.80788731317097,
          57.05198397627122,
          69.43286012045222,
          80.90806058670817,
          56.30804621605327,
          65.56892160559052,
          70.45820000180959,
          86.7278223300282,
          96.76882412413983,
          88.696292545466,
          74.16311935043758,
          60.99903099844988,
          43.39060180650027,
          68.86157272420604,
          69.82457122657193,
          78.45356224515052,
          85.75993667331619,
          97.53518548909936,
          92.11606081344084,
          60.99139402740988,
          78.03168802018232,
          96.22759296761404,
          73.09499809758037,
          75.85844831279042,
          72.36925193383885,
          88.47586499559782,
          75.80985952982456,
          69.80378889835472,
          45.69430680250754,
          66.58935317747915,
          59.51428198012956,
          90.96014789746954,
          85.59430710452014,
          90.42453899753964,
          96.64742716885644,
          77.15910509073893,
          87.50879176484702,
          84.84513684930135,
          45.35828361091658,
          48.38028579728175,
          87.10385094025457,
          68.77540947206617,
          64.9319380069486,
          89.52981289513276
         ],
         "yaxis": "y"
        },
        {
         "legendgroup": "Not Admitted",
         "marker": {
          "color": "#636efa",
          "line": {
           "color": "DarkSlateGrey",
           "width": 2
          },
          "size": 10
         },
         "mode": "markers",
         "name": "Not Admitted",
         "showlegend": true,
         "type": "scatter",
         "x": [
          34.62365962451697,
          30.28671076822607,
          35.84740876993872,
          45.08327747668339,
          95.86155507093572,
          75.01365838958247,
          39.53833914367223,
          67.94685547711617,
          67.37202754570876,
          50.534788289883,
          34.21206097786789,
          93.114388797442,
          61.83020602312595,
          38.78580379679423,
          52.10797973193984,
          40.23689373545111,
          54.63510555424817,
          33.91550010906887,
          74.78925295941542,
          34.1836400264419,
          51.54772026906181,
          82.36875375713919,
          51.04775177128865,
          62.22267576120188,
          34.52451385320009,
          50.2864961189907,
          49.58667721632031,
          32.57720016809309,
          35.28611281526193,
          56.25381749711624,
          30.05882244669796,
          44.66826172480893,
          66.56089447242954,
          49.07256321908844,
          32.72283304060323,
          60.45555629271532,
          82.22666157785568,
          42.0754545384731,
          52.34800398794107,
          55.48216114069585
         ],
         "xaxis": "x",
         "y": [
          78.0246928153624,
          43.89499752400101,
          72.90219802708364,
          56.3163717815305,
          38.22527805795094,
          30.60326323428011,
          76.03681085115882,
          46.67857410673128,
          42.83843832029179,
          48.85581152764205,
          44.20952859866288,
          38.80067033713209,
          50.25610789244621,
          64.99568095539578,
          63.12762376881715,
          71.16774802184875,
          52.21388588061123,
          98.86943574220611,
          41.57341522824434,
          75.2377203360134,
          46.85629026349976,
          40.61825515970618,
          45.82270145776001,
          52.06099194836679,
          60.39634245837173,
          49.80453881323059,
          59.80895099453265,
          95.59854761387875,
          47.02051394723416,
          39.26147251058019,
          49.59297386723685,
          66.45008614558913,
          41.09209807936973,
          51.88321182073966,
          43.30717306430063,
          42.50840943572217,
          42.71987853716458,
          78.84478600148043,
          60.76950525602592,
          35.57070347228866
         ],
         "yaxis": "y"
        }
       ],
       "frames": [],
       "layout": {
        "legend": {
         "title": {
          "text": "status"
         },
         "tracegroupgap": 0
        },
        "margin": {
         "b": 50,
         "l": 50,
         "r": 50,
         "t": 60
        },
        "template": {
         "data": {
          "bar": [
           {
            "error_x": {
             "color": "#2a3f5f"
            },
            "error_y": {
             "color": "#2a3f5f"
            },
            "marker": {
             "line": {
              "color": "#E5ECF6",
              "width": 0.5
             }
            },
            "type": "bar"
           }
          ],
          "barpolar": [
           {
            "marker": {
             "line": {
              "color": "#E5ECF6",
              "width": 0.5
             }
            },
            "type": "barpolar"
           }
          ],
          "carpet": [
           {
            "aaxis": {
             "endlinecolor": "#2a3f5f",
             "gridcolor": "white",
             "linecolor": "white",
             "minorgridcolor": "white",
             "startlinecolor": "#2a3f5f"
            },
            "baxis": {
             "endlinecolor": "#2a3f5f",
             "gridcolor": "white",
             "linecolor": "white",
             "minorgridcolor": "white",
             "startlinecolor": "#2a3f5f"
            },
            "type": "carpet"
           }
          ],
          "choropleth": [
           {
            "colorbar": {
             "outlinewidth": 0,
             "ticks": ""
            },
            "type": "choropleth"
           }
          ],
          "contour": [
           {
            "colorbar": {
             "outlinewidth": 0,
             "ticks": ""
            },
            "colorscale": [
             [
              0,
              "#0d0887"
             ],
             [
              0.1111111111111111,
              "#46039f"
             ],
             [
              0.2222222222222222,
              "#7201a8"
             ],
             [
              0.3333333333333333,
              "#9c179e"
             ],
             [
              0.4444444444444444,
              "#bd3786"
             ],
             [
              0.5555555555555556,
              "#d8576b"
             ],
             [
              0.6666666666666666,
              "#ed7953"
             ],
             [
              0.7777777777777778,
              "#fb9f3a"
             ],
             [
              0.8888888888888888,
              "#fdca26"
             ],
             [
              1,
              "#f0f921"
             ]
            ],
            "type": "contour"
           }
          ],
          "contourcarpet": [
           {
            "colorbar": {
             "outlinewidth": 0,
             "ticks": ""
            },
            "type": "contourcarpet"
           }
          ],
          "heatmap": [
           {
            "colorbar": {
             "outlinewidth": 0,
             "ticks": ""
            },
            "colorscale": [
             [
              0,
              "#0d0887"
             ],
             [
              0.1111111111111111,
              "#46039f"
             ],
             [
              0.2222222222222222,
              "#7201a8"
             ],
             [
              0.3333333333333333,
              "#9c179e"
             ],
             [
              0.4444444444444444,
              "#bd3786"
             ],
             [
              0.5555555555555556,
              "#d8576b"
             ],
             [
              0.6666666666666666,
              "#ed7953"
             ],
             [
              0.7777777777777778,
              "#fb9f3a"
             ],
             [
              0.8888888888888888,
              "#fdca26"
             ],
             [
              1,
              "#f0f921"
             ]
            ],
            "type": "heatmap"
           }
          ],
          "heatmapgl": [
           {
            "colorbar": {
             "outlinewidth": 0,
             "ticks": ""
            },
            "colorscale": [
             [
              0,
              "#0d0887"
             ],
             [
              0.1111111111111111,
              "#46039f"
             ],
             [
              0.2222222222222222,
              "#7201a8"
             ],
             [
              0.3333333333333333,
              "#9c179e"
             ],
             [
              0.4444444444444444,
              "#bd3786"
             ],
             [
              0.5555555555555556,
              "#d8576b"
             ],
             [
              0.6666666666666666,
              "#ed7953"
             ],
             [
              0.7777777777777778,
              "#fb9f3a"
             ],
             [
              0.8888888888888888,
              "#fdca26"
             ],
             [
              1,
              "#f0f921"
             ]
            ],
            "type": "heatmapgl"
           }
          ],
          "histogram": [
           {
            "marker": {
             "colorbar": {
              "outlinewidth": 0,
              "ticks": ""
             }
            },
            "type": "histogram"
           }
          ],
          "histogram2d": [
           {
            "colorbar": {
             "outlinewidth": 0,
             "ticks": ""
            },
            "colorscale": [
             [
              0,
              "#0d0887"
             ],
             [
              0.1111111111111111,
              "#46039f"
             ],
             [
              0.2222222222222222,
              "#7201a8"
             ],
             [
              0.3333333333333333,
              "#9c179e"
             ],
             [
              0.4444444444444444,
              "#bd3786"
             ],
             [
              0.5555555555555556,
              "#d8576b"
             ],
             [
              0.6666666666666666,
              "#ed7953"
             ],
             [
              0.7777777777777778,
              "#fb9f3a"
             ],
             [
              0.8888888888888888,
              "#fdca26"
             ],
             [
              1,
              "#f0f921"
             ]
            ],
            "type": "histogram2d"
           }
          ],
          "histogram2dcontour": [
           {
            "colorbar": {
             "outlinewidth": 0,
             "ticks": ""
            },
            "colorscale": [
             [
              0,
              "#0d0887"
             ],
             [
              0.1111111111111111,
              "#46039f"
             ],
             [
              0.2222222222222222,
              "#7201a8"
             ],
             [
              0.3333333333333333,
              "#9c179e"
             ],
             [
              0.4444444444444444,
              "#bd3786"
             ],
             [
              0.5555555555555556,
              "#d8576b"
             ],
             [
              0.6666666666666666,
              "#ed7953"
             ],
             [
              0.7777777777777778,
              "#fb9f3a"
             ],
             [
              0.8888888888888888,
              "#fdca26"
             ],
             [
              1,
              "#f0f921"
             ]
            ],
            "type": "histogram2dcontour"
           }
          ],
          "mesh3d": [
           {
            "colorbar": {
             "outlinewidth": 0,
             "ticks": ""
            },
            "type": "mesh3d"
           }
          ],
          "parcoords": [
           {
            "line": {
             "colorbar": {
              "outlinewidth": 0,
              "ticks": ""
             }
            },
            "type": "parcoords"
           }
          ],
          "pie": [
           {
            "automargin": true,
            "type": "pie"
           }
          ],
          "scatter": [
           {
            "marker": {
             "colorbar": {
              "outlinewidth": 0,
              "ticks": ""
             }
            },
            "type": "scatter"
           }
          ],
          "scatter3d": [
           {
            "line": {
             "colorbar": {
              "outlinewidth": 0,
              "ticks": ""
             }
            },
            "marker": {
             "colorbar": {
              "outlinewidth": 0,
              "ticks": ""
             }
            },
            "type": "scatter3d"
           }
          ],
          "scattercarpet": [
           {
            "marker": {
             "colorbar": {
              "outlinewidth": 0,
              "ticks": ""
             }
            },
            "type": "scattercarpet"
           }
          ],
          "scattergeo": [
           {
            "marker": {
             "colorbar": {
              "outlinewidth": 0,
              "ticks": ""
             }
            },
            "type": "scattergeo"
           }
          ],
          "scattergl": [
           {
            "marker": {
             "colorbar": {
              "outlinewidth": 0,
              "ticks": ""
             }
            },
            "type": "scattergl"
           }
          ],
          "scattermapbox": [
           {
            "marker": {
             "colorbar": {
              "outlinewidth": 0,
              "ticks": ""
             }
            },
            "type": "scattermapbox"
           }
          ],
          "scatterpolar": [
           {
            "marker": {
             "colorbar": {
              "outlinewidth": 0,
              "ticks": ""
             }
            },
            "type": "scatterpolar"
           }
          ],
          "scatterpolargl": [
           {
            "marker": {
             "colorbar": {
              "outlinewidth": 0,
              "ticks": ""
             }
            },
            "type": "scatterpolargl"
           }
          ],
          "scatterternary": [
           {
            "marker": {
             "colorbar": {
              "outlinewidth": 0,
              "ticks": ""
             }
            },
            "type": "scatterternary"
           }
          ],
          "surface": [
           {
            "colorbar": {
             "outlinewidth": 0,
             "ticks": ""
            },
            "colorscale": [
             [
              0,
              "#0d0887"
             ],
             [
              0.1111111111111111,
              "#46039f"
             ],
             [
              0.2222222222222222,
              "#7201a8"
             ],
             [
              0.3333333333333333,
              "#9c179e"
             ],
             [
              0.4444444444444444,
              "#bd3786"
             ],
             [
              0.5555555555555556,
              "#d8576b"
             ],
             [
              0.6666666666666666,
              "#ed7953"
             ],
             [
              0.7777777777777778,
              "#fb9f3a"
             ],
             [
              0.8888888888888888,
              "#fdca26"
             ],
             [
              1,
              "#f0f921"
             ]
            ],
            "type": "surface"
           }
          ],
          "table": [
           {
            "cells": {
             "fill": {
              "color": "#EBF0F8"
             },
             "line": {
              "color": "white"
             }
            },
            "header": {
             "fill": {
              "color": "#C8D4E3"
             },
             "line": {
              "color": "white"
             }
            },
            "type": "table"
           }
          ]
         },
         "layout": {
          "annotationdefaults": {
           "arrowcolor": "#2a3f5f",
           "arrowhead": 0,
           "arrowwidth": 1
          },
          "autotypenumbers": "strict",
          "coloraxis": {
           "colorbar": {
            "outlinewidth": 0,
            "ticks": ""
           }
          },
          "colorscale": {
           "diverging": [
            [
             0,
             "#8e0152"
            ],
            [
             0.1,
             "#c51b7d"
            ],
            [
             0.2,
             "#de77ae"
            ],
            [
             0.3,
             "#f1b6da"
            ],
            [
             0.4,
             "#fde0ef"
            ],
            [
             0.5,
             "#f7f7f7"
            ],
            [
             0.6,
             "#e6f5d0"
            ],
            [
             0.7,
             "#b8e186"
            ],
            [
             0.8,
             "#7fbc41"
            ],
            [
             0.9,
             "#4d9221"
            ],
            [
             1,
             "#276419"
            ]
           ],
           "sequential": [
            [
             0,
             "#0d0887"
            ],
            [
             0.1111111111111111,
             "#46039f"
            ],
            [
             0.2222222222222222,
             "#7201a8"
            ],
            [
             0.3333333333333333,
             "#9c179e"
            ],
            [
             0.4444444444444444,
             "#bd3786"
            ],
            [
             0.5555555555555556,
             "#d8576b"
            ],
            [
             0.6666666666666666,
             "#ed7953"
            ],
            [
             0.7777777777777778,
             "#fb9f3a"
            ],
            [
             0.8888888888888888,
             "#fdca26"
            ],
            [
             1,
             "#f0f921"
            ]
           ],
           "sequentialminus": [
            [
             0,
             "#0d0887"
            ],
            [
             0.1111111111111111,
             "#46039f"
            ],
            [
             0.2222222222222222,
             "#7201a8"
            ],
            [
             0.3333333333333333,
             "#9c179e"
            ],
            [
             0.4444444444444444,
             "#bd3786"
            ],
            [
             0.5555555555555556,
             "#d8576b"
            ],
            [
             0.6666666666666666,
             "#ed7953"
            ],
            [
             0.7777777777777778,
             "#fb9f3a"
            ],
            [
             0.8888888888888888,
             "#fdca26"
            ],
            [
             1,
             "#f0f921"
            ]
           ]
          },
          "colorway": [
           "#636efa",
           "#EF553B",
           "#00cc96",
           "#ab63fa",
           "#FFA15A",
           "#19d3f3",
           "#FF6692",
           "#B6E880",
           "#FF97FF",
           "#FECB52"
          ],
          "font": {
           "color": "#2a3f5f"
          },
          "geo": {
           "bgcolor": "white",
           "lakecolor": "white",
           "landcolor": "#E5ECF6",
           "showlakes": true,
           "showland": true,
           "subunitcolor": "white"
          },
          "hoverlabel": {
           "align": "left"
          },
          "hovermode": "closest",
          "mapbox": {
           "style": "light"
          },
          "paper_bgcolor": "white",
          "plot_bgcolor": "#E5ECF6",
          "polar": {
           "angularaxis": {
            "gridcolor": "white",
            "linecolor": "white",
            "ticks": ""
           },
           "bgcolor": "#E5ECF6",
           "radialaxis": {
            "gridcolor": "white",
            "linecolor": "white",
            "ticks": ""
           }
          },
          "scene": {
           "xaxis": {
            "backgroundcolor": "#E5ECF6",
            "gridcolor": "white",
            "gridwidth": 2,
            "linecolor": "white",
            "showbackground": true,
            "ticks": "",
            "zerolinecolor": "white"
           },
           "yaxis": {
            "backgroundcolor": "#E5ECF6",
            "gridcolor": "white",
            "gridwidth": 2,
            "linecolor": "white",
            "showbackground": true,
            "ticks": "",
            "zerolinecolor": "white"
           },
           "zaxis": {
            "backgroundcolor": "#E5ECF6",
            "gridcolor": "white",
            "gridwidth": 2,
            "linecolor": "white",
            "showbackground": true,
            "ticks": "",
            "zerolinecolor": "white"
           }
          },
          "shapedefaults": {
           "line": {
            "color": "#2a3f5f"
           }
          },
          "ternary": {
           "aaxis": {
            "gridcolor": "white",
            "linecolor": "white",
            "ticks": ""
           },
           "baxis": {
            "gridcolor": "white",
            "linecolor": "white",
            "ticks": ""
           },
           "bgcolor": "#E5ECF6",
           "caxis": {
            "gridcolor": "white",
            "linecolor": "white",
            "ticks": ""
           }
          },
          "title": {
           "x": 0.05
          },
          "xaxis": {
           "automargin": true,
           "gridcolor": "white",
           "linecolor": "white",
           "ticks": "",
           "title": {
            "standoff": 15
           },
           "zerolinecolor": "white",
           "zerolinewidth": 2
          },
          "yaxis": {
           "automargin": true,
           "gridcolor": "white",
           "linecolor": "white",
           "ticks": "",
           "title": {
            "standoff": 15
           },
           "zerolinecolor": "white",
           "zerolinewidth": 2
          }
         }
        },
        "title": "Scatter plot of training data - Admission Decision based on the scores from those two exams.",
        "xaxis": {
         "title": {
          "text": "Exam 1 Score"
         }
        },
        "yaxis": {
         "title": {
          "text": "Exam 2 Score"
         }
        }
       }
      },
      "text/html": [
       "<div\n",
       "    class=\"webio-mountpoint\"\n",
       "    data-webio-mountpoint=\"5145447901933987083\"\n",
       ">\n",
       "    <script>\n",
       "    (function(){\n",
       "    // Some integrations (namely, IJulia/Jupyter) use an alternate render pathway than\n",
       "    // just putting the html on the page. If WebIO isn't defined, then it's pretty likely\n",
       "    // that we're in one of those situations and the integration just isn't installed\n",
       "    // correctly.\n",
       "    if (typeof window.WebIO === \"undefined\") {\n",
       "        document\n",
       "            .querySelector('[data-webio-mountpoint=\"5145447901933987083\"]')\n",
       "            .innerHTML = (\n",
       "                '<div style=\"padding: 1em; background-color: #f8d6da; border: 1px solid #f5c6cb; font-weight: bold;\">' +\n",
       "                '<p><strong>WebIO not detected.</strong></p>' +\n",
       "                '<p>Please read ' +\n",
       "                '<a href=\"https://juliagizmos.github.io/WebIO.jl/latest/troubleshooting/not-detected/\" target=\"_blank\">the troubleshooting guide</a> ' +\n",
       "                'for more information on how to resolve this issue.</p>' +\n",
       "                '<p><a href=\"https://juliagizmos.github.io/WebIO.jl/latest/troubleshooting/not-detected/\" target=\"_blank\">https://juliagizmos.github.io/WebIO.jl/latest/troubleshooting/not-detected/</a></p>' +\n",
       "                '</div>'\n",
       "            );\n",
       "        return;\n",
       "    }\n",
       "    WebIO.mount(\n",
       "        document.querySelector('[data-webio-mountpoint=\"5145447901933987083\"]'),\n",
       "        {\"props\":{},\"nodeType\":\"Scope\",\"type\":\"node\",\"instanceArgs\":{\"imports\":{\"data\":[{\"name\":\"Plotly\",\"type\":\"js\",\"url\":\"\\/assetserver\\/c1ceafbb88f71e36d0668c9d7a58ed90cde4cd06-plotly.min.js\"},{\"name\":null,\"type\":\"js\",\"url\":\"\\/assetserver\\/4c539090c3e5a185e20c539d3b31979e04872767-plotly_webio.bundle.js\"}],\"type\":\"async_block\"},\"id\":\"18351340665499068989\",\"handlers\":{\"_toImage\":[\"(function (options){return this.Plotly.toImage(this.plotElem,options).then((function (data){return WebIO.setval({\\\"name\\\":\\\"image\\\",\\\"scope\\\":\\\"18351340665499068989\\\",\\\"id\\\":\\\"11722788904556878588\\\",\\\"type\\\":\\\"observable\\\"},data)}))})\"],\"__get_gd_contents\":[\"(function (prop){prop==\\\"data\\\" ? (WebIO.setval({\\\"name\\\":\\\"__gd_contents\\\",\\\"scope\\\":\\\"18351340665499068989\\\",\\\"id\\\":\\\"10201090722543998462\\\",\\\"type\\\":\\\"observable\\\"},this.plotElem.data)) : undefined; return prop==\\\"layout\\\" ? (WebIO.setval({\\\"name\\\":\\\"__gd_contents\\\",\\\"scope\\\":\\\"18351340665499068989\\\",\\\"id\\\":\\\"10201090722543998462\\\",\\\"type\\\":\\\"observable\\\"},this.plotElem.layout)) : undefined})\"],\"_downloadImage\":[\"(function (options){return this.Plotly.downloadImage(this.plotElem,options)})\"],\"_commands\":[\"(function (args){var fn=args.shift(); var elem=this.plotElem; var Plotly=this.Plotly; args.unshift(elem); return Plotly[fn].apply(this,args)})\"]},\"systemjs_options\":null,\"mount_callbacks\":[\"function () {\\n    var handler = ((function (Plotly,PlotlyWebIO){PlotlyWebIO.init(WebIO); var gd=this.dom.querySelector(\\\"#plot-4c7bb107-af78-44af-9ac2-b231a008f9cb\\\"); this.plotElem=gd; this.Plotly=Plotly; (window.Blink!==undefined) ? (gd.style.width=\\\"100%\\\", gd.style.height=\\\"100vh\\\", gd.style.marginLeft=\\\"0%\\\", gd.style.marginTop=\\\"0vh\\\") : undefined; window.onresize=(function (){return Plotly.Plots.resize(gd)}); Plotly.newPlot(gd,[{\\\"showlegend\\\":true,\\\"mode\\\":\\\"markers\\\",\\\"xaxis\\\":\\\"x\\\",\\\"x\\\":[60.18259938620976,79.0327360507101,61.10666453684766,75.02474556738889,76.09878670226257,84.43281996120035,82.30705337399482,69.36458875970939,53.9710521485623,69.07014406283025,70.66150955499435,76.97878372747498,89.6767757507208,77.9240914545704,62.27101367004632,80.1901807509566,61.379289447425,85.40451939411645,52.04540476831827,64.17698887494485,83.90239366249155,94.44336776917852,77.19303492601364,97.77159928000232,62.07306379667647,91.56497449807442,79.94481794066932,99.2725269292572,90.54671411399852,97.64563396007767,74.24869136721598,71.7964620586338,75.3956114656803,40.45755098375164,80.27957401466998,66.74671856944039,64.0393204150601,72.34649422579923,60.45788573918959,58.84095621726802,99.82785779692128,47.26426910848174,50.45815980285988,88.9138964166533,94.83450672430196,67.31925746917527,57.23870631569862,80.36675600171273,68.46852178591112,75.47770200533905,78.63542434898018,94.09433112516793,90.44855097096364,74.49269241843041,89.84580670720979,83.48916274498238,42.2617008099817,99.31500880510394,55.34001756003703,74.77589300092767],\\\"y\\\":[86.30855209546826,75.3443764369103,96.51142588489624,46.55401354116538,87.42056971926803,43.53339331072109,76.48196330235604,97.71869196188608,89.20735013750205,52.74046973016765,92.92713789364831,47.57596364975532,65.79936592745237,68.9723599933059,69.95445795447587,44.82162893218353,72.80788731317097,57.05198397627122,69.43286012045222,80.90806058670817,56.30804621605327,65.56892160559052,70.45820000180959,86.7278223300282,96.76882412413983,88.696292545466,74.16311935043758,60.99903099844988,43.39060180650027,68.86157272420604,69.82457122657193,78.45356224515052,85.75993667331619,97.53518548909936,92.11606081344084,60.99139402740988,78.03168802018232,96.22759296761404,73.09499809758037,75.85844831279042,72.36925193383885,88.47586499559782,75.80985952982456,69.80378889835472,45.69430680250754,66.58935317747915,59.51428198012956,90.96014789746954,85.59430710452014,90.42453899753964,96.64742716885644,77.15910509073893,87.50879176484702,84.84513684930135,45.35828361091658,48.38028579728175,87.10385094025457,68.77540947206617,64.9319380069486,89.52981289513276],\\\"type\\\":\\\"scatter\\\",\\\"name\\\":\\\"Admitted\\\",\\\"yaxis\\\":\\\"y\\\",\\\"legendgroup\\\":\\\"Admitted\\\",\\\"marker\\\":{\\\"color\\\":\\\"#EF553B\\\",\\\"line\\\":{\\\"color\\\":\\\"DarkSlateGrey\\\",\\\"width\\\":2},\\\"size\\\":10}},{\\\"showlegend\\\":true,\\\"mode\\\":\\\"markers\\\",\\\"xaxis\\\":\\\"x\\\",\\\"x\\\":[34.62365962451697,30.28671076822607,35.84740876993872,45.08327747668339,95.86155507093572,75.01365838958247,39.53833914367223,67.94685547711617,67.37202754570876,50.534788289883,34.21206097786789,93.114388797442,61.83020602312595,38.78580379679423,52.10797973193984,40.23689373545111,54.63510555424817,33.91550010906887,74.78925295941542,34.1836400264419,51.54772026906181,82.36875375713919,51.04775177128865,62.22267576120188,34.52451385320009,50.2864961189907,49.58667721632031,32.57720016809309,35.28611281526193,56.25381749711624,30.05882244669796,44.66826172480893,66.56089447242954,49.07256321908844,32.72283304060323,60.45555629271532,82.22666157785568,42.0754545384731,52.34800398794107,55.48216114069585],\\\"y\\\":[78.0246928153624,43.89499752400101,72.90219802708364,56.3163717815305,38.22527805795094,30.60326323428011,76.03681085115882,46.67857410673128,42.83843832029179,48.85581152764205,44.20952859866288,38.80067033713209,50.25610789244621,64.99568095539578,63.12762376881715,71.16774802184875,52.21388588061123,98.86943574220611,41.57341522824434,75.2377203360134,46.85629026349976,40.61825515970618,45.82270145776001,52.06099194836679,60.39634245837173,49.80453881323059,59.80895099453265,95.59854761387875,47.02051394723416,39.26147251058019,49.59297386723685,66.45008614558913,41.09209807936973,51.88321182073966,43.30717306430063,42.50840943572217,42.71987853716458,78.84478600148043,60.76950525602592,35.57070347228866],\\\"type\\\":\\\"scatter\\\",\\\"name\\\":\\\"Not Admitted\\\",\\\"yaxis\\\":\\\"y\\\",\\\"legendgroup\\\":\\\"Not Admitted\\\",\\\"marker\\\":{\\\"color\\\":\\\"#636efa\\\",\\\"line\\\":{\\\"color\\\":\\\"DarkSlateGrey\\\",\\\"width\\\":2},\\\"size\\\":10}}],{\\\"xaxis\\\":{\\\"title\\\":{\\\"text\\\":\\\"Exam 1 Score\\\"}},\\\"template\\\":{\\\"layout\\\":{\\\"coloraxis\\\":{\\\"colorbar\\\":{\\\"ticks\\\":\\\"\\\",\\\"outlinewidth\\\":0}},\\\"xaxis\\\":{\\\"gridcolor\\\":\\\"white\\\",\\\"zerolinewidth\\\":2,\\\"title\\\":{\\\"standoff\\\":15},\\\"ticks\\\":\\\"\\\",\\\"zerolinecolor\\\":\\\"white\\\",\\\"automargin\\\":true,\\\"linecolor\\\":\\\"white\\\"},\\\"hovermode\\\":\\\"closest\\\",\\\"paper_bgcolor\\\":\\\"white\\\",\\\"geo\\\":{\\\"showlakes\\\":true,\\\"showland\\\":true,\\\"landcolor\\\":\\\"#E5ECF6\\\",\\\"bgcolor\\\":\\\"white\\\",\\\"subunitcolor\\\":\\\"white\\\",\\\"lakecolor\\\":\\\"white\\\"},\\\"colorscale\\\":{\\\"sequential\\\":[[0.0,\\\"#0d0887\\\"],[0.1111111111111111,\\\"#46039f\\\"],[0.2222222222222222,\\\"#7201a8\\\"],[0.3333333333333333,\\\"#9c179e\\\"],[0.4444444444444444,\\\"#bd3786\\\"],[0.5555555555555556,\\\"#d8576b\\\"],[0.6666666666666666,\\\"#ed7953\\\"],[0.7777777777777778,\\\"#fb9f3a\\\"],[0.8888888888888888,\\\"#fdca26\\\"],[1.0,\\\"#f0f921\\\"]],\\\"diverging\\\":[[0,\\\"#8e0152\\\"],[0.1,\\\"#c51b7d\\\"],[0.2,\\\"#de77ae\\\"],[0.3,\\\"#f1b6da\\\"],[0.4,\\\"#fde0ef\\\"],[0.5,\\\"#f7f7f7\\\"],[0.6,\\\"#e6f5d0\\\"],[0.7,\\\"#b8e186\\\"],[0.8,\\\"#7fbc41\\\"],[0.9,\\\"#4d9221\\\"],[1,\\\"#276419\\\"]],\\\"sequentialminus\\\":[[0.0,\\\"#0d0887\\\"],[0.1111111111111111,\\\"#46039f\\\"],[0.2222222222222222,\\\"#7201a8\\\"],[0.3333333333333333,\\\"#9c179e\\\"],[0.4444444444444444,\\\"#bd3786\\\"],[0.5555555555555556,\\\"#d8576b\\\"],[0.6666666666666666,\\\"#ed7953\\\"],[0.7777777777777778,\\\"#fb9f3a\\\"],[0.8888888888888888,\\\"#fdca26\\\"],[1.0,\\\"#f0f921\\\"]]},\\\"yaxis\\\":{\\\"gridcolor\\\":\\\"white\\\",\\\"zerolinewidth\\\":2,\\\"title\\\":{\\\"standoff\\\":15},\\\"ticks\\\":\\\"\\\",\\\"zerolinecolor\\\":\\\"white\\\",\\\"automargin\\\":true,\\\"linecolor\\\":\\\"white\\\"},\\\"shapedefaults\\\":{\\\"line\\\":{\\\"color\\\":\\\"#2a3f5f\\\"}},\\\"hoverlabel\\\":{\\\"align\\\":\\\"left\\\"},\\\"mapbox\\\":{\\\"style\\\":\\\"light\\\"},\\\"polar\\\":{\\\"angularaxis\\\":{\\\"gridcolor\\\":\\\"white\\\",\\\"ticks\\\":\\\"\\\",\\\"linecolor\\\":\\\"white\\\"},\\\"bgcolor\\\":\\\"#E5ECF6\\\",\\\"radialaxis\\\":{\\\"gridcolor\\\":\\\"white\\\",\\\"ticks\\\":\\\"\\\",\\\"linecolor\\\":\\\"white\\\"}},\\\"autotypenumbers\\\":\\\"strict\\\",\\\"font\\\":{\\\"color\\\":\\\"#2a3f5f\\\"},\\\"ternary\\\":{\\\"baxis\\\":{\\\"gridcolor\\\":\\\"white\\\",\\\"ticks\\\":\\\"\\\",\\\"linecolor\\\":\\\"white\\\"},\\\"bgcolor\\\":\\\"#E5ECF6\\\",\\\"caxis\\\":{\\\"gridcolor\\\":\\\"white\\\",\\\"ticks\\\":\\\"\\\",\\\"linecolor\\\":\\\"white\\\"},\\\"aaxis\\\":{\\\"gridcolor\\\":\\\"white\\\",\\\"ticks\\\":\\\"\\\",\\\"linecolor\\\":\\\"white\\\"}},\\\"annotationdefaults\\\":{\\\"arrowhead\\\":0,\\\"arrowwidth\\\":1,\\\"arrowcolor\\\":\\\"#2a3f5f\\\"},\\\"plot_bgcolor\\\":\\\"#E5ECF6\\\",\\\"title\\\":{\\\"x\\\":0.05},\\\"scene\\\":{\\\"xaxis\\\":{\\\"gridcolor\\\":\\\"white\\\",\\\"gridwidth\\\":2,\\\"backgroundcolor\\\":\\\"#E5ECF6\\\",\\\"ticks\\\":\\\"\\\",\\\"showbackground\\\":true,\\\"zerolinecolor\\\":\\\"white\\\",\\\"linecolor\\\":\\\"white\\\"},\\\"zaxis\\\":{\\\"gridcolor\\\":\\\"white\\\",\\\"gridwidth\\\":2,\\\"backgroundcolor\\\":\\\"#E5ECF6\\\",\\\"ticks\\\":\\\"\\\",\\\"showbackground\\\":true,\\\"zerolinecolor\\\":\\\"white\\\",\\\"linecolor\\\":\\\"white\\\"},\\\"yaxis\\\":{\\\"gridcolor\\\":\\\"white\\\",\\\"gridwidth\\\":2,\\\"backgroundcolor\\\":\\\"#E5ECF6\\\",\\\"ticks\\\":\\\"\\\",\\\"showbackground\\\":true,\\\"zerolinecolor\\\":\\\"white\\\",\\\"linecolor\\\":\\\"white\\\"}},\\\"colorway\\\":[\\\"#636efa\\\",\\\"#EF553B\\\",\\\"#00cc96\\\",\\\"#ab63fa\\\",\\\"#FFA15A\\\",\\\"#19d3f3\\\",\\\"#FF6692\\\",\\\"#B6E880\\\",\\\"#FF97FF\\\",\\\"#FECB52\\\"]},\\\"data\\\":{\\\"barpolar\\\":[{\\\"type\\\":\\\"barpolar\\\",\\\"marker\\\":{\\\"line\\\":{\\\"color\\\":\\\"#E5ECF6\\\",\\\"width\\\":0.5}}}],\\\"carpet\\\":[{\\\"aaxis\\\":{\\\"gridcolor\\\":\\\"white\\\",\\\"endlinecolor\\\":\\\"#2a3f5f\\\",\\\"minorgridcolor\\\":\\\"white\\\",\\\"startlinecolor\\\":\\\"#2a3f5f\\\",\\\"linecolor\\\":\\\"white\\\"},\\\"type\\\":\\\"carpet\\\",\\\"baxis\\\":{\\\"gridcolor\\\":\\\"white\\\",\\\"endlinecolor\\\":\\\"#2a3f5f\\\",\\\"minorgridcolor\\\":\\\"white\\\",\\\"startlinecolor\\\":\\\"#2a3f5f\\\",\\\"linecolor\\\":\\\"white\\\"}}],\\\"scatterpolar\\\":[{\\\"type\\\":\\\"scatterpolar\\\",\\\"marker\\\":{\\\"colorbar\\\":{\\\"ticks\\\":\\\"\\\",\\\"outlinewidth\\\":0}}}],\\\"parcoords\\\":[{\\\"line\\\":{\\\"colorbar\\\":{\\\"ticks\\\":\\\"\\\",\\\"outlinewidth\\\":0}},\\\"type\\\":\\\"parcoords\\\"}],\\\"scatter\\\":[{\\\"type\\\":\\\"scatter\\\",\\\"marker\\\":{\\\"colorbar\\\":{\\\"ticks\\\":\\\"\\\",\\\"outlinewidth\\\":0}}}],\\\"histogram2dcontour\\\":[{\\\"colorbar\\\":{\\\"ticks\\\":\\\"\\\",\\\"outlinewidth\\\":0},\\\"type\\\":\\\"histogram2dcontour\\\",\\\"colorscale\\\":[[0.0,\\\"#0d0887\\\"],[0.1111111111111111,\\\"#46039f\\\"],[0.2222222222222222,\\\"#7201a8\\\"],[0.3333333333333333,\\\"#9c179e\\\"],[0.4444444444444444,\\\"#bd3786\\\"],[0.5555555555555556,\\\"#d8576b\\\"],[0.6666666666666666,\\\"#ed7953\\\"],[0.7777777777777778,\\\"#fb9f3a\\\"],[0.8888888888888888,\\\"#fdca26\\\"],[1.0,\\\"#f0f921\\\"]]}],\\\"contour\\\":[{\\\"colorbar\\\":{\\\"ticks\\\":\\\"\\\",\\\"outlinewidth\\\":0},\\\"type\\\":\\\"contour\\\",\\\"colorscale\\\":[[0.0,\\\"#0d0887\\\"],[0.1111111111111111,\\\"#46039f\\\"],[0.2222222222222222,\\\"#7201a8\\\"],[0.3333333333333333,\\\"#9c179e\\\"],[0.4444444444444444,\\\"#bd3786\\\"],[0.5555555555555556,\\\"#d8576b\\\"],[0.6666666666666666,\\\"#ed7953\\\"],[0.7777777777777778,\\\"#fb9f3a\\\"],[0.8888888888888888,\\\"#fdca26\\\"],[1.0,\\\"#f0f921\\\"]]}],\\\"scattercarpet\\\":[{\\\"type\\\":\\\"scattercarpet\\\",\\\"marker\\\":{\\\"colorbar\\\":{\\\"ticks\\\":\\\"\\\",\\\"outlinewidth\\\":0}}}],\\\"mesh3d\\\":[{\\\"colorbar\\\":{\\\"ticks\\\":\\\"\\\",\\\"outlinewidth\\\":0},\\\"type\\\":\\\"mesh3d\\\"}],\\\"surface\\\":[{\\\"colorbar\\\":{\\\"ticks\\\":\\\"\\\",\\\"outlinewidth\\\":0},\\\"type\\\":\\\"surface\\\",\\\"colorscale\\\":[[0.0,\\\"#0d0887\\\"],[0.1111111111111111,\\\"#46039f\\\"],[0.2222222222222222,\\\"#7201a8\\\"],[0.3333333333333333,\\\"#9c179e\\\"],[0.4444444444444444,\\\"#bd3786\\\"],[0.5555555555555556,\\\"#d8576b\\\"],[0.6666666666666666,\\\"#ed7953\\\"],[0.7777777777777778,\\\"#fb9f3a\\\"],[0.8888888888888888,\\\"#fdca26\\\"],[1.0,\\\"#f0f921\\\"]]}],\\\"scattermapbox\\\":[{\\\"type\\\":\\\"scattermapbox\\\",\\\"marker\\\":{\\\"colorbar\\\":{\\\"ticks\\\":\\\"\\\",\\\"outlinewidth\\\":0}}}],\\\"scattergeo\\\":[{\\\"type\\\":\\\"scattergeo\\\",\\\"marker\\\":{\\\"colorbar\\\":{\\\"ticks\\\":\\\"\\\",\\\"outlinewidth\\\":0}}}],\\\"histogram\\\":[{\\\"type\\\":\\\"histogram\\\",\\\"marker\\\":{\\\"colorbar\\\":{\\\"ticks\\\":\\\"\\\",\\\"outlinewidth\\\":0}}}],\\\"pie\\\":[{\\\"type\\\":\\\"pie\\\",\\\"automargin\\\":true}],\\\"choropleth\\\":[{\\\"colorbar\\\":{\\\"ticks\\\":\\\"\\\",\\\"outlinewidth\\\":0},\\\"type\\\":\\\"choropleth\\\"}],\\\"heatmapgl\\\":[{\\\"colorbar\\\":{\\\"ticks\\\":\\\"\\\",\\\"outlinewidth\\\":0},\\\"type\\\":\\\"heatmapgl\\\",\\\"colorscale\\\":[[0.0,\\\"#0d0887\\\"],[0.1111111111111111,\\\"#46039f\\\"],[0.2222222222222222,\\\"#7201a8\\\"],[0.3333333333333333,\\\"#9c179e\\\"],[0.4444444444444444,\\\"#bd3786\\\"],[0.5555555555555556,\\\"#d8576b\\\"],[0.6666666666666666,\\\"#ed7953\\\"],[0.7777777777777778,\\\"#fb9f3a\\\"],[0.8888888888888888,\\\"#fdca26\\\"],[1.0,\\\"#f0f921\\\"]]}],\\\"bar\\\":[{\\\"type\\\":\\\"bar\\\",\\\"error_y\\\":{\\\"color\\\":\\\"#2a3f5f\\\"},\\\"error_x\\\":{\\\"color\\\":\\\"#2a3f5f\\\"},\\\"marker\\\":{\\\"line\\\":{\\\"color\\\":\\\"#E5ECF6\\\",\\\"width\\\":0.5}}}],\\\"heatmap\\\":[{\\\"colorbar\\\":{\\\"ticks\\\":\\\"\\\",\\\"outlinewidth\\\":0},\\\"type\\\":\\\"heatmap\\\",\\\"colorscale\\\":[[0.0,\\\"#0d0887\\\"],[0.1111111111111111,\\\"#46039f\\\"],[0.2222222222222222,\\\"#7201a8\\\"],[0.3333333333333333,\\\"#9c179e\\\"],[0.4444444444444444,\\\"#bd3786\\\"],[0.5555555555555556,\\\"#d8576b\\\"],[0.6666666666666666,\\\"#ed7953\\\"],[0.7777777777777778,\\\"#fb9f3a\\\"],[0.8888888888888888,\\\"#fdca26\\\"],[1.0,\\\"#f0f921\\\"]]}],\\\"contourcarpet\\\":[{\\\"colorbar\\\":{\\\"ticks\\\":\\\"\\\",\\\"outlinewidth\\\":0},\\\"type\\\":\\\"contourcarpet\\\"}],\\\"table\\\":[{\\\"type\\\":\\\"table\\\",\\\"header\\\":{\\\"line\\\":{\\\"color\\\":\\\"white\\\"},\\\"fill\\\":{\\\"color\\\":\\\"#C8D4E3\\\"}},\\\"cells\\\":{\\\"line\\\":{\\\"color\\\":\\\"white\\\"},\\\"fill\\\":{\\\"color\\\":\\\"#EBF0F8\\\"}}}],\\\"scatter3d\\\":[{\\\"line\\\":{\\\"colorbar\\\":{\\\"ticks\\\":\\\"\\\",\\\"outlinewidth\\\":0}},\\\"type\\\":\\\"scatter3d\\\",\\\"marker\\\":{\\\"colorbar\\\":{\\\"ticks\\\":\\\"\\\",\\\"outlinewidth\\\":0}}}],\\\"scattergl\\\":[{\\\"type\\\":\\\"scattergl\\\",\\\"marker\\\":{\\\"colorbar\\\":{\\\"ticks\\\":\\\"\\\",\\\"outlinewidth\\\":0}}}],\\\"histogram2d\\\":[{\\\"colorbar\\\":{\\\"ticks\\\":\\\"\\\",\\\"outlinewidth\\\":0},\\\"type\\\":\\\"histogram2d\\\",\\\"colorscale\\\":[[0.0,\\\"#0d0887\\\"],[0.1111111111111111,\\\"#46039f\\\"],[0.2222222222222222,\\\"#7201a8\\\"],[0.3333333333333333,\\\"#9c179e\\\"],[0.4444444444444444,\\\"#bd3786\\\"],[0.5555555555555556,\\\"#d8576b\\\"],[0.6666666666666666,\\\"#ed7953\\\"],[0.7777777777777778,\\\"#fb9f3a\\\"],[0.8888888888888888,\\\"#fdca26\\\"],[1.0,\\\"#f0f921\\\"]]}],\\\"scatterternary\\\":[{\\\"type\\\":\\\"scatterternary\\\",\\\"marker\\\":{\\\"colorbar\\\":{\\\"ticks\\\":\\\"\\\",\\\"outlinewidth\\\":0}}}],\\\"scatterpolargl\\\":[{\\\"type\\\":\\\"scatterpolargl\\\",\\\"marker\\\":{\\\"colorbar\\\":{\\\"ticks\\\":\\\"\\\",\\\"outlinewidth\\\":0}}}]}},\\\"legend\\\":{\\\"tracegroupgap\\\":0,\\\"title\\\":{\\\"text\\\":\\\"status\\\"}},\\\"margin\\\":{\\\"l\\\":50,\\\"b\\\":50,\\\"r\\\":50,\\\"t\\\":60},\\\"title\\\":\\\"Scatter plot of training data - Admission Decision based on the scores from those two exams.\\\",\\\"yaxis\\\":{\\\"title\\\":{\\\"text\\\":\\\"Exam 2 Score\\\"}}},{\\\"showLink\\\":false,\\\"editable\\\":false,\\\"responsive\\\":true,\\\"staticPlot\\\":false,\\\"scrollZoom\\\":true}); gd.on(\\\"plotly_hover\\\",(function (data){var filtered_data=WebIO.PlotlyCommands.filterEventData(gd,data,\\\"hover\\\"); return !(filtered_data.isnil) ? (WebIO.setval({\\\"name\\\":\\\"hover\\\",\\\"scope\\\":\\\"18351340665499068989\\\",\\\"id\\\":\\\"16357903617408137803\\\",\\\"type\\\":\\\"observable\\\"},filtered_data.out)) : undefined})); gd.on(\\\"plotly_unhover\\\",(function (){return WebIO.setval({\\\"name\\\":\\\"hover\\\",\\\"scope\\\":\\\"18351340665499068989\\\",\\\"id\\\":\\\"16357903617408137803\\\",\\\"type\\\":\\\"observable\\\"},{})})); gd.on(\\\"plotly_selected\\\",(function (data){var filtered_data=WebIO.PlotlyCommands.filterEventData(gd,data,\\\"selected\\\"); return !(filtered_data.isnil) ? (WebIO.setval({\\\"name\\\":\\\"selected\\\",\\\"scope\\\":\\\"18351340665499068989\\\",\\\"id\\\":\\\"4294328066401009037\\\",\\\"type\\\":\\\"observable\\\"},filtered_data.out)) : undefined})); gd.on(\\\"plotly_deselect\\\",(function (){return WebIO.setval({\\\"name\\\":\\\"selected\\\",\\\"scope\\\":\\\"18351340665499068989\\\",\\\"id\\\":\\\"4294328066401009037\\\",\\\"type\\\":\\\"observable\\\"},{})})); gd.on(\\\"plotly_relayout\\\",(function (data){var filtered_data=WebIO.PlotlyCommands.filterEventData(gd,data,\\\"relayout\\\"); return !(filtered_data.isnil) ? (WebIO.setval({\\\"name\\\":\\\"relayout\\\",\\\"scope\\\":\\\"18351340665499068989\\\",\\\"id\\\":\\\"29823753822496154\\\",\\\"type\\\":\\\"observable\\\"},filtered_data.out)) : undefined})); return gd.on(\\\"plotly_click\\\",(function (data){var filtered_data=WebIO.PlotlyCommands.filterEventData(gd,data,\\\"click\\\"); return !(filtered_data.isnil) ? (WebIO.setval({\\\"name\\\":\\\"click\\\",\\\"scope\\\":\\\"18351340665499068989\\\",\\\"id\\\":\\\"236226213430945841\\\",\\\"type\\\":\\\"observable\\\"},filtered_data.out)) : undefined}))}));\\n    (WebIO.importBlock({\\\"data\\\":[{\\\"name\\\":\\\"Plotly\\\",\\\"type\\\":\\\"js\\\",\\\"url\\\":\\\"\\/assetserver\\/c1ceafbb88f71e36d0668c9d7a58ed90cde4cd06-plotly.min.js\\\"},{\\\"name\\\":null,\\\"type\\\":\\\"js\\\",\\\"url\\\":\\\"\\/assetserver\\/4c539090c3e5a185e20c539d3b31979e04872767-plotly_webio.bundle.js\\\"}],\\\"type\\\":\\\"async_block\\\"})).then((imports) => handler.apply(this, imports));\\n}\\n\"],\"observables\":{\"_toImage\":{\"sync\":false,\"id\":\"16558914394115151832\",\"value\":{}},\"hover\":{\"sync\":false,\"id\":\"16357903617408137803\",\"value\":{}},\"selected\":{\"sync\":false,\"id\":\"4294328066401009037\",\"value\":{}},\"__gd_contents\":{\"sync\":false,\"id\":\"10201090722543998462\",\"value\":{}},\"click\":{\"sync\":false,\"id\":\"236226213430945841\",\"value\":{}},\"image\":{\"sync\":true,\"id\":\"11722788904556878588\",\"value\":\"\"},\"__get_gd_contents\":{\"sync\":false,\"id\":\"3509917787674942825\",\"value\":\"\"},\"_downloadImage\":{\"sync\":false,\"id\":\"17737858043113645921\",\"value\":{}},\"relayout\":{\"sync\":false,\"id\":\"29823753822496154\",\"value\":{}},\"_commands\":{\"sync\":false,\"id\":\"6239047000753902871\",\"value\":[]}}},\"children\":[{\"props\":{\"id\":\"plot-4c7bb107-af78-44af-9ac2-b231a008f9cb\"},\"nodeType\":\"DOM\",\"type\":\"node\",\"instanceArgs\":{\"namespace\":\"html\",\"tag\":\"div\"},\"children\":[]}]},\n",
       "        window,\n",
       "    );\n",
       "    })()\n",
       "    </script>\n",
       "</div>\n"
      ],
      "text/plain": [
       "data: [\n",
       "  \"scatter with fields legendgroup, marker, mode, name, showlegend, type, x, xaxis, y, and yaxis\",\n",
       "  \"scatter with fields legendgroup, marker, mode, name, showlegend, type, x, xaxis, y, and yaxis\"\n",
       "]\n",
       "\n",
       "layout: \"layout with fields legend, margin, template, title, xaxis, and yaxis\"\n",
       "\n"
      ]
     },
     "execution_count": 12,
     "metadata": {},
     "output_type": "execute_result"
    }
   ],
   "source": [
    "exam_score_scatter_pl = PlotlyJS.plot(\n",
    "    data, \n",
    "    x=:exam1score, \n",
    "    y=:exam2score, \n",
    "    color=:status,\n",
    "    kind=\"scatter\",\n",
    "    mode=\"markers\",\n",
    "    labels=Dict(\n",
    "        :exam1score => \"Exam 1 Score\",\n",
    "        :exam2score => \"Exam 2 Score\",\n",
    "        :decision => \"Admission Decision\"\n",
    "    ),\n",
    "    Layout(\n",
    "        title=\"Scatter plot of training data - Admission Decision based on the scores from those two exams.\"\n",
    "    ),\n",
    "    marker=attr(size=10, line=attr(width=2, color=\"DarkSlateGrey\")),\n",
    "    \n",
    ")\n",
    "\n"
   ]
  },
  {
   "cell_type": "code",
   "execution_count": 477,
   "id": "a80cecb6",
   "metadata": {},
   "outputs": [
    {
     "data": {
      "text/plain": [
       "sigmoid (generic function with 1 method)"
      ]
     },
     "execution_count": 477,
     "metadata": {},
     "output_type": "execute_result"
    }
   ],
   "source": [
    "# define sigmoid function\n",
    "sigmoid(z::Real) = one(z) / (one(z) + exp(-z))"
   ]
  },
  {
   "cell_type": "code",
   "execution_count": 478,
   "id": "b70adf9b",
   "metadata": {},
   "outputs": [
    {
     "data": {
      "text/plain": [
       "0.5"
      ]
     },
     "execution_count": 478,
     "metadata": {},
     "output_type": "execute_result"
    }
   ],
   "source": [
    "sigmoid(0)"
   ]
  },
  {
   "cell_type": "code",
   "execution_count": 479,
   "id": "cf03c5f8",
   "metadata": {},
   "outputs": [
    {
     "data": {
      "text/plain": [
       "3-element Vector{Int64}:\n",
       " -10\n",
       "   0\n",
       "  10"
      ]
     },
     "execution_count": 479,
     "metadata": {},
     "output_type": "execute_result"
    }
   ],
   "source": [
    "v = [-10, 0, 10]"
   ]
  },
  {
   "cell_type": "code",
   "execution_count": 480,
   "id": "8eeddc7d",
   "metadata": {},
   "outputs": [
    {
     "data": {
      "text/plain": [
       "3-element Vector{Float64}:\n",
       " 4.5397868702434395e-5\n",
       " 0.5\n",
       " 0.9999546021312976"
      ]
     },
     "execution_count": 480,
     "metadata": {},
     "output_type": "execute_result"
    }
   ],
   "source": [
    "#Sigmoid code should also work with vectors and matrices. \n",
    "# For a matrix, our function should perform the sigmoid function \n",
    "# on every element.\n",
    "\n",
    "# Instead of defining sigmoid(z::Array) define sigmoid(z::Real) and \n",
    "# then use broadcasting to apply it to the elements of an array: \n",
    "# sigmoid.(z) (note the dot, which indicates broadcasting)\n",
    "\n",
    "# Any Julia function f can be applied elementwise to any array \n",
    "# (or other collection) with the syntax f.(A). \n",
    "# For example, sin can be applied to all elements in the vector A like so: sin.(A).\n",
    "\n",
    "sigmoid.(v)"
   ]
  },
  {
   "cell_type": "code",
   "execution_count": 481,
   "id": "ab8dec65",
   "metadata": {},
   "outputs": [
    {
     "data": {
      "text/plain": [
       "3×3 Matrix{Float64}:\n",
       " 4.53979e-5  0.5         0.999955\n",
       " 0.5         2.06115e-9  2.06115e-9\n",
       " 0.952574    0.999089    0.5"
      ]
     },
     "execution_count": 481,
     "metadata": {},
     "output_type": "execute_result"
    }
   ],
   "source": [
    "A = [-10 0 10; \n",
    "    0 -20 -20;\n",
    "    3 7 0]\n",
    "\n",
    "sigmoid.(A)"
   ]
  },
  {
   "cell_type": "code",
   "execution_count": 482,
   "id": "957550bf",
   "metadata": {},
   "outputs": [
    {
     "data": {
      "image/svg+xml": [
       "<?xml version=\"1.0\" encoding=\"utf-8\"?>\n",
       "<svg xmlns=\"http://www.w3.org/2000/svg\" xmlns:xlink=\"http://www.w3.org/1999/xlink\" width=\"600\" height=\"400\" viewBox=\"0 0 2400 1600\">\n",
       "<defs>\n",
       "  <clipPath id=\"clip390\">\n",
       "    <rect x=\"0\" y=\"0\" width=\"2400\" height=\"1600\"/>\n",
       "  </clipPath>\n",
       "</defs>\n",
       "<path clip-path=\"url(#clip390)\" d=\"\n",
       "M0 1600 L2400 1600 L2400 0 L0 0  Z\n",
       "  \" fill=\"#ffffff\" fill-rule=\"evenodd\" fill-opacity=\"1\"/>\n",
       "<defs>\n",
       "  <clipPath id=\"clip391\">\n",
       "    <rect x=\"480\" y=\"0\" width=\"1681\" height=\"1600\"/>\n",
       "  </clipPath>\n",
       "</defs>\n",
       "<path clip-path=\"url(#clip390)\" d=\"\n",
       "M186.274 1486.45 L2352.76 1486.45 L2352.76 123.472 L186.274 123.472  Z\n",
       "  \" fill=\"#ffffff\" fill-rule=\"evenodd\" fill-opacity=\"1\"/>\n",
       "<defs>\n",
       "  <clipPath id=\"clip392\">\n",
       "    <rect x=\"186\" y=\"123\" width=\"2167\" height=\"1364\"/>\n",
       "  </clipPath>\n",
       "</defs>\n",
       "<polyline clip-path=\"url(#clip392)\" style=\"stroke:#000000; stroke-linecap:butt; stroke-linejoin:round; stroke-width:2; stroke-opacity:0.1; fill:none\" points=\"\n",
       "  247.59,1486.45 247.59,123.472 \n",
       "  \"/>\n",
       "<polyline clip-path=\"url(#clip392)\" style=\"stroke:#000000; stroke-linecap:butt; stroke-linejoin:round; stroke-width:2; stroke-opacity:0.1; fill:none\" points=\"\n",
       "  758.552,1486.45 758.552,123.472 \n",
       "  \"/>\n",
       "<polyline clip-path=\"url(#clip392)\" style=\"stroke:#000000; stroke-linecap:butt; stroke-linejoin:round; stroke-width:2; stroke-opacity:0.1; fill:none\" points=\"\n",
       "  1269.51,1486.45 1269.51,123.472 \n",
       "  \"/>\n",
       "<polyline clip-path=\"url(#clip392)\" style=\"stroke:#000000; stroke-linecap:butt; stroke-linejoin:round; stroke-width:2; stroke-opacity:0.1; fill:none\" points=\"\n",
       "  1780.48,1486.45 1780.48,123.472 \n",
       "  \"/>\n",
       "<polyline clip-path=\"url(#clip392)\" style=\"stroke:#000000; stroke-linecap:butt; stroke-linejoin:round; stroke-width:2; stroke-opacity:0.1; fill:none\" points=\"\n",
       "  2291.44,1486.45 2291.44,123.472 \n",
       "  \"/>\n",
       "<polyline clip-path=\"url(#clip390)\" style=\"stroke:#000000; stroke-linecap:butt; stroke-linejoin:round; stroke-width:4; stroke-opacity:1; fill:none\" points=\"\n",
       "  186.274,1486.45 2352.76,1486.45 \n",
       "  \"/>\n",
       "<polyline clip-path=\"url(#clip390)\" style=\"stroke:#000000; stroke-linecap:butt; stroke-linejoin:round; stroke-width:4; stroke-opacity:1; fill:none\" points=\"\n",
       "  247.59,1486.45 247.59,1467.55 \n",
       "  \"/>\n",
       "<polyline clip-path=\"url(#clip390)\" style=\"stroke:#000000; stroke-linecap:butt; stroke-linejoin:round; stroke-width:4; stroke-opacity:1; fill:none\" points=\"\n",
       "  758.552,1486.45 758.552,1467.55 \n",
       "  \"/>\n",
       "<polyline clip-path=\"url(#clip390)\" style=\"stroke:#000000; stroke-linecap:butt; stroke-linejoin:round; stroke-width:4; stroke-opacity:1; fill:none\" points=\"\n",
       "  1269.51,1486.45 1269.51,1467.55 \n",
       "  \"/>\n",
       "<polyline clip-path=\"url(#clip390)\" style=\"stroke:#000000; stroke-linecap:butt; stroke-linejoin:round; stroke-width:4; stroke-opacity:1; fill:none\" points=\"\n",
       "  1780.48,1486.45 1780.48,1467.55 \n",
       "  \"/>\n",
       "<polyline clip-path=\"url(#clip390)\" style=\"stroke:#000000; stroke-linecap:butt; stroke-linejoin:round; stroke-width:4; stroke-opacity:1; fill:none\" points=\"\n",
       "  2291.44,1486.45 2291.44,1467.55 \n",
       "  \"/>\n",
       "<path clip-path=\"url(#clip390)\" d=\"M201.652 1532.02 L231.328 1532.02 L231.328 1535.95 L201.652 1535.95 L201.652 1532.02 Z\" fill=\"#000000\" fill-rule=\"evenodd\" fill-opacity=\"1\" /><path clip-path=\"url(#clip390)\" d=\"M242.231 1544.91 L249.87 1544.91 L249.87 1518.55 L241.559 1520.21 L241.559 1515.95 L249.823 1514.29 L254.499 1514.29 L254.499 1544.91 L262.138 1544.91 L262.138 1548.85 L242.231 1548.85 L242.231 1544.91 Z\" fill=\"#000000\" fill-rule=\"evenodd\" fill-opacity=\"1\" /><path clip-path=\"url(#clip390)\" d=\"M281.582 1517.37 Q277.971 1517.37 276.143 1520.93 Q274.337 1524.47 274.337 1531.6 Q274.337 1538.71 276.143 1542.27 Q277.971 1545.82 281.582 1545.82 Q285.217 1545.82 287.022 1542.27 Q288.851 1538.71 288.851 1531.6 Q288.851 1524.47 287.022 1520.93 Q285.217 1517.37 281.582 1517.37 M281.582 1513.66 Q287.393 1513.66 290.448 1518.27 Q293.527 1522.85 293.527 1531.6 Q293.527 1540.33 290.448 1544.94 Q287.393 1549.52 281.582 1549.52 Q275.772 1549.52 272.694 1544.94 Q269.638 1540.33 269.638 1531.6 Q269.638 1522.85 272.694 1518.27 Q275.772 1513.66 281.582 1513.66 Z\" fill=\"#000000\" fill-rule=\"evenodd\" fill-opacity=\"1\" /><path clip-path=\"url(#clip390)\" d=\"M728.194 1532.02 L757.869 1532.02 L757.869 1535.95 L728.194 1535.95 L728.194 1532.02 Z\" fill=\"#000000\" fill-rule=\"evenodd\" fill-opacity=\"1\" /><path clip-path=\"url(#clip390)\" d=\"M768.008 1514.29 L786.365 1514.29 L786.365 1518.22 L772.291 1518.22 L772.291 1526.7 Q773.309 1526.35 774.328 1526.19 Q775.346 1526 776.365 1526 Q782.152 1526 785.531 1529.17 Q788.911 1532.34 788.911 1537.76 Q788.911 1543.34 785.439 1546.44 Q781.966 1549.52 775.647 1549.52 Q773.471 1549.52 771.203 1549.15 Q768.957 1548.78 766.55 1548.04 L766.55 1543.34 Q768.633 1544.47 770.855 1545.03 Q773.078 1545.58 775.554 1545.58 Q779.559 1545.58 781.897 1543.48 Q784.235 1541.37 784.235 1537.76 Q784.235 1534.15 781.897 1532.04 Q779.559 1529.94 775.554 1529.94 Q773.679 1529.94 771.804 1530.35 Q769.953 1530.77 768.008 1531.65 L768.008 1514.29 Z\" fill=\"#000000\" fill-rule=\"evenodd\" fill-opacity=\"1\" /><path clip-path=\"url(#clip390)\" d=\"M1269.51 1517.37 Q1265.9 1517.37 1264.08 1520.93 Q1262.27 1524.47 1262.27 1531.6 Q1262.27 1538.71 1264.08 1542.27 Q1265.9 1545.82 1269.51 1545.82 Q1273.15 1545.82 1274.95 1542.27 Q1276.78 1538.71 1276.78 1531.6 Q1276.78 1524.47 1274.95 1520.93 Q1273.15 1517.37 1269.51 1517.37 M1269.51 1513.66 Q1275.33 1513.66 1278.38 1518.27 Q1281.46 1522.85 1281.46 1531.6 Q1281.46 1540.33 1278.38 1544.94 Q1275.33 1549.52 1269.51 1549.52 Q1263.7 1549.52 1260.63 1544.94 Q1257.57 1540.33 1257.57 1531.6 Q1257.57 1522.85 1260.63 1518.27 Q1263.7 1513.66 1269.51 1513.66 Z\" fill=\"#000000\" fill-rule=\"evenodd\" fill-opacity=\"1\" /><path clip-path=\"url(#clip390)\" d=\"M1770.76 1514.29 L1789.11 1514.29 L1789.11 1518.22 L1775.04 1518.22 L1775.04 1526.7 Q1776.06 1526.35 1777.07 1526.19 Q1778.09 1526 1779.11 1526 Q1784.9 1526 1788.28 1529.17 Q1791.66 1532.34 1791.66 1537.76 Q1791.66 1543.34 1788.19 1546.44 Q1784.71 1549.52 1778.39 1549.52 Q1776.22 1549.52 1773.95 1549.15 Q1771.7 1548.78 1769.3 1548.04 L1769.3 1543.34 Q1771.38 1544.47 1773.6 1545.03 Q1775.82 1545.58 1778.3 1545.58 Q1782.31 1545.58 1784.64 1543.48 Q1786.98 1541.37 1786.98 1537.76 Q1786.98 1534.15 1784.64 1532.04 Q1782.31 1529.94 1778.3 1529.94 Q1776.43 1529.94 1774.55 1530.35 Q1772.7 1530.77 1770.76 1531.65 L1770.76 1514.29 Z\" fill=\"#000000\" fill-rule=\"evenodd\" fill-opacity=\"1\" /><path clip-path=\"url(#clip390)\" d=\"M2266.13 1544.91 L2273.77 1544.91 L2273.77 1518.55 L2265.46 1520.21 L2265.46 1515.95 L2273.72 1514.29 L2278.4 1514.29 L2278.4 1544.91 L2286.04 1544.91 L2286.04 1548.85 L2266.13 1548.85 L2266.13 1544.91 Z\" fill=\"#000000\" fill-rule=\"evenodd\" fill-opacity=\"1\" /><path clip-path=\"url(#clip390)\" d=\"M2305.48 1517.37 Q2301.87 1517.37 2300.04 1520.93 Q2298.23 1524.47 2298.23 1531.6 Q2298.23 1538.71 2300.04 1542.27 Q2301.87 1545.82 2305.48 1545.82 Q2309.11 1545.82 2310.92 1542.27 Q2312.75 1538.71 2312.75 1531.6 Q2312.75 1524.47 2310.92 1520.93 Q2309.11 1517.37 2305.48 1517.37 M2305.48 1513.66 Q2311.29 1513.66 2314.35 1518.27 Q2317.42 1522.85 2317.42 1531.6 Q2317.42 1540.33 2314.35 1544.94 Q2311.29 1549.52 2305.48 1549.52 Q2299.67 1549.52 2296.59 1544.94 Q2293.54 1540.33 2293.54 1531.6 Q2293.54 1522.85 2296.59 1518.27 Q2299.67 1513.66 2305.48 1513.66 Z\" fill=\"#000000\" fill-rule=\"evenodd\" fill-opacity=\"1\" /><polyline clip-path=\"url(#clip392)\" style=\"stroke:#000000; stroke-linecap:butt; stroke-linejoin:round; stroke-width:2; stroke-opacity:0.1; fill:none\" points=\"\n",
       "  186.274,1447.93 2352.76,1447.93 \n",
       "  \"/>\n",
       "<polyline clip-path=\"url(#clip392)\" style=\"stroke:#000000; stroke-linecap:butt; stroke-linejoin:round; stroke-width:2; stroke-opacity:0.1; fill:none\" points=\"\n",
       "  186.274,1126.45 2352.76,1126.45 \n",
       "  \"/>\n",
       "<polyline clip-path=\"url(#clip392)\" style=\"stroke:#000000; stroke-linecap:butt; stroke-linejoin:round; stroke-width:2; stroke-opacity:0.1; fill:none\" points=\"\n",
       "  186.274,804.96 2352.76,804.96 \n",
       "  \"/>\n",
       "<polyline clip-path=\"url(#clip392)\" style=\"stroke:#000000; stroke-linecap:butt; stroke-linejoin:round; stroke-width:2; stroke-opacity:0.1; fill:none\" points=\"\n",
       "  186.274,483.474 2352.76,483.474 \n",
       "  \"/>\n",
       "<polyline clip-path=\"url(#clip392)\" style=\"stroke:#000000; stroke-linecap:butt; stroke-linejoin:round; stroke-width:2; stroke-opacity:0.1; fill:none\" points=\"\n",
       "  186.274,161.989 2352.76,161.989 \n",
       "  \"/>\n",
       "<polyline clip-path=\"url(#clip390)\" style=\"stroke:#000000; stroke-linecap:butt; stroke-linejoin:round; stroke-width:4; stroke-opacity:1; fill:none\" points=\"\n",
       "  186.274,1486.45 186.274,123.472 \n",
       "  \"/>\n",
       "<polyline clip-path=\"url(#clip390)\" style=\"stroke:#000000; stroke-linecap:butt; stroke-linejoin:round; stroke-width:4; stroke-opacity:1; fill:none\" points=\"\n",
       "  186.274,1447.93 205.172,1447.93 \n",
       "  \"/>\n",
       "<polyline clip-path=\"url(#clip390)\" style=\"stroke:#000000; stroke-linecap:butt; stroke-linejoin:round; stroke-width:4; stroke-opacity:1; fill:none\" points=\"\n",
       "  186.274,1126.45 205.172,1126.45 \n",
       "  \"/>\n",
       "<polyline clip-path=\"url(#clip390)\" style=\"stroke:#000000; stroke-linecap:butt; stroke-linejoin:round; stroke-width:4; stroke-opacity:1; fill:none\" points=\"\n",
       "  186.274,804.96 205.172,804.96 \n",
       "  \"/>\n",
       "<polyline clip-path=\"url(#clip390)\" style=\"stroke:#000000; stroke-linecap:butt; stroke-linejoin:round; stroke-width:4; stroke-opacity:1; fill:none\" points=\"\n",
       "  186.274,483.474 205.172,483.474 \n",
       "  \"/>\n",
       "<polyline clip-path=\"url(#clip390)\" style=\"stroke:#000000; stroke-linecap:butt; stroke-linejoin:round; stroke-width:4; stroke-opacity:1; fill:none\" points=\"\n",
       "  186.274,161.989 205.172,161.989 \n",
       "  \"/>\n",
       "<path clip-path=\"url(#clip390)\" d=\"M62.9365 1433.73 Q59.3254 1433.73 57.4967 1437.29 Q55.6912 1440.84 55.6912 1447.97 Q55.6912 1455.07 57.4967 1458.64 Q59.3254 1462.18 62.9365 1462.18 Q66.5707 1462.18 68.3763 1458.64 Q70.205 1455.07 70.205 1447.97 Q70.205 1440.84 68.3763 1437.29 Q66.5707 1433.73 62.9365 1433.73 M62.9365 1430.03 Q68.7467 1430.03 71.8022 1434.63 Q74.8809 1439.22 74.8809 1447.97 Q74.8809 1456.69 71.8022 1461.3 Q68.7467 1465.88 62.9365 1465.88 Q57.1264 1465.88 54.0477 1461.3 Q50.9921 1456.69 50.9921 1447.97 Q50.9921 1439.22 54.0477 1434.63 Q57.1264 1430.03 62.9365 1430.03 Z\" fill=\"#000000\" fill-rule=\"evenodd\" fill-opacity=\"1\" /><path clip-path=\"url(#clip390)\" d=\"M83.0984 1459.33 L87.9827 1459.33 L87.9827 1465.21 L83.0984 1465.21 L83.0984 1459.33 Z\" fill=\"#000000\" fill-rule=\"evenodd\" fill-opacity=\"1\" /><path clip-path=\"url(#clip390)\" d=\"M108.168 1433.73 Q104.557 1433.73 102.728 1437.29 Q100.922 1440.84 100.922 1447.97 Q100.922 1455.07 102.728 1458.64 Q104.557 1462.18 108.168 1462.18 Q111.802 1462.18 113.608 1458.64 Q115.436 1455.07 115.436 1447.97 Q115.436 1440.84 113.608 1437.29 Q111.802 1433.73 108.168 1433.73 M108.168 1430.03 Q113.978 1430.03 117.033 1434.63 Q120.112 1439.22 120.112 1447.97 Q120.112 1456.69 117.033 1461.3 Q113.978 1465.88 108.168 1465.88 Q102.358 1465.88 99.2789 1461.3 Q96.2234 1456.69 96.2234 1447.97 Q96.2234 1439.22 99.2789 1434.63 Q102.358 1430.03 108.168 1430.03 Z\" fill=\"#000000\" fill-rule=\"evenodd\" fill-opacity=\"1\" /><path clip-path=\"url(#clip390)\" d=\"M138.33 1433.73 Q134.719 1433.73 132.89 1437.29 Q131.084 1440.84 131.084 1447.97 Q131.084 1455.07 132.89 1458.64 Q134.719 1462.18 138.33 1462.18 Q141.964 1462.18 143.769 1458.64 Q145.598 1455.07 145.598 1447.97 Q145.598 1440.84 143.769 1437.29 Q141.964 1433.73 138.33 1433.73 M138.33 1430.03 Q144.14 1430.03 147.195 1434.63 Q150.274 1439.22 150.274 1447.97 Q150.274 1456.69 147.195 1461.3 Q144.14 1465.88 138.33 1465.88 Q132.519 1465.88 129.441 1461.3 Q126.385 1456.69 126.385 1447.97 Q126.385 1439.22 129.441 1434.63 Q132.519 1430.03 138.33 1430.03 Z\" fill=\"#000000\" fill-rule=\"evenodd\" fill-opacity=\"1\" /><path clip-path=\"url(#clip390)\" d=\"M63.9319 1112.24 Q60.3208 1112.24 58.4921 1115.81 Q56.6865 1119.35 56.6865 1126.48 Q56.6865 1133.59 58.4921 1137.15 Q60.3208 1140.69 63.9319 1140.69 Q67.5661 1140.69 69.3717 1137.15 Q71.2004 1133.59 71.2004 1126.48 Q71.2004 1119.35 69.3717 1115.81 Q67.5661 1112.24 63.9319 1112.24 M63.9319 1108.54 Q69.742 1108.54 72.7976 1113.15 Q75.8763 1117.73 75.8763 1126.48 Q75.8763 1135.21 72.7976 1139.81 Q69.742 1144.4 63.9319 1144.4 Q58.1217 1144.4 55.043 1139.81 Q51.9875 1135.21 51.9875 1126.48 Q51.9875 1117.73 55.043 1113.15 Q58.1217 1108.54 63.9319 1108.54 Z\" fill=\"#000000\" fill-rule=\"evenodd\" fill-opacity=\"1\" /><path clip-path=\"url(#clip390)\" d=\"M84.0938 1137.85 L88.978 1137.85 L88.978 1143.73 L84.0938 1143.73 L84.0938 1137.85 Z\" fill=\"#000000\" fill-rule=\"evenodd\" fill-opacity=\"1\" /><path clip-path=\"url(#clip390)\" d=\"M103.191 1139.79 L119.51 1139.79 L119.51 1143.73 L97.566 1143.73 L97.566 1139.79 Q100.228 1137.04 104.811 1132.41 Q109.418 1127.75 110.598 1126.41 Q112.844 1123.89 113.723 1122.15 Q114.626 1120.39 114.626 1118.7 Q114.626 1115.95 112.682 1114.21 Q110.76 1112.48 107.658 1112.48 Q105.459 1112.48 103.006 1113.24 Q100.575 1114 97.7974 1115.55 L97.7974 1110.83 Q100.621 1109.7 103.075 1109.12 Q105.529 1108.54 107.566 1108.54 Q112.936 1108.54 116.131 1111.23 Q119.325 1113.91 119.325 1118.4 Q119.325 1120.53 118.515 1122.45 Q117.728 1124.35 115.621 1126.94 Q115.043 1127.61 111.941 1130.83 Q108.839 1134.03 103.191 1139.79 Z\" fill=\"#000000\" fill-rule=\"evenodd\" fill-opacity=\"1\" /><path clip-path=\"url(#clip390)\" d=\"M129.371 1109.17 L147.728 1109.17 L147.728 1113.1 L133.654 1113.1 L133.654 1121.57 Q134.672 1121.23 135.691 1121.06 Q136.709 1120.88 137.728 1120.88 Q143.515 1120.88 146.894 1124.05 Q150.274 1127.22 150.274 1132.64 Q150.274 1138.22 146.802 1141.32 Q143.33 1144.4 137.01 1144.4 Q134.834 1144.4 132.566 1144.03 Q130.32 1143.66 127.913 1142.92 L127.913 1138.22 Q129.996 1139.35 132.219 1139.91 Q134.441 1140.46 136.918 1140.46 Q140.922 1140.46 143.26 1138.36 Q145.598 1136.25 145.598 1132.64 Q145.598 1129.03 143.26 1126.92 Q140.922 1124.81 136.918 1124.81 Q135.043 1124.81 133.168 1125.23 Q131.316 1125.65 129.371 1126.53 L129.371 1109.17 Z\" fill=\"#000000\" fill-rule=\"evenodd\" fill-opacity=\"1\" /><path clip-path=\"url(#clip390)\" d=\"M62.9365 790.759 Q59.3254 790.759 57.4967 794.323 Q55.6912 797.865 55.6912 804.995 Q55.6912 812.101 57.4967 815.666 Q59.3254 819.208 62.9365 819.208 Q66.5707 819.208 68.3763 815.666 Q70.205 812.101 70.205 804.995 Q70.205 797.865 68.3763 794.323 Q66.5707 790.759 62.9365 790.759 M62.9365 787.055 Q68.7467 787.055 71.8022 791.661 Q74.8809 796.245 74.8809 804.995 Q74.8809 813.722 71.8022 818.328 Q68.7467 822.911 62.9365 822.911 Q57.1264 822.911 54.0477 818.328 Q50.9921 813.722 50.9921 804.995 Q50.9921 796.245 54.0477 791.661 Q57.1264 787.055 62.9365 787.055 Z\" fill=\"#000000\" fill-rule=\"evenodd\" fill-opacity=\"1\" /><path clip-path=\"url(#clip390)\" d=\"M83.0984 816.36 L87.9827 816.36 L87.9827 822.24 L83.0984 822.24 L83.0984 816.36 Z\" fill=\"#000000\" fill-rule=\"evenodd\" fill-opacity=\"1\" /><path clip-path=\"url(#clip390)\" d=\"M98.2141 787.68 L116.57 787.68 L116.57 791.615 L102.496 791.615 L102.496 800.087 Q103.515 799.74 104.534 799.578 Q105.552 799.393 106.571 799.393 Q112.358 799.393 115.737 802.564 Q119.117 805.735 119.117 811.152 Q119.117 816.731 115.645 819.833 Q112.172 822.911 105.853 822.911 Q103.677 822.911 101.409 822.541 Q99.1632 822.171 96.7558 821.43 L96.7558 816.731 Q98.8391 817.865 101.061 818.421 Q103.284 818.976 105.76 818.976 Q109.765 818.976 112.103 816.87 Q114.441 814.763 114.441 811.152 Q114.441 807.541 112.103 805.435 Q109.765 803.328 105.76 803.328 Q103.885 803.328 102.01 803.745 Q100.159 804.161 98.2141 805.041 L98.2141 787.68 Z\" fill=\"#000000\" fill-rule=\"evenodd\" fill-opacity=\"1\" /><path clip-path=\"url(#clip390)\" d=\"M138.33 790.759 Q134.719 790.759 132.89 794.323 Q131.084 797.865 131.084 804.995 Q131.084 812.101 132.89 815.666 Q134.719 819.208 138.33 819.208 Q141.964 819.208 143.769 815.666 Q145.598 812.101 145.598 804.995 Q145.598 797.865 143.769 794.323 Q141.964 790.759 138.33 790.759 M138.33 787.055 Q144.14 787.055 147.195 791.661 Q150.274 796.245 150.274 804.995 Q150.274 813.722 147.195 818.328 Q144.14 822.911 138.33 822.911 Q132.519 822.911 129.441 818.328 Q126.385 813.722 126.385 804.995 Q126.385 796.245 129.441 791.661 Q132.519 787.055 138.33 787.055 Z\" fill=\"#000000\" fill-rule=\"evenodd\" fill-opacity=\"1\" /><path clip-path=\"url(#clip390)\" d=\"M63.9319 469.273 Q60.3208 469.273 58.4921 472.838 Q56.6865 476.379 56.6865 483.509 Q56.6865 490.615 58.4921 494.18 Q60.3208 497.722 63.9319 497.722 Q67.5661 497.722 69.3717 494.18 Q71.2004 490.615 71.2004 483.509 Q71.2004 476.379 69.3717 472.838 Q67.5661 469.273 63.9319 469.273 M63.9319 465.569 Q69.742 465.569 72.7976 470.176 Q75.8763 474.759 75.8763 483.509 Q75.8763 492.236 72.7976 496.842 Q69.742 501.426 63.9319 501.426 Q58.1217 501.426 55.043 496.842 Q51.9875 492.236 51.9875 483.509 Q51.9875 474.759 55.043 470.176 Q58.1217 465.569 63.9319 465.569 Z\" fill=\"#000000\" fill-rule=\"evenodd\" fill-opacity=\"1\" /><path clip-path=\"url(#clip390)\" d=\"M84.0938 494.875 L88.978 494.875 L88.978 500.754 L84.0938 500.754 L84.0938 494.875 Z\" fill=\"#000000\" fill-rule=\"evenodd\" fill-opacity=\"1\" /><path clip-path=\"url(#clip390)\" d=\"M97.9826 466.194 L120.205 466.194 L120.205 468.185 L107.658 500.754 L102.774 500.754 L114.58 470.129 L97.9826 470.129 L97.9826 466.194 Z\" fill=\"#000000\" fill-rule=\"evenodd\" fill-opacity=\"1\" /><path clip-path=\"url(#clip390)\" d=\"M129.371 466.194 L147.728 466.194 L147.728 470.129 L133.654 470.129 L133.654 478.602 Q134.672 478.254 135.691 478.092 Q136.709 477.907 137.728 477.907 Q143.515 477.907 146.894 481.078 Q150.274 484.25 150.274 489.666 Q150.274 495.245 146.802 498.347 Q143.33 501.426 137.01 501.426 Q134.834 501.426 132.566 501.055 Q130.32 500.685 127.913 499.944 L127.913 495.245 Q129.996 496.379 132.219 496.935 Q134.441 497.49 136.918 497.49 Q140.922 497.49 143.26 495.384 Q145.598 493.277 145.598 489.666 Q145.598 486.055 143.26 483.949 Q140.922 481.842 136.918 481.842 Q135.043 481.842 133.168 482.259 Q131.316 482.676 129.371 483.555 L129.371 466.194 Z\" fill=\"#000000\" fill-rule=\"evenodd\" fill-opacity=\"1\" /><path clip-path=\"url(#clip390)\" d=\"M53.7467 175.333 L61.3856 175.333 L61.3856 148.968 L53.0754 150.634 L53.0754 146.375 L61.3393 144.709 L66.0152 144.709 L66.0152 175.333 L73.654 175.333 L73.654 179.269 L53.7467 179.269 L53.7467 175.333 Z\" fill=\"#000000\" fill-rule=\"evenodd\" fill-opacity=\"1\" /><path clip-path=\"url(#clip390)\" d=\"M83.0984 173.389 L87.9827 173.389 L87.9827 179.269 L83.0984 179.269 L83.0984 173.389 Z\" fill=\"#000000\" fill-rule=\"evenodd\" fill-opacity=\"1\" /><path clip-path=\"url(#clip390)\" d=\"M108.168 147.787 Q104.557 147.787 102.728 151.352 Q100.922 154.894 100.922 162.023 Q100.922 169.13 102.728 172.694 Q104.557 176.236 108.168 176.236 Q111.802 176.236 113.608 172.694 Q115.436 169.13 115.436 162.023 Q115.436 154.894 113.608 151.352 Q111.802 147.787 108.168 147.787 M108.168 144.084 Q113.978 144.084 117.033 148.69 Q120.112 153.273 120.112 162.023 Q120.112 170.75 117.033 175.357 Q113.978 179.94 108.168 179.94 Q102.358 179.94 99.2789 175.357 Q96.2234 170.75 96.2234 162.023 Q96.2234 153.273 99.2789 148.69 Q102.358 144.084 108.168 144.084 Z\" fill=\"#000000\" fill-rule=\"evenodd\" fill-opacity=\"1\" /><path clip-path=\"url(#clip390)\" d=\"M138.33 147.787 Q134.719 147.787 132.89 151.352 Q131.084 154.894 131.084 162.023 Q131.084 169.13 132.89 172.694 Q134.719 176.236 138.33 176.236 Q141.964 176.236 143.769 172.694 Q145.598 169.13 145.598 162.023 Q145.598 154.894 143.769 151.352 Q141.964 147.787 138.33 147.787 M138.33 144.084 Q144.14 144.084 147.195 148.69 Q150.274 153.273 150.274 162.023 Q150.274 170.75 147.195 175.357 Q144.14 179.94 138.33 179.94 Q132.519 179.94 129.441 175.357 Q126.385 170.75 126.385 162.023 Q126.385 153.273 129.441 148.69 Q132.519 144.084 138.33 144.084 Z\" fill=\"#000000\" fill-rule=\"evenodd\" fill-opacity=\"1\" /><path clip-path=\"url(#clip390)\" d=\"M964.239 14.0809 L964.239 22.0612 Q959.58 19.8332 955.448 18.7395 Q951.316 17.6457 947.468 17.6457 Q940.784 17.6457 937.138 20.2383 Q933.533 22.8309 933.533 27.611 Q933.533 31.6214 935.923 33.6873 Q938.354 35.7128 945.078 36.9686 L950.02 37.9813 Q959.175 39.7232 963.51 44.1387 Q967.885 48.5136 967.885 55.8863 Q967.885 64.6767 961.97 69.2137 Q956.096 73.7508 944.713 73.7508 Q940.419 73.7508 935.558 72.7785 Q930.738 71.8063 925.553 69.9024 L925.553 61.4765 Q930.535 64.2716 935.315 65.6895 Q940.095 67.1073 944.713 67.1073 Q951.722 67.1073 955.529 64.3527 Q959.337 61.598 959.337 56.4939 Q959.337 52.0379 956.583 49.5264 Q953.868 47.0148 947.63 45.759 L942.647 44.7868 Q933.492 42.9639 929.401 39.075 Q925.31 35.1862 925.31 28.2591 Q925.31 20.2383 930.94 15.6203 Q936.612 11.0023 946.536 11.0023 Q950.79 11.0023 955.205 11.7719 Q959.621 12.5416 964.239 14.0809 Z\" fill=\"#000000\" fill-rule=\"evenodd\" fill-opacity=\"1\" /><path clip-path=\"url(#clip390)\" d=\"M980.321 27.2059 L987.775 27.2059 L987.775 72.576 L980.321 72.576 L980.321 27.2059 M980.321 9.54393 L987.775 9.54393 L987.775 18.9825 L980.321 18.9825 L980.321 9.54393 Z\" fill=\"#000000\" fill-rule=\"evenodd\" fill-opacity=\"1\" /><path clip-path=\"url(#clip390)\" d=\"M1033.23 49.3643 Q1033.23 41.2625 1029.86 36.8065 Q1026.54 32.3505 1020.51 32.3505 Q1014.51 32.3505 1011.15 36.8065 Q1007.83 41.2625 1007.83 49.3643 Q1007.83 57.4256 1011.15 61.8816 Q1014.51 66.3376 1020.51 66.3376 Q1026.54 66.3376 1029.86 61.8816 Q1033.23 57.4256 1033.23 49.3643 M1040.68 66.9452 Q1040.68 78.5308 1035.53 84.1616 Q1030.39 89.8329 1019.78 89.8329 Q1015.85 89.8329 1012.36 89.2252 Q1008.88 88.6581 1005.6 87.4428 L1005.6 80.1917 Q1008.88 81.9741 1012.08 82.8248 Q1015.28 83.6755 1018.6 83.6755 Q1025.93 83.6755 1029.58 79.8271 Q1033.23 76.0193 1033.23 68.282 L1033.23 64.5957 Q1030.92 68.6061 1027.31 70.5911 Q1023.71 72.576 1018.68 72.576 Q1010.34 72.576 1005.23 66.2161 Q1000.13 59.8562 1000.13 49.3643 Q1000.13 38.832 1005.23 32.472 Q1010.34 26.1121 1018.68 26.1121 Q1023.71 26.1121 1027.31 28.0971 Q1030.92 30.082 1033.23 34.0924 L1033.23 27.2059 L1040.68 27.2059 L1040.68 66.9452 Z\" fill=\"#000000\" fill-rule=\"evenodd\" fill-opacity=\"1\" /><path clip-path=\"url(#clip390)\" d=\"M1091.36 35.9153 Q1094.15 30.8922 1098.04 28.5022 Q1101.93 26.1121 1107.2 26.1121 Q1114.28 26.1121 1118.13 31.0947 Q1121.98 36.0368 1121.98 45.1919 L1121.98 72.576 L1114.49 72.576 L1114.49 45.4349 Q1114.49 38.913 1112.18 35.7533 Q1109.87 32.5936 1105.13 32.5936 Q1099.34 32.5936 1095.97 36.4419 Q1092.61 40.2903 1092.61 46.9338 L1092.61 72.576 L1085.12 72.576 L1085.12 45.4349 Q1085.12 38.8725 1082.81 35.7533 Q1080.5 32.5936 1075.68 32.5936 Q1069.97 32.5936 1066.61 36.4824 Q1063.24 40.3308 1063.24 46.9338 L1063.24 72.576 L1055.75 72.576 L1055.75 27.2059 L1063.24 27.2059 L1063.24 34.2544 Q1065.79 30.082 1069.36 28.0971 Q1072.92 26.1121 1077.83 26.1121 Q1082.77 26.1121 1086.21 28.6237 Q1089.7 31.1352 1091.36 35.9153 Z\" fill=\"#000000\" fill-rule=\"evenodd\" fill-opacity=\"1\" /><path clip-path=\"url(#clip390)\" d=\"M1154.43 32.4315 Q1148.43 32.4315 1144.95 37.1306 Q1141.47 41.7891 1141.47 49.9314 Q1141.47 58.0738 1144.91 62.7728 Q1148.39 67.4314 1154.43 67.4314 Q1160.38 67.4314 1163.87 62.7323 Q1167.35 58.0333 1167.35 49.9314 Q1167.35 41.8701 1163.87 37.1711 Q1160.38 32.4315 1154.43 32.4315 M1154.43 26.1121 Q1164.15 26.1121 1169.7 32.4315 Q1175.25 38.7509 1175.25 49.9314 Q1175.25 61.0714 1169.7 67.4314 Q1164.15 73.7508 1154.43 73.7508 Q1144.67 73.7508 1139.12 67.4314 Q1133.61 61.0714 1133.61 49.9314 Q1133.61 38.7509 1139.12 32.4315 Q1144.67 26.1121 1154.43 26.1121 Z\" fill=\"#000000\" fill-rule=\"evenodd\" fill-opacity=\"1\" /><path clip-path=\"url(#clip390)\" d=\"M1187.61 27.2059 L1195.06 27.2059 L1195.06 72.576 L1187.61 72.576 L1187.61 27.2059 M1187.61 9.54393 L1195.06 9.54393 L1195.06 18.9825 L1187.61 18.9825 L1187.61 9.54393 Z\" fill=\"#000000\" fill-rule=\"evenodd\" fill-opacity=\"1\" /><path clip-path=\"url(#clip390)\" d=\"M1240.51 34.0924 L1240.51 9.54393 L1247.96 9.54393 L1247.96 72.576 L1240.51 72.576 L1240.51 65.7705 Q1238.16 69.8214 1234.56 71.8063 Q1230.99 73.7508 1225.97 73.7508 Q1217.74 73.7508 1212.56 67.1883 Q1207.41 60.6258 1207.41 49.9314 Q1207.41 39.2371 1212.56 32.6746 Q1217.74 26.1121 1225.97 26.1121 Q1230.99 26.1121 1234.56 28.0971 Q1238.16 30.0415 1240.51 34.0924 M1215.11 49.9314 Q1215.11 58.1548 1218.47 62.8538 Q1221.88 67.5124 1227.79 67.5124 Q1233.7 67.5124 1237.11 62.8538 Q1240.51 58.1548 1240.51 49.9314 Q1240.51 41.7081 1237.11 37.0496 Q1233.7 32.3505 1227.79 32.3505 Q1221.88 32.3505 1218.47 37.0496 Q1215.11 41.7081 1215.11 49.9314 Z\" fill=\"#000000\" fill-rule=\"evenodd\" fill-opacity=\"1\" /><path clip-path=\"url(#clip390)\" d=\"M1312.66 9.54393 L1312.66 15.7418 L1305.53 15.7418 Q1301.52 15.7418 1299.94 17.3622 Q1298.4 18.9825 1298.4 23.1955 L1298.4 27.2059 L1310.67 27.2059 L1310.67 32.9987 L1298.4 32.9987 L1298.4 72.576 L1290.9 72.576 L1290.9 32.9987 L1283.77 32.9987 L1283.77 27.2059 L1290.9 27.2059 L1290.9 24.0462 Q1290.9 16.471 1294.43 13.0277 Q1297.95 9.54393 1305.61 9.54393 L1312.66 9.54393 Z\" fill=\"#000000\" fill-rule=\"evenodd\" fill-opacity=\"1\" /><path clip-path=\"url(#clip390)\" d=\"M1318.13 54.671 L1318.13 27.2059 L1325.58 27.2059 L1325.58 54.3874 Q1325.58 60.8284 1328.09 64.0691 Q1330.6 67.2693 1335.63 67.2693 Q1341.66 67.2693 1345.15 63.421 Q1348.67 59.5726 1348.67 52.9291 L1348.67 27.2059 L1356.12 27.2059 L1356.12 72.576 L1348.67 72.576 L1348.67 65.6084 Q1345.96 69.7404 1342.35 71.7658 Q1338.79 73.7508 1334.05 73.7508 Q1326.23 73.7508 1322.18 68.8897 Q1318.13 64.0286 1318.13 54.671 M1336.88 26.1121 L1336.88 26.1121 Z\" fill=\"#000000\" fill-rule=\"evenodd\" fill-opacity=\"1\" /><path clip-path=\"url(#clip390)\" d=\"M1409.19 45.1919 L1409.19 72.576 L1401.74 72.576 L1401.74 45.4349 Q1401.74 38.994 1399.22 35.7938 Q1396.71 32.5936 1391.69 32.5936 Q1385.65 32.5936 1382.17 36.4419 Q1378.69 40.2903 1378.69 46.9338 L1378.69 72.576 L1371.19 72.576 L1371.19 27.2059 L1378.69 27.2059 L1378.69 34.2544 Q1381.36 30.163 1384.97 28.1376 Q1388.61 26.1121 1393.35 26.1121 Q1401.17 26.1121 1405.18 30.9732 Q1409.19 35.7938 1409.19 45.1919 Z\" fill=\"#000000\" fill-rule=\"evenodd\" fill-opacity=\"1\" /><path clip-path=\"url(#clip390)\" d=\"M1456.71 28.9478 L1456.71 35.9153 Q1453.55 34.1734 1450.35 33.3227 Q1447.19 32.4315 1443.95 32.4315 Q1436.7 32.4315 1432.69 37.0496 Q1428.67 41.6271 1428.67 49.9314 Q1428.67 58.2358 1432.69 62.8538 Q1436.7 67.4314 1443.95 67.4314 Q1447.19 67.4314 1450.35 66.5807 Q1453.55 65.6895 1456.71 63.9476 L1456.71 70.8341 Q1453.59 72.2924 1450.23 73.0216 Q1446.9 73.7508 1443.14 73.7508 Q1432.89 73.7508 1426.85 67.3098 Q1420.82 60.8689 1420.82 49.9314 Q1420.82 38.832 1426.89 32.472 Q1433.01 26.1121 1443.62 26.1121 Q1447.07 26.1121 1450.35 26.8413 Q1453.63 27.5299 1456.71 28.9478 Z\" fill=\"#000000\" fill-rule=\"evenodd\" fill-opacity=\"1\" /><path clip-path=\"url(#clip390)\" d=\"M1477.04 14.324 L1477.04 27.2059 L1492.4 27.2059 L1492.4 32.9987 L1477.04 32.9987 L1477.04 57.6282 Q1477.04 63.1779 1478.54 64.7578 Q1480.08 66.3376 1484.74 66.3376 L1492.4 66.3376 L1492.4 72.576 L1484.74 72.576 Q1476.11 72.576 1472.83 69.3758 Q1469.55 66.1351 1469.55 57.6282 L1469.55 32.9987 L1464.08 32.9987 L1464.08 27.2059 L1469.55 27.2059 L1469.55 14.324 L1477.04 14.324 Z\" fill=\"#000000\" fill-rule=\"evenodd\" fill-opacity=\"1\" /><path clip-path=\"url(#clip390)\" d=\"M1502.2 27.2059 L1509.65 27.2059 L1509.65 72.576 L1502.2 72.576 L1502.2 27.2059 M1502.2 9.54393 L1509.65 9.54393 L1509.65 18.9825 L1502.2 18.9825 L1502.2 9.54393 Z\" fill=\"#000000\" fill-rule=\"evenodd\" fill-opacity=\"1\" /><path clip-path=\"url(#clip390)\" d=\"M1542.83 32.4315 Q1536.83 32.4315 1533.35 37.1306 Q1529.87 41.7891 1529.87 49.9314 Q1529.87 58.0738 1533.31 62.7728 Q1536.79 67.4314 1542.83 67.4314 Q1548.78 67.4314 1552.27 62.7323 Q1555.75 58.0333 1555.75 49.9314 Q1555.75 41.8701 1552.27 37.1711 Q1548.78 32.4315 1542.83 32.4315 M1542.83 26.1121 Q1552.55 26.1121 1558.1 32.4315 Q1563.65 38.7509 1563.65 49.9314 Q1563.65 61.0714 1558.1 67.4314 Q1552.55 73.7508 1542.83 73.7508 Q1533.07 73.7508 1527.52 67.4314 Q1522.01 61.0714 1522.01 49.9314 Q1522.01 38.7509 1527.52 32.4315 Q1533.07 26.1121 1542.83 26.1121 Z\" fill=\"#000000\" fill-rule=\"evenodd\" fill-opacity=\"1\" /><path clip-path=\"url(#clip390)\" d=\"M1613.72 45.1919 L1613.72 72.576 L1606.27 72.576 L1606.27 45.4349 Q1606.27 38.994 1603.76 35.7938 Q1601.24 32.5936 1596.22 32.5936 Q1590.18 32.5936 1586.7 36.4419 Q1583.22 40.2903 1583.22 46.9338 L1583.22 72.576 L1575.72 72.576 L1575.72 27.2059 L1583.22 27.2059 L1583.22 34.2544 Q1585.89 30.163 1589.5 28.1376 Q1593.14 26.1121 1597.88 26.1121 Q1605.7 26.1121 1609.71 30.9732 Q1613.72 35.7938 1613.72 45.1919 Z\" fill=\"#000000\" fill-rule=\"evenodd\" fill-opacity=\"1\" /><polyline clip-path=\"url(#clip392)\" style=\"stroke:#009af9; stroke-linecap:butt; stroke-linejoin:round; stroke-width:4; stroke-opacity:1; fill:none\" points=\"\n",
       "  247.59,1447.87 349.782,1447.77 451.975,1447.5 554.167,1446.76 656.36,1444.75 758.552,1439.32 860.745,1424.8 962.937,1386.94 1065.13,1294.64 1167.32,1102.09 \n",
       "  1269.51,804.96 1371.71,507.832 1473.9,315.277 1576.09,222.975 1678.29,185.118 1780.48,170.595 1882.67,165.168 1984.86,163.16 2087.06,162.42 2189.25,162.147 \n",
       "  2291.44,162.047 \n",
       "  \"/>\n",
       "<path clip-path=\"url(#clip390)\" d=\"\n",
       "M1987.39 272.585 L2280.54 272.585 L2280.54 168.905 L1987.39 168.905  Z\n",
       "  \" fill=\"#ffffff\" fill-rule=\"evenodd\" fill-opacity=\"1\"/>\n",
       "<polyline clip-path=\"url(#clip390)\" style=\"stroke:#000000; stroke-linecap:butt; stroke-linejoin:round; stroke-width:4; stroke-opacity:1; fill:none\" points=\"\n",
       "  1987.39,272.585 2280.54,272.585 2280.54,168.905 1987.39,168.905 1987.39,272.585 \n",
       "  \"/>\n",
       "<polyline clip-path=\"url(#clip390)\" style=\"stroke:#009af9; stroke-linecap:butt; stroke-linejoin:round; stroke-width:4; stroke-opacity:1; fill:none\" points=\"\n",
       "  2011.46,220.745 2155.89,220.745 \n",
       "  \"/>\n",
       "<path clip-path=\"url(#clip390)\" d=\"M2193.81 240.432 Q2192 245.062 2190.29 246.474 Q2188.58 247.886 2185.71 247.886 L2182.3 247.886 L2182.3 244.321 L2184.8 244.321 Q2186.56 244.321 2187.53 243.488 Q2188.51 242.654 2189.69 239.552 L2190.45 237.608 L2179.97 212.099 L2184.48 212.099 L2192.58 232.377 L2200.68 212.099 L2205.2 212.099 L2193.81 240.432 Z\" fill=\"#000000\" fill-rule=\"evenodd\" fill-opacity=\"1\" /><path clip-path=\"url(#clip390)\" d=\"M2212.49 234.089 L2220.13 234.089 L2220.13 207.724 L2211.82 209.391 L2211.82 205.131 L2220.08 203.465 L2224.76 203.465 L2224.76 234.089 L2232.4 234.089 L2232.4 238.025 L2212.49 238.025 L2212.49 234.089 Z\" fill=\"#000000\" fill-rule=\"evenodd\" fill-opacity=\"1\" /></svg>\n"
      ]
     },
     "execution_count": 482,
     "metadata": {},
     "output_type": "execute_result"
    }
   ],
   "source": [
    "sample_xs = range(-10, 10, step=1)\n",
    "sample_ys = sigmoid.(sample_xs)\n",
    "\n",
    "Plots.plot(sample_xs, sample_ys, title=\"Sigmoid function\")"
   ]
  },
  {
   "cell_type": "code",
   "execution_count": 484,
   "id": "2945de09",
   "metadata": {},
   "outputs": [],
   "source": [
    "x2 = data.exam1score\n",
    "x3 = data.exam2score\n",
    "y = data.decision\n",
    "\n",
    "m = length(y)\n",
    "x1 = ones(m, 1)\n",
    "X = hcat(x1, x2, x3);"
   ]
  },
  {
   "cell_type": "code",
   "execution_count": 485,
   "id": "24ed98c6",
   "metadata": {},
   "outputs": [
    {
     "data": {
      "text/plain": [
       "100-element Vector{Float64}:\n",
       " 0.0\n",
       " 0.0\n",
       " 0.0\n",
       " 0.0\n",
       " 0.0\n",
       " 0.0\n",
       " 0.0\n",
       " 0.0\n",
       " 0.0\n",
       " 0.0\n",
       " 0.0\n",
       " 0.0\n",
       " 0.0\n",
       " ⋮\n",
       " 0.0\n",
       " 0.0\n",
       " 0.0\n",
       " 0.0\n",
       " 0.0\n",
       " 0.0\n",
       " 0.0\n",
       " 0.0\n",
       " 0.0\n",
       " 0.0\n",
       " 0.0\n",
       " 0.0"
      ]
     },
     "execution_count": 485,
     "metadata": {},
     "output_type": "execute_result"
    }
   ],
   "source": [
    "funcz(X::Array, theta::Array) = X * theta\n",
    "\n",
    "thetaInitial = zeros(3)\n",
    "\n",
    "funcz(X, thetaInitial) "
   ]
  },
  {
   "cell_type": "code",
   "execution_count": 486,
   "id": "cc502248",
   "metadata": {},
   "outputs": [
    {
     "data": {
      "text/plain": [
       "0.6931471805599452"
      ]
     },
     "execution_count": 486,
     "metadata": {},
     "output_type": "execute_result"
    }
   ],
   "source": [
    "# Log Likelihood function and gradient\n",
    "\n",
    "x2 = data.exam1score\n",
    "x3 = data.exam2score\n",
    "y = data.decision\n",
    "\n",
    "m = length(y)\n",
    "x1 = ones(m, 1)\n",
    "X = hcat(x1, x2, x3);\n",
    "\n",
    "# Log Likelihood function in logistic regression is:\n",
    "funcz(X::Array, theta::Array) = X * theta\n",
    "\n",
    "sigmoid(z::Real) = one(z) / (one(z) + exp(-z))\n",
    "\n",
    "thetaInitial = zeros(3)\n",
    "#funcz(X, thetaInitial)\n",
    "\n",
    "function LogFunction(X::Array, y::Array, theta::Array)\n",
    "    LTheta = -(one(length(y))/length(y)) * (sum((y .* log.(sigmoid.(funcz(X, theta))) + ((one(length(y)) .- y) .* log.(one(length(y)) .- sigmoid.(funcz(X, theta)))))))\n",
    "    return LTheta\n",
    "end\n",
    "\n",
    "LogFunction(X, y, thetaInitial)\n"
   ]
  },
  {
   "cell_type": "code",
   "execution_count": 487,
   "id": "65808725",
   "metadata": {},
   "outputs": [
    {
     "data": {
      "text/plain": [
       "0.2183301938265977"
      ]
     },
     "execution_count": 487,
     "metadata": {},
     "output_type": "execute_result"
    }
   ],
   "source": [
    "test_theta = [-24.0, 0.2, 0.2]\n",
    "LogFunction(X, y, test_theta)"
   ]
  },
  {
   "cell_type": "code",
   "execution_count": 120,
   "id": "83d4cb5c",
   "metadata": {},
   "outputs": [
    {
     "data": {
      "text/plain": [
       "Int64"
      ]
     },
     "execution_count": 120,
     "metadata": {},
     "output_type": "execute_result"
    }
   ],
   "source": [
    "typeof(one(length(y)))"
   ]
  },
  {
   "cell_type": "code",
   "execution_count": 138,
   "id": "9eeea804",
   "metadata": {},
   "outputs": [
    {
     "data": {
      "text/plain": [
       "3-element Vector{Float64}:\n",
       " 0.0\n",
       " 0.0\n",
       " 0.0"
      ]
     },
     "execution_count": 138,
     "metadata": {},
     "output_type": "execute_result"
    }
   ],
   "source": [
    "thetaInitial = zeros(3)"
   ]
  },
  {
   "cell_type": "code",
   "execution_count": 488,
   "id": "40bddd8f",
   "metadata": {},
   "outputs": [
    {
     "name": "stdout",
     "output_type": "stream",
     "text": [
      "0.6931471805599452\n",
      "[-0.1, -12.009216589291153, -11.262842205513596]\n",
      "0.2183301938265977\n",
      "[0.042902994899534475, 2.566234115510758, 2.6467973710824313]\n",
      "0.2183301938265977\n",
      "[0.042902994899534475, 2.566234115510758, 2.6467973710824313]\n"
     ]
    }
   ],
   "source": [
    "thetaInitial = zeros(3)\n",
    "f(theta::Vector)::Real = LogFunction(X, y, theta)\n",
    "g = x -> ForwardDiff.gradient(f, theta); # g = ∇f\n",
    "\n",
    "theta = thetaInitial\n",
    "\n",
    "println(f(theta))\n",
    "println(g(theta))\n",
    "\n",
    "theta = [-24.0, 0.2, 0.2]\n",
    "println(f(theta))\n",
    "println(g(theta))\n",
    "\n",
    "theta_1 = [-25.1614, 0.206232, 0.201472]\n",
    "println(f(theta))\n",
    "println(g(theta))"
   ]
  },
  {
   "cell_type": "code",
   "execution_count": 489,
   "id": "df3763a8",
   "metadata": {},
   "outputs": [
    {
     "name": "stdout",
     "output_type": "stream",
     "text": [
      "[-0.1, -12.009216589291153, -11.262842205513593]\n",
      "[0.042902994899534475, 2.566234115510758, 2.6467973710824335]\n"
     ]
    }
   ],
   "source": [
    "x2 = data.exam1score\n",
    "x3 = data.exam2score\n",
    "y = data.decision\n",
    "\n",
    "m = length(y)\n",
    "x1 = ones(m, 1)\n",
    "X = hcat(x1, x2, x3);\n",
    "\n",
    "# Log Likelihood function in logistic regression is:\n",
    "funcz(X::Array, theta::Array) = X * theta\n",
    "\n",
    "sigmoid(z::Real) = one(z) / (one(z) + exp(-z))\n",
    "\n",
    "gradi(theta) = (1/m) * (X' * (sigmoid.(funcz(X, theta)) .- y))\n",
    "\n",
    "thetaInitial = zeros(3)\n",
    "theta = thetaInitial\n",
    "\n",
    "println(gradi(theta))\n",
    "\n",
    "theta = [-24.0, 0.2, 0.2]\n",
    "println(gradi(theta))\n"
   ]
  },
  {
   "cell_type": "code",
   "execution_count": 427,
   "id": "9d606b7e",
   "metadata": {},
   "outputs": [
    {
     "name": "stdout",
     "output_type": "stream",
     "text": [
      "Parameter theta: [-0.0694609745944538, 0.010907328656905298, 0.0009913547184689571]\n",
      "Minimized Log Function: 0.6249857589104834\n",
      "Last Element: (1000, [-0.0694609745944538, 0.010907328656905298, 0.0009913547184689571], 0.6249857589104834)\n"
     ]
    }
   ],
   "source": [
    "x2 = data.exam1score\n",
    "x3 = data.exam2score\n",
    "y = data.decision\n",
    "\n",
    "m = length(y)\n",
    "x1 = ones(m, 1)\n",
    "X = hcat(x1, x2, x3);\n",
    "\n",
    "iterations = 1000;\n",
    "alpha = 0.001;\n",
    "thetaInitial = zeros(3)\n",
    "\n",
    "# Log Likelihood function in logistic regression is:\n",
    "funcz(X::Array, theta::Array) = X * theta\n",
    "\n",
    "sigmoid(z::Real) = one(z) / (one(z) + exp(-z))\n",
    "\n",
    "function LogFunction(X::Array, y::Array, theta::Array)\n",
    "    LTheta = -(one(length(y))/length(y)) * (sum((y .* log.(sigmoid.(funcz(X, theta))) + ((one(length(y)) .- y) .* log.(one(length(y)) .- sigmoid.(funcz(X, theta)))))))\n",
    "    return LTheta\n",
    "end\n",
    "\n",
    "gradie(theta) = (1/m) * (X' * (sigmoid.(funcz(X, theta)) .- y))\n",
    "\n",
    "theta = thetaInitial\n",
    "result = []\n",
    "\n",
    "for i = 1:iterations\n",
    "    theta = theta - alpha * gradie(theta)\n",
    "    push!(result, (i, theta, LogFunction(X, y, theta)))\n",
    "end\n",
    "\n",
    "println(\"Parameter theta: \", theta)\n",
    "println(\"Minimized Log Function: \", LogFunction(X, y, theta))\n",
    "println(\"Last Element: \", result[iterations])"
   ]
  },
  {
   "cell_type": "code",
   "execution_count": 383,
   "id": "5df8a057",
   "metadata": {},
   "outputs": [
    {
     "name": "stdout",
     "output_type": "stream",
     "text": [
      "Parameter theta: [-0.06946097459445379, 0.010907328656905293, 0.0009913547184689526]\n",
      "Maximized Log Function: 0.6249857589104834\n",
      "Last Element: (1000, [-0.06946097459445379, 0.010907328656905293, 0.0009913547184689526], 0.6249857589104834)\n"
     ]
    }
   ],
   "source": [
    "# Log Likelihood function and gradient\n",
    "\n",
    "x2 = data.exam1score\n",
    "x3 = data.exam2score\n",
    "y = data.decision\n",
    "\n",
    "m = length(y)\n",
    "x1 = ones(m, 1)\n",
    "X = hcat(x1, x2, x3);\n",
    "\n",
    "iterations = 1000;\n",
    "alpha = 0.001;\n",
    "thetaInitial = zeros(3)\n",
    "\n",
    "# Log Likelihood function in logistic regression is:\n",
    "funcz(X::Array, theta::Array) = X * theta\n",
    "\n",
    "sigmoid(z::Real) = one(z) / (one(z) + exp(-z))\n",
    "\n",
    "function LogFunction(X::Array, y::Array, theta::Array)\n",
    "    LTheta = -(one(length(y))/length(y)) * (sum((y .* log.(sigmoid.(funcz(X, theta))) + ((one(length(y)) .- y) .* log.(one(length(y)) .- sigmoid.(funcz(X, theta)))))))\n",
    "    return LTheta\n",
    "end\n",
    "\n",
    "#f(theta::Vector)::Real = LogFunction(X, y, theta)\n",
    "\n",
    "g(theta::Vector)::Real = (one(length(y))/length(y)) * (sum( sigmoid.(funcz(X, theta)) .- y ) .* X)\n",
    "\n",
    "g = x -> ForwardDiff.gradient(f, theta); # g = ∇f\n",
    "\n",
    "theta = thetaInitial\n",
    "result = []\n",
    "\n",
    "for i = 1:iterations\n",
    "    theta = theta - alpha * g(theta)\n",
    "    push!(result, (i, theta, f(theta)))\n",
    "end\n",
    "\n",
    "println(\"Parameter theta: \", theta)\n",
    "println(\"Maximized Log Function: \", f(theta))\n",
    "println(\"Last Element: \", result[iterations])\n",
    "\n",
    "\n"
   ]
  },
  {
   "cell_type": "code",
   "execution_count": 428,
   "id": "3a487db5",
   "metadata": {
    "scrolled": true
   },
   "outputs": [
    {
     "data": {
      "image/svg+xml": [
       "<?xml version=\"1.0\" encoding=\"utf-8\"?>\n",
       "<svg xmlns=\"http://www.w3.org/2000/svg\" xmlns:xlink=\"http://www.w3.org/1999/xlink\" width=\"600\" height=\"400\" viewBox=\"0 0 2400 1600\">\n",
       "<defs>\n",
       "  <clipPath id=\"clip310\">\n",
       "    <rect x=\"0\" y=\"0\" width=\"2400\" height=\"1600\"/>\n",
       "  </clipPath>\n",
       "</defs>\n",
       "<path clip-path=\"url(#clip310)\" d=\"\n",
       "M0 1600 L2400 1600 L2400 0 L0 0  Z\n",
       "  \" fill=\"#ffffff\" fill-rule=\"evenodd\" fill-opacity=\"1\"/>\n",
       "<defs>\n",
       "  <clipPath id=\"clip311\">\n",
       "    <rect x=\"480\" y=\"0\" width=\"1681\" height=\"1600\"/>\n",
       "  </clipPath>\n",
       "</defs>\n",
       "<path clip-path=\"url(#clip310)\" d=\"\n",
       "M250.028 1423.18 L2352.76 1423.18 L2352.76 47.2441 L250.028 47.2441  Z\n",
       "  \" fill=\"#ffffff\" fill-rule=\"evenodd\" fill-opacity=\"1\"/>\n",
       "<defs>\n",
       "  <clipPath id=\"clip312\">\n",
       "    <rect x=\"250\" y=\"47\" width=\"2104\" height=\"1377\"/>\n",
       "  </clipPath>\n",
       "</defs>\n",
       "<polyline clip-path=\"url(#clip312)\" style=\"stroke:#000000; stroke-linecap:butt; stroke-linejoin:round; stroke-width:2; stroke-opacity:0.1; fill:none\" points=\"\n",
       "  307.554,1423.18 307.554,47.2441 \n",
       "  \"/>\n",
       "<polyline clip-path=\"url(#clip312)\" style=\"stroke:#000000; stroke-linecap:butt; stroke-linejoin:round; stroke-width:2; stroke-opacity:0.1; fill:none\" points=\"\n",
       "  803.976,1423.18 803.976,47.2441 \n",
       "  \"/>\n",
       "<polyline clip-path=\"url(#clip312)\" style=\"stroke:#000000; stroke-linecap:butt; stroke-linejoin:round; stroke-width:2; stroke-opacity:0.1; fill:none\" points=\"\n",
       "  1300.4,1423.18 1300.4,47.2441 \n",
       "  \"/>\n",
       "<polyline clip-path=\"url(#clip312)\" style=\"stroke:#000000; stroke-linecap:butt; stroke-linejoin:round; stroke-width:2; stroke-opacity:0.1; fill:none\" points=\"\n",
       "  1796.82,1423.18 1796.82,47.2441 \n",
       "  \"/>\n",
       "<polyline clip-path=\"url(#clip312)\" style=\"stroke:#000000; stroke-linecap:butt; stroke-linejoin:round; stroke-width:2; stroke-opacity:0.1; fill:none\" points=\"\n",
       "  2293.24,1423.18 2293.24,47.2441 \n",
       "  \"/>\n",
       "<polyline clip-path=\"url(#clip310)\" style=\"stroke:#000000; stroke-linecap:butt; stroke-linejoin:round; stroke-width:4; stroke-opacity:1; fill:none\" points=\"\n",
       "  250.028,1423.18 2352.76,1423.18 \n",
       "  \"/>\n",
       "<polyline clip-path=\"url(#clip310)\" style=\"stroke:#000000; stroke-linecap:butt; stroke-linejoin:round; stroke-width:4; stroke-opacity:1; fill:none\" points=\"\n",
       "  307.554,1423.18 307.554,1404.28 \n",
       "  \"/>\n",
       "<polyline clip-path=\"url(#clip310)\" style=\"stroke:#000000; stroke-linecap:butt; stroke-linejoin:round; stroke-width:4; stroke-opacity:1; fill:none\" points=\"\n",
       "  803.976,1423.18 803.976,1404.28 \n",
       "  \"/>\n",
       "<polyline clip-path=\"url(#clip310)\" style=\"stroke:#000000; stroke-linecap:butt; stroke-linejoin:round; stroke-width:4; stroke-opacity:1; fill:none\" points=\"\n",
       "  1300.4,1423.18 1300.4,1404.28 \n",
       "  \"/>\n",
       "<polyline clip-path=\"url(#clip310)\" style=\"stroke:#000000; stroke-linecap:butt; stroke-linejoin:round; stroke-width:4; stroke-opacity:1; fill:none\" points=\"\n",
       "  1796.82,1423.18 1796.82,1404.28 \n",
       "  \"/>\n",
       "<polyline clip-path=\"url(#clip310)\" style=\"stroke:#000000; stroke-linecap:butt; stroke-linejoin:round; stroke-width:4; stroke-opacity:1; fill:none\" points=\"\n",
       "  2293.24,1423.18 2293.24,1404.28 \n",
       "  \"/>\n",
       "<path clip-path=\"url(#clip310)\" d=\"M307.554 1454.1 Q303.943 1454.1 302.114 1457.66 Q300.308 1461.2 300.308 1468.33 Q300.308 1475.44 302.114 1479.01 Q303.943 1482.55 307.554 1482.55 Q311.188 1482.55 312.993 1479.01 Q314.822 1475.44 314.822 1468.33 Q314.822 1461.2 312.993 1457.66 Q311.188 1454.1 307.554 1454.1 M307.554 1450.39 Q313.364 1450.39 316.419 1455 Q319.498 1459.58 319.498 1468.33 Q319.498 1477.06 316.419 1481.67 Q313.364 1486.25 307.554 1486.25 Q301.743 1486.25 298.665 1481.67 Q295.609 1477.06 295.609 1468.33 Q295.609 1459.58 298.665 1455 Q301.743 1450.39 307.554 1450.39 Z\" fill=\"#000000\" fill-rule=\"evenodd\" fill-opacity=\"1\" /><path clip-path=\"url(#clip310)\" d=\"M767.669 1481.64 L783.988 1481.64 L783.988 1485.58 L762.044 1485.58 L762.044 1481.64 Q764.706 1478.89 769.289 1474.26 Q773.896 1469.61 775.076 1468.27 Q777.321 1465.74 778.201 1464.01 Q779.104 1462.25 779.104 1460.56 Q779.104 1457.8 777.159 1456.07 Q775.238 1454.33 772.136 1454.33 Q769.937 1454.33 767.484 1455.09 Q765.053 1455.86 762.275 1457.41 L762.275 1452.69 Q765.099 1451.55 767.553 1450.97 Q770.007 1450.39 772.044 1450.39 Q777.414 1450.39 780.608 1453.08 Q783.803 1455.77 783.803 1460.26 Q783.803 1462.39 782.993 1464.31 Q782.206 1466.2 780.099 1468.8 Q779.521 1469.47 776.419 1472.69 Q773.317 1475.88 767.669 1481.64 Z\" fill=\"#000000\" fill-rule=\"evenodd\" fill-opacity=\"1\" /><path clip-path=\"url(#clip310)\" d=\"M793.849 1451.02 L812.206 1451.02 L812.206 1454.96 L798.132 1454.96 L798.132 1463.43 Q799.15 1463.08 800.169 1462.92 Q801.187 1462.73 802.206 1462.73 Q807.993 1462.73 811.372 1465.9 Q814.752 1469.08 814.752 1474.49 Q814.752 1480.07 811.28 1483.17 Q807.807 1486.25 801.488 1486.25 Q799.312 1486.25 797.044 1485.88 Q794.798 1485.51 792.391 1484.77 L792.391 1480.07 Q794.474 1481.2 796.696 1481.76 Q798.919 1482.32 801.395 1482.32 Q805.4 1482.32 807.738 1480.21 Q810.076 1478.1 810.076 1474.49 Q810.076 1470.88 807.738 1468.77 Q805.4 1466.67 801.395 1466.67 Q799.52 1466.67 797.645 1467.08 Q795.794 1467.5 793.849 1468.38 L793.849 1451.02 Z\" fill=\"#000000\" fill-rule=\"evenodd\" fill-opacity=\"1\" /><path clip-path=\"url(#clip310)\" d=\"M833.965 1454.1 Q830.354 1454.1 828.525 1457.66 Q826.719 1461.2 826.719 1468.33 Q826.719 1475.44 828.525 1479.01 Q830.354 1482.55 833.965 1482.55 Q837.599 1482.55 839.404 1479.01 Q841.233 1475.44 841.233 1468.33 Q841.233 1461.2 839.404 1457.66 Q837.599 1454.1 833.965 1454.1 M833.965 1450.39 Q839.775 1450.39 842.83 1455 Q845.909 1459.58 845.909 1468.33 Q845.909 1477.06 842.83 1481.67 Q839.775 1486.25 833.965 1486.25 Q828.155 1486.25 825.076 1481.67 Q822.02 1477.06 822.02 1468.33 Q822.02 1459.58 825.076 1455 Q828.155 1450.39 833.965 1450.39 Z\" fill=\"#000000\" fill-rule=\"evenodd\" fill-opacity=\"1\" /><path clip-path=\"url(#clip310)\" d=\"M1260.02 1451.02 L1278.37 1451.02 L1278.37 1454.96 L1264.3 1454.96 L1264.3 1463.43 Q1265.32 1463.08 1266.34 1462.92 Q1267.36 1462.73 1268.37 1462.73 Q1274.16 1462.73 1277.54 1465.9 Q1280.92 1469.08 1280.92 1474.49 Q1280.92 1480.07 1277.45 1483.17 Q1273.98 1486.25 1267.66 1486.25 Q1265.48 1486.25 1263.21 1485.88 Q1260.97 1485.51 1258.56 1484.77 L1258.56 1480.07 Q1260.64 1481.2 1262.86 1481.76 Q1265.09 1482.32 1267.56 1482.32 Q1271.57 1482.32 1273.91 1480.21 Q1276.24 1478.1 1276.24 1474.49 Q1276.24 1470.88 1273.91 1468.77 Q1271.57 1466.67 1267.56 1466.67 Q1265.69 1466.67 1263.81 1467.08 Q1261.96 1467.5 1260.02 1468.38 L1260.02 1451.02 Z\" fill=\"#000000\" fill-rule=\"evenodd\" fill-opacity=\"1\" /><path clip-path=\"url(#clip310)\" d=\"M1300.13 1454.1 Q1296.52 1454.1 1294.69 1457.66 Q1292.89 1461.2 1292.89 1468.33 Q1292.89 1475.44 1294.69 1479.01 Q1296.52 1482.55 1300.13 1482.55 Q1303.77 1482.55 1305.57 1479.01 Q1307.4 1475.44 1307.4 1468.33 Q1307.4 1461.2 1305.57 1457.66 Q1303.77 1454.1 1300.13 1454.1 M1300.13 1450.39 Q1305.94 1450.39 1309 1455 Q1312.08 1459.58 1312.08 1468.33 Q1312.08 1477.06 1309 1481.67 Q1305.94 1486.25 1300.13 1486.25 Q1294.32 1486.25 1291.24 1481.67 Q1288.19 1477.06 1288.19 1468.33 Q1288.19 1459.58 1291.24 1455 Q1294.32 1450.39 1300.13 1450.39 Z\" fill=\"#000000\" fill-rule=\"evenodd\" fill-opacity=\"1\" /><path clip-path=\"url(#clip310)\" d=\"M1330.29 1454.1 Q1326.68 1454.1 1324.86 1457.66 Q1323.05 1461.2 1323.05 1468.33 Q1323.05 1475.44 1324.86 1479.01 Q1326.68 1482.55 1330.29 1482.55 Q1333.93 1482.55 1335.73 1479.01 Q1337.56 1475.44 1337.56 1468.33 Q1337.56 1461.2 1335.73 1457.66 Q1333.93 1454.1 1330.29 1454.1 M1330.29 1450.39 Q1336.11 1450.39 1339.16 1455 Q1342.24 1459.58 1342.24 1468.33 Q1342.24 1477.06 1339.16 1481.67 Q1336.11 1486.25 1330.29 1486.25 Q1324.48 1486.25 1321.41 1481.67 Q1318.35 1477.06 1318.35 1468.33 Q1318.35 1459.58 1321.41 1455 Q1324.48 1450.39 1330.29 1450.39 Z\" fill=\"#000000\" fill-rule=\"evenodd\" fill-opacity=\"1\" /><path clip-path=\"url(#clip310)\" d=\"M1755.1 1451.02 L1777.32 1451.02 L1777.32 1453.01 L1764.77 1485.58 L1759.89 1485.58 L1771.69 1454.96 L1755.1 1454.96 L1755.1 1451.02 Z\" fill=\"#000000\" fill-rule=\"evenodd\" fill-opacity=\"1\" /><path clip-path=\"url(#clip310)\" d=\"M1786.49 1451.02 L1804.84 1451.02 L1804.84 1454.96 L1790.77 1454.96 L1790.77 1463.43 Q1791.79 1463.08 1792.81 1462.92 Q1793.82 1462.73 1794.84 1462.73 Q1800.63 1462.73 1804.01 1465.9 Q1807.39 1469.08 1807.39 1474.49 Q1807.39 1480.07 1803.92 1483.17 Q1800.44 1486.25 1794.13 1486.25 Q1791.95 1486.25 1789.68 1485.88 Q1787.44 1485.51 1785.03 1484.77 L1785.03 1480.07 Q1787.11 1481.2 1789.33 1481.76 Q1791.56 1482.32 1794.03 1482.32 Q1798.04 1482.32 1800.38 1480.21 Q1802.71 1478.1 1802.71 1474.49 Q1802.71 1470.88 1800.38 1468.77 Q1798.04 1466.67 1794.03 1466.67 Q1792.16 1466.67 1790.28 1467.08 Q1788.43 1467.5 1786.49 1468.38 L1786.49 1451.02 Z\" fill=\"#000000\" fill-rule=\"evenodd\" fill-opacity=\"1\" /><path clip-path=\"url(#clip310)\" d=\"M1826.6 1454.1 Q1822.99 1454.1 1821.16 1457.66 Q1819.36 1461.2 1819.36 1468.33 Q1819.36 1475.44 1821.16 1479.01 Q1822.99 1482.55 1826.6 1482.55 Q1830.24 1482.55 1832.04 1479.01 Q1833.87 1475.44 1833.87 1468.33 Q1833.87 1461.2 1832.04 1457.66 Q1830.24 1454.1 1826.6 1454.1 M1826.6 1450.39 Q1832.41 1450.39 1835.47 1455 Q1838.55 1459.58 1838.55 1468.33 Q1838.55 1477.06 1835.47 1481.67 Q1832.41 1486.25 1826.6 1486.25 Q1820.79 1486.25 1817.71 1481.67 Q1814.66 1477.06 1814.66 1468.33 Q1814.66 1459.58 1817.71 1455 Q1820.79 1450.39 1826.6 1450.39 Z\" fill=\"#000000\" fill-rule=\"evenodd\" fill-opacity=\"1\" /><path clip-path=\"url(#clip310)\" d=\"M2237.77 1481.64 L2245.41 1481.64 L2245.41 1455.28 L2237.1 1456.95 L2237.1 1452.69 L2245.36 1451.02 L2250.04 1451.02 L2250.04 1481.64 L2257.68 1481.64 L2257.68 1485.58 L2237.77 1485.58 L2237.77 1481.64 Z\" fill=\"#000000\" fill-rule=\"evenodd\" fill-opacity=\"1\" /><path clip-path=\"url(#clip310)\" d=\"M2277.12 1454.1 Q2273.51 1454.1 2271.68 1457.66 Q2269.88 1461.2 2269.88 1468.33 Q2269.88 1475.44 2271.68 1479.01 Q2273.51 1482.55 2277.12 1482.55 Q2280.76 1482.55 2282.56 1479.01 Q2284.39 1475.44 2284.39 1468.33 Q2284.39 1461.2 2282.56 1457.66 Q2280.76 1454.1 2277.12 1454.1 M2277.12 1450.39 Q2282.93 1450.39 2285.99 1455 Q2289.07 1459.58 2289.07 1468.33 Q2289.07 1477.06 2285.99 1481.67 Q2282.93 1486.25 2277.12 1486.25 Q2271.31 1486.25 2268.23 1481.67 Q2265.18 1477.06 2265.18 1468.33 Q2265.18 1459.58 2268.23 1455 Q2271.31 1450.39 2277.12 1450.39 Z\" fill=\"#000000\" fill-rule=\"evenodd\" fill-opacity=\"1\" /><path clip-path=\"url(#clip310)\" d=\"M2307.28 1454.1 Q2303.67 1454.1 2301.84 1457.66 Q2300.04 1461.2 2300.04 1468.33 Q2300.04 1475.44 2301.84 1479.01 Q2303.67 1482.55 2307.28 1482.55 Q2310.92 1482.55 2312.72 1479.01 Q2314.55 1475.44 2314.55 1468.33 Q2314.55 1461.2 2312.72 1457.66 Q2310.92 1454.1 2307.28 1454.1 M2307.28 1450.39 Q2313.09 1450.39 2316.15 1455 Q2319.23 1459.58 2319.23 1468.33 Q2319.23 1477.06 2316.15 1481.67 Q2313.09 1486.25 2307.28 1486.25 Q2301.47 1486.25 2298.4 1481.67 Q2295.34 1477.06 2295.34 1468.33 Q2295.34 1459.58 2298.4 1455 Q2301.47 1450.39 2307.28 1450.39 Z\" fill=\"#000000\" fill-rule=\"evenodd\" fill-opacity=\"1\" /><path clip-path=\"url(#clip310)\" d=\"M2337.45 1454.1 Q2333.83 1454.1 2332.01 1457.66 Q2330.2 1461.2 2330.2 1468.33 Q2330.2 1475.44 2332.01 1479.01 Q2333.83 1482.55 2337.45 1482.55 Q2341.08 1482.55 2342.89 1479.01 Q2344.71 1475.44 2344.71 1468.33 Q2344.71 1461.2 2342.89 1457.66 Q2341.08 1454.1 2337.45 1454.1 M2337.45 1450.39 Q2343.26 1450.39 2346.31 1455 Q2349.39 1459.58 2349.39 1468.33 Q2349.39 1477.06 2346.31 1481.67 Q2343.26 1486.25 2337.45 1486.25 Q2331.64 1486.25 2328.56 1481.67 Q2325.5 1477.06 2325.5 1468.33 Q2325.5 1459.58 2328.56 1455 Q2331.64 1450.39 2337.45 1450.39 Z\" fill=\"#000000\" fill-rule=\"evenodd\" fill-opacity=\"1\" /><path clip-path=\"url(#clip310)\" d=\"M1150.95 1520.52 L1157.38 1520.52 L1157.38 1568.04 L1150.95 1568.04 L1150.95 1520.52 Z\" fill=\"#000000\" fill-rule=\"evenodd\" fill-opacity=\"1\" /><path clip-path=\"url(#clip310)\" d=\"M1175.72 1522.27 L1175.72 1532.4 L1187.78 1532.4 L1187.78 1536.95 L1175.72 1536.95 L1175.72 1556.3 Q1175.72 1560.66 1176.89 1561.9 Q1178.1 1563.14 1181.76 1563.14 L1187.78 1563.14 L1187.78 1568.04 L1181.76 1568.04 Q1174.99 1568.04 1172.41 1565.53 Q1169.83 1562.98 1169.83 1556.3 L1169.83 1536.95 L1165.53 1536.95 L1165.53 1532.4 L1169.83 1532.4 L1169.83 1522.27 L1175.72 1522.27 Z\" fill=\"#000000\" fill-rule=\"evenodd\" fill-opacity=\"1\" /><path clip-path=\"url(#clip310)\" d=\"M1225.97 1548.76 L1225.97 1551.62 L1199.05 1551.62 Q1199.43 1557.67 1202.68 1560.85 Q1205.95 1564 1211.78 1564 Q1215.15 1564 1218.3 1563.17 Q1221.49 1562.35 1224.61 1560.69 L1224.61 1566.23 Q1221.45 1567.57 1218.14 1568.27 Q1214.83 1568.97 1211.43 1568.97 Q1202.9 1568.97 1197.9 1564 Q1192.94 1559.04 1192.94 1550.57 Q1192.94 1541.82 1197.65 1536.69 Q1202.39 1531.54 1210.41 1531.54 Q1217.6 1531.54 1221.77 1536.18 Q1225.97 1540.8 1225.97 1548.76 M1220.12 1547.04 Q1220.05 1542.23 1217.41 1539.37 Q1214.8 1536.5 1210.47 1536.5 Q1205.57 1536.5 1202.61 1539.27 Q1199.68 1542.04 1199.24 1547.07 L1220.12 1547.04 Z\" fill=\"#000000\" fill-rule=\"evenodd\" fill-opacity=\"1\" /><path clip-path=\"url(#clip310)\" d=\"M1256.24 1537.87 Q1255.26 1537.3 1254.08 1537.04 Q1252.93 1536.76 1251.53 1536.76 Q1246.57 1536.76 1243.89 1540 Q1241.25 1543.22 1241.25 1549.27 L1241.25 1568.04 L1235.36 1568.04 L1235.36 1532.4 L1241.25 1532.4 L1241.25 1537.93 Q1243.1 1534.69 1246.06 1533.13 Q1249.02 1531.54 1253.25 1531.54 Q1253.86 1531.54 1254.59 1531.63 Q1255.32 1531.7 1256.21 1531.85 L1256.24 1537.87 Z\" fill=\"#000000\" fill-rule=\"evenodd\" fill-opacity=\"1\" /><path clip-path=\"url(#clip310)\" d=\"M1278.59 1550.12 Q1271.49 1550.12 1268.75 1551.75 Q1266.01 1553.37 1266.01 1557.29 Q1266.01 1560.4 1268.05 1562.25 Q1270.12 1564.07 1273.65 1564.07 Q1278.52 1564.07 1281.45 1560.63 Q1284.41 1557.16 1284.41 1551.43 L1284.41 1550.12 L1278.59 1550.12 M1290.27 1547.71 L1290.27 1568.04 L1284.41 1568.04 L1284.41 1562.63 Q1282.41 1565.88 1279.41 1567.44 Q1276.42 1568.97 1272.09 1568.97 Q1266.62 1568.97 1263.37 1565.91 Q1260.16 1562.82 1260.16 1557.67 Q1260.16 1551.65 1264.17 1548.6 Q1268.21 1545.54 1276.2 1545.54 L1284.41 1545.54 L1284.41 1544.97 Q1284.41 1540.93 1281.74 1538.73 Q1279.1 1536.5 1274.29 1536.5 Q1271.23 1536.5 1268.34 1537.23 Q1265.44 1537.97 1262.77 1539.43 L1262.77 1534.02 Q1265.98 1532.78 1269.01 1532.17 Q1272.03 1531.54 1274.89 1531.54 Q1282.63 1531.54 1286.45 1535.55 Q1290.27 1539.56 1290.27 1547.71 Z\" fill=\"#000000\" fill-rule=\"evenodd\" fill-opacity=\"1\" /><path clip-path=\"url(#clip310)\" d=\"M1308.12 1522.27 L1308.12 1532.4 L1320.19 1532.4 L1320.19 1536.95 L1308.12 1536.95 L1308.12 1556.3 Q1308.12 1560.66 1309.3 1561.9 Q1310.51 1563.14 1314.17 1563.14 L1320.19 1563.14 L1320.19 1568.04 L1314.17 1568.04 Q1307.39 1568.04 1304.81 1565.53 Q1302.24 1562.98 1302.24 1556.3 L1302.24 1536.95 L1297.94 1536.95 L1297.94 1532.4 L1302.24 1532.4 L1302.24 1522.27 L1308.12 1522.27 Z\" fill=\"#000000\" fill-rule=\"evenodd\" fill-opacity=\"1\" /><path clip-path=\"url(#clip310)\" d=\"M1327.89 1532.4 L1333.75 1532.4 L1333.75 1568.04 L1327.89 1568.04 L1327.89 1532.4 M1327.89 1518.52 L1333.75 1518.52 L1333.75 1525.93 L1327.89 1525.93 L1327.89 1518.52 Z\" fill=\"#000000\" fill-rule=\"evenodd\" fill-opacity=\"1\" /><path clip-path=\"url(#clip310)\" d=\"M1359.81 1536.5 Q1355.1 1536.5 1352.37 1540.19 Q1349.63 1543.85 1349.63 1550.25 Q1349.63 1556.65 1352.33 1560.34 Q1355.07 1564 1359.81 1564 Q1364.49 1564 1367.23 1560.31 Q1369.97 1556.62 1369.97 1550.25 Q1369.97 1543.92 1367.23 1540.23 Q1364.49 1536.5 1359.81 1536.5 M1359.81 1531.54 Q1367.45 1531.54 1371.81 1536.5 Q1376.17 1541.47 1376.17 1550.25 Q1376.17 1559 1371.81 1564 Q1367.45 1568.97 1359.81 1568.97 Q1352.14 1568.97 1347.78 1564 Q1343.45 1559 1343.45 1550.25 Q1343.45 1541.47 1347.78 1536.5 Q1352.14 1531.54 1359.81 1531.54 Z\" fill=\"#000000\" fill-rule=\"evenodd\" fill-opacity=\"1\" /><path clip-path=\"url(#clip310)\" d=\"M1415.51 1546.53 L1415.51 1568.04 L1409.66 1568.04 L1409.66 1546.72 Q1409.66 1541.66 1407.68 1539.14 Q1405.71 1536.63 1401.76 1536.63 Q1397.02 1536.63 1394.28 1539.65 Q1391.55 1542.68 1391.55 1547.9 L1391.55 1568.04 L1385.66 1568.04 L1385.66 1532.4 L1391.55 1532.4 L1391.55 1537.93 Q1393.65 1534.72 1396.48 1533.13 Q1399.34 1531.54 1403.07 1531.54 Q1409.21 1531.54 1412.36 1535.36 Q1415.51 1539.14 1415.51 1546.53 Z\" fill=\"#000000\" fill-rule=\"evenodd\" fill-opacity=\"1\" /><path clip-path=\"url(#clip310)\" d=\"M1449.92 1533.45 L1449.92 1538.98 Q1447.44 1537.71 1444.76 1537.07 Q1442.09 1536.44 1439.23 1536.44 Q1434.86 1536.44 1432.67 1537.77 Q1430.5 1539.11 1430.5 1541.79 Q1430.5 1543.82 1432.06 1545 Q1433.62 1546.15 1438.33 1547.2 L1440.34 1547.64 Q1446.58 1548.98 1449.19 1551.43 Q1451.83 1553.85 1451.83 1558.21 Q1451.83 1563.17 1447.88 1566.07 Q1443.97 1568.97 1437.09 1568.97 Q1434.23 1568.97 1431.11 1568.39 Q1428.02 1567.85 1424.58 1566.74 L1424.58 1560.69 Q1427.83 1562.38 1430.98 1563.24 Q1434.13 1564.07 1437.22 1564.07 Q1441.36 1564.07 1443.59 1562.66 Q1445.81 1561.23 1445.81 1558.65 Q1445.81 1556.27 1444.19 1554.99 Q1442.6 1553.72 1437.16 1552.54 L1435.12 1552.07 Q1429.68 1550.92 1427.26 1548.56 Q1424.84 1546.18 1424.84 1542.04 Q1424.84 1537.01 1428.4 1534.27 Q1431.97 1531.54 1438.53 1531.54 Q1441.77 1531.54 1444.64 1532.01 Q1447.5 1532.49 1449.92 1533.45 Z\" fill=\"#000000\" fill-rule=\"evenodd\" fill-opacity=\"1\" /><polyline clip-path=\"url(#clip312)\" style=\"stroke:#000000; stroke-linecap:butt; stroke-linejoin:round; stroke-width:2; stroke-opacity:0.1; fill:none\" points=\"\n",
       "  250.028,1118.37 2352.76,1118.37 \n",
       "  \"/>\n",
       "<polyline clip-path=\"url(#clip312)\" style=\"stroke:#000000; stroke-linecap:butt; stroke-linejoin:round; stroke-width:2; stroke-opacity:0.1; fill:none\" points=\"\n",
       "  250.028,764.221 2352.76,764.221 \n",
       "  \"/>\n",
       "<polyline clip-path=\"url(#clip312)\" style=\"stroke:#000000; stroke-linecap:butt; stroke-linejoin:round; stroke-width:2; stroke-opacity:0.1; fill:none\" points=\"\n",
       "  250.028,410.069 2352.76,410.069 \n",
       "  \"/>\n",
       "<polyline clip-path=\"url(#clip312)\" style=\"stroke:#000000; stroke-linecap:butt; stroke-linejoin:round; stroke-width:2; stroke-opacity:0.1; fill:none\" points=\"\n",
       "  250.028,55.9179 2352.76,55.9179 \n",
       "  \"/>\n",
       "<polyline clip-path=\"url(#clip310)\" style=\"stroke:#000000; stroke-linecap:butt; stroke-linejoin:round; stroke-width:4; stroke-opacity:1; fill:none\" points=\"\n",
       "  250.028,1423.18 250.028,47.2441 \n",
       "  \"/>\n",
       "<polyline clip-path=\"url(#clip310)\" style=\"stroke:#000000; stroke-linecap:butt; stroke-linejoin:round; stroke-width:4; stroke-opacity:1; fill:none\" points=\"\n",
       "  250.028,1118.37 268.926,1118.37 \n",
       "  \"/>\n",
       "<polyline clip-path=\"url(#clip310)\" style=\"stroke:#000000; stroke-linecap:butt; stroke-linejoin:round; stroke-width:4; stroke-opacity:1; fill:none\" points=\"\n",
       "  250.028,764.221 268.926,764.221 \n",
       "  \"/>\n",
       "<polyline clip-path=\"url(#clip310)\" style=\"stroke:#000000; stroke-linecap:butt; stroke-linejoin:round; stroke-width:4; stroke-opacity:1; fill:none\" points=\"\n",
       "  250.028,410.069 268.926,410.069 \n",
       "  \"/>\n",
       "<polyline clip-path=\"url(#clip310)\" style=\"stroke:#000000; stroke-linecap:butt; stroke-linejoin:round; stroke-width:4; stroke-opacity:1; fill:none\" points=\"\n",
       "  250.028,55.9179 268.926,55.9179 \n",
       "  \"/>\n",
       "<path clip-path=\"url(#clip310)\" d=\"M126.205 1104.17 Q122.593 1104.17 120.765 1107.74 Q118.959 1111.28 118.959 1118.41 Q118.959 1125.51 120.765 1129.08 Q122.593 1132.62 126.205 1132.62 Q129.839 1132.62 131.644 1129.08 Q133.473 1125.51 133.473 1118.41 Q133.473 1111.28 131.644 1107.74 Q129.839 1104.17 126.205 1104.17 M126.205 1100.47 Q132.015 1100.47 135.07 1105.07 Q138.149 1109.66 138.149 1118.41 Q138.149 1127.13 135.07 1131.74 Q132.015 1136.32 126.205 1136.32 Q120.394 1136.32 117.316 1131.74 Q114.26 1127.13 114.26 1118.41 Q114.26 1109.66 117.316 1105.07 Q120.394 1100.47 126.205 1100.47 Z\" fill=\"#000000\" fill-rule=\"evenodd\" fill-opacity=\"1\" /><path clip-path=\"url(#clip310)\" d=\"M146.366 1129.77 L151.251 1129.77 L151.251 1135.65 L146.366 1135.65 L146.366 1129.77 Z\" fill=\"#000000\" fill-rule=\"evenodd\" fill-opacity=\"1\" /><path clip-path=\"url(#clip310)\" d=\"M172.014 1116.51 Q168.866 1116.51 167.015 1118.66 Q165.186 1120.81 165.186 1124.56 Q165.186 1128.29 167.015 1130.47 Q168.866 1132.62 172.014 1132.62 Q175.163 1132.62 176.991 1130.47 Q178.843 1128.29 178.843 1124.56 Q178.843 1120.81 176.991 1118.66 Q175.163 1116.51 172.014 1116.51 M181.297 1101.86 L181.297 1106.12 Q179.538 1105.28 177.732 1104.84 Q175.95 1104.4 174.19 1104.4 Q169.561 1104.4 167.107 1107.53 Q164.677 1110.65 164.329 1116.97 Q165.695 1114.96 167.755 1113.89 Q169.815 1112.81 172.292 1112.81 Q177.501 1112.81 180.51 1115.98 Q183.542 1119.12 183.542 1124.56 Q183.542 1129.89 180.394 1133.11 Q177.246 1136.32 172.014 1136.32 Q166.019 1136.32 162.848 1131.74 Q159.677 1127.13 159.677 1118.41 Q159.677 1110.21 163.565 1105.35 Q167.454 1100.47 174.005 1100.47 Q175.764 1100.47 177.547 1100.81 Q179.352 1101.16 181.297 1101.86 Z\" fill=\"#000000\" fill-rule=\"evenodd\" fill-opacity=\"1\" /><path clip-path=\"url(#clip310)\" d=\"M204.445 1105.17 L192.639 1123.62 L204.445 1123.62 L204.445 1105.17 M203.218 1101.09 L209.098 1101.09 L209.098 1123.62 L214.028 1123.62 L214.028 1127.5 L209.098 1127.5 L209.098 1135.65 L204.445 1135.65 L204.445 1127.5 L188.843 1127.5 L188.843 1122.99 L203.218 1101.09 Z\" fill=\"#000000\" fill-rule=\"evenodd\" fill-opacity=\"1\" /><path clip-path=\"url(#clip310)\" d=\"M126.529 750.02 Q122.918 750.02 121.089 753.584 Q119.283 757.126 119.283 764.256 Q119.283 771.362 121.089 774.927 Q122.918 778.469 126.529 778.469 Q130.163 778.469 131.968 774.927 Q133.797 771.362 133.797 764.256 Q133.797 757.126 131.968 753.584 Q130.163 750.02 126.529 750.02 M126.529 746.316 Q132.339 746.316 135.394 750.922 Q138.473 755.506 138.473 764.256 Q138.473 772.982 135.394 777.589 Q132.339 782.172 126.529 782.172 Q120.718 782.172 117.64 777.589 Q114.584 772.982 114.584 764.256 Q114.584 755.506 117.64 750.922 Q120.718 746.316 126.529 746.316 Z\" fill=\"#000000\" fill-rule=\"evenodd\" fill-opacity=\"1\" /><path clip-path=\"url(#clip310)\" d=\"M146.691 775.621 L151.575 775.621 L151.575 781.501 L146.691 781.501 L146.691 775.621 Z\" fill=\"#000000\" fill-rule=\"evenodd\" fill-opacity=\"1\" /><path clip-path=\"url(#clip310)\" d=\"M172.339 762.358 Q169.19 762.358 167.339 764.51 Q165.51 766.663 165.51 770.413 Q165.51 774.14 167.339 776.316 Q169.19 778.469 172.339 778.469 Q175.487 778.469 177.315 776.316 Q179.167 774.14 179.167 770.413 Q179.167 766.663 177.315 764.51 Q175.487 762.358 172.339 762.358 M181.621 747.705 L181.621 751.964 Q179.862 751.131 178.056 750.691 Q176.274 750.251 174.514 750.251 Q169.885 750.251 167.431 753.376 Q165.001 756.501 164.653 762.82 Q166.019 760.807 168.079 759.742 Q170.139 758.654 172.616 758.654 Q177.825 758.654 180.834 761.825 Q183.866 764.973 183.866 770.413 Q183.866 775.737 180.718 778.955 Q177.57 782.172 172.339 782.172 Q166.343 782.172 163.172 777.589 Q160.001 772.982 160.001 764.256 Q160.001 756.061 163.89 751.2 Q167.778 746.316 174.329 746.316 Q176.089 746.316 177.871 746.663 Q179.676 747.01 181.621 747.705 Z\" fill=\"#000000\" fill-rule=\"evenodd\" fill-opacity=\"1\" /><path clip-path=\"url(#clip310)\" d=\"M202.5 762.358 Q199.352 762.358 197.5 764.51 Q195.672 766.663 195.672 770.413 Q195.672 774.14 197.5 776.316 Q199.352 778.469 202.5 778.469 Q205.649 778.469 207.477 776.316 Q209.329 774.14 209.329 770.413 Q209.329 766.663 207.477 764.51 Q205.649 762.358 202.5 762.358 M211.783 747.705 L211.783 751.964 Q210.024 751.131 208.218 750.691 Q206.436 750.251 204.676 750.251 Q200.047 750.251 197.593 753.376 Q195.163 756.501 194.815 762.82 Q196.181 760.807 198.241 759.742 Q200.301 758.654 202.778 758.654 Q207.987 758.654 210.996 761.825 Q214.028 764.973 214.028 770.413 Q214.028 775.737 210.88 778.955 Q207.732 782.172 202.5 782.172 Q196.505 782.172 193.334 777.589 Q190.163 772.982 190.163 764.256 Q190.163 756.061 194.051 751.2 Q197.94 746.316 204.491 746.316 Q206.25 746.316 208.033 746.663 Q209.838 747.01 211.783 747.705 Z\" fill=\"#000000\" fill-rule=\"evenodd\" fill-opacity=\"1\" /><path clip-path=\"url(#clip310)\" d=\"M126.783 395.868 Q123.172 395.868 121.343 399.433 Q119.538 402.975 119.538 410.104 Q119.538 417.211 121.343 420.775 Q123.172 424.317 126.783 424.317 Q130.417 424.317 132.223 420.775 Q134.052 417.211 134.052 410.104 Q134.052 402.975 132.223 399.433 Q130.417 395.868 126.783 395.868 M126.783 392.164 Q132.593 392.164 135.649 396.771 Q138.728 401.354 138.728 410.104 Q138.728 418.831 135.649 423.437 Q132.593 428.021 126.783 428.021 Q120.973 428.021 117.894 423.437 Q114.839 418.831 114.839 410.104 Q114.839 401.354 117.894 396.771 Q120.973 392.164 126.783 392.164 Z\" fill=\"#000000\" fill-rule=\"evenodd\" fill-opacity=\"1\" /><path clip-path=\"url(#clip310)\" d=\"M146.945 421.47 L151.829 421.47 L151.829 427.349 L146.945 427.349 L146.945 421.47 Z\" fill=\"#000000\" fill-rule=\"evenodd\" fill-opacity=\"1\" /><path clip-path=\"url(#clip310)\" d=\"M172.593 408.206 Q169.445 408.206 167.593 410.359 Q165.765 412.512 165.765 416.262 Q165.765 419.988 167.593 422.164 Q169.445 424.317 172.593 424.317 Q175.741 424.317 177.57 422.164 Q179.422 419.988 179.422 416.262 Q179.422 412.512 177.57 410.359 Q175.741 408.206 172.593 408.206 M181.876 393.553 L181.876 397.813 Q180.116 396.979 178.311 396.539 Q176.528 396.1 174.769 396.1 Q170.139 396.1 167.686 399.225 Q165.255 402.35 164.908 408.669 Q166.274 406.655 168.334 405.59 Q170.394 404.502 172.871 404.502 Q178.079 404.502 181.089 407.674 Q184.121 410.822 184.121 416.262 Q184.121 421.586 180.973 424.803 Q177.825 428.021 172.593 428.021 Q166.598 428.021 163.427 423.437 Q160.255 418.831 160.255 410.104 Q160.255 401.91 164.144 397.049 Q168.033 392.164 174.584 392.164 Q176.343 392.164 178.126 392.512 Q179.931 392.859 181.876 393.553 Z\" fill=\"#000000\" fill-rule=\"evenodd\" fill-opacity=\"1\" /><path clip-path=\"url(#clip310)\" d=\"M202.176 410.937 Q198.843 410.937 196.922 412.72 Q195.024 414.502 195.024 417.627 Q195.024 420.752 196.922 422.535 Q198.843 424.317 202.176 424.317 Q205.51 424.317 207.431 422.535 Q209.352 420.729 209.352 417.627 Q209.352 414.502 207.431 412.72 Q205.533 410.937 202.176 410.937 M197.5 408.947 Q194.491 408.206 192.801 406.146 Q191.135 404.086 191.135 401.123 Q191.135 396.979 194.075 394.572 Q197.037 392.164 202.176 392.164 Q207.338 392.164 210.278 394.572 Q213.218 396.979 213.218 401.123 Q213.218 404.086 211.528 406.146 Q209.861 408.206 206.875 408.947 Q210.255 409.734 212.13 412.025 Q214.028 414.317 214.028 417.627 Q214.028 422.65 210.949 425.336 Q207.894 428.021 202.176 428.021 Q196.459 428.021 193.38 425.336 Q190.325 422.65 190.325 417.627 Q190.325 414.317 192.223 412.025 Q194.121 409.734 197.5 408.947 M195.787 401.563 Q195.787 404.248 197.454 405.752 Q199.144 407.257 202.176 407.257 Q205.186 407.257 206.875 405.752 Q208.588 404.248 208.588 401.563 Q208.588 398.877 206.875 397.373 Q205.186 395.868 202.176 395.868 Q199.144 395.868 197.454 397.373 Q195.787 398.877 195.787 401.563 Z\" fill=\"#000000\" fill-rule=\"evenodd\" fill-opacity=\"1\" /><path clip-path=\"url(#clip310)\" d=\"M126.691 41.7166 Q123.08 41.7166 121.251 45.2814 Q119.445 48.8231 119.445 55.9526 Q119.445 63.0591 121.251 66.6239 Q123.08 70.1655 126.691 70.1655 Q130.325 70.1655 132.13 66.6239 Q133.959 63.0591 133.959 55.9526 Q133.959 48.8231 132.13 45.2814 Q130.325 41.7166 126.691 41.7166 M126.691 38.0129 Q132.501 38.0129 135.556 42.6194 Q138.635 47.2027 138.635 55.9526 Q138.635 64.6795 135.556 69.2859 Q132.501 73.8692 126.691 73.8692 Q120.88 73.8692 117.802 69.2859 Q114.746 64.6795 114.746 55.9526 Q114.746 47.2027 117.802 42.6194 Q120.88 38.0129 126.691 38.0129 Z\" fill=\"#000000\" fill-rule=\"evenodd\" fill-opacity=\"1\" /><path clip-path=\"url(#clip310)\" d=\"M146.853 67.3183 L151.737 67.3183 L151.737 73.1979 L146.853 73.1979 L146.853 67.3183 Z\" fill=\"#000000\" fill-rule=\"evenodd\" fill-opacity=\"1\" /><path clip-path=\"url(#clip310)\" d=\"M160.741 38.6379 L182.963 38.6379 L182.963 40.6287 L170.417 73.1979 L165.533 73.1979 L177.339 42.5731 L160.741 42.5731 L160.741 38.6379 Z\" fill=\"#000000\" fill-rule=\"evenodd\" fill-opacity=\"1\" /><path clip-path=\"url(#clip310)\" d=\"M202.084 41.7166 Q198.473 41.7166 196.644 45.2814 Q194.838 48.8231 194.838 55.9526 Q194.838 63.0591 196.644 66.6239 Q198.473 70.1655 202.084 70.1655 Q205.718 70.1655 207.524 66.6239 Q209.352 63.0591 209.352 55.9526 Q209.352 48.8231 207.524 45.2814 Q205.718 41.7166 202.084 41.7166 M202.084 38.0129 Q207.894 38.0129 210.949 42.6194 Q214.028 47.2027 214.028 55.9526 Q214.028 64.6795 210.949 69.2859 Q207.894 73.8692 202.084 73.8692 Q196.274 73.8692 193.195 69.2859 Q190.139 64.6795 190.139 55.9526 Q190.139 47.2027 193.195 42.6194 Q196.274 38.0129 202.084 38.0129 Z\" fill=\"#000000\" fill-rule=\"evenodd\" fill-opacity=\"1\" /><path clip-path=\"url(#clip310)\" d=\"M16.4842 936.448 L16.4842 930.019 L58.5933 930.019 L58.5933 906.879 L64.0042 906.879 L64.0042 936.448 L16.4842 936.448 Z\" fill=\"#000000\" fill-rule=\"evenodd\" fill-opacity=\"1\" /><path clip-path=\"url(#clip310)\" d=\"M32.4621 887.718 Q32.4621 892.429 36.1542 895.166 Q39.8145 897.904 46.212 897.904 Q52.6095 897.904 56.3017 895.198 Q59.9619 892.461 59.9619 887.718 Q59.9619 883.04 56.2698 880.302 Q52.5777 877.565 46.212 877.565 Q39.8781 877.565 36.186 880.302 Q32.4621 883.04 32.4621 887.718 M27.4968 887.718 Q27.4968 880.08 32.4621 875.719 Q37.4273 871.359 46.212 871.359 Q54.9649 871.359 59.9619 875.719 Q64.9272 880.08 64.9272 887.718 Q64.9272 895.389 59.9619 899.75 Q54.9649 904.078 46.212 904.078 Q37.4273 904.078 32.4621 899.75 Q27.4968 895.389 27.4968 887.718 Z\" fill=\"#000000\" fill-rule=\"evenodd\" fill-opacity=\"1\" /><path clip-path=\"url(#clip310)\" d=\"M45.7664 838.193 Q39.4007 838.193 35.8996 840.835 Q32.3984 843.445 32.3984 848.187 Q32.3984 852.898 35.8996 855.54 Q39.4007 858.15 45.7664 858.15 Q52.1003 858.15 55.6014 855.54 Q59.1026 852.898 59.1026 848.187 Q59.1026 843.445 55.6014 840.835 Q52.1003 838.193 45.7664 838.193 M59.58 832.337 Q68.683 832.337 73.1071 836.379 Q77.5631 840.421 77.5631 848.76 Q77.5631 851.848 77.0857 854.585 Q76.6401 857.322 75.6852 859.9 L69.9879 859.9 Q71.3884 857.322 72.0568 854.808 Q72.7252 852.293 72.7252 849.683 Q72.7252 843.922 69.7015 841.058 Q66.7096 838.193 60.6303 838.193 L57.7339 838.193 Q60.885 840.007 62.4446 842.84 Q64.0042 845.673 64.0042 849.62 Q64.0042 856.176 59.0071 860.187 Q54.01 864.197 45.7664 864.197 Q37.491 864.197 32.4939 860.187 Q27.4968 856.176 27.4968 849.62 Q27.4968 845.673 29.0564 842.84 Q30.616 840.007 33.7671 838.193 L28.3562 838.193 L28.3562 832.337 L59.58 832.337 Z\" fill=\"#000000\" fill-rule=\"evenodd\" fill-opacity=\"1\" /><path clip-path=\"url(#clip310)\" d=\"M16.4842 799.299 L16.4842 771.99 L21.895 771.99 L21.895 792.869 L35.8996 792.869 L35.8996 774.027 L41.3104 774.027 L41.3104 792.869 L64.0042 792.869 L64.0042 799.299 L16.4842 799.299 Z\" fill=\"#000000\" fill-rule=\"evenodd\" fill-opacity=\"1\" /><path clip-path=\"url(#clip310)\" d=\"M49.9359 766.229 L28.3562 766.229 L28.3562 760.372 L49.7131 760.372 Q54.7739 760.372 57.3202 758.399 Q59.8346 756.426 59.8346 752.479 Q59.8346 747.736 56.8109 744.999 Q53.7872 742.23 48.5673 742.23 L28.3562 742.23 L28.3562 736.374 L64.0042 736.374 L64.0042 742.23 L58.5296 742.23 Q61.7762 744.363 63.3676 747.195 Q64.9272 749.996 64.9272 753.72 Q64.9272 759.863 61.1078 763.046 Q57.2883 766.229 49.9359 766.229 M27.4968 751.492 L27.4968 751.492 Z\" fill=\"#000000\" fill-rule=\"evenodd\" fill-opacity=\"1\" /><path clip-path=\"url(#clip310)\" d=\"M42.4881 694.678 L64.0042 694.678 L64.0042 700.535 L42.679 700.535 Q37.6183 700.535 35.1038 702.508 Q32.5894 704.482 32.5894 708.428 Q32.5894 713.171 35.6131 715.908 Q38.6368 718.645 43.8567 718.645 L64.0042 718.645 L64.0042 724.533 L28.3562 724.533 L28.3562 718.645 L33.8944 718.645 Q30.6797 716.545 29.0883 713.712 Q27.4968 710.847 27.4968 707.123 Q27.4968 700.98 31.3163 697.829 Q35.1038 694.678 42.4881 694.678 Z\" fill=\"#000000\" fill-rule=\"evenodd\" fill-opacity=\"1\" /><path clip-path=\"url(#clip310)\" d=\"M29.7248 657.343 L35.1993 657.343 Q33.8307 659.826 33.1623 662.341 Q32.4621 664.823 32.4621 667.369 Q32.4621 673.067 36.0905 676.218 Q39.6872 679.369 46.212 679.369 Q52.7369 679.369 56.3653 676.218 Q59.9619 673.067 59.9619 667.369 Q59.9619 664.823 59.2935 662.341 Q58.5933 659.826 57.2247 657.343 L62.6355 657.343 Q63.7814 659.794 64.3543 662.436 Q64.9272 665.046 64.9272 668.006 Q64.9272 676.059 59.8664 680.801 Q54.8057 685.544 46.212 685.544 Q37.491 685.544 32.4939 680.769 Q27.4968 675.963 27.4968 667.624 Q27.4968 664.919 28.0697 662.341 Q28.6108 659.762 29.7248 657.343 Z\" fill=\"#000000\" fill-rule=\"evenodd\" fill-opacity=\"1\" /><path clip-path=\"url(#clip310)\" d=\"M18.2347 641.366 L28.3562 641.366 L28.3562 629.303 L32.9077 629.303 L32.9077 641.366 L52.2594 641.366 Q56.6199 641.366 57.8613 640.188 Q59.1026 638.978 59.1026 635.318 L59.1026 629.303 L64.0042 629.303 L64.0042 635.318 Q64.0042 642.098 61.4897 644.676 Q58.9434 647.254 52.2594 647.254 L32.9077 647.254 L32.9077 651.551 L28.3562 651.551 L28.3562 647.254 L18.2347 647.254 L18.2347 641.366 Z\" fill=\"#000000\" fill-rule=\"evenodd\" fill-opacity=\"1\" /><path clip-path=\"url(#clip310)\" d=\"M28.3562 621.6 L28.3562 615.744 L64.0042 615.744 L64.0042 621.6 L28.3562 621.6 M14.479 621.6 L14.479 615.744 L21.895 615.744 L21.895 621.6 L14.479 621.6 Z\" fill=\"#000000\" fill-rule=\"evenodd\" fill-opacity=\"1\" /><path clip-path=\"url(#clip310)\" d=\"M32.4621 589.676 Q32.4621 594.387 36.1542 597.124 Q39.8145 599.861 46.212 599.861 Q52.6095 599.861 56.3017 597.156 Q59.9619 594.418 59.9619 589.676 Q59.9619 584.997 56.2698 582.26 Q52.5777 579.523 46.212 579.523 Q39.8781 579.523 36.186 582.26 Q32.4621 584.997 32.4621 589.676 M27.4968 589.676 Q27.4968 582.037 32.4621 577.677 Q37.4273 573.316 46.212 573.316 Q54.9649 573.316 59.9619 577.677 Q64.9272 582.037 64.9272 589.676 Q64.9272 597.347 59.9619 601.707 Q54.9649 606.036 46.212 606.036 Q37.4273 606.036 32.4621 601.707 Q27.4968 597.347 27.4968 589.676 Z\" fill=\"#000000\" fill-rule=\"evenodd\" fill-opacity=\"1\" /><path clip-path=\"url(#clip310)\" d=\"M42.4881 533.976 L64.0042 533.976 L64.0042 539.833 L42.679 539.833 Q37.6183 539.833 35.1038 541.806 Q32.5894 543.779 32.5894 547.726 Q32.5894 552.468 35.6131 555.206 Q38.6368 557.943 43.8567 557.943 L64.0042 557.943 L64.0042 563.831 L28.3562 563.831 L28.3562 557.943 L33.8944 557.943 Q30.6797 555.842 29.0883 553.01 Q27.4968 550.145 27.4968 546.421 Q27.4968 540.278 31.3163 537.127 Q35.1038 533.976 42.4881 533.976 Z\" fill=\"#000000\" fill-rule=\"evenodd\" fill-opacity=\"1\" /><polyline clip-path=\"url(#clip312)\" style=\"stroke:#ff0000; stroke-linecap:butt; stroke-linejoin:round; stroke-width:12; stroke-opacity:1; fill:none\" points=\"\n",
       "  309.539,86.1857 311.525,769.325 313.511,735.406 315.496,961.456 317.482,946.678 319.468,1063.3 321.453,1057.01 323.439,1126.78 325.425,1124.69 327.411,1169.8 \n",
       "  329.396,1169.87 331.382,1200.47 333.368,1201.63 335.353,1223.06 337.339,1224.73 339.325,1240.1 341.31,1241.94 343.296,1253.16 345.282,1254.99 347.267,1263.29 \n",
       "  349.253,1265.01 351.239,1271.21 353.225,1272.78 355.21,1277.47 357.196,1278.86 359.182,1282.43 361.167,1283.65 363.153,1286.39 365.139,1287.44 367.124,1289.55 \n",
       "  369.11,1290.46 371.096,1292.11 373.081,1292.88 375.067,1294.17 377.053,1294.83 379.038,1295.84 381.024,1296.41 383.01,1297.21 384.996,1297.69 386.981,1298.34 \n",
       "  388.967,1298.75 390.953,1299.27 392.938,1299.62 394.924,1300.05 396.91,1300.35 398.895,1300.7 400.881,1300.96 402.867,1301.26 404.852,1301.49 406.838,1301.74 \n",
       "  408.824,1301.94 410.81,1302.16 412.795,1302.33 414.781,1302.52 416.767,1302.68 418.752,1302.85 420.738,1303 422.724,1303.15 424.709,1303.28 426.695,1303.42 \n",
       "  428.681,1303.54 430.666,1303.67 432.652,1303.79 434.638,1303.9 436.624,1304.01 438.609,1304.13 440.595,1304.23 442.581,1304.34 444.566,1304.44 446.552,1304.54 \n",
       "  448.538,1304.64 450.523,1304.74 452.509,1304.84 454.495,1304.93 456.48,1305.03 458.466,1305.12 460.452,1305.21 462.438,1305.31 464.423,1305.4 466.409,1305.49 \n",
       "  468.395,1305.58 470.38,1305.67 472.366,1305.76 474.352,1305.85 476.337,1305.94 478.323,1306.03 480.309,1306.11 482.294,1306.2 484.28,1306.29 486.266,1306.38 \n",
       "  488.252,1306.47 490.237,1306.55 492.223,1306.64 494.209,1306.73 496.194,1306.81 498.18,1306.9 500.166,1306.99 502.151,1307.07 504.137,1307.16 506.123,1307.25 \n",
       "  508.108,1307.33 510.094,1307.42 512.08,1307.51 514.065,1307.59 516.051,1307.68 518.037,1307.77 520.023,1307.85 522.008,1307.94 523.994,1308.03 525.98,1308.11 \n",
       "  527.965,1308.2 529.951,1308.29 531.937,1308.37 533.922,1308.46 535.908,1308.54 537.894,1308.63 539.879,1308.72 541.865,1308.8 543.851,1308.89 545.837,1308.98 \n",
       "  547.822,1309.06 549.808,1309.15 551.794,1309.23 553.779,1309.32 555.765,1309.41 557.751,1309.49 559.736,1309.58 561.722,1309.67 563.708,1309.75 565.693,1309.84 \n",
       "  567.679,1309.92 569.665,1310.01 571.651,1310.1 573.636,1310.18 575.622,1310.27 577.608,1310.35 579.593,1310.44 581.579,1310.53 583.565,1310.61 585.55,1310.7 \n",
       "  587.536,1310.79 589.522,1310.87 591.507,1310.96 593.493,1311.04 595.479,1311.13 597.465,1311.22 599.45,1311.3 601.436,1311.39 603.422,1311.47 605.407,1311.56 \n",
       "  607.393,1311.65 609.379,1311.73 611.364,1311.82 613.35,1311.91 615.336,1311.99 617.321,1312.08 619.307,1312.16 621.293,1312.25 623.279,1312.34 625.264,1312.42 \n",
       "  627.25,1312.51 629.236,1312.59 631.221,1312.68 633.207,1312.77 635.193,1312.85 637.178,1312.94 639.164,1313.02 641.15,1313.11 643.135,1313.2 645.121,1313.28 \n",
       "  647.107,1313.37 649.092,1313.46 651.078,1313.54 653.064,1313.63 655.05,1313.71 657.035,1313.8 659.021,1313.89 661.007,1313.97 662.992,1314.06 664.978,1314.14 \n",
       "  666.964,1314.23 668.949,1314.32 670.935,1314.4 672.921,1314.49 674.906,1314.57 676.892,1314.66 678.878,1314.75 680.864,1314.83 682.849,1314.92 684.835,1315 \n",
       "  686.821,1315.09 688.806,1315.18 690.792,1315.26 692.778,1315.35 694.763,1315.44 696.749,1315.52 698.735,1315.61 700.72,1315.69 702.706,1315.78 704.692,1315.87 \n",
       "  706.678,1315.95 708.663,1316.04 710.649,1316.12 712.635,1316.21 714.62,1316.3 716.606,1316.38 718.592,1316.47 720.577,1316.55 722.563,1316.64 724.549,1316.73 \n",
       "  726.534,1316.81 728.52,1316.9 730.506,1316.98 732.492,1317.07 734.477,1317.16 736.463,1317.24 738.449,1317.33 740.434,1317.41 742.42,1317.5 744.406,1317.59 \n",
       "  746.391,1317.67 748.377,1317.76 750.363,1317.84 752.348,1317.93 754.334,1318.02 756.32,1318.1 758.305,1318.19 760.291,1318.27 762.277,1318.36 764.263,1318.45 \n",
       "  766.248,1318.53 768.234,1318.62 770.22,1318.7 772.205,1318.79 774.191,1318.88 776.177,1318.96 778.162,1319.05 780.148,1319.13 782.134,1319.22 784.119,1319.31 \n",
       "  786.105,1319.39 788.091,1319.48 790.077,1319.56 792.062,1319.65 794.048,1319.74 796.034,1319.82 798.019,1319.91 800.005,1319.99 801.991,1320.08 803.976,1320.17 \n",
       "  805.962,1320.25 807.948,1320.34 809.933,1320.42 811.919,1320.51 813.905,1320.6 815.891,1320.68 817.876,1320.77 819.862,1320.85 821.848,1320.94 823.833,1321.03 \n",
       "  825.819,1321.11 827.805,1321.2 829.79,1321.28 831.776,1321.37 833.762,1321.46 835.747,1321.54 837.733,1321.63 839.719,1321.71 841.705,1321.8 843.69,1321.89 \n",
       "  845.676,1321.97 847.662,1322.06 849.647,1322.14 851.633,1322.23 853.619,1322.32 855.604,1322.4 857.59,1322.49 859.576,1322.57 861.561,1322.66 863.547,1322.75 \n",
       "  865.533,1322.83 867.519,1322.92 869.504,1323 871.49,1323.09 873.476,1323.17 875.461,1323.26 877.447,1323.35 879.433,1323.43 881.418,1323.52 883.404,1323.6 \n",
       "  885.39,1323.69 887.375,1323.78 889.361,1323.86 891.347,1323.95 893.332,1324.03 895.318,1324.12 897.304,1324.21 899.29,1324.29 901.275,1324.38 903.261,1324.46 \n",
       "  905.247,1324.55 907.232,1324.64 909.218,1324.72 911.204,1324.81 913.189,1324.89 915.175,1324.98 917.161,1325.07 919.146,1325.15 921.132,1325.24 923.118,1325.32 \n",
       "  925.104,1325.41 927.089,1325.49 929.075,1325.58 931.061,1325.67 933.046,1325.75 935.032,1325.84 937.018,1325.92 939.003,1326.01 940.989,1326.1 942.975,1326.18 \n",
       "  944.96,1326.27 946.946,1326.35 948.932,1326.44 950.918,1326.53 952.903,1326.61 954.889,1326.7 956.875,1326.78 958.86,1326.87 960.846,1326.95 962.832,1327.04 \n",
       "  964.817,1327.13 966.803,1327.21 968.789,1327.3 970.774,1327.38 972.76,1327.47 974.746,1327.56 976.732,1327.64 978.717,1327.73 980.703,1327.81 982.689,1327.9 \n",
       "  984.674,1327.98 986.66,1328.07 988.646,1328.16 990.631,1328.24 992.617,1328.33 994.603,1328.41 996.588,1328.5 998.574,1328.59 1000.56,1328.67 1002.55,1328.76 \n",
       "  1004.53,1328.84 1006.52,1328.93 1008.5,1329.01 1010.49,1329.1 1012.47,1329.19 1014.46,1329.27 1016.45,1329.36 1018.43,1329.44 1020.42,1329.53 1022.4,1329.62 \n",
       "  1024.39,1329.7 1026.37,1329.79 1028.36,1329.87 1030.35,1329.96 1032.33,1330.04 1034.32,1330.13 1036.3,1330.22 1038.29,1330.3 1040.27,1330.39 1042.26,1330.47 \n",
       "  1044.25,1330.56 1046.23,1330.65 1048.22,1330.73 1050.2,1330.82 1052.19,1330.9 1054.17,1330.99 1056.16,1331.07 1058.14,1331.16 1060.13,1331.25 1062.12,1331.33 \n",
       "  1064.1,1331.42 1066.09,1331.5 1068.07,1331.59 1070.06,1331.67 1072.04,1331.76 1074.03,1331.85 1076.02,1331.93 1078,1332.02 1079.99,1332.1 1081.97,1332.19 \n",
       "  1083.96,1332.28 1085.94,1332.36 1087.93,1332.45 1089.92,1332.53 1091.9,1332.62 1093.89,1332.7 1095.87,1332.79 1097.86,1332.88 1099.84,1332.96 1101.83,1333.05 \n",
       "  1103.82,1333.13 1105.8,1333.22 1107.79,1333.3 1109.77,1333.39 1111.76,1333.48 1113.74,1333.56 1115.73,1333.65 1117.72,1333.73 1119.7,1333.82 1121.69,1333.9 \n",
       "  1123.67,1333.99 1125.66,1334.08 1127.64,1334.16 1129.63,1334.25 1131.62,1334.33 1133.6,1334.42 1135.59,1334.5 1137.57,1334.59 1139.56,1334.68 1141.54,1334.76 \n",
       "  1143.53,1334.85 1145.52,1334.93 1147.5,1335.02 1149.49,1335.11 1151.47,1335.19 1153.46,1335.28 1155.44,1335.36 1157.43,1335.45 1159.42,1335.53 1161.4,1335.62 \n",
       "  1163.39,1335.71 1165.37,1335.79 1167.36,1335.88 1169.34,1335.96 1171.33,1336.05 1173.31,1336.13 1175.3,1336.22 1177.29,1336.31 1179.27,1336.39 1181.26,1336.48 \n",
       "  1183.24,1336.56 1185.23,1336.65 1187.21,1336.73 1189.2,1336.82 1191.19,1336.9 1193.17,1336.99 1195.16,1337.08 1197.14,1337.16 1199.13,1337.25 1201.11,1337.33 \n",
       "  1203.1,1337.42 1205.09,1337.5 1207.07,1337.59 1209.06,1337.68 1211.04,1337.76 1213.03,1337.85 1215.01,1337.93 1217,1338.02 1218.99,1338.1 1220.97,1338.19 \n",
       "  1222.96,1338.28 1224.94,1338.36 1226.93,1338.45 1228.91,1338.53 1230.9,1338.62 1232.89,1338.7 1234.87,1338.79 1236.86,1338.88 1238.84,1338.96 1240.83,1339.05 \n",
       "  1242.81,1339.13 1244.8,1339.22 1246.79,1339.3 1248.77,1339.39 1250.76,1339.48 1252.74,1339.56 1254.73,1339.65 1256.71,1339.73 1258.7,1339.82 1260.69,1339.9 \n",
       "  1262.67,1339.99 1264.66,1340.07 1266.64,1340.16 1268.63,1340.25 1270.61,1340.33 1272.6,1340.42 1274.59,1340.5 1276.57,1340.59 1278.56,1340.67 1280.54,1340.76 \n",
       "  1282.53,1340.85 1284.51,1340.93 1286.5,1341.02 1288.49,1341.1 1290.47,1341.19 1292.46,1341.27 1294.44,1341.36 1296.43,1341.44 1298.41,1341.53 1300.4,1341.62 \n",
       "  1302.38,1341.7 1304.37,1341.79 1306.36,1341.87 1308.34,1341.96 1310.33,1342.04 1312.31,1342.13 1314.3,1342.22 1316.28,1342.3 1318.27,1342.39 1320.26,1342.47 \n",
       "  1322.24,1342.56 1324.23,1342.64 1326.21,1342.73 1328.2,1342.81 1330.18,1342.9 1332.17,1342.99 1334.16,1343.07 1336.14,1343.16 1338.13,1343.24 1340.11,1343.33 \n",
       "  1342.1,1343.41 1344.08,1343.5 1346.07,1343.58 1348.06,1343.67 1350.04,1343.76 1352.03,1343.84 1354.01,1343.93 1356,1344.01 1357.98,1344.1 1359.97,1344.18 \n",
       "  1361.96,1344.27 1363.94,1344.35 1365.93,1344.44 1367.91,1344.53 1369.9,1344.61 1371.88,1344.7 1373.87,1344.78 1375.86,1344.87 1377.84,1344.95 1379.83,1345.04 \n",
       "  1381.81,1345.12 1383.8,1345.21 1385.78,1345.3 1387.77,1345.38 1389.76,1345.47 1391.74,1345.55 1393.73,1345.64 1395.71,1345.72 1397.7,1345.81 1399.68,1345.89 \n",
       "  1401.67,1345.98 1403.66,1346.07 1405.64,1346.15 1407.63,1346.24 1409.61,1346.32 1411.6,1346.41 1413.58,1346.49 1415.57,1346.58 1417.55,1346.66 1419.54,1346.75 \n",
       "  1421.53,1346.84 1423.51,1346.92 1425.5,1347.01 1427.48,1347.09 1429.47,1347.18 1431.45,1347.26 1433.44,1347.35 1435.43,1347.43 1437.41,1347.52 1439.4,1347.61 \n",
       "  1441.38,1347.69 1443.37,1347.78 1445.35,1347.86 1447.34,1347.95 1449.33,1348.03 1451.31,1348.12 1453.3,1348.2 1455.28,1348.29 1457.27,1348.37 1459.25,1348.46 \n",
       "  1461.24,1348.55 1463.23,1348.63 1465.21,1348.72 1467.2,1348.8 1469.18,1348.89 1471.17,1348.97 1473.15,1349.06 1475.14,1349.14 1477.13,1349.23 1479.11,1349.32 \n",
       "  1481.1,1349.4 1483.08,1349.49 1485.07,1349.57 1487.05,1349.66 1489.04,1349.74 1491.03,1349.83 1493.01,1349.91 1495,1350 1496.98,1350.08 1498.97,1350.17 \n",
       "  1500.95,1350.26 1502.94,1350.34 1504.93,1350.43 1506.91,1350.51 1508.9,1350.6 1510.88,1350.68 1512.87,1350.77 1514.85,1350.85 1516.84,1350.94 1518.83,1351.02 \n",
       "  1520.81,1351.11 1522.8,1351.2 1524.78,1351.28 1526.77,1351.37 1528.75,1351.45 1530.74,1351.54 1532.73,1351.62 1534.71,1351.71 1536.7,1351.79 1538.68,1351.88 \n",
       "  1540.67,1351.96 1542.65,1352.05 1544.64,1352.14 1546.62,1352.22 1548.61,1352.31 1550.6,1352.39 1552.58,1352.48 1554.57,1352.56 1556.55,1352.65 1558.54,1352.73 \n",
       "  1560.52,1352.82 1562.51,1352.9 1564.5,1352.99 1566.48,1353.07 1568.47,1353.16 1570.45,1353.25 1572.44,1353.33 1574.42,1353.42 1576.41,1353.5 1578.4,1353.59 \n",
       "  1580.38,1353.67 1582.37,1353.76 1584.35,1353.84 1586.34,1353.93 1588.32,1354.01 1590.31,1354.1 1592.3,1354.19 1594.28,1354.27 1596.27,1354.36 1598.25,1354.44 \n",
       "  1600.24,1354.53 1602.22,1354.61 1604.21,1354.7 1606.2,1354.78 1608.18,1354.87 1610.17,1354.95 1612.15,1355.04 1614.14,1355.12 1616.12,1355.21 1618.11,1355.3 \n",
       "  1620.1,1355.38 1622.08,1355.47 1624.07,1355.55 1626.05,1355.64 1628.04,1355.72 1630.02,1355.81 1632.01,1355.89 1634,1355.98 1635.98,1356.06 1637.97,1356.15 \n",
       "  1639.95,1356.23 1641.94,1356.32 1643.92,1356.4 1645.91,1356.49 1647.9,1356.58 1649.88,1356.66 1651.87,1356.75 1653.85,1356.83 1655.84,1356.92 1657.82,1357 \n",
       "  1659.81,1357.09 1661.79,1357.17 1663.78,1357.26 1665.77,1357.34 1667.75,1357.43 1669.74,1357.51 1671.72,1357.6 1673.71,1357.69 1675.69,1357.77 1677.68,1357.86 \n",
       "  1679.67,1357.94 1681.65,1358.03 1683.64,1358.11 1685.62,1358.2 1687.61,1358.28 1689.59,1358.37 1691.58,1358.45 1693.57,1358.54 1695.55,1358.62 1697.54,1358.71 \n",
       "  1699.52,1358.79 1701.51,1358.88 1703.49,1358.96 1705.48,1359.05 1707.47,1359.14 1709.45,1359.22 1711.44,1359.31 1713.42,1359.39 1715.41,1359.48 1717.39,1359.56 \n",
       "  1719.38,1359.65 1721.37,1359.73 1723.35,1359.82 1725.34,1359.9 1727.32,1359.99 1729.31,1360.07 1731.29,1360.16 1733.28,1360.24 1735.27,1360.33 1737.25,1360.42 \n",
       "  1739.24,1360.5 1741.22,1360.59 1743.21,1360.67 1745.19,1360.76 1747.18,1360.84 1749.17,1360.93 1751.15,1361.01 1753.14,1361.1 1755.12,1361.18 1757.11,1361.27 \n",
       "  1759.09,1361.35 1761.08,1361.44 1763.07,1361.52 1765.05,1361.61 1767.04,1361.69 1769.02,1361.78 1771.01,1361.86 1772.99,1361.95 1774.98,1362.04 1776.97,1362.12 \n",
       "  1778.95,1362.21 1780.94,1362.29 1782.92,1362.38 1784.91,1362.46 1786.89,1362.55 1788.88,1362.63 1790.86,1362.72 1792.85,1362.8 1794.84,1362.89 1796.82,1362.97 \n",
       "  1798.81,1363.06 1800.79,1363.14 1802.78,1363.23 1804.76,1363.31 1806.75,1363.4 1808.74,1363.48 1810.72,1363.57 1812.71,1363.65 1814.69,1363.74 1816.68,1363.83 \n",
       "  1818.66,1363.91 1820.65,1364 1822.64,1364.08 1824.62,1364.17 1826.61,1364.25 1828.59,1364.34 1830.58,1364.42 1832.56,1364.51 1834.55,1364.59 1836.54,1364.68 \n",
       "  1838.52,1364.76 1840.51,1364.85 1842.49,1364.93 1844.48,1365.02 1846.46,1365.1 1848.45,1365.19 1850.44,1365.27 1852.42,1365.36 1854.41,1365.44 1856.39,1365.53 \n",
       "  1858.38,1365.61 1860.36,1365.7 1862.35,1365.79 1864.34,1365.87 1866.32,1365.96 1868.31,1366.04 1870.29,1366.13 1872.28,1366.21 1874.26,1366.3 1876.25,1366.38 \n",
       "  1878.24,1366.47 1880.22,1366.55 1882.21,1366.64 1884.19,1366.72 1886.18,1366.81 1888.16,1366.89 1890.15,1366.98 1892.14,1367.06 1894.12,1367.15 1896.11,1367.23 \n",
       "  1898.09,1367.32 1900.08,1367.4 1902.06,1367.49 1904.05,1367.57 1906.03,1367.66 1908.02,1367.74 1910.01,1367.83 1911.99,1367.91 1913.98,1368 1915.96,1368.09 \n",
       "  1917.95,1368.17 1919.93,1368.26 1921.92,1368.34 1923.91,1368.43 1925.89,1368.51 1927.88,1368.6 1929.86,1368.68 1931.85,1368.77 1933.83,1368.85 1935.82,1368.94 \n",
       "  1937.81,1369.02 1939.79,1369.11 1941.78,1369.19 1943.76,1369.28 1945.75,1369.36 1947.73,1369.45 1949.72,1369.53 1951.71,1369.62 1953.69,1369.7 1955.68,1369.79 \n",
       "  1957.66,1369.87 1959.65,1369.96 1961.63,1370.04 1963.62,1370.13 1965.61,1370.21 1967.59,1370.3 1969.58,1370.38 1971.56,1370.47 1973.55,1370.55 1975.53,1370.64 \n",
       "  1977.52,1370.72 1979.51,1370.81 1981.49,1370.89 1983.48,1370.98 1985.46,1371.06 1987.45,1371.15 1989.43,1371.23 1991.42,1371.32 1993.41,1371.41 1995.39,1371.49 \n",
       "  1997.38,1371.58 1999.36,1371.66 2001.35,1371.75 2003.33,1371.83 2005.32,1371.92 2007.31,1372 2009.29,1372.09 2011.28,1372.17 2013.26,1372.26 2015.25,1372.34 \n",
       "  2017.23,1372.43 2019.22,1372.51 2021.21,1372.6 2023.19,1372.68 2025.18,1372.77 2027.16,1372.85 2029.15,1372.94 2031.13,1373.02 2033.12,1373.11 2035.1,1373.19 \n",
       "  2037.09,1373.28 2039.08,1373.36 2041.06,1373.45 2043.05,1373.53 2045.03,1373.62 2047.02,1373.7 2049,1373.79 2050.99,1373.87 2052.98,1373.96 2054.96,1374.04 \n",
       "  2056.95,1374.13 2058.93,1374.21 2060.92,1374.3 2062.9,1374.38 2064.89,1374.47 2066.88,1374.55 2068.86,1374.64 2070.85,1374.72 2072.83,1374.81 2074.82,1374.89 \n",
       "  2076.8,1374.98 2078.79,1375.06 2080.78,1375.15 2082.76,1375.23 2084.75,1375.32 2086.73,1375.4 2088.72,1375.49 2090.7,1375.57 2092.69,1375.66 2094.68,1375.74 \n",
       "  2096.66,1375.83 2098.65,1375.91 2100.63,1376 2102.62,1376.08 2104.6,1376.17 2106.59,1376.25 2108.58,1376.34 2110.56,1376.42 2112.55,1376.51 2114.53,1376.59 \n",
       "  2116.52,1376.68 2118.5,1376.76 2120.49,1376.85 2122.48,1376.93 2124.46,1377.02 2126.45,1377.1 2128.43,1377.19 2130.42,1377.27 2132.4,1377.36 2134.39,1377.44 \n",
       "  2136.38,1377.53 2138.36,1377.61 2140.35,1377.7 2142.33,1377.78 2144.32,1377.87 2146.3,1377.95 2148.29,1378.04 2150.27,1378.12 2152.26,1378.21 2154.25,1378.29 \n",
       "  2156.23,1378.38 2158.22,1378.46 2160.2,1378.55 2162.19,1378.63 2164.17,1378.72 2166.16,1378.8 2168.15,1378.89 2170.13,1378.97 2172.12,1379.06 2174.1,1379.14 \n",
       "  2176.09,1379.23 2178.07,1379.31 2180.06,1379.4 2182.05,1379.48 2184.03,1379.57 2186.02,1379.65 2188,1379.74 2189.99,1379.82 2191.97,1379.91 2193.96,1379.99 \n",
       "  2195.95,1380.08 2197.93,1380.16 2199.92,1380.25 2201.9,1380.33 2203.89,1380.42 2205.87,1380.5 2207.86,1380.59 2209.85,1380.67 2211.83,1380.76 2213.82,1380.84 \n",
       "  2215.8,1380.93 2217.79,1381.01 2219.77,1381.1 2221.76,1381.18 2223.75,1381.27 2225.73,1381.35 2227.72,1381.44 2229.7,1381.52 2231.69,1381.61 2233.67,1381.69 \n",
       "  2235.66,1381.78 2237.65,1381.86 2239.63,1381.95 2241.62,1382.03 2243.6,1382.12 2245.59,1382.2 2247.57,1382.29 2249.56,1382.37 2251.55,1382.46 2253.53,1382.54 \n",
       "  2255.52,1382.63 2257.5,1382.71 2259.49,1382.8 2261.47,1382.88 2263.46,1382.96 2265.45,1383.05 2267.43,1383.13 2269.42,1383.22 2271.4,1383.3 2273.39,1383.39 \n",
       "  2275.37,1383.47 2277.36,1383.56 2279.34,1383.64 2281.33,1383.73 2283.32,1383.81 2285.3,1383.9 2287.29,1383.98 2289.27,1384.07 2291.26,1384.15 2293.24,1384.24 \n",
       "  \n",
       "  \"/>\n",
       "<path clip-path=\"url(#clip310)\" d=\"\n",
       "M1996.6 196.789 L2282.66 196.789 L2282.66 93.1086 L1996.6 93.1086  Z\n",
       "  \" fill=\"#ffffff\" fill-rule=\"evenodd\" fill-opacity=\"1\"/>\n",
       "<polyline clip-path=\"url(#clip310)\" style=\"stroke:#000000; stroke-linecap:butt; stroke-linejoin:round; stroke-width:4; stroke-opacity:1; fill:none\" points=\"\n",
       "  1996.6,196.789 2282.66,196.789 2282.66,93.1086 1996.6,93.1086 1996.6,196.789 \n",
       "  \"/>\n",
       "<polyline clip-path=\"url(#clip310)\" style=\"stroke:#ff0000; stroke-linecap:butt; stroke-linejoin:round; stroke-width:4; stroke-opacity:1; fill:none\" points=\"\n",
       "  2019.96,144.949 2160.14,144.949 \n",
       "  \"/>\n",
       "<path clip-path=\"url(#clip310)\" d=\"M2197.35 164.636 Q2195.54 169.266 2193.83 170.678 Q2192.12 172.09 2189.25 172.09 L2185.85 172.09 L2185.85 168.525 L2188.35 168.525 Q2190.1 168.525 2191.08 167.692 Q2192.05 166.858 2193.23 163.756 L2193.99 161.812 L2183.51 136.303 L2188.02 136.303 L2196.12 156.581 L2204.22 136.303 L2208.74 136.303 L2197.35 164.636 Z\" fill=\"#000000\" fill-rule=\"evenodd\" fill-opacity=\"1\" /><path clip-path=\"url(#clip310)\" d=\"M2216.03 158.293 L2223.67 158.293 L2223.67 131.928 L2215.36 133.595 L2215.36 129.335 L2223.62 127.669 L2228.3 127.669 L2228.3 158.293 L2235.94 158.293 L2235.94 162.229 L2216.03 162.229 L2216.03 158.293 Z\" fill=\"#000000\" fill-rule=\"evenodd\" fill-opacity=\"1\" /></svg>\n"
      ]
     },
     "execution_count": 428,
     "metadata": {},
     "output_type": "execute_result"
    }
   ],
   "source": [
    "Plots.plot(getindex.(result, 1), getindex.(result, 3), linewidth=3, color=:red, \n",
    "        xlabel=\"Iterations\",\n",
    "        ylabel=\"Log Function\")"
   ]
  },
  {
   "cell_type": "code",
   "execution_count": 384,
   "id": "0c6a61f5",
   "metadata": {},
   "outputs": [
    {
     "data": {
      "text/plain": [
       "3-element Vector{Float64}:\n",
       " -0.06946097459445379\n",
       "  0.010907328656905293\n",
       "  0.0009913547184689526"
      ]
     },
     "execution_count": 384,
     "metadata": {},
     "output_type": "execute_result"
    }
   ],
   "source": [
    "optimizedTheta = result[iterations][2]"
   ]
  },
  {
   "cell_type": "code",
   "execution_count": 385,
   "id": "c8c10c46",
   "metadata": {},
   "outputs": [
    {
     "data": {
      "text/plain": [
       "0.6237824177956309"
      ]
     },
     "execution_count": 385,
     "metadata": {},
     "output_type": "execute_result"
    }
   ],
   "source": [
    "# Predict probability for a student with score 45 on exam 1 \n",
    "# and score 85 on exam 2 \n",
    "\n",
    "sigmoid(optimizedTheta'*[1, 45, 85])"
   ]
  },
  {
   "cell_type": "code",
   "execution_count": 372,
   "id": "bea9b031",
   "metadata": {},
   "outputs": [
    {
     "data": {
      "text/plain": [
       "-0.002728928694784992"
      ]
     },
     "execution_count": 372,
     "metadata": {},
     "output_type": "execute_result"
    }
   ],
   "source": [
    "optimizedTheta[1]"
   ]
  },
  {
   "cell_type": "code",
   "execution_count": 386,
   "id": "5d75a691",
   "metadata": {},
   "outputs": [
    {
     "data": {
      "text/plain": [
       "100-element Vector{Float64}:\n",
       "  -310.8782905789205\n",
       "  -263.1612366702938\n",
       "  -324.3425268144996\n",
       "  -592.0891941123955\n",
       "  -799.4868409857784\n",
       "  -425.9596912257123\n",
       "  -602.2561728039041\n",
       "  -755.3891344425051\n",
       "  -767.20621608932\n",
       "  -858.9009829566255\n",
       "  -984.6450457549712\n",
       "  -755.2671483461471\n",
       "  -835.5123467978873\n",
       "     ⋮\n",
       "  -795.1154396808091\n",
       "  -505.88946629471764\n",
       "  -965.2012563345588\n",
       "  -925.0887500722766\n",
       "  -540.3728671305786\n",
       "  -749.5352473821862\n",
       "  -918.4570877032498\n",
       "  -848.5184435839922\n",
       "  -394.9154409074196\n",
       " -1022.641490597806\n",
       "  -538.8089397876901\n",
       "  -752.6511470410845"
      ]
     },
     "execution_count": 386,
     "metadata": {},
     "output_type": "execute_result"
    }
   ],
   "source": [
    "#optimizedTheta = result[iterations][2]\n",
    "x2 = data.exam1score\n",
    "\n",
    "decision_x3 = ((-1)/optimizedTheta[3]) .* ( (optimizedTheta[2] .* x2) .+ (optimizedTheta[1]))\n"
   ]
  },
  {
   "cell_type": "code",
   "execution_count": 387,
   "id": "2ff4f623",
   "metadata": {},
   "outputs": [
    {
     "data": {
      "image/svg+xml": [
       "<?xml version=\"1.0\" encoding=\"utf-8\"?>\n",
       "<svg xmlns=\"http://www.w3.org/2000/svg\" xmlns:xlink=\"http://www.w3.org/1999/xlink\" width=\"600\" height=\"400\" viewBox=\"0 0 2400 1600\">\n",
       "<defs>\n",
       "  <clipPath id=\"clip230\">\n",
       "    <rect x=\"0\" y=\"0\" width=\"2400\" height=\"1600\"/>\n",
       "  </clipPath>\n",
       "</defs>\n",
       "<path clip-path=\"url(#clip230)\" d=\"\n",
       "M0 1600 L2400 1600 L2400 0 L0 0  Z\n",
       "  \" fill=\"#ffffff\" fill-rule=\"evenodd\" fill-opacity=\"1\"/>\n",
       "<defs>\n",
       "  <clipPath id=\"clip231\">\n",
       "    <rect x=\"480\" y=\"0\" width=\"1681\" height=\"1600\"/>\n",
       "  </clipPath>\n",
       "</defs>\n",
       "<path clip-path=\"url(#clip230)\" d=\"\n",
       "M239.19 1486.45 L2352.76 1486.45 L2352.76 47.2441 L239.19 47.2441  Z\n",
       "  \" fill=\"#ffffff\" fill-rule=\"evenodd\" fill-opacity=\"1\"/>\n",
       "<defs>\n",
       "  <clipPath id=\"clip232\">\n",
       "    <rect x=\"239\" y=\"47\" width=\"2115\" height=\"1440\"/>\n",
       "  </clipPath>\n",
       "</defs>\n",
       "<polyline clip-path=\"url(#clip232)\" style=\"stroke:#000000; stroke-linecap:butt; stroke-linejoin:round; stroke-width:2; stroke-opacity:0.1; fill:none\" points=\"\n",
       "  583.117,1486.45 583.117,47.2441 \n",
       "  \"/>\n",
       "<polyline clip-path=\"url(#clip232)\" style=\"stroke:#000000; stroke-linecap:butt; stroke-linejoin:round; stroke-width:2; stroke-opacity:0.1; fill:none\" points=\"\n",
       "  1154.7,1486.45 1154.7,47.2441 \n",
       "  \"/>\n",
       "<polyline clip-path=\"url(#clip232)\" style=\"stroke:#000000; stroke-linecap:butt; stroke-linejoin:round; stroke-width:2; stroke-opacity:0.1; fill:none\" points=\"\n",
       "  1726.28,1486.45 1726.28,47.2441 \n",
       "  \"/>\n",
       "<polyline clip-path=\"url(#clip232)\" style=\"stroke:#000000; stroke-linecap:butt; stroke-linejoin:round; stroke-width:2; stroke-opacity:0.1; fill:none\" points=\"\n",
       "  2297.86,1486.45 2297.86,47.2441 \n",
       "  \"/>\n",
       "<polyline clip-path=\"url(#clip230)\" style=\"stroke:#000000; stroke-linecap:butt; stroke-linejoin:round; stroke-width:4; stroke-opacity:1; fill:none\" points=\"\n",
       "  239.19,1486.45 2352.76,1486.45 \n",
       "  \"/>\n",
       "<polyline clip-path=\"url(#clip230)\" style=\"stroke:#000000; stroke-linecap:butt; stroke-linejoin:round; stroke-width:4; stroke-opacity:1; fill:none\" points=\"\n",
       "  583.117,1486.45 583.117,1467.55 \n",
       "  \"/>\n",
       "<polyline clip-path=\"url(#clip230)\" style=\"stroke:#000000; stroke-linecap:butt; stroke-linejoin:round; stroke-width:4; stroke-opacity:1; fill:none\" points=\"\n",
       "  1154.7,1486.45 1154.7,1467.55 \n",
       "  \"/>\n",
       "<polyline clip-path=\"url(#clip230)\" style=\"stroke:#000000; stroke-linecap:butt; stroke-linejoin:round; stroke-width:4; stroke-opacity:1; fill:none\" points=\"\n",
       "  1726.28,1486.45 1726.28,1467.55 \n",
       "  \"/>\n",
       "<polyline clip-path=\"url(#clip230)\" style=\"stroke:#000000; stroke-linecap:butt; stroke-linejoin:round; stroke-width:4; stroke-opacity:1; fill:none\" points=\"\n",
       "  2297.86,1486.45 2297.86,1467.55 \n",
       "  \"/>\n",
       "<path clip-path=\"url(#clip230)\" d=\"M571.289 1518.36 L559.483 1536.81 L571.289 1536.81 L571.289 1518.36 M570.062 1514.29 L575.941 1514.29 L575.941 1536.81 L580.872 1536.81 L580.872 1540.7 L575.941 1540.7 L575.941 1548.85 L571.289 1548.85 L571.289 1540.7 L555.687 1540.7 L555.687 1536.19 L570.062 1514.29 Z\" fill=\"#000000\" fill-rule=\"evenodd\" fill-opacity=\"1\" /><path clip-path=\"url(#clip230)\" d=\"M598.603 1517.37 Q594.992 1517.37 593.164 1520.93 Q591.358 1524.47 591.358 1531.6 Q591.358 1538.71 593.164 1542.27 Q594.992 1545.82 598.603 1545.82 Q602.238 1545.82 604.043 1542.27 Q605.872 1538.71 605.872 1531.6 Q605.872 1524.47 604.043 1520.93 Q602.238 1517.37 598.603 1517.37 M598.603 1513.66 Q604.413 1513.66 607.469 1518.27 Q610.548 1522.85 610.548 1531.6 Q610.548 1540.33 607.469 1544.94 Q604.413 1549.52 598.603 1549.52 Q592.793 1549.52 589.714 1544.94 Q586.659 1540.33 586.659 1531.6 Q586.659 1522.85 589.714 1518.27 Q592.793 1513.66 598.603 1513.66 Z\" fill=\"#000000\" fill-rule=\"evenodd\" fill-opacity=\"1\" /><path clip-path=\"url(#clip230)\" d=\"M1140.1 1529.7 Q1136.95 1529.7 1135.1 1531.86 Q1133.27 1534.01 1133.27 1537.76 Q1133.27 1541.49 1135.1 1543.66 Q1136.95 1545.82 1140.1 1545.82 Q1143.25 1545.82 1145.08 1543.66 Q1146.93 1541.49 1146.93 1537.76 Q1146.93 1534.01 1145.08 1531.86 Q1143.25 1529.7 1140.1 1529.7 M1149.38 1515.05 L1149.38 1519.31 Q1147.63 1518.48 1145.82 1518.04 Q1144.04 1517.6 1142.28 1517.6 Q1137.65 1517.6 1135.2 1520.72 Q1132.76 1523.85 1132.42 1530.17 Q1133.78 1528.15 1135.84 1527.09 Q1137.9 1526 1140.38 1526 Q1145.59 1526 1148.6 1529.17 Q1151.63 1532.32 1151.63 1537.76 Q1151.63 1543.08 1148.48 1546.3 Q1145.33 1549.52 1140.1 1549.52 Q1134.11 1549.52 1130.94 1544.94 Q1127.76 1540.33 1127.76 1531.6 Q1127.76 1523.41 1131.65 1518.55 Q1135.54 1513.66 1142.09 1513.66 Q1143.85 1513.66 1145.63 1514.01 Q1147.44 1514.36 1149.38 1515.05 Z\" fill=\"#000000\" fill-rule=\"evenodd\" fill-opacity=\"1\" /><path clip-path=\"url(#clip230)\" d=\"M1169.69 1517.37 Q1166.07 1517.37 1164.25 1520.93 Q1162.44 1524.47 1162.44 1531.6 Q1162.44 1538.71 1164.25 1542.27 Q1166.07 1545.82 1169.69 1545.82 Q1173.32 1545.82 1175.13 1542.27 Q1176.95 1538.71 1176.95 1531.6 Q1176.95 1524.47 1175.13 1520.93 Q1173.32 1517.37 1169.69 1517.37 M1169.69 1513.66 Q1175.5 1513.66 1178.55 1518.27 Q1181.63 1522.85 1181.63 1531.6 Q1181.63 1540.33 1178.55 1544.94 Q1175.5 1549.52 1169.69 1549.52 Q1163.88 1549.52 1160.8 1544.94 Q1157.74 1540.33 1157.74 1531.6 Q1157.74 1522.85 1160.8 1518.27 Q1163.88 1513.66 1169.69 1513.66 Z\" fill=\"#000000\" fill-rule=\"evenodd\" fill-opacity=\"1\" /><path clip-path=\"url(#clip230)\" d=\"M1711.15 1532.44 Q1707.82 1532.44 1705.9 1534.22 Q1704 1536 1704 1539.13 Q1704 1542.25 1705.9 1544.03 Q1707.82 1545.82 1711.15 1545.82 Q1714.48 1545.82 1716.4 1544.03 Q1718.33 1542.23 1718.33 1539.13 Q1718.33 1536 1716.4 1534.22 Q1714.51 1532.44 1711.15 1532.44 M1706.47 1530.45 Q1703.47 1529.7 1701.78 1527.64 Q1700.11 1525.58 1700.11 1522.62 Q1700.11 1518.48 1703.05 1516.07 Q1706.01 1513.66 1711.15 1513.66 Q1716.31 1513.66 1719.25 1516.07 Q1722.19 1518.48 1722.19 1522.62 Q1722.19 1525.58 1720.5 1527.64 Q1718.84 1529.7 1715.85 1530.45 Q1719.23 1531.23 1721.1 1533.52 Q1723 1535.82 1723 1539.13 Q1723 1544.15 1719.92 1546.83 Q1716.87 1549.52 1711.15 1549.52 Q1705.43 1549.52 1702.35 1546.83 Q1699.3 1544.15 1699.3 1539.13 Q1699.3 1535.82 1701.2 1533.52 Q1703.09 1531.23 1706.47 1530.45 M1704.76 1523.06 Q1704.76 1525.75 1706.43 1527.25 Q1708.12 1528.76 1711.15 1528.76 Q1714.16 1528.76 1715.85 1527.25 Q1717.56 1525.75 1717.56 1523.06 Q1717.56 1520.38 1715.85 1518.87 Q1714.16 1517.37 1711.15 1517.37 Q1708.12 1517.37 1706.43 1518.87 Q1704.76 1520.38 1704.76 1523.06 Z\" fill=\"#000000\" fill-rule=\"evenodd\" fill-opacity=\"1\" /><path clip-path=\"url(#clip230)\" d=\"M1741.31 1517.37 Q1737.7 1517.37 1735.87 1520.93 Q1734.07 1524.47 1734.07 1531.6 Q1734.07 1538.71 1735.87 1542.27 Q1737.7 1545.82 1741.31 1545.82 Q1744.95 1545.82 1746.75 1542.27 Q1748.58 1538.71 1748.58 1531.6 Q1748.58 1524.47 1746.75 1520.93 Q1744.95 1517.37 1741.31 1517.37 M1741.31 1513.66 Q1747.12 1513.66 1750.18 1518.27 Q1753.26 1522.85 1753.26 1531.6 Q1753.26 1540.33 1750.18 1544.94 Q1747.12 1549.52 1741.31 1549.52 Q1735.5 1549.52 1732.42 1544.94 Q1729.37 1540.33 1729.37 1531.6 Q1729.37 1522.85 1732.42 1518.27 Q1735.5 1513.66 1741.31 1513.66 Z\" fill=\"#000000\" fill-rule=\"evenodd\" fill-opacity=\"1\" /><path clip-path=\"url(#clip230)\" d=\"M2257.46 1544.91 L2265.1 1544.91 L2265.1 1518.55 L2256.79 1520.21 L2256.79 1515.95 L2265.06 1514.29 L2269.73 1514.29 L2269.73 1544.91 L2277.37 1544.91 L2277.37 1548.85 L2257.46 1548.85 L2257.46 1544.91 Z\" fill=\"#000000\" fill-rule=\"evenodd\" fill-opacity=\"1\" /><path clip-path=\"url(#clip230)\" d=\"M2296.82 1517.37 Q2293.2 1517.37 2291.38 1520.93 Q2289.57 1524.47 2289.57 1531.6 Q2289.57 1538.71 2291.38 1542.27 Q2293.2 1545.82 2296.82 1545.82 Q2300.45 1545.82 2302.26 1542.27 Q2304.08 1538.71 2304.08 1531.6 Q2304.08 1524.47 2302.26 1520.93 Q2300.45 1517.37 2296.82 1517.37 M2296.82 1513.66 Q2302.63 1513.66 2305.68 1518.27 Q2308.76 1522.85 2308.76 1531.6 Q2308.76 1540.33 2305.68 1544.94 Q2302.63 1549.52 2296.82 1549.52 Q2291.01 1549.52 2287.93 1544.94 Q2284.87 1540.33 2284.87 1531.6 Q2284.87 1522.85 2287.93 1518.27 Q2291.01 1513.66 2296.82 1513.66 Z\" fill=\"#000000\" fill-rule=\"evenodd\" fill-opacity=\"1\" /><path clip-path=\"url(#clip230)\" d=\"M2326.98 1517.37 Q2323.37 1517.37 2321.54 1520.93 Q2319.73 1524.47 2319.73 1531.6 Q2319.73 1538.71 2321.54 1542.27 Q2323.37 1545.82 2326.98 1545.82 Q2330.61 1545.82 2332.42 1542.27 Q2334.25 1538.71 2334.25 1531.6 Q2334.25 1524.47 2332.42 1520.93 Q2330.61 1517.37 2326.98 1517.37 M2326.98 1513.66 Q2332.79 1513.66 2335.84 1518.27 Q2338.92 1522.85 2338.92 1531.6 Q2338.92 1540.33 2335.84 1544.94 Q2332.79 1549.52 2326.98 1549.52 Q2321.17 1549.52 2318.09 1544.94 Q2315.03 1540.33 2315.03 1531.6 Q2315.03 1522.85 2318.09 1518.27 Q2321.17 1513.66 2326.98 1513.66 Z\" fill=\"#000000\" fill-rule=\"evenodd\" fill-opacity=\"1\" /><polyline clip-path=\"url(#clip232)\" style=\"stroke:#000000; stroke-linecap:butt; stroke-linejoin:round; stroke-width:2; stroke-opacity:0.1; fill:none\" points=\"\n",
       "  239.19,1411.65 2352.76,1411.65 \n",
       "  \"/>\n",
       "<polyline clip-path=\"url(#clip232)\" style=\"stroke:#000000; stroke-linecap:butt; stroke-linejoin:round; stroke-width:2; stroke-opacity:0.1; fill:none\" points=\"\n",
       "  239.19,1110.5 2352.76,1110.5 \n",
       "  \"/>\n",
       "<polyline clip-path=\"url(#clip232)\" style=\"stroke:#000000; stroke-linecap:butt; stroke-linejoin:round; stroke-width:2; stroke-opacity:0.1; fill:none\" points=\"\n",
       "  239.19,809.359 2352.76,809.359 \n",
       "  \"/>\n",
       "<polyline clip-path=\"url(#clip232)\" style=\"stroke:#000000; stroke-linecap:butt; stroke-linejoin:round; stroke-width:2; stroke-opacity:0.1; fill:none\" points=\"\n",
       "  239.19,508.215 2352.76,508.215 \n",
       "  \"/>\n",
       "<polyline clip-path=\"url(#clip232)\" style=\"stroke:#000000; stroke-linecap:butt; stroke-linejoin:round; stroke-width:2; stroke-opacity:0.1; fill:none\" points=\"\n",
       "  239.19,207.072 2352.76,207.072 \n",
       "  \"/>\n",
       "<polyline clip-path=\"url(#clip230)\" style=\"stroke:#000000; stroke-linecap:butt; stroke-linejoin:round; stroke-width:4; stroke-opacity:1; fill:none\" points=\"\n",
       "  239.19,1486.45 239.19,47.2441 \n",
       "  \"/>\n",
       "<polyline clip-path=\"url(#clip230)\" style=\"stroke:#000000; stroke-linecap:butt; stroke-linejoin:round; stroke-width:4; stroke-opacity:1; fill:none\" points=\"\n",
       "  239.19,1411.65 258.088,1411.65 \n",
       "  \"/>\n",
       "<polyline clip-path=\"url(#clip230)\" style=\"stroke:#000000; stroke-linecap:butt; stroke-linejoin:round; stroke-width:4; stroke-opacity:1; fill:none\" points=\"\n",
       "  239.19,1110.5 258.088,1110.5 \n",
       "  \"/>\n",
       "<polyline clip-path=\"url(#clip230)\" style=\"stroke:#000000; stroke-linecap:butt; stroke-linejoin:round; stroke-width:4; stroke-opacity:1; fill:none\" points=\"\n",
       "  239.19,809.359 258.088,809.359 \n",
       "  \"/>\n",
       "<polyline clip-path=\"url(#clip230)\" style=\"stroke:#000000; stroke-linecap:butt; stroke-linejoin:round; stroke-width:4; stroke-opacity:1; fill:none\" points=\"\n",
       "  239.19,508.215 258.088,508.215 \n",
       "  \"/>\n",
       "<polyline clip-path=\"url(#clip230)\" style=\"stroke:#000000; stroke-linecap:butt; stroke-linejoin:round; stroke-width:4; stroke-opacity:1; fill:none\" points=\"\n",
       "  239.19,207.072 258.088,207.072 \n",
       "  \"/>\n",
       "<path clip-path=\"url(#clip230)\" d=\"M50.9921 1412.1 L80.6679 1412.1 L80.6679 1416.03 L50.9921 1416.03 L50.9921 1412.1 Z\" fill=\"#000000\" fill-rule=\"evenodd\" fill-opacity=\"1\" /><path clip-path=\"url(#clip230)\" d=\"M91.5706 1424.99 L99.2095 1424.99 L99.2095 1398.62 L90.8993 1400.29 L90.8993 1396.03 L99.1632 1394.37 L103.839 1394.37 L103.839 1424.99 L111.478 1424.99 L111.478 1428.93 L91.5706 1428.93 L91.5706 1424.99 Z\" fill=\"#000000\" fill-rule=\"evenodd\" fill-opacity=\"1\" /><path clip-path=\"url(#clip230)\" d=\"M130.922 1397.44 Q127.311 1397.44 125.482 1401.01 Q123.677 1404.55 123.677 1411.68 Q123.677 1418.79 125.482 1422.35 Q127.311 1425.89 130.922 1425.89 Q134.556 1425.89 136.362 1422.35 Q138.191 1418.79 138.191 1411.68 Q138.191 1404.55 136.362 1401.01 Q134.556 1397.44 130.922 1397.44 M130.922 1393.74 Q136.732 1393.74 139.788 1398.35 Q142.867 1402.93 142.867 1411.68 Q142.867 1420.41 139.788 1425.01 Q136.732 1429.6 130.922 1429.6 Q125.112 1429.6 122.033 1425.01 Q118.978 1420.41 118.978 1411.68 Q118.978 1402.93 122.033 1398.35 Q125.112 1393.74 130.922 1393.74 Z\" fill=\"#000000\" fill-rule=\"evenodd\" fill-opacity=\"1\" /><path clip-path=\"url(#clip230)\" d=\"M161.084 1397.44 Q157.473 1397.44 155.644 1401.01 Q153.839 1404.55 153.839 1411.68 Q153.839 1418.79 155.644 1422.35 Q157.473 1425.89 161.084 1425.89 Q164.718 1425.89 166.524 1422.35 Q168.353 1418.79 168.353 1411.68 Q168.353 1404.55 166.524 1401.01 Q164.718 1397.44 161.084 1397.44 M161.084 1393.74 Q166.894 1393.74 169.95 1398.35 Q173.029 1402.93 173.029 1411.68 Q173.029 1420.41 169.95 1425.01 Q166.894 1429.6 161.084 1429.6 Q155.274 1429.6 152.195 1425.01 Q149.14 1420.41 149.14 1411.68 Q149.14 1402.93 152.195 1398.35 Q155.274 1393.74 161.084 1393.74 Z\" fill=\"#000000\" fill-rule=\"evenodd\" fill-opacity=\"1\" /><path clip-path=\"url(#clip230)\" d=\"M191.246 1397.44 Q187.635 1397.44 185.806 1401.01 Q184.001 1404.55 184.001 1411.68 Q184.001 1418.79 185.806 1422.35 Q187.635 1425.89 191.246 1425.89 Q194.88 1425.89 196.686 1422.35 Q198.514 1418.79 198.514 1411.68 Q198.514 1404.55 196.686 1401.01 Q194.88 1397.44 191.246 1397.44 M191.246 1393.74 Q197.056 1393.74 200.112 1398.35 Q203.19 1402.93 203.19 1411.68 Q203.19 1420.41 200.112 1425.01 Q197.056 1429.6 191.246 1429.6 Q185.436 1429.6 182.357 1425.01 Q179.302 1420.41 179.302 1411.68 Q179.302 1402.93 182.357 1398.35 Q185.436 1393.74 191.246 1393.74 Z\" fill=\"#000000\" fill-rule=\"evenodd\" fill-opacity=\"1\" /><path clip-path=\"url(#clip230)\" d=\"M81.154 1110.95 L110.83 1110.95 L110.83 1114.89 L81.154 1114.89 L81.154 1110.95 Z\" fill=\"#000000\" fill-rule=\"evenodd\" fill-opacity=\"1\" /><path clip-path=\"url(#clip230)\" d=\"M119.742 1093.22 L141.964 1093.22 L141.964 1095.21 L129.418 1127.78 L124.533 1127.78 L136.339 1097.16 L119.742 1097.16 L119.742 1093.22 Z\" fill=\"#000000\" fill-rule=\"evenodd\" fill-opacity=\"1\" /><path clip-path=\"url(#clip230)\" d=\"M151.13 1093.22 L169.487 1093.22 L169.487 1097.16 L155.413 1097.16 L155.413 1105.63 Q156.431 1105.28 157.45 1105.12 Q158.468 1104.93 159.487 1104.93 Q165.274 1104.93 168.654 1108.11 Q172.033 1111.28 172.033 1116.69 Q172.033 1122.27 168.561 1125.37 Q165.089 1128.45 158.769 1128.45 Q156.593 1128.45 154.325 1128.08 Q152.08 1127.71 149.672 1126.97 L149.672 1122.27 Q151.755 1123.41 153.978 1123.96 Q156.2 1124.52 158.677 1124.52 Q162.681 1124.52 165.019 1122.41 Q167.357 1120.31 167.357 1116.69 Q167.357 1113.08 165.019 1110.98 Q162.681 1108.87 158.677 1108.87 Q156.802 1108.87 154.927 1109.29 Q153.075 1109.7 151.13 1110.58 L151.13 1093.22 Z\" fill=\"#000000\" fill-rule=\"evenodd\" fill-opacity=\"1\" /><path clip-path=\"url(#clip230)\" d=\"M191.246 1096.3 Q187.635 1096.3 185.806 1099.87 Q184.001 1103.41 184.001 1110.54 Q184.001 1117.64 185.806 1121.21 Q187.635 1124.75 191.246 1124.75 Q194.88 1124.75 196.686 1121.21 Q198.514 1117.64 198.514 1110.54 Q198.514 1103.41 196.686 1099.87 Q194.88 1096.3 191.246 1096.3 M191.246 1092.6 Q197.056 1092.6 200.112 1097.2 Q203.19 1101.79 203.19 1110.54 Q203.19 1119.26 200.112 1123.87 Q197.056 1128.45 191.246 1128.45 Q185.436 1128.45 182.357 1123.87 Q179.302 1119.26 179.302 1110.54 Q179.302 1101.79 182.357 1097.2 Q185.436 1092.6 191.246 1092.6 Z\" fill=\"#000000\" fill-rule=\"evenodd\" fill-opacity=\"1\" /><path clip-path=\"url(#clip230)\" d=\"M81.154 809.81 L110.83 809.81 L110.83 813.745 L81.154 813.745 L81.154 809.81 Z\" fill=\"#000000\" fill-rule=\"evenodd\" fill-opacity=\"1\" /><path clip-path=\"url(#clip230)\" d=\"M120.969 792.079 L139.325 792.079 L139.325 796.014 L125.251 796.014 L125.251 804.486 Q126.27 804.139 127.288 803.977 Q128.307 803.792 129.325 803.792 Q135.112 803.792 138.492 806.963 Q141.871 810.134 141.871 815.551 Q141.871 821.129 138.399 824.231 Q134.927 827.31 128.607 827.31 Q126.432 827.31 124.163 826.94 Q121.918 826.569 119.51 825.828 L119.51 821.129 Q121.594 822.264 123.816 822.819 Q126.038 823.375 128.515 823.375 Q132.519 823.375 134.857 821.268 Q137.195 819.162 137.195 815.551 Q137.195 811.94 134.857 809.833 Q132.519 807.727 128.515 807.727 Q126.64 807.727 124.765 808.143 Q122.913 808.56 120.969 809.44 L120.969 792.079 Z\" fill=\"#000000\" fill-rule=\"evenodd\" fill-opacity=\"1\" /><path clip-path=\"url(#clip230)\" d=\"M161.084 795.157 Q157.473 795.157 155.644 798.722 Q153.839 802.264 153.839 809.393 Q153.839 816.5 155.644 820.065 Q157.473 823.606 161.084 823.606 Q164.718 823.606 166.524 820.065 Q168.353 816.5 168.353 809.393 Q168.353 802.264 166.524 798.722 Q164.718 795.157 161.084 795.157 M161.084 791.454 Q166.894 791.454 169.95 796.06 Q173.029 800.643 173.029 809.393 Q173.029 818.12 169.95 822.727 Q166.894 827.31 161.084 827.31 Q155.274 827.31 152.195 822.727 Q149.14 818.12 149.14 809.393 Q149.14 800.643 152.195 796.06 Q155.274 791.454 161.084 791.454 Z\" fill=\"#000000\" fill-rule=\"evenodd\" fill-opacity=\"1\" /><path clip-path=\"url(#clip230)\" d=\"M191.246 795.157 Q187.635 795.157 185.806 798.722 Q184.001 802.264 184.001 809.393 Q184.001 816.5 185.806 820.065 Q187.635 823.606 191.246 823.606 Q194.88 823.606 196.686 820.065 Q198.514 816.5 198.514 809.393 Q198.514 802.264 196.686 798.722 Q194.88 795.157 191.246 795.157 M191.246 791.454 Q197.056 791.454 200.112 796.06 Q203.19 800.643 203.19 809.393 Q203.19 818.12 200.112 822.727 Q197.056 827.31 191.246 827.31 Q185.436 827.31 182.357 822.727 Q179.302 818.12 179.302 809.393 Q179.302 800.643 182.357 796.06 Q185.436 791.454 191.246 791.454 Z\" fill=\"#000000\" fill-rule=\"evenodd\" fill-opacity=\"1\" /><path clip-path=\"url(#clip230)\" d=\"M81.154 508.667 L110.83 508.667 L110.83 512.602 L81.154 512.602 L81.154 508.667 Z\" fill=\"#000000\" fill-rule=\"evenodd\" fill-opacity=\"1\" /><path clip-path=\"url(#clip230)\" d=\"M124.95 521.56 L141.269 521.56 L141.269 525.495 L119.325 525.495 L119.325 521.56 Q121.987 518.805 126.57 514.176 Q131.177 509.523 132.357 508.18 Q134.603 505.657 135.482 503.921 Q136.385 502.162 136.385 500.472 Q136.385 497.718 134.441 495.981 Q132.519 494.245 129.418 494.245 Q127.219 494.245 124.765 495.009 Q122.334 495.773 119.557 497.324 L119.557 492.602 Q122.381 491.468 124.834 490.889 Q127.288 490.31 129.325 490.31 Q134.695 490.31 137.89 492.995 Q141.084 495.681 141.084 500.171 Q141.084 502.301 140.274 504.222 Q139.487 506.12 137.381 508.713 Q136.802 509.384 133.7 512.602 Q130.598 515.796 124.95 521.56 Z\" fill=\"#000000\" fill-rule=\"evenodd\" fill-opacity=\"1\" /><path clip-path=\"url(#clip230)\" d=\"M151.13 490.935 L169.487 490.935 L169.487 494.87 L155.413 494.87 L155.413 503.343 Q156.431 502.995 157.45 502.833 Q158.468 502.648 159.487 502.648 Q165.274 502.648 168.654 505.819 Q172.033 508.991 172.033 514.407 Q172.033 519.986 168.561 523.088 Q165.089 526.166 158.769 526.166 Q156.593 526.166 154.325 525.796 Q152.08 525.426 149.672 524.685 L149.672 519.986 Q151.755 521.12 153.978 521.676 Q156.2 522.231 158.677 522.231 Q162.681 522.231 165.019 520.125 Q167.357 518.018 167.357 514.407 Q167.357 510.796 165.019 508.69 Q162.681 506.583 158.677 506.583 Q156.802 506.583 154.927 507 Q153.075 507.417 151.13 508.296 L151.13 490.935 Z\" fill=\"#000000\" fill-rule=\"evenodd\" fill-opacity=\"1\" /><path clip-path=\"url(#clip230)\" d=\"M191.246 494.014 Q187.635 494.014 185.806 497.579 Q184.001 501.12 184.001 508.25 Q184.001 515.356 185.806 518.921 Q187.635 522.463 191.246 522.463 Q194.88 522.463 196.686 518.921 Q198.514 515.356 198.514 508.25 Q198.514 501.12 196.686 497.579 Q194.88 494.014 191.246 494.014 M191.246 490.31 Q197.056 490.31 200.112 494.917 Q203.19 499.5 203.19 508.25 Q203.19 516.977 200.112 521.583 Q197.056 526.166 191.246 526.166 Q185.436 526.166 182.357 521.583 Q179.302 516.977 179.302 508.25 Q179.302 499.5 182.357 494.917 Q185.436 490.31 191.246 490.31 Z\" fill=\"#000000\" fill-rule=\"evenodd\" fill-opacity=\"1\" /><path clip-path=\"url(#clip230)\" d=\"M191.246 192.87 Q187.635 192.87 185.806 196.435 Q184.001 199.977 184.001 207.107 Q184.001 214.213 185.806 217.778 Q187.635 221.319 191.246 221.319 Q194.88 221.319 196.686 217.778 Q198.514 214.213 198.514 207.107 Q198.514 199.977 196.686 196.435 Q194.88 192.87 191.246 192.87 M191.246 189.167 Q197.056 189.167 200.112 193.773 Q203.19 198.357 203.19 207.107 Q203.19 215.833 200.112 220.44 Q197.056 225.023 191.246 225.023 Q185.436 225.023 182.357 220.44 Q179.302 215.833 179.302 207.107 Q179.302 198.357 182.357 193.773 Q185.436 189.167 191.246 189.167 Z\" fill=\"#000000\" fill-rule=\"evenodd\" fill-opacity=\"1\" /><circle clip-path=\"url(#clip232)\" cx=\"429.467\" cy=\"113.085\" r=\"14\" fill=\"#009af9\" fill-rule=\"evenodd\" fill-opacity=\"1\" stroke=\"#000000\" stroke-opacity=\"1\" stroke-width=\"3.2\"/>\n",
       "<circle clip-path=\"url(#clip232)\" cx=\"305.521\" cy=\"154.197\" r=\"14\" fill=\"#009af9\" fill-rule=\"evenodd\" fill-opacity=\"1\" stroke=\"#000000\" stroke-opacity=\"1\" stroke-width=\"3.2\"/>\n",
       "<circle clip-path=\"url(#clip232)\" cx=\"464.44\" cy=\"119.256\" r=\"14\" fill=\"#009af9\" fill-rule=\"evenodd\" fill-opacity=\"1\" stroke=\"#000000\" stroke-opacity=\"1\" stroke-width=\"3.2\"/>\n",
       "<circle clip-path=\"url(#clip232)\" cx=\"1159.92\" cy=\"103.107\" r=\"14\" fill=\"#009af9\" fill-rule=\"evenodd\" fill-opacity=\"1\" stroke=\"#000000\" stroke-opacity=\"1\" stroke-width=\"3.2\"/>\n",
       "<circle clip-path=\"url(#clip232)\" cx=\"1698.63\" cy=\"116.314\" r=\"14\" fill=\"#009af9\" fill-rule=\"evenodd\" fill-opacity=\"1\" stroke=\"#000000\" stroke-opacity=\"1\" stroke-width=\"3.2\"/>\n",
       "<circle clip-path=\"url(#clip232)\" cx=\"728.392\" cy=\"139.235\" r=\"14\" fill=\"#009af9\" fill-rule=\"evenodd\" fill-opacity=\"1\" stroke=\"#000000\" stroke-opacity=\"1\" stroke-width=\"3.2\"/>\n",
       "<circle clip-path=\"url(#clip232)\" cx=\"1186.32\" cy=\"90.8167\" r=\"14\" fill=\"#009af9\" fill-rule=\"evenodd\" fill-opacity=\"1\" stroke=\"#000000\" stroke-opacity=\"1\" stroke-width=\"3.2\"/>\n",
       "<circle clip-path=\"url(#clip232)\" cx=\"1584.09\" cy=\"150.994\" r=\"14\" fill=\"#009af9\" fill-rule=\"evenodd\" fill-opacity=\"1\" stroke=\"#000000\" stroke-opacity=\"1\" stroke-width=\"3.2\"/>\n",
       "<circle clip-path=\"url(#clip232)\" cx=\"1614.78\" cy=\"101.767\" r=\"14\" fill=\"#009af9\" fill-rule=\"evenodd\" fill-opacity=\"1\" stroke=\"#000000\" stroke-opacity=\"1\" stroke-width=\"3.2\"/>\n",
       "<circle clip-path=\"url(#clip232)\" cx=\"1852.96\" cy=\"154.633\" r=\"14\" fill=\"#009af9\" fill-rule=\"evenodd\" fill-opacity=\"1\" stroke=\"#000000\" stroke-opacity=\"1\" stroke-width=\"3.2\"/>\n",
       "<circle clip-path=\"url(#clip232)\" cx=\"2179.59\" cy=\"161.027\" r=\"14\" fill=\"#009af9\" fill-rule=\"evenodd\" fill-opacity=\"1\" stroke=\"#000000\" stroke-opacity=\"1\" stroke-width=\"3.2\"/>\n",
       "<circle clip-path=\"url(#clip232)\" cx=\"1583.77\" cy=\"170.208\" r=\"14\" fill=\"#009af9\" fill-rule=\"evenodd\" fill-opacity=\"1\" stroke=\"#000000\" stroke-opacity=\"1\" stroke-width=\"3.2\"/>\n",
       "<circle clip-path=\"url(#clip232)\" cx=\"1792.21\" cy=\"114.944\" r=\"14\" fill=\"#009af9\" fill-rule=\"evenodd\" fill-opacity=\"1\" stroke=\"#000000\" stroke-opacity=\"1\" stroke-width=\"3.2\"/>\n",
       "<circle clip-path=\"url(#clip232)\" cx=\"1422.33\" cy=\"89.3624\" r=\"14\" fill=\"#009af9\" fill-rule=\"evenodd\" fill-opacity=\"1\" stroke=\"#000000\" stroke-opacity=\"1\" stroke-width=\"3.2\"/>\n",
       "<circle clip-path=\"url(#clip232)\" cx=\"569.923\" cy=\"115.48\" r=\"14\" fill=\"#009af9\" fill-rule=\"evenodd\" fill-opacity=\"1\" stroke=\"#000000\" stroke-opacity=\"1\" stroke-width=\"3.2\"/>\n",
       "<circle clip-path=\"url(#clip232)\" cx=\"982.396\" cy=\"99.615\" r=\"14\" fill=\"#009af9\" fill-rule=\"evenodd\" fill-opacity=\"1\" stroke=\"#000000\" stroke-opacity=\"1\" stroke-width=\"3.2\"/>\n",
       "<circle clip-path=\"url(#clip232)\" cx=\"1413.91\" cy=\"143.542\" r=\"14\" fill=\"#009af9\" fill-rule=\"evenodd\" fill-opacity=\"1\" stroke=\"#000000\" stroke-opacity=\"1\" stroke-width=\"3.2\"/>\n",
       "<circle clip-path=\"url(#clip232)\" cx=\"1381.81\" cy=\"150.844\" r=\"14\" fill=\"#009af9\" fill-rule=\"evenodd\" fill-opacity=\"1\" stroke=\"#000000\" stroke-opacity=\"1\" stroke-width=\"3.2\"/>\n",
       "<circle clip-path=\"url(#clip232)\" cx=\"1459.39\" cy=\"95.1342\" r=\"14\" fill=\"#009af9\" fill-rule=\"evenodd\" fill-opacity=\"1\" stroke=\"#000000\" stroke-opacity=\"1\" stroke-width=\"3.2\"/>\n",
       "<circle clip-path=\"url(#clip232)\" cx=\"1639.93\" cy=\"149.763\" r=\"14\" fill=\"#009af9\" fill-rule=\"evenodd\" fill-opacity=\"1\" stroke=\"#000000\" stroke-opacity=\"1\" stroke-width=\"3.2\"/>\n",
       "<circle clip-path=\"url(#clip232)\" cx=\"1365.38\" cy=\"155.47\" r=\"14\" fill=\"#009af9\" fill-rule=\"evenodd\" fill-opacity=\"1\" stroke=\"#000000\" stroke-opacity=\"1\" stroke-width=\"3.2\"/>\n",
       "<circle clip-path=\"url(#clip232)\" cx=\"2002.83\" cy=\"127.812\" r=\"14\" fill=\"#009af9\" fill-rule=\"evenodd\" fill-opacity=\"1\" stroke=\"#000000\" stroke-opacity=\"1\" stroke-width=\"3.2\"/>\n",
       "<circle clip-path=\"url(#clip232)\" cx=\"884.191\" cy=\"148.221\" r=\"14\" fill=\"#009af9\" fill-rule=\"evenodd\" fill-opacity=\"1\" stroke=\"#000000\" stroke-opacity=\"1\" stroke-width=\"3.2\"/>\n",
       "<circle clip-path=\"url(#clip232)\" cx=\"417.704\" cy=\"153.818\" r=\"14\" fill=\"#009af9\" fill-rule=\"evenodd\" fill-opacity=\"1\" stroke=\"#000000\" stroke-opacity=\"1\" stroke-width=\"3.2\"/>\n",
       "<circle clip-path=\"url(#clip232)\" cx=\"1666.95\" cy=\"123.99\" r=\"14\" fill=\"#009af9\" fill-rule=\"evenodd\" fill-opacity=\"1\" stroke=\"#000000\" stroke-opacity=\"1\" stroke-width=\"3.2\"/>\n",
       "<circle clip-path=\"url(#clip232)\" cx=\"1219.6\" cy=\"122.806\" r=\"14\" fill=\"#009af9\" fill-rule=\"evenodd\" fill-opacity=\"1\" stroke=\"#000000\" stroke-opacity=\"1\" stroke-width=\"3.2\"/>\n",
       "<circle clip-path=\"url(#clip232)\" cx=\"1731.71\" cy=\"153.081\" r=\"14\" fill=\"#009af9\" fill-rule=\"evenodd\" fill-opacity=\"1\" stroke=\"#000000\" stroke-opacity=\"1\" stroke-width=\"3.2\"/>\n",
       "<circle clip-path=\"url(#clip232)\" cx=\"2101.07\" cy=\"160.334\" r=\"14\" fill=\"#009af9\" fill-rule=\"evenodd\" fill-opacity=\"1\" stroke=\"#000000\" stroke-opacity=\"1\" stroke-width=\"3.2\"/>\n",
       "<circle clip-path=\"url(#clip232)\" cx=\"1207\" cy=\"146.535\" r=\"14\" fill=\"#009af9\" fill-rule=\"evenodd\" fill-opacity=\"1\" stroke=\"#000000\" stroke-opacity=\"1\" stroke-width=\"3.2\"/>\n",
       "<circle clip-path=\"url(#clip232)\" cx=\"548.417\" cy=\"128.78\" r=\"14\" fill=\"#009af9\" fill-rule=\"evenodd\" fill-opacity=\"1\" stroke=\"#000000\" stroke-opacity=\"1\" stroke-width=\"3.2\"/>\n",
       "<circle clip-path=\"url(#clip232)\" cx=\"1194.12\" cy=\"119.369\" r=\"14\" fill=\"#009af9\" fill-rule=\"evenodd\" fill-opacity=\"1\" stroke=\"#000000\" stroke-opacity=\"1\" stroke-width=\"3.2\"/>\n",
       "<circle clip-path=\"url(#clip232)\" cx=\"1880.73\" cy=\"138.348\" r=\"14\" fill=\"#009af9\" fill-rule=\"evenodd\" fill-opacity=\"1\" stroke=\"#000000\" stroke-opacity=\"1\" stroke-width=\"3.2\"/>\n",
       "<circle clip-path=\"url(#clip232)\" cx=\"929.151\" cy=\"131.03\" r=\"14\" fill=\"#009af9\" fill-rule=\"evenodd\" fill-opacity=\"1\" stroke=\"#000000\" stroke-opacity=\"1\" stroke-width=\"3.2\"/>\n",
       "<circle clip-path=\"url(#clip232)\" cx=\"927.363\" cy=\"123.435\" r=\"14\" fill=\"#009af9\" fill-rule=\"evenodd\" fill-opacity=\"1\" stroke=\"#000000\" stroke-opacity=\"1\" stroke-width=\"3.2\"/>\n",
       "<circle clip-path=\"url(#clip232)\" cx=\"589.887\" cy=\"121.345\" r=\"14\" fill=\"#009af9\" fill-rule=\"evenodd\" fill-opacity=\"1\" stroke=\"#000000\" stroke-opacity=\"1\" stroke-width=\"3.2\"/>\n",
       "<circle clip-path=\"url(#clip232)\" cx=\"1001.37\" cy=\"144.176\" r=\"14\" fill=\"#009af9\" fill-rule=\"evenodd\" fill-opacity=\"1\" stroke=\"#000000\" stroke-opacity=\"1\" stroke-width=\"3.2\"/>\n",
       "<circle clip-path=\"url(#clip232)\" cx=\"409.228\" cy=\"87.9763\" r=\"14\" fill=\"#009af9\" fill-rule=\"evenodd\" fill-opacity=\"1\" stroke=\"#000000\" stroke-opacity=\"1\" stroke-width=\"3.2\"/>\n",
       "<circle clip-path=\"url(#clip232)\" cx=\"1274.07\" cy=\"109.612\" r=\"14\" fill=\"#009af9\" fill-rule=\"evenodd\" fill-opacity=\"1\" stroke=\"#000000\" stroke-opacity=\"1\" stroke-width=\"3.2\"/>\n",
       "<circle clip-path=\"url(#clip232)\" cx=\"1577.36\" cy=\"156.994\" r=\"14\" fill=\"#009af9\" fill-rule=\"evenodd\" fill-opacity=\"1\" stroke=\"#000000\" stroke-opacity=\"1\" stroke-width=\"3.2\"/>\n",
       "<circle clip-path=\"url(#clip232)\" cx=\"416.891\" cy=\"116.442\" r=\"14\" fill=\"#009af9\" fill-rule=\"evenodd\" fill-opacity=\"1\" stroke=\"#000000\" stroke-opacity=\"1\" stroke-width=\"3.2\"/>\n",
       "<circle clip-path=\"url(#clip232)\" cx=\"1837.8\" cy=\"139.245\" r=\"14\" fill=\"#009af9\" fill-rule=\"evenodd\" fill-opacity=\"1\" stroke=\"#000000\" stroke-opacity=\"1\" stroke-width=\"3.2\"/>\n",
       "<circle clip-path=\"url(#clip232)\" cx=\"913.14\" cy=\"150.63\" r=\"14\" fill=\"#009af9\" fill-rule=\"evenodd\" fill-opacity=\"1\" stroke=\"#000000\" stroke-opacity=\"1\" stroke-width=\"3.2\"/>\n",
       "<circle clip-path=\"url(#clip232)\" cx=\"2139.05\" cy=\"128.089\" r=\"14\" fill=\"#009af9\" fill-rule=\"evenodd\" fill-opacity=\"1\" stroke=\"#000000\" stroke-opacity=\"1\" stroke-width=\"3.2\"/>\n",
       "<circle clip-path=\"url(#clip232)\" cx=\"1793.97\" cy=\"158.144\" r=\"14\" fill=\"#009af9\" fill-rule=\"evenodd\" fill-opacity=\"1\" stroke=\"#000000\" stroke-opacity=\"1\" stroke-width=\"3.2\"/>\n",
       "<circle clip-path=\"url(#clip232)\" cx=\"898.851\" cy=\"151.875\" r=\"14\" fill=\"#009af9\" fill-rule=\"evenodd\" fill-opacity=\"1\" stroke=\"#000000\" stroke-opacity=\"1\" stroke-width=\"3.2\"/>\n",
       "<circle clip-path=\"url(#clip232)\" cx=\"1218.22\" cy=\"144.36\" r=\"14\" fill=\"#009af9\" fill-rule=\"evenodd\" fill-opacity=\"1\" stroke=\"#000000\" stroke-opacity=\"1\" stroke-width=\"3.2\"/>\n",
       "<circle clip-path=\"url(#clip232)\" cx=\"1646.06\" cy=\"122.2\" r=\"14\" fill=\"#009af9\" fill-rule=\"evenodd\" fill-opacity=\"1\" stroke=\"#000000\" stroke-opacity=\"1\" stroke-width=\"3.2\"/>\n",
       "<circle clip-path=\"url(#clip232)\" cx=\"2234.17\" cy=\"102.602\" r=\"14\" fill=\"#009af9\" fill-rule=\"evenodd\" fill-opacity=\"1\" stroke=\"#000000\" stroke-opacity=\"1\" stroke-width=\"3.2\"/>\n",
       "<circle clip-path=\"url(#clip232)\" cx=\"1213.94\" cy=\"90.5066\" r=\"14\" fill=\"#009af9\" fill-rule=\"evenodd\" fill-opacity=\"1\" stroke=\"#000000\" stroke-opacity=\"1\" stroke-width=\"3.2\"/>\n",
       "<circle clip-path=\"url(#clip232)\" cx=\"2056.79\" cy=\"100.231\" r=\"14\" fill=\"#009af9\" fill-rule=\"evenodd\" fill-opacity=\"1\" stroke=\"#000000\" stroke-opacity=\"1\" stroke-width=\"3.2\"/>\n",
       "<circle clip-path=\"url(#clip232)\" cx=\"1724.7\" cy=\"117.737\" r=\"14\" fill=\"#009af9\" fill-rule=\"evenodd\" fill-opacity=\"1\" stroke=\"#000000\" stroke-opacity=\"1\" stroke-width=\"3.2\"/>\n",
       "<circle clip-path=\"url(#clip232)\" cx=\"2277.07\" cy=\"133.594\" r=\"14\" fill=\"#009af9\" fill-rule=\"evenodd\" fill-opacity=\"1\" stroke=\"#000000\" stroke-opacity=\"1\" stroke-width=\"3.2\"/>\n",
       "<circle clip-path=\"url(#clip232)\" cx=\"2027.69\" cy=\"154.805\" r=\"14\" fill=\"#009af9\" fill-rule=\"evenodd\" fill-opacity=\"1\" stroke=\"#000000\" stroke-opacity=\"1\" stroke-width=\"3.2\"/>\n",
       "<circle clip-path=\"url(#clip232)\" cx=\"426.633\" cy=\"134.32\" r=\"14\" fill=\"#009af9\" fill-rule=\"evenodd\" fill-opacity=\"1\" stroke=\"#000000\" stroke-opacity=\"1\" stroke-width=\"3.2\"/>\n",
       "<circle clip-path=\"url(#clip232)\" cx=\"877.095\" cy=\"147.079\" r=\"14\" fill=\"#009af9\" fill-rule=\"evenodd\" fill-opacity=\"1\" stroke=\"#000000\" stroke-opacity=\"1\" stroke-width=\"3.2\"/>\n",
       "<circle clip-path=\"url(#clip232)\" cx=\"857.095\" cy=\"135.028\" r=\"14\" fill=\"#009af9\" fill-rule=\"evenodd\" fill-opacity=\"1\" stroke=\"#000000\" stroke-opacity=\"1\" stroke-width=\"3.2\"/>\n",
       "<circle clip-path=\"url(#clip232)\" cx=\"2230.57\" cy=\"124.123\" r=\"14\" fill=\"#009af9\" fill-rule=\"evenodd\" fill-opacity=\"1\" stroke=\"#000000\" stroke-opacity=\"1\" stroke-width=\"3.2\"/>\n",
       "<circle clip-path=\"url(#clip232)\" cx=\"370.981\" cy=\"91.9163\" r=\"14\" fill=\"#009af9\" fill-rule=\"evenodd\" fill-opacity=\"1\" stroke=\"#000000\" stroke-opacity=\"1\" stroke-width=\"3.2\"/>\n",
       "<circle clip-path=\"url(#clip232)\" cx=\"1561.91\" cy=\"122.963\" r=\"14\" fill=\"#009af9\" fill-rule=\"evenodd\" fill-opacity=\"1\" stroke=\"#000000\" stroke-opacity=\"1\" stroke-width=\"3.2\"/>\n",
       "<circle clip-path=\"url(#clip232)\" cx=\"1491.83\" cy=\"112.569\" r=\"14\" fill=\"#009af9\" fill-rule=\"evenodd\" fill-opacity=\"1\" stroke=\"#000000\" stroke-opacity=\"1\" stroke-width=\"3.2\"/>\n",
       "<circle clip-path=\"url(#clip232)\" cx=\"1594.69\" cy=\"103.768\" r=\"14\" fill=\"#009af9\" fill-rule=\"evenodd\" fill-opacity=\"1\" stroke=\"#000000\" stroke-opacity=\"1\" stroke-width=\"3.2\"/>\n",
       "<circle clip-path=\"url(#clip232)\" cx=\"448.399\" cy=\"150.432\" r=\"14\" fill=\"#009af9\" fill-rule=\"evenodd\" fill-opacity=\"1\" stroke=\"#000000\" stroke-opacity=\"1\" stroke-width=\"3.2\"/>\n",
       "<circle clip-path=\"url(#clip232)\" cx=\"1047.64\" cy=\"159.778\" r=\"14\" fill=\"#009af9\" fill-rule=\"evenodd\" fill-opacity=\"1\" stroke=\"#000000\" stroke-opacity=\"1\" stroke-width=\"3.2\"/>\n",
       "<circle clip-path=\"url(#clip232)\" cx=\"299.008\" cy=\"147.333\" r=\"14\" fill=\"#009af9\" fill-rule=\"evenodd\" fill-opacity=\"1\" stroke=\"#000000\" stroke-opacity=\"1\" stroke-width=\"3.2\"/>\n",
       "<circle clip-path=\"url(#clip232)\" cx=\"716.532\" cy=\"127.028\" r=\"14\" fill=\"#009af9\" fill-rule=\"evenodd\" fill-opacity=\"1\" stroke=\"#000000\" stroke-opacity=\"1\" stroke-width=\"3.2\"/>\n",
       "<circle clip-path=\"url(#clip232)\" cx=\"1342.2\" cy=\"157.573\" r=\"14\" fill=\"#009af9\" fill-rule=\"evenodd\" fill-opacity=\"1\" stroke=\"#000000\" stroke-opacity=\"1\" stroke-width=\"3.2\"/>\n",
       "<circle clip-path=\"url(#clip232)\" cx=\"596.194\" cy=\"89.5835\" r=\"14\" fill=\"#009af9\" fill-rule=\"evenodd\" fill-opacity=\"1\" stroke=\"#000000\" stroke-opacity=\"1\" stroke-width=\"3.2\"/>\n",
       "<circle clip-path=\"url(#clip232)\" cx=\"842.402\" cy=\"144.575\" r=\"14\" fill=\"#009af9\" fill-rule=\"evenodd\" fill-opacity=\"1\" stroke=\"#000000\" stroke-opacity=\"1\" stroke-width=\"3.2\"/>\n",
       "<circle clip-path=\"url(#clip232)\" cx=\"1734.27\" cy=\"96.1112\" r=\"14\" fill=\"#009af9\" fill-rule=\"evenodd\" fill-opacity=\"1\" stroke=\"#000000\" stroke-opacity=\"1\" stroke-width=\"3.2\"/>\n",
       "<circle clip-path=\"url(#clip232)\" cx=\"1347.51\" cy=\"133.603\" r=\"14\" fill=\"#009af9\" fill-rule=\"evenodd\" fill-opacity=\"1\" stroke=\"#000000\" stroke-opacity=\"1\" stroke-width=\"3.2\"/>\n",
       "<circle clip-path=\"url(#clip232)\" cx=\"375.143\" cy=\"154.905\" r=\"14\" fill=\"#009af9\" fill-rule=\"evenodd\" fill-opacity=\"1\" stroke=\"#000000\" stroke-opacity=\"1\" stroke-width=\"3.2\"/>\n",
       "<circle clip-path=\"url(#clip232)\" cx=\"1270.14\" cy=\"113.077\" r=\"14\" fill=\"#009af9\" fill-rule=\"evenodd\" fill-opacity=\"1\" stroke=\"#000000\" stroke-opacity=\"1\" stroke-width=\"3.2\"/>\n",
       "<circle clip-path=\"url(#clip232)\" cx=\"1507.55\" cy=\"91.1586\" r=\"14\" fill=\"#009af9\" fill-rule=\"evenodd\" fill-opacity=\"1\" stroke=\"#000000\" stroke-opacity=\"1\" stroke-width=\"3.2\"/>\n",
       "<circle clip-path=\"url(#clip232)\" cx=\"1167.78\" cy=\"119.023\" r=\"14\" fill=\"#009af9\" fill-rule=\"evenodd\" fill-opacity=\"1\" stroke=\"#000000\" stroke-opacity=\"1\" stroke-width=\"3.2\"/>\n",
       "<circle clip-path=\"url(#clip232)\" cx=\"1121.57\" cy=\"115.695\" r=\"14\" fill=\"#009af9\" fill-rule=\"evenodd\" fill-opacity=\"1\" stroke=\"#000000\" stroke-opacity=\"1\" stroke-width=\"3.2\"/>\n",
       "<circle clip-path=\"url(#clip232)\" cx=\"2292.94\" cy=\"119.898\" r=\"14\" fill=\"#009af9\" fill-rule=\"evenodd\" fill-opacity=\"1\" stroke=\"#000000\" stroke-opacity=\"1\" stroke-width=\"3.2\"/>\n",
       "<circle clip-path=\"url(#clip232)\" cx=\"790.723\" cy=\"100.496\" r=\"14\" fill=\"#009af9\" fill-rule=\"evenodd\" fill-opacity=\"1\" stroke=\"#000000\" stroke-opacity=\"1\" stroke-width=\"3.2\"/>\n",
       "<circle clip-path=\"url(#clip232)\" cx=\"882.001\" cy=\"115.753\" r=\"14\" fill=\"#009af9\" fill-rule=\"evenodd\" fill-opacity=\"1\" stroke=\"#000000\" stroke-opacity=\"1\" stroke-width=\"3.2\"/>\n",
       "<circle clip-path=\"url(#clip232)\" cx=\"1167.72\" cy=\"155.867\" r=\"14\" fill=\"#009af9\" fill-rule=\"evenodd\" fill-opacity=\"1\" stroke=\"#000000\" stroke-opacity=\"1\" stroke-width=\"3.2\"/>\n",
       "<circle clip-path=\"url(#clip232)\" cx=\"1789.91\" cy=\"155.613\" r=\"14\" fill=\"#009af9\" fill-rule=\"evenodd\" fill-opacity=\"1\" stroke=\"#000000\" stroke-opacity=\"1\" stroke-width=\"3.2\"/>\n",
       "<circle clip-path=\"url(#clip232)\" cx=\"1981.03\" cy=\"122.988\" r=\"14\" fill=\"#009af9\" fill-rule=\"evenodd\" fill-opacity=\"1\" stroke=\"#000000\" stroke-opacity=\"1\" stroke-width=\"3.2\"/>\n",
       "<circle clip-path=\"url(#clip232)\" cx=\"2150.23\" cy=\"152.03\" r=\"14\" fill=\"#009af9\" fill-rule=\"evenodd\" fill-opacity=\"1\" stroke=\"#000000\" stroke-opacity=\"1\" stroke-width=\"3.2\"/>\n",
       "<circle clip-path=\"url(#clip232)\" cx=\"1363.87\" cy=\"126.86\" r=\"14\" fill=\"#009af9\" fill-rule=\"evenodd\" fill-opacity=\"1\" stroke=\"#000000\" stroke-opacity=\"1\" stroke-width=\"3.2\"/>\n",
       "<circle clip-path=\"url(#clip232)\" cx=\"1075.78\" cy=\"135.382\" r=\"14\" fill=\"#009af9\" fill-rule=\"evenodd\" fill-opacity=\"1\" stroke=\"#000000\" stroke-opacity=\"1\" stroke-width=\"3.2\"/>\n",
       "<circle clip-path=\"url(#clip232)\" cx=\"1736.76\" cy=\"97.5036\" r=\"14\" fill=\"#009af9\" fill-rule=\"evenodd\" fill-opacity=\"1\" stroke=\"#000000\" stroke-opacity=\"1\" stroke-width=\"3.2\"/>\n",
       "<circle clip-path=\"url(#clip232)\" cx=\"1396.72\" cy=\"103.967\" r=\"14\" fill=\"#009af9\" fill-rule=\"evenodd\" fill-opacity=\"1\" stroke=\"#000000\" stroke-opacity=\"1\" stroke-width=\"3.2\"/>\n",
       "<circle clip-path=\"url(#clip232)\" cx=\"642.432\" cy=\"112.097\" r=\"14\" fill=\"#009af9\" fill-rule=\"evenodd\" fill-opacity=\"1\" stroke=\"#000000\" stroke-opacity=\"1\" stroke-width=\"3.2\"/>\n",
       "<circle clip-path=\"url(#clip232)\" cx=\"1597.03\" cy=\"98.1488\" r=\"14\" fill=\"#009af9\" fill-rule=\"evenodd\" fill-opacity=\"1\" stroke=\"#000000\" stroke-opacity=\"1\" stroke-width=\"3.2\"/>\n",
       "<circle clip-path=\"url(#clip232)\" cx=\"1687.28\" cy=\"90.6528\" r=\"14\" fill=\"#009af9\" fill-rule=\"evenodd\" fill-opacity=\"1\" stroke=\"#000000\" stroke-opacity=\"1\" stroke-width=\"3.2\"/>\n",
       "<circle clip-path=\"url(#clip232)\" cx=\"936.011\" cy=\"133.87\" r=\"14\" fill=\"#009af9\" fill-rule=\"evenodd\" fill-opacity=\"1\" stroke=\"#000000\" stroke-opacity=\"1\" stroke-width=\"3.2\"/>\n",
       "<circle clip-path=\"url(#clip232)\" cx=\"2129.08\" cy=\"114.128\" r=\"14\" fill=\"#009af9\" fill-rule=\"evenodd\" fill-opacity=\"1\" stroke=\"#000000\" stroke-opacity=\"1\" stroke-width=\"3.2\"/>\n",
       "<circle clip-path=\"url(#clip232)\" cx=\"2024.89\" cy=\"101.661\" r=\"14\" fill=\"#009af9\" fill-rule=\"evenodd\" fill-opacity=\"1\" stroke=\"#000000\" stroke-opacity=\"1\" stroke-width=\"3.2\"/>\n",
       "<circle clip-path=\"url(#clip232)\" cx=\"1025.58\" cy=\"164.224\" r=\"14\" fill=\"#009af9\" fill-rule=\"evenodd\" fill-opacity=\"1\" stroke=\"#000000\" stroke-opacity=\"1\" stroke-width=\"3.2\"/>\n",
       "<circle clip-path=\"url(#clip232)\" cx=\"1568.88\" cy=\"104.87\" r=\"14\" fill=\"#009af9\" fill-rule=\"evenodd\" fill-opacity=\"1\" stroke=\"#000000\" stroke-opacity=\"1\" stroke-width=\"3.2\"/>\n",
       "<circle clip-path=\"url(#clip232)\" cx=\"2007.66\" cy=\"152.434\" r=\"14\" fill=\"#009af9\" fill-rule=\"evenodd\" fill-opacity=\"1\" stroke=\"#000000\" stroke-opacity=\"1\" stroke-width=\"3.2\"/>\n",
       "<circle clip-path=\"url(#clip232)\" cx=\"1825.99\" cy=\"148.794\" r=\"14\" fill=\"#009af9\" fill-rule=\"evenodd\" fill-opacity=\"1\" stroke=\"#000000\" stroke-opacity=\"1\" stroke-width=\"3.2\"/>\n",
       "<circle clip-path=\"url(#clip232)\" cx=\"647.754\" cy=\"102.149\" r=\"14\" fill=\"#009af9\" fill-rule=\"evenodd\" fill-opacity=\"1\" stroke=\"#000000\" stroke-opacity=\"1\" stroke-width=\"3.2\"/>\n",
       "<circle clip-path=\"url(#clip232)\" cx=\"2278.28\" cy=\"124.227\" r=\"14\" fill=\"#009af9\" fill-rule=\"evenodd\" fill-opacity=\"1\" stroke=\"#000000\" stroke-opacity=\"1\" stroke-width=\"3.2\"/>\n",
       "<circle clip-path=\"url(#clip232)\" cx=\"1021.52\" cy=\"128.856\" r=\"14\" fill=\"#009af9\" fill-rule=\"evenodd\" fill-opacity=\"1\" stroke=\"#000000\" stroke-opacity=\"1\" stroke-width=\"3.2\"/>\n",
       "<circle clip-path=\"url(#clip232)\" cx=\"1576.98\" cy=\"99.2265\" r=\"14\" fill=\"#009af9\" fill-rule=\"evenodd\" fill-opacity=\"1\" stroke=\"#000000\" stroke-opacity=\"1\" stroke-width=\"3.2\"/>\n",
       "<polyline clip-path=\"url(#clip232)\" style=\"stroke:#e26f46; stroke-linecap:butt; stroke-linejoin:round; stroke-width:4; stroke-opacity:1; fill:none\" points=\"\n",
       "  429.467,581.548 305.521,524.069 464.44,597.766 1159.92,920.287 1698.63,1170.11 728.392,720.172 1186.32,932.534 1584.09,1116.99 1614.78,1131.23 1852.96,1241.68 \n",
       "  2179.59,1393.15 1583.77,1116.85 1792.21,1213.51 1422.33,1041.98 569.923,646.683 982.396,837.964 1413.91,1038.08 1381.81,1023.19 1459.39,1059.17 1639.93,1142.89 \n",
       "  1365.38,1015.57 2002.83,1311.18 884.191,792.422 417.704,576.093 1666.95,1155.42 1219.6,947.965 1731.71,1185.45 2101.07,1356.74 1207,942.123 548.417,636.71 \n",
       "  1194.12,936.147 1880.73,1254.56 929.151,813.272 927.363,812.442 589.887,655.941 1001.37,846.764 409.228,572.162 1274.07,973.226 1577.36,1113.87 416.891,575.716 \n",
       "  1837.8,1234.65 913.14,805.847 2139.05,1374.35 1793.97,1214.33 898.851,799.22 1218.22,947.324 1646.06,1145.73 2234.17,1418.46 1213.94,945.342 2056.79,1336.21 \n",
       "  1724.7,1182.2 2277.07,1438.36 2027.69,1322.71 426.633,580.234 877.095,789.131 857.095,779.856 2230.57,1416.79 370.981,554.425 1561.91,1106.71 1491.83,1074.21 \n",
       "  1594.69,1121.91 448.399,590.327 1047.64,868.218 299.008,521.049 716.532,714.671 1342.2,1004.82 596.194,658.866 842.402,773.043 1734.27,1186.64 1347.51,1007.28 \n",
       "  375.143,556.355 1270.14,971.401 1507.55,1081.5 1167.78,923.935 1121.57,902.506 2292.94,1445.72 790.723,749.077 882.001,791.406 1167.72,923.904 1789.91,1212.44 \n",
       "  1981.03,1301.07 2150.23,1379.54 1363.87,1014.87 1075.78,881.271 1736.76,1187.79 1396.72,1030.1 642.432,680.308 1597.03,1123 1687.28,1164.85 936.011,816.453 \n",
       "  2129.08,1369.73 2024.89,1321.41 1025.58,857.991 1568.88,1109.94 2007.66,1313.42 1825.99,1229.17 647.754,682.777 2278.28,1438.92 1021.52,856.107 1576.98,1113.7 \n",
       "  \n",
       "  \"/>\n",
       "<path clip-path=\"url(#clip230)\" d=\"\n",
       "M1995.03 250.738 L2282.3 250.738 L2282.3 95.2176 L1995.03 95.2176  Z\n",
       "  \" fill=\"#ffffff\" fill-rule=\"evenodd\" fill-opacity=\"1\"/>\n",
       "<polyline clip-path=\"url(#clip230)\" style=\"stroke:#000000; stroke-linecap:butt; stroke-linejoin:round; stroke-width:4; stroke-opacity:1; fill:none\" points=\"\n",
       "  1995.03,250.738 2282.3,250.738 2282.3,95.2176 1995.03,95.2176 1995.03,250.738 \n",
       "  \"/>\n",
       "<circle clip-path=\"url(#clip230)\" cx=\"2088.97\" cy=\"147.058\" r=\"23\" fill=\"#009af9\" fill-rule=\"evenodd\" fill-opacity=\"1\" stroke=\"#000000\" stroke-opacity=\"1\" stroke-width=\"5.12\"/>\n",
       "<path clip-path=\"url(#clip230)\" d=\"M2196.75 166.745 Q2194.94 171.375 2193.23 172.787 Q2191.52 174.199 2188.65 174.199 L2185.24 174.199 L2185.24 170.634 L2187.74 170.634 Q2189.5 170.634 2190.47 169.8 Q2191.45 168.967 2192.63 165.865 L2193.39 163.921 L2182.91 138.412 L2187.42 138.412 L2195.52 158.689 L2203.62 138.412 L2208.14 138.412 L2196.75 166.745 Z\" fill=\"#000000\" fill-rule=\"evenodd\" fill-opacity=\"1\" /><path clip-path=\"url(#clip230)\" d=\"M2215.43 160.402 L2223.07 160.402 L2223.07 134.037 L2214.76 135.703 L2214.76 131.444 L2223.02 129.778 L2227.7 129.778 L2227.7 160.402 L2235.34 160.402 L2235.34 164.338 L2215.43 164.338 L2215.43 160.402 Z\" fill=\"#000000\" fill-rule=\"evenodd\" fill-opacity=\"1\" /><polyline clip-path=\"url(#clip230)\" style=\"stroke:#e26f46; stroke-linecap:butt; stroke-linejoin:round; stroke-width:4; stroke-opacity:1; fill:none\" points=\"\n",
       "  2018.52,198.898 2159.42,198.898 \n",
       "  \"/>\n",
       "<path clip-path=\"url(#clip230)\" d=\"M2196.75 218.585 Q2194.94 223.215 2193.23 224.627 Q2191.52 226.039 2188.65 226.039 L2185.24 226.039 L2185.24 222.474 L2187.74 222.474 Q2189.5 222.474 2190.47 221.64 Q2191.45 220.807 2192.63 217.705 L2193.39 215.761 L2182.91 190.252 L2187.42 190.252 L2195.52 210.529 L2203.62 190.252 L2208.14 190.252 L2196.75 218.585 Z\" fill=\"#000000\" fill-rule=\"evenodd\" fill-opacity=\"1\" /><path clip-path=\"url(#clip230)\" d=\"M2218.65 212.242 L2234.97 212.242 L2234.97 216.178 L2213.02 216.178 L2213.02 212.242 Q2215.68 209.488 2220.27 204.858 Q2224.87 200.205 2226.05 198.863 Q2228.3 196.34 2229.18 194.604 Q2230.08 192.844 2230.08 191.155 Q2230.08 188.4 2228.14 186.664 Q2226.22 184.928 2223.11 184.928 Q2220.91 184.928 2218.46 185.692 Q2216.03 186.455 2213.25 188.006 L2213.25 183.284 Q2216.08 182.15 2218.53 181.571 Q2220.98 180.993 2223.02 180.993 Q2228.39 180.993 2231.59 183.678 Q2234.78 186.363 2234.78 190.854 Q2234.78 192.983 2233.97 194.905 Q2233.18 196.803 2231.08 199.395 Q2230.5 200.067 2227.4 203.284 Q2224.29 206.479 2218.65 212.242 Z\" fill=\"#000000\" fill-rule=\"evenodd\" fill-opacity=\"1\" /></svg>\n"
      ]
     },
     "execution_count": 387,
     "metadata": {},
     "output_type": "execute_result"
    }
   ],
   "source": [
    "x2 = data.exam1score\n",
    "x3 = data.exam2score\n",
    "# if GR is the plotting \"backend\" you've chosen\n",
    "Plots.scatter(x2, x3) # the points\n",
    "plot!(x2, decision_x3)     # the line"
   ]
  },
  {
   "cell_type": "code",
   "execution_count": 331,
   "id": "5aed4b6e",
   "metadata": {},
   "outputs": [
    {
     "data": {
      "text/plain": [
       "-27.72588722239781"
      ]
     },
     "execution_count": 331,
     "metadata": {},
     "output_type": "execute_result"
    }
   ],
   "source": [
    "(ones(length(y))' - y') * log.(1 .- sigmoid.(X * theta))"
   ]
  },
  {
   "cell_type": "code",
   "execution_count": 346,
   "id": "84757273",
   "metadata": {},
   "outputs": [
    {
     "data": {
      "text/plain": [
       "1-element Vector{Float64}:\n",
       " -27.725887222397784"
      ]
     },
     "execution_count": 346,
     "metadata": {},
     "output_type": "execute_result"
    }
   ],
   "source": [
    "(1 .- y') * log.(1 .- sigmoid.(X * theta))"
   ]
  },
  {
   "cell_type": "code",
   "execution_count": 344,
   "id": "a8883971",
   "metadata": {},
   "outputs": [
    {
     "data": {
      "text/plain": [
       "Float64"
      ]
     },
     "execution_count": 344,
     "metadata": {},
     "output_type": "execute_result"
    }
   ],
   "source": [
    "typeof(y' * log.(sigmoid.(X * theta)))"
   ]
  },
  {
   "cell_type": "code",
   "execution_count": 347,
   "id": "62d025ac",
   "metadata": {},
   "outputs": [
    {
     "data": {
      "text/plain": [
       "-41.5888308335967"
      ]
     },
     "execution_count": 347,
     "metadata": {},
     "output_type": "execute_result"
    }
   ],
   "source": [
    "y' * log.(sigmoid.(X * theta))"
   ]
  },
  {
   "cell_type": "code",
   "execution_count": 337,
   "id": "44365cb1",
   "metadata": {},
   "outputs": [
    {
     "data": {
      "text/plain": [
       "-0.6931471805599452"
      ]
     },
     "execution_count": 337,
     "metadata": {},
     "output_type": "execute_result"
    }
   ],
   "source": [
    "\n",
    "((y' * log.(sigmoid.(X * theta))) + (ones(length(y))' - y') * log.(1 .- sigmoid.(X * theta)))/length(y)\n",
    "\n",
    "\n",
    "\n"
   ]
  },
  {
   "cell_type": "code",
   "execution_count": 6,
   "id": "7a9bb3b7",
   "metadata": {},
   "outputs": [
    {
     "name": "stdout",
     "output_type": "stream",
     "text": [
      "0.6931471805599452\n",
      "Conjugate Gradient\n",
      "[-25.161394881867267, 0.20623220268132353, 0.20147209780460457]\n"
     ]
    },
    {
     "data": {
      "text/plain": [
       "0.20349770158999922"
      ]
     },
     "execution_count": 6,
     "metadata": {},
     "output_type": "execute_result"
    }
   ],
   "source": [
    "# Using Optim - \n",
    "\n",
    "x2 = data.exam1score\n",
    "x3 = data.exam2score\n",
    "y = data.decision\n",
    "\n",
    "m = length(y)\n",
    "x1 = ones(m, 1)\n",
    "X = hcat(x1, x2, x3);\n",
    "\n",
    "thetaInitial = zeros(3)\n",
    "\n",
    "theta = thetaInitial\n",
    "\n",
    "\n",
    "funcz(X::Array, theta::Array) = X * theta\n",
    "\n",
    "sigmoid(z::Real) = one(z) / (one(z) + exp(-z))\n",
    "\n",
    "MLL(theta) = -(one(length(y))/length(y)) * (sum((y .* log.(sigmoid.(funcz(X, theta))) + ((one(length(y)) .- y) .* log.(one(length(y)) .- sigmoid.(funcz(X, theta)))))))\n",
    "\n",
    "# function Cost(theta)\n",
    "#    LTheta = (1/length(y)) * ((y' * log.(sigmoid.(X * theta))) + (ones(length(y))'- y') * log.(1 .- sigmoid.(X * theta)))\n",
    "#    return LTheta\n",
    "# end\n",
    "\n",
    "\n",
    "# L2_Theta = (1/length(y)) * ((y' * log.(sigmoid.(X * theta))) + (ones(length(y))'- y') * log.(1 .- sigmoid.(X * theta)))\n",
    "\n",
    "# L2_Theta = (1/length(y)) * ((y' * log.(sigmoid.(X * theta))) + (ones(length(y))' - y') * log.(1 .- sigmoid.(X * theta)))\n",
    "\n",
    "\n",
    "# L2_Theta = (1/length(y)) * (sum((y .* log.(sigmoid.(X * theta)) + ((1 .- y) .* log.(1 .- sigmoid.(X * theta))))))\n",
    "\n",
    "\n",
    "# L2_Theta = (1/length(y)) * (sum((y .* log.(sigmoid.(X * theta)) + ((1 .- y) .* log.(1 .- sigmoid.(X * theta))))))\n",
    "\n",
    "\n",
    "println(MLL(theta))\n",
    "\n",
    "\n",
    "# res = Optim.optimize(MLL, theta, BFGS())\n",
    "res = Optim.optimize(MLL, theta, ConjugateGradient())\n",
    "println(Optim.summary(res))\n",
    " \n",
    "println(Optim.minimizer(res))\n",
    "optimizedTheta = Optim.minimizer(res)\n",
    "Optim.minimum(res)"
   ]
  },
  {
   "cell_type": "code",
   "execution_count": 7,
   "id": "3d4c32cf",
   "metadata": {},
   "outputs": [
    {
     "data": {
      "text/plain": [
       "3-element Vector{Float64}:\n",
       " -25.161394881867267\n",
       "   0.20623220268132353\n",
       "   0.20147209780460457"
      ]
     },
     "execution_count": 7,
     "metadata": {},
     "output_type": "execute_result"
    }
   ],
   "source": [
    "optimizedTheta"
   ]
  },
  {
   "cell_type": "code",
   "execution_count": 8,
   "id": "cd2612a4",
   "metadata": {},
   "outputs": [
    {
     "data": {
      "text/plain": [
       "100-element Vector{Float64}:\n",
       " 89.44603986846889\n",
       " 93.88545617124925\n",
       " 88.1933776659118\n",
       " 63.28322872642549\n",
       " 43.987727029043384\n",
       " 78.73929659055244\n",
       " 62.33733103878674\n",
       " 48.09041278408407\n",
       " 46.99099568648593\n",
       " 38.46005738317282\n",
       " 26.76129988163536\n",
       " 48.10176191443737\n",
       " 40.636048651655734\n",
       "  ⋮\n",
       " 44.39442586372915\n",
       " 71.30292914007248\n",
       " 28.57027735761489\n",
       " 32.30219497740662\n",
       " 68.09472244442912\n",
       " 48.635036551091545\n",
       " 32.919180051379705\n",
       " 39.42601003069774\n",
       " 81.62753757949807\n",
       " 23.22625270529491\n",
       " 68.24022439758151\n",
       " 48.34514489579302"
      ]
     },
     "execution_count": 8,
     "metadata": {},
     "output_type": "execute_result"
    }
   ],
   "source": [
    "\n",
    "x2 = data.exam1score\n",
    "\n",
    "decision_x3 = ((-1)/optimizedTheta[3]) .* ( (optimizedTheta[2] .* x2) .+ (optimizedTheta[1]))\n"
   ]
  },
  {
   "cell_type": "code",
   "execution_count": 395,
   "id": "e565e073",
   "metadata": {},
   "outputs": [
    {
     "data": {
      "image/svg+xml": [
       "<?xml version=\"1.0\" encoding=\"utf-8\"?>\n",
       "<svg xmlns=\"http://www.w3.org/2000/svg\" xmlns:xlink=\"http://www.w3.org/1999/xlink\" width=\"600\" height=\"400\" viewBox=\"0 0 2400 1600\">\n",
       "<defs>\n",
       "  <clipPath id=\"clip270\">\n",
       "    <rect x=\"0\" y=\"0\" width=\"2400\" height=\"1600\"/>\n",
       "  </clipPath>\n",
       "</defs>\n",
       "<path clip-path=\"url(#clip270)\" d=\"\n",
       "M0 1600 L2400 1600 L2400 0 L0 0  Z\n",
       "  \" fill=\"#ffffff\" fill-rule=\"evenodd\" fill-opacity=\"1\"/>\n",
       "<defs>\n",
       "  <clipPath id=\"clip271\">\n",
       "    <rect x=\"480\" y=\"0\" width=\"1681\" height=\"1600\"/>\n",
       "  </clipPath>\n",
       "</defs>\n",
       "<path clip-path=\"url(#clip270)\" d=\"\n",
       "M169.121 1486.45 L2352.76 1486.45 L2352.76 47.2441 L169.121 47.2441  Z\n",
       "  \" fill=\"#ffffff\" fill-rule=\"evenodd\" fill-opacity=\"1\"/>\n",
       "<defs>\n",
       "  <clipPath id=\"clip272\">\n",
       "    <rect x=\"169\" y=\"47\" width=\"2185\" height=\"1440\"/>\n",
       "  </clipPath>\n",
       "</defs>\n",
       "<polyline clip-path=\"url(#clip272)\" style=\"stroke:#000000; stroke-linecap:butt; stroke-linejoin:round; stroke-width:2; stroke-opacity:0.1; fill:none\" points=\"\n",
       "  524.45,1486.45 524.45,47.2441 \n",
       "  \"/>\n",
       "<polyline clip-path=\"url(#clip272)\" style=\"stroke:#000000; stroke-linecap:butt; stroke-linejoin:round; stroke-width:2; stroke-opacity:0.1; fill:none\" points=\"\n",
       "  1114.98,1486.45 1114.98,47.2441 \n",
       "  \"/>\n",
       "<polyline clip-path=\"url(#clip272)\" style=\"stroke:#000000; stroke-linecap:butt; stroke-linejoin:round; stroke-width:2; stroke-opacity:0.1; fill:none\" points=\"\n",
       "  1705.51,1486.45 1705.51,47.2441 \n",
       "  \"/>\n",
       "<polyline clip-path=\"url(#clip272)\" style=\"stroke:#000000; stroke-linecap:butt; stroke-linejoin:round; stroke-width:2; stroke-opacity:0.1; fill:none\" points=\"\n",
       "  2296.04,1486.45 2296.04,47.2441 \n",
       "  \"/>\n",
       "<polyline clip-path=\"url(#clip270)\" style=\"stroke:#000000; stroke-linecap:butt; stroke-linejoin:round; stroke-width:4; stroke-opacity:1; fill:none\" points=\"\n",
       "  169.121,1486.45 2352.76,1486.45 \n",
       "  \"/>\n",
       "<polyline clip-path=\"url(#clip270)\" style=\"stroke:#000000; stroke-linecap:butt; stroke-linejoin:round; stroke-width:4; stroke-opacity:1; fill:none\" points=\"\n",
       "  524.45,1486.45 524.45,1467.55 \n",
       "  \"/>\n",
       "<polyline clip-path=\"url(#clip270)\" style=\"stroke:#000000; stroke-linecap:butt; stroke-linejoin:round; stroke-width:4; stroke-opacity:1; fill:none\" points=\"\n",
       "  1114.98,1486.45 1114.98,1467.55 \n",
       "  \"/>\n",
       "<polyline clip-path=\"url(#clip270)\" style=\"stroke:#000000; stroke-linecap:butt; stroke-linejoin:round; stroke-width:4; stroke-opacity:1; fill:none\" points=\"\n",
       "  1705.51,1486.45 1705.51,1467.55 \n",
       "  \"/>\n",
       "<polyline clip-path=\"url(#clip270)\" style=\"stroke:#000000; stroke-linecap:butt; stroke-linejoin:round; stroke-width:4; stroke-opacity:1; fill:none\" points=\"\n",
       "  2296.04,1486.45 2296.04,1467.55 \n",
       "  \"/>\n",
       "<path clip-path=\"url(#clip270)\" d=\"M512.621 1518.36 L500.816 1536.81 L512.621 1536.81 L512.621 1518.36 M511.395 1514.29 L517.274 1514.29 L517.274 1536.81 L522.205 1536.81 L522.205 1540.7 L517.274 1540.7 L517.274 1548.85 L512.621 1548.85 L512.621 1540.7 L497.02 1540.7 L497.02 1536.19 L511.395 1514.29 Z\" fill=\"#000000\" fill-rule=\"evenodd\" fill-opacity=\"1\" /><path clip-path=\"url(#clip270)\" d=\"M539.936 1517.37 Q536.325 1517.37 534.496 1520.93 Q532.691 1524.47 532.691 1531.6 Q532.691 1538.71 534.496 1542.27 Q536.325 1545.82 539.936 1545.82 Q543.57 1545.82 545.376 1542.27 Q547.205 1538.71 547.205 1531.6 Q547.205 1524.47 545.376 1520.93 Q543.57 1517.37 539.936 1517.37 M539.936 1513.66 Q545.746 1513.66 548.802 1518.27 Q551.88 1522.85 551.88 1531.6 Q551.88 1540.33 548.802 1544.94 Q545.746 1549.52 539.936 1549.52 Q534.126 1549.52 531.047 1544.94 Q527.992 1540.33 527.992 1531.6 Q527.992 1522.85 531.047 1518.27 Q534.126 1513.66 539.936 1513.66 Z\" fill=\"#000000\" fill-rule=\"evenodd\" fill-opacity=\"1\" /><path clip-path=\"url(#clip270)\" d=\"M1100.38 1529.7 Q1097.24 1529.7 1095.38 1531.86 Q1093.56 1534.01 1093.56 1537.76 Q1093.56 1541.49 1095.38 1543.66 Q1097.24 1545.82 1100.38 1545.82 Q1103.53 1545.82 1105.36 1543.66 Q1107.21 1541.49 1107.21 1537.76 Q1107.21 1534.01 1105.36 1531.86 Q1103.53 1529.7 1100.38 1529.7 M1109.67 1515.05 L1109.67 1519.31 Q1107.91 1518.48 1106.1 1518.04 Q1104.32 1517.6 1102.56 1517.6 Q1097.93 1517.6 1095.48 1520.72 Q1093.05 1523.85 1092.7 1530.17 Q1094.07 1528.15 1096.13 1527.09 Q1098.19 1526 1100.66 1526 Q1105.87 1526 1108.88 1529.17 Q1111.91 1532.32 1111.91 1537.76 Q1111.91 1543.08 1108.76 1546.3 Q1105.62 1549.52 1100.38 1549.52 Q1094.39 1549.52 1091.22 1544.94 Q1088.05 1540.33 1088.05 1531.6 Q1088.05 1523.41 1091.94 1518.55 Q1095.82 1513.66 1102.38 1513.66 Q1104.13 1513.66 1105.92 1514.01 Q1107.72 1514.36 1109.67 1515.05 Z\" fill=\"#000000\" fill-rule=\"evenodd\" fill-opacity=\"1\" /><path clip-path=\"url(#clip270)\" d=\"M1129.97 1517.37 Q1126.36 1517.37 1124.53 1520.93 Q1122.72 1524.47 1122.72 1531.6 Q1122.72 1538.71 1124.53 1542.27 Q1126.36 1545.82 1129.97 1545.82 Q1133.6 1545.82 1135.41 1542.27 Q1137.24 1538.71 1137.24 1531.6 Q1137.24 1524.47 1135.41 1520.93 Q1133.6 1517.37 1129.97 1517.37 M1129.97 1513.66 Q1135.78 1513.66 1138.83 1518.27 Q1141.91 1522.85 1141.91 1531.6 Q1141.91 1540.33 1138.83 1544.94 Q1135.78 1549.52 1129.97 1549.52 Q1124.16 1549.52 1121.08 1544.94 Q1118.02 1540.33 1118.02 1531.6 Q1118.02 1522.85 1121.08 1518.27 Q1124.16 1513.66 1129.97 1513.66 Z\" fill=\"#000000\" fill-rule=\"evenodd\" fill-opacity=\"1\" /><path clip-path=\"url(#clip270)\" d=\"M1690.38 1532.44 Q1687.05 1532.44 1685.13 1534.22 Q1683.23 1536 1683.23 1539.13 Q1683.23 1542.25 1685.13 1544.03 Q1687.05 1545.82 1690.38 1545.82 Q1693.71 1545.82 1695.64 1544.03 Q1697.56 1542.23 1697.56 1539.13 Q1697.56 1536 1695.64 1534.22 Q1693.74 1532.44 1690.38 1532.44 M1685.71 1530.45 Q1682.7 1529.7 1681.01 1527.64 Q1679.34 1525.58 1679.34 1522.62 Q1679.34 1518.48 1682.28 1516.07 Q1685.24 1513.66 1690.38 1513.66 Q1695.54 1513.66 1698.48 1516.07 Q1701.42 1518.48 1701.42 1522.62 Q1701.42 1525.58 1699.73 1527.64 Q1698.07 1529.7 1695.08 1530.45 Q1698.46 1531.23 1700.33 1533.52 Q1702.23 1535.82 1702.23 1539.13 Q1702.23 1544.15 1699.15 1546.83 Q1696.1 1549.52 1690.38 1549.52 Q1684.66 1549.52 1681.58 1546.83 Q1678.53 1544.15 1678.53 1539.13 Q1678.53 1535.82 1680.43 1533.52 Q1682.33 1531.23 1685.71 1530.45 M1683.99 1523.06 Q1683.99 1525.75 1685.66 1527.25 Q1687.35 1528.76 1690.38 1528.76 Q1693.39 1528.76 1695.08 1527.25 Q1696.79 1525.75 1696.79 1523.06 Q1696.79 1520.38 1695.08 1518.87 Q1693.39 1517.37 1690.38 1517.37 Q1687.35 1517.37 1685.66 1518.87 Q1683.99 1520.38 1683.99 1523.06 Z\" fill=\"#000000\" fill-rule=\"evenodd\" fill-opacity=\"1\" /><path clip-path=\"url(#clip270)\" d=\"M1720.54 1517.37 Q1716.93 1517.37 1715.1 1520.93 Q1713.3 1524.47 1713.3 1531.6 Q1713.3 1538.71 1715.1 1542.27 Q1716.93 1545.82 1720.54 1545.82 Q1724.18 1545.82 1725.98 1542.27 Q1727.81 1538.71 1727.81 1531.6 Q1727.81 1524.47 1725.98 1520.93 Q1724.18 1517.37 1720.54 1517.37 M1720.54 1513.66 Q1726.35 1513.66 1729.41 1518.27 Q1732.49 1522.85 1732.49 1531.6 Q1732.49 1540.33 1729.41 1544.94 Q1726.35 1549.52 1720.54 1549.52 Q1714.73 1549.52 1711.65 1544.94 Q1708.6 1540.33 1708.6 1531.6 Q1708.6 1522.85 1711.65 1518.27 Q1714.73 1513.66 1720.54 1513.66 Z\" fill=\"#000000\" fill-rule=\"evenodd\" fill-opacity=\"1\" /><path clip-path=\"url(#clip270)\" d=\"M2255.64 1544.91 L2263.28 1544.91 L2263.28 1518.55 L2254.97 1520.21 L2254.97 1515.95 L2263.24 1514.29 L2267.91 1514.29 L2267.91 1544.91 L2275.55 1544.91 L2275.55 1548.85 L2255.64 1548.85 L2255.64 1544.91 Z\" fill=\"#000000\" fill-rule=\"evenodd\" fill-opacity=\"1\" /><path clip-path=\"url(#clip270)\" d=\"M2295 1517.37 Q2291.38 1517.37 2289.56 1520.93 Q2287.75 1524.47 2287.75 1531.6 Q2287.75 1538.71 2289.56 1542.27 Q2291.38 1545.82 2295 1545.82 Q2298.63 1545.82 2300.44 1542.27 Q2302.26 1538.71 2302.26 1531.6 Q2302.26 1524.47 2300.44 1520.93 Q2298.63 1517.37 2295 1517.37 M2295 1513.66 Q2300.81 1513.66 2303.86 1518.27 Q2306.94 1522.85 2306.94 1531.6 Q2306.94 1540.33 2303.86 1544.94 Q2300.81 1549.52 2295 1549.52 Q2289.19 1549.52 2286.11 1544.94 Q2283.05 1540.33 2283.05 1531.6 Q2283.05 1522.85 2286.11 1518.27 Q2289.19 1513.66 2295 1513.66 Z\" fill=\"#000000\" fill-rule=\"evenodd\" fill-opacity=\"1\" /><path clip-path=\"url(#clip270)\" d=\"M2325.16 1517.37 Q2321.55 1517.37 2319.72 1520.93 Q2317.91 1524.47 2317.91 1531.6 Q2317.91 1538.71 2319.72 1542.27 Q2321.55 1545.82 2325.16 1545.82 Q2328.79 1545.82 2330.6 1542.27 Q2332.43 1538.71 2332.43 1531.6 Q2332.43 1524.47 2330.6 1520.93 Q2328.79 1517.37 2325.16 1517.37 M2325.16 1513.66 Q2330.97 1513.66 2334.02 1518.27 Q2337.1 1522.85 2337.1 1531.6 Q2337.1 1540.33 2334.02 1544.94 Q2330.97 1549.52 2325.16 1549.52 Q2319.35 1549.52 2316.27 1544.94 Q2313.21 1540.33 2313.21 1531.6 Q2313.21 1522.85 2316.27 1518.27 Q2319.35 1513.66 2325.16 1513.66 Z\" fill=\"#000000\" fill-rule=\"evenodd\" fill-opacity=\"1\" /><polyline clip-path=\"url(#clip272)\" style=\"stroke:#000000; stroke-linecap:butt; stroke-linejoin:round; stroke-width:2; stroke-opacity:0.1; fill:none\" points=\"\n",
       "  169.121,1137.36 2352.76,1137.36 \n",
       "  \"/>\n",
       "<polyline clip-path=\"url(#clip272)\" style=\"stroke:#000000; stroke-linecap:butt; stroke-linejoin:round; stroke-width:2; stroke-opacity:0.1; fill:none\" points=\"\n",
       "  169.121,780.845 2352.76,780.845 \n",
       "  \"/>\n",
       "<polyline clip-path=\"url(#clip272)\" style=\"stroke:#000000; stroke-linecap:butt; stroke-linejoin:round; stroke-width:2; stroke-opacity:0.1; fill:none\" points=\"\n",
       "  169.121,424.334 2352.76,424.334 \n",
       "  \"/>\n",
       "<polyline clip-path=\"url(#clip272)\" style=\"stroke:#000000; stroke-linecap:butt; stroke-linejoin:round; stroke-width:2; stroke-opacity:0.1; fill:none\" points=\"\n",
       "  169.121,67.8233 2352.76,67.8233 \n",
       "  \"/>\n",
       "<polyline clip-path=\"url(#clip270)\" style=\"stroke:#000000; stroke-linecap:butt; stroke-linejoin:round; stroke-width:4; stroke-opacity:1; fill:none\" points=\"\n",
       "  169.121,1486.45 169.121,47.2441 \n",
       "  \"/>\n",
       "<polyline clip-path=\"url(#clip270)\" style=\"stroke:#000000; stroke-linecap:butt; stroke-linejoin:round; stroke-width:4; stroke-opacity:1; fill:none\" points=\"\n",
       "  169.121,1137.36 188.019,1137.36 \n",
       "  \"/>\n",
       "<polyline clip-path=\"url(#clip270)\" style=\"stroke:#000000; stroke-linecap:butt; stroke-linejoin:round; stroke-width:4; stroke-opacity:1; fill:none\" points=\"\n",
       "  169.121,780.845 188.019,780.845 \n",
       "  \"/>\n",
       "<polyline clip-path=\"url(#clip270)\" style=\"stroke:#000000; stroke-linecap:butt; stroke-linejoin:round; stroke-width:4; stroke-opacity:1; fill:none\" points=\"\n",
       "  169.121,424.334 188.019,424.334 \n",
       "  \"/>\n",
       "<polyline clip-path=\"url(#clip270)\" style=\"stroke:#000000; stroke-linecap:butt; stroke-linejoin:round; stroke-width:4; stroke-opacity:1; fill:none\" points=\"\n",
       "  169.121,67.8233 188.019,67.8233 \n",
       "  \"/>\n",
       "<path clip-path=\"url(#clip270)\" d=\"M93.8623 1124.15 L82.0568 1142.6 L93.8623 1142.6 L93.8623 1124.15 M92.6354 1120.08 L98.515 1120.08 L98.515 1142.6 L103.446 1142.6 L103.446 1146.49 L98.515 1146.49 L98.515 1154.64 L93.8623 1154.64 L93.8623 1146.49 L78.2605 1146.49 L78.2605 1141.97 L92.6354 1120.08 Z\" fill=\"#000000\" fill-rule=\"evenodd\" fill-opacity=\"1\" /><path clip-path=\"url(#clip270)\" d=\"M121.177 1123.16 Q117.566 1123.16 115.737 1126.72 Q113.932 1130.26 113.932 1137.39 Q113.932 1144.5 115.737 1148.06 Q117.566 1151.6 121.177 1151.6 Q124.811 1151.6 126.617 1148.06 Q128.445 1144.5 128.445 1137.39 Q128.445 1130.26 126.617 1126.72 Q124.811 1123.16 121.177 1123.16 M121.177 1119.45 Q126.987 1119.45 130.043 1124.06 Q133.121 1128.64 133.121 1137.39 Q133.121 1146.12 130.043 1150.72 Q126.987 1155.31 121.177 1155.31 Q115.367 1155.31 112.288 1150.72 Q109.233 1146.12 109.233 1137.39 Q109.233 1128.64 112.288 1124.06 Q115.367 1119.45 121.177 1119.45 Z\" fill=\"#000000\" fill-rule=\"evenodd\" fill-opacity=\"1\" /><path clip-path=\"url(#clip270)\" d=\"M91.5938 778.982 Q88.4456 778.982 86.5938 781.135 Q84.7651 783.288 84.7651 787.038 Q84.7651 790.764 86.5938 792.94 Q88.4456 795.093 91.5938 795.093 Q94.7419 795.093 96.5706 792.94 Q98.4224 790.764 98.4224 787.038 Q98.4224 783.288 96.5706 781.135 Q94.7419 778.982 91.5938 778.982 M100.876 764.329 L100.876 768.589 Q99.1169 767.755 97.3113 767.315 Q95.5289 766.876 93.7697 766.876 Q89.1401 766.876 86.6864 770.001 Q84.2558 773.126 83.9086 779.445 Q85.2743 777.431 87.3345 776.366 Q89.3947 775.278 91.8715 775.278 Q97.0798 775.278 100.089 778.45 Q103.121 781.598 103.121 787.038 Q103.121 792.362 99.9733 795.579 Q96.8252 798.797 91.5938 798.797 Q85.5984 798.797 82.4271 794.213 Q79.2559 789.607 79.2559 780.88 Q79.2559 772.686 83.1447 767.825 Q87.0336 762.94 93.5845 762.94 Q95.3437 762.94 97.1261 763.288 Q98.9317 763.635 100.876 764.329 Z\" fill=\"#000000\" fill-rule=\"evenodd\" fill-opacity=\"1\" /><path clip-path=\"url(#clip270)\" d=\"M121.177 766.644 Q117.566 766.644 115.737 770.209 Q113.932 773.751 113.932 780.88 Q113.932 787.987 115.737 791.551 Q117.566 795.093 121.177 795.093 Q124.811 795.093 126.617 791.551 Q128.445 787.987 128.445 780.88 Q128.445 773.751 126.617 770.209 Q124.811 766.644 121.177 766.644 M121.177 762.94 Q126.987 762.94 130.043 767.547 Q133.121 772.13 133.121 780.88 Q133.121 789.607 130.043 794.213 Q126.987 798.797 121.177 798.797 Q115.367 798.797 112.288 794.213 Q109.233 789.607 109.233 780.88 Q109.233 772.13 112.288 767.547 Q115.367 762.94 121.177 762.94 Z\" fill=\"#000000\" fill-rule=\"evenodd\" fill-opacity=\"1\" /><path clip-path=\"url(#clip270)\" d=\"M91.0151 425.202 Q87.6817 425.202 85.7605 426.985 Q83.8623 428.767 83.8623 431.892 Q83.8623 435.017 85.7605 436.8 Q87.6817 438.582 91.0151 438.582 Q94.3484 438.582 96.2697 436.8 Q98.1909 434.994 98.1909 431.892 Q98.1909 428.767 96.2697 426.985 Q94.3715 425.202 91.0151 425.202 M86.3392 423.212 Q83.3299 422.471 81.6401 420.411 Q79.9735 418.351 79.9735 415.388 Q79.9735 411.244 82.9133 408.837 Q85.8762 406.429 91.0151 406.429 Q96.1771 406.429 99.1169 408.837 Q102.057 411.244 102.057 415.388 Q102.057 418.351 100.367 420.411 Q98.7002 422.471 95.7141 423.212 Q99.0937 423.999 100.969 426.29 Q102.867 428.582 102.867 431.892 Q102.867 436.915 99.7882 439.601 Q96.7326 442.286 91.0151 442.286 Q85.2975 442.286 82.2188 439.601 Q79.1633 436.915 79.1633 431.892 Q79.1633 428.582 81.0614 426.29 Q82.9595 423.999 86.3392 423.212 M84.6262 415.828 Q84.6262 418.513 86.2929 420.017 Q87.9827 421.522 91.0151 421.522 Q94.0243 421.522 95.7141 420.017 Q97.4271 418.513 97.4271 415.828 Q97.4271 413.142 95.7141 411.638 Q94.0243 410.133 91.0151 410.133 Q87.9827 410.133 86.2929 411.638 Q84.6262 413.142 84.6262 415.828 Z\" fill=\"#000000\" fill-rule=\"evenodd\" fill-opacity=\"1\" /><path clip-path=\"url(#clip270)\" d=\"M121.177 410.133 Q117.566 410.133 115.737 413.698 Q113.932 417.24 113.932 424.369 Q113.932 431.476 115.737 435.04 Q117.566 438.582 121.177 438.582 Q124.811 438.582 126.617 435.04 Q128.445 431.476 128.445 424.369 Q128.445 417.24 126.617 413.698 Q124.811 410.133 121.177 410.133 M121.177 406.429 Q126.987 406.429 130.043 411.036 Q133.121 415.619 133.121 424.369 Q133.121 433.096 130.043 437.702 Q126.987 442.286 121.177 442.286 Q115.367 442.286 112.288 437.702 Q109.233 433.096 109.233 424.369 Q109.233 415.619 112.288 411.036 Q115.367 406.429 121.177 406.429 Z\" fill=\"#000000\" fill-rule=\"evenodd\" fill-opacity=\"1\" /><path clip-path=\"url(#clip270)\" d=\"M51.6634 81.1682 L59.3023 81.1682 L59.3023 54.8026 L50.9921 56.4692 L50.9921 52.21 L59.256 50.5433 L63.9319 50.5433 L63.9319 81.1682 L71.5707 81.1682 L71.5707 85.1033 L51.6634 85.1033 L51.6634 81.1682 Z\" fill=\"#000000\" fill-rule=\"evenodd\" fill-opacity=\"1\" /><path clip-path=\"url(#clip270)\" d=\"M91.0151 53.622 Q87.404 53.622 85.5753 57.1868 Q83.7697 60.7285 83.7697 67.8581 Q83.7697 74.9645 85.5753 78.5293 Q87.404 82.071 91.0151 82.071 Q94.6493 82.071 96.4548 78.5293 Q98.2835 74.9645 98.2835 67.8581 Q98.2835 60.7285 96.4548 57.1868 Q94.6493 53.622 91.0151 53.622 M91.0151 49.9183 Q96.8252 49.9183 99.8808 54.5248 Q102.959 59.1081 102.959 67.8581 Q102.959 76.5849 99.8808 81.1913 Q96.8252 85.7746 91.0151 85.7746 Q85.2049 85.7746 82.1262 81.1913 Q79.0707 76.5849 79.0707 67.8581 Q79.0707 59.1081 82.1262 54.5248 Q85.2049 49.9183 91.0151 49.9183 Z\" fill=\"#000000\" fill-rule=\"evenodd\" fill-opacity=\"1\" /><path clip-path=\"url(#clip270)\" d=\"M121.177 53.622 Q117.566 53.622 115.737 57.1868 Q113.932 60.7285 113.932 67.8581 Q113.932 74.9645 115.737 78.5293 Q117.566 82.071 121.177 82.071 Q124.811 82.071 126.617 78.5293 Q128.445 74.9645 128.445 67.8581 Q128.445 60.7285 126.617 57.1868 Q124.811 53.622 121.177 53.622 M121.177 49.9183 Q126.987 49.9183 130.043 54.5248 Q133.121 59.1081 133.121 67.8581 Q133.121 76.5849 130.043 81.1913 Q126.987 85.7746 121.177 85.7746 Q115.367 85.7746 112.288 81.1913 Q109.233 76.5849 109.233 67.8581 Q109.233 59.1081 112.288 54.5248 Q115.367 49.9183 121.177 49.9183 Z\" fill=\"#000000\" fill-rule=\"evenodd\" fill-opacity=\"1\" /><circle clip-path=\"url(#clip272)\" cx=\"365.706\" cy=\"459.545\" r=\"14\" fill=\"#009af9\" fill-rule=\"evenodd\" fill-opacity=\"1\" stroke=\"#000000\" stroke-opacity=\"1\" stroke-width=\"3.2\"/>\n",
       "<circle clip-path=\"url(#clip272)\" cx=\"237.651\" cy=\"1067.93\" r=\"14\" fill=\"#009af9\" fill-rule=\"evenodd\" fill-opacity=\"1\" stroke=\"#000000\" stroke-opacity=\"1\" stroke-width=\"3.2\"/>\n",
       "<circle clip-path=\"url(#clip272)\" cx=\"401.839\" cy=\"550.857\" r=\"14\" fill=\"#009af9\" fill-rule=\"evenodd\" fill-opacity=\"1\" stroke=\"#000000\" stroke-opacity=\"1\" stroke-width=\"3.2\"/>\n",
       "<circle clip-path=\"url(#clip272)\" cx=\"1120.37\" cy=\"311.881\" r=\"14\" fill=\"#009af9\" fill-rule=\"evenodd\" fill-opacity=\"1\" stroke=\"#000000\" stroke-opacity=\"1\" stroke-width=\"3.2\"/>\n",
       "<circle clip-path=\"url(#clip272)\" cx=\"1676.95\" cy=\"507.323\" r=\"14\" fill=\"#009af9\" fill-rule=\"evenodd\" fill-opacity=\"1\" stroke=\"#000000\" stroke-opacity=\"1\" stroke-width=\"3.2\"/>\n",
       "<circle clip-path=\"url(#clip272)\" cx=\"674.541\" cy=\"846.508\" r=\"14\" fill=\"#009af9\" fill-rule=\"evenodd\" fill-opacity=\"1\" stroke=\"#000000\" stroke-opacity=\"1\" stroke-width=\"3.2\"/>\n",
       "<circle clip-path=\"url(#clip272)\" cx=\"1147.66\" cy=\"130.009\" r=\"14\" fill=\"#009af9\" fill-rule=\"evenodd\" fill-opacity=\"1\" stroke=\"#000000\" stroke-opacity=\"1\" stroke-width=\"3.2\"/>\n",
       "<circle clip-path=\"url(#clip272)\" cx=\"1558.61\" cy=\"1020.53\" r=\"14\" fill=\"#009af9\" fill-rule=\"evenodd\" fill-opacity=\"1\" stroke=\"#000000\" stroke-opacity=\"1\" stroke-width=\"3.2\"/>\n",
       "<circle clip-path=\"url(#clip272)\" cx=\"1590.32\" cy=\"292.059\" r=\"14\" fill=\"#009af9\" fill-rule=\"evenodd\" fill-opacity=\"1\" stroke=\"#000000\" stroke-opacity=\"1\" stroke-width=\"3.2\"/>\n",
       "<circle clip-path=\"url(#clip272)\" cx=\"1836.39\" cy=\"1074.37\" r=\"14\" fill=\"#009af9\" fill-rule=\"evenodd\" fill-opacity=\"1\" stroke=\"#000000\" stroke-opacity=\"1\" stroke-width=\"3.2\"/>\n",
       "<circle clip-path=\"url(#clip272)\" cx=\"2173.84\" cy=\"1168.99\" r=\"14\" fill=\"#009af9\" fill-rule=\"evenodd\" fill-opacity=\"1\" stroke=\"#000000\" stroke-opacity=\"1\" stroke-width=\"3.2\"/>\n",
       "<circle clip-path=\"url(#clip272)\" cx=\"1558.28\" cy=\"1304.86\" r=\"14\" fill=\"#009af9\" fill-rule=\"evenodd\" fill-opacity=\"1\" stroke=\"#000000\" stroke-opacity=\"1\" stroke-width=\"3.2\"/>\n",
       "<circle clip-path=\"url(#clip272)\" cx=\"1773.63\" cy=\"487.045\" r=\"14\" fill=\"#009af9\" fill-rule=\"evenodd\" fill-opacity=\"1\" stroke=\"#000000\" stroke-opacity=\"1\" stroke-width=\"3.2\"/>\n",
       "<circle clip-path=\"url(#clip272)\" cx=\"1391.48\" cy=\"108.489\" r=\"14\" fill=\"#009af9\" fill-rule=\"evenodd\" fill-opacity=\"1\" stroke=\"#000000\" stroke-opacity=\"1\" stroke-width=\"3.2\"/>\n",
       "<circle clip-path=\"url(#clip272)\" cx=\"510.819\" cy=\"494.98\" r=\"14\" fill=\"#009af9\" fill-rule=\"evenodd\" fill-opacity=\"1\" stroke=\"#000000\" stroke-opacity=\"1\" stroke-width=\"3.2\"/>\n",
       "<circle clip-path=\"url(#clip272)\" cx=\"936.966\" cy=\"260.208\" r=\"14\" fill=\"#009af9\" fill-rule=\"evenodd\" fill-opacity=\"1\" stroke=\"#000000\" stroke-opacity=\"1\" stroke-width=\"3.2\"/>\n",
       "<circle clip-path=\"url(#clip272)\" cx=\"1382.79\" cy=\"910.251\" r=\"14\" fill=\"#009af9\" fill-rule=\"evenodd\" fill-opacity=\"1\" stroke=\"#000000\" stroke-opacity=\"1\" stroke-width=\"3.2\"/>\n",
       "<circle clip-path=\"url(#clip272)\" cx=\"1349.62\" cy=\"1018.31\" r=\"14\" fill=\"#009af9\" fill-rule=\"evenodd\" fill-opacity=\"1\" stroke=\"#000000\" stroke-opacity=\"1\" stroke-width=\"3.2\"/>\n",
       "<circle clip-path=\"url(#clip272)\" cx=\"1429.78\" cy=\"193.901\" r=\"14\" fill=\"#009af9\" fill-rule=\"evenodd\" fill-opacity=\"1\" stroke=\"#000000\" stroke-opacity=\"1\" stroke-width=\"3.2\"/>\n",
       "<circle clip-path=\"url(#clip272)\" cx=\"1616.3\" cy=\"1002.31\" r=\"14\" fill=\"#009af9\" fill-rule=\"evenodd\" fill-opacity=\"1\" stroke=\"#000000\" stroke-opacity=\"1\" stroke-width=\"3.2\"/>\n",
       "<circle clip-path=\"url(#clip272)\" cx=\"1332.65\" cy=\"1086.76\" r=\"14\" fill=\"#009af9\" fill-rule=\"evenodd\" fill-opacity=\"1\" stroke=\"#000000\" stroke-opacity=\"1\" stroke-width=\"3.2\"/>\n",
       "<circle clip-path=\"url(#clip272)\" cx=\"1991.23\" cy=\"677.469\" r=\"14\" fill=\"#009af9\" fill-rule=\"evenodd\" fill-opacity=\"1\" stroke=\"#000000\" stroke-opacity=\"1\" stroke-width=\"3.2\"/>\n",
       "<circle clip-path=\"url(#clip272)\" cx=\"835.505\" cy=\"979.497\" r=\"14\" fill=\"#009af9\" fill-rule=\"evenodd\" fill-opacity=\"1\" stroke=\"#000000\" stroke-opacity=\"1\" stroke-width=\"3.2\"/>\n",
       "<circle clip-path=\"url(#clip272)\" cx=\"353.553\" cy=\"1062.32\" r=\"14\" fill=\"#009af9\" fill-rule=\"evenodd\" fill-opacity=\"1\" stroke=\"#000000\" stroke-opacity=\"1\" stroke-width=\"3.2\"/>\n",
       "<circle clip-path=\"url(#clip272)\" cx=\"1644.21\" cy=\"620.908\" r=\"14\" fill=\"#009af9\" fill-rule=\"evenodd\" fill-opacity=\"1\" stroke=\"#000000\" stroke-opacity=\"1\" stroke-width=\"3.2\"/>\n",
       "<circle clip-path=\"url(#clip272)\" cx=\"1182.03\" cy=\"603.402\" r=\"14\" fill=\"#009af9\" fill-rule=\"evenodd\" fill-opacity=\"1\" stroke=\"#000000\" stroke-opacity=\"1\" stroke-width=\"3.2\"/>\n",
       "<circle clip-path=\"url(#clip272)\" cx=\"1711.12\" cy=\"1051.41\" r=\"14\" fill=\"#009af9\" fill-rule=\"evenodd\" fill-opacity=\"1\" stroke=\"#000000\" stroke-opacity=\"1\" stroke-width=\"3.2\"/>\n",
       "<circle clip-path=\"url(#clip272)\" cx=\"2092.73\" cy=\"1158.74\" r=\"14\" fill=\"#009af9\" fill-rule=\"evenodd\" fill-opacity=\"1\" stroke=\"#000000\" stroke-opacity=\"1\" stroke-width=\"3.2\"/>\n",
       "<circle clip-path=\"url(#clip272)\" cx=\"1169.02\" cy=\"954.536\" r=\"14\" fill=\"#009af9\" fill-rule=\"evenodd\" fill-opacity=\"1\" stroke=\"#000000\" stroke-opacity=\"1\" stroke-width=\"3.2\"/>\n",
       "<circle clip-path=\"url(#clip272)\" cx=\"488.599\" cy=\"691.795\" r=\"14\" fill=\"#009af9\" fill-rule=\"evenodd\" fill-opacity=\"1\" stroke=\"#000000\" stroke-opacity=\"1\" stroke-width=\"3.2\"/>\n",
       "<circle clip-path=\"url(#clip272)\" cx=\"1155.7\" cy=\"552.538\" r=\"14\" fill=\"#009af9\" fill-rule=\"evenodd\" fill-opacity=\"1\" stroke=\"#000000\" stroke-opacity=\"1\" stroke-width=\"3.2\"/>\n",
       "<circle clip-path=\"url(#clip272)\" cx=\"1865.08\" cy=\"833.396\" r=\"14\" fill=\"#009af9\" fill-rule=\"evenodd\" fill-opacity=\"1\" stroke=\"#000000\" stroke-opacity=\"1\" stroke-width=\"3.2\"/>\n",
       "<circle clip-path=\"url(#clip272)\" cx=\"881.956\" cy=\"725.094\" r=\"14\" fill=\"#009af9\" fill-rule=\"evenodd\" fill-opacity=\"1\" stroke=\"#000000\" stroke-opacity=\"1\" stroke-width=\"3.2\"/>\n",
       "<circle clip-path=\"url(#clip272)\" cx=\"880.108\" cy=\"612.7\" r=\"14\" fill=\"#009af9\" fill-rule=\"evenodd\" fill-opacity=\"1\" stroke=\"#000000\" stroke-opacity=\"1\" stroke-width=\"3.2\"/>\n",
       "<circle clip-path=\"url(#clip272)\" cx=\"531.445\" cy=\"581.774\" r=\"14\" fill=\"#009af9\" fill-rule=\"evenodd\" fill-opacity=\"1\" stroke=\"#000000\" stroke-opacity=\"1\" stroke-width=\"3.2\"/>\n",
       "<circle clip-path=\"url(#clip272)\" cx=\"956.573\" cy=\"919.637\" r=\"14\" fill=\"#009af9\" fill-rule=\"evenodd\" fill-opacity=\"1\" stroke=\"#000000\" stroke-opacity=\"1\" stroke-width=\"3.2\"/>\n",
       "<circle clip-path=\"url(#clip272)\" cx=\"344.796\" cy=\"87.9763\" r=\"14\" fill=\"#009af9\" fill-rule=\"evenodd\" fill-opacity=\"1\" stroke=\"#000000\" stroke-opacity=\"1\" stroke-width=\"3.2\"/>\n",
       "<circle clip-path=\"url(#clip272)\" cx=\"1238.31\" cy=\"408.148\" r=\"14\" fill=\"#009af9\" fill-rule=\"evenodd\" fill-opacity=\"1\" stroke=\"#000000\" stroke-opacity=\"1\" stroke-width=\"3.2\"/>\n",
       "<circle clip-path=\"url(#clip272)\" cx=\"1551.65\" cy=\"1109.31\" r=\"14\" fill=\"#009af9\" fill-rule=\"evenodd\" fill-opacity=\"1\" stroke=\"#000000\" stroke-opacity=\"1\" stroke-width=\"3.2\"/>\n",
       "<circle clip-path=\"url(#clip272)\" cx=\"352.714\" cy=\"509.225\" r=\"14\" fill=\"#009af9\" fill-rule=\"evenodd\" fill-opacity=\"1\" stroke=\"#000000\" stroke-opacity=\"1\" stroke-width=\"3.2\"/>\n",
       "<circle clip-path=\"url(#clip272)\" cx=\"1820.73\" cy=\"846.657\" r=\"14\" fill=\"#009af9\" fill-rule=\"evenodd\" fill-opacity=\"1\" stroke=\"#000000\" stroke-opacity=\"1\" stroke-width=\"3.2\"/>\n",
       "<circle clip-path=\"url(#clip272)\" cx=\"865.413\" cy=\"1015.14\" r=\"14\" fill=\"#009af9\" fill-rule=\"evenodd\" fill-opacity=\"1\" stroke=\"#000000\" stroke-opacity=\"1\" stroke-width=\"3.2\"/>\n",
       "<circle clip-path=\"url(#clip272)\" cx=\"2131.97\" cy=\"681.576\" r=\"14\" fill=\"#009af9\" fill-rule=\"evenodd\" fill-opacity=\"1\" stroke=\"#000000\" stroke-opacity=\"1\" stroke-width=\"3.2\"/>\n",
       "<circle clip-path=\"url(#clip272)\" cx=\"1775.45\" cy=\"1126.34\" r=\"14\" fill=\"#009af9\" fill-rule=\"evenodd\" fill-opacity=\"1\" stroke=\"#000000\" stroke-opacity=\"1\" stroke-width=\"3.2\"/>\n",
       "<circle clip-path=\"url(#clip272)\" cx=\"850.651\" cy=\"1033.56\" r=\"14\" fill=\"#009af9\" fill-rule=\"evenodd\" fill-opacity=\"1\" stroke=\"#000000\" stroke-opacity=\"1\" stroke-width=\"3.2\"/>\n",
       "<circle clip-path=\"url(#clip272)\" cx=\"1180.61\" cy=\"922.363\" r=\"14\" fill=\"#009af9\" fill-rule=\"evenodd\" fill-opacity=\"1\" stroke=\"#000000\" stroke-opacity=\"1\" stroke-width=\"3.2\"/>\n",
       "<circle clip-path=\"url(#clip272)\" cx=\"1622.63\" cy=\"594.422\" r=\"14\" fill=\"#009af9\" fill-rule=\"evenodd\" fill-opacity=\"1\" stroke=\"#000000\" stroke-opacity=\"1\" stroke-width=\"3.2\"/>\n",
       "<circle clip-path=\"url(#clip272)\" cx=\"2230.24\" cy=\"304.407\" r=\"14\" fill=\"#009af9\" fill-rule=\"evenodd\" fill-opacity=\"1\" stroke=\"#000000\" stroke-opacity=\"1\" stroke-width=\"3.2\"/>\n",
       "<circle clip-path=\"url(#clip272)\" cx=\"1176.19\" cy=\"125.421\" r=\"14\" fill=\"#009af9\" fill-rule=\"evenodd\" fill-opacity=\"1\" stroke=\"#000000\" stroke-opacity=\"1\" stroke-width=\"3.2\"/>\n",
       "<circle clip-path=\"url(#clip272)\" cx=\"2046.98\" cy=\"269.318\" r=\"14\" fill=\"#009af9\" fill-rule=\"evenodd\" fill-opacity=\"1\" stroke=\"#000000\" stroke-opacity=\"1\" stroke-width=\"3.2\"/>\n",
       "<circle clip-path=\"url(#clip272)\" cx=\"1703.88\" cy=\"528.38\" r=\"14\" fill=\"#009af9\" fill-rule=\"evenodd\" fill-opacity=\"1\" stroke=\"#000000\" stroke-opacity=\"1\" stroke-width=\"3.2\"/>\n",
       "<circle clip-path=\"url(#clip272)\" cx=\"2274.56\" cy=\"763.037\" r=\"14\" fill=\"#009af9\" fill-rule=\"evenodd\" fill-opacity=\"1\" stroke=\"#000000\" stroke-opacity=\"1\" stroke-width=\"3.2\"/>\n",
       "<circle clip-path=\"url(#clip272)\" cx=\"2016.92\" cy=\"1076.92\" r=\"14\" fill=\"#009af9\" fill-rule=\"evenodd\" fill-opacity=\"1\" stroke=\"#000000\" stroke-opacity=\"1\" stroke-width=\"3.2\"/>\n",
       "<circle clip-path=\"url(#clip272)\" cx=\"362.778\" cy=\"773.78\" r=\"14\" fill=\"#009af9\" fill-rule=\"evenodd\" fill-opacity=\"1\" stroke=\"#000000\" stroke-opacity=\"1\" stroke-width=\"3.2\"/>\n",
       "<circle clip-path=\"url(#clip272)\" cx=\"828.174\" cy=\"962.585\" r=\"14\" fill=\"#009af9\" fill-rule=\"evenodd\" fill-opacity=\"1\" stroke=\"#000000\" stroke-opacity=\"1\" stroke-width=\"3.2\"/>\n",
       "<circle clip-path=\"url(#clip272)\" cx=\"807.511\" cy=\"784.251\" r=\"14\" fill=\"#009af9\" fill-rule=\"evenodd\" fill-opacity=\"1\" stroke=\"#000000\" stroke-opacity=\"1\" stroke-width=\"3.2\"/>\n",
       "<circle clip-path=\"url(#clip272)\" cx=\"2226.52\" cy=\"622.883\" r=\"14\" fill=\"#009af9\" fill-rule=\"evenodd\" fill-opacity=\"1\" stroke=\"#000000\" stroke-opacity=\"1\" stroke-width=\"3.2\"/>\n",
       "<circle clip-path=\"url(#clip272)\" cx=\"305.281\" cy=\"146.282\" r=\"14\" fill=\"#009af9\" fill-rule=\"evenodd\" fill-opacity=\"1\" stroke=\"#000000\" stroke-opacity=\"1\" stroke-width=\"3.2\"/>\n",
       "<circle clip-path=\"url(#clip272)\" cx=\"1535.69\" cy=\"605.717\" r=\"14\" fill=\"#009af9\" fill-rule=\"evenodd\" fill-opacity=\"1\" stroke=\"#000000\" stroke-opacity=\"1\" stroke-width=\"3.2\"/>\n",
       "<circle clip-path=\"url(#clip272)\" cx=\"1463.29\" cy=\"451.901\" r=\"14\" fill=\"#009af9\" fill-rule=\"evenodd\" fill-opacity=\"1\" stroke=\"#000000\" stroke-opacity=\"1\" stroke-width=\"3.2\"/>\n",
       "<circle clip-path=\"url(#clip272)\" cx=\"1569.56\" cy=\"321.66\" r=\"14\" fill=\"#009af9\" fill-rule=\"evenodd\" fill-opacity=\"1\" stroke=\"#000000\" stroke-opacity=\"1\" stroke-width=\"3.2\"/>\n",
       "<circle clip-path=\"url(#clip272)\" cx=\"385.266\" cy=\"1012.21\" r=\"14\" fill=\"#009af9\" fill-rule=\"evenodd\" fill-opacity=\"1\" stroke=\"#000000\" stroke-opacity=\"1\" stroke-width=\"3.2\"/>\n",
       "<circle clip-path=\"url(#clip272)\" cx=\"1004.37\" cy=\"1150.52\" r=\"14\" fill=\"#009af9\" fill-rule=\"evenodd\" fill-opacity=\"1\" stroke=\"#000000\" stroke-opacity=\"1\" stroke-width=\"3.2\"/>\n",
       "<circle clip-path=\"url(#clip272)\" cx=\"230.922\" cy=\"966.356\" r=\"14\" fill=\"#009af9\" fill-rule=\"evenodd\" fill-opacity=\"1\" stroke=\"#000000\" stroke-opacity=\"1\" stroke-width=\"3.2\"/>\n",
       "<circle clip-path=\"url(#clip272)\" cx=\"662.287\" cy=\"665.869\" r=\"14\" fill=\"#009af9\" fill-rule=\"evenodd\" fill-opacity=\"1\" stroke=\"#000000\" stroke-opacity=\"1\" stroke-width=\"3.2\"/>\n",
       "<circle clip-path=\"url(#clip272)\" cx=\"1308.7\" cy=\"1117.89\" r=\"14\" fill=\"#009af9\" fill-rule=\"evenodd\" fill-opacity=\"1\" stroke=\"#000000\" stroke-opacity=\"1\" stroke-width=\"3.2\"/>\n",
       "<circle clip-path=\"url(#clip272)\" cx=\"537.96\" cy=\"111.76\" r=\"14\" fill=\"#009af9\" fill-rule=\"evenodd\" fill-opacity=\"1\" stroke=\"#000000\" stroke-opacity=\"1\" stroke-width=\"3.2\"/>\n",
       "<circle clip-path=\"url(#clip272)\" cx=\"792.331\" cy=\"925.532\" r=\"14\" fill=\"#009af9\" fill-rule=\"evenodd\" fill-opacity=\"1\" stroke=\"#000000\" stroke-opacity=\"1\" stroke-width=\"3.2\"/>\n",
       "<circle clip-path=\"url(#clip272)\" cx=\"1713.76\" cy=\"208.359\" r=\"14\" fill=\"#009af9\" fill-rule=\"evenodd\" fill-opacity=\"1\" stroke=\"#000000\" stroke-opacity=\"1\" stroke-width=\"3.2\"/>\n",
       "<circle clip-path=\"url(#clip272)\" cx=\"1314.19\" cy=\"763.173\" r=\"14\" fill=\"#009af9\" fill-rule=\"evenodd\" fill-opacity=\"1\" stroke=\"#000000\" stroke-opacity=\"1\" stroke-width=\"3.2\"/>\n",
       "<circle clip-path=\"url(#clip272)\" cx=\"309.581\" cy=\"1078.4\" r=\"14\" fill=\"#009af9\" fill-rule=\"evenodd\" fill-opacity=\"1\" stroke=\"#000000\" stroke-opacity=\"1\" stroke-width=\"3.2\"/>\n",
       "<circle clip-path=\"url(#clip272)\" cx=\"1234.25\" cy=\"459.421\" r=\"14\" fill=\"#009af9\" fill-rule=\"evenodd\" fill-opacity=\"1\" stroke=\"#000000\" stroke-opacity=\"1\" stroke-width=\"3.2\"/>\n",
       "<circle clip-path=\"url(#clip272)\" cx=\"1479.53\" cy=\"135.069\" r=\"14\" fill=\"#009af9\" fill-rule=\"evenodd\" fill-opacity=\"1\" stroke=\"#000000\" stroke-opacity=\"1\" stroke-width=\"3.2\"/>\n",
       "<circle clip-path=\"url(#clip272)\" cx=\"1128.5\" cy=\"547.42\" r=\"14\" fill=\"#009af9\" fill-rule=\"evenodd\" fill-opacity=\"1\" stroke=\"#000000\" stroke-opacity=\"1\" stroke-width=\"3.2\"/>\n",
       "<circle clip-path=\"url(#clip272)\" cx=\"1080.76\" cy=\"498.16\" r=\"14\" fill=\"#009af9\" fill-rule=\"evenodd\" fill-opacity=\"1\" stroke=\"#000000\" stroke-opacity=\"1\" stroke-width=\"3.2\"/>\n",
       "<circle clip-path=\"url(#clip272)\" cx=\"2290.95\" cy=\"560.357\" r=\"14\" fill=\"#009af9\" fill-rule=\"evenodd\" fill-opacity=\"1\" stroke=\"#000000\" stroke-opacity=\"1\" stroke-width=\"3.2\"/>\n",
       "<circle clip-path=\"url(#clip272)\" cx=\"738.938\" cy=\"273.247\" r=\"14\" fill=\"#009af9\" fill-rule=\"evenodd\" fill-opacity=\"1\" stroke=\"#000000\" stroke-opacity=\"1\" stroke-width=\"3.2\"/>\n",
       "<circle clip-path=\"url(#clip272)\" cx=\"833.243\" cy=\"499.026\" r=\"14\" fill=\"#009af9\" fill-rule=\"evenodd\" fill-opacity=\"1\" stroke=\"#000000\" stroke-opacity=\"1\" stroke-width=\"3.2\"/>\n",
       "<circle clip-path=\"url(#clip272)\" cx=\"1128.43\" cy=\"1092.64\" r=\"14\" fill=\"#009af9\" fill-rule=\"evenodd\" fill-opacity=\"1\" stroke=\"#000000\" stroke-opacity=\"1\" stroke-width=\"3.2\"/>\n",
       "<circle clip-path=\"url(#clip272)\" cx=\"1771.25\" cy=\"1088.87\" r=\"14\" fill=\"#009af9\" fill-rule=\"evenodd\" fill-opacity=\"1\" stroke=\"#000000\" stroke-opacity=\"1\" stroke-width=\"3.2\"/>\n",
       "<circle clip-path=\"url(#clip272)\" cx=\"1968.7\" cy=\"606.088\" r=\"14\" fill=\"#009af9\" fill-rule=\"evenodd\" fill-opacity=\"1\" stroke=\"#000000\" stroke-opacity=\"1\" stroke-width=\"3.2\"/>\n",
       "<circle clip-path=\"url(#clip272)\" cx=\"2143.52\" cy=\"1035.85\" r=\"14\" fill=\"#009af9\" fill-rule=\"evenodd\" fill-opacity=\"1\" stroke=\"#000000\" stroke-opacity=\"1\" stroke-width=\"3.2\"/>\n",
       "<circle clip-path=\"url(#clip272)\" cx=\"1331.09\" cy=\"663.387\" r=\"14\" fill=\"#009af9\" fill-rule=\"evenodd\" fill-opacity=\"1\" stroke=\"#000000\" stroke-opacity=\"1\" stroke-width=\"3.2\"/>\n",
       "<circle clip-path=\"url(#clip272)\" cx=\"1033.45\" cy=\"789.504\" r=\"14\" fill=\"#009af9\" fill-rule=\"evenodd\" fill-opacity=\"1\" stroke=\"#000000\" stroke-opacity=\"1\" stroke-width=\"3.2\"/>\n",
       "<circle clip-path=\"url(#clip272)\" cx=\"1716.34\" cy=\"228.964\" r=\"14\" fill=\"#009af9\" fill-rule=\"evenodd\" fill-opacity=\"1\" stroke=\"#000000\" stroke-opacity=\"1\" stroke-width=\"3.2\"/>\n",
       "<circle clip-path=\"url(#clip272)\" cx=\"1365.02\" cy=\"324.613\" r=\"14\" fill=\"#009af9\" fill-rule=\"evenodd\" fill-opacity=\"1\" stroke=\"#000000\" stroke-opacity=\"1\" stroke-width=\"3.2\"/>\n",
       "<circle clip-path=\"url(#clip272)\" cx=\"585.731\" cy=\"444.927\" r=\"14\" fill=\"#009af9\" fill-rule=\"evenodd\" fill-opacity=\"1\" stroke=\"#000000\" stroke-opacity=\"1\" stroke-width=\"3.2\"/>\n",
       "<circle clip-path=\"url(#clip272)\" cx=\"1571.98\" cy=\"238.511\" r=\"14\" fill=\"#009af9\" fill-rule=\"evenodd\" fill-opacity=\"1\" stroke=\"#000000\" stroke-opacity=\"1\" stroke-width=\"3.2\"/>\n",
       "<circle clip-path=\"url(#clip272)\" cx=\"1665.22\" cy=\"127.585\" r=\"14\" fill=\"#009af9\" fill-rule=\"evenodd\" fill-opacity=\"1\" stroke=\"#000000\" stroke-opacity=\"1\" stroke-width=\"3.2\"/>\n",
       "<circle clip-path=\"url(#clip272)\" cx=\"889.043\" cy=\"767.129\" r=\"14\" fill=\"#009af9\" fill-rule=\"evenodd\" fill-opacity=\"1\" stroke=\"#000000\" stroke-opacity=\"1\" stroke-width=\"3.2\"/>\n",
       "<circle clip-path=\"url(#clip272)\" cx=\"2121.66\" cy=\"474.975\" r=\"14\" fill=\"#009af9\" fill-rule=\"evenodd\" fill-opacity=\"1\" stroke=\"#000000\" stroke-opacity=\"1\" stroke-width=\"3.2\"/>\n",
       "<circle clip-path=\"url(#clip272)\" cx=\"2014.02\" cy=\"290.486\" r=\"14\" fill=\"#009af9\" fill-rule=\"evenodd\" fill-opacity=\"1\" stroke=\"#000000\" stroke-opacity=\"1\" stroke-width=\"3.2\"/>\n",
       "<circle clip-path=\"url(#clip272)\" cx=\"981.583\" cy=\"1216.31\" r=\"14\" fill=\"#009af9\" fill-rule=\"evenodd\" fill-opacity=\"1\" stroke=\"#000000\" stroke-opacity=\"1\" stroke-width=\"3.2\"/>\n",
       "<circle clip-path=\"url(#clip272)\" cx=\"1542.9\" cy=\"337.967\" r=\"14\" fill=\"#009af9\" fill-rule=\"evenodd\" fill-opacity=\"1\" stroke=\"#000000\" stroke-opacity=\"1\" stroke-width=\"3.2\"/>\n",
       "<circle clip-path=\"url(#clip272)\" cx=\"1996.22\" cy=\"1041.84\" r=\"14\" fill=\"#009af9\" fill-rule=\"evenodd\" fill-opacity=\"1\" stroke=\"#000000\" stroke-opacity=\"1\" stroke-width=\"3.2\"/>\n",
       "<circle clip-path=\"url(#clip272)\" cx=\"1808.53\" cy=\"987.973\" r=\"14\" fill=\"#009af9\" fill-rule=\"evenodd\" fill-opacity=\"1\" stroke=\"#000000\" stroke-opacity=\"1\" stroke-width=\"3.2\"/>\n",
       "<circle clip-path=\"url(#clip272)\" cx=\"591.23\" cy=\"297.704\" r=\"14\" fill=\"#009af9\" fill-rule=\"evenodd\" fill-opacity=\"1\" stroke=\"#000000\" stroke-opacity=\"1\" stroke-width=\"3.2\"/>\n",
       "<circle clip-path=\"url(#clip272)\" cx=\"2275.81\" cy=\"624.419\" r=\"14\" fill=\"#009af9\" fill-rule=\"evenodd\" fill-opacity=\"1\" stroke=\"#000000\" stroke-opacity=\"1\" stroke-width=\"3.2\"/>\n",
       "<circle clip-path=\"url(#clip272)\" cx=\"977.386\" cy=\"692.931\" r=\"14\" fill=\"#009af9\" fill-rule=\"evenodd\" fill-opacity=\"1\" stroke=\"#000000\" stroke-opacity=\"1\" stroke-width=\"3.2\"/>\n",
       "<circle clip-path=\"url(#clip272)\" cx=\"1551.26\" cy=\"254.46\" r=\"14\" fill=\"#009af9\" fill-rule=\"evenodd\" fill-opacity=\"1\" stroke=\"#000000\" stroke-opacity=\"1\" stroke-width=\"3.2\"/>\n",
       "<polyline clip-path=\"url(#clip272)\" style=\"stroke:#e26f46; stroke-linecap:butt; stroke-linejoin:round; stroke-width:4; stroke-opacity:1; fill:none\" points=\"\n",
       "  365.706,255.954 237.651,176.818 401.839,278.283 1120.37,722.32 1676.95,1066.27 674.541,446.807 1147.66,739.181 1558.61,993.14 1590.32,1012.74 1836.39,1164.81 \n",
       "  2173.84,1373.34 1558.28,992.938 1773.63,1126.02 1391.48,889.861 510.819,345.63 936.966,608.98 1382.79,884.489 1349.62,863.992 1429.78,913.526 1616.3,1028.8 \n",
       "  1332.65,853.504 1991.23,1260.49 835.505,546.279 353.553,248.443 1644.21,1046.04 1182.03,760.427 1711.12,1087.39 2092.73,1323.22 1169.02,752.384 488.599,331.899 \n",
       "  1155.7,744.156 1865.08,1182.54 881.956,574.985 880.108,573.843 531.445,358.377 956.573,621.097 344.796,243.032 1238.31,795.205 1551.65,988.844 352.714,247.925 \n",
       "  1820.73,1155.13 865.413,564.762 2131.97,1347.47 1775.45,1127.14 850.651,555.639 1180.61,759.545 1622.63,1032.7 2230.24,1408.2 1176.19,756.815 2046.98,1294.95 \n",
       "  1703.88,1082.92 2274.56,1435.58 2016.92,1276.37 362.778,254.144 828.174,541.749 807.511,528.979 2226.52,1405.9 305.281,218.612 1535.69,978.98 1463.29,934.235 \n",
       "  1569.56,999.908 385.266,268.041 1004.37,650.633 230.922,172.66 662.287,439.234 1308.7,838.703 537.96,362.403 792.331,519.598 1713.76,1089.02 1314.19,842.094 \n",
       "  309.581,221.27 1234.25,792.693 1479.53,944.271 1128.5,727.343 1080.76,697.84 2290.95,1445.72 738.938,486.603 833.243,544.881 1128.43,727.301 1771.25,1124.55 \n",
       "  1968.7,1246.57 2143.52,1354.6 1331.09,852.541 1033.45,668.604 1716.34,1090.61 1365.02,873.511 585.731,391.924 1571.98,1001.41 1665.22,1059.02 889.043,579.365 \n",
       "  2121.66,1341.1 2014.02,1274.57 981.583,636.553 1542.9,983.432 1996.22,1263.58 1808.53,1147.59 591.23,395.323 2275.81,1436.36 977.386,633.959 1551.26,988.6 \n",
       "  \n",
       "  \"/>\n",
       "<path clip-path=\"url(#clip270)\" d=\"\n",
       "M1984.91 250.738 L2279.97 250.738 L2279.97 95.2176 L1984.91 95.2176  Z\n",
       "  \" fill=\"#ffffff\" fill-rule=\"evenodd\" fill-opacity=\"1\"/>\n",
       "<polyline clip-path=\"url(#clip270)\" style=\"stroke:#000000; stroke-linecap:butt; stroke-linejoin:round; stroke-width:4; stroke-opacity:1; fill:none\" points=\"\n",
       "  1984.91,250.738 2279.97,250.738 2279.97,95.2176 1984.91,95.2176 1984.91,250.738 \n",
       "  \"/>\n",
       "<circle clip-path=\"url(#clip270)\" cx=\"2081.96\" cy=\"147.058\" r=\"23\" fill=\"#009af9\" fill-rule=\"evenodd\" fill-opacity=\"1\" stroke=\"#000000\" stroke-opacity=\"1\" stroke-width=\"5.12\"/>\n",
       "<path clip-path=\"url(#clip270)\" d=\"M2192.86 166.745 Q2191.05 171.375 2189.34 172.787 Q2187.62 174.199 2184.75 174.199 L2181.35 174.199 L2181.35 170.634 L2183.85 170.634 Q2185.61 170.634 2186.58 169.8 Q2187.55 168.967 2188.73 165.865 L2189.5 163.921 L2179.01 138.412 L2183.53 138.412 L2191.63 158.689 L2199.73 138.412 L2204.24 138.412 L2192.86 166.745 Z\" fill=\"#000000\" fill-rule=\"evenodd\" fill-opacity=\"1\" /><path clip-path=\"url(#clip270)\" d=\"M2211.54 160.402 L2219.17 160.402 L2219.17 134.037 L2210.86 135.703 L2210.86 131.444 L2219.13 129.778 L2223.8 129.778 L2223.8 160.402 L2231.44 160.402 L2231.44 164.338 L2211.54 164.338 L2211.54 160.402 Z\" fill=\"#000000\" fill-rule=\"evenodd\" fill-opacity=\"1\" /><polyline clip-path=\"url(#clip270)\" style=\"stroke:#e26f46; stroke-linecap:butt; stroke-linejoin:round; stroke-width:4; stroke-opacity:1; fill:none\" points=\"\n",
       "  2009.17,198.898 2154.75,198.898 \n",
       "  \"/>\n",
       "<path clip-path=\"url(#clip270)\" d=\"M2192.86 218.585 Q2191.05 223.215 2189.34 224.627 Q2187.62 226.039 2184.75 226.039 L2181.35 226.039 L2181.35 222.474 L2183.85 222.474 Q2185.61 222.474 2186.58 221.64 Q2187.55 220.807 2188.73 217.705 L2189.5 215.761 L2179.01 190.252 L2183.53 190.252 L2191.63 210.529 L2199.73 190.252 L2204.24 190.252 L2192.86 218.585 Z\" fill=\"#000000\" fill-rule=\"evenodd\" fill-opacity=\"1\" /><path clip-path=\"url(#clip270)\" d=\"M2214.75 212.242 L2231.07 212.242 L2231.07 216.178 L2209.13 216.178 L2209.13 212.242 Q2211.79 209.488 2216.37 204.858 Q2220.98 200.205 2222.16 198.863 Q2224.41 196.34 2225.29 194.604 Q2226.19 192.844 2226.19 191.155 Q2226.19 188.4 2224.24 186.664 Q2222.32 184.928 2219.22 184.928 Q2217.02 184.928 2214.57 185.692 Q2212.14 186.455 2209.36 188.006 L2209.36 183.284 Q2212.18 182.15 2214.64 181.571 Q2217.09 180.993 2219.13 180.993 Q2224.5 180.993 2227.69 183.678 Q2230.89 186.363 2230.89 190.854 Q2230.89 192.983 2230.08 194.905 Q2229.29 196.803 2227.18 199.395 Q2226.6 200.067 2223.5 203.284 Q2220.4 206.479 2214.75 212.242 Z\" fill=\"#000000\" fill-rule=\"evenodd\" fill-opacity=\"1\" /></svg>\n"
      ]
     },
     "execution_count": 395,
     "metadata": {},
     "output_type": "execute_result"
    }
   ],
   "source": [
    "x2 = data.exam1score\n",
    "x3 = data.exam2score\n",
    "# if GR is the plotting \"backend\" you've chosen\n",
    "Plots.scatter(x2, x3) # the points\n",
    "plot!(x2, decision_x3)     # the line"
   ]
  },
  {
   "cell_type": "code",
   "execution_count": 9,
   "id": "05a52e1e",
   "metadata": {},
   "outputs": [
    {
     "data": {
      "application/vnd.plotly.v1+json": {
       "config": {
        "editable": false,
        "responsive": true,
        "scrollZoom": true,
        "showLink": false,
        "staticPlot": false
       },
       "data": [
        {
         "legendgroup": "Not Admitted",
         "marker": {
          "line": {
           "color": "DarkSlateGrey",
           "width": 2
          },
          "size": 10
         },
         "mode": "markers",
         "name": "Not Admitted",
         "type": "scatter",
         "x": [
          34.62365962451697,
          30.28671076822607,
          35.84740876993872,
          45.08327747668339,
          95.86155507093572,
          75.01365838958247,
          39.53833914367223,
          67.94685547711617,
          67.37202754570876,
          50.534788289883,
          34.21206097786789,
          93.114388797442,
          61.83020602312595,
          38.78580379679423,
          52.10797973193984,
          40.23689373545111,
          54.63510555424817,
          33.91550010906887,
          74.78925295941542,
          34.1836400264419,
          51.54772026906181,
          82.36875375713919,
          51.04775177128865,
          62.22267576120188,
          34.52451385320009,
          50.2864961189907,
          49.58667721632031,
          32.57720016809309,
          35.28611281526193,
          56.25381749711624,
          30.05882244669796,
          44.66826172480893,
          66.56089447242954,
          49.07256321908844,
          32.72283304060323,
          60.45555629271532,
          82.22666157785568,
          42.0754545384731,
          52.34800398794107,
          55.48216114069585
         ],
         "y": [
          78.0246928153624,
          43.89499752400101,
          72.90219802708364,
          56.3163717815305,
          38.22527805795094,
          30.60326323428011,
          76.03681085115882,
          46.67857410673128,
          42.83843832029179,
          48.85581152764205,
          44.20952859866288,
          38.80067033713209,
          50.25610789244621,
          64.99568095539578,
          63.12762376881715,
          71.16774802184875,
          52.21388588061123,
          98.86943574220611,
          41.57341522824434,
          75.2377203360134,
          46.85629026349976,
          40.61825515970618,
          45.82270145776001,
          52.06099194836679,
          60.39634245837173,
          49.80453881323059,
          59.80895099453265,
          95.59854761387875,
          47.02051394723416,
          39.26147251058019,
          49.59297386723685,
          66.45008614558913,
          41.09209807936973,
          51.88321182073966,
          43.30717306430063,
          42.50840943572217,
          42.71987853716458,
          78.84478600148043,
          60.76950525602592,
          35.57070347228866
         ]
        },
        {
         "legendgroup": "Admitted",
         "marker": {
          "line": {
           "color": "DarkSlateGrey",
           "width": 2
          },
          "size": 10
         },
         "mode": "markers",
         "name": "Admitted",
         "type": "scatter",
         "x": [
          60.18259938620976,
          79.0327360507101,
          61.10666453684766,
          75.02474556738889,
          76.09878670226257,
          84.43281996120035,
          82.30705337399482,
          69.36458875970939,
          53.9710521485623,
          69.07014406283025,
          70.66150955499435,
          76.97878372747498,
          89.6767757507208,
          77.9240914545704,
          62.27101367004632,
          80.1901807509566,
          61.379289447425,
          85.40451939411645,
          52.04540476831827,
          64.17698887494485,
          83.90239366249155,
          94.44336776917852,
          77.19303492601364,
          97.77159928000232,
          62.07306379667647,
          91.56497449807442,
          79.94481794066932,
          99.2725269292572,
          90.54671411399852,
          97.64563396007767,
          74.24869136721598,
          71.7964620586338,
          75.3956114656803,
          40.45755098375164,
          80.27957401466998,
          66.74671856944039,
          64.0393204150601,
          72.34649422579923,
          60.45788573918959,
          58.84095621726802,
          99.82785779692128,
          47.26426910848174,
          50.45815980285988,
          88.9138964166533,
          94.83450672430196,
          67.31925746917527,
          57.23870631569862,
          80.36675600171273,
          68.46852178591112,
          75.47770200533905,
          78.63542434898018,
          94.09433112516793,
          90.44855097096364,
          74.49269241843041,
          89.84580670720979,
          83.48916274498238,
          42.2617008099817,
          99.31500880510394,
          55.34001756003703,
          74.77589300092767
         ],
         "y": [
          86.30855209546826,
          75.3443764369103,
          96.51142588489624,
          46.55401354116538,
          87.42056971926803,
          43.53339331072109,
          76.48196330235604,
          97.71869196188608,
          89.20735013750205,
          52.74046973016765,
          92.92713789364831,
          47.57596364975532,
          65.79936592745237,
          68.9723599933059,
          69.95445795447587,
          44.82162893218353,
          72.80788731317097,
          57.05198397627122,
          69.43286012045222,
          80.90806058670817,
          56.30804621605327,
          65.56892160559052,
          70.45820000180959,
          86.7278223300282,
          96.76882412413983,
          88.696292545466,
          74.16311935043758,
          60.99903099844988,
          43.39060180650027,
          68.86157272420604,
          69.82457122657193,
          78.45356224515052,
          85.75993667331619,
          97.53518548909936,
          92.11606081344084,
          60.99139402740988,
          78.03168802018232,
          96.22759296761404,
          73.09499809758037,
          75.85844831279042,
          72.36925193383885,
          88.47586499559782,
          75.80985952982456,
          69.80378889835472,
          45.69430680250754,
          66.58935317747915,
          59.51428198012956,
          90.96014789746954,
          85.59430710452014,
          90.42453899753964,
          96.64742716885644,
          77.15910509073893,
          87.50879176484702,
          84.84513684930135,
          45.35828361091658,
          48.38028579728175,
          87.10385094025457,
          68.77540947206617,
          64.9319380069486,
          89.52981289513276
         ]
        },
        {
         "mode": "lines",
         "name": "Decision Boundary",
         "type": "scatter",
         "x": [
          34.62365962451697,
          30.28671076822607,
          35.84740876993872,
          60.18259938620976,
          79.0327360507101,
          45.08327747668339,
          61.10666453684766,
          75.02474556738889,
          76.09878670226257,
          84.43281996120035,
          95.86155507093572,
          75.01365838958247,
          82.30705337399482,
          69.36458875970939,
          39.53833914367223,
          53.9710521485623,
          69.07014406283025,
          67.94685547711617,
          70.66150955499435,
          76.97878372747498,
          67.37202754570876,
          89.6767757507208,
          50.534788289883,
          34.21206097786789,
          77.9240914545704,
          62.27101367004632,
          80.1901807509566,
          93.114388797442,
          61.83020602312595,
          38.78580379679423,
          61.379289447425,
          85.40451939411645,
          52.10797973193984,
          52.04540476831827,
          40.23689373545111,
          54.63510555424817,
          33.91550010906887,
          64.17698887494485,
          74.78925295941542,
          34.1836400264419,
          83.90239366249155,
          51.54772026906181,
          94.44336776917852,
          82.36875375713919,
          51.04775177128865,
          62.22267576120188,
          77.19303492601364,
          97.77159928000232,
          62.07306379667647,
          91.56497449807442,
          79.94481794066932,
          99.2725269292572,
          90.54671411399852,
          34.52451385320009,
          50.2864961189907,
          49.58667721632031,
          97.64563396007767,
          32.57720016809309,
          74.24869136721598,
          71.7964620586338,
          75.3956114656803,
          35.28611281526193,
          56.25381749711624,
          30.05882244669796,
          44.66826172480893,
          66.56089447242954,
          40.45755098375164,
          49.07256321908844,
          80.27957401466998,
          66.74671856944039,
          32.72283304060323,
          64.0393204150601,
          72.34649422579923,
          60.45788573918959,
          58.84095621726802,
          99.82785779692128,
          47.26426910848174,
          50.45815980285988,
          60.45555629271532,
          82.22666157785568,
          88.9138964166533,
          94.83450672430196,
          67.31925746917527,
          57.23870631569862,
          80.36675600171273,
          68.46852178591112,
          42.0754545384731,
          75.47770200533905,
          78.63542434898018,
          52.34800398794107,
          94.09433112516793,
          90.44855097096364,
          55.48216114069585,
          74.49269241843041,
          89.84580670720979,
          83.48916274498238,
          42.2617008099817,
          99.31500880510394,
          55.34001756003703,
          74.77589300092767
         ],
         "y": [
          89.44603986846889,
          93.88545617124925,
          88.1933776659118,
          63.28322872642549,
          43.987727029043384,
          78.73929659055244,
          62.33733103878674,
          48.09041278408407,
          46.99099568648593,
          38.46005738317282,
          26.76129988163536,
          48.10176191443737,
          40.636048651655734,
          53.8842999708921,
          84.41524307947049,
          69.64153383585811,
          54.18570140100036,
          55.33552950029019,
          52.55673731963986,
          46.09020730516587,
          55.92393867331559,
          33.092204638198,
          73.15898499803815,
          89.86736320030523,
          45.1225651507687,
          61.14547227002297,
          42.80293582165167,
          29.57337241122166,
          61.59669471210687,
          85.18555829370288,
          62.05826492279935,
          37.46539997612664,
          71.54862435817701,
          71.61267775674189,
          83.70018400317383,
          68.96179109209888,
          90.17093080032508,
          59.194465311513866,
          48.33146928663084,
          89.89645564277617,
          39.00301586295649,
          72.12212085898999,
          28.21299415713611,
          40.57289049694944,
          72.63390192292188,
          61.19495224031478,
          45.87089407478201,
          24.80612778213928,
          61.3480990300081,
          31.159394134857163,
          43.054095726040515,
          23.269738284317405,
          32.20171257100491,
          89.54752811933851,
          73.41314347392452,
          74.12949673250682,
          24.935069236924306,
          91.54085024665652,
          48.88480252264217,
          51.39496972345764,
          47.71078457780906,
          88.76793514732233,
          67.30483445581066,
          94.11872872375761,
          79.1641177622639,
          56.75423608021648,
          83.47431336971891,
          74.65575750625058,
          42.71143049718554,
          56.564021587711494,
          91.39177656147706,
          59.33538641191018,
          50.831942154795875,
          63.001438287144914,
          64.65657038990264,
          22.70128682476906,
          76.50677549628394,
          73.23742395727429,
          63.003822770567936,
          40.7183398342857,
          33.873108233083805,
          27.812613910200824,
          55.97795552844219,
          66.29667604248318,
          42.62218869438564,
          54.80153797938114,
          81.81818422105759,
          47.62675451609033,
          44.39442586372915,
          71.30292914007248,
          28.57027735761489,
          32.30219497740662,
          68.09472244442912,
          48.635036551091545,
          32.919180051379705,
          39.42601003069774,
          81.62753757949807,
          23.22625270529491,
          68.24022439758151,
          48.34514489579302
         ]
        }
       ],
       "frames": [],
       "layout": {
        "margin": {
         "b": 50,
         "l": 50,
         "r": 50,
         "t": 60
        },
        "template": {
         "data": {
          "bar": [
           {
            "error_x": {
             "color": "#2a3f5f"
            },
            "error_y": {
             "color": "#2a3f5f"
            },
            "marker": {
             "line": {
              "color": "#E5ECF6",
              "width": 0.5
             }
            },
            "type": "bar"
           }
          ],
          "barpolar": [
           {
            "marker": {
             "line": {
              "color": "#E5ECF6",
              "width": 0.5
             }
            },
            "type": "barpolar"
           }
          ],
          "carpet": [
           {
            "aaxis": {
             "endlinecolor": "#2a3f5f",
             "gridcolor": "white",
             "linecolor": "white",
             "minorgridcolor": "white",
             "startlinecolor": "#2a3f5f"
            },
            "baxis": {
             "endlinecolor": "#2a3f5f",
             "gridcolor": "white",
             "linecolor": "white",
             "minorgridcolor": "white",
             "startlinecolor": "#2a3f5f"
            },
            "type": "carpet"
           }
          ],
          "choropleth": [
           {
            "colorbar": {
             "outlinewidth": 0,
             "ticks": ""
            },
            "type": "choropleth"
           }
          ],
          "contour": [
           {
            "colorbar": {
             "outlinewidth": 0,
             "ticks": ""
            },
            "colorscale": [
             [
              0,
              "#0d0887"
             ],
             [
              0.1111111111111111,
              "#46039f"
             ],
             [
              0.2222222222222222,
              "#7201a8"
             ],
             [
              0.3333333333333333,
              "#9c179e"
             ],
             [
              0.4444444444444444,
              "#bd3786"
             ],
             [
              0.5555555555555556,
              "#d8576b"
             ],
             [
              0.6666666666666666,
              "#ed7953"
             ],
             [
              0.7777777777777778,
              "#fb9f3a"
             ],
             [
              0.8888888888888888,
              "#fdca26"
             ],
             [
              1,
              "#f0f921"
             ]
            ],
            "type": "contour"
           }
          ],
          "contourcarpet": [
           {
            "colorbar": {
             "outlinewidth": 0,
             "ticks": ""
            },
            "type": "contourcarpet"
           }
          ],
          "heatmap": [
           {
            "colorbar": {
             "outlinewidth": 0,
             "ticks": ""
            },
            "colorscale": [
             [
              0,
              "#0d0887"
             ],
             [
              0.1111111111111111,
              "#46039f"
             ],
             [
              0.2222222222222222,
              "#7201a8"
             ],
             [
              0.3333333333333333,
              "#9c179e"
             ],
             [
              0.4444444444444444,
              "#bd3786"
             ],
             [
              0.5555555555555556,
              "#d8576b"
             ],
             [
              0.6666666666666666,
              "#ed7953"
             ],
             [
              0.7777777777777778,
              "#fb9f3a"
             ],
             [
              0.8888888888888888,
              "#fdca26"
             ],
             [
              1,
              "#f0f921"
             ]
            ],
            "type": "heatmap"
           }
          ],
          "heatmapgl": [
           {
            "colorbar": {
             "outlinewidth": 0,
             "ticks": ""
            },
            "colorscale": [
             [
              0,
              "#0d0887"
             ],
             [
              0.1111111111111111,
              "#46039f"
             ],
             [
              0.2222222222222222,
              "#7201a8"
             ],
             [
              0.3333333333333333,
              "#9c179e"
             ],
             [
              0.4444444444444444,
              "#bd3786"
             ],
             [
              0.5555555555555556,
              "#d8576b"
             ],
             [
              0.6666666666666666,
              "#ed7953"
             ],
             [
              0.7777777777777778,
              "#fb9f3a"
             ],
             [
              0.8888888888888888,
              "#fdca26"
             ],
             [
              1,
              "#f0f921"
             ]
            ],
            "type": "heatmapgl"
           }
          ],
          "histogram": [
           {
            "marker": {
             "colorbar": {
              "outlinewidth": 0,
              "ticks": ""
             }
            },
            "type": "histogram"
           }
          ],
          "histogram2d": [
           {
            "colorbar": {
             "outlinewidth": 0,
             "ticks": ""
            },
            "colorscale": [
             [
              0,
              "#0d0887"
             ],
             [
              0.1111111111111111,
              "#46039f"
             ],
             [
              0.2222222222222222,
              "#7201a8"
             ],
             [
              0.3333333333333333,
              "#9c179e"
             ],
             [
              0.4444444444444444,
              "#bd3786"
             ],
             [
              0.5555555555555556,
              "#d8576b"
             ],
             [
              0.6666666666666666,
              "#ed7953"
             ],
             [
              0.7777777777777778,
              "#fb9f3a"
             ],
             [
              0.8888888888888888,
              "#fdca26"
             ],
             [
              1,
              "#f0f921"
             ]
            ],
            "type": "histogram2d"
           }
          ],
          "histogram2dcontour": [
           {
            "colorbar": {
             "outlinewidth": 0,
             "ticks": ""
            },
            "colorscale": [
             [
              0,
              "#0d0887"
             ],
             [
              0.1111111111111111,
              "#46039f"
             ],
             [
              0.2222222222222222,
              "#7201a8"
             ],
             [
              0.3333333333333333,
              "#9c179e"
             ],
             [
              0.4444444444444444,
              "#bd3786"
             ],
             [
              0.5555555555555556,
              "#d8576b"
             ],
             [
              0.6666666666666666,
              "#ed7953"
             ],
             [
              0.7777777777777778,
              "#fb9f3a"
             ],
             [
              0.8888888888888888,
              "#fdca26"
             ],
             [
              1,
              "#f0f921"
             ]
            ],
            "type": "histogram2dcontour"
           }
          ],
          "mesh3d": [
           {
            "colorbar": {
             "outlinewidth": 0,
             "ticks": ""
            },
            "type": "mesh3d"
           }
          ],
          "parcoords": [
           {
            "line": {
             "colorbar": {
              "outlinewidth": 0,
              "ticks": ""
             }
            },
            "type": "parcoords"
           }
          ],
          "pie": [
           {
            "automargin": true,
            "type": "pie"
           }
          ],
          "scatter": [
           {
            "marker": {
             "colorbar": {
              "outlinewidth": 0,
              "ticks": ""
             }
            },
            "type": "scatter"
           }
          ],
          "scatter3d": [
           {
            "line": {
             "colorbar": {
              "outlinewidth": 0,
              "ticks": ""
             }
            },
            "marker": {
             "colorbar": {
              "outlinewidth": 0,
              "ticks": ""
             }
            },
            "type": "scatter3d"
           }
          ],
          "scattercarpet": [
           {
            "marker": {
             "colorbar": {
              "outlinewidth": 0,
              "ticks": ""
             }
            },
            "type": "scattercarpet"
           }
          ],
          "scattergeo": [
           {
            "marker": {
             "colorbar": {
              "outlinewidth": 0,
              "ticks": ""
             }
            },
            "type": "scattergeo"
           }
          ],
          "scattergl": [
           {
            "marker": {
             "colorbar": {
              "outlinewidth": 0,
              "ticks": ""
             }
            },
            "type": "scattergl"
           }
          ],
          "scattermapbox": [
           {
            "marker": {
             "colorbar": {
              "outlinewidth": 0,
              "ticks": ""
             }
            },
            "type": "scattermapbox"
           }
          ],
          "scatterpolar": [
           {
            "marker": {
             "colorbar": {
              "outlinewidth": 0,
              "ticks": ""
             }
            },
            "type": "scatterpolar"
           }
          ],
          "scatterpolargl": [
           {
            "marker": {
             "colorbar": {
              "outlinewidth": 0,
              "ticks": ""
             }
            },
            "type": "scatterpolargl"
           }
          ],
          "scatterternary": [
           {
            "marker": {
             "colorbar": {
              "outlinewidth": 0,
              "ticks": ""
             }
            },
            "type": "scatterternary"
           }
          ],
          "surface": [
           {
            "colorbar": {
             "outlinewidth": 0,
             "ticks": ""
            },
            "colorscale": [
             [
              0,
              "#0d0887"
             ],
             [
              0.1111111111111111,
              "#46039f"
             ],
             [
              0.2222222222222222,
              "#7201a8"
             ],
             [
              0.3333333333333333,
              "#9c179e"
             ],
             [
              0.4444444444444444,
              "#bd3786"
             ],
             [
              0.5555555555555556,
              "#d8576b"
             ],
             [
              0.6666666666666666,
              "#ed7953"
             ],
             [
              0.7777777777777778,
              "#fb9f3a"
             ],
             [
              0.8888888888888888,
              "#fdca26"
             ],
             [
              1,
              "#f0f921"
             ]
            ],
            "type": "surface"
           }
          ],
          "table": [
           {
            "cells": {
             "fill": {
              "color": "#EBF0F8"
             },
             "line": {
              "color": "white"
             }
            },
            "header": {
             "fill": {
              "color": "#C8D4E3"
             },
             "line": {
              "color": "white"
             }
            },
            "type": "table"
           }
          ]
         },
         "layout": {
          "annotationdefaults": {
           "arrowcolor": "#2a3f5f",
           "arrowhead": 0,
           "arrowwidth": 1
          },
          "autotypenumbers": "strict",
          "coloraxis": {
           "colorbar": {
            "outlinewidth": 0,
            "ticks": ""
           }
          },
          "colorscale": {
           "diverging": [
            [
             0,
             "#8e0152"
            ],
            [
             0.1,
             "#c51b7d"
            ],
            [
             0.2,
             "#de77ae"
            ],
            [
             0.3,
             "#f1b6da"
            ],
            [
             0.4,
             "#fde0ef"
            ],
            [
             0.5,
             "#f7f7f7"
            ],
            [
             0.6,
             "#e6f5d0"
            ],
            [
             0.7,
             "#b8e186"
            ],
            [
             0.8,
             "#7fbc41"
            ],
            [
             0.9,
             "#4d9221"
            ],
            [
             1,
             "#276419"
            ]
           ],
           "sequential": [
            [
             0,
             "#0d0887"
            ],
            [
             0.1111111111111111,
             "#46039f"
            ],
            [
             0.2222222222222222,
             "#7201a8"
            ],
            [
             0.3333333333333333,
             "#9c179e"
            ],
            [
             0.4444444444444444,
             "#bd3786"
            ],
            [
             0.5555555555555556,
             "#d8576b"
            ],
            [
             0.6666666666666666,
             "#ed7953"
            ],
            [
             0.7777777777777778,
             "#fb9f3a"
            ],
            [
             0.8888888888888888,
             "#fdca26"
            ],
            [
             1,
             "#f0f921"
            ]
           ],
           "sequentialminus": [
            [
             0,
             "#0d0887"
            ],
            [
             0.1111111111111111,
             "#46039f"
            ],
            [
             0.2222222222222222,
             "#7201a8"
            ],
            [
             0.3333333333333333,
             "#9c179e"
            ],
            [
             0.4444444444444444,
             "#bd3786"
            ],
            [
             0.5555555555555556,
             "#d8576b"
            ],
            [
             0.6666666666666666,
             "#ed7953"
            ],
            [
             0.7777777777777778,
             "#fb9f3a"
            ],
            [
             0.8888888888888888,
             "#fdca26"
            ],
            [
             1,
             "#f0f921"
            ]
           ]
          },
          "colorway": [
           "#636efa",
           "#EF553B",
           "#00cc96",
           "#ab63fa",
           "#FFA15A",
           "#19d3f3",
           "#FF6692",
           "#B6E880",
           "#FF97FF",
           "#FECB52"
          ],
          "font": {
           "color": "#2a3f5f"
          },
          "geo": {
           "bgcolor": "white",
           "lakecolor": "white",
           "landcolor": "#E5ECF6",
           "showlakes": true,
           "showland": true,
           "subunitcolor": "white"
          },
          "hoverlabel": {
           "align": "left"
          },
          "hovermode": "closest",
          "mapbox": {
           "style": "light"
          },
          "paper_bgcolor": "white",
          "plot_bgcolor": "#E5ECF6",
          "polar": {
           "angularaxis": {
            "gridcolor": "white",
            "linecolor": "white",
            "ticks": ""
           },
           "bgcolor": "#E5ECF6",
           "radialaxis": {
            "gridcolor": "white",
            "linecolor": "white",
            "ticks": ""
           }
          },
          "scene": {
           "xaxis": {
            "backgroundcolor": "#E5ECF6",
            "gridcolor": "white",
            "gridwidth": 2,
            "linecolor": "white",
            "showbackground": true,
            "ticks": "",
            "zerolinecolor": "white"
           },
           "yaxis": {
            "backgroundcolor": "#E5ECF6",
            "gridcolor": "white",
            "gridwidth": 2,
            "linecolor": "white",
            "showbackground": true,
            "ticks": "",
            "zerolinecolor": "white"
           },
           "zaxis": {
            "backgroundcolor": "#E5ECF6",
            "gridcolor": "white",
            "gridwidth": 2,
            "linecolor": "white",
            "showbackground": true,
            "ticks": "",
            "zerolinecolor": "white"
           }
          },
          "shapedefaults": {
           "line": {
            "color": "#2a3f5f"
           }
          },
          "ternary": {
           "aaxis": {
            "gridcolor": "white",
            "linecolor": "white",
            "ticks": ""
           },
           "baxis": {
            "gridcolor": "white",
            "linecolor": "white",
            "ticks": ""
           },
           "bgcolor": "#E5ECF6",
           "caxis": {
            "gridcolor": "white",
            "linecolor": "white",
            "ticks": ""
           }
          },
          "title": {
           "x": 0.05
          },
          "xaxis": {
           "automargin": true,
           "gridcolor": "white",
           "linecolor": "white",
           "ticks": "",
           "title": {
            "standoff": 15
           },
           "zerolinecolor": "white",
           "zerolinewidth": 2
          },
          "yaxis": {
           "automargin": true,
           "gridcolor": "white",
           "linecolor": "white",
           "ticks": "",
           "title": {
            "standoff": 15
           },
           "zerolinecolor": "white",
           "zerolinewidth": 2
          }
         }
        },
        "title": "Scatter plot of training data - Admission Decision based on the scores from two exams."
       }
      },
      "text/html": [
       "<div\n",
       "    class=\"webio-mountpoint\"\n",
       "    data-webio-mountpoint=\"11612339016450113128\"\n",
       ">\n",
       "    <script>\n",
       "    (function(){\n",
       "    // Some integrations (namely, IJulia/Jupyter) use an alternate render pathway than\n",
       "    // just putting the html on the page. If WebIO isn't defined, then it's pretty likely\n",
       "    // that we're in one of those situations and the integration just isn't installed\n",
       "    // correctly.\n",
       "    if (typeof window.WebIO === \"undefined\") {\n",
       "        document\n",
       "            .querySelector('[data-webio-mountpoint=\"11612339016450113128\"]')\n",
       "            .innerHTML = (\n",
       "                '<div style=\"padding: 1em; background-color: #f8d6da; border: 1px solid #f5c6cb; font-weight: bold;\">' +\n",
       "                '<p><strong>WebIO not detected.</strong></p>' +\n",
       "                '<p>Please read ' +\n",
       "                '<a href=\"https://juliagizmos.github.io/WebIO.jl/latest/troubleshooting/not-detected/\" target=\"_blank\">the troubleshooting guide</a> ' +\n",
       "                'for more information on how to resolve this issue.</p>' +\n",
       "                '<p><a href=\"https://juliagizmos.github.io/WebIO.jl/latest/troubleshooting/not-detected/\" target=\"_blank\">https://juliagizmos.github.io/WebIO.jl/latest/troubleshooting/not-detected/</a></p>' +\n",
       "                '</div>'\n",
       "            );\n",
       "        return;\n",
       "    }\n",
       "    WebIO.mount(\n",
       "        document.querySelector('[data-webio-mountpoint=\"11612339016450113128\"]'),\n",
       "        {\"props\":{},\"nodeType\":\"Scope\",\"type\":\"node\",\"instanceArgs\":{\"imports\":{\"data\":[{\"name\":\"Plotly\",\"type\":\"js\",\"url\":\"\\/assetserver\\/c1ceafbb88f71e36d0668c9d7a58ed90cde4cd06-plotly.min.js\"},{\"name\":null,\"type\":\"js\",\"url\":\"\\/assetserver\\/4c539090c3e5a185e20c539d3b31979e04872767-plotly_webio.bundle.js\"}],\"type\":\"async_block\"},\"id\":\"8373442361720860922\",\"handlers\":{\"_toImage\":[\"(function (options){return this.Plotly.toImage(this.plotElem,options).then((function (data){return WebIO.setval({\\\"name\\\":\\\"image\\\",\\\"scope\\\":\\\"8373442361720860922\\\",\\\"id\\\":\\\"9936642828466305775\\\",\\\"type\\\":\\\"observable\\\"},data)}))})\"],\"__get_gd_contents\":[\"(function (prop){prop==\\\"data\\\" ? (WebIO.setval({\\\"name\\\":\\\"__gd_contents\\\",\\\"scope\\\":\\\"8373442361720860922\\\",\\\"id\\\":\\\"18081717566576587789\\\",\\\"type\\\":\\\"observable\\\"},this.plotElem.data)) : undefined; return prop==\\\"layout\\\" ? (WebIO.setval({\\\"name\\\":\\\"__gd_contents\\\",\\\"scope\\\":\\\"8373442361720860922\\\",\\\"id\\\":\\\"18081717566576587789\\\",\\\"type\\\":\\\"observable\\\"},this.plotElem.layout)) : undefined})\"],\"_downloadImage\":[\"(function (options){return this.Plotly.downloadImage(this.plotElem,options)})\"],\"_commands\":[\"(function (args){var fn=args.shift(); var elem=this.plotElem; var Plotly=this.Plotly; args.unshift(elem); return Plotly[fn].apply(this,args)})\"]},\"systemjs_options\":null,\"mount_callbacks\":[\"function () {\\n    var handler = ((function (Plotly,PlotlyWebIO){PlotlyWebIO.init(WebIO); var gd=this.dom.querySelector(\\\"#plot-09e97150-31e2-4b44-8494-f45bb60b93ab\\\"); this.plotElem=gd; this.Plotly=Plotly; (window.Blink!==undefined) ? (gd.style.width=\\\"100%\\\", gd.style.height=\\\"100vh\\\", gd.style.marginLeft=\\\"0%\\\", gd.style.marginTop=\\\"0vh\\\") : undefined; window.onresize=(function (){return Plotly.Plots.resize(gd)}); Plotly.newPlot(gd,[{\\\"x\\\":[34.62365962451697,30.28671076822607,35.84740876993872,45.08327747668339,95.86155507093572,75.01365838958247,39.53833914367223,67.94685547711617,67.37202754570876,50.534788289883,34.21206097786789,93.114388797442,61.83020602312595,38.78580379679423,52.10797973193984,40.23689373545111,54.63510555424817,33.91550010906887,74.78925295941542,34.1836400264419,51.54772026906181,82.36875375713919,51.04775177128865,62.22267576120188,34.52451385320009,50.2864961189907,49.58667721632031,32.57720016809309,35.28611281526193,56.25381749711624,30.05882244669796,44.66826172480893,66.56089447242954,49.07256321908844,32.72283304060323,60.45555629271532,82.22666157785568,42.0754545384731,52.34800398794107,55.48216114069585],\\\"mode\\\":\\\"markers\\\",\\\"y\\\":[78.0246928153624,43.89499752400101,72.90219802708364,56.3163717815305,38.22527805795094,30.60326323428011,76.03681085115882,46.67857410673128,42.83843832029179,48.85581152764205,44.20952859866288,38.80067033713209,50.25610789244621,64.99568095539578,63.12762376881715,71.16774802184875,52.21388588061123,98.86943574220611,41.57341522824434,75.2377203360134,46.85629026349976,40.61825515970618,45.82270145776001,52.06099194836679,60.39634245837173,49.80453881323059,59.80895099453265,95.59854761387875,47.02051394723416,39.26147251058019,49.59297386723685,66.45008614558913,41.09209807936973,51.88321182073966,43.30717306430063,42.50840943572217,42.71987853716458,78.84478600148043,60.76950525602592,35.57070347228866],\\\"type\\\":\\\"scatter\\\",\\\"name\\\":\\\"Not Admitted\\\",\\\"legendgroup\\\":\\\"Not Admitted\\\",\\\"marker\\\":{\\\"line\\\":{\\\"color\\\":\\\"DarkSlateGrey\\\",\\\"width\\\":2},\\\"size\\\":10}},{\\\"x\\\":[60.18259938620976,79.0327360507101,61.10666453684766,75.02474556738889,76.09878670226257,84.43281996120035,82.30705337399482,69.36458875970939,53.9710521485623,69.07014406283025,70.66150955499435,76.97878372747498,89.6767757507208,77.9240914545704,62.27101367004632,80.1901807509566,61.379289447425,85.40451939411645,52.04540476831827,64.17698887494485,83.90239366249155,94.44336776917852,77.19303492601364,97.77159928000232,62.07306379667647,91.56497449807442,79.94481794066932,99.2725269292572,90.54671411399852,97.64563396007767,74.24869136721598,71.7964620586338,75.3956114656803,40.45755098375164,80.27957401466998,66.74671856944039,64.0393204150601,72.34649422579923,60.45788573918959,58.84095621726802,99.82785779692128,47.26426910848174,50.45815980285988,88.9138964166533,94.83450672430196,67.31925746917527,57.23870631569862,80.36675600171273,68.46852178591112,75.47770200533905,78.63542434898018,94.09433112516793,90.44855097096364,74.49269241843041,89.84580670720979,83.48916274498238,42.2617008099817,99.31500880510394,55.34001756003703,74.77589300092767],\\\"mode\\\":\\\"markers\\\",\\\"y\\\":[86.30855209546826,75.3443764369103,96.51142588489624,46.55401354116538,87.42056971926803,43.53339331072109,76.48196330235604,97.71869196188608,89.20735013750205,52.74046973016765,92.92713789364831,47.57596364975532,65.79936592745237,68.9723599933059,69.95445795447587,44.82162893218353,72.80788731317097,57.05198397627122,69.43286012045222,80.90806058670817,56.30804621605327,65.56892160559052,70.45820000180959,86.7278223300282,96.76882412413983,88.696292545466,74.16311935043758,60.99903099844988,43.39060180650027,68.86157272420604,69.82457122657193,78.45356224515052,85.75993667331619,97.53518548909936,92.11606081344084,60.99139402740988,78.03168802018232,96.22759296761404,73.09499809758037,75.85844831279042,72.36925193383885,88.47586499559782,75.80985952982456,69.80378889835472,45.69430680250754,66.58935317747915,59.51428198012956,90.96014789746954,85.59430710452014,90.42453899753964,96.64742716885644,77.15910509073893,87.50879176484702,84.84513684930135,45.35828361091658,48.38028579728175,87.10385094025457,68.77540947206617,64.9319380069486,89.52981289513276],\\\"type\\\":\\\"scatter\\\",\\\"name\\\":\\\"Admitted\\\",\\\"legendgroup\\\":\\\"Admitted\\\",\\\"marker\\\":{\\\"line\\\":{\\\"color\\\":\\\"DarkSlateGrey\\\",\\\"width\\\":2},\\\"size\\\":10}}],{\\\"template\\\":{\\\"layout\\\":{\\\"coloraxis\\\":{\\\"colorbar\\\":{\\\"ticks\\\":\\\"\\\",\\\"outlinewidth\\\":0}},\\\"xaxis\\\":{\\\"gridcolor\\\":\\\"white\\\",\\\"zerolinewidth\\\":2,\\\"title\\\":{\\\"standoff\\\":15},\\\"ticks\\\":\\\"\\\",\\\"zerolinecolor\\\":\\\"white\\\",\\\"automargin\\\":true,\\\"linecolor\\\":\\\"white\\\"},\\\"hovermode\\\":\\\"closest\\\",\\\"paper_bgcolor\\\":\\\"white\\\",\\\"geo\\\":{\\\"showlakes\\\":true,\\\"showland\\\":true,\\\"landcolor\\\":\\\"#E5ECF6\\\",\\\"bgcolor\\\":\\\"white\\\",\\\"subunitcolor\\\":\\\"white\\\",\\\"lakecolor\\\":\\\"white\\\"},\\\"colorscale\\\":{\\\"sequential\\\":[[0.0,\\\"#0d0887\\\"],[0.1111111111111111,\\\"#46039f\\\"],[0.2222222222222222,\\\"#7201a8\\\"],[0.3333333333333333,\\\"#9c179e\\\"],[0.4444444444444444,\\\"#bd3786\\\"],[0.5555555555555556,\\\"#d8576b\\\"],[0.6666666666666666,\\\"#ed7953\\\"],[0.7777777777777778,\\\"#fb9f3a\\\"],[0.8888888888888888,\\\"#fdca26\\\"],[1.0,\\\"#f0f921\\\"]],\\\"diverging\\\":[[0,\\\"#8e0152\\\"],[0.1,\\\"#c51b7d\\\"],[0.2,\\\"#de77ae\\\"],[0.3,\\\"#f1b6da\\\"],[0.4,\\\"#fde0ef\\\"],[0.5,\\\"#f7f7f7\\\"],[0.6,\\\"#e6f5d0\\\"],[0.7,\\\"#b8e186\\\"],[0.8,\\\"#7fbc41\\\"],[0.9,\\\"#4d9221\\\"],[1,\\\"#276419\\\"]],\\\"sequentialminus\\\":[[0.0,\\\"#0d0887\\\"],[0.1111111111111111,\\\"#46039f\\\"],[0.2222222222222222,\\\"#7201a8\\\"],[0.3333333333333333,\\\"#9c179e\\\"],[0.4444444444444444,\\\"#bd3786\\\"],[0.5555555555555556,\\\"#d8576b\\\"],[0.6666666666666666,\\\"#ed7953\\\"],[0.7777777777777778,\\\"#fb9f3a\\\"],[0.8888888888888888,\\\"#fdca26\\\"],[1.0,\\\"#f0f921\\\"]]},\\\"yaxis\\\":{\\\"gridcolor\\\":\\\"white\\\",\\\"zerolinewidth\\\":2,\\\"title\\\":{\\\"standoff\\\":15},\\\"ticks\\\":\\\"\\\",\\\"zerolinecolor\\\":\\\"white\\\",\\\"automargin\\\":true,\\\"linecolor\\\":\\\"white\\\"},\\\"shapedefaults\\\":{\\\"line\\\":{\\\"color\\\":\\\"#2a3f5f\\\"}},\\\"hoverlabel\\\":{\\\"align\\\":\\\"left\\\"},\\\"mapbox\\\":{\\\"style\\\":\\\"light\\\"},\\\"polar\\\":{\\\"angularaxis\\\":{\\\"gridcolor\\\":\\\"white\\\",\\\"ticks\\\":\\\"\\\",\\\"linecolor\\\":\\\"white\\\"},\\\"bgcolor\\\":\\\"#E5ECF6\\\",\\\"radialaxis\\\":{\\\"gridcolor\\\":\\\"white\\\",\\\"ticks\\\":\\\"\\\",\\\"linecolor\\\":\\\"white\\\"}},\\\"autotypenumbers\\\":\\\"strict\\\",\\\"font\\\":{\\\"color\\\":\\\"#2a3f5f\\\"},\\\"ternary\\\":{\\\"aaxis\\\":{\\\"gridcolor\\\":\\\"white\\\",\\\"ticks\\\":\\\"\\\",\\\"linecolor\\\":\\\"white\\\"},\\\"bgcolor\\\":\\\"#E5ECF6\\\",\\\"caxis\\\":{\\\"gridcolor\\\":\\\"white\\\",\\\"ticks\\\":\\\"\\\",\\\"linecolor\\\":\\\"white\\\"},\\\"baxis\\\":{\\\"gridcolor\\\":\\\"white\\\",\\\"ticks\\\":\\\"\\\",\\\"linecolor\\\":\\\"white\\\"}},\\\"annotationdefaults\\\":{\\\"arrowhead\\\":0,\\\"arrowwidth\\\":1,\\\"arrowcolor\\\":\\\"#2a3f5f\\\"},\\\"plot_bgcolor\\\":\\\"#E5ECF6\\\",\\\"title\\\":{\\\"x\\\":0.05},\\\"scene\\\":{\\\"xaxis\\\":{\\\"gridcolor\\\":\\\"white\\\",\\\"gridwidth\\\":2,\\\"backgroundcolor\\\":\\\"#E5ECF6\\\",\\\"ticks\\\":\\\"\\\",\\\"showbackground\\\":true,\\\"zerolinecolor\\\":\\\"white\\\",\\\"linecolor\\\":\\\"white\\\"},\\\"zaxis\\\":{\\\"gridcolor\\\":\\\"white\\\",\\\"gridwidth\\\":2,\\\"backgroundcolor\\\":\\\"#E5ECF6\\\",\\\"ticks\\\":\\\"\\\",\\\"showbackground\\\":true,\\\"zerolinecolor\\\":\\\"white\\\",\\\"linecolor\\\":\\\"white\\\"},\\\"yaxis\\\":{\\\"gridcolor\\\":\\\"white\\\",\\\"gridwidth\\\":2,\\\"backgroundcolor\\\":\\\"#E5ECF6\\\",\\\"ticks\\\":\\\"\\\",\\\"showbackground\\\":true,\\\"zerolinecolor\\\":\\\"white\\\",\\\"linecolor\\\":\\\"white\\\"}},\\\"colorway\\\":[\\\"#636efa\\\",\\\"#EF553B\\\",\\\"#00cc96\\\",\\\"#ab63fa\\\",\\\"#FFA15A\\\",\\\"#19d3f3\\\",\\\"#FF6692\\\",\\\"#B6E880\\\",\\\"#FF97FF\\\",\\\"#FECB52\\\"]},\\\"data\\\":{\\\"scatterpolargl\\\":[{\\\"type\\\":\\\"scatterpolargl\\\",\\\"marker\\\":{\\\"colorbar\\\":{\\\"ticks\\\":\\\"\\\",\\\"outlinewidth\\\":0}}}],\\\"carpet\\\":[{\\\"baxis\\\":{\\\"gridcolor\\\":\\\"white\\\",\\\"endlinecolor\\\":\\\"#2a3f5f\\\",\\\"minorgridcolor\\\":\\\"white\\\",\\\"startlinecolor\\\":\\\"#2a3f5f\\\",\\\"linecolor\\\":\\\"white\\\"},\\\"type\\\":\\\"carpet\\\",\\\"aaxis\\\":{\\\"gridcolor\\\":\\\"white\\\",\\\"endlinecolor\\\":\\\"#2a3f5f\\\",\\\"minorgridcolor\\\":\\\"white\\\",\\\"startlinecolor\\\":\\\"#2a3f5f\\\",\\\"linecolor\\\":\\\"white\\\"}}],\\\"scatterpolar\\\":[{\\\"type\\\":\\\"scatterpolar\\\",\\\"marker\\\":{\\\"colorbar\\\":{\\\"ticks\\\":\\\"\\\",\\\"outlinewidth\\\":0}}}],\\\"parcoords\\\":[{\\\"line\\\":{\\\"colorbar\\\":{\\\"ticks\\\":\\\"\\\",\\\"outlinewidth\\\":0}},\\\"type\\\":\\\"parcoords\\\"}],\\\"scatter\\\":[{\\\"type\\\":\\\"scatter\\\",\\\"marker\\\":{\\\"colorbar\\\":{\\\"ticks\\\":\\\"\\\",\\\"outlinewidth\\\":0}}}],\\\"histogram2dcontour\\\":[{\\\"colorbar\\\":{\\\"ticks\\\":\\\"\\\",\\\"outlinewidth\\\":0},\\\"type\\\":\\\"histogram2dcontour\\\",\\\"colorscale\\\":[[0.0,\\\"#0d0887\\\"],[0.1111111111111111,\\\"#46039f\\\"],[0.2222222222222222,\\\"#7201a8\\\"],[0.3333333333333333,\\\"#9c179e\\\"],[0.4444444444444444,\\\"#bd3786\\\"],[0.5555555555555556,\\\"#d8576b\\\"],[0.6666666666666666,\\\"#ed7953\\\"],[0.7777777777777778,\\\"#fb9f3a\\\"],[0.8888888888888888,\\\"#fdca26\\\"],[1.0,\\\"#f0f921\\\"]]}],\\\"contour\\\":[{\\\"colorbar\\\":{\\\"ticks\\\":\\\"\\\",\\\"outlinewidth\\\":0},\\\"type\\\":\\\"contour\\\",\\\"colorscale\\\":[[0.0,\\\"#0d0887\\\"],[0.1111111111111111,\\\"#46039f\\\"],[0.2222222222222222,\\\"#7201a8\\\"],[0.3333333333333333,\\\"#9c179e\\\"],[0.4444444444444444,\\\"#bd3786\\\"],[0.5555555555555556,\\\"#d8576b\\\"],[0.6666666666666666,\\\"#ed7953\\\"],[0.7777777777777778,\\\"#fb9f3a\\\"],[0.8888888888888888,\\\"#fdca26\\\"],[1.0,\\\"#f0f921\\\"]]}],\\\"scattercarpet\\\":[{\\\"type\\\":\\\"scattercarpet\\\",\\\"marker\\\":{\\\"colorbar\\\":{\\\"ticks\\\":\\\"\\\",\\\"outlinewidth\\\":0}}}],\\\"mesh3d\\\":[{\\\"colorbar\\\":{\\\"ticks\\\":\\\"\\\",\\\"outlinewidth\\\":0},\\\"type\\\":\\\"mesh3d\\\"}],\\\"surface\\\":[{\\\"colorbar\\\":{\\\"ticks\\\":\\\"\\\",\\\"outlinewidth\\\":0},\\\"type\\\":\\\"surface\\\",\\\"colorscale\\\":[[0.0,\\\"#0d0887\\\"],[0.1111111111111111,\\\"#46039f\\\"],[0.2222222222222222,\\\"#7201a8\\\"],[0.3333333333333333,\\\"#9c179e\\\"],[0.4444444444444444,\\\"#bd3786\\\"],[0.5555555555555556,\\\"#d8576b\\\"],[0.6666666666666666,\\\"#ed7953\\\"],[0.7777777777777778,\\\"#fb9f3a\\\"],[0.8888888888888888,\\\"#fdca26\\\"],[1.0,\\\"#f0f921\\\"]]}],\\\"scattermapbox\\\":[{\\\"type\\\":\\\"scattermapbox\\\",\\\"marker\\\":{\\\"colorbar\\\":{\\\"ticks\\\":\\\"\\\",\\\"outlinewidth\\\":0}}}],\\\"scattergeo\\\":[{\\\"type\\\":\\\"scattergeo\\\",\\\"marker\\\":{\\\"colorbar\\\":{\\\"ticks\\\":\\\"\\\",\\\"outlinewidth\\\":0}}}],\\\"histogram\\\":[{\\\"type\\\":\\\"histogram\\\",\\\"marker\\\":{\\\"colorbar\\\":{\\\"ticks\\\":\\\"\\\",\\\"outlinewidth\\\":0}}}],\\\"pie\\\":[{\\\"type\\\":\\\"pie\\\",\\\"automargin\\\":true}],\\\"choropleth\\\":[{\\\"colorbar\\\":{\\\"ticks\\\":\\\"\\\",\\\"outlinewidth\\\":0},\\\"type\\\":\\\"choropleth\\\"}],\\\"heatmapgl\\\":[{\\\"colorbar\\\":{\\\"ticks\\\":\\\"\\\",\\\"outlinewidth\\\":0},\\\"type\\\":\\\"heatmapgl\\\",\\\"colorscale\\\":[[0.0,\\\"#0d0887\\\"],[0.1111111111111111,\\\"#46039f\\\"],[0.2222222222222222,\\\"#7201a8\\\"],[0.3333333333333333,\\\"#9c179e\\\"],[0.4444444444444444,\\\"#bd3786\\\"],[0.5555555555555556,\\\"#d8576b\\\"],[0.6666666666666666,\\\"#ed7953\\\"],[0.7777777777777778,\\\"#fb9f3a\\\"],[0.8888888888888888,\\\"#fdca26\\\"],[1.0,\\\"#f0f921\\\"]]}],\\\"bar\\\":[{\\\"type\\\":\\\"bar\\\",\\\"error_y\\\":{\\\"color\\\":\\\"#2a3f5f\\\"},\\\"error_x\\\":{\\\"color\\\":\\\"#2a3f5f\\\"},\\\"marker\\\":{\\\"line\\\":{\\\"color\\\":\\\"#E5ECF6\\\",\\\"width\\\":0.5}}}],\\\"heatmap\\\":[{\\\"colorbar\\\":{\\\"ticks\\\":\\\"\\\",\\\"outlinewidth\\\":0},\\\"type\\\":\\\"heatmap\\\",\\\"colorscale\\\":[[0.0,\\\"#0d0887\\\"],[0.1111111111111111,\\\"#46039f\\\"],[0.2222222222222222,\\\"#7201a8\\\"],[0.3333333333333333,\\\"#9c179e\\\"],[0.4444444444444444,\\\"#bd3786\\\"],[0.5555555555555556,\\\"#d8576b\\\"],[0.6666666666666666,\\\"#ed7953\\\"],[0.7777777777777778,\\\"#fb9f3a\\\"],[0.8888888888888888,\\\"#fdca26\\\"],[1.0,\\\"#f0f921\\\"]]}],\\\"contourcarpet\\\":[{\\\"colorbar\\\":{\\\"ticks\\\":\\\"\\\",\\\"outlinewidth\\\":0},\\\"type\\\":\\\"contourcarpet\\\"}],\\\"table\\\":[{\\\"type\\\":\\\"table\\\",\\\"header\\\":{\\\"line\\\":{\\\"color\\\":\\\"white\\\"},\\\"fill\\\":{\\\"color\\\":\\\"#C8D4E3\\\"}},\\\"cells\\\":{\\\"line\\\":{\\\"color\\\":\\\"white\\\"},\\\"fill\\\":{\\\"color\\\":\\\"#EBF0F8\\\"}}}],\\\"scatter3d\\\":[{\\\"line\\\":{\\\"colorbar\\\":{\\\"ticks\\\":\\\"\\\",\\\"outlinewidth\\\":0}},\\\"type\\\":\\\"scatter3d\\\",\\\"marker\\\":{\\\"colorbar\\\":{\\\"ticks\\\":\\\"\\\",\\\"outlinewidth\\\":0}}}],\\\"barpolar\\\":[{\\\"type\\\":\\\"barpolar\\\",\\\"marker\\\":{\\\"line\\\":{\\\"color\\\":\\\"#E5ECF6\\\",\\\"width\\\":0.5}}}],\\\"scattergl\\\":[{\\\"type\\\":\\\"scattergl\\\",\\\"marker\\\":{\\\"colorbar\\\":{\\\"ticks\\\":\\\"\\\",\\\"outlinewidth\\\":0}}}],\\\"histogram2d\\\":[{\\\"colorbar\\\":{\\\"ticks\\\":\\\"\\\",\\\"outlinewidth\\\":0},\\\"type\\\":\\\"histogram2d\\\",\\\"colorscale\\\":[[0.0,\\\"#0d0887\\\"],[0.1111111111111111,\\\"#46039f\\\"],[0.2222222222222222,\\\"#7201a8\\\"],[0.3333333333333333,\\\"#9c179e\\\"],[0.4444444444444444,\\\"#bd3786\\\"],[0.5555555555555556,\\\"#d8576b\\\"],[0.6666666666666666,\\\"#ed7953\\\"],[0.7777777777777778,\\\"#fb9f3a\\\"],[0.8888888888888888,\\\"#fdca26\\\"],[1.0,\\\"#f0f921\\\"]]}],\\\"scatterternary\\\":[{\\\"type\\\":\\\"scatterternary\\\",\\\"marker\\\":{\\\"colorbar\\\":{\\\"ticks\\\":\\\"\\\",\\\"outlinewidth\\\":0}}}]}},\\\"margin\\\":{\\\"l\\\":50,\\\"b\\\":50,\\\"r\\\":50,\\\"t\\\":60},\\\"title\\\":\\\"Scatter plot of training data - Admission Decision based on the scores from two exams.\\\"},{\\\"showLink\\\":false,\\\"editable\\\":false,\\\"responsive\\\":true,\\\"staticPlot\\\":false,\\\"scrollZoom\\\":true}); gd.on(\\\"plotly_hover\\\",(function (data){var filtered_data=WebIO.PlotlyCommands.filterEventData(gd,data,\\\"hover\\\"); return !(filtered_data.isnil) ? (WebIO.setval({\\\"name\\\":\\\"hover\\\",\\\"scope\\\":\\\"8373442361720860922\\\",\\\"id\\\":\\\"16575757781126114117\\\",\\\"type\\\":\\\"observable\\\"},filtered_data.out)) : undefined})); gd.on(\\\"plotly_unhover\\\",(function (){return WebIO.setval({\\\"name\\\":\\\"hover\\\",\\\"scope\\\":\\\"8373442361720860922\\\",\\\"id\\\":\\\"16575757781126114117\\\",\\\"type\\\":\\\"observable\\\"},{})})); gd.on(\\\"plotly_selected\\\",(function (data){var filtered_data=WebIO.PlotlyCommands.filterEventData(gd,data,\\\"selected\\\"); return !(filtered_data.isnil) ? (WebIO.setval({\\\"name\\\":\\\"selected\\\",\\\"scope\\\":\\\"8373442361720860922\\\",\\\"id\\\":\\\"14120280221152786644\\\",\\\"type\\\":\\\"observable\\\"},filtered_data.out)) : undefined})); gd.on(\\\"plotly_deselect\\\",(function (){return WebIO.setval({\\\"name\\\":\\\"selected\\\",\\\"scope\\\":\\\"8373442361720860922\\\",\\\"id\\\":\\\"14120280221152786644\\\",\\\"type\\\":\\\"observable\\\"},{})})); gd.on(\\\"plotly_relayout\\\",(function (data){var filtered_data=WebIO.PlotlyCommands.filterEventData(gd,data,\\\"relayout\\\"); return !(filtered_data.isnil) ? (WebIO.setval({\\\"name\\\":\\\"relayout\\\",\\\"scope\\\":\\\"8373442361720860922\\\",\\\"id\\\":\\\"6820896123250539490\\\",\\\"type\\\":\\\"observable\\\"},filtered_data.out)) : undefined})); return gd.on(\\\"plotly_click\\\",(function (data){var filtered_data=WebIO.PlotlyCommands.filterEventData(gd,data,\\\"click\\\"); return !(filtered_data.isnil) ? (WebIO.setval({\\\"name\\\":\\\"click\\\",\\\"scope\\\":\\\"8373442361720860922\\\",\\\"id\\\":\\\"13262039881921007791\\\",\\\"type\\\":\\\"observable\\\"},filtered_data.out)) : undefined}))}));\\n    (WebIO.importBlock({\\\"data\\\":[{\\\"name\\\":\\\"Plotly\\\",\\\"type\\\":\\\"js\\\",\\\"url\\\":\\\"\\/assetserver\\/c1ceafbb88f71e36d0668c9d7a58ed90cde4cd06-plotly.min.js\\\"},{\\\"name\\\":null,\\\"type\\\":\\\"js\\\",\\\"url\\\":\\\"\\/assetserver\\/4c539090c3e5a185e20c539d3b31979e04872767-plotly_webio.bundle.js\\\"}],\\\"type\\\":\\\"async_block\\\"})).then((imports) => handler.apply(this, imports));\\n}\\n\"],\"observables\":{\"_toImage\":{\"sync\":false,\"id\":\"15562044043080595265\",\"value\":{}},\"hover\":{\"sync\":false,\"id\":\"16575757781126114117\",\"value\":{}},\"selected\":{\"sync\":false,\"id\":\"14120280221152786644\",\"value\":{}},\"__gd_contents\":{\"sync\":false,\"id\":\"18081717566576587789\",\"value\":{}},\"click\":{\"sync\":false,\"id\":\"13262039881921007791\",\"value\":{}},\"image\":{\"sync\":true,\"id\":\"9936642828466305775\",\"value\":\"\"},\"__get_gd_contents\":{\"sync\":false,\"id\":\"1975331579768213184\",\"value\":\"\"},\"_downloadImage\":{\"sync\":false,\"id\":\"11866566367127503610\",\"value\":{}},\"relayout\":{\"sync\":false,\"id\":\"6820896123250539490\",\"value\":{}},\"_commands\":{\"sync\":false,\"id\":\"5231849025041671165\",\"value\":[\"addTraces\",[{\"mode\":\"lines\",\"y\":[89.44603986846889,93.88545617124925,88.1933776659118,63.28322872642549,43.987727029043384,78.73929659055244,62.33733103878674,48.09041278408407,46.99099568648593,38.46005738317282,26.76129988163536,48.10176191443737,40.636048651655734,53.8842999708921,84.41524307947049,69.64153383585811,54.18570140100036,55.33552950029019,52.55673731963986,46.09020730516587,55.92393867331559,33.092204638198,73.15898499803815,89.86736320030523,45.1225651507687,61.14547227002297,42.80293582165167,29.57337241122166,61.59669471210687,85.18555829370288,62.05826492279935,37.46539997612664,71.54862435817701,71.61267775674189,83.70018400317383,68.96179109209888,90.17093080032508,59.194465311513866,48.33146928663084,89.89645564277617,39.00301586295649,72.12212085898999,28.21299415713611,40.57289049694944,72.63390192292188,61.19495224031478,45.87089407478201,24.80612778213928,61.3480990300081,31.159394134857163,43.054095726040515,23.269738284317405,32.20171257100491,89.54752811933851,73.41314347392452,74.12949673250682,24.935069236924306,91.54085024665652,48.88480252264217,51.39496972345764,47.71078457780906,88.76793514732233,67.30483445581066,94.11872872375761,79.1641177622639,56.75423608021648,83.47431336971891,74.65575750625058,42.71143049718554,56.564021587711494,91.39177656147706,59.33538641191018,50.831942154795875,63.001438287144914,64.65657038990264,22.70128682476906,76.50677549628394,73.23742395727429,63.003822770567936,40.7183398342857,33.873108233083805,27.812613910200824,55.97795552844219,66.29667604248318,42.62218869438564,54.80153797938114,81.81818422105759,47.62675451609033,44.39442586372915,71.30292914007248,28.57027735761489,32.30219497740662,68.09472244442912,48.635036551091545,32.919180051379705,39.42601003069774,81.62753757949807,23.22625270529491,68.24022439758151,48.34514489579302],\"type\":\"scatter\",\"name\":\"Decision Boundary\",\"x\":[34.62365962451697,30.28671076822607,35.84740876993872,60.18259938620976,79.0327360507101,45.08327747668339,61.10666453684766,75.02474556738889,76.09878670226257,84.43281996120035,95.86155507093572,75.01365838958247,82.30705337399482,69.36458875970939,39.53833914367223,53.9710521485623,69.07014406283025,67.94685547711617,70.66150955499435,76.97878372747498,67.37202754570876,89.6767757507208,50.534788289883,34.21206097786789,77.9240914545704,62.27101367004632,80.1901807509566,93.114388797442,61.83020602312595,38.78580379679423,61.379289447425,85.40451939411645,52.10797973193984,52.04540476831827,40.23689373545111,54.63510555424817,33.91550010906887,64.17698887494485,74.78925295941542,34.1836400264419,83.90239366249155,51.54772026906181,94.44336776917852,82.36875375713919,51.04775177128865,62.22267576120188,77.19303492601364,97.77159928000232,62.07306379667647,91.56497449807442,79.94481794066932,99.2725269292572,90.54671411399852,34.52451385320009,50.2864961189907,49.58667721632031,97.64563396007767,32.57720016809309,74.24869136721598,71.7964620586338,75.3956114656803,35.28611281526193,56.25381749711624,30.05882244669796,44.66826172480893,66.56089447242954,40.45755098375164,49.07256321908844,80.27957401466998,66.74671856944039,32.72283304060323,64.0393204150601,72.34649422579923,60.45788573918959,58.84095621726802,99.82785779692128,47.26426910848174,50.45815980285988,60.45555629271532,82.22666157785568,88.9138964166533,94.83450672430196,67.31925746917527,57.23870631569862,80.36675600171273,68.46852178591112,42.0754545384731,75.47770200533905,78.63542434898018,52.34800398794107,94.09433112516793,90.44855097096364,55.48216114069585,74.49269241843041,89.84580670720979,83.48916274498238,42.2617008099817,99.31500880510394,55.34001756003703,74.77589300092767]}]]}}},\"children\":[{\"props\":{\"id\":\"plot-09e97150-31e2-4b44-8494-f45bb60b93ab\"},\"nodeType\":\"DOM\",\"type\":\"node\",\"instanceArgs\":{\"namespace\":\"html\",\"tag\":\"div\"},\"children\":[]}]},\n",
       "        window,\n",
       "    );\n",
       "    })()\n",
       "    </script>\n",
       "</div>\n"
      ],
      "text/plain": [
       "data: [\n",
       "  \"scatter with fields legendgroup, marker, mode, name, type, x, and y\",\n",
       "  \"scatter with fields legendgroup, marker, mode, name, type, x, and y\",\n",
       "  \"scatter with fields mode, name, type, x, and y\"\n",
       "]\n",
       "\n",
       "layout: \"layout with fields margin, template, and title\"\n",
       "\n"
      ]
     },
     "execution_count": 9,
     "metadata": {},
     "output_type": "execute_result"
    }
   ],
   "source": [
    "trace1 = PlotlyJS.scatter(data, \n",
    "                        x=:exam1score, \n",
    "                        y=:exam2score, \n",
    "                        group=:status, \n",
    "                        mode=\"markers\",\n",
    "                        marker=attr(size=10, line=attr(width=2, color=\"DarkSlateGrey\")))\n",
    "\n",
    "trace2 = PlotlyJS.scatter(x=x2,\n",
    "                        y=decision_x3,\n",
    "                        mode=\"lines\",\n",
    "                        name=\"Decision Boundary\")\n",
    "                        \n",
    "\n",
    "layout = Layout(\n",
    "    title=\"Scatter plot of training data - Admission Decision based on the scores from two exams.\"\n",
    ")\n",
    "\n",
    "P = PlotlyJS.plot(trace1, layout)\n",
    "PlotlyJS.addtraces(P, trace2)\n"
   ]
  },
  {
   "cell_type": "markdown",
   "id": "43432588",
   "metadata": {},
   "source": [
    "After learning the parameters, you'll like to use it to predict the outcomes on unseen data. \n",
    "\n",
    "In this part, we will use the logistic regression model to predict the probability that a student with score 45 on exam 1 and score 85 on exam 2 will be admitted.\n",
    "\n",
    "Furthermore, we will compute the training and test set accuracies of \n",
    "our model."
   ]
  },
  {
   "cell_type": "code",
   "execution_count": 492,
   "id": "a1c70761",
   "metadata": {},
   "outputs": [
    {
     "data": {
      "text/plain": [
       "0.7762912088189753"
      ]
     },
     "execution_count": 492,
     "metadata": {},
     "output_type": "execute_result"
    }
   ],
   "source": [
    "# Predict probability for a student with score 45 on exam 1 \n",
    "# and score 85 on exam 2 \n",
    "\n",
    "sigmoid(optimizedTheta'*[1, 45, 85])"
   ]
  },
  {
   "cell_type": "code",
   "execution_count": 501,
   "id": "65e6d6a3",
   "metadata": {},
   "outputs": [
    {
     "data": {
      "text/plain": [
       "0.89"
      ]
     },
     "execution_count": 501,
     "metadata": {},
     "output_type": "execute_result"
    }
   ],
   "source": [
    "predict(X::Array, theta::Array) = sigmoid.(X * optimizedTheta)\n",
    "\n",
    "sigmoid_v = predict(X, optimizedTheta)\n",
    "\n",
    "predictions = [x >= 0.5 ? 1 : 0 for x in sigmoid_v]\n",
    "\n",
    "Statistics.mean(predictions .== y)"
   ]
  }
 ],
 "metadata": {
  "@webio": {
   "lastCommId": "c123c03d0ab843b589bb11c71bb32244",
   "lastKernelId": "42bbf9a5-0452-478a-80ff-9a969f67a190"
  },
  "kernelspec": {
   "display_name": "Julia 1.6.4",
   "language": "julia",
   "name": "julia-1.6"
  },
  "language_info": {
   "file_extension": ".jl",
   "mimetype": "application/julia",
   "name": "julia",
   "version": "1.6.4"
  }
 },
 "nbformat": 4,
 "nbformat_minor": 5
}
