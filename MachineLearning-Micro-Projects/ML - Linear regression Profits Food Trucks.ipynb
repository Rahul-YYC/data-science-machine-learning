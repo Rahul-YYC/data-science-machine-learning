{
 "cells": [
  {
   "cell_type": "markdown",
   "id": "764565b3",
   "metadata": {},
   "source": [
    "This implementation is motivated by the Machine Learning online class taught by Professor Andrew Ng.\n",
    "\n",
    "I am implementing this example in the Julia programming language. I have prior experience working with Python and R and transition to Julia seems to be relatively straight forward. So, I am excited.\n",
    "\n",
    "I watched the presentation that Alan Edelman (co-founder) did \n",
    "https://www.youtube.com/watch?v=rZS2LGiurKY&t=497s and that peaked my interest.\n",
    "\n",
    "I also read - Why We Created Julia article in the 2012 blogpost. https://julialang.org/blog/2012/02/why-we-created-julia/"
   ]
  },
  {
   "cell_type": "code",
   "execution_count": 1,
   "id": "perfect-glance",
   "metadata": {},
   "outputs": [
    {
     "name": "stdout",
     "output_type": "stream",
     "text": [
      "Linear regression - one variable - Predict profits for a food truck\n"
     ]
    }
   ],
   "source": [
    "println(\"Linear regression - one variable - Predict profits for a food truck\")"
   ]
  },
  {
   "cell_type": "markdown",
   "id": "de260e5e",
   "metadata": {},
   "source": [
    "We need to load following library modules into our environment to use a particular module or function. We use them at different stages of implementation, but I declared them at the top for clarity"
   ]
  },
  {
   "cell_type": "code",
   "execution_count": 3,
   "id": "abstract-abuse",
   "metadata": {},
   "outputs": [
    {
     "data": {
      "text/plain": [
       "Plots.GRBackend()"
      ]
     },
     "execution_count": 3,
     "metadata": {},
     "output_type": "execute_result"
    }
   ],
   "source": [
    "using CSV\n",
    "using DataFrames\n",
    "using Plots\n",
    "using ForwardDiff\n",
    "using PlotlyJS\n",
    "using WebIO\n",
    "\n",
    "gr()\n",
    "Plots.GRBackend()\n",
    "Plots.gr() # I prefer the default GR backend "
   ]
  },
  {
   "cell_type": "markdown",
   "id": "eed34951",
   "metadata": {},
   "source": [
    "We can get a quick look at the data stored inside the ex1data1.csv file"
   ]
  },
  {
   "cell_type": "code",
   "execution_count": 4,
   "id": "parental-husband",
   "metadata": {},
   "outputs": [
    {
     "name": "stdout",
     "output_type": "stream",
     "text": [
      "population,profit\n",
      "6.1101,17.592\n",
      "5.5277,9.1302\n",
      "8.5186,13.662\n",
      "7.0032,11.854\n",
      "5.8598,6.8233\n",
      "8.3829,11.886\n",
      "7.4764,4.3483\n",
      "8.5781,12\n",
      "6.4862,6.5987\n"
     ]
    }
   ],
   "source": [
    ";head ex1data1.csv"
   ]
  },
  {
   "cell_type": "markdown",
   "id": "fd05e740",
   "metadata": {},
   "source": [
    "Next, we load the data into the DataFrame using CSV.jl package:\n",
    "\n",
    "https://csv.juliadata.org/stable/"
   ]
  },
  {
   "cell_type": "code",
   "execution_count": 7,
   "id": "rotary-builder",
   "metadata": {},
   "outputs": [
    {
     "data": {
      "text/html": [
       "<div class=\"data-frame\"><p>97 rows × 2 columns</p><table class=\"data-frame\"><thead><tr><th></th><th>population</th><th>profit</th></tr><tr><th></th><th title=\"Float64\">Float64</th><th title=\"Float64\">Float64</th></tr></thead><tbody><tr><th>1</th><td>6.1101</td><td>17.592</td></tr><tr><th>2</th><td>5.5277</td><td>9.1302</td></tr><tr><th>3</th><td>8.5186</td><td>13.662</td></tr><tr><th>4</th><td>7.0032</td><td>11.854</td></tr><tr><th>5</th><td>5.8598</td><td>6.8233</td></tr><tr><th>6</th><td>8.3829</td><td>11.886</td></tr><tr><th>7</th><td>7.4764</td><td>4.3483</td></tr><tr><th>8</th><td>8.5781</td><td>12.0</td></tr><tr><th>9</th><td>6.4862</td><td>6.5987</td></tr><tr><th>10</th><td>5.0546</td><td>3.8166</td></tr><tr><th>11</th><td>5.7107</td><td>3.2522</td></tr><tr><th>12</th><td>14.164</td><td>15.505</td></tr><tr><th>13</th><td>5.734</td><td>3.1551</td></tr><tr><th>14</th><td>8.4084</td><td>7.2258</td></tr><tr><th>15</th><td>5.6407</td><td>0.71618</td></tr><tr><th>16</th><td>5.3794</td><td>3.5129</td></tr><tr><th>17</th><td>6.3654</td><td>5.3048</td></tr><tr><th>18</th><td>5.1301</td><td>0.56077</td></tr><tr><th>19</th><td>6.4296</td><td>3.6518</td></tr><tr><th>20</th><td>7.0708</td><td>5.3893</td></tr><tr><th>21</th><td>6.1891</td><td>3.1386</td></tr><tr><th>22</th><td>20.27</td><td>21.767</td></tr><tr><th>23</th><td>5.4901</td><td>4.263</td></tr><tr><th>24</th><td>6.3261</td><td>5.1875</td></tr><tr><th>25</th><td>5.5649</td><td>3.0825</td></tr><tr><th>26</th><td>18.945</td><td>22.638</td></tr><tr><th>27</th><td>12.828</td><td>13.501</td></tr><tr><th>28</th><td>10.957</td><td>7.0467</td></tr><tr><th>29</th><td>13.176</td><td>14.692</td></tr><tr><th>30</th><td>22.203</td><td>24.147</td></tr><tr><th>&vellip;</th><td>&vellip;</td><td>&vellip;</td></tr></tbody></table></div>"
      ],
      "text/latex": [
       "\\begin{tabular}{r|cc}\n",
       "\t& population & profit\\\\\n",
       "\t\\hline\n",
       "\t& Float64 & Float64\\\\\n",
       "\t\\hline\n",
       "\t1 & 6.1101 & 17.592 \\\\\n",
       "\t2 & 5.5277 & 9.1302 \\\\\n",
       "\t3 & 8.5186 & 13.662 \\\\\n",
       "\t4 & 7.0032 & 11.854 \\\\\n",
       "\t5 & 5.8598 & 6.8233 \\\\\n",
       "\t6 & 8.3829 & 11.886 \\\\\n",
       "\t7 & 7.4764 & 4.3483 \\\\\n",
       "\t8 & 8.5781 & 12.0 \\\\\n",
       "\t9 & 6.4862 & 6.5987 \\\\\n",
       "\t10 & 5.0546 & 3.8166 \\\\\n",
       "\t11 & 5.7107 & 3.2522 \\\\\n",
       "\t12 & 14.164 & 15.505 \\\\\n",
       "\t13 & 5.734 & 3.1551 \\\\\n",
       "\t14 & 8.4084 & 7.2258 \\\\\n",
       "\t15 & 5.6407 & 0.71618 \\\\\n",
       "\t16 & 5.3794 & 3.5129 \\\\\n",
       "\t17 & 6.3654 & 5.3048 \\\\\n",
       "\t18 & 5.1301 & 0.56077 \\\\\n",
       "\t19 & 6.4296 & 3.6518 \\\\\n",
       "\t20 & 7.0708 & 5.3893 \\\\\n",
       "\t21 & 6.1891 & 3.1386 \\\\\n",
       "\t22 & 20.27 & 21.767 \\\\\n",
       "\t23 & 5.4901 & 4.263 \\\\\n",
       "\t24 & 6.3261 & 5.1875 \\\\\n",
       "\t25 & 5.5649 & 3.0825 \\\\\n",
       "\t26 & 18.945 & 22.638 \\\\\n",
       "\t27 & 12.828 & 13.501 \\\\\n",
       "\t28 & 10.957 & 7.0467 \\\\\n",
       "\t29 & 13.176 & 14.692 \\\\\n",
       "\t30 & 22.203 & 24.147 \\\\\n",
       "\t$\\dots$ & $\\dots$ & $\\dots$ \\\\\n",
       "\\end{tabular}\n"
      ],
      "text/plain": [
       "\u001b[1m97×2 DataFrame\u001b[0m\n",
       "\u001b[1m Row \u001b[0m│\u001b[1m population \u001b[0m\u001b[1m profit   \u001b[0m\n",
       "\u001b[1m     \u001b[0m│\u001b[90m Float64    \u001b[0m\u001b[90m Float64  \u001b[0m\n",
       "─────┼──────────────────────\n",
       "   1 │     6.1101  17.592\n",
       "   2 │     5.5277   9.1302\n",
       "   3 │     8.5186  13.662\n",
       "   4 │     7.0032  11.854\n",
       "   5 │     5.8598   6.8233\n",
       "   6 │     8.3829  11.886\n",
       "   7 │     7.4764   4.3483\n",
       "   8 │     8.5781  12.0\n",
       "   9 │     6.4862   6.5987\n",
       "  10 │     5.0546   3.8166\n",
       "  11 │     5.7107   3.2522\n",
       "  ⋮  │     ⋮          ⋮\n",
       "  88 │     6.002    0.92695\n",
       "  89 │     5.5204   0.152\n",
       "  90 │     5.0594   2.8214\n",
       "  91 │     5.7077   1.8451\n",
       "  92 │     7.6366   4.2959\n",
       "  93 │     5.8707   7.2029\n",
       "  94 │     5.3054   1.9869\n",
       "  95 │     8.2934   0.14454\n",
       "  96 │    13.394    9.0551\n",
       "  97 │     5.4369   0.61705\n",
       "\u001b[36m             76 rows omitted\u001b[0m"
      ]
     },
     "execution_count": 7,
     "metadata": {},
     "output_type": "execute_result"
    }
   ],
   "source": [
    "C = CSV.read(\"ex1data1.csv\", DataFrame)"
   ]
  },
  {
   "cell_type": "markdown",
   "id": "8ff7d590",
   "metadata": {},
   "source": [
    "The problem is posed as : You are considering different cities for opening a new outlet. The chain already has trucks in various cities and you have data for profits and populations from the cities."
   ]
  },
  {
   "cell_type": "markdown",
   "id": "37e84b2b",
   "metadata": {},
   "source": [
    "**@show** — Prints one or more expressions, and their results, to stdout, and returns the last result."
   ]
  },
  {
   "cell_type": "code",
   "execution_count": 8,
   "id": "liked-packing",
   "metadata": {},
   "outputs": [
    {
     "name": "stdout",
     "output_type": "stream",
     "text": [
      "typeof(C) = DataFrame\n"
     ]
    },
    {
     "data": {
      "text/plain": [
       "97-element Vector{Float64}:\n",
       " 17.592\n",
       "  9.1302\n",
       " 13.662\n",
       " 11.854\n",
       "  6.8233\n",
       " 11.886\n",
       "  4.3483\n",
       " 12.0\n",
       "  6.5987\n",
       "  3.8166\n",
       "  3.2522\n",
       " 15.505\n",
       "  3.1551\n",
       "  ⋮\n",
       "  4.2415\n",
       "  6.7981\n",
       "  0.92695\n",
       "  0.152\n",
       "  2.8214\n",
       "  1.8451\n",
       "  4.2959\n",
       "  7.2029\n",
       "  1.9869\n",
       "  0.14454\n",
       "  9.0551\n",
       "  0.61705"
      ]
     },
     "execution_count": 8,
     "metadata": {},
     "output_type": "execute_result"
    }
   ],
   "source": [
    "@show typeof(C)\n",
    "C[1:10, :]\n",
    "C.profit\n",
    "#C[!,:population]"
   ]
  },
  {
   "cell_type": "markdown",
   "id": "2a562cd0",
   "metadata": {},
   "source": [
    "names function — Return a freshly allocated Vector{String} of names of columns contained in df.\n",
    "\n",
    "https://dataframes.juliadata.org/stable/lib/functions/#Base.names"
   ]
  },
  {
   "cell_type": "code",
   "execution_count": 9,
   "id": "vertical-recycling",
   "metadata": {},
   "outputs": [
    {
     "data": {
      "text/plain": [
       "2-element Vector{String}:\n",
       " \"population\"\n",
       " \"profit\""
      ]
     },
     "execution_count": 9,
     "metadata": {},
     "output_type": "execute_result"
    }
   ],
   "source": [
    "names(C)"
   ]
  },
  {
   "cell_type": "markdown",
   "id": "1a65bb44",
   "metadata": {},
   "source": [
    "Return descriptive statistics for a data frame as a new DataFrame where each row represents a variable and each column a summary statistic."
   ]
  },
  {
   "cell_type": "code",
   "execution_count": 10,
   "id": "alert-verse",
   "metadata": {},
   "outputs": [
    {
     "data": {
      "text/html": [
       "<div class=\"data-frame\"><p>2 rows × 7 columns</p><table class=\"data-frame\"><thead><tr><th></th><th>variable</th><th>mean</th><th>min</th><th>median</th><th>max</th><th>nmissing</th><th>eltype</th></tr><tr><th></th><th title=\"Symbol\">Symbol</th><th title=\"Float64\">Float64</th><th title=\"Float64\">Float64</th><th title=\"Float64\">Float64</th><th title=\"Float64\">Float64</th><th title=\"Int64\">Int64</th><th title=\"DataType\">DataType</th></tr></thead><tbody><tr><th>1</th><td>population</td><td>8.1598</td><td>5.0269</td><td>6.5894</td><td>22.203</td><td>0</td><td>Float64</td></tr><tr><th>2</th><td>profit</td><td>5.83914</td><td>-2.6807</td><td>4.5623</td><td>24.147</td><td>0</td><td>Float64</td></tr></tbody></table></div>"
      ],
      "text/latex": [
       "\\begin{tabular}{r|ccccccc}\n",
       "\t& variable & mean & min & median & max & nmissing & eltype\\\\\n",
       "\t\\hline\n",
       "\t& Symbol & Float64 & Float64 & Float64 & Float64 & Int64 & DataType\\\\\n",
       "\t\\hline\n",
       "\t1 & population & 8.1598 & 5.0269 & 6.5894 & 22.203 & 0 & Float64 \\\\\n",
       "\t2 & profit & 5.83914 & -2.6807 & 4.5623 & 24.147 & 0 & Float64 \\\\\n",
       "\\end{tabular}\n"
      ],
      "text/plain": [
       "\u001b[1m2×7 DataFrame\u001b[0m\n",
       "\u001b[1m Row \u001b[0m│\u001b[1m variable   \u001b[0m\u001b[1m mean    \u001b[0m\u001b[1m min     \u001b[0m\u001b[1m median  \u001b[0m\u001b[1m max     \u001b[0m\u001b[1m nmissing \u001b[0m\u001b[1m eltype   \u001b[0m\n",
       "\u001b[1m     \u001b[0m│\u001b[90m Symbol     \u001b[0m\u001b[90m Float64 \u001b[0m\u001b[90m Float64 \u001b[0m\u001b[90m Float64 \u001b[0m\u001b[90m Float64 \u001b[0m\u001b[90m Int64    \u001b[0m\u001b[90m DataType \u001b[0m\n",
       "─────┼────────────────────────────────────────────────────────────────────\n",
       "   1 │ population  8.1598    5.0269   6.5894   22.203         0  Float64\n",
       "   2 │ profit      5.83914  -2.6807   4.5623   24.147         0  Float64"
      ]
     },
     "execution_count": 10,
     "metadata": {},
     "output_type": "execute_result"
    }
   ],
   "source": [
    "describe(C)"
   ]
  },
  {
   "cell_type": "code",
   "execution_count": 11,
   "id": "statewide-fight",
   "metadata": {},
   "outputs": [
    {
     "data": {
      "text/html": [
       "<p>DataFrameRow (2 columns)</p><div class=\"data-frame\"><table class=\"data-frame\"><thead><tr><th></th><th>population</th><th>profit</th></tr><tr><th></th><th title=\"Float64\">Float64</th><th title=\"Float64\">Float64</th></tr></thead><tbody><tr><th>1</th><td>6.1101</td><td>17.592</td></tr></tbody></table></div>"
      ],
      "text/latex": [
       "\\begin{tabular}{r|cc}\n",
       "\t& population & profit\\\\\n",
       "\t\\hline\n",
       "\t& Float64 & Float64\\\\\n",
       "\t\\hline\n",
       "\t1 & 6.1101 & 17.592 \\\\\n",
       "\\end{tabular}\n"
      ],
      "text/plain": [
       "\u001b[1mDataFrameRow\u001b[0m\n",
       "\u001b[1m Row \u001b[0m│\u001b[1m population \u001b[0m\u001b[1m profit  \u001b[0m\n",
       "\u001b[1m     \u001b[0m│\u001b[90m Float64    \u001b[0m\u001b[90m Float64 \u001b[0m\n",
       "─────┼─────────────────────\n",
       "   1 │     6.1101   17.592"
      ]
     },
     "execution_count": 11,
     "metadata": {},
     "output_type": "execute_result"
    }
   ],
   "source": [
    "C[1,:]"
   ]
  },
  {
   "cell_type": "markdown",
   "id": "d9536d82",
   "metadata": {},
   "source": [
    "Get a data frame with the n first rows of df."
   ]
  },
  {
   "cell_type": "code",
   "execution_count": 13,
   "id": "systematic-white",
   "metadata": {},
   "outputs": [
    {
     "data": {
      "text/html": [
       "<div class=\"data-frame\"><p>10 rows × 2 columns</p><table class=\"data-frame\"><thead><tr><th></th><th>population</th><th>profit</th></tr><tr><th></th><th title=\"Float64\">Float64</th><th title=\"Float64\">Float64</th></tr></thead><tbody><tr><th>1</th><td>6.1101</td><td>17.592</td></tr><tr><th>2</th><td>5.5277</td><td>9.1302</td></tr><tr><th>3</th><td>8.5186</td><td>13.662</td></tr><tr><th>4</th><td>7.0032</td><td>11.854</td></tr><tr><th>5</th><td>5.8598</td><td>6.8233</td></tr><tr><th>6</th><td>8.3829</td><td>11.886</td></tr><tr><th>7</th><td>7.4764</td><td>4.3483</td></tr><tr><th>8</th><td>8.5781</td><td>12.0</td></tr><tr><th>9</th><td>6.4862</td><td>6.5987</td></tr><tr><th>10</th><td>5.0546</td><td>3.8166</td></tr></tbody></table></div>"
      ],
      "text/latex": [
       "\\begin{tabular}{r|cc}\n",
       "\t& population & profit\\\\\n",
       "\t\\hline\n",
       "\t& Float64 & Float64\\\\\n",
       "\t\\hline\n",
       "\t1 & 6.1101 & 17.592 \\\\\n",
       "\t2 & 5.5277 & 9.1302 \\\\\n",
       "\t3 & 8.5186 & 13.662 \\\\\n",
       "\t4 & 7.0032 & 11.854 \\\\\n",
       "\t5 & 5.8598 & 6.8233 \\\\\n",
       "\t6 & 8.3829 & 11.886 \\\\\n",
       "\t7 & 7.4764 & 4.3483 \\\\\n",
       "\t8 & 8.5781 & 12.0 \\\\\n",
       "\t9 & 6.4862 & 6.5987 \\\\\n",
       "\t10 & 5.0546 & 3.8166 \\\\\n",
       "\\end{tabular}\n"
      ],
      "text/plain": [
       "\u001b[1m10×2 DataFrame\u001b[0m\n",
       "\u001b[1m Row \u001b[0m│\u001b[1m population \u001b[0m\u001b[1m profit  \u001b[0m\n",
       "\u001b[1m     \u001b[0m│\u001b[90m Float64    \u001b[0m\u001b[90m Float64 \u001b[0m\n",
       "─────┼─────────────────────\n",
       "   1 │     6.1101  17.592\n",
       "   2 │     5.5277   9.1302\n",
       "   3 │     8.5186  13.662\n",
       "   4 │     7.0032  11.854\n",
       "   5 │     5.8598   6.8233\n",
       "   6 │     8.3829  11.886\n",
       "   7 │     7.4764   4.3483\n",
       "   8 │     8.5781  12.0\n",
       "   9 │     6.4862   6.5987\n",
       "  10 │     5.0546   3.8166"
      ]
     },
     "execution_count": 13,
     "metadata": {},
     "output_type": "execute_result"
    }
   ],
   "source": [
    "first(C, 10)"
   ]
  },
  {
   "cell_type": "markdown",
   "id": "425675c9",
   "metadata": {},
   "source": [
    "Get a data frame with the n last rows of df."
   ]
  },
  {
   "cell_type": "code",
   "execution_count": 14,
   "id": "republican-journalist",
   "metadata": {
    "scrolled": true
   },
   "outputs": [
    {
     "data": {
      "text/html": [
       "<div class=\"data-frame\"><p>3 rows × 2 columns</p><table class=\"data-frame\"><thead><tr><th></th><th>population</th><th>profit</th></tr><tr><th></th><th title=\"Float64\">Float64</th><th title=\"Float64\">Float64</th></tr></thead><tbody><tr><th>1</th><td>8.2934</td><td>0.14454</td></tr><tr><th>2</th><td>13.394</td><td>9.0551</td></tr><tr><th>3</th><td>5.4369</td><td>0.61705</td></tr></tbody></table></div>"
      ],
      "text/latex": [
       "\\begin{tabular}{r|cc}\n",
       "\t& population & profit\\\\\n",
       "\t\\hline\n",
       "\t& Float64 & Float64\\\\\n",
       "\t\\hline\n",
       "\t1 & 8.2934 & 0.14454 \\\\\n",
       "\t2 & 13.394 & 9.0551 \\\\\n",
       "\t3 & 5.4369 & 0.61705 \\\\\n",
       "\\end{tabular}\n"
      ],
      "text/plain": [
       "\u001b[1m3×2 DataFrame\u001b[0m\n",
       "\u001b[1m Row \u001b[0m│\u001b[1m population \u001b[0m\u001b[1m profit  \u001b[0m\n",
       "\u001b[1m     \u001b[0m│\u001b[90m Float64    \u001b[0m\u001b[90m Float64 \u001b[0m\n",
       "─────┼─────────────────────\n",
       "   1 │     8.2934  0.14454\n",
       "   2 │    13.394   9.0551\n",
       "   3 │     5.4369  0.61705"
      ]
     },
     "execution_count": 14,
     "metadata": {},
     "output_type": "execute_result"
    }
   ],
   "source": [
    "last(C, 3)"
   ]
  },
  {
   "cell_type": "code",
   "execution_count": 15,
   "id": "artificial-metallic",
   "metadata": {},
   "outputs": [
    {
     "data": {
      "text/plain": [
       "2-element Vector{String}:\n",
       " \"population\"\n",
       " \"profit\""
      ]
     },
     "execution_count": 15,
     "metadata": {},
     "output_type": "execute_result"
    }
   ],
   "source": [
    "names(C)"
   ]
  },
  {
   "cell_type": "markdown",
   "id": "666bf199",
   "metadata": {},
   "source": [
    "Return a tuple containing the number of rows and columns of df. Optionally a dimension dim can be specified, where 1 corresponds to rows and 2 corresponds to columns."
   ]
  },
  {
   "cell_type": "code",
   "execution_count": 20,
   "id": "engaging-butter",
   "metadata": {
    "scrolled": true
   },
   "outputs": [
    {
     "data": {
      "text/plain": [
       "(97, 2)"
      ]
     },
     "execution_count": 20,
     "metadata": {},
     "output_type": "execute_result"
    }
   ],
   "source": [
    "size(C)"
   ]
  },
  {
   "cell_type": "markdown",
   "id": "cd745b3e",
   "metadata": {},
   "source": [
    "### Broadcasting Operators and Functions\n",
    "\n",
    "Broadcasting is also known as vectorization and we use the “dot” operator .\n",
    "\n",
    "It also works with functions. "
   ]
  },
  {
   "cell_type": "code",
   "execution_count": 22,
   "id": "0e0e5c63",
   "metadata": {},
   "outputs": [
    {
     "data": {
      "text/plain": [
       "3-element Vector{Int64}:\n",
       "  6\n",
       " 11\n",
       " 21"
      ]
     },
     "execution_count": 22,
     "metadata": {},
     "output_type": "execute_result"
    }
   ],
   "source": [
    "[5, 10, 20] .+ 1"
   ]
  },
  {
   "cell_type": "code",
   "execution_count": 24,
   "id": "b3d36c49",
   "metadata": {},
   "outputs": [
    {
     "data": {
      "text/plain": [
       "3-element Vector{Float64}:\n",
       " 0.6931471805599453\n",
       " 1.3862943611198906\n",
       " 1.791759469228055"
      ]
     },
     "execution_count": 24,
     "metadata": {},
     "output_type": "execute_result"
    }
   ],
   "source": [
    "log.([2, 4, 6])"
   ]
  },
  {
   "cell_type": "code",
   "execution_count": 19,
   "id": "dimensional-willow",
   "metadata": {},
   "outputs": [
    {
     "data": {
      "text/plain": [
       "2-element Vector{DataType}:\n",
       " Float64\n",
       " Float64"
      ]
     },
     "execution_count": 19,
     "metadata": {},
     "output_type": "execute_result"
    }
   ],
   "source": [
    "eltype.(eachcol(C))"
   ]
  },
  {
   "cell_type": "code",
   "execution_count": 26,
   "id": "light-great",
   "metadata": {},
   "outputs": [
    {
     "data": {
      "text/plain": [
       "97-element Vector{Float64}:\n",
       "  6.1101\n",
       "  5.5277\n",
       "  8.5186\n",
       "  7.0032\n",
       "  5.8598\n",
       "  8.3829\n",
       "  7.4764\n",
       "  8.5781\n",
       "  6.4862\n",
       "  5.0546\n",
       "  5.7107\n",
       " 14.164\n",
       "  5.734\n",
       "  ⋮\n",
       "  8.5172\n",
       "  9.1802\n",
       "  6.002\n",
       "  5.5204\n",
       "  5.0594\n",
       "  5.7077\n",
       "  7.6366\n",
       "  5.8707\n",
       "  5.3054\n",
       "  8.2934\n",
       " 13.394\n",
       "  5.4369"
      ]
     },
     "execution_count": 26,
     "metadata": {},
     "output_type": "execute_result"
    }
   ],
   "source": [
    "#C.population\n",
    "#C[!, \"population\"] - ! in indexing is specific to DataFrames, and signals that you want a reference to the underlying vector storing the data, rather than a copy of it.\n",
    "C[:, 1]"
   ]
  },
  {
   "cell_type": "code",
   "execution_count": 27,
   "id": "permanent-collective",
   "metadata": {},
   "outputs": [
    {
     "data": {
      "text/html": [
       "<div class=\"data-frame\"><p>1 rows × 2 columns</p><table class=\"data-frame\"><thead><tr><th></th><th>population</th><th>profit</th></tr><tr><th></th><th title=\"Float64\">Float64</th><th title=\"Float64\">Float64</th></tr></thead><tbody><tr><th>1</th><td>8.5781</td><td>12.0</td></tr></tbody></table></div>"
      ],
      "text/latex": [
       "\\begin{tabular}{r|cc}\n",
       "\t& population & profit\\\\\n",
       "\t\\hline\n",
       "\t& Float64 & Float64\\\\\n",
       "\t\\hline\n",
       "\t1 & 8.5781 & 12.0 \\\\\n",
       "\\end{tabular}\n"
      ],
      "text/plain": [
       "\u001b[1m1×2 DataFrame\u001b[0m\n",
       "\u001b[1m Row \u001b[0m│\u001b[1m population \u001b[0m\u001b[1m profit  \u001b[0m\n",
       "\u001b[1m     \u001b[0m│\u001b[90m Float64    \u001b[0m\u001b[90m Float64 \u001b[0m\n",
       "─────┼─────────────────────\n",
       "   1 │     8.5781     12.0"
      ]
     },
     "execution_count": 27,
     "metadata": {},
     "output_type": "execute_result"
    }
   ],
   "source": [
    "loc=C.population .== 8.5781\n",
    "C[loc, :]\n",
    "#typeof(C[loc, :])\n",
    "#C[loc, :].profit"
   ]
  },
  {
   "cell_type": "markdown",
   "id": "irish-virgin",
   "metadata": {},
   "source": [
    "Another way of achieving the same is to use a higher-order function such as **filter**. \n",
    "\n",
    "The filter function takes 2 arguments:\n",
    "A function that takes an element of the array-like object as input and returns a boolean.\n",
    "An array-like object (in our case a DataFrame) that we can iterate over.\n",
    "For each row, filter will apply the function under 1. and when that function returns true we keep the row, otherwise, we throw it away:\n",
    "\n",
    "The notation df -> df.population .== 8.5781 is a lambda (nameless) function"
   ]
  },
  {
   "cell_type": "code",
   "execution_count": 28,
   "id": "macro-microphone",
   "metadata": {},
   "outputs": [
    {
     "data": {
      "text/html": [
       "<div class=\"data-frame\"><p>1 rows × 2 columns</p><table class=\"data-frame\"><thead><tr><th></th><th>population</th><th>profit</th></tr><tr><th></th><th title=\"Float64\">Float64</th><th title=\"Float64\">Float64</th></tr></thead><tbody><tr><th>1</th><td>8.5781</td><td>12.0</td></tr></tbody></table></div>"
      ],
      "text/latex": [
       "\\begin{tabular}{r|cc}\n",
       "\t& population & profit\\\\\n",
       "\t\\hline\n",
       "\t& Float64 & Float64\\\\\n",
       "\t\\hline\n",
       "\t1 & 8.5781 & 12.0 \\\\\n",
       "\\end{tabular}\n"
      ],
      "text/plain": [
       "\u001b[1m1×2 DataFrame\u001b[0m\n",
       "\u001b[1m Row \u001b[0m│\u001b[1m population \u001b[0m\u001b[1m profit  \u001b[0m\n",
       "\u001b[1m     \u001b[0m│\u001b[90m Float64    \u001b[0m\u001b[90m Float64 \u001b[0m\n",
       "─────┼─────────────────────\n",
       "   1 │     8.5781     12.0"
      ]
     },
     "execution_count": 28,
     "metadata": {},
     "output_type": "execute_result"
    }
   ],
   "source": [
    "# typeof(filter(df -> df.population .== 8.5781, C))\n",
    "filter(df -> df.population .== 8.5781, C)"
   ]
  },
  {
   "cell_type": "code",
   "execution_count": 29,
   "id": "communist-nickname",
   "metadata": {},
   "outputs": [
    {
     "data": {
      "text/plain": [
       "1-element Vector{Float64}:\n",
       " 12.0"
      ]
     },
     "execution_count": 29,
     "metadata": {},
     "output_type": "execute_result"
    }
   ],
   "source": [
    "filter(df -> df.population .== 8.5781, C).profit"
   ]
  },
  {
   "cell_type": "markdown",
   "id": "881d1419",
   "metadata": {},
   "source": [
    "**Plots.jl** is a plotting API and toolset in Julia\n",
    "\n",
    "https://github.com/JuliaPlots\n",
    "\n",
    "We want to use the data to help us select which city to expand to next.\n",
    "\n",
    "A good step is to visualize the data. We create a scatter plot of the data using Plots.jl package"
   ]
  },
  {
   "cell_type": "code",
   "execution_count": 30,
   "id": "proud-pioneer",
   "metadata": {},
   "outputs": [
    {
     "data": {
      "image/svg+xml": [
       "<?xml version=\"1.0\" encoding=\"utf-8\"?>\n",
       "<svg xmlns=\"http://www.w3.org/2000/svg\" xmlns:xlink=\"http://www.w3.org/1999/xlink\" width=\"600\" height=\"400\" viewBox=\"0 0 2400 1600\">\n",
       "<defs>\n",
       "  <clipPath id=\"clip180\">\n",
       "    <rect x=\"0\" y=\"0\" width=\"2400\" height=\"1600\"/>\n",
       "  </clipPath>\n",
       "</defs>\n",
       "<path clip-path=\"url(#clip180)\" d=\"\n",
       "M0 1600 L2400 1600 L2400 0 L0 0  Z\n",
       "  \" fill=\"#ffffff\" fill-rule=\"evenodd\" fill-opacity=\"1\"/>\n",
       "<defs>\n",
       "  <clipPath id=\"clip181\">\n",
       "    <rect x=\"480\" y=\"0\" width=\"1681\" height=\"1600\"/>\n",
       "  </clipPath>\n",
       "</defs>\n",
       "<path clip-path=\"url(#clip180)\" d=\"\n",
       "M203.964 1423.18 L2352.76 1423.18 L2352.76 123.472 L203.964 123.472  Z\n",
       "  \" fill=\"#ffffff\" fill-rule=\"evenodd\" fill-opacity=\"1\"/>\n",
       "<defs>\n",
       "  <clipPath id=\"clip182\">\n",
       "    <rect x=\"203\" y=\"123\" width=\"2150\" height=\"1301\"/>\n",
       "  </clipPath>\n",
       "</defs>\n",
       "<polyline clip-path=\"url(#clip182)\" style=\"stroke:#000000; stroke-linecap:butt; stroke-linejoin:round; stroke-width:2; stroke-opacity:0.1; fill:none\" points=\"\n",
       "  261.604,1423.18 261.604,123.472 \n",
       "  \"/>\n",
       "<polyline clip-path=\"url(#clip182)\" style=\"stroke:#000000; stroke-linecap:butt; stroke-linejoin:round; stroke-width:2; stroke-opacity:0.1; fill:none\" points=\"\n",
       "  851.715,1423.18 851.715,123.472 \n",
       "  \"/>\n",
       "<polyline clip-path=\"url(#clip182)\" style=\"stroke:#000000; stroke-linecap:butt; stroke-linejoin:round; stroke-width:2; stroke-opacity:0.1; fill:none\" points=\"\n",
       "  1441.83,1423.18 1441.83,123.472 \n",
       "  \"/>\n",
       "<polyline clip-path=\"url(#clip182)\" style=\"stroke:#000000; stroke-linecap:butt; stroke-linejoin:round; stroke-width:2; stroke-opacity:0.1; fill:none\" points=\"\n",
       "  2031.94,1423.18 2031.94,123.472 \n",
       "  \"/>\n",
       "<polyline clip-path=\"url(#clip180)\" style=\"stroke:#000000; stroke-linecap:butt; stroke-linejoin:round; stroke-width:4; stroke-opacity:1; fill:none\" points=\"\n",
       "  203.964,1423.18 2352.76,1423.18 \n",
       "  \"/>\n",
       "<polyline clip-path=\"url(#clip180)\" style=\"stroke:#000000; stroke-linecap:butt; stroke-linejoin:round; stroke-width:4; stroke-opacity:1; fill:none\" points=\"\n",
       "  261.604,1423.18 261.604,1404.28 \n",
       "  \"/>\n",
       "<polyline clip-path=\"url(#clip180)\" style=\"stroke:#000000; stroke-linecap:butt; stroke-linejoin:round; stroke-width:4; stroke-opacity:1; fill:none\" points=\"\n",
       "  851.715,1423.18 851.715,1404.28 \n",
       "  \"/>\n",
       "<polyline clip-path=\"url(#clip180)\" style=\"stroke:#000000; stroke-linecap:butt; stroke-linejoin:round; stroke-width:4; stroke-opacity:1; fill:none\" points=\"\n",
       "  1441.83,1423.18 1441.83,1404.28 \n",
       "  \"/>\n",
       "<polyline clip-path=\"url(#clip180)\" style=\"stroke:#000000; stroke-linecap:butt; stroke-linejoin:round; stroke-width:4; stroke-opacity:1; fill:none\" points=\"\n",
       "  2031.94,1423.18 2031.94,1404.28 \n",
       "  \"/>\n",
       "<path clip-path=\"url(#clip180)\" d=\"M251.881 1451.02 L270.238 1451.02 L270.238 1454.96 L256.164 1454.96 L256.164 1463.43 Q257.182 1463.08 258.201 1462.92 Q259.219 1462.73 260.238 1462.73 Q266.025 1462.73 269.405 1465.9 Q272.784 1469.08 272.784 1474.49 Q272.784 1480.07 269.312 1483.17 Q265.84 1486.25 259.52 1486.25 Q257.344 1486.25 255.076 1485.88 Q252.831 1485.51 250.423 1484.77 L250.423 1480.07 Q252.506 1481.2 254.729 1481.76 Q256.951 1482.32 259.428 1482.32 Q263.432 1482.32 265.77 1480.21 Q268.108 1478.1 268.108 1474.49 Q268.108 1470.88 265.77 1468.77 Q263.432 1466.67 259.428 1466.67 Q257.553 1466.67 255.678 1467.08 Q253.826 1467.5 251.881 1468.38 L251.881 1451.02 Z\" fill=\"#000000\" fill-rule=\"evenodd\" fill-opacity=\"1\" /><path clip-path=\"url(#clip180)\" d=\"M826.403 1481.64 L834.042 1481.64 L834.042 1455.28 L825.731 1456.95 L825.731 1452.69 L833.995 1451.02 L838.671 1451.02 L838.671 1481.64 L846.31 1481.64 L846.31 1485.58 L826.403 1485.58 L826.403 1481.64 Z\" fill=\"#000000\" fill-rule=\"evenodd\" fill-opacity=\"1\" /><path clip-path=\"url(#clip180)\" d=\"M865.754 1454.1 Q862.143 1454.1 860.315 1457.66 Q858.509 1461.2 858.509 1468.33 Q858.509 1475.44 860.315 1479.01 Q862.143 1482.55 865.754 1482.55 Q869.389 1482.55 871.194 1479.01 Q873.023 1475.44 873.023 1468.33 Q873.023 1461.2 871.194 1457.66 Q869.389 1454.1 865.754 1454.1 M865.754 1450.39 Q871.565 1450.39 874.62 1455 Q877.699 1459.58 877.699 1468.33 Q877.699 1477.06 874.62 1481.67 Q871.565 1486.25 865.754 1486.25 Q859.944 1486.25 856.866 1481.67 Q853.81 1477.06 853.81 1468.33 Q853.81 1459.58 856.866 1455 Q859.944 1450.39 865.754 1450.39 Z\" fill=\"#000000\" fill-rule=\"evenodd\" fill-opacity=\"1\" /><path clip-path=\"url(#clip180)\" d=\"M1417.01 1481.64 L1424.65 1481.64 L1424.65 1455.28 L1416.34 1456.95 L1416.34 1452.69 L1424.6 1451.02 L1429.28 1451.02 L1429.28 1481.64 L1436.92 1481.64 L1436.92 1485.58 L1417.01 1485.58 L1417.01 1481.64 Z\" fill=\"#000000\" fill-rule=\"evenodd\" fill-opacity=\"1\" /><path clip-path=\"url(#clip180)\" d=\"M1446.41 1451.02 L1464.77 1451.02 L1464.77 1454.96 L1450.69 1454.96 L1450.69 1463.43 Q1451.71 1463.08 1452.73 1462.92 Q1453.75 1462.73 1454.77 1462.73 Q1460.55 1462.73 1463.93 1465.9 Q1467.31 1469.08 1467.31 1474.49 Q1467.31 1480.07 1463.84 1483.17 Q1460.37 1486.25 1454.05 1486.25 Q1451.87 1486.25 1449.6 1485.88 Q1447.36 1485.51 1444.95 1484.77 L1444.95 1480.07 Q1447.03 1481.2 1449.26 1481.76 Q1451.48 1482.32 1453.96 1482.32 Q1457.96 1482.32 1460.3 1480.21 Q1462.64 1478.1 1462.64 1474.49 Q1462.64 1470.88 1460.3 1468.77 Q1457.96 1466.67 1453.96 1466.67 Q1452.08 1466.67 1450.21 1467.08 Q1448.35 1467.5 1446.41 1468.38 L1446.41 1451.02 Z\" fill=\"#000000\" fill-rule=\"evenodd\" fill-opacity=\"1\" /><path clip-path=\"url(#clip180)\" d=\"M2010.71 1481.64 L2027.03 1481.64 L2027.03 1485.58 L2005.09 1485.58 L2005.09 1481.64 Q2007.75 1478.89 2012.33 1474.26 Q2016.94 1469.61 2018.12 1468.27 Q2020.36 1465.74 2021.24 1464.01 Q2022.15 1462.25 2022.15 1460.56 Q2022.15 1457.8 2020.2 1456.07 Q2018.28 1454.33 2015.18 1454.33 Q2012.98 1454.33 2010.53 1455.09 Q2008.1 1455.86 2005.32 1457.41 L2005.32 1452.69 Q2008.14 1451.55 2010.6 1450.97 Q2013.05 1450.39 2015.09 1450.39 Q2020.46 1450.39 2023.65 1453.08 Q2026.85 1455.77 2026.85 1460.26 Q2026.85 1462.39 2026.04 1464.31 Q2025.25 1466.2 2023.14 1468.8 Q2022.56 1469.47 2019.46 1472.69 Q2016.36 1475.88 2010.71 1481.64 Z\" fill=\"#000000\" fill-rule=\"evenodd\" fill-opacity=\"1\" /><path clip-path=\"url(#clip180)\" d=\"M2046.85 1454.1 Q2043.23 1454.1 2041.41 1457.66 Q2039.6 1461.2 2039.6 1468.33 Q2039.6 1475.44 2041.41 1479.01 Q2043.23 1482.55 2046.85 1482.55 Q2050.48 1482.55 2052.29 1479.01 Q2054.11 1475.44 2054.11 1468.33 Q2054.11 1461.2 2052.29 1457.66 Q2050.48 1454.1 2046.85 1454.1 M2046.85 1450.39 Q2052.66 1450.39 2055.71 1455 Q2058.79 1459.58 2058.79 1468.33 Q2058.79 1477.06 2055.71 1481.67 Q2052.66 1486.25 2046.85 1486.25 Q2041.04 1486.25 2037.96 1481.67 Q2034.9 1477.06 2034.9 1468.33 Q2034.9 1459.58 2037.96 1455 Q2041.04 1450.39 2046.85 1450.39 Z\" fill=\"#000000\" fill-rule=\"evenodd\" fill-opacity=\"1\" /><path clip-path=\"url(#clip180)\" d=\"M820.872 1525.81 L820.872 1543.66 L828.957 1543.66 Q833.445 1543.66 835.895 1541.34 Q838.346 1539.02 838.346 1534.72 Q838.346 1530.45 835.895 1528.13 Q833.445 1525.81 828.957 1525.81 L820.872 1525.81 M814.443 1520.52 L828.957 1520.52 Q836.946 1520.52 841.02 1524.15 Q845.126 1527.75 845.126 1534.72 Q845.126 1541.75 841.02 1545.35 Q836.946 1548.95 828.957 1548.95 L820.872 1548.95 L820.872 1568.04 L814.443 1568.04 L814.443 1520.52 Z\" fill=\"#000000\" fill-rule=\"evenodd\" fill-opacity=\"1\" /><path clip-path=\"url(#clip180)\" d=\"M864.987 1536.5 Q860.276 1536.5 857.539 1540.19 Q854.802 1543.85 854.802 1550.25 Q854.802 1556.65 857.507 1560.34 Q860.244 1564 864.987 1564 Q869.665 1564 872.403 1560.31 Q875.14 1556.62 875.14 1550.25 Q875.14 1543.92 872.403 1540.23 Q869.665 1536.5 864.987 1536.5 M864.987 1531.54 Q872.626 1531.54 876.986 1536.5 Q881.347 1541.47 881.347 1550.25 Q881.347 1559 876.986 1564 Q872.626 1568.97 864.987 1568.97 Q857.316 1568.97 852.955 1564 Q848.627 1559 848.627 1550.25 Q848.627 1541.47 852.955 1536.5 Q857.316 1531.54 864.987 1531.54 Z\" fill=\"#000000\" fill-rule=\"evenodd\" fill-opacity=\"1\" /><path clip-path=\"url(#clip180)\" d=\"M896.72 1562.7 L896.72 1581.6 L890.831 1581.6 L890.831 1532.4 L896.72 1532.4 L896.72 1537.81 Q898.566 1534.62 901.367 1533.1 Q904.199 1531.54 908.114 1531.54 Q914.607 1531.54 918.65 1536.69 Q922.724 1541.85 922.724 1550.25 Q922.724 1558.65 918.65 1563.81 Q914.607 1568.97 908.114 1568.97 Q904.199 1568.97 901.367 1567.44 Q898.566 1565.88 896.72 1562.7 M916.644 1550.25 Q916.644 1543.79 913.971 1540.13 Q911.329 1536.44 906.682 1536.44 Q902.035 1536.44 899.361 1540.13 Q896.72 1543.79 896.72 1550.25 Q896.72 1556.71 899.361 1560.4 Q902.035 1564.07 906.682 1564.07 Q911.329 1564.07 913.971 1560.4 Q916.644 1556.71 916.644 1550.25 Z\" fill=\"#000000\" fill-rule=\"evenodd\" fill-opacity=\"1\" /><path clip-path=\"url(#clip180)\" d=\"M931.827 1553.98 L931.827 1532.4 L937.683 1532.4 L937.683 1553.75 Q937.683 1558.81 939.656 1561.36 Q941.63 1563.87 945.577 1563.87 Q950.319 1563.87 953.056 1560.85 Q955.825 1557.83 955.825 1552.61 L955.825 1532.4 L961.682 1532.4 L961.682 1568.04 L955.825 1568.04 L955.825 1562.57 Q953.693 1565.82 950.86 1567.41 Q948.059 1568.97 944.335 1568.97 Q938.192 1568.97 935.009 1565.15 Q931.827 1561.33 931.827 1553.98 M946.563 1531.54 L946.563 1531.54 Z\" fill=\"#000000\" fill-rule=\"evenodd\" fill-opacity=\"1\" /><path clip-path=\"url(#clip180)\" d=\"M973.745 1518.52 L979.601 1518.52 L979.601 1568.04 L973.745 1568.04 L973.745 1518.52 Z\" fill=\"#000000\" fill-rule=\"evenodd\" fill-opacity=\"1\" /><path clip-path=\"url(#clip180)\" d=\"M1008.06 1550.12 Q1000.96 1550.12 998.221 1551.75 Q995.484 1553.37 995.484 1557.29 Q995.484 1560.4 997.521 1562.25 Q999.59 1564.07 1003.12 1564.07 Q1007.99 1564.07 1010.92 1560.63 Q1013.88 1557.16 1013.88 1551.43 L1013.88 1550.12 L1008.06 1550.12 M1019.74 1547.71 L1019.74 1568.04 L1013.88 1568.04 L1013.88 1562.63 Q1011.88 1565.88 1008.88 1567.44 Q1005.89 1568.97 1001.56 1568.97 Q996.088 1568.97 992.842 1565.91 Q989.627 1562.82 989.627 1557.67 Q989.627 1551.65 993.638 1548.6 Q997.68 1545.54 1005.67 1545.54 L1013.88 1545.54 L1013.88 1544.97 Q1013.88 1540.93 1011.21 1538.73 Q1008.57 1536.5 1003.76 1536.5 Q1000.7 1536.5 997.807 1537.23 Q994.911 1537.97 992.237 1539.43 L992.237 1534.02 Q995.452 1532.78 998.476 1532.17 Q1001.5 1531.54 1004.36 1531.54 Q1012.1 1531.54 1015.92 1535.55 Q1019.74 1539.56 1019.74 1547.71 Z\" fill=\"#000000\" fill-rule=\"evenodd\" fill-opacity=\"1\" /><path clip-path=\"url(#clip180)\" d=\"M1037.59 1522.27 L1037.59 1532.4 L1049.66 1532.4 L1049.66 1536.95 L1037.59 1536.95 L1037.59 1556.3 Q1037.59 1560.66 1038.77 1561.9 Q1039.98 1563.14 1043.64 1563.14 L1049.66 1563.14 L1049.66 1568.04 L1043.64 1568.04 Q1036.86 1568.04 1034.28 1565.53 Q1031.7 1562.98 1031.7 1556.3 L1031.7 1536.95 L1027.41 1536.95 L1027.41 1532.4 L1031.7 1532.4 L1031.7 1522.27 L1037.59 1522.27 Z\" fill=\"#000000\" fill-rule=\"evenodd\" fill-opacity=\"1\" /><path clip-path=\"url(#clip180)\" d=\"M1057.36 1532.4 L1063.21 1532.4 L1063.21 1568.04 L1057.36 1568.04 L1057.36 1532.4 M1057.36 1518.52 L1063.21 1518.52 L1063.21 1525.93 L1057.36 1525.93 L1057.36 1518.52 Z\" fill=\"#000000\" fill-rule=\"evenodd\" fill-opacity=\"1\" /><path clip-path=\"url(#clip180)\" d=\"M1089.28 1536.5 Q1084.57 1536.5 1081.83 1540.19 Q1079.1 1543.85 1079.1 1550.25 Q1079.1 1556.65 1081.8 1560.34 Q1084.54 1564 1089.28 1564 Q1093.96 1564 1096.7 1560.31 Q1099.44 1556.62 1099.44 1550.25 Q1099.44 1543.92 1096.7 1540.23 Q1093.96 1536.5 1089.28 1536.5 M1089.28 1531.54 Q1096.92 1531.54 1101.28 1536.5 Q1105.64 1541.47 1105.64 1550.25 Q1105.64 1559 1101.28 1564 Q1096.92 1568.97 1089.28 1568.97 Q1081.61 1568.97 1077.25 1564 Q1072.92 1559 1072.92 1550.25 Q1072.92 1541.47 1077.25 1536.5 Q1081.61 1531.54 1089.28 1531.54 Z\" fill=\"#000000\" fill-rule=\"evenodd\" fill-opacity=\"1\" /><path clip-path=\"url(#clip180)\" d=\"M1144.98 1546.53 L1144.98 1568.04 L1139.13 1568.04 L1139.13 1546.72 Q1139.13 1541.66 1137.15 1539.14 Q1135.18 1536.63 1131.23 1536.63 Q1126.49 1536.63 1123.75 1539.65 Q1121.02 1542.68 1121.02 1547.9 L1121.02 1568.04 L1115.13 1568.04 L1115.13 1532.4 L1121.02 1532.4 L1121.02 1537.93 Q1123.12 1534.72 1125.95 1533.13 Q1128.81 1531.54 1132.54 1531.54 Q1138.68 1531.54 1141.83 1535.36 Q1144.98 1539.14 1144.98 1546.53 Z\" fill=\"#000000\" fill-rule=\"evenodd\" fill-opacity=\"1\" /><path clip-path=\"url(#clip180)\" d=\"M1191.2 1536.5 Q1186.49 1536.5 1183.75 1540.19 Q1181.01 1543.85 1181.01 1550.25 Q1181.01 1556.65 1183.72 1560.34 Q1186.45 1564 1191.2 1564 Q1195.88 1564 1198.61 1560.31 Q1201.35 1556.62 1201.35 1550.25 Q1201.35 1543.92 1198.61 1540.23 Q1195.88 1536.5 1191.2 1536.5 M1191.2 1531.54 Q1198.84 1531.54 1203.2 1536.5 Q1207.56 1541.47 1207.56 1550.25 Q1207.56 1559 1203.2 1564 Q1198.84 1568.97 1191.2 1568.97 Q1183.53 1568.97 1179.17 1564 Q1174.84 1559 1174.84 1550.25 Q1174.84 1541.47 1179.17 1536.5 Q1183.53 1531.54 1191.2 1531.54 Z\" fill=\"#000000\" fill-rule=\"evenodd\" fill-opacity=\"1\" /><path clip-path=\"url(#clip180)\" d=\"M1235.31 1518.52 L1235.31 1523.39 L1229.71 1523.39 Q1226.56 1523.39 1225.32 1524.66 Q1224.11 1525.93 1224.11 1529.24 L1224.11 1532.4 L1233.75 1532.4 L1233.75 1536.95 L1224.11 1536.95 L1224.11 1568.04 L1218.22 1568.04 L1218.22 1536.95 L1212.62 1536.95 L1212.62 1532.4 L1218.22 1532.4 L1218.22 1529.91 Q1218.22 1523.96 1220.99 1521.26 Q1223.76 1518.52 1229.77 1518.52 L1235.31 1518.52 Z\" fill=\"#000000\" fill-rule=\"evenodd\" fill-opacity=\"1\" /><path clip-path=\"url(#clip180)\" d=\"M1296.77 1524.18 L1296.77 1530.96 Q1293.53 1527.94 1289.83 1526.44 Q1286.17 1524.95 1282.04 1524.95 Q1273.89 1524.95 1269.56 1529.95 Q1265.23 1534.91 1265.23 1544.33 Q1265.23 1553.72 1269.56 1558.72 Q1273.89 1563.68 1282.04 1563.68 Q1286.17 1563.68 1289.83 1562.19 Q1293.53 1560.69 1296.77 1557.67 L1296.77 1564.38 Q1293.4 1566.68 1289.61 1567.82 Q1285.86 1568.97 1281.65 1568.97 Q1270.86 1568.97 1264.66 1562.38 Q1258.45 1555.76 1258.45 1544.33 Q1258.45 1532.87 1264.66 1526.28 Q1270.86 1519.66 1281.65 1519.66 Q1285.92 1519.66 1289.67 1520.81 Q1293.46 1521.92 1296.77 1524.18 Z\" fill=\"#000000\" fill-rule=\"evenodd\" fill-opacity=\"1\" /><path clip-path=\"url(#clip180)\" d=\"M1306.45 1532.4 L1312.3 1532.4 L1312.3 1568.04 L1306.45 1568.04 L1306.45 1532.4 M1306.45 1518.52 L1312.3 1518.52 L1312.3 1525.93 L1306.45 1525.93 L1306.45 1518.52 Z\" fill=\"#000000\" fill-rule=\"evenodd\" fill-opacity=\"1\" /><path clip-path=\"url(#clip180)\" d=\"M1330.35 1522.27 L1330.35 1532.4 L1342.41 1532.4 L1342.41 1536.95 L1330.35 1536.95 L1330.35 1556.3 Q1330.35 1560.66 1331.53 1561.9 Q1332.74 1563.14 1336.4 1563.14 L1342.41 1563.14 L1342.41 1568.04 L1336.4 1568.04 Q1329.62 1568.04 1327.04 1565.53 Q1324.46 1562.98 1324.46 1556.3 L1324.46 1536.95 L1320.17 1536.95 L1320.17 1532.4 L1324.46 1532.4 L1324.46 1522.27 L1330.35 1522.27 Z\" fill=\"#000000\" fill-rule=\"evenodd\" fill-opacity=\"1\" /><path clip-path=\"url(#clip180)\" d=\"M1364.95 1571.35 Q1362.47 1577.72 1360.11 1579.66 Q1357.76 1581.6 1353.81 1581.6 L1349.13 1581.6 L1349.13 1576.7 L1352.57 1576.7 Q1354.99 1576.7 1356.32 1575.56 Q1357.66 1574.41 1359.28 1570.14 L1360.33 1567.47 L1345.92 1532.4 L1352.12 1532.4 L1363.26 1560.28 L1374.4 1532.4 L1380.61 1532.4 L1364.95 1571.35 Z\" fill=\"#000000\" fill-rule=\"evenodd\" fill-opacity=\"1\" /><path clip-path=\"url(#clip180)\" d=\"M1409.41 1532.4 L1415.27 1532.4 L1415.27 1568.04 L1409.41 1568.04 L1409.41 1532.4 M1409.41 1518.52 L1415.27 1518.52 L1415.27 1525.93 L1409.41 1525.93 L1409.41 1518.52 Z\" fill=\"#000000\" fill-rule=\"evenodd\" fill-opacity=\"1\" /><path clip-path=\"url(#clip180)\" d=\"M1457.16 1546.53 L1457.16 1568.04 L1451.3 1568.04 L1451.3 1546.72 Q1451.3 1541.66 1449.33 1539.14 Q1447.35 1536.63 1443.41 1536.63 Q1438.66 1536.63 1435.93 1539.65 Q1433.19 1542.68 1433.19 1547.9 L1433.19 1568.04 L1427.3 1568.04 L1427.3 1532.4 L1433.19 1532.4 L1433.19 1537.93 Q1435.29 1534.72 1438.12 1533.13 Q1440.99 1531.54 1444.71 1531.54 Q1450.85 1531.54 1454.01 1535.36 Q1457.16 1539.14 1457.16 1546.53 Z\" fill=\"#000000\" fill-rule=\"evenodd\" fill-opacity=\"1\" /><path clip-path=\"url(#clip180)\" d=\"M1491.5 1562.63 L1502 1562.63 L1502 1526.38 L1490.58 1528.67 L1490.58 1522.82 L1501.94 1520.52 L1508.37 1520.52 L1508.37 1562.63 L1518.87 1562.63 L1518.87 1568.04 L1491.5 1568.04 L1491.5 1562.63 Z\" fill=\"#000000\" fill-rule=\"evenodd\" fill-opacity=\"1\" /><path clip-path=\"url(#clip180)\" d=\"M1545.61 1524.76 Q1540.64 1524.76 1538.13 1529.66 Q1535.65 1534.53 1535.65 1544.33 Q1535.65 1554.1 1538.13 1559 Q1540.64 1563.87 1545.61 1563.87 Q1550.61 1563.87 1553.09 1559 Q1555.6 1554.1 1555.6 1544.33 Q1555.6 1534.53 1553.09 1529.66 Q1550.61 1524.76 1545.61 1524.76 M1545.61 1519.66 Q1553.6 1519.66 1557.8 1526 Q1562.03 1532.3 1562.03 1544.33 Q1562.03 1556.33 1557.8 1562.66 Q1553.6 1568.97 1545.61 1568.97 Q1537.62 1568.97 1533.39 1562.66 Q1529.18 1556.33 1529.18 1544.33 Q1529.18 1532.3 1533.39 1526 Q1537.62 1519.66 1545.61 1519.66 Z\" fill=\"#000000\" fill-rule=\"evenodd\" fill-opacity=\"1\" /><path clip-path=\"url(#clip180)\" d=\"M1574 1559.96 L1580.71 1559.96 L1580.71 1565.43 L1575.5 1575.62 L1571.39 1575.62 L1574 1565.43 L1574 1559.96 Z\" fill=\"#000000\" fill-rule=\"evenodd\" fill-opacity=\"1\" /><path clip-path=\"url(#clip180)\" d=\"M1607.8 1524.76 Q1602.84 1524.76 1600.32 1529.66 Q1597.84 1534.53 1597.84 1544.33 Q1597.84 1554.1 1600.32 1559 Q1602.84 1563.87 1607.8 1563.87 Q1612.8 1563.87 1615.28 1559 Q1617.8 1554.1 1617.8 1544.33 Q1617.8 1534.53 1615.28 1529.66 Q1612.8 1524.76 1607.8 1524.76 M1607.8 1519.66 Q1615.79 1519.66 1619.99 1526 Q1624.22 1532.3 1624.22 1544.33 Q1624.22 1556.33 1619.99 1562.66 Q1615.79 1568.97 1607.8 1568.97 Q1599.81 1568.97 1595.58 1562.66 Q1591.38 1556.33 1591.38 1544.33 Q1591.38 1532.3 1595.58 1526 Q1599.81 1519.66 1607.8 1519.66 Z\" fill=\"#000000\" fill-rule=\"evenodd\" fill-opacity=\"1\" /><path clip-path=\"url(#clip180)\" d=\"M1649.27 1524.76 Q1644.31 1524.76 1641.79 1529.66 Q1639.31 1534.53 1639.31 1544.33 Q1639.31 1554.1 1641.79 1559 Q1644.31 1563.87 1649.27 1563.87 Q1654.27 1563.87 1656.75 1559 Q1659.27 1554.1 1659.27 1544.33 Q1659.27 1534.53 1656.75 1529.66 Q1654.27 1524.76 1649.27 1524.76 M1649.27 1519.66 Q1657.26 1519.66 1661.46 1526 Q1665.7 1532.3 1665.7 1544.33 Q1665.7 1556.33 1661.46 1562.66 Q1657.26 1568.97 1649.27 1568.97 Q1641.28 1568.97 1637.05 1562.66 Q1632.85 1556.33 1632.85 1544.33 Q1632.85 1532.3 1637.05 1526 Q1641.28 1519.66 1649.27 1519.66 Z\" fill=\"#000000\" fill-rule=\"evenodd\" fill-opacity=\"1\" /><path clip-path=\"url(#clip180)\" d=\"M1690.75 1524.76 Q1685.78 1524.76 1683.27 1529.66 Q1680.78 1534.53 1680.78 1544.33 Q1680.78 1554.1 1683.27 1559 Q1685.78 1563.87 1690.75 1563.87 Q1695.74 1563.87 1698.23 1559 Q1700.74 1554.1 1700.74 1544.33 Q1700.74 1534.53 1698.23 1529.66 Q1695.74 1524.76 1690.75 1524.76 M1690.75 1519.66 Q1698.74 1519.66 1702.94 1526 Q1707.17 1532.3 1707.17 1544.33 Q1707.17 1556.33 1702.94 1562.66 Q1698.74 1568.97 1690.75 1568.97 Q1682.76 1568.97 1678.52 1562.66 Q1674.32 1556.33 1674.32 1544.33 Q1674.32 1532.3 1678.52 1526 Q1682.76 1519.66 1690.75 1519.66 Z\" fill=\"#000000\" fill-rule=\"evenodd\" fill-opacity=\"1\" /><path clip-path=\"url(#clip180)\" d=\"M1740.37 1533.45 L1740.37 1538.98 Q1737.88 1537.71 1735.21 1537.07 Q1732.54 1536.44 1729.67 1536.44 Q1725.31 1536.44 1723.12 1537.77 Q1720.95 1539.11 1720.95 1541.79 Q1720.95 1543.82 1722.51 1545 Q1724.07 1546.15 1728.78 1547.2 L1730.79 1547.64 Q1737.02 1548.98 1739.63 1551.43 Q1742.28 1553.85 1742.28 1558.21 Q1742.28 1563.17 1738.33 1566.07 Q1734.41 1568.97 1727.54 1568.97 Q1724.68 1568.97 1721.56 1568.39 Q1718.47 1567.85 1715.03 1566.74 L1715.03 1560.69 Q1718.28 1562.38 1721.43 1563.24 Q1724.58 1564.07 1727.67 1564.07 Q1731.8 1564.07 1734.03 1562.66 Q1736.26 1561.23 1736.26 1558.65 Q1736.26 1556.27 1734.64 1554.99 Q1733.05 1553.72 1727.6 1552.54 L1725.57 1552.07 Q1720.12 1550.92 1717.7 1548.56 Q1715.29 1546.18 1715.29 1542.04 Q1715.29 1537.01 1718.85 1534.27 Q1722.42 1531.54 1728.97 1531.54 Q1732.22 1531.54 1735.08 1532.01 Q1737.95 1532.49 1740.37 1533.45 Z\" fill=\"#000000\" fill-rule=\"evenodd\" fill-opacity=\"1\" /><polyline clip-path=\"url(#clip182)\" style=\"stroke:#000000; stroke-linecap:butt; stroke-linejoin:round; stroke-width:2; stroke-opacity:0.1; fill:none\" points=\"\n",
       "  203.964,1263.88 2352.76,1263.88 \n",
       "  \"/>\n",
       "<polyline clip-path=\"url(#clip182)\" style=\"stroke:#000000; stroke-linecap:butt; stroke-linejoin:round; stroke-width:2; stroke-opacity:0.1; fill:none\" points=\"\n",
       "  203.964,1035.36 2352.76,1035.36 \n",
       "  \"/>\n",
       "<polyline clip-path=\"url(#clip182)\" style=\"stroke:#000000; stroke-linecap:butt; stroke-linejoin:round; stroke-width:2; stroke-opacity:0.1; fill:none\" points=\"\n",
       "  203.964,806.834 2352.76,806.834 \n",
       "  \"/>\n",
       "<polyline clip-path=\"url(#clip182)\" style=\"stroke:#000000; stroke-linecap:butt; stroke-linejoin:round; stroke-width:2; stroke-opacity:0.1; fill:none\" points=\"\n",
       "  203.964,578.313 2352.76,578.313 \n",
       "  \"/>\n",
       "<polyline clip-path=\"url(#clip182)\" style=\"stroke:#000000; stroke-linecap:butt; stroke-linejoin:round; stroke-width:2; stroke-opacity:0.1; fill:none\" points=\"\n",
       "  203.964,349.792 2352.76,349.792 \n",
       "  \"/>\n",
       "<polyline clip-path=\"url(#clip180)\" style=\"stroke:#000000; stroke-linecap:butt; stroke-linejoin:round; stroke-width:4; stroke-opacity:1; fill:none\" points=\"\n",
       "  203.964,1423.18 203.964,123.472 \n",
       "  \"/>\n",
       "<polyline clip-path=\"url(#clip180)\" style=\"stroke:#000000; stroke-linecap:butt; stroke-linejoin:round; stroke-width:4; stroke-opacity:1; fill:none\" points=\"\n",
       "  203.964,1263.88 222.861,1263.88 \n",
       "  \"/>\n",
       "<polyline clip-path=\"url(#clip180)\" style=\"stroke:#000000; stroke-linecap:butt; stroke-linejoin:round; stroke-width:4; stroke-opacity:1; fill:none\" points=\"\n",
       "  203.964,1035.36 222.861,1035.36 \n",
       "  \"/>\n",
       "<polyline clip-path=\"url(#clip180)\" style=\"stroke:#000000; stroke-linecap:butt; stroke-linejoin:round; stroke-width:4; stroke-opacity:1; fill:none\" points=\"\n",
       "  203.964,806.834 222.861,806.834 \n",
       "  \"/>\n",
       "<polyline clip-path=\"url(#clip180)\" style=\"stroke:#000000; stroke-linecap:butt; stroke-linejoin:round; stroke-width:4; stroke-opacity:1; fill:none\" points=\"\n",
       "  203.964,578.313 222.861,578.313 \n",
       "  \"/>\n",
       "<polyline clip-path=\"url(#clip180)\" style=\"stroke:#000000; stroke-linecap:butt; stroke-linejoin:round; stroke-width:4; stroke-opacity:1; fill:none\" points=\"\n",
       "  203.964,349.792 222.861,349.792 \n",
       "  \"/>\n",
       "<path clip-path=\"url(#clip180)\" d=\"M156.019 1249.68 Q152.408 1249.68 150.579 1253.24 Q148.774 1256.78 148.774 1263.91 Q148.774 1271.02 150.579 1274.58 Q152.408 1278.12 156.019 1278.12 Q159.653 1278.12 161.459 1274.58 Q163.288 1271.02 163.288 1263.91 Q163.288 1256.78 161.459 1253.24 Q159.653 1249.68 156.019 1249.68 M156.019 1245.97 Q161.829 1245.97 164.885 1250.58 Q167.964 1255.16 167.964 1263.91 Q167.964 1272.64 164.885 1277.24 Q161.829 1281.83 156.019 1281.83 Q150.209 1281.83 147.13 1277.24 Q144.075 1272.64 144.075 1263.91 Q144.075 1255.16 147.13 1250.58 Q150.209 1245.97 156.019 1245.97 Z\" fill=\"#000000\" fill-rule=\"evenodd\" fill-opacity=\"1\" /><path clip-path=\"url(#clip180)\" d=\"M147.061 1018.08 L165.417 1018.08 L165.417 1022.01 L151.343 1022.01 L151.343 1030.48 Q152.362 1030.14 153.38 1029.97 Q154.399 1029.79 155.417 1029.79 Q161.204 1029.79 164.584 1032.96 Q167.964 1036.13 167.964 1041.55 Q167.964 1047.13 164.491 1050.23 Q161.019 1053.31 154.7 1053.31 Q152.524 1053.31 150.255 1052.94 Q148.01 1052.57 145.603 1051.83 L145.603 1047.13 Q147.686 1048.26 149.908 1048.82 Q152.13 1049.37 154.607 1049.37 Q158.612 1049.37 160.95 1047.26 Q163.288 1045.16 163.288 1041.55 Q163.288 1037.94 160.95 1035.83 Q158.612 1033.72 154.607 1033.72 Q152.732 1033.72 150.857 1034.14 Q149.005 1034.56 147.061 1035.44 L147.061 1018.08 Z\" fill=\"#000000\" fill-rule=\"evenodd\" fill-opacity=\"1\" /><path clip-path=\"url(#clip180)\" d=\"M116.668 820.179 L124.306 820.179 L124.306 793.813 L115.996 795.48 L115.996 791.221 L124.26 789.554 L128.936 789.554 L128.936 820.179 L136.575 820.179 L136.575 824.114 L116.668 824.114 L116.668 820.179 Z\" fill=\"#000000\" fill-rule=\"evenodd\" fill-opacity=\"1\" /><path clip-path=\"url(#clip180)\" d=\"M156.019 792.633 Q152.408 792.633 150.579 796.198 Q148.774 799.739 148.774 806.869 Q148.774 813.975 150.579 817.54 Q152.408 821.082 156.019 821.082 Q159.653 821.082 161.459 817.54 Q163.288 813.975 163.288 806.869 Q163.288 799.739 161.459 796.198 Q159.653 792.633 156.019 792.633 M156.019 788.929 Q161.829 788.929 164.885 793.536 Q167.964 798.119 167.964 806.869 Q167.964 815.596 164.885 820.202 Q161.829 824.785 156.019 824.785 Q150.209 824.785 147.13 820.202 Q144.075 815.596 144.075 806.869 Q144.075 798.119 147.13 793.536 Q150.209 788.929 156.019 788.929 Z\" fill=\"#000000\" fill-rule=\"evenodd\" fill-opacity=\"1\" /><path clip-path=\"url(#clip180)\" d=\"M117.663 591.658 L125.302 591.658 L125.302 565.292 L116.992 566.959 L116.992 562.7 L125.255 561.033 L129.931 561.033 L129.931 591.658 L137.57 591.658 L137.57 595.593 L117.663 595.593 L117.663 591.658 Z\" fill=\"#000000\" fill-rule=\"evenodd\" fill-opacity=\"1\" /><path clip-path=\"url(#clip180)\" d=\"M147.061 561.033 L165.417 561.033 L165.417 564.968 L151.343 564.968 L151.343 573.44 Q152.362 573.093 153.38 572.931 Q154.399 572.746 155.417 572.746 Q161.204 572.746 164.584 575.917 Q167.964 579.088 167.964 584.505 Q167.964 590.084 164.491 593.185 Q161.019 596.264 154.7 596.264 Q152.524 596.264 150.255 595.894 Q148.01 595.523 145.603 594.783 L145.603 590.084 Q147.686 591.218 149.908 591.773 Q152.13 592.329 154.607 592.329 Q158.612 592.329 160.95 590.223 Q163.288 588.116 163.288 584.505 Q163.288 580.894 160.95 578.787 Q158.612 576.681 154.607 576.681 Q152.732 576.681 150.857 577.098 Q149.005 577.514 147.061 578.394 L147.061 561.033 Z\" fill=\"#000000\" fill-rule=\"evenodd\" fill-opacity=\"1\" /><path clip-path=\"url(#clip180)\" d=\"M119.885 363.137 L136.204 363.137 L136.204 367.072 L114.26 367.072 L114.26 363.137 Q116.922 360.382 121.505 355.752 Q126.112 351.1 127.292 349.757 Q129.538 347.234 130.417 345.498 Q131.32 343.739 131.32 342.049 Q131.32 339.294 129.376 337.558 Q127.455 335.822 124.353 335.822 Q122.154 335.822 119.7 336.586 Q117.269 337.35 114.492 338.901 L114.492 334.178 Q117.316 333.044 119.769 332.465 Q122.223 331.887 124.26 331.887 Q129.63 331.887 132.825 334.572 Q136.019 337.257 136.019 341.748 Q136.019 343.877 135.209 345.799 Q134.422 347.697 132.316 350.289 Q131.737 350.961 128.635 354.178 Q125.533 357.373 119.885 363.137 Z\" fill=\"#000000\" fill-rule=\"evenodd\" fill-opacity=\"1\" /><path clip-path=\"url(#clip180)\" d=\"M156.019 335.59 Q152.408 335.59 150.579 339.155 Q148.774 342.697 148.774 349.826 Q148.774 356.933 150.579 360.498 Q152.408 364.039 156.019 364.039 Q159.653 364.039 161.459 360.498 Q163.288 356.933 163.288 349.826 Q163.288 342.697 161.459 339.155 Q159.653 335.59 156.019 335.59 M156.019 331.887 Q161.829 331.887 164.885 336.493 Q167.964 341.077 167.964 349.826 Q167.964 358.553 164.885 363.16 Q161.829 367.743 156.019 367.743 Q150.209 367.743 147.13 363.16 Q144.075 358.553 144.075 349.826 Q144.075 341.077 147.13 336.493 Q150.209 331.887 156.019 331.887 Z\" fill=\"#000000\" fill-rule=\"evenodd\" fill-opacity=\"1\" /><path clip-path=\"url(#clip180)\" d=\"M21.7677 1040.05 L39.6235 1040.05 L39.6235 1031.96 Q39.6235 1027.48 37.3 1025.03 Q34.9765 1022.58 30.6797 1022.58 Q26.4147 1022.58 24.0912 1025.03 Q21.7677 1027.48 21.7677 1031.96 L21.7677 1040.05 M16.4842 1046.48 L16.4842 1031.96 Q16.4842 1023.98 20.1126 1019.9 Q23.7092 1015.8 30.6797 1015.8 Q37.7138 1015.8 41.3104 1019.9 Q44.907 1023.98 44.907 1031.96 L44.907 1040.05 L64.0042 1040.05 L64.0042 1046.48 L16.4842 1046.48 Z\" fill=\"#000000\" fill-rule=\"evenodd\" fill-opacity=\"1\" /><path clip-path=\"url(#clip180)\" d=\"M33.8307 987.914 Q33.2578 988.901 33.0032 990.078 Q32.7167 991.224 32.7167 992.625 Q32.7167 997.59 35.9632 1000.26 Q39.1779 1002.91 45.2253 1002.91 L64.0042 1002.91 L64.0042 1008.79 L28.3562 1008.79 L28.3562 1002.91 L33.8944 1002.91 Q30.6479 1001.06 29.0883 998.099 Q27.4968 995.139 27.4968 990.906 Q27.4968 990.301 27.5923 989.569 Q27.656 988.837 27.8151 987.946 L33.8307 987.914 Z\" fill=\"#000000\" fill-rule=\"evenodd\" fill-opacity=\"1\" /><path clip-path=\"url(#clip180)\" d=\"M28.3562 981.771 L28.3562 975.915 L64.0042 975.915 L64.0042 981.771 L28.3562 981.771 M14.479 981.771 L14.479 975.915 L21.895 975.915 L21.895 981.771 L14.479 981.771 Z\" fill=\"#000000\" fill-rule=\"evenodd\" fill-opacity=\"1\" /><path clip-path=\"url(#clip180)\" d=\"M29.7248 938.007 L35.1993 938.007 Q33.8307 940.489 33.1623 943.004 Q32.4621 945.487 32.4621 948.033 Q32.4621 953.73 36.0905 956.881 Q39.6872 960.032 46.212 960.032 Q52.7369 960.032 56.3653 956.881 Q59.9619 953.73 59.9619 948.033 Q59.9619 945.487 59.2935 943.004 Q58.5933 940.489 57.2247 938.007 L62.6355 938.007 Q63.7814 940.458 64.3543 943.099 Q64.9272 945.709 64.9272 948.669 Q64.9272 956.722 59.8664 961.464 Q54.8057 966.207 46.212 966.207 Q37.491 966.207 32.4939 961.433 Q27.4968 956.627 27.4968 948.287 Q27.4968 945.582 28.0697 943.004 Q28.6108 940.426 29.7248 938.007 Z\" fill=\"#000000\" fill-rule=\"evenodd\" fill-opacity=\"1\" /><path clip-path=\"url(#clip180)\" d=\"M44.7161 897.33 L47.5806 897.33 L47.5806 924.257 Q53.6281 923.875 56.8109 920.628 Q59.9619 917.35 59.9619 911.525 Q59.9619 908.152 59.1344 905.001 Q58.3069 901.818 56.6518 898.699 L62.1899 898.699 Q63.5267 901.85 64.227 905.16 Q64.9272 908.47 64.9272 911.876 Q64.9272 920.406 59.9619 925.403 Q54.9967 930.368 46.5303 930.368 Q37.7774 930.368 32.6531 925.657 Q27.4968 920.915 27.4968 912.894 Q27.4968 905.701 32.1438 901.531 Q36.7589 897.33 44.7161 897.33 M42.9973 903.186 Q38.1912 903.25 35.3266 905.892 Q32.4621 908.502 32.4621 912.83 Q32.4621 917.732 35.2312 920.692 Q38.0002 923.62 43.0292 924.066 L42.9973 903.186 Z\" fill=\"#000000\" fill-rule=\"evenodd\" fill-opacity=\"1\" /><path clip-path=\"url(#clip180)\" d=\"M29.4065 864.992 L34.9447 864.992 Q33.6716 867.475 33.035 870.148 Q32.3984 872.822 32.3984 875.687 Q32.3984 880.047 33.7352 882.243 Q35.072 884.408 37.7456 884.408 Q39.7826 884.408 40.9603 882.848 Q42.1061 881.288 43.1565 876.578 L43.6021 874.573 Q44.9389 868.334 47.3897 865.724 Q49.8086 863.082 54.1691 863.082 Q59.1344 863.082 62.0308 867.029 Q64.9272 870.944 64.9272 877.819 Q64.9272 880.684 64.3543 883.803 Q63.8132 886.89 62.6992 890.328 L56.6518 890.328 Q58.3387 887.081 59.198 883.93 Q60.0256 880.779 60.0256 877.692 Q60.0256 873.554 58.6251 871.326 Q57.1929 869.098 54.6147 869.098 Q52.2276 869.098 50.9545 870.721 Q49.6813 872.313 48.5037 877.755 L48.0262 879.792 Q46.8804 885.235 44.5251 887.654 Q42.138 890.073 38.0002 890.073 Q32.9713 890.073 30.2341 886.508 Q27.4968 882.943 27.4968 876.387 Q27.4968 873.14 27.9743 870.276 Q28.4517 867.411 29.4065 864.992 Z\" fill=\"#000000\" fill-rule=\"evenodd\" fill-opacity=\"1\" /><path clip-path=\"url(#clip180)\" d=\"M28.3562 833.036 L28.3562 827.18 L64.0042 827.18 L64.0042 833.036 L28.3562 833.036 M14.479 833.036 L14.479 827.18 L21.895 827.18 L21.895 833.036 L14.479 833.036 Z\" fill=\"#000000\" fill-rule=\"evenodd\" fill-opacity=\"1\" /><path clip-path=\"url(#clip180)\" d=\"M42.4881 785.294 L64.0042 785.294 L64.0042 791.15 L42.679 791.15 Q37.6183 791.15 35.1038 793.123 Q32.5894 795.097 32.5894 799.043 Q32.5894 803.786 35.6131 806.523 Q38.6368 809.26 43.8567 809.26 L64.0042 809.26 L64.0042 815.149 L28.3562 815.149 L28.3562 809.26 L33.8944 809.26 Q30.6797 807.16 29.0883 804.327 Q27.4968 801.462 27.4968 797.738 Q27.4968 791.596 31.3163 788.445 Q35.1038 785.294 42.4881 785.294 Z\" fill=\"#000000\" fill-rule=\"evenodd\" fill-opacity=\"1\" /><path clip-path=\"url(#clip180)\" d=\"M58.5933 750.951 L58.5933 740.447 L22.3406 740.447 L24.6323 751.874 L18.7758 751.874 L16.4842 740.511 L16.4842 734.081 L58.5933 734.081 L58.5933 723.578 L64.0042 723.578 L64.0042 750.951 L58.5933 750.951 Z\" fill=\"#000000\" fill-rule=\"evenodd\" fill-opacity=\"1\" /><path clip-path=\"url(#clip180)\" d=\"M20.7174 696.842 Q20.7174 701.807 25.6189 704.322 Q30.4887 706.804 40.2919 706.804 Q50.0633 706.804 54.9649 704.322 Q59.8346 701.807 59.8346 696.842 Q59.8346 691.845 54.9649 689.362 Q50.0633 686.848 40.2919 686.848 Q30.4887 686.848 25.6189 689.362 Q20.7174 691.845 20.7174 696.842 M15.6248 696.842 Q15.6248 688.853 21.9587 684.652 Q28.2607 680.418 40.2919 680.418 Q52.2913 680.418 58.6251 684.652 Q64.9272 688.853 64.9272 696.842 Q64.9272 704.831 58.6251 709.064 Q52.2913 713.266 40.2919 713.266 Q28.2607 713.266 21.9587 709.064 Q15.6248 704.831 15.6248 696.842 Z\" fill=\"#000000\" fill-rule=\"evenodd\" fill-opacity=\"1\" /><path clip-path=\"url(#clip180)\" d=\"M55.9197 668.451 L55.9197 661.735 L61.3942 661.735 L71.5793 666.955 L71.5793 671.061 L61.3942 668.451 L55.9197 668.451 Z\" fill=\"#000000\" fill-rule=\"evenodd\" fill-opacity=\"1\" /><path clip-path=\"url(#clip180)\" d=\"M20.7174 634.649 Q20.7174 639.614 25.6189 642.129 Q30.4887 644.611 40.2919 644.611 Q50.0633 644.611 54.9649 642.129 Q59.8346 639.614 59.8346 634.649 Q59.8346 629.652 54.9649 627.169 Q50.0633 624.655 40.2919 624.655 Q30.4887 624.655 25.6189 627.169 Q20.7174 629.652 20.7174 634.649 M15.6248 634.649 Q15.6248 626.66 21.9587 622.459 Q28.2607 618.226 40.2919 618.226 Q52.2913 618.226 58.6251 622.459 Q64.9272 626.66 64.9272 634.649 Q64.9272 642.638 58.6251 646.871 Q52.2913 651.073 40.2919 651.073 Q28.2607 651.073 21.9587 646.871 Q15.6248 642.638 15.6248 634.649 Z\" fill=\"#000000\" fill-rule=\"evenodd\" fill-opacity=\"1\" /><path clip-path=\"url(#clip180)\" d=\"M20.7174 593.176 Q20.7174 598.142 25.6189 600.656 Q30.4887 603.139 40.2919 603.139 Q50.0633 603.139 54.9649 600.656 Q59.8346 598.142 59.8346 593.176 Q59.8346 588.179 54.9649 585.697 Q50.0633 583.182 40.2919 583.182 Q30.4887 583.182 25.6189 585.697 Q20.7174 588.179 20.7174 593.176 M15.6248 593.176 Q15.6248 585.188 21.9587 580.986 Q28.2607 576.753 40.2919 576.753 Q52.2913 576.753 58.6251 580.986 Q64.9272 585.188 64.9272 593.176 Q64.9272 601.165 58.6251 605.399 Q52.2913 609.6 40.2919 609.6 Q28.2607 609.6 21.9587 605.399 Q15.6248 601.165 15.6248 593.176 Z\" fill=\"#000000\" fill-rule=\"evenodd\" fill-opacity=\"1\" /><path clip-path=\"url(#clip180)\" d=\"M20.7174 551.704 Q20.7174 556.669 25.6189 559.184 Q30.4887 561.666 40.2919 561.666 Q50.0633 561.666 54.9649 559.184 Q59.8346 556.669 59.8346 551.704 Q59.8346 546.707 54.9649 544.224 Q50.0633 541.71 40.2919 541.71 Q30.4887 541.71 25.6189 544.224 Q20.7174 546.707 20.7174 551.704 M15.6248 551.704 Q15.6248 543.715 21.9587 539.514 Q28.2607 535.28 40.2919 535.28 Q52.2913 535.28 58.6251 539.514 Q64.9272 543.715 64.9272 551.704 Q64.9272 559.693 58.6251 563.926 Q52.2913 568.127 40.2919 568.127 Q28.2607 568.127 21.9587 563.926 Q15.6248 559.693 15.6248 551.704 Z\" fill=\"#000000\" fill-rule=\"evenodd\" fill-opacity=\"1\" /><path clip-path=\"url(#clip180)\" d=\"M29.4065 502.083 L34.9447 502.083 Q33.6716 504.566 33.035 507.239 Q32.3984 509.913 32.3984 512.778 Q32.3984 517.138 33.7352 519.334 Q35.072 521.499 37.7456 521.499 Q39.7826 521.499 40.9603 519.939 Q42.1061 518.379 43.1565 513.669 L43.6021 511.664 Q44.9389 505.425 47.3897 502.815 Q49.8086 500.174 54.1691 500.174 Q59.1344 500.174 62.0308 504.12 Q64.9272 508.035 64.9272 514.91 Q64.9272 517.775 64.3543 520.894 Q63.8132 523.981 62.6992 527.419 L56.6518 527.419 Q58.3387 524.172 59.198 521.021 Q60.0256 517.87 60.0256 514.783 Q60.0256 510.645 58.6251 508.417 Q57.1929 506.189 54.6147 506.189 Q52.2276 506.189 50.9545 507.812 Q49.6813 509.404 48.5037 514.846 L48.0262 516.883 Q46.8804 522.326 44.5251 524.745 Q42.138 527.164 38.0002 527.164 Q32.9713 527.164 30.2341 523.599 Q27.4968 520.035 27.4968 513.478 Q27.4968 510.231 27.9743 507.367 Q28.4517 504.502 29.4065 502.083 Z\" fill=\"#000000\" fill-rule=\"evenodd\" fill-opacity=\"1\" /><path clip-path=\"url(#clip180)\" d=\"M1079.99 14.0809 L1079.99 22.0612 Q1075.33 19.8332 1071.2 18.7395 Q1067.06 17.6457 1063.22 17.6457 Q1056.53 17.6457 1052.89 20.2383 Q1049.28 22.8309 1049.28 27.611 Q1049.28 31.6214 1051.67 33.6873 Q1054.1 35.7128 1060.83 36.9686 L1065.77 37.9813 Q1074.92 39.7232 1079.26 44.1387 Q1083.63 48.5136 1083.63 55.8863 Q1083.63 64.6767 1077.72 69.2137 Q1071.84 73.7508 1060.46 73.7508 Q1056.17 73.7508 1051.31 72.7785 Q1046.49 71.8063 1041.3 69.9024 L1041.3 61.4765 Q1046.28 64.2716 1051.06 65.6895 Q1055.84 67.1073 1060.46 67.1073 Q1067.47 67.1073 1071.28 64.3527 Q1075.09 61.598 1075.09 56.4939 Q1075.09 52.0379 1072.33 49.5264 Q1069.62 47.0148 1063.38 45.759 L1058.4 44.7868 Q1049.24 42.9639 1045.15 39.075 Q1041.06 35.1862 1041.06 28.2591 Q1041.06 20.2383 1046.69 15.6203 Q1052.36 11.0023 1062.28 11.0023 Q1066.54 11.0023 1070.95 11.7719 Q1075.37 12.5416 1079.99 14.0809 Z\" fill=\"#000000\" fill-rule=\"evenodd\" fill-opacity=\"1\" /><path clip-path=\"url(#clip180)\" d=\"M1128.72 28.9478 L1128.72 35.9153 Q1125.56 34.1734 1122.36 33.3227 Q1119.2 32.4315 1115.96 32.4315 Q1108.71 32.4315 1104.7 37.0496 Q1100.69 41.6271 1100.69 49.9314 Q1100.69 58.2358 1104.7 62.8538 Q1108.71 67.4314 1115.96 67.4314 Q1119.2 67.4314 1122.36 66.5807 Q1125.56 65.6895 1128.72 63.9476 L1128.72 70.8341 Q1125.6 72.2924 1122.24 73.0216 Q1118.92 73.7508 1115.15 73.7508 Q1104.9 73.7508 1098.86 67.3098 Q1092.83 60.8689 1092.83 49.9314 Q1092.83 38.832 1098.9 32.472 Q1105.02 26.1121 1115.63 26.1121 Q1119.08 26.1121 1122.36 26.8413 Q1125.64 27.5299 1128.72 28.9478 Z\" fill=\"#000000\" fill-rule=\"evenodd\" fill-opacity=\"1\" /><path clip-path=\"url(#clip180)\" d=\"M1162.3 49.7694 Q1153.27 49.7694 1149.78 51.8354 Q1146.3 53.9013 1146.3 58.8839 Q1146.3 62.8538 1148.89 65.2034 Q1151.53 67.5124 1156.02 67.5124 Q1162.22 67.5124 1165.95 63.1374 Q1169.71 58.7219 1169.71 51.4303 L1169.71 49.7694 L1162.3 49.7694 M1177.17 46.6907 L1177.17 72.576 L1169.71 72.576 L1169.71 65.6895 Q1167.16 69.8214 1163.35 71.8063 Q1159.55 73.7508 1154.04 73.7508 Q1147.07 73.7508 1142.94 69.8619 Q1138.85 65.9325 1138.85 59.3701 Q1138.85 51.7138 1143.95 47.825 Q1149.1 43.9361 1159.26 43.9361 L1169.71 43.9361 L1169.71 43.2069 Q1169.71 38.0623 1166.31 35.2672 Q1162.95 32.4315 1156.83 32.4315 Q1152.94 32.4315 1149.26 33.3632 Q1145.57 34.295 1142.17 36.1584 L1142.17 29.2718 Q1146.26 27.692 1150.11 26.9223 Q1153.96 26.1121 1157.6 26.1121 Q1167.45 26.1121 1172.31 31.2163 Q1177.17 36.3204 1177.17 46.6907 Z\" fill=\"#000000\" fill-rule=\"evenodd\" fill-opacity=\"1\" /><path clip-path=\"url(#clip180)\" d=\"M1199.89 14.324 L1199.89 27.2059 L1215.25 27.2059 L1215.25 32.9987 L1199.89 32.9987 L1199.89 57.6282 Q1199.89 63.1779 1201.39 64.7578 Q1202.93 66.3376 1207.59 66.3376 L1215.25 66.3376 L1215.25 72.576 L1207.59 72.576 Q1198.96 72.576 1195.68 69.3758 Q1192.4 66.1351 1192.4 57.6282 L1192.4 32.9987 L1186.93 32.9987 L1186.93 27.2059 L1192.4 27.2059 L1192.4 14.324 L1199.89 14.324 Z\" fill=\"#000000\" fill-rule=\"evenodd\" fill-opacity=\"1\" /><path clip-path=\"url(#clip180)\" d=\"M1232.42 14.324 L1232.42 27.2059 L1247.78 27.2059 L1247.78 32.9987 L1232.42 32.9987 L1232.42 57.6282 Q1232.42 63.1779 1233.92 64.7578 Q1235.46 66.3376 1240.12 66.3376 L1247.78 66.3376 L1247.78 72.576 L1240.12 72.576 Q1231.49 72.576 1228.21 69.3758 Q1224.93 66.1351 1224.93 57.6282 L1224.93 32.9987 L1219.46 32.9987 L1219.46 27.2059 L1224.93 27.2059 L1224.93 14.324 L1232.42 14.324 Z\" fill=\"#000000\" fill-rule=\"evenodd\" fill-opacity=\"1\" /><path clip-path=\"url(#clip180)\" d=\"M1296.39 48.0275 L1296.39 51.6733 L1262.12 51.6733 Q1262.6 59.3701 1266.73 63.421 Q1270.91 67.4314 1278.32 67.4314 Q1282.61 67.4314 1286.62 66.3781 Q1290.67 65.3249 1294.64 63.2184 L1294.64 70.267 Q1290.63 71.9684 1286.42 72.8596 Q1282.21 73.7508 1277.87 73.7508 Q1267.02 73.7508 1260.66 67.4314 Q1254.34 61.1119 1254.34 50.3365 Q1254.34 39.1965 1260.33 32.6746 Q1266.37 26.1121 1276.58 26.1121 Q1285.73 26.1121 1291.04 32.0264 Q1296.39 37.9003 1296.39 48.0275 M1288.93 45.84 Q1288.85 39.7232 1285.49 36.0774 Q1282.17 32.4315 1276.66 32.4315 Q1270.42 32.4315 1266.65 35.9558 Q1262.93 39.4801 1262.36 45.8805 L1288.93 45.84 Z\" fill=\"#000000\" fill-rule=\"evenodd\" fill-opacity=\"1\" /><path clip-path=\"url(#clip180)\" d=\"M1334.91 34.1734 Q1333.65 33.4443 1332.16 33.1202 Q1330.7 32.7556 1328.92 32.7556 Q1322.6 32.7556 1319.19 36.8875 Q1315.83 40.9789 1315.83 48.6757 L1315.83 72.576 L1308.34 72.576 L1308.34 27.2059 L1315.83 27.2059 L1315.83 34.2544 Q1318.18 30.1225 1321.95 28.1376 Q1325.71 26.1121 1331.1 26.1121 Q1331.87 26.1121 1332.8 26.2337 Q1333.74 26.3147 1334.87 26.5172 L1334.91 34.1734 Z\" fill=\"#000000\" fill-rule=\"evenodd\" fill-opacity=\"1\" /><path clip-path=\"url(#clip180)\" d=\"M1377.61 18.8205 L1377.61 41.5461 L1387.9 41.5461 Q1393.61 41.5461 1396.73 38.5889 Q1399.85 35.6318 1399.85 30.163 Q1399.85 24.7348 1396.73 21.7777 Q1393.61 18.8205 1387.9 18.8205 L1377.61 18.8205 M1369.42 12.096 L1387.9 12.096 Q1398.06 12.096 1403.25 16.714 Q1408.47 21.2916 1408.47 30.163 Q1408.47 39.1155 1403.25 43.6931 Q1398.06 48.2706 1387.9 48.2706 L1377.61 48.2706 L1377.61 72.576 L1369.42 72.576 L1369.42 12.096 Z\" fill=\"#000000\" fill-rule=\"evenodd\" fill-opacity=\"1\" /><path clip-path=\"url(#clip180)\" d=\"M1419.13 9.54393 L1426.58 9.54393 L1426.58 72.576 L1419.13 72.576 L1419.13 9.54393 Z\" fill=\"#000000\" fill-rule=\"evenodd\" fill-opacity=\"1\" /><path clip-path=\"url(#clip180)\" d=\"M1459.76 32.4315 Q1453.76 32.4315 1450.28 37.1306 Q1446.8 41.7891 1446.8 49.9314 Q1446.8 58.0738 1450.24 62.7728 Q1453.72 67.4314 1459.76 67.4314 Q1465.71 67.4314 1469.2 62.7323 Q1472.68 58.0333 1472.68 49.9314 Q1472.68 41.8701 1469.2 37.1711 Q1465.71 32.4315 1459.76 32.4315 M1459.76 26.1121 Q1469.48 26.1121 1475.03 32.4315 Q1480.58 38.7509 1480.58 49.9314 Q1480.58 61.0714 1475.03 67.4314 Q1469.48 73.7508 1459.76 73.7508 Q1450 73.7508 1444.45 67.4314 Q1438.94 61.0714 1438.94 49.9314 Q1438.94 38.7509 1444.45 32.4315 Q1450 26.1121 1459.76 26.1121 Z\" fill=\"#000000\" fill-rule=\"evenodd\" fill-opacity=\"1\" /><path clip-path=\"url(#clip180)\" d=\"M1500.31 14.324 L1500.31 27.2059 L1515.66 27.2059 L1515.66 32.9987 L1500.31 32.9987 L1500.31 57.6282 Q1500.31 63.1779 1501.81 64.7578 Q1503.35 66.3376 1508.01 66.3376 L1515.66 66.3376 L1515.66 72.576 L1508.01 72.576 Q1499.38 72.576 1496.1 69.3758 Q1492.81 66.1351 1492.81 57.6282 L1492.81 32.9987 L1487.35 32.9987 L1487.35 27.2059 L1492.81 27.2059 L1492.81 14.324 L1500.31 14.324 Z\" fill=\"#000000\" fill-rule=\"evenodd\" fill-opacity=\"1\" /><circle clip-path=\"url(#clip182)\" cx=\"392.62\" cy=\"459.848\" r=\"10\" fill=\"#009af9\" fill-rule=\"evenodd\" fill-opacity=\"0.8\" stroke=\"#000000\" stroke-opacity=\"0.8\" stroke-width=\"3.2\"/>\n",
       "<circle clip-path=\"url(#clip182)\" cx=\"323.884\" cy=\"846.588\" r=\"10\" fill=\"#009af9\" fill-rule=\"evenodd\" fill-opacity=\"0.8\" stroke=\"#000000\" stroke-opacity=\"0.8\" stroke-width=\"3.2\"/>\n",
       "<circle clip-path=\"url(#clip182)\" cx=\"676.877\" cy=\"639.465\" r=\"10\" fill=\"#009af9\" fill-rule=\"evenodd\" fill-opacity=\"0.8\" stroke=\"#000000\" stroke-opacity=\"0.8\" stroke-width=\"3.2\"/>\n",
       "<circle clip-path=\"url(#clip182)\" cx=\"498.026\" cy=\"722.098\" r=\"10\" fill=\"#009af9\" fill-rule=\"evenodd\" fill-opacity=\"0.8\" stroke=\"#000000\" stroke-opacity=\"0.8\" stroke-width=\"3.2\"/>\n",
       "<circle clip-path=\"url(#clip182)\" cx=\"363.079\" cy=\"952.023\" r=\"10\" fill=\"#009af9\" fill-rule=\"evenodd\" fill-opacity=\"0.8\" stroke=\"#000000\" stroke-opacity=\"0.8\" stroke-width=\"3.2\"/>\n",
       "<circle clip-path=\"url(#clip182)\" cx=\"660.861\" cy=\"720.636\" r=\"10\" fill=\"#009af9\" fill-rule=\"evenodd\" fill-opacity=\"0.8\" stroke=\"#000000\" stroke-opacity=\"0.8\" stroke-width=\"3.2\"/>\n",
       "<circle clip-path=\"url(#clip182)\" cx=\"553.874\" cy=\"1065.14\" r=\"10\" fill=\"#009af9\" fill-rule=\"evenodd\" fill-opacity=\"0.8\" stroke=\"#000000\" stroke-opacity=\"0.8\" stroke-width=\"3.2\"/>\n",
       "<circle clip-path=\"url(#clip182)\" cx=\"683.899\" cy=\"715.426\" r=\"10\" fill=\"#009af9\" fill-rule=\"evenodd\" fill-opacity=\"0.8\" stroke=\"#000000\" stroke-opacity=\"0.8\" stroke-width=\"3.2\"/>\n",
       "<circle clip-path=\"url(#clip182)\" cx=\"437.008\" cy=\"962.288\" r=\"10\" fill=\"#009af9\" fill-rule=\"evenodd\" fill-opacity=\"0.8\" stroke=\"#000000\" stroke-opacity=\"0.8\" stroke-width=\"3.2\"/>\n",
       "<circle clip-path=\"url(#clip182)\" cx=\"268.048\" cy=\"1089.44\" r=\"10\" fill=\"#009af9\" fill-rule=\"evenodd\" fill-opacity=\"0.8\" stroke=\"#000000\" stroke-opacity=\"0.8\" stroke-width=\"3.2\"/>\n",
       "<circle clip-path=\"url(#clip182)\" cx=\"345.482\" cy=\"1115.24\" r=\"10\" fill=\"#009af9\" fill-rule=\"evenodd\" fill-opacity=\"0.8\" stroke=\"#000000\" stroke-opacity=\"0.8\" stroke-width=\"3.2\"/>\n",
       "<circle clip-path=\"url(#clip182)\" cx=\"1343.16\" cy=\"555.232\" r=\"10\" fill=\"#009af9\" fill-rule=\"evenodd\" fill-opacity=\"0.8\" stroke=\"#000000\" stroke-opacity=\"0.8\" stroke-width=\"3.2\"/>\n",
       "<circle clip-path=\"url(#clip182)\" cx=\"348.232\" cy=\"1119.67\" r=\"10\" fill=\"#009af9\" fill-rule=\"evenodd\" fill-opacity=\"0.8\" stroke=\"#000000\" stroke-opacity=\"0.8\" stroke-width=\"3.2\"/>\n",
       "<circle clip-path=\"url(#clip182)\" cx=\"663.871\" cy=\"933.627\" r=\"10\" fill=\"#009af9\" fill-rule=\"evenodd\" fill-opacity=\"0.8\" stroke=\"#000000\" stroke-opacity=\"0.8\" stroke-width=\"3.2\"/>\n",
       "<circle clip-path=\"url(#clip182)\" cx=\"337.221\" cy=\"1231.14\" r=\"10\" fill=\"#009af9\" fill-rule=\"evenodd\" fill-opacity=\"0.8\" stroke=\"#000000\" stroke-opacity=\"0.8\" stroke-width=\"3.2\"/>\n",
       "<circle clip-path=\"url(#clip182)\" cx=\"306.381\" cy=\"1103.32\" r=\"10\" fill=\"#009af9\" fill-rule=\"evenodd\" fill-opacity=\"0.8\" stroke=\"#000000\" stroke-opacity=\"0.8\" stroke-width=\"3.2\"/>\n",
       "<circle clip-path=\"url(#clip182)\" cx=\"422.751\" cy=\"1021.42\" r=\"10\" fill=\"#009af9\" fill-rule=\"evenodd\" fill-opacity=\"0.8\" stroke=\"#000000\" stroke-opacity=\"0.8\" stroke-width=\"3.2\"/>\n",
       "<circle clip-path=\"url(#clip182)\" cx=\"276.958\" cy=\"1238.25\" r=\"10\" fill=\"#009af9\" fill-rule=\"evenodd\" fill-opacity=\"0.8\" stroke=\"#000000\" stroke-opacity=\"0.8\" stroke-width=\"3.2\"/>\n",
       "<circle clip-path=\"url(#clip182)\" cx=\"430.328\" cy=\"1096.97\" r=\"10\" fill=\"#009af9\" fill-rule=\"evenodd\" fill-opacity=\"0.8\" stroke=\"#000000\" stroke-opacity=\"0.8\" stroke-width=\"3.2\"/>\n",
       "<circle clip-path=\"url(#clip182)\" cx=\"506.004\" cy=\"1017.56\" r=\"10\" fill=\"#009af9\" fill-rule=\"evenodd\" fill-opacity=\"0.8\" stroke=\"#000000\" stroke-opacity=\"0.8\" stroke-width=\"3.2\"/>\n",
       "<circle clip-path=\"url(#clip182)\" cx=\"401.944\" cy=\"1120.43\" r=\"10\" fill=\"#009af9\" fill-rule=\"evenodd\" fill-opacity=\"0.8\" stroke=\"#000000\" stroke-opacity=\"0.8\" stroke-width=\"3.2\"/>\n",
       "<circle clip-path=\"url(#clip182)\" cx=\"2063.8\" cy=\"269.032\" r=\"10\" fill=\"#009af9\" fill-rule=\"evenodd\" fill-opacity=\"0.8\" stroke=\"#000000\" stroke-opacity=\"0.8\" stroke-width=\"3.2\"/>\n",
       "<circle clip-path=\"url(#clip182)\" cx=\"319.446\" cy=\"1069.04\" r=\"10\" fill=\"#009af9\" fill-rule=\"evenodd\" fill-opacity=\"0.8\" stroke=\"#000000\" stroke-opacity=\"0.8\" stroke-width=\"3.2\"/>\n",
       "<circle clip-path=\"url(#clip182)\" cx=\"418.113\" cy=\"1026.79\" r=\"10\" fill=\"#009af9\" fill-rule=\"evenodd\" fill-opacity=\"0.8\" stroke=\"#000000\" stroke-opacity=\"0.8\" stroke-width=\"3.2\"/>\n",
       "<circle clip-path=\"url(#clip182)\" cx=\"328.274\" cy=\"1122.99\" r=\"10\" fill=\"#009af9\" fill-rule=\"evenodd\" fill-opacity=\"0.8\" stroke=\"#000000\" stroke-opacity=\"0.8\" stroke-width=\"3.2\"/>\n",
       "<circle clip-path=\"url(#clip182)\" cx=\"1907.42\" cy=\"229.224\" r=\"10\" fill=\"#009af9\" fill-rule=\"evenodd\" fill-opacity=\"0.8\" stroke=\"#000000\" stroke-opacity=\"0.8\" stroke-width=\"3.2\"/>\n",
       "<circle clip-path=\"url(#clip182)\" cx=\"1185.48\" cy=\"646.824\" r=\"10\" fill=\"#009af9\" fill-rule=\"evenodd\" fill-opacity=\"0.8\" stroke=\"#000000\" stroke-opacity=\"0.8\" stroke-width=\"3.2\"/>\n",
       "<circle clip-path=\"url(#clip182)\" cx=\"964.662\" cy=\"941.812\" r=\"10\" fill=\"#009af9\" fill-rule=\"evenodd\" fill-opacity=\"0.8\" stroke=\"#000000\" stroke-opacity=\"0.8\" stroke-width=\"3.2\"/>\n",
       "<circle clip-path=\"url(#clip182)\" cx=\"1226.55\" cy=\"592.39\" r=\"10\" fill=\"#009af9\" fill-rule=\"evenodd\" fill-opacity=\"0.8\" stroke=\"#000000\" stroke-opacity=\"0.8\" stroke-width=\"3.2\"/>\n",
       "<circle clip-path=\"url(#clip182)\" cx=\"2291.94\" cy=\"160.256\" r=\"10\" fill=\"#009af9\" fill-rule=\"evenodd\" fill-opacity=\"0.8\" stroke=\"#000000\" stroke-opacity=\"0.8\" stroke-width=\"3.2\"/>\n",
       "<circle clip-path=\"url(#clip182)\" cx=\"291.392\" cy=\"1319.64\" r=\"10\" fill=\"#009af9\" fill-rule=\"evenodd\" fill-opacity=\"0.8\" stroke=\"#000000\" stroke-opacity=\"0.8\" stroke-width=\"3.2\"/>\n",
       "<circle clip-path=\"url(#clip182)\" cx=\"449.188\" cy=\"989.806\" r=\"10\" fill=\"#009af9\" fill-rule=\"evenodd\" fill-opacity=\"0.8\" stroke=\"#000000\" stroke-opacity=\"0.8\" stroke-width=\"3.2\"/>\n",
       "<circle clip-path=\"url(#clip182)\" cx=\"762.986\" cy=\"709.301\" r=\"10\" fill=\"#009af9\" fill-rule=\"evenodd\" fill-opacity=\"0.8\" stroke=\"#000000\" stroke-opacity=\"0.8\" stroke-width=\"3.2\"/>\n",
       "<circle clip-path=\"url(#clip182)\" cx=\"366.856\" cy=\"1179.35\" r=\"10\" fill=\"#009af9\" fill-rule=\"evenodd\" fill-opacity=\"0.8\" stroke=\"#000000\" stroke-opacity=\"0.8\" stroke-width=\"3.2\"/>\n",
       "<circle clip-path=\"url(#clip182)\" cx=\"640.585\" cy=\"964.852\" r=\"10\" fill=\"#009af9\" fill-rule=\"evenodd\" fill-opacity=\"0.8\" stroke=\"#000000\" stroke-opacity=\"0.8\" stroke-width=\"3.2\"/>\n",
       "<circle clip-path=\"url(#clip182)\" cx=\"607.81\" cy=\"1055.36\" r=\"10\" fill=\"#009af9\" fill-rule=\"evenodd\" fill-opacity=\"0.8\" stroke=\"#000000\" stroke-opacity=\"0.8\" stroke-width=\"3.2\"/>\n",
       "<circle clip-path=\"url(#clip182)\" cx=\"626.989\" cy=\"1075.74\" r=\"10\" fill=\"#009af9\" fill-rule=\"evenodd\" fill-opacity=\"0.8\" stroke=\"#000000\" stroke-opacity=\"0.8\" stroke-width=\"3.2\"/>\n",
       "<circle clip-path=\"url(#clip182)\" cx=\"333.161\" cy=\"1108.81\" r=\"10\" fill=\"#009af9\" fill-rule=\"evenodd\" fill-opacity=\"0.8\" stroke=\"#000000\" stroke-opacity=\"0.8\" stroke-width=\"3.2\"/>\n",
       "<circle clip-path=\"url(#clip182)\" cx=\"1186.43\" cy=\"801.487\" r=\"10\" fill=\"#009af9\" fill-rule=\"evenodd\" fill-opacity=\"0.8\" stroke=\"#000000\" stroke-opacity=\"0.8\" stroke-width=\"3.2\"/>\n",
       "<circle clip-path=\"url(#clip182)\" cx=\"421.335\" cy=\"1012.62\" r=\"10\" fill=\"#009af9\" fill-rule=\"evenodd\" fill-opacity=\"0.8\" stroke=\"#000000\" stroke-opacity=\"0.8\" stroke-width=\"3.2\"/>\n",
       "<circle clip-path=\"url(#clip182)\" cx=\"309.627\" cy=\"1238.44\" r=\"10\" fill=\"#009af9\" fill-rule=\"evenodd\" fill-opacity=\"0.8\" stroke=\"#000000\" stroke-opacity=\"0.8\" stroke-width=\"3.2\"/>\n",
       "<circle clip-path=\"url(#clip182)\" cx=\"483.781\" cy=\"1085.1\" r=\"10\" fill=\"#009af9\" fill-rule=\"evenodd\" fill-opacity=\"0.8\" stroke=\"#000000\" stroke-opacity=\"0.8\" stroke-width=\"3.2\"/>\n",
       "<circle clip-path=\"url(#clip182)\" cx=\"1053.3\" cy=\"1017.74\" r=\"10\" fill=\"#009af9\" fill-rule=\"evenodd\" fill-opacity=\"0.8\" stroke=\"#000000\" stroke-opacity=\"0.8\" stroke-width=\"3.2\"/>\n",
       "<circle clip-path=\"url(#clip182)\" cx=\"352.917\" cy=\"1152.33\" r=\"10\" fill=\"#009af9\" fill-rule=\"evenodd\" fill-opacity=\"0.8\" stroke=\"#000000\" stroke-opacity=\"0.8\" stroke-width=\"3.2\"/>\n",
       "<circle clip-path=\"url(#clip182)\" cx=\"594.981\" cy=\"956.205\" r=\"10\" fill=\"#009af9\" fill-rule=\"evenodd\" fill-opacity=\"0.8\" stroke=\"#000000\" stroke-opacity=\"0.8\" stroke-width=\"3.2\"/>\n",
       "<circle clip-path=\"url(#clip182)\" cx=\"508.636\" cy=\"1216.06\" r=\"10\" fill=\"#009af9\" fill-rule=\"evenodd\" fill-opacity=\"0.8\" stroke=\"#000000\" stroke-opacity=\"0.8\" stroke-width=\"3.2\"/>\n",
       "<circle clip-path=\"url(#clip182)\" cx=\"269.889\" cy=\"1029.24\" r=\"10\" fill=\"#009af9\" fill-rule=\"evenodd\" fill-opacity=\"0.8\" stroke=\"#000000\" stroke-opacity=\"0.8\" stroke-width=\"3.2\"/>\n",
       "<circle clip-path=\"url(#clip182)\" cx=\"356.187\" cy=\"1179.6\" r=\"10\" fill=\"#009af9\" fill-rule=\"evenodd\" fill-opacity=\"0.8\" stroke=\"#000000\" stroke-opacity=\"0.8\" stroke-width=\"3.2\"/>\n",
       "<circle clip-path=\"url(#clip182)\" cx=\"1052.35\" cy=\"898.046\" r=\"10\" fill=\"#009af9\" fill-rule=\"evenodd\" fill-opacity=\"0.8\" stroke=\"#000000\" stroke-opacity=\"0.8\" stroke-width=\"3.2\"/>\n",
       "<circle clip-path=\"url(#clip182)\" cx=\"325.525\" cy=\"1217.35\" r=\"10\" fill=\"#009af9\" fill-rule=\"evenodd\" fill-opacity=\"0.8\" stroke=\"#000000\" stroke-opacity=\"0.8\" stroke-width=\"3.2\"/>\n",
       "<circle clip-path=\"url(#clip182)\" cx=\"561.404\" cy=\"955.355\" r=\"10\" fill=\"#009af9\" fill-rule=\"evenodd\" fill-opacity=\"0.8\" stroke=\"#000000\" stroke-opacity=\"0.8\" stroke-width=\"3.2\"/>\n",
       "<circle clip-path=\"url(#clip182)\" cx=\"297.919\" cy=\"1179.8\" r=\"10\" fill=\"#009af9\" fill-rule=\"evenodd\" fill-opacity=\"0.8\" stroke=\"#000000\" stroke-opacity=\"0.8\" stroke-width=\"3.2\"/>\n",
       "<circle clip-path=\"url(#clip182)\" cx=\"547.678\" cy=\"1067.87\" r=\"10\" fill=\"#009af9\" fill-rule=\"evenodd\" fill-opacity=\"0.8\" stroke=\"#000000\" stroke-opacity=\"0.8\" stroke-width=\"3.2\"/>\n",
       "<circle clip-path=\"url(#clip182)\" cx=\"568.827\" cy=\"1035.44\" r=\"10\" fill=\"#009af9\" fill-rule=\"evenodd\" fill-opacity=\"0.8\" stroke=\"#000000\" stroke-opacity=\"0.8\" stroke-width=\"3.2\"/>\n",
       "<circle clip-path=\"url(#clip182)\" cx=\"418.904\" cy=\"1198.83\" r=\"10\" fill=\"#009af9\" fill-rule=\"evenodd\" fill-opacity=\"0.8\" stroke=\"#000000\" stroke-opacity=\"0.8\" stroke-width=\"3.2\"/>\n",
       "<circle clip-path=\"url(#clip182)\" cx=\"421.984\" cy=\"1328.83\" r=\"10\" fill=\"#009af9\" fill-rule=\"evenodd\" fill-opacity=\"0.8\" stroke=\"#000000\" stroke-opacity=\"0.8\" stroke-width=\"3.2\"/>\n",
       "<circle clip-path=\"url(#clip182)\" cx=\"411.988\" cy=\"1150.73\" r=\"10\" fill=\"#009af9\" fill-rule=\"evenodd\" fill-opacity=\"0.8\" stroke=\"#000000\" stroke-opacity=\"0.8\" stroke-width=\"3.2\"/>\n",
       "<circle clip-path=\"url(#clip182)\" cx=\"337.103\" cy=\"1053.44\" r=\"10\" fill=\"#009af9\" fill-rule=\"evenodd\" fill-opacity=\"0.8\" stroke=\"#000000\" stroke-opacity=\"0.8\" stroke-width=\"3.2\"/>\n",
       "<circle clip-path=\"url(#clip182)\" cx=\"770.303\" cy=\"1082.78\" r=\"10\" fill=\"#009af9\" fill-rule=\"evenodd\" fill-opacity=\"0.8\" stroke=\"#000000\" stroke-opacity=\"0.8\" stroke-width=\"3.2\"/>\n",
       "<circle clip-path=\"url(#clip182)\" cx=\"787.228\" cy=\"1016.43\" r=\"10\" fill=\"#009af9\" fill-rule=\"evenodd\" fill-opacity=\"0.8\" stroke=\"#000000\" stroke-opacity=\"0.8\" stroke-width=\"3.2\"/>\n",
       "<circle clip-path=\"url(#clip182)\" cx=\"713.086\" cy=\"1027.61\" r=\"10\" fill=\"#009af9\" fill-rule=\"evenodd\" fill-opacity=\"0.8\" stroke=\"#000000\" stroke-opacity=\"0.8\" stroke-width=\"3.2\"/>\n",
       "<circle clip-path=\"url(#clip182)\" cx=\"282.765\" cy=\"1297.82\" r=\"10\" fill=\"#009af9\" fill-rule=\"evenodd\" fill-opacity=\"0.8\" stroke=\"#000000\" stroke-opacity=\"0.8\" stroke-width=\"3.2\"/>\n",
       "<circle clip-path=\"url(#clip182)\" cx=\"2182.89\" cy=\"444.445\" r=\"10\" fill=\"#009af9\" fill-rule=\"evenodd\" fill-opacity=\"0.8\" stroke=\"#000000\" stroke-opacity=\"0.8\" stroke-width=\"3.2\"/>\n",
       "<circle clip-path=\"url(#clip182)\" cx=\"1430.97\" cy=\"712.958\" r=\"10\" fill=\"#009af9\" fill-rule=\"evenodd\" fill-opacity=\"0.8\" stroke=\"#000000\" stroke-opacity=\"0.8\" stroke-width=\"3.2\"/>\n",
       "<circle clip-path=\"url(#clip182)\" cx=\"1909.08\" cy=\"484.436\" r=\"10\" fill=\"#009af9\" fill-rule=\"evenodd\" fill-opacity=\"0.8\" stroke=\"#000000\" stroke-opacity=\"0.8\" stroke-width=\"3.2\"/>\n",
       "<circle clip-path=\"url(#clip182)\" cx=\"523.401\" cy=\"1040.6\" r=\"10\" fill=\"#009af9\" fill-rule=\"evenodd\" fill-opacity=\"0.8\" stroke=\"#000000\" stroke-opacity=\"0.8\" stroke-width=\"3.2\"/>\n",
       "<circle clip-path=\"url(#clip182)\" cx=\"650.499\" cy=\"1001.34\" r=\"10\" fill=\"#009af9\" fill-rule=\"evenodd\" fill-opacity=\"0.8\" stroke=\"#000000\" stroke-opacity=\"0.8\" stroke-width=\"3.2\"/>\n",
       "<circle clip-path=\"url(#clip182)\" cx=\"879.568\" cy=\"908.508\" r=\"10\" fill=\"#009af9\" fill-rule=\"evenodd\" fill-opacity=\"0.8\" stroke=\"#000000\" stroke-opacity=\"0.8\" stroke-width=\"3.2\"/>\n",
       "<circle clip-path=\"url(#clip182)\" cx=\"320.544\" cy=\"1217.38\" r=\"10\" fill=\"#009af9\" fill-rule=\"evenodd\" fill-opacity=\"0.8\" stroke=\"#000000\" stroke-opacity=\"0.8\" stroke-width=\"3.2\"/>\n",
       "<circle clip-path=\"url(#clip182)\" cx=\"2072.18\" cy=\"304.453\" r=\"10\" fill=\"#009af9\" fill-rule=\"evenodd\" fill-opacity=\"0.8\" stroke=\"#000000\" stroke-opacity=\"0.8\" stroke-width=\"3.2\"/>\n",
       "<circle clip-path=\"url(#clip182)\" cx=\"867.766\" cy=\"958.577\" r=\"10\" fill=\"#009af9\" fill-rule=\"evenodd\" fill-opacity=\"0.8\" stroke=\"#000000\" stroke-opacity=\"0.8\" stroke-width=\"3.2\"/>\n",
       "<circle clip-path=\"url(#clip182)\" cx=\"537.127\" cy=\"1079.88\" r=\"10\" fill=\"#009af9\" fill-rule=\"evenodd\" fill-opacity=\"0.8\" stroke=\"#000000\" stroke-opacity=\"0.8\" stroke-width=\"3.2\"/>\n",
       "<circle clip-path=\"url(#clip182)\" cx=\"380.358\" cy=\"1205.45\" r=\"10\" fill=\"#009af9\" fill-rule=\"evenodd\" fill-opacity=\"0.8\" stroke=\"#000000\" stroke-opacity=\"0.8\" stroke-width=\"3.2\"/>\n",
       "<circle clip-path=\"url(#clip182)\" cx=\"524.309\" cy=\"1111.17\" r=\"10\" fill=\"#009af9\" fill-rule=\"evenodd\" fill-opacity=\"0.8\" stroke=\"#000000\" stroke-opacity=\"0.8\" stroke-width=\"3.2\"/>\n",
       "<circle clip-path=\"url(#clip182)\" cx=\"264.778\" cy=\"1386.4\" r=\"10\" fill=\"#009af9\" fill-rule=\"evenodd\" fill-opacity=\"0.8\" stroke=\"#000000\" stroke-opacity=\"0.8\" stroke-width=\"3.2\"/>\n",
       "<circle clip-path=\"url(#clip182)\" cx=\"444.29\" cy=\"1250.31\" r=\"10\" fill=\"#009af9\" fill-rule=\"evenodd\" fill-opacity=\"0.8\" stroke=\"#000000\" stroke-opacity=\"0.8\" stroke-width=\"3.2\"/>\n",
       "<circle clip-path=\"url(#clip182)\" cx=\"561.215\" cy=\"1086.34\" r=\"10\" fill=\"#009af9\" fill-rule=\"evenodd\" fill-opacity=\"0.8\" stroke=\"#000000\" stroke-opacity=\"0.8\" stroke-width=\"3.2\"/>\n",
       "<circle clip-path=\"url(#clip182)\" cx=\"265.911\" cy=\"1003.3\" r=\"10\" fill=\"#009af9\" fill-rule=\"evenodd\" fill-opacity=\"0.8\" stroke=\"#000000\" stroke-opacity=\"0.8\" stroke-width=\"3.2\"/>\n",
       "<circle clip-path=\"url(#clip182)\" cx=\"884.053\" cy=\"955.254\" r=\"10\" fill=\"#009af9\" fill-rule=\"evenodd\" fill-opacity=\"0.8\" stroke=\"#000000\" stroke-opacity=\"0.8\" stroke-width=\"3.2\"/>\n",
       "<circle clip-path=\"url(#clip182)\" cx=\"274.315\" cy=\"1169.84\" r=\"10\" fill=\"#009af9\" fill-rule=\"evenodd\" fill-opacity=\"0.8\" stroke=\"#000000\" stroke-opacity=\"0.8\" stroke-width=\"3.2\"/>\n",
       "<circle clip-path=\"url(#clip182)\" cx=\"347.666\" cy=\"1241.96\" r=\"10\" fill=\"#009af9\" fill-rule=\"evenodd\" fill-opacity=\"0.8\" stroke=\"#000000\" stroke-opacity=\"0.8\" stroke-width=\"3.2\"/>\n",
       "<circle clip-path=\"url(#clip182)\" cx=\"283.839\" cy=\"1254.54\" r=\"10\" fill=\"#009af9\" fill-rule=\"evenodd\" fill-opacity=\"0.8\" stroke=\"#000000\" stroke-opacity=\"0.8\" stroke-width=\"3.2\"/>\n",
       "<circle clip-path=\"url(#clip182)\" cx=\"421.606\" cy=\"1232.86\" r=\"10\" fill=\"#009af9\" fill-rule=\"evenodd\" fill-opacity=\"0.8\" stroke=\"#000000\" stroke-opacity=\"0.8\" stroke-width=\"3.2\"/>\n",
       "<circle clip-path=\"url(#clip182)\" cx=\"824.417\" cy=\"919.106\" r=\"10\" fill=\"#009af9\" fill-rule=\"evenodd\" fill-opacity=\"0.8\" stroke=\"#000000\" stroke-opacity=\"0.8\" stroke-width=\"3.2\"/>\n",
       "<circle clip-path=\"url(#clip182)\" cx=\"440.514\" cy=\"1019.65\" r=\"10\" fill=\"#009af9\" fill-rule=\"evenodd\" fill-opacity=\"0.8\" stroke=\"#000000\" stroke-opacity=\"0.8\" stroke-width=\"3.2\"/>\n",
       "<circle clip-path=\"url(#clip182)\" cx=\"676.712\" cy=\"1070.02\" r=\"10\" fill=\"#009af9\" fill-rule=\"evenodd\" fill-opacity=\"0.8\" stroke=\"#000000\" stroke-opacity=\"0.8\" stroke-width=\"3.2\"/>\n",
       "<circle clip-path=\"url(#clip182)\" cx=\"754.96\" cy=\"953.174\" r=\"10\" fill=\"#009af9\" fill-rule=\"evenodd\" fill-opacity=\"0.8\" stroke=\"#000000\" stroke-opacity=\"0.8\" stroke-width=\"3.2\"/>\n",
       "<circle clip-path=\"url(#clip182)\" cx=\"379.862\" cy=\"1221.51\" r=\"10\" fill=\"#009af9\" fill-rule=\"evenodd\" fill-opacity=\"0.8\" stroke=\"#000000\" stroke-opacity=\"0.8\" stroke-width=\"3.2\"/>\n",
       "<circle clip-path=\"url(#clip182)\" cx=\"323.022\" cy=\"1256.93\" r=\"10\" fill=\"#009af9\" fill-rule=\"evenodd\" fill-opacity=\"0.8\" stroke=\"#000000\" stroke-opacity=\"0.8\" stroke-width=\"3.2\"/>\n",
       "<circle clip-path=\"url(#clip182)\" cx=\"268.614\" cy=\"1134.93\" r=\"10\" fill=\"#009af9\" fill-rule=\"evenodd\" fill-opacity=\"0.8\" stroke=\"#000000\" stroke-opacity=\"0.8\" stroke-width=\"3.2\"/>\n",
       "<circle clip-path=\"url(#clip182)\" cx=\"345.128\" cy=\"1179.55\" r=\"10\" fill=\"#009af9\" fill-rule=\"evenodd\" fill-opacity=\"0.8\" stroke=\"#000000\" stroke-opacity=\"0.8\" stroke-width=\"3.2\"/>\n",
       "<circle clip-path=\"url(#clip182)\" cx=\"572.781\" cy=\"1067.54\" r=\"10\" fill=\"#009af9\" fill-rule=\"evenodd\" fill-opacity=\"0.8\" stroke=\"#000000\" stroke-opacity=\"0.8\" stroke-width=\"3.2\"/>\n",
       "<circle clip-path=\"url(#clip182)\" cx=\"364.366\" cy=\"934.673\" r=\"10\" fill=\"#009af9\" fill-rule=\"evenodd\" fill-opacity=\"0.8\" stroke=\"#000000\" stroke-opacity=\"0.8\" stroke-width=\"3.2\"/>\n",
       "<circle clip-path=\"url(#clip182)\" cx=\"297.648\" cy=\"1173.07\" r=\"10\" fill=\"#009af9\" fill-rule=\"evenodd\" fill-opacity=\"0.8\" stroke=\"#000000\" stroke-opacity=\"0.8\" stroke-width=\"3.2\"/>\n",
       "<circle clip-path=\"url(#clip182)\" cx=\"650.298\" cy=\"1257.27\" r=\"10\" fill=\"#009af9\" fill-rule=\"evenodd\" fill-opacity=\"0.8\" stroke=\"#000000\" stroke-opacity=\"0.8\" stroke-width=\"3.2\"/>\n",
       "<circle clip-path=\"url(#clip182)\" cx=\"1252.28\" cy=\"850.02\" r=\"10\" fill=\"#009af9\" fill-rule=\"evenodd\" fill-opacity=\"0.8\" stroke=\"#000000\" stroke-opacity=\"0.8\" stroke-width=\"3.2\"/>\n",
       "<circle clip-path=\"url(#clip182)\" cx=\"313.168\" cy=\"1235.67\" r=\"10\" fill=\"#009af9\" fill-rule=\"evenodd\" fill-opacity=\"0.8\" stroke=\"#000000\" stroke-opacity=\"0.8\" stroke-width=\"3.2\"/>\n",
       "</svg>\n"
      ]
     },
     "execution_count": 30,
     "metadata": {},
     "output_type": "execute_result"
    }
   ],
   "source": [
    "x = C.population\n",
    "y = C.profit\n",
    "gr()\n",
    "Plots.plot(x, y, seriestype = :scatter, title = \"Scatter Plot\", markersize=3,\n",
    "        alpha=.8,\n",
    "        legend=false, \n",
    "        xlabel=\"Population of City in 10,000s\",\n",
    "        ylabel=\"Prices in 10,000s\")"
   ]
  },
  {
   "cell_type": "markdown",
   "id": "5cbd6e13",
   "metadata": {},
   "source": [
    "### Gradient Descent\n",
    "\n",
    "We will fit the linear regression parameters θ to our dataset using gradient descent.\n",
    "\n",
    "The objective of linear regression is to minimize the cost function\n"
   ]
  },
  {
   "cell_type": "code",
   "execution_count": 31,
   "id": "anonymous-behavior",
   "metadata": {},
   "outputs": [
    {
     "data": {
      "text/plain": [
       "Matrix{Float64} (alias for Array{Float64, 2})"
      ]
     },
     "execution_count": 31,
     "metadata": {},
     "output_type": "execute_result"
    }
   ],
   "source": [
    "m = length(y)\n",
    "x1 = ones(m, 1)\n",
    "X = hcat(x1, x);\n",
    "typeof(X)"
   ]
  },
  {
   "cell_type": "code",
   "execution_count": 32,
   "id": "surface-magic",
   "metadata": {},
   "outputs": [
    {
     "data": {
      "text/plain": [
       "97×2 Matrix{Float64}:\n",
       " 1.0   6.1101\n",
       " 1.0   5.5277\n",
       " 1.0   8.5186\n",
       " 1.0   7.0032\n",
       " 1.0   5.8598\n",
       " 1.0   8.3829\n",
       " 1.0   7.4764\n",
       " 1.0   8.5781\n",
       " 1.0   6.4862\n",
       " 1.0   5.0546\n",
       " 1.0   5.7107\n",
       " 1.0  14.164\n",
       " 1.0   5.734\n",
       " ⋮    \n",
       " 1.0   8.5172\n",
       " 1.0   9.1802\n",
       " 1.0   6.002\n",
       " 1.0   5.5204\n",
       " 1.0   5.0594\n",
       " 1.0   5.7077\n",
       " 1.0   7.6366\n",
       " 1.0   5.8707\n",
       " 1.0   5.3054\n",
       " 1.0   8.2934\n",
       " 1.0  13.394\n",
       " 1.0   5.4369"
      ]
     },
     "execution_count": 32,
     "metadata": {},
     "output_type": "execute_result"
    }
   ],
   "source": [
    "X"
   ]
  },
  {
   "cell_type": "code",
   "execution_count": 33,
   "id": "educated-religious",
   "metadata": {},
   "outputs": [
    {
     "data": {
      "text/plain": [
       "2-element Vector{Float64}:\n",
       " 0.0\n",
       " 0.0"
      ]
     },
     "execution_count": 33,
     "metadata": {},
     "output_type": "execute_result"
    }
   ],
   "source": [
    "thetaInitial = zeros(2)"
   ]
  },
  {
   "cell_type": "code",
   "execution_count": 34,
   "id": "informed-somalia",
   "metadata": {},
   "outputs": [
    {
     "data": {
      "text/plain": [
       "CostFunction (generic function with 1 method)"
      ]
     },
     "execution_count": 34,
     "metadata": {},
     "output_type": "execute_result"
    }
   ],
   "source": [
    "# define cost function J\n",
    "function CostFunction(X, y, theta)\n",
    "    JTheta = (1 / (2 * m)) * (sum((X * theta - y) .^ 2))\n",
    "    return JTheta\n",
    "end"
   ]
  },
  {
   "cell_type": "code",
   "execution_count": 35,
   "id": "retained-webster",
   "metadata": {},
   "outputs": [
    {
     "data": {
      "text/plain": [
       "32.072733877455676"
      ]
     },
     "execution_count": 35,
     "metadata": {},
     "output_type": "execute_result"
    }
   ],
   "source": [
    "CostFunction(X, y, thetaInitial)"
   ]
  },
  {
   "cell_type": "code",
   "execution_count": 36,
   "id": "prospective-processor",
   "metadata": {},
   "outputs": [
    {
     "data": {
      "text/plain": [
       "2-element Vector{Int64}:\n",
       " -1\n",
       "  2"
      ]
     },
     "execution_count": 36,
     "metadata": {},
     "output_type": "execute_result"
    }
   ],
   "source": [
    "theta = [-1, 2]"
   ]
  },
  {
   "cell_type": "code",
   "execution_count": 37,
   "id": "sexual-coral",
   "metadata": {},
   "outputs": [
    {
     "data": {
      "text/plain": [
       "54.242455082012384"
      ]
     },
     "execution_count": 37,
     "metadata": {},
     "output_type": "execute_result"
    }
   ],
   "source": [
    "CostFunction(X, y, theta)"
   ]
  },
  {
   "cell_type": "code",
   "execution_count": 38,
   "id": "behavioral-mapping",
   "metadata": {},
   "outputs": [
    {
     "name": "stdout",
     "output_type": "stream",
     "text": [
      "Parameter theta: [-3.63029143940436, 1.166362350335582]\n",
      "Minimized Cost Function: 4.483388256587726\n",
      "Last Element: (1500, [-3.63029143940436, 1.166362350335582], 4.483388256587726)\n"
     ]
    }
   ],
   "source": [
    "# Gradinet Descent\n",
    "\n",
    "x = C.population\n",
    "y = C.profit\n",
    "iterations = 1500;\n",
    "alpha = 0.01;\n",
    "thetaInitial = zeros(2)\n",
    "result = []\n",
    "\n",
    "# define cost function J\n",
    "function CostFunction(X, y, theta)\n",
    "    JTheta = (1 / (2 * m)) * (sum((X * theta - y) .^ 2))\n",
    "    return JTheta\n",
    "end\n",
    "\n",
    "f(theta::Vector)::Real = CostFunction(X, y, theta)\n",
    "g = x -> ForwardDiff.gradient(f, theta); # g = ∇f\n",
    "\n",
    "theta = thetaInitial\n",
    "\n",
    "for i = 1:iterations\n",
    "    theta = theta - alpha * g(theta)\n",
    "    push!(result, (i, theta, f(theta)))\n",
    "end\n",
    "\n",
    "println(\"Parameter theta: \", theta)\n",
    "println(\"Minimized Cost Function: \", f(theta))\n",
    "println(\"Last Element: \", result[iterations])"
   ]
  },
  {
   "cell_type": "code",
   "execution_count": 39,
   "id": "fitting-bahamas",
   "metadata": {},
   "outputs": [
    {
     "data": {
      "text/plain": [
       "1500-element Vector{Vector{Float64}}:\n",
       " [0.0583913505154639, 0.6532884974555673]\n",
       " [0.06289175271039381, 0.7700097825599365]\n",
       " [0.05782292746142809, 0.7913481156584673]\n",
       " [0.051063625160778114, 0.795729810284954]\n",
       " [0.04401437836500257, 0.7970961782721866]\n",
       " [0.036924131142162586, 0.7979254732843951]\n",
       " [0.029837117577144807, 0.7986582394519285]\n",
       " [0.022761181894038814, 0.7993727912003019]\n",
       " [0.015697699574200114, 0.8000830518518655]\n",
       " [0.00864689622891351, 0.8007914983590768]\n",
       " [0.0016087930989843414, 0.8014985729280016]\n",
       " [-0.005416624870320671, 0.8022043560583255]\n",
       " [-0.012429379151800795, 0.8029088639482521]\n",
       " ⋮\n",
       " [-3.6249697840311965, 1.165827732330318]\n",
       " [-3.62545794697811, 1.1658767735933502]\n",
       " [-3.625945229964535, 1.1659257264548066]\n",
       " [-3.626431634576685, 1.1659745910740398]\n",
       " [-3.626917162397914, 1.1660233676101144]\n",
       " [-3.627401815008721, 1.1660720562218088]\n",
       " [-3.6278855939867567, 1.1661206570676153]\n",
       " [-3.6283685009068285, 1.1661691703057402]\n",
       " [-3.628850537340904, 1.1662175960941048]\n",
       " [-3.6293317048581177, 1.1662659345903454]\n",
       " [-3.6298120050247755, 1.166314185951815]\n",
       " [-3.63029143940436, 1.166362350335582]"
      ]
     },
     "execution_count": 39,
     "metadata": {},
     "output_type": "execute_result"
    }
   ],
   "source": [
    "getindex.(result, 2)"
   ]
  },
  {
   "cell_type": "code",
   "execution_count": 40,
   "id": "intermediate-rhythm",
   "metadata": {
    "scrolled": true
   },
   "outputs": [
    {
     "data": {
      "text/plain": [
       "1500-element Vector{Float64}:\n",
       "  0.0583913505154639\n",
       "  0.06289175271039381\n",
       "  0.05782292746142809\n",
       "  0.051063625160778114\n",
       "  0.04401437836500257\n",
       "  0.036924131142162586\n",
       "  0.029837117577144807\n",
       "  0.022761181894038814\n",
       "  0.015697699574200114\n",
       "  0.00864689622891351\n",
       "  0.0016087930989843414\n",
       " -0.005416624870320671\n",
       " -0.012429379151800795\n",
       "  ⋮\n",
       " -3.6249697840311965\n",
       " -3.62545794697811\n",
       " -3.625945229964535\n",
       " -3.626431634576685\n",
       " -3.626917162397914\n",
       " -3.627401815008721\n",
       " -3.6278855939867567\n",
       " -3.6283685009068285\n",
       " -3.628850537340904\n",
       " -3.6293317048581177\n",
       " -3.6298120050247755\n",
       " -3.63029143940436"
      ]
     },
     "execution_count": 40,
     "metadata": {},
     "output_type": "execute_result"
    }
   ],
   "source": [
    "getindex.(getindex.(result, 2), 1)\n",
    "\n",
    "#getindex.(ThetaHistory, 1)"
   ]
  },
  {
   "cell_type": "code",
   "execution_count": 41,
   "id": "rough-dream",
   "metadata": {},
   "outputs": [
    {
     "data": {
      "text/plain": [
       "2-element Vector{Float64}:\n",
       " -3.63029143940436\n",
       "  1.166362350335582"
      ]
     },
     "execution_count": 41,
     "metadata": {},
     "output_type": "execute_result"
    }
   ],
   "source": [
    "result[iterations][2]"
   ]
  },
  {
   "cell_type": "code",
   "execution_count": 42,
   "id": "advance-publication",
   "metadata": {},
   "outputs": [
    {
     "data": {
      "image/svg+xml": [
       "<?xml version=\"1.0\" encoding=\"utf-8\"?>\n",
       "<svg xmlns=\"http://www.w3.org/2000/svg\" xmlns:xlink=\"http://www.w3.org/1999/xlink\" width=\"600\" height=\"400\" viewBox=\"0 0 2400 1600\">\n",
       "<defs>\n",
       "  <clipPath id=\"clip220\">\n",
       "    <rect x=\"0\" y=\"0\" width=\"2400\" height=\"1600\"/>\n",
       "  </clipPath>\n",
       "</defs>\n",
       "<path clip-path=\"url(#clip220)\" d=\"\n",
       "M0 1600 L2400 1600 L2400 0 L0 0  Z\n",
       "  \" fill=\"#ffffff\" fill-rule=\"evenodd\" fill-opacity=\"1\"/>\n",
       "<defs>\n",
       "  <clipPath id=\"clip221\">\n",
       "    <rect x=\"480\" y=\"0\" width=\"1681\" height=\"1600\"/>\n",
       "  </clipPath>\n",
       "</defs>\n",
       "<path clip-path=\"url(#clip220)\" d=\"\n",
       "M203.964 1423.18 L2352.76 1423.18 L2352.76 123.472 L203.964 123.472  Z\n",
       "  \" fill=\"#ffffff\" fill-rule=\"evenodd\" fill-opacity=\"1\"/>\n",
       "<defs>\n",
       "  <clipPath id=\"clip222\">\n",
       "    <rect x=\"203\" y=\"123\" width=\"2150\" height=\"1301\"/>\n",
       "  </clipPath>\n",
       "</defs>\n",
       "<polyline clip-path=\"url(#clip222)\" style=\"stroke:#000000; stroke-linecap:butt; stroke-linejoin:round; stroke-width:2; stroke-opacity:0.1; fill:none\" points=\"\n",
       "  261.604,1423.18 261.604,123.472 \n",
       "  \"/>\n",
       "<polyline clip-path=\"url(#clip222)\" style=\"stroke:#000000; stroke-linecap:butt; stroke-linejoin:round; stroke-width:2; stroke-opacity:0.1; fill:none\" points=\"\n",
       "  851.715,1423.18 851.715,123.472 \n",
       "  \"/>\n",
       "<polyline clip-path=\"url(#clip222)\" style=\"stroke:#000000; stroke-linecap:butt; stroke-linejoin:round; stroke-width:2; stroke-opacity:0.1; fill:none\" points=\"\n",
       "  1441.83,1423.18 1441.83,123.472 \n",
       "  \"/>\n",
       "<polyline clip-path=\"url(#clip222)\" style=\"stroke:#000000; stroke-linecap:butt; stroke-linejoin:round; stroke-width:2; stroke-opacity:0.1; fill:none\" points=\"\n",
       "  2031.94,1423.18 2031.94,123.472 \n",
       "  \"/>\n",
       "<polyline clip-path=\"url(#clip220)\" style=\"stroke:#000000; stroke-linecap:butt; stroke-linejoin:round; stroke-width:4; stroke-opacity:1; fill:none\" points=\"\n",
       "  203.964,1423.18 2352.76,1423.18 \n",
       "  \"/>\n",
       "<polyline clip-path=\"url(#clip220)\" style=\"stroke:#000000; stroke-linecap:butt; stroke-linejoin:round; stroke-width:4; stroke-opacity:1; fill:none\" points=\"\n",
       "  261.604,1423.18 261.604,1404.28 \n",
       "  \"/>\n",
       "<polyline clip-path=\"url(#clip220)\" style=\"stroke:#000000; stroke-linecap:butt; stroke-linejoin:round; stroke-width:4; stroke-opacity:1; fill:none\" points=\"\n",
       "  851.715,1423.18 851.715,1404.28 \n",
       "  \"/>\n",
       "<polyline clip-path=\"url(#clip220)\" style=\"stroke:#000000; stroke-linecap:butt; stroke-linejoin:round; stroke-width:4; stroke-opacity:1; fill:none\" points=\"\n",
       "  1441.83,1423.18 1441.83,1404.28 \n",
       "  \"/>\n",
       "<polyline clip-path=\"url(#clip220)\" style=\"stroke:#000000; stroke-linecap:butt; stroke-linejoin:round; stroke-width:4; stroke-opacity:1; fill:none\" points=\"\n",
       "  2031.94,1423.18 2031.94,1404.28 \n",
       "  \"/>\n",
       "<path clip-path=\"url(#clip220)\" d=\"M251.881 1451.02 L270.238 1451.02 L270.238 1454.96 L256.164 1454.96 L256.164 1463.43 Q257.182 1463.08 258.201 1462.92 Q259.219 1462.73 260.238 1462.73 Q266.025 1462.73 269.405 1465.9 Q272.784 1469.08 272.784 1474.49 Q272.784 1480.07 269.312 1483.17 Q265.84 1486.25 259.52 1486.25 Q257.344 1486.25 255.076 1485.88 Q252.831 1485.51 250.423 1484.77 L250.423 1480.07 Q252.506 1481.2 254.729 1481.76 Q256.951 1482.32 259.428 1482.32 Q263.432 1482.32 265.77 1480.21 Q268.108 1478.1 268.108 1474.49 Q268.108 1470.88 265.77 1468.77 Q263.432 1466.67 259.428 1466.67 Q257.553 1466.67 255.678 1467.08 Q253.826 1467.5 251.881 1468.38 L251.881 1451.02 Z\" fill=\"#000000\" fill-rule=\"evenodd\" fill-opacity=\"1\" /><path clip-path=\"url(#clip220)\" d=\"M826.403 1481.64 L834.042 1481.64 L834.042 1455.28 L825.731 1456.95 L825.731 1452.69 L833.995 1451.02 L838.671 1451.02 L838.671 1481.64 L846.31 1481.64 L846.31 1485.58 L826.403 1485.58 L826.403 1481.64 Z\" fill=\"#000000\" fill-rule=\"evenodd\" fill-opacity=\"1\" /><path clip-path=\"url(#clip220)\" d=\"M865.754 1454.1 Q862.143 1454.1 860.315 1457.66 Q858.509 1461.2 858.509 1468.33 Q858.509 1475.44 860.315 1479.01 Q862.143 1482.55 865.754 1482.55 Q869.389 1482.55 871.194 1479.01 Q873.023 1475.44 873.023 1468.33 Q873.023 1461.2 871.194 1457.66 Q869.389 1454.1 865.754 1454.1 M865.754 1450.39 Q871.565 1450.39 874.62 1455 Q877.699 1459.58 877.699 1468.33 Q877.699 1477.06 874.62 1481.67 Q871.565 1486.25 865.754 1486.25 Q859.944 1486.25 856.866 1481.67 Q853.81 1477.06 853.81 1468.33 Q853.81 1459.58 856.866 1455 Q859.944 1450.39 865.754 1450.39 Z\" fill=\"#000000\" fill-rule=\"evenodd\" fill-opacity=\"1\" /><path clip-path=\"url(#clip220)\" d=\"M1417.01 1481.64 L1424.65 1481.64 L1424.65 1455.28 L1416.34 1456.95 L1416.34 1452.69 L1424.6 1451.02 L1429.28 1451.02 L1429.28 1481.64 L1436.92 1481.64 L1436.92 1485.58 L1417.01 1485.58 L1417.01 1481.64 Z\" fill=\"#000000\" fill-rule=\"evenodd\" fill-opacity=\"1\" /><path clip-path=\"url(#clip220)\" d=\"M1446.41 1451.02 L1464.77 1451.02 L1464.77 1454.96 L1450.69 1454.96 L1450.69 1463.43 Q1451.71 1463.08 1452.73 1462.92 Q1453.75 1462.73 1454.77 1462.73 Q1460.55 1462.73 1463.93 1465.9 Q1467.31 1469.08 1467.31 1474.49 Q1467.31 1480.07 1463.84 1483.17 Q1460.37 1486.25 1454.05 1486.25 Q1451.87 1486.25 1449.6 1485.88 Q1447.36 1485.51 1444.95 1484.77 L1444.95 1480.07 Q1447.03 1481.2 1449.26 1481.76 Q1451.48 1482.32 1453.96 1482.32 Q1457.96 1482.32 1460.3 1480.21 Q1462.64 1478.1 1462.64 1474.49 Q1462.64 1470.88 1460.3 1468.77 Q1457.96 1466.67 1453.96 1466.67 Q1452.08 1466.67 1450.21 1467.08 Q1448.35 1467.5 1446.41 1468.38 L1446.41 1451.02 Z\" fill=\"#000000\" fill-rule=\"evenodd\" fill-opacity=\"1\" /><path clip-path=\"url(#clip220)\" d=\"M2010.71 1481.64 L2027.03 1481.64 L2027.03 1485.58 L2005.09 1485.58 L2005.09 1481.64 Q2007.75 1478.89 2012.33 1474.26 Q2016.94 1469.61 2018.12 1468.27 Q2020.36 1465.74 2021.24 1464.01 Q2022.15 1462.25 2022.15 1460.56 Q2022.15 1457.8 2020.2 1456.07 Q2018.28 1454.33 2015.18 1454.33 Q2012.98 1454.33 2010.53 1455.09 Q2008.1 1455.86 2005.32 1457.41 L2005.32 1452.69 Q2008.14 1451.55 2010.6 1450.97 Q2013.05 1450.39 2015.09 1450.39 Q2020.46 1450.39 2023.65 1453.08 Q2026.85 1455.77 2026.85 1460.26 Q2026.85 1462.39 2026.04 1464.31 Q2025.25 1466.2 2023.14 1468.8 Q2022.56 1469.47 2019.46 1472.69 Q2016.36 1475.88 2010.71 1481.64 Z\" fill=\"#000000\" fill-rule=\"evenodd\" fill-opacity=\"1\" /><path clip-path=\"url(#clip220)\" d=\"M2046.85 1454.1 Q2043.23 1454.1 2041.41 1457.66 Q2039.6 1461.2 2039.6 1468.33 Q2039.6 1475.44 2041.41 1479.01 Q2043.23 1482.55 2046.85 1482.55 Q2050.48 1482.55 2052.29 1479.01 Q2054.11 1475.44 2054.11 1468.33 Q2054.11 1461.2 2052.29 1457.66 Q2050.48 1454.1 2046.85 1454.1 M2046.85 1450.39 Q2052.66 1450.39 2055.71 1455 Q2058.79 1459.58 2058.79 1468.33 Q2058.79 1477.06 2055.71 1481.67 Q2052.66 1486.25 2046.85 1486.25 Q2041.04 1486.25 2037.96 1481.67 Q2034.9 1477.06 2034.9 1468.33 Q2034.9 1459.58 2037.96 1455 Q2041.04 1450.39 2046.85 1450.39 Z\" fill=\"#000000\" fill-rule=\"evenodd\" fill-opacity=\"1\" /><path clip-path=\"url(#clip220)\" d=\"M820.872 1525.81 L820.872 1543.66 L828.957 1543.66 Q833.445 1543.66 835.895 1541.34 Q838.346 1539.02 838.346 1534.72 Q838.346 1530.45 835.895 1528.13 Q833.445 1525.81 828.957 1525.81 L820.872 1525.81 M814.443 1520.52 L828.957 1520.52 Q836.946 1520.52 841.02 1524.15 Q845.126 1527.75 845.126 1534.72 Q845.126 1541.75 841.02 1545.35 Q836.946 1548.95 828.957 1548.95 L820.872 1548.95 L820.872 1568.04 L814.443 1568.04 L814.443 1520.52 Z\" fill=\"#000000\" fill-rule=\"evenodd\" fill-opacity=\"1\" /><path clip-path=\"url(#clip220)\" d=\"M864.987 1536.5 Q860.276 1536.5 857.539 1540.19 Q854.802 1543.85 854.802 1550.25 Q854.802 1556.65 857.507 1560.34 Q860.244 1564 864.987 1564 Q869.665 1564 872.403 1560.31 Q875.14 1556.62 875.14 1550.25 Q875.14 1543.92 872.403 1540.23 Q869.665 1536.5 864.987 1536.5 M864.987 1531.54 Q872.626 1531.54 876.986 1536.5 Q881.347 1541.47 881.347 1550.25 Q881.347 1559 876.986 1564 Q872.626 1568.97 864.987 1568.97 Q857.316 1568.97 852.955 1564 Q848.627 1559 848.627 1550.25 Q848.627 1541.47 852.955 1536.5 Q857.316 1531.54 864.987 1531.54 Z\" fill=\"#000000\" fill-rule=\"evenodd\" fill-opacity=\"1\" /><path clip-path=\"url(#clip220)\" d=\"M896.72 1562.7 L896.72 1581.6 L890.831 1581.6 L890.831 1532.4 L896.72 1532.4 L896.72 1537.81 Q898.566 1534.62 901.367 1533.1 Q904.199 1531.54 908.114 1531.54 Q914.607 1531.54 918.65 1536.69 Q922.724 1541.85 922.724 1550.25 Q922.724 1558.65 918.65 1563.81 Q914.607 1568.97 908.114 1568.97 Q904.199 1568.97 901.367 1567.44 Q898.566 1565.88 896.72 1562.7 M916.644 1550.25 Q916.644 1543.79 913.971 1540.13 Q911.329 1536.44 906.682 1536.44 Q902.035 1536.44 899.361 1540.13 Q896.72 1543.79 896.72 1550.25 Q896.72 1556.71 899.361 1560.4 Q902.035 1564.07 906.682 1564.07 Q911.329 1564.07 913.971 1560.4 Q916.644 1556.71 916.644 1550.25 Z\" fill=\"#000000\" fill-rule=\"evenodd\" fill-opacity=\"1\" /><path clip-path=\"url(#clip220)\" d=\"M931.827 1553.98 L931.827 1532.4 L937.683 1532.4 L937.683 1553.75 Q937.683 1558.81 939.656 1561.36 Q941.63 1563.87 945.577 1563.87 Q950.319 1563.87 953.056 1560.85 Q955.825 1557.83 955.825 1552.61 L955.825 1532.4 L961.682 1532.4 L961.682 1568.04 L955.825 1568.04 L955.825 1562.57 Q953.693 1565.82 950.86 1567.41 Q948.059 1568.97 944.335 1568.97 Q938.192 1568.97 935.009 1565.15 Q931.827 1561.33 931.827 1553.98 M946.563 1531.54 L946.563 1531.54 Z\" fill=\"#000000\" fill-rule=\"evenodd\" fill-opacity=\"1\" /><path clip-path=\"url(#clip220)\" d=\"M973.745 1518.52 L979.601 1518.52 L979.601 1568.04 L973.745 1568.04 L973.745 1518.52 Z\" fill=\"#000000\" fill-rule=\"evenodd\" fill-opacity=\"1\" /><path clip-path=\"url(#clip220)\" d=\"M1008.06 1550.12 Q1000.96 1550.12 998.221 1551.75 Q995.484 1553.37 995.484 1557.29 Q995.484 1560.4 997.521 1562.25 Q999.59 1564.07 1003.12 1564.07 Q1007.99 1564.07 1010.92 1560.63 Q1013.88 1557.16 1013.88 1551.43 L1013.88 1550.12 L1008.06 1550.12 M1019.74 1547.71 L1019.74 1568.04 L1013.88 1568.04 L1013.88 1562.63 Q1011.88 1565.88 1008.88 1567.44 Q1005.89 1568.97 1001.56 1568.97 Q996.088 1568.97 992.842 1565.91 Q989.627 1562.82 989.627 1557.67 Q989.627 1551.65 993.638 1548.6 Q997.68 1545.54 1005.67 1545.54 L1013.88 1545.54 L1013.88 1544.97 Q1013.88 1540.93 1011.21 1538.73 Q1008.57 1536.5 1003.76 1536.5 Q1000.7 1536.5 997.807 1537.23 Q994.911 1537.97 992.237 1539.43 L992.237 1534.02 Q995.452 1532.78 998.476 1532.17 Q1001.5 1531.54 1004.36 1531.54 Q1012.1 1531.54 1015.92 1535.55 Q1019.74 1539.56 1019.74 1547.71 Z\" fill=\"#000000\" fill-rule=\"evenodd\" fill-opacity=\"1\" /><path clip-path=\"url(#clip220)\" d=\"M1037.59 1522.27 L1037.59 1532.4 L1049.66 1532.4 L1049.66 1536.95 L1037.59 1536.95 L1037.59 1556.3 Q1037.59 1560.66 1038.77 1561.9 Q1039.98 1563.14 1043.64 1563.14 L1049.66 1563.14 L1049.66 1568.04 L1043.64 1568.04 Q1036.86 1568.04 1034.28 1565.53 Q1031.7 1562.98 1031.7 1556.3 L1031.7 1536.95 L1027.41 1536.95 L1027.41 1532.4 L1031.7 1532.4 L1031.7 1522.27 L1037.59 1522.27 Z\" fill=\"#000000\" fill-rule=\"evenodd\" fill-opacity=\"1\" /><path clip-path=\"url(#clip220)\" d=\"M1057.36 1532.4 L1063.21 1532.4 L1063.21 1568.04 L1057.36 1568.04 L1057.36 1532.4 M1057.36 1518.52 L1063.21 1518.52 L1063.21 1525.93 L1057.36 1525.93 L1057.36 1518.52 Z\" fill=\"#000000\" fill-rule=\"evenodd\" fill-opacity=\"1\" /><path clip-path=\"url(#clip220)\" d=\"M1089.28 1536.5 Q1084.57 1536.5 1081.83 1540.19 Q1079.1 1543.85 1079.1 1550.25 Q1079.1 1556.65 1081.8 1560.34 Q1084.54 1564 1089.28 1564 Q1093.96 1564 1096.7 1560.31 Q1099.44 1556.62 1099.44 1550.25 Q1099.44 1543.92 1096.7 1540.23 Q1093.96 1536.5 1089.28 1536.5 M1089.28 1531.54 Q1096.92 1531.54 1101.28 1536.5 Q1105.64 1541.47 1105.64 1550.25 Q1105.64 1559 1101.28 1564 Q1096.92 1568.97 1089.28 1568.97 Q1081.61 1568.97 1077.25 1564 Q1072.92 1559 1072.92 1550.25 Q1072.92 1541.47 1077.25 1536.5 Q1081.61 1531.54 1089.28 1531.54 Z\" fill=\"#000000\" fill-rule=\"evenodd\" fill-opacity=\"1\" /><path clip-path=\"url(#clip220)\" d=\"M1144.98 1546.53 L1144.98 1568.04 L1139.13 1568.04 L1139.13 1546.72 Q1139.13 1541.66 1137.15 1539.14 Q1135.18 1536.63 1131.23 1536.63 Q1126.49 1536.63 1123.75 1539.65 Q1121.02 1542.68 1121.02 1547.9 L1121.02 1568.04 L1115.13 1568.04 L1115.13 1532.4 L1121.02 1532.4 L1121.02 1537.93 Q1123.12 1534.72 1125.95 1533.13 Q1128.81 1531.54 1132.54 1531.54 Q1138.68 1531.54 1141.83 1535.36 Q1144.98 1539.14 1144.98 1546.53 Z\" fill=\"#000000\" fill-rule=\"evenodd\" fill-opacity=\"1\" /><path clip-path=\"url(#clip220)\" d=\"M1191.2 1536.5 Q1186.49 1536.5 1183.75 1540.19 Q1181.01 1543.85 1181.01 1550.25 Q1181.01 1556.65 1183.72 1560.34 Q1186.45 1564 1191.2 1564 Q1195.88 1564 1198.61 1560.31 Q1201.35 1556.62 1201.35 1550.25 Q1201.35 1543.92 1198.61 1540.23 Q1195.88 1536.5 1191.2 1536.5 M1191.2 1531.54 Q1198.84 1531.54 1203.2 1536.5 Q1207.56 1541.47 1207.56 1550.25 Q1207.56 1559 1203.2 1564 Q1198.84 1568.97 1191.2 1568.97 Q1183.53 1568.97 1179.17 1564 Q1174.84 1559 1174.84 1550.25 Q1174.84 1541.47 1179.17 1536.5 Q1183.53 1531.54 1191.2 1531.54 Z\" fill=\"#000000\" fill-rule=\"evenodd\" fill-opacity=\"1\" /><path clip-path=\"url(#clip220)\" d=\"M1235.31 1518.52 L1235.31 1523.39 L1229.71 1523.39 Q1226.56 1523.39 1225.32 1524.66 Q1224.11 1525.93 1224.11 1529.24 L1224.11 1532.4 L1233.75 1532.4 L1233.75 1536.95 L1224.11 1536.95 L1224.11 1568.04 L1218.22 1568.04 L1218.22 1536.95 L1212.62 1536.95 L1212.62 1532.4 L1218.22 1532.4 L1218.22 1529.91 Q1218.22 1523.96 1220.99 1521.26 Q1223.76 1518.52 1229.77 1518.52 L1235.31 1518.52 Z\" fill=\"#000000\" fill-rule=\"evenodd\" fill-opacity=\"1\" /><path clip-path=\"url(#clip220)\" d=\"M1296.77 1524.18 L1296.77 1530.96 Q1293.53 1527.94 1289.83 1526.44 Q1286.17 1524.95 1282.04 1524.95 Q1273.89 1524.95 1269.56 1529.95 Q1265.23 1534.91 1265.23 1544.33 Q1265.23 1553.72 1269.56 1558.72 Q1273.89 1563.68 1282.04 1563.68 Q1286.17 1563.68 1289.83 1562.19 Q1293.53 1560.69 1296.77 1557.67 L1296.77 1564.38 Q1293.4 1566.68 1289.61 1567.82 Q1285.86 1568.97 1281.65 1568.97 Q1270.86 1568.97 1264.66 1562.38 Q1258.45 1555.76 1258.45 1544.33 Q1258.45 1532.87 1264.66 1526.28 Q1270.86 1519.66 1281.65 1519.66 Q1285.92 1519.66 1289.67 1520.81 Q1293.46 1521.92 1296.77 1524.18 Z\" fill=\"#000000\" fill-rule=\"evenodd\" fill-opacity=\"1\" /><path clip-path=\"url(#clip220)\" d=\"M1306.45 1532.4 L1312.3 1532.4 L1312.3 1568.04 L1306.45 1568.04 L1306.45 1532.4 M1306.45 1518.52 L1312.3 1518.52 L1312.3 1525.93 L1306.45 1525.93 L1306.45 1518.52 Z\" fill=\"#000000\" fill-rule=\"evenodd\" fill-opacity=\"1\" /><path clip-path=\"url(#clip220)\" d=\"M1330.35 1522.27 L1330.35 1532.4 L1342.41 1532.4 L1342.41 1536.95 L1330.35 1536.95 L1330.35 1556.3 Q1330.35 1560.66 1331.53 1561.9 Q1332.74 1563.14 1336.4 1563.14 L1342.41 1563.14 L1342.41 1568.04 L1336.4 1568.04 Q1329.62 1568.04 1327.04 1565.53 Q1324.46 1562.98 1324.46 1556.3 L1324.46 1536.95 L1320.17 1536.95 L1320.17 1532.4 L1324.46 1532.4 L1324.46 1522.27 L1330.35 1522.27 Z\" fill=\"#000000\" fill-rule=\"evenodd\" fill-opacity=\"1\" /><path clip-path=\"url(#clip220)\" d=\"M1364.95 1571.35 Q1362.47 1577.72 1360.11 1579.66 Q1357.76 1581.6 1353.81 1581.6 L1349.13 1581.6 L1349.13 1576.7 L1352.57 1576.7 Q1354.99 1576.7 1356.32 1575.56 Q1357.66 1574.41 1359.28 1570.14 L1360.33 1567.47 L1345.92 1532.4 L1352.12 1532.4 L1363.26 1560.28 L1374.4 1532.4 L1380.61 1532.4 L1364.95 1571.35 Z\" fill=\"#000000\" fill-rule=\"evenodd\" fill-opacity=\"1\" /><path clip-path=\"url(#clip220)\" d=\"M1409.41 1532.4 L1415.27 1532.4 L1415.27 1568.04 L1409.41 1568.04 L1409.41 1532.4 M1409.41 1518.52 L1415.27 1518.52 L1415.27 1525.93 L1409.41 1525.93 L1409.41 1518.52 Z\" fill=\"#000000\" fill-rule=\"evenodd\" fill-opacity=\"1\" /><path clip-path=\"url(#clip220)\" d=\"M1457.16 1546.53 L1457.16 1568.04 L1451.3 1568.04 L1451.3 1546.72 Q1451.3 1541.66 1449.33 1539.14 Q1447.35 1536.63 1443.41 1536.63 Q1438.66 1536.63 1435.93 1539.65 Q1433.19 1542.68 1433.19 1547.9 L1433.19 1568.04 L1427.3 1568.04 L1427.3 1532.4 L1433.19 1532.4 L1433.19 1537.93 Q1435.29 1534.72 1438.12 1533.13 Q1440.99 1531.54 1444.71 1531.54 Q1450.85 1531.54 1454.01 1535.36 Q1457.16 1539.14 1457.16 1546.53 Z\" fill=\"#000000\" fill-rule=\"evenodd\" fill-opacity=\"1\" /><path clip-path=\"url(#clip220)\" d=\"M1491.5 1562.63 L1502 1562.63 L1502 1526.38 L1490.58 1528.67 L1490.58 1522.82 L1501.94 1520.52 L1508.37 1520.52 L1508.37 1562.63 L1518.87 1562.63 L1518.87 1568.04 L1491.5 1568.04 L1491.5 1562.63 Z\" fill=\"#000000\" fill-rule=\"evenodd\" fill-opacity=\"1\" /><path clip-path=\"url(#clip220)\" d=\"M1545.61 1524.76 Q1540.64 1524.76 1538.13 1529.66 Q1535.65 1534.53 1535.65 1544.33 Q1535.65 1554.1 1538.13 1559 Q1540.64 1563.87 1545.61 1563.87 Q1550.61 1563.87 1553.09 1559 Q1555.6 1554.1 1555.6 1544.33 Q1555.6 1534.53 1553.09 1529.66 Q1550.61 1524.76 1545.61 1524.76 M1545.61 1519.66 Q1553.6 1519.66 1557.8 1526 Q1562.03 1532.3 1562.03 1544.33 Q1562.03 1556.33 1557.8 1562.66 Q1553.6 1568.97 1545.61 1568.97 Q1537.62 1568.97 1533.39 1562.66 Q1529.18 1556.33 1529.18 1544.33 Q1529.18 1532.3 1533.39 1526 Q1537.62 1519.66 1545.61 1519.66 Z\" fill=\"#000000\" fill-rule=\"evenodd\" fill-opacity=\"1\" /><path clip-path=\"url(#clip220)\" d=\"M1574 1559.96 L1580.71 1559.96 L1580.71 1565.43 L1575.5 1575.62 L1571.39 1575.62 L1574 1565.43 L1574 1559.96 Z\" fill=\"#000000\" fill-rule=\"evenodd\" fill-opacity=\"1\" /><path clip-path=\"url(#clip220)\" d=\"M1607.8 1524.76 Q1602.84 1524.76 1600.32 1529.66 Q1597.84 1534.53 1597.84 1544.33 Q1597.84 1554.1 1600.32 1559 Q1602.84 1563.87 1607.8 1563.87 Q1612.8 1563.87 1615.28 1559 Q1617.8 1554.1 1617.8 1544.33 Q1617.8 1534.53 1615.28 1529.66 Q1612.8 1524.76 1607.8 1524.76 M1607.8 1519.66 Q1615.79 1519.66 1619.99 1526 Q1624.22 1532.3 1624.22 1544.33 Q1624.22 1556.33 1619.99 1562.66 Q1615.79 1568.97 1607.8 1568.97 Q1599.81 1568.97 1595.58 1562.66 Q1591.38 1556.33 1591.38 1544.33 Q1591.38 1532.3 1595.58 1526 Q1599.81 1519.66 1607.8 1519.66 Z\" fill=\"#000000\" fill-rule=\"evenodd\" fill-opacity=\"1\" /><path clip-path=\"url(#clip220)\" d=\"M1649.27 1524.76 Q1644.31 1524.76 1641.79 1529.66 Q1639.31 1534.53 1639.31 1544.33 Q1639.31 1554.1 1641.79 1559 Q1644.31 1563.87 1649.27 1563.87 Q1654.27 1563.87 1656.75 1559 Q1659.27 1554.1 1659.27 1544.33 Q1659.27 1534.53 1656.75 1529.66 Q1654.27 1524.76 1649.27 1524.76 M1649.27 1519.66 Q1657.26 1519.66 1661.46 1526 Q1665.7 1532.3 1665.7 1544.33 Q1665.7 1556.33 1661.46 1562.66 Q1657.26 1568.97 1649.27 1568.97 Q1641.28 1568.97 1637.05 1562.66 Q1632.85 1556.33 1632.85 1544.33 Q1632.85 1532.3 1637.05 1526 Q1641.28 1519.66 1649.27 1519.66 Z\" fill=\"#000000\" fill-rule=\"evenodd\" fill-opacity=\"1\" /><path clip-path=\"url(#clip220)\" d=\"M1690.75 1524.76 Q1685.78 1524.76 1683.27 1529.66 Q1680.78 1534.53 1680.78 1544.33 Q1680.78 1554.1 1683.27 1559 Q1685.78 1563.87 1690.75 1563.87 Q1695.74 1563.87 1698.23 1559 Q1700.74 1554.1 1700.74 1544.33 Q1700.74 1534.53 1698.23 1529.66 Q1695.74 1524.76 1690.75 1524.76 M1690.75 1519.66 Q1698.74 1519.66 1702.94 1526 Q1707.17 1532.3 1707.17 1544.33 Q1707.17 1556.33 1702.94 1562.66 Q1698.74 1568.97 1690.75 1568.97 Q1682.76 1568.97 1678.52 1562.66 Q1674.32 1556.33 1674.32 1544.33 Q1674.32 1532.3 1678.52 1526 Q1682.76 1519.66 1690.75 1519.66 Z\" fill=\"#000000\" fill-rule=\"evenodd\" fill-opacity=\"1\" /><path clip-path=\"url(#clip220)\" d=\"M1740.37 1533.45 L1740.37 1538.98 Q1737.88 1537.71 1735.21 1537.07 Q1732.54 1536.44 1729.67 1536.44 Q1725.31 1536.44 1723.12 1537.77 Q1720.95 1539.11 1720.95 1541.79 Q1720.95 1543.82 1722.51 1545 Q1724.07 1546.15 1728.78 1547.2 L1730.79 1547.64 Q1737.02 1548.98 1739.63 1551.43 Q1742.28 1553.85 1742.28 1558.21 Q1742.28 1563.17 1738.33 1566.07 Q1734.41 1568.97 1727.54 1568.97 Q1724.68 1568.97 1721.56 1568.39 Q1718.47 1567.85 1715.03 1566.74 L1715.03 1560.69 Q1718.28 1562.38 1721.43 1563.24 Q1724.58 1564.07 1727.67 1564.07 Q1731.8 1564.07 1734.03 1562.66 Q1736.26 1561.23 1736.26 1558.65 Q1736.26 1556.27 1734.64 1554.99 Q1733.05 1553.72 1727.6 1552.54 L1725.57 1552.07 Q1720.12 1550.92 1717.7 1548.56 Q1715.29 1546.18 1715.29 1542.04 Q1715.29 1537.01 1718.85 1534.27 Q1722.42 1531.54 1728.97 1531.54 Q1732.22 1531.54 1735.08 1532.01 Q1737.95 1532.49 1740.37 1533.45 Z\" fill=\"#000000\" fill-rule=\"evenodd\" fill-opacity=\"1\" /><polyline clip-path=\"url(#clip222)\" style=\"stroke:#000000; stroke-linecap:butt; stroke-linejoin:round; stroke-width:2; stroke-opacity:0.1; fill:none\" points=\"\n",
       "  203.964,1263.88 2352.76,1263.88 \n",
       "  \"/>\n",
       "<polyline clip-path=\"url(#clip222)\" style=\"stroke:#000000; stroke-linecap:butt; stroke-linejoin:round; stroke-width:2; stroke-opacity:0.1; fill:none\" points=\"\n",
       "  203.964,1035.36 2352.76,1035.36 \n",
       "  \"/>\n",
       "<polyline clip-path=\"url(#clip222)\" style=\"stroke:#000000; stroke-linecap:butt; stroke-linejoin:round; stroke-width:2; stroke-opacity:0.1; fill:none\" points=\"\n",
       "  203.964,806.834 2352.76,806.834 \n",
       "  \"/>\n",
       "<polyline clip-path=\"url(#clip222)\" style=\"stroke:#000000; stroke-linecap:butt; stroke-linejoin:round; stroke-width:2; stroke-opacity:0.1; fill:none\" points=\"\n",
       "  203.964,578.313 2352.76,578.313 \n",
       "  \"/>\n",
       "<polyline clip-path=\"url(#clip222)\" style=\"stroke:#000000; stroke-linecap:butt; stroke-linejoin:round; stroke-width:2; stroke-opacity:0.1; fill:none\" points=\"\n",
       "  203.964,349.792 2352.76,349.792 \n",
       "  \"/>\n",
       "<polyline clip-path=\"url(#clip220)\" style=\"stroke:#000000; stroke-linecap:butt; stroke-linejoin:round; stroke-width:4; stroke-opacity:1; fill:none\" points=\"\n",
       "  203.964,1423.18 203.964,123.472 \n",
       "  \"/>\n",
       "<polyline clip-path=\"url(#clip220)\" style=\"stroke:#000000; stroke-linecap:butt; stroke-linejoin:round; stroke-width:4; stroke-opacity:1; fill:none\" points=\"\n",
       "  203.964,1263.88 222.861,1263.88 \n",
       "  \"/>\n",
       "<polyline clip-path=\"url(#clip220)\" style=\"stroke:#000000; stroke-linecap:butt; stroke-linejoin:round; stroke-width:4; stroke-opacity:1; fill:none\" points=\"\n",
       "  203.964,1035.36 222.861,1035.36 \n",
       "  \"/>\n",
       "<polyline clip-path=\"url(#clip220)\" style=\"stroke:#000000; stroke-linecap:butt; stroke-linejoin:round; stroke-width:4; stroke-opacity:1; fill:none\" points=\"\n",
       "  203.964,806.834 222.861,806.834 \n",
       "  \"/>\n",
       "<polyline clip-path=\"url(#clip220)\" style=\"stroke:#000000; stroke-linecap:butt; stroke-linejoin:round; stroke-width:4; stroke-opacity:1; fill:none\" points=\"\n",
       "  203.964,578.313 222.861,578.313 \n",
       "  \"/>\n",
       "<polyline clip-path=\"url(#clip220)\" style=\"stroke:#000000; stroke-linecap:butt; stroke-linejoin:round; stroke-width:4; stroke-opacity:1; fill:none\" points=\"\n",
       "  203.964,349.792 222.861,349.792 \n",
       "  \"/>\n",
       "<path clip-path=\"url(#clip220)\" d=\"M156.019 1249.68 Q152.408 1249.68 150.579 1253.24 Q148.774 1256.78 148.774 1263.91 Q148.774 1271.02 150.579 1274.58 Q152.408 1278.12 156.019 1278.12 Q159.653 1278.12 161.459 1274.58 Q163.288 1271.02 163.288 1263.91 Q163.288 1256.78 161.459 1253.24 Q159.653 1249.68 156.019 1249.68 M156.019 1245.97 Q161.829 1245.97 164.885 1250.58 Q167.964 1255.16 167.964 1263.91 Q167.964 1272.64 164.885 1277.24 Q161.829 1281.83 156.019 1281.83 Q150.209 1281.83 147.13 1277.24 Q144.075 1272.64 144.075 1263.91 Q144.075 1255.16 147.13 1250.58 Q150.209 1245.97 156.019 1245.97 Z\" fill=\"#000000\" fill-rule=\"evenodd\" fill-opacity=\"1\" /><path clip-path=\"url(#clip220)\" d=\"M147.061 1018.08 L165.417 1018.08 L165.417 1022.01 L151.343 1022.01 L151.343 1030.48 Q152.362 1030.14 153.38 1029.97 Q154.399 1029.79 155.417 1029.79 Q161.204 1029.79 164.584 1032.96 Q167.964 1036.13 167.964 1041.55 Q167.964 1047.13 164.491 1050.23 Q161.019 1053.31 154.7 1053.31 Q152.524 1053.31 150.255 1052.94 Q148.01 1052.57 145.603 1051.83 L145.603 1047.13 Q147.686 1048.26 149.908 1048.82 Q152.13 1049.37 154.607 1049.37 Q158.612 1049.37 160.95 1047.26 Q163.288 1045.16 163.288 1041.55 Q163.288 1037.94 160.95 1035.83 Q158.612 1033.72 154.607 1033.72 Q152.732 1033.72 150.857 1034.14 Q149.005 1034.56 147.061 1035.44 L147.061 1018.08 Z\" fill=\"#000000\" fill-rule=\"evenodd\" fill-opacity=\"1\" /><path clip-path=\"url(#clip220)\" d=\"M116.668 820.179 L124.306 820.179 L124.306 793.813 L115.996 795.48 L115.996 791.221 L124.26 789.554 L128.936 789.554 L128.936 820.179 L136.575 820.179 L136.575 824.114 L116.668 824.114 L116.668 820.179 Z\" fill=\"#000000\" fill-rule=\"evenodd\" fill-opacity=\"1\" /><path clip-path=\"url(#clip220)\" d=\"M156.019 792.633 Q152.408 792.633 150.579 796.198 Q148.774 799.739 148.774 806.869 Q148.774 813.975 150.579 817.54 Q152.408 821.082 156.019 821.082 Q159.653 821.082 161.459 817.54 Q163.288 813.975 163.288 806.869 Q163.288 799.739 161.459 796.198 Q159.653 792.633 156.019 792.633 M156.019 788.929 Q161.829 788.929 164.885 793.536 Q167.964 798.119 167.964 806.869 Q167.964 815.596 164.885 820.202 Q161.829 824.785 156.019 824.785 Q150.209 824.785 147.13 820.202 Q144.075 815.596 144.075 806.869 Q144.075 798.119 147.13 793.536 Q150.209 788.929 156.019 788.929 Z\" fill=\"#000000\" fill-rule=\"evenodd\" fill-opacity=\"1\" /><path clip-path=\"url(#clip220)\" d=\"M117.663 591.658 L125.302 591.658 L125.302 565.292 L116.992 566.959 L116.992 562.7 L125.255 561.033 L129.931 561.033 L129.931 591.658 L137.57 591.658 L137.57 595.593 L117.663 595.593 L117.663 591.658 Z\" fill=\"#000000\" fill-rule=\"evenodd\" fill-opacity=\"1\" /><path clip-path=\"url(#clip220)\" d=\"M147.061 561.033 L165.417 561.033 L165.417 564.968 L151.343 564.968 L151.343 573.44 Q152.362 573.093 153.38 572.931 Q154.399 572.746 155.417 572.746 Q161.204 572.746 164.584 575.917 Q167.964 579.088 167.964 584.505 Q167.964 590.084 164.491 593.185 Q161.019 596.264 154.7 596.264 Q152.524 596.264 150.255 595.894 Q148.01 595.523 145.603 594.783 L145.603 590.084 Q147.686 591.218 149.908 591.773 Q152.13 592.329 154.607 592.329 Q158.612 592.329 160.95 590.223 Q163.288 588.116 163.288 584.505 Q163.288 580.894 160.95 578.787 Q158.612 576.681 154.607 576.681 Q152.732 576.681 150.857 577.098 Q149.005 577.514 147.061 578.394 L147.061 561.033 Z\" fill=\"#000000\" fill-rule=\"evenodd\" fill-opacity=\"1\" /><path clip-path=\"url(#clip220)\" d=\"M119.885 363.137 L136.204 363.137 L136.204 367.072 L114.26 367.072 L114.26 363.137 Q116.922 360.382 121.505 355.752 Q126.112 351.1 127.292 349.757 Q129.538 347.234 130.417 345.498 Q131.32 343.739 131.32 342.049 Q131.32 339.294 129.376 337.558 Q127.455 335.822 124.353 335.822 Q122.154 335.822 119.7 336.586 Q117.269 337.35 114.492 338.901 L114.492 334.178 Q117.316 333.044 119.769 332.465 Q122.223 331.887 124.26 331.887 Q129.63 331.887 132.825 334.572 Q136.019 337.257 136.019 341.748 Q136.019 343.877 135.209 345.799 Q134.422 347.697 132.316 350.289 Q131.737 350.961 128.635 354.178 Q125.533 357.373 119.885 363.137 Z\" fill=\"#000000\" fill-rule=\"evenodd\" fill-opacity=\"1\" /><path clip-path=\"url(#clip220)\" d=\"M156.019 335.59 Q152.408 335.59 150.579 339.155 Q148.774 342.697 148.774 349.826 Q148.774 356.933 150.579 360.498 Q152.408 364.039 156.019 364.039 Q159.653 364.039 161.459 360.498 Q163.288 356.933 163.288 349.826 Q163.288 342.697 161.459 339.155 Q159.653 335.59 156.019 335.59 M156.019 331.887 Q161.829 331.887 164.885 336.493 Q167.964 341.077 167.964 349.826 Q167.964 358.553 164.885 363.16 Q161.829 367.743 156.019 367.743 Q150.209 367.743 147.13 363.16 Q144.075 358.553 144.075 349.826 Q144.075 341.077 147.13 336.493 Q150.209 331.887 156.019 331.887 Z\" fill=\"#000000\" fill-rule=\"evenodd\" fill-opacity=\"1\" /><path clip-path=\"url(#clip220)\" d=\"M21.7677 1040.05 L39.6235 1040.05 L39.6235 1031.96 Q39.6235 1027.48 37.3 1025.03 Q34.9765 1022.58 30.6797 1022.58 Q26.4147 1022.58 24.0912 1025.03 Q21.7677 1027.48 21.7677 1031.96 L21.7677 1040.05 M16.4842 1046.48 L16.4842 1031.96 Q16.4842 1023.98 20.1126 1019.9 Q23.7092 1015.8 30.6797 1015.8 Q37.7138 1015.8 41.3104 1019.9 Q44.907 1023.98 44.907 1031.96 L44.907 1040.05 L64.0042 1040.05 L64.0042 1046.48 L16.4842 1046.48 Z\" fill=\"#000000\" fill-rule=\"evenodd\" fill-opacity=\"1\" /><path clip-path=\"url(#clip220)\" d=\"M33.8307 987.914 Q33.2578 988.901 33.0032 990.078 Q32.7167 991.224 32.7167 992.625 Q32.7167 997.59 35.9632 1000.26 Q39.1779 1002.91 45.2253 1002.91 L64.0042 1002.91 L64.0042 1008.79 L28.3562 1008.79 L28.3562 1002.91 L33.8944 1002.91 Q30.6479 1001.06 29.0883 998.099 Q27.4968 995.139 27.4968 990.906 Q27.4968 990.301 27.5923 989.569 Q27.656 988.837 27.8151 987.946 L33.8307 987.914 Z\" fill=\"#000000\" fill-rule=\"evenodd\" fill-opacity=\"1\" /><path clip-path=\"url(#clip220)\" d=\"M28.3562 981.771 L28.3562 975.915 L64.0042 975.915 L64.0042 981.771 L28.3562 981.771 M14.479 981.771 L14.479 975.915 L21.895 975.915 L21.895 981.771 L14.479 981.771 Z\" fill=\"#000000\" fill-rule=\"evenodd\" fill-opacity=\"1\" /><path clip-path=\"url(#clip220)\" d=\"M29.7248 938.007 L35.1993 938.007 Q33.8307 940.489 33.1623 943.004 Q32.4621 945.487 32.4621 948.033 Q32.4621 953.73 36.0905 956.881 Q39.6872 960.032 46.212 960.032 Q52.7369 960.032 56.3653 956.881 Q59.9619 953.73 59.9619 948.033 Q59.9619 945.487 59.2935 943.004 Q58.5933 940.489 57.2247 938.007 L62.6355 938.007 Q63.7814 940.458 64.3543 943.099 Q64.9272 945.709 64.9272 948.669 Q64.9272 956.722 59.8664 961.464 Q54.8057 966.207 46.212 966.207 Q37.491 966.207 32.4939 961.433 Q27.4968 956.627 27.4968 948.287 Q27.4968 945.582 28.0697 943.004 Q28.6108 940.426 29.7248 938.007 Z\" fill=\"#000000\" fill-rule=\"evenodd\" fill-opacity=\"1\" /><path clip-path=\"url(#clip220)\" d=\"M44.7161 897.33 L47.5806 897.33 L47.5806 924.257 Q53.6281 923.875 56.8109 920.628 Q59.9619 917.35 59.9619 911.525 Q59.9619 908.152 59.1344 905.001 Q58.3069 901.818 56.6518 898.699 L62.1899 898.699 Q63.5267 901.85 64.227 905.16 Q64.9272 908.47 64.9272 911.876 Q64.9272 920.406 59.9619 925.403 Q54.9967 930.368 46.5303 930.368 Q37.7774 930.368 32.6531 925.657 Q27.4968 920.915 27.4968 912.894 Q27.4968 905.701 32.1438 901.531 Q36.7589 897.33 44.7161 897.33 M42.9973 903.186 Q38.1912 903.25 35.3266 905.892 Q32.4621 908.502 32.4621 912.83 Q32.4621 917.732 35.2312 920.692 Q38.0002 923.62 43.0292 924.066 L42.9973 903.186 Z\" fill=\"#000000\" fill-rule=\"evenodd\" fill-opacity=\"1\" /><path clip-path=\"url(#clip220)\" d=\"M29.4065 864.992 L34.9447 864.992 Q33.6716 867.475 33.035 870.148 Q32.3984 872.822 32.3984 875.687 Q32.3984 880.047 33.7352 882.243 Q35.072 884.408 37.7456 884.408 Q39.7826 884.408 40.9603 882.848 Q42.1061 881.288 43.1565 876.578 L43.6021 874.573 Q44.9389 868.334 47.3897 865.724 Q49.8086 863.082 54.1691 863.082 Q59.1344 863.082 62.0308 867.029 Q64.9272 870.944 64.9272 877.819 Q64.9272 880.684 64.3543 883.803 Q63.8132 886.89 62.6992 890.328 L56.6518 890.328 Q58.3387 887.081 59.198 883.93 Q60.0256 880.779 60.0256 877.692 Q60.0256 873.554 58.6251 871.326 Q57.1929 869.098 54.6147 869.098 Q52.2276 869.098 50.9545 870.721 Q49.6813 872.313 48.5037 877.755 L48.0262 879.792 Q46.8804 885.235 44.5251 887.654 Q42.138 890.073 38.0002 890.073 Q32.9713 890.073 30.2341 886.508 Q27.4968 882.943 27.4968 876.387 Q27.4968 873.14 27.9743 870.276 Q28.4517 867.411 29.4065 864.992 Z\" fill=\"#000000\" fill-rule=\"evenodd\" fill-opacity=\"1\" /><path clip-path=\"url(#clip220)\" d=\"M28.3562 833.036 L28.3562 827.18 L64.0042 827.18 L64.0042 833.036 L28.3562 833.036 M14.479 833.036 L14.479 827.18 L21.895 827.18 L21.895 833.036 L14.479 833.036 Z\" fill=\"#000000\" fill-rule=\"evenodd\" fill-opacity=\"1\" /><path clip-path=\"url(#clip220)\" d=\"M42.4881 785.294 L64.0042 785.294 L64.0042 791.15 L42.679 791.15 Q37.6183 791.15 35.1038 793.123 Q32.5894 795.097 32.5894 799.043 Q32.5894 803.786 35.6131 806.523 Q38.6368 809.26 43.8567 809.26 L64.0042 809.26 L64.0042 815.149 L28.3562 815.149 L28.3562 809.26 L33.8944 809.26 Q30.6797 807.16 29.0883 804.327 Q27.4968 801.462 27.4968 797.738 Q27.4968 791.596 31.3163 788.445 Q35.1038 785.294 42.4881 785.294 Z\" fill=\"#000000\" fill-rule=\"evenodd\" fill-opacity=\"1\" /><path clip-path=\"url(#clip220)\" d=\"M58.5933 750.951 L58.5933 740.447 L22.3406 740.447 L24.6323 751.874 L18.7758 751.874 L16.4842 740.511 L16.4842 734.081 L58.5933 734.081 L58.5933 723.578 L64.0042 723.578 L64.0042 750.951 L58.5933 750.951 Z\" fill=\"#000000\" fill-rule=\"evenodd\" fill-opacity=\"1\" /><path clip-path=\"url(#clip220)\" d=\"M20.7174 696.842 Q20.7174 701.807 25.6189 704.322 Q30.4887 706.804 40.2919 706.804 Q50.0633 706.804 54.9649 704.322 Q59.8346 701.807 59.8346 696.842 Q59.8346 691.845 54.9649 689.362 Q50.0633 686.848 40.2919 686.848 Q30.4887 686.848 25.6189 689.362 Q20.7174 691.845 20.7174 696.842 M15.6248 696.842 Q15.6248 688.853 21.9587 684.652 Q28.2607 680.418 40.2919 680.418 Q52.2913 680.418 58.6251 684.652 Q64.9272 688.853 64.9272 696.842 Q64.9272 704.831 58.6251 709.064 Q52.2913 713.266 40.2919 713.266 Q28.2607 713.266 21.9587 709.064 Q15.6248 704.831 15.6248 696.842 Z\" fill=\"#000000\" fill-rule=\"evenodd\" fill-opacity=\"1\" /><path clip-path=\"url(#clip220)\" d=\"M55.9197 668.451 L55.9197 661.735 L61.3942 661.735 L71.5793 666.955 L71.5793 671.061 L61.3942 668.451 L55.9197 668.451 Z\" fill=\"#000000\" fill-rule=\"evenodd\" fill-opacity=\"1\" /><path clip-path=\"url(#clip220)\" d=\"M20.7174 634.649 Q20.7174 639.614 25.6189 642.129 Q30.4887 644.611 40.2919 644.611 Q50.0633 644.611 54.9649 642.129 Q59.8346 639.614 59.8346 634.649 Q59.8346 629.652 54.9649 627.169 Q50.0633 624.655 40.2919 624.655 Q30.4887 624.655 25.6189 627.169 Q20.7174 629.652 20.7174 634.649 M15.6248 634.649 Q15.6248 626.66 21.9587 622.459 Q28.2607 618.226 40.2919 618.226 Q52.2913 618.226 58.6251 622.459 Q64.9272 626.66 64.9272 634.649 Q64.9272 642.638 58.6251 646.871 Q52.2913 651.073 40.2919 651.073 Q28.2607 651.073 21.9587 646.871 Q15.6248 642.638 15.6248 634.649 Z\" fill=\"#000000\" fill-rule=\"evenodd\" fill-opacity=\"1\" /><path clip-path=\"url(#clip220)\" d=\"M20.7174 593.176 Q20.7174 598.142 25.6189 600.656 Q30.4887 603.139 40.2919 603.139 Q50.0633 603.139 54.9649 600.656 Q59.8346 598.142 59.8346 593.176 Q59.8346 588.179 54.9649 585.697 Q50.0633 583.182 40.2919 583.182 Q30.4887 583.182 25.6189 585.697 Q20.7174 588.179 20.7174 593.176 M15.6248 593.176 Q15.6248 585.188 21.9587 580.986 Q28.2607 576.753 40.2919 576.753 Q52.2913 576.753 58.6251 580.986 Q64.9272 585.188 64.9272 593.176 Q64.9272 601.165 58.6251 605.399 Q52.2913 609.6 40.2919 609.6 Q28.2607 609.6 21.9587 605.399 Q15.6248 601.165 15.6248 593.176 Z\" fill=\"#000000\" fill-rule=\"evenodd\" fill-opacity=\"1\" /><path clip-path=\"url(#clip220)\" d=\"M20.7174 551.704 Q20.7174 556.669 25.6189 559.184 Q30.4887 561.666 40.2919 561.666 Q50.0633 561.666 54.9649 559.184 Q59.8346 556.669 59.8346 551.704 Q59.8346 546.707 54.9649 544.224 Q50.0633 541.71 40.2919 541.71 Q30.4887 541.71 25.6189 544.224 Q20.7174 546.707 20.7174 551.704 M15.6248 551.704 Q15.6248 543.715 21.9587 539.514 Q28.2607 535.28 40.2919 535.28 Q52.2913 535.28 58.6251 539.514 Q64.9272 543.715 64.9272 551.704 Q64.9272 559.693 58.6251 563.926 Q52.2913 568.127 40.2919 568.127 Q28.2607 568.127 21.9587 563.926 Q15.6248 559.693 15.6248 551.704 Z\" fill=\"#000000\" fill-rule=\"evenodd\" fill-opacity=\"1\" /><path clip-path=\"url(#clip220)\" d=\"M29.4065 502.083 L34.9447 502.083 Q33.6716 504.566 33.035 507.239 Q32.3984 509.913 32.3984 512.778 Q32.3984 517.138 33.7352 519.334 Q35.072 521.499 37.7456 521.499 Q39.7826 521.499 40.9603 519.939 Q42.1061 518.379 43.1565 513.669 L43.6021 511.664 Q44.9389 505.425 47.3897 502.815 Q49.8086 500.174 54.1691 500.174 Q59.1344 500.174 62.0308 504.12 Q64.9272 508.035 64.9272 514.91 Q64.9272 517.775 64.3543 520.894 Q63.8132 523.981 62.6992 527.419 L56.6518 527.419 Q58.3387 524.172 59.198 521.021 Q60.0256 517.87 60.0256 514.783 Q60.0256 510.645 58.6251 508.417 Q57.1929 506.189 54.6147 506.189 Q52.2276 506.189 50.9545 507.812 Q49.6813 509.404 48.5037 514.846 L48.0262 516.883 Q46.8804 522.326 44.5251 524.745 Q42.138 527.164 38.0002 527.164 Q32.9713 527.164 30.2341 523.599 Q27.4968 520.035 27.4968 513.478 Q27.4968 510.231 27.9743 507.367 Q28.4517 504.502 29.4065 502.083 Z\" fill=\"#000000\" fill-rule=\"evenodd\" fill-opacity=\"1\" /><path clip-path=\"url(#clip220)\" d=\"M1079.99 14.0809 L1079.99 22.0612 Q1075.33 19.8332 1071.2 18.7395 Q1067.06 17.6457 1063.22 17.6457 Q1056.53 17.6457 1052.89 20.2383 Q1049.28 22.8309 1049.28 27.611 Q1049.28 31.6214 1051.67 33.6873 Q1054.1 35.7128 1060.83 36.9686 L1065.77 37.9813 Q1074.92 39.7232 1079.26 44.1387 Q1083.63 48.5136 1083.63 55.8863 Q1083.63 64.6767 1077.72 69.2137 Q1071.84 73.7508 1060.46 73.7508 Q1056.17 73.7508 1051.31 72.7785 Q1046.49 71.8063 1041.3 69.9024 L1041.3 61.4765 Q1046.28 64.2716 1051.06 65.6895 Q1055.84 67.1073 1060.46 67.1073 Q1067.47 67.1073 1071.28 64.3527 Q1075.09 61.598 1075.09 56.4939 Q1075.09 52.0379 1072.33 49.5264 Q1069.62 47.0148 1063.38 45.759 L1058.4 44.7868 Q1049.24 42.9639 1045.15 39.075 Q1041.06 35.1862 1041.06 28.2591 Q1041.06 20.2383 1046.69 15.6203 Q1052.36 11.0023 1062.28 11.0023 Q1066.54 11.0023 1070.95 11.7719 Q1075.37 12.5416 1079.99 14.0809 Z\" fill=\"#000000\" fill-rule=\"evenodd\" fill-opacity=\"1\" /><path clip-path=\"url(#clip220)\" d=\"M1128.72 28.9478 L1128.72 35.9153 Q1125.56 34.1734 1122.36 33.3227 Q1119.2 32.4315 1115.96 32.4315 Q1108.71 32.4315 1104.7 37.0496 Q1100.69 41.6271 1100.69 49.9314 Q1100.69 58.2358 1104.7 62.8538 Q1108.71 67.4314 1115.96 67.4314 Q1119.2 67.4314 1122.36 66.5807 Q1125.56 65.6895 1128.72 63.9476 L1128.72 70.8341 Q1125.6 72.2924 1122.24 73.0216 Q1118.92 73.7508 1115.15 73.7508 Q1104.9 73.7508 1098.86 67.3098 Q1092.83 60.8689 1092.83 49.9314 Q1092.83 38.832 1098.9 32.472 Q1105.02 26.1121 1115.63 26.1121 Q1119.08 26.1121 1122.36 26.8413 Q1125.64 27.5299 1128.72 28.9478 Z\" fill=\"#000000\" fill-rule=\"evenodd\" fill-opacity=\"1\" /><path clip-path=\"url(#clip220)\" d=\"M1162.3 49.7694 Q1153.27 49.7694 1149.78 51.8354 Q1146.3 53.9013 1146.3 58.8839 Q1146.3 62.8538 1148.89 65.2034 Q1151.53 67.5124 1156.02 67.5124 Q1162.22 67.5124 1165.95 63.1374 Q1169.71 58.7219 1169.71 51.4303 L1169.71 49.7694 L1162.3 49.7694 M1177.17 46.6907 L1177.17 72.576 L1169.71 72.576 L1169.71 65.6895 Q1167.16 69.8214 1163.35 71.8063 Q1159.55 73.7508 1154.04 73.7508 Q1147.07 73.7508 1142.94 69.8619 Q1138.85 65.9325 1138.85 59.3701 Q1138.85 51.7138 1143.95 47.825 Q1149.1 43.9361 1159.26 43.9361 L1169.71 43.9361 L1169.71 43.2069 Q1169.71 38.0623 1166.31 35.2672 Q1162.95 32.4315 1156.83 32.4315 Q1152.94 32.4315 1149.26 33.3632 Q1145.57 34.295 1142.17 36.1584 L1142.17 29.2718 Q1146.26 27.692 1150.11 26.9223 Q1153.96 26.1121 1157.6 26.1121 Q1167.45 26.1121 1172.31 31.2163 Q1177.17 36.3204 1177.17 46.6907 Z\" fill=\"#000000\" fill-rule=\"evenodd\" fill-opacity=\"1\" /><path clip-path=\"url(#clip220)\" d=\"M1199.89 14.324 L1199.89 27.2059 L1215.25 27.2059 L1215.25 32.9987 L1199.89 32.9987 L1199.89 57.6282 Q1199.89 63.1779 1201.39 64.7578 Q1202.93 66.3376 1207.59 66.3376 L1215.25 66.3376 L1215.25 72.576 L1207.59 72.576 Q1198.96 72.576 1195.68 69.3758 Q1192.4 66.1351 1192.4 57.6282 L1192.4 32.9987 L1186.93 32.9987 L1186.93 27.2059 L1192.4 27.2059 L1192.4 14.324 L1199.89 14.324 Z\" fill=\"#000000\" fill-rule=\"evenodd\" fill-opacity=\"1\" /><path clip-path=\"url(#clip220)\" d=\"M1232.42 14.324 L1232.42 27.2059 L1247.78 27.2059 L1247.78 32.9987 L1232.42 32.9987 L1232.42 57.6282 Q1232.42 63.1779 1233.92 64.7578 Q1235.46 66.3376 1240.12 66.3376 L1247.78 66.3376 L1247.78 72.576 L1240.12 72.576 Q1231.49 72.576 1228.21 69.3758 Q1224.93 66.1351 1224.93 57.6282 L1224.93 32.9987 L1219.46 32.9987 L1219.46 27.2059 L1224.93 27.2059 L1224.93 14.324 L1232.42 14.324 Z\" fill=\"#000000\" fill-rule=\"evenodd\" fill-opacity=\"1\" /><path clip-path=\"url(#clip220)\" d=\"M1296.39 48.0275 L1296.39 51.6733 L1262.12 51.6733 Q1262.6 59.3701 1266.73 63.421 Q1270.91 67.4314 1278.32 67.4314 Q1282.61 67.4314 1286.62 66.3781 Q1290.67 65.3249 1294.64 63.2184 L1294.64 70.267 Q1290.63 71.9684 1286.42 72.8596 Q1282.21 73.7508 1277.87 73.7508 Q1267.02 73.7508 1260.66 67.4314 Q1254.34 61.1119 1254.34 50.3365 Q1254.34 39.1965 1260.33 32.6746 Q1266.37 26.1121 1276.58 26.1121 Q1285.73 26.1121 1291.04 32.0264 Q1296.39 37.9003 1296.39 48.0275 M1288.93 45.84 Q1288.85 39.7232 1285.49 36.0774 Q1282.17 32.4315 1276.66 32.4315 Q1270.42 32.4315 1266.65 35.9558 Q1262.93 39.4801 1262.36 45.8805 L1288.93 45.84 Z\" fill=\"#000000\" fill-rule=\"evenodd\" fill-opacity=\"1\" /><path clip-path=\"url(#clip220)\" d=\"M1334.91 34.1734 Q1333.65 33.4443 1332.16 33.1202 Q1330.7 32.7556 1328.92 32.7556 Q1322.6 32.7556 1319.19 36.8875 Q1315.83 40.9789 1315.83 48.6757 L1315.83 72.576 L1308.34 72.576 L1308.34 27.2059 L1315.83 27.2059 L1315.83 34.2544 Q1318.18 30.1225 1321.95 28.1376 Q1325.71 26.1121 1331.1 26.1121 Q1331.87 26.1121 1332.8 26.2337 Q1333.74 26.3147 1334.87 26.5172 L1334.91 34.1734 Z\" fill=\"#000000\" fill-rule=\"evenodd\" fill-opacity=\"1\" /><path clip-path=\"url(#clip220)\" d=\"M1377.61 18.8205 L1377.61 41.5461 L1387.9 41.5461 Q1393.61 41.5461 1396.73 38.5889 Q1399.85 35.6318 1399.85 30.163 Q1399.85 24.7348 1396.73 21.7777 Q1393.61 18.8205 1387.9 18.8205 L1377.61 18.8205 M1369.42 12.096 L1387.9 12.096 Q1398.06 12.096 1403.25 16.714 Q1408.47 21.2916 1408.47 30.163 Q1408.47 39.1155 1403.25 43.6931 Q1398.06 48.2706 1387.9 48.2706 L1377.61 48.2706 L1377.61 72.576 L1369.42 72.576 L1369.42 12.096 Z\" fill=\"#000000\" fill-rule=\"evenodd\" fill-opacity=\"1\" /><path clip-path=\"url(#clip220)\" d=\"M1419.13 9.54393 L1426.58 9.54393 L1426.58 72.576 L1419.13 72.576 L1419.13 9.54393 Z\" fill=\"#000000\" fill-rule=\"evenodd\" fill-opacity=\"1\" /><path clip-path=\"url(#clip220)\" d=\"M1459.76 32.4315 Q1453.76 32.4315 1450.28 37.1306 Q1446.8 41.7891 1446.8 49.9314 Q1446.8 58.0738 1450.24 62.7728 Q1453.72 67.4314 1459.76 67.4314 Q1465.71 67.4314 1469.2 62.7323 Q1472.68 58.0333 1472.68 49.9314 Q1472.68 41.8701 1469.2 37.1711 Q1465.71 32.4315 1459.76 32.4315 M1459.76 26.1121 Q1469.48 26.1121 1475.03 32.4315 Q1480.58 38.7509 1480.58 49.9314 Q1480.58 61.0714 1475.03 67.4314 Q1469.48 73.7508 1459.76 73.7508 Q1450 73.7508 1444.45 67.4314 Q1438.94 61.0714 1438.94 49.9314 Q1438.94 38.7509 1444.45 32.4315 Q1450 26.1121 1459.76 26.1121 Z\" fill=\"#000000\" fill-rule=\"evenodd\" fill-opacity=\"1\" /><path clip-path=\"url(#clip220)\" d=\"M1500.31 14.324 L1500.31 27.2059 L1515.66 27.2059 L1515.66 32.9987 L1500.31 32.9987 L1500.31 57.6282 Q1500.31 63.1779 1501.81 64.7578 Q1503.35 66.3376 1508.01 66.3376 L1515.66 66.3376 L1515.66 72.576 L1508.01 72.576 Q1499.38 72.576 1496.1 69.3758 Q1492.81 66.1351 1492.81 57.6282 L1492.81 32.9987 L1487.35 32.9987 L1487.35 27.2059 L1492.81 27.2059 L1492.81 14.324 L1500.31 14.324 Z\" fill=\"#000000\" fill-rule=\"evenodd\" fill-opacity=\"1\" /><circle clip-path=\"url(#clip222)\" cx=\"392.62\" cy=\"459.848\" r=\"10\" fill=\"#009af9\" fill-rule=\"evenodd\" fill-opacity=\"0.8\" stroke=\"#000000\" stroke-opacity=\"0.8\" stroke-width=\"3.2\"/>\n",
       "<circle clip-path=\"url(#clip222)\" cx=\"323.884\" cy=\"846.588\" r=\"10\" fill=\"#009af9\" fill-rule=\"evenodd\" fill-opacity=\"0.8\" stroke=\"#000000\" stroke-opacity=\"0.8\" stroke-width=\"3.2\"/>\n",
       "<circle clip-path=\"url(#clip222)\" cx=\"676.877\" cy=\"639.465\" r=\"10\" fill=\"#009af9\" fill-rule=\"evenodd\" fill-opacity=\"0.8\" stroke=\"#000000\" stroke-opacity=\"0.8\" stroke-width=\"3.2\"/>\n",
       "<circle clip-path=\"url(#clip222)\" cx=\"498.026\" cy=\"722.098\" r=\"10\" fill=\"#009af9\" fill-rule=\"evenodd\" fill-opacity=\"0.8\" stroke=\"#000000\" stroke-opacity=\"0.8\" stroke-width=\"3.2\"/>\n",
       "<circle clip-path=\"url(#clip222)\" cx=\"363.079\" cy=\"952.023\" r=\"10\" fill=\"#009af9\" fill-rule=\"evenodd\" fill-opacity=\"0.8\" stroke=\"#000000\" stroke-opacity=\"0.8\" stroke-width=\"3.2\"/>\n",
       "<circle clip-path=\"url(#clip222)\" cx=\"660.861\" cy=\"720.636\" r=\"10\" fill=\"#009af9\" fill-rule=\"evenodd\" fill-opacity=\"0.8\" stroke=\"#000000\" stroke-opacity=\"0.8\" stroke-width=\"3.2\"/>\n",
       "<circle clip-path=\"url(#clip222)\" cx=\"553.874\" cy=\"1065.14\" r=\"10\" fill=\"#009af9\" fill-rule=\"evenodd\" fill-opacity=\"0.8\" stroke=\"#000000\" stroke-opacity=\"0.8\" stroke-width=\"3.2\"/>\n",
       "<circle clip-path=\"url(#clip222)\" cx=\"683.899\" cy=\"715.426\" r=\"10\" fill=\"#009af9\" fill-rule=\"evenodd\" fill-opacity=\"0.8\" stroke=\"#000000\" stroke-opacity=\"0.8\" stroke-width=\"3.2\"/>\n",
       "<circle clip-path=\"url(#clip222)\" cx=\"437.008\" cy=\"962.288\" r=\"10\" fill=\"#009af9\" fill-rule=\"evenodd\" fill-opacity=\"0.8\" stroke=\"#000000\" stroke-opacity=\"0.8\" stroke-width=\"3.2\"/>\n",
       "<circle clip-path=\"url(#clip222)\" cx=\"268.048\" cy=\"1089.44\" r=\"10\" fill=\"#009af9\" fill-rule=\"evenodd\" fill-opacity=\"0.8\" stroke=\"#000000\" stroke-opacity=\"0.8\" stroke-width=\"3.2\"/>\n",
       "<circle clip-path=\"url(#clip222)\" cx=\"345.482\" cy=\"1115.24\" r=\"10\" fill=\"#009af9\" fill-rule=\"evenodd\" fill-opacity=\"0.8\" stroke=\"#000000\" stroke-opacity=\"0.8\" stroke-width=\"3.2\"/>\n",
       "<circle clip-path=\"url(#clip222)\" cx=\"1343.16\" cy=\"555.232\" r=\"10\" fill=\"#009af9\" fill-rule=\"evenodd\" fill-opacity=\"0.8\" stroke=\"#000000\" stroke-opacity=\"0.8\" stroke-width=\"3.2\"/>\n",
       "<circle clip-path=\"url(#clip222)\" cx=\"348.232\" cy=\"1119.67\" r=\"10\" fill=\"#009af9\" fill-rule=\"evenodd\" fill-opacity=\"0.8\" stroke=\"#000000\" stroke-opacity=\"0.8\" stroke-width=\"3.2\"/>\n",
       "<circle clip-path=\"url(#clip222)\" cx=\"663.871\" cy=\"933.627\" r=\"10\" fill=\"#009af9\" fill-rule=\"evenodd\" fill-opacity=\"0.8\" stroke=\"#000000\" stroke-opacity=\"0.8\" stroke-width=\"3.2\"/>\n",
       "<circle clip-path=\"url(#clip222)\" cx=\"337.221\" cy=\"1231.14\" r=\"10\" fill=\"#009af9\" fill-rule=\"evenodd\" fill-opacity=\"0.8\" stroke=\"#000000\" stroke-opacity=\"0.8\" stroke-width=\"3.2\"/>\n",
       "<circle clip-path=\"url(#clip222)\" cx=\"306.381\" cy=\"1103.32\" r=\"10\" fill=\"#009af9\" fill-rule=\"evenodd\" fill-opacity=\"0.8\" stroke=\"#000000\" stroke-opacity=\"0.8\" stroke-width=\"3.2\"/>\n",
       "<circle clip-path=\"url(#clip222)\" cx=\"422.751\" cy=\"1021.42\" r=\"10\" fill=\"#009af9\" fill-rule=\"evenodd\" fill-opacity=\"0.8\" stroke=\"#000000\" stroke-opacity=\"0.8\" stroke-width=\"3.2\"/>\n",
       "<circle clip-path=\"url(#clip222)\" cx=\"276.958\" cy=\"1238.25\" r=\"10\" fill=\"#009af9\" fill-rule=\"evenodd\" fill-opacity=\"0.8\" stroke=\"#000000\" stroke-opacity=\"0.8\" stroke-width=\"3.2\"/>\n",
       "<circle clip-path=\"url(#clip222)\" cx=\"430.328\" cy=\"1096.97\" r=\"10\" fill=\"#009af9\" fill-rule=\"evenodd\" fill-opacity=\"0.8\" stroke=\"#000000\" stroke-opacity=\"0.8\" stroke-width=\"3.2\"/>\n",
       "<circle clip-path=\"url(#clip222)\" cx=\"506.004\" cy=\"1017.56\" r=\"10\" fill=\"#009af9\" fill-rule=\"evenodd\" fill-opacity=\"0.8\" stroke=\"#000000\" stroke-opacity=\"0.8\" stroke-width=\"3.2\"/>\n",
       "<circle clip-path=\"url(#clip222)\" cx=\"401.944\" cy=\"1120.43\" r=\"10\" fill=\"#009af9\" fill-rule=\"evenodd\" fill-opacity=\"0.8\" stroke=\"#000000\" stroke-opacity=\"0.8\" stroke-width=\"3.2\"/>\n",
       "<circle clip-path=\"url(#clip222)\" cx=\"2063.8\" cy=\"269.032\" r=\"10\" fill=\"#009af9\" fill-rule=\"evenodd\" fill-opacity=\"0.8\" stroke=\"#000000\" stroke-opacity=\"0.8\" stroke-width=\"3.2\"/>\n",
       "<circle clip-path=\"url(#clip222)\" cx=\"319.446\" cy=\"1069.04\" r=\"10\" fill=\"#009af9\" fill-rule=\"evenodd\" fill-opacity=\"0.8\" stroke=\"#000000\" stroke-opacity=\"0.8\" stroke-width=\"3.2\"/>\n",
       "<circle clip-path=\"url(#clip222)\" cx=\"418.113\" cy=\"1026.79\" r=\"10\" fill=\"#009af9\" fill-rule=\"evenodd\" fill-opacity=\"0.8\" stroke=\"#000000\" stroke-opacity=\"0.8\" stroke-width=\"3.2\"/>\n",
       "<circle clip-path=\"url(#clip222)\" cx=\"328.274\" cy=\"1122.99\" r=\"10\" fill=\"#009af9\" fill-rule=\"evenodd\" fill-opacity=\"0.8\" stroke=\"#000000\" stroke-opacity=\"0.8\" stroke-width=\"3.2\"/>\n",
       "<circle clip-path=\"url(#clip222)\" cx=\"1907.42\" cy=\"229.224\" r=\"10\" fill=\"#009af9\" fill-rule=\"evenodd\" fill-opacity=\"0.8\" stroke=\"#000000\" stroke-opacity=\"0.8\" stroke-width=\"3.2\"/>\n",
       "<circle clip-path=\"url(#clip222)\" cx=\"1185.48\" cy=\"646.824\" r=\"10\" fill=\"#009af9\" fill-rule=\"evenodd\" fill-opacity=\"0.8\" stroke=\"#000000\" stroke-opacity=\"0.8\" stroke-width=\"3.2\"/>\n",
       "<circle clip-path=\"url(#clip222)\" cx=\"964.662\" cy=\"941.812\" r=\"10\" fill=\"#009af9\" fill-rule=\"evenodd\" fill-opacity=\"0.8\" stroke=\"#000000\" stroke-opacity=\"0.8\" stroke-width=\"3.2\"/>\n",
       "<circle clip-path=\"url(#clip222)\" cx=\"1226.55\" cy=\"592.39\" r=\"10\" fill=\"#009af9\" fill-rule=\"evenodd\" fill-opacity=\"0.8\" stroke=\"#000000\" stroke-opacity=\"0.8\" stroke-width=\"3.2\"/>\n",
       "<circle clip-path=\"url(#clip222)\" cx=\"2291.94\" cy=\"160.256\" r=\"10\" fill=\"#009af9\" fill-rule=\"evenodd\" fill-opacity=\"0.8\" stroke=\"#000000\" stroke-opacity=\"0.8\" stroke-width=\"3.2\"/>\n",
       "<circle clip-path=\"url(#clip222)\" cx=\"291.392\" cy=\"1319.64\" r=\"10\" fill=\"#009af9\" fill-rule=\"evenodd\" fill-opacity=\"0.8\" stroke=\"#000000\" stroke-opacity=\"0.8\" stroke-width=\"3.2\"/>\n",
       "<circle clip-path=\"url(#clip222)\" cx=\"449.188\" cy=\"989.806\" r=\"10\" fill=\"#009af9\" fill-rule=\"evenodd\" fill-opacity=\"0.8\" stroke=\"#000000\" stroke-opacity=\"0.8\" stroke-width=\"3.2\"/>\n",
       "<circle clip-path=\"url(#clip222)\" cx=\"762.986\" cy=\"709.301\" r=\"10\" fill=\"#009af9\" fill-rule=\"evenodd\" fill-opacity=\"0.8\" stroke=\"#000000\" stroke-opacity=\"0.8\" stroke-width=\"3.2\"/>\n",
       "<circle clip-path=\"url(#clip222)\" cx=\"366.856\" cy=\"1179.35\" r=\"10\" fill=\"#009af9\" fill-rule=\"evenodd\" fill-opacity=\"0.8\" stroke=\"#000000\" stroke-opacity=\"0.8\" stroke-width=\"3.2\"/>\n",
       "<circle clip-path=\"url(#clip222)\" cx=\"640.585\" cy=\"964.852\" r=\"10\" fill=\"#009af9\" fill-rule=\"evenodd\" fill-opacity=\"0.8\" stroke=\"#000000\" stroke-opacity=\"0.8\" stroke-width=\"3.2\"/>\n",
       "<circle clip-path=\"url(#clip222)\" cx=\"607.81\" cy=\"1055.36\" r=\"10\" fill=\"#009af9\" fill-rule=\"evenodd\" fill-opacity=\"0.8\" stroke=\"#000000\" stroke-opacity=\"0.8\" stroke-width=\"3.2\"/>\n",
       "<circle clip-path=\"url(#clip222)\" cx=\"626.989\" cy=\"1075.74\" r=\"10\" fill=\"#009af9\" fill-rule=\"evenodd\" fill-opacity=\"0.8\" stroke=\"#000000\" stroke-opacity=\"0.8\" stroke-width=\"3.2\"/>\n",
       "<circle clip-path=\"url(#clip222)\" cx=\"333.161\" cy=\"1108.81\" r=\"10\" fill=\"#009af9\" fill-rule=\"evenodd\" fill-opacity=\"0.8\" stroke=\"#000000\" stroke-opacity=\"0.8\" stroke-width=\"3.2\"/>\n",
       "<circle clip-path=\"url(#clip222)\" cx=\"1186.43\" cy=\"801.487\" r=\"10\" fill=\"#009af9\" fill-rule=\"evenodd\" fill-opacity=\"0.8\" stroke=\"#000000\" stroke-opacity=\"0.8\" stroke-width=\"3.2\"/>\n",
       "<circle clip-path=\"url(#clip222)\" cx=\"421.335\" cy=\"1012.62\" r=\"10\" fill=\"#009af9\" fill-rule=\"evenodd\" fill-opacity=\"0.8\" stroke=\"#000000\" stroke-opacity=\"0.8\" stroke-width=\"3.2\"/>\n",
       "<circle clip-path=\"url(#clip222)\" cx=\"309.627\" cy=\"1238.44\" r=\"10\" fill=\"#009af9\" fill-rule=\"evenodd\" fill-opacity=\"0.8\" stroke=\"#000000\" stroke-opacity=\"0.8\" stroke-width=\"3.2\"/>\n",
       "<circle clip-path=\"url(#clip222)\" cx=\"483.781\" cy=\"1085.1\" r=\"10\" fill=\"#009af9\" fill-rule=\"evenodd\" fill-opacity=\"0.8\" stroke=\"#000000\" stroke-opacity=\"0.8\" stroke-width=\"3.2\"/>\n",
       "<circle clip-path=\"url(#clip222)\" cx=\"1053.3\" cy=\"1017.74\" r=\"10\" fill=\"#009af9\" fill-rule=\"evenodd\" fill-opacity=\"0.8\" stroke=\"#000000\" stroke-opacity=\"0.8\" stroke-width=\"3.2\"/>\n",
       "<circle clip-path=\"url(#clip222)\" cx=\"352.917\" cy=\"1152.33\" r=\"10\" fill=\"#009af9\" fill-rule=\"evenodd\" fill-opacity=\"0.8\" stroke=\"#000000\" stroke-opacity=\"0.8\" stroke-width=\"3.2\"/>\n",
       "<circle clip-path=\"url(#clip222)\" cx=\"594.981\" cy=\"956.205\" r=\"10\" fill=\"#009af9\" fill-rule=\"evenodd\" fill-opacity=\"0.8\" stroke=\"#000000\" stroke-opacity=\"0.8\" stroke-width=\"3.2\"/>\n",
       "<circle clip-path=\"url(#clip222)\" cx=\"508.636\" cy=\"1216.06\" r=\"10\" fill=\"#009af9\" fill-rule=\"evenodd\" fill-opacity=\"0.8\" stroke=\"#000000\" stroke-opacity=\"0.8\" stroke-width=\"3.2\"/>\n",
       "<circle clip-path=\"url(#clip222)\" cx=\"269.889\" cy=\"1029.24\" r=\"10\" fill=\"#009af9\" fill-rule=\"evenodd\" fill-opacity=\"0.8\" stroke=\"#000000\" stroke-opacity=\"0.8\" stroke-width=\"3.2\"/>\n",
       "<circle clip-path=\"url(#clip222)\" cx=\"356.187\" cy=\"1179.6\" r=\"10\" fill=\"#009af9\" fill-rule=\"evenodd\" fill-opacity=\"0.8\" stroke=\"#000000\" stroke-opacity=\"0.8\" stroke-width=\"3.2\"/>\n",
       "<circle clip-path=\"url(#clip222)\" cx=\"1052.35\" cy=\"898.046\" r=\"10\" fill=\"#009af9\" fill-rule=\"evenodd\" fill-opacity=\"0.8\" stroke=\"#000000\" stroke-opacity=\"0.8\" stroke-width=\"3.2\"/>\n",
       "<circle clip-path=\"url(#clip222)\" cx=\"325.525\" cy=\"1217.35\" r=\"10\" fill=\"#009af9\" fill-rule=\"evenodd\" fill-opacity=\"0.8\" stroke=\"#000000\" stroke-opacity=\"0.8\" stroke-width=\"3.2\"/>\n",
       "<circle clip-path=\"url(#clip222)\" cx=\"561.404\" cy=\"955.355\" r=\"10\" fill=\"#009af9\" fill-rule=\"evenodd\" fill-opacity=\"0.8\" stroke=\"#000000\" stroke-opacity=\"0.8\" stroke-width=\"3.2\"/>\n",
       "<circle clip-path=\"url(#clip222)\" cx=\"297.919\" cy=\"1179.8\" r=\"10\" fill=\"#009af9\" fill-rule=\"evenodd\" fill-opacity=\"0.8\" stroke=\"#000000\" stroke-opacity=\"0.8\" stroke-width=\"3.2\"/>\n",
       "<circle clip-path=\"url(#clip222)\" cx=\"547.678\" cy=\"1067.87\" r=\"10\" fill=\"#009af9\" fill-rule=\"evenodd\" fill-opacity=\"0.8\" stroke=\"#000000\" stroke-opacity=\"0.8\" stroke-width=\"3.2\"/>\n",
       "<circle clip-path=\"url(#clip222)\" cx=\"568.827\" cy=\"1035.44\" r=\"10\" fill=\"#009af9\" fill-rule=\"evenodd\" fill-opacity=\"0.8\" stroke=\"#000000\" stroke-opacity=\"0.8\" stroke-width=\"3.2\"/>\n",
       "<circle clip-path=\"url(#clip222)\" cx=\"418.904\" cy=\"1198.83\" r=\"10\" fill=\"#009af9\" fill-rule=\"evenodd\" fill-opacity=\"0.8\" stroke=\"#000000\" stroke-opacity=\"0.8\" stroke-width=\"3.2\"/>\n",
       "<circle clip-path=\"url(#clip222)\" cx=\"421.984\" cy=\"1328.83\" r=\"10\" fill=\"#009af9\" fill-rule=\"evenodd\" fill-opacity=\"0.8\" stroke=\"#000000\" stroke-opacity=\"0.8\" stroke-width=\"3.2\"/>\n",
       "<circle clip-path=\"url(#clip222)\" cx=\"411.988\" cy=\"1150.73\" r=\"10\" fill=\"#009af9\" fill-rule=\"evenodd\" fill-opacity=\"0.8\" stroke=\"#000000\" stroke-opacity=\"0.8\" stroke-width=\"3.2\"/>\n",
       "<circle clip-path=\"url(#clip222)\" cx=\"337.103\" cy=\"1053.44\" r=\"10\" fill=\"#009af9\" fill-rule=\"evenodd\" fill-opacity=\"0.8\" stroke=\"#000000\" stroke-opacity=\"0.8\" stroke-width=\"3.2\"/>\n",
       "<circle clip-path=\"url(#clip222)\" cx=\"770.303\" cy=\"1082.78\" r=\"10\" fill=\"#009af9\" fill-rule=\"evenodd\" fill-opacity=\"0.8\" stroke=\"#000000\" stroke-opacity=\"0.8\" stroke-width=\"3.2\"/>\n",
       "<circle clip-path=\"url(#clip222)\" cx=\"787.228\" cy=\"1016.43\" r=\"10\" fill=\"#009af9\" fill-rule=\"evenodd\" fill-opacity=\"0.8\" stroke=\"#000000\" stroke-opacity=\"0.8\" stroke-width=\"3.2\"/>\n",
       "<circle clip-path=\"url(#clip222)\" cx=\"713.086\" cy=\"1027.61\" r=\"10\" fill=\"#009af9\" fill-rule=\"evenodd\" fill-opacity=\"0.8\" stroke=\"#000000\" stroke-opacity=\"0.8\" stroke-width=\"3.2\"/>\n",
       "<circle clip-path=\"url(#clip222)\" cx=\"282.765\" cy=\"1297.82\" r=\"10\" fill=\"#009af9\" fill-rule=\"evenodd\" fill-opacity=\"0.8\" stroke=\"#000000\" stroke-opacity=\"0.8\" stroke-width=\"3.2\"/>\n",
       "<circle clip-path=\"url(#clip222)\" cx=\"2182.89\" cy=\"444.445\" r=\"10\" fill=\"#009af9\" fill-rule=\"evenodd\" fill-opacity=\"0.8\" stroke=\"#000000\" stroke-opacity=\"0.8\" stroke-width=\"3.2\"/>\n",
       "<circle clip-path=\"url(#clip222)\" cx=\"1430.97\" cy=\"712.958\" r=\"10\" fill=\"#009af9\" fill-rule=\"evenodd\" fill-opacity=\"0.8\" stroke=\"#000000\" stroke-opacity=\"0.8\" stroke-width=\"3.2\"/>\n",
       "<circle clip-path=\"url(#clip222)\" cx=\"1909.08\" cy=\"484.436\" r=\"10\" fill=\"#009af9\" fill-rule=\"evenodd\" fill-opacity=\"0.8\" stroke=\"#000000\" stroke-opacity=\"0.8\" stroke-width=\"3.2\"/>\n",
       "<circle clip-path=\"url(#clip222)\" cx=\"523.401\" cy=\"1040.6\" r=\"10\" fill=\"#009af9\" fill-rule=\"evenodd\" fill-opacity=\"0.8\" stroke=\"#000000\" stroke-opacity=\"0.8\" stroke-width=\"3.2\"/>\n",
       "<circle clip-path=\"url(#clip222)\" cx=\"650.499\" cy=\"1001.34\" r=\"10\" fill=\"#009af9\" fill-rule=\"evenodd\" fill-opacity=\"0.8\" stroke=\"#000000\" stroke-opacity=\"0.8\" stroke-width=\"3.2\"/>\n",
       "<circle clip-path=\"url(#clip222)\" cx=\"879.568\" cy=\"908.508\" r=\"10\" fill=\"#009af9\" fill-rule=\"evenodd\" fill-opacity=\"0.8\" stroke=\"#000000\" stroke-opacity=\"0.8\" stroke-width=\"3.2\"/>\n",
       "<circle clip-path=\"url(#clip222)\" cx=\"320.544\" cy=\"1217.38\" r=\"10\" fill=\"#009af9\" fill-rule=\"evenodd\" fill-opacity=\"0.8\" stroke=\"#000000\" stroke-opacity=\"0.8\" stroke-width=\"3.2\"/>\n",
       "<circle clip-path=\"url(#clip222)\" cx=\"2072.18\" cy=\"304.453\" r=\"10\" fill=\"#009af9\" fill-rule=\"evenodd\" fill-opacity=\"0.8\" stroke=\"#000000\" stroke-opacity=\"0.8\" stroke-width=\"3.2\"/>\n",
       "<circle clip-path=\"url(#clip222)\" cx=\"867.766\" cy=\"958.577\" r=\"10\" fill=\"#009af9\" fill-rule=\"evenodd\" fill-opacity=\"0.8\" stroke=\"#000000\" stroke-opacity=\"0.8\" stroke-width=\"3.2\"/>\n",
       "<circle clip-path=\"url(#clip222)\" cx=\"537.127\" cy=\"1079.88\" r=\"10\" fill=\"#009af9\" fill-rule=\"evenodd\" fill-opacity=\"0.8\" stroke=\"#000000\" stroke-opacity=\"0.8\" stroke-width=\"3.2\"/>\n",
       "<circle clip-path=\"url(#clip222)\" cx=\"380.358\" cy=\"1205.45\" r=\"10\" fill=\"#009af9\" fill-rule=\"evenodd\" fill-opacity=\"0.8\" stroke=\"#000000\" stroke-opacity=\"0.8\" stroke-width=\"3.2\"/>\n",
       "<circle clip-path=\"url(#clip222)\" cx=\"524.309\" cy=\"1111.17\" r=\"10\" fill=\"#009af9\" fill-rule=\"evenodd\" fill-opacity=\"0.8\" stroke=\"#000000\" stroke-opacity=\"0.8\" stroke-width=\"3.2\"/>\n",
       "<circle clip-path=\"url(#clip222)\" cx=\"264.778\" cy=\"1386.4\" r=\"10\" fill=\"#009af9\" fill-rule=\"evenodd\" fill-opacity=\"0.8\" stroke=\"#000000\" stroke-opacity=\"0.8\" stroke-width=\"3.2\"/>\n",
       "<circle clip-path=\"url(#clip222)\" cx=\"444.29\" cy=\"1250.31\" r=\"10\" fill=\"#009af9\" fill-rule=\"evenodd\" fill-opacity=\"0.8\" stroke=\"#000000\" stroke-opacity=\"0.8\" stroke-width=\"3.2\"/>\n",
       "<circle clip-path=\"url(#clip222)\" cx=\"561.215\" cy=\"1086.34\" r=\"10\" fill=\"#009af9\" fill-rule=\"evenodd\" fill-opacity=\"0.8\" stroke=\"#000000\" stroke-opacity=\"0.8\" stroke-width=\"3.2\"/>\n",
       "<circle clip-path=\"url(#clip222)\" cx=\"265.911\" cy=\"1003.3\" r=\"10\" fill=\"#009af9\" fill-rule=\"evenodd\" fill-opacity=\"0.8\" stroke=\"#000000\" stroke-opacity=\"0.8\" stroke-width=\"3.2\"/>\n",
       "<circle clip-path=\"url(#clip222)\" cx=\"884.053\" cy=\"955.254\" r=\"10\" fill=\"#009af9\" fill-rule=\"evenodd\" fill-opacity=\"0.8\" stroke=\"#000000\" stroke-opacity=\"0.8\" stroke-width=\"3.2\"/>\n",
       "<circle clip-path=\"url(#clip222)\" cx=\"274.315\" cy=\"1169.84\" r=\"10\" fill=\"#009af9\" fill-rule=\"evenodd\" fill-opacity=\"0.8\" stroke=\"#000000\" stroke-opacity=\"0.8\" stroke-width=\"3.2\"/>\n",
       "<circle clip-path=\"url(#clip222)\" cx=\"347.666\" cy=\"1241.96\" r=\"10\" fill=\"#009af9\" fill-rule=\"evenodd\" fill-opacity=\"0.8\" stroke=\"#000000\" stroke-opacity=\"0.8\" stroke-width=\"3.2\"/>\n",
       "<circle clip-path=\"url(#clip222)\" cx=\"283.839\" cy=\"1254.54\" r=\"10\" fill=\"#009af9\" fill-rule=\"evenodd\" fill-opacity=\"0.8\" stroke=\"#000000\" stroke-opacity=\"0.8\" stroke-width=\"3.2\"/>\n",
       "<circle clip-path=\"url(#clip222)\" cx=\"421.606\" cy=\"1232.86\" r=\"10\" fill=\"#009af9\" fill-rule=\"evenodd\" fill-opacity=\"0.8\" stroke=\"#000000\" stroke-opacity=\"0.8\" stroke-width=\"3.2\"/>\n",
       "<circle clip-path=\"url(#clip222)\" cx=\"824.417\" cy=\"919.106\" r=\"10\" fill=\"#009af9\" fill-rule=\"evenodd\" fill-opacity=\"0.8\" stroke=\"#000000\" stroke-opacity=\"0.8\" stroke-width=\"3.2\"/>\n",
       "<circle clip-path=\"url(#clip222)\" cx=\"440.514\" cy=\"1019.65\" r=\"10\" fill=\"#009af9\" fill-rule=\"evenodd\" fill-opacity=\"0.8\" stroke=\"#000000\" stroke-opacity=\"0.8\" stroke-width=\"3.2\"/>\n",
       "<circle clip-path=\"url(#clip222)\" cx=\"676.712\" cy=\"1070.02\" r=\"10\" fill=\"#009af9\" fill-rule=\"evenodd\" fill-opacity=\"0.8\" stroke=\"#000000\" stroke-opacity=\"0.8\" stroke-width=\"3.2\"/>\n",
       "<circle clip-path=\"url(#clip222)\" cx=\"754.96\" cy=\"953.174\" r=\"10\" fill=\"#009af9\" fill-rule=\"evenodd\" fill-opacity=\"0.8\" stroke=\"#000000\" stroke-opacity=\"0.8\" stroke-width=\"3.2\"/>\n",
       "<circle clip-path=\"url(#clip222)\" cx=\"379.862\" cy=\"1221.51\" r=\"10\" fill=\"#009af9\" fill-rule=\"evenodd\" fill-opacity=\"0.8\" stroke=\"#000000\" stroke-opacity=\"0.8\" stroke-width=\"3.2\"/>\n",
       "<circle clip-path=\"url(#clip222)\" cx=\"323.022\" cy=\"1256.93\" r=\"10\" fill=\"#009af9\" fill-rule=\"evenodd\" fill-opacity=\"0.8\" stroke=\"#000000\" stroke-opacity=\"0.8\" stroke-width=\"3.2\"/>\n",
       "<circle clip-path=\"url(#clip222)\" cx=\"268.614\" cy=\"1134.93\" r=\"10\" fill=\"#009af9\" fill-rule=\"evenodd\" fill-opacity=\"0.8\" stroke=\"#000000\" stroke-opacity=\"0.8\" stroke-width=\"3.2\"/>\n",
       "<circle clip-path=\"url(#clip222)\" cx=\"345.128\" cy=\"1179.55\" r=\"10\" fill=\"#009af9\" fill-rule=\"evenodd\" fill-opacity=\"0.8\" stroke=\"#000000\" stroke-opacity=\"0.8\" stroke-width=\"3.2\"/>\n",
       "<circle clip-path=\"url(#clip222)\" cx=\"572.781\" cy=\"1067.54\" r=\"10\" fill=\"#009af9\" fill-rule=\"evenodd\" fill-opacity=\"0.8\" stroke=\"#000000\" stroke-opacity=\"0.8\" stroke-width=\"3.2\"/>\n",
       "<circle clip-path=\"url(#clip222)\" cx=\"364.366\" cy=\"934.673\" r=\"10\" fill=\"#009af9\" fill-rule=\"evenodd\" fill-opacity=\"0.8\" stroke=\"#000000\" stroke-opacity=\"0.8\" stroke-width=\"3.2\"/>\n",
       "<circle clip-path=\"url(#clip222)\" cx=\"297.648\" cy=\"1173.07\" r=\"10\" fill=\"#009af9\" fill-rule=\"evenodd\" fill-opacity=\"0.8\" stroke=\"#000000\" stroke-opacity=\"0.8\" stroke-width=\"3.2\"/>\n",
       "<circle clip-path=\"url(#clip222)\" cx=\"650.298\" cy=\"1257.27\" r=\"10\" fill=\"#009af9\" fill-rule=\"evenodd\" fill-opacity=\"0.8\" stroke=\"#000000\" stroke-opacity=\"0.8\" stroke-width=\"3.2\"/>\n",
       "<circle clip-path=\"url(#clip222)\" cx=\"1252.28\" cy=\"850.02\" r=\"10\" fill=\"#009af9\" fill-rule=\"evenodd\" fill-opacity=\"0.8\" stroke=\"#000000\" stroke-opacity=\"0.8\" stroke-width=\"3.2\"/>\n",
       "<circle clip-path=\"url(#clip222)\" cx=\"313.168\" cy=\"1235.67\" r=\"10\" fill=\"#009af9\" fill-rule=\"evenodd\" fill-opacity=\"0.8\" stroke=\"#000000\" stroke-opacity=\"0.8\" stroke-width=\"3.2\"/>\n",
       "<polyline clip-path=\"url(#clip222)\" style=\"stroke:#ff0000; stroke-linecap:butt; stroke-linejoin:round; stroke-width:12; stroke-opacity:1; fill:none\" points=\"\n",
       "  392.62,1104.08 323.884,1135.13 676.877,975.689 498.026,1056.47 363.079,1117.42 660.861,982.923 553.874,1031.25 683.899,972.517 437.008,1084.03 268.048,1160.35 \n",
       "  345.482,1125.37 1343.16,674.746 348.232,1124.13 663.871,981.564 337.221,1129.1 306.381,1143.03 422.751,1090.47 276.958,1156.32 430.328,1087.05 506.004,1052.87 \n",
       "  401.944,1099.87 2063.8,349.249 319.446,1137.13 418.113,1092.57 328.274,1133.14 1907.42,419.882 1185.48,745.965 964.662,845.704 1226.55,727.414 2291.94,246.205 \n",
       "  291.392,1149.8 449.188,1078.53 762.986,936.796 366.856,1115.72 640.585,992.081 607.81,1006.88 626.989,998.222 333.161,1130.94 1186.43,745.538 421.335,1091.11 \n",
       "  309.627,1141.57 483.781,1062.91 1053.3,805.67 352.917,1122.01 594.981,1012.68 508.636,1051.68 269.889,1159.52 356.187,1120.54 1052.35,806.096 325.525,1134.39 \n",
       "  561.404,1027.85 297.919,1146.85 547.678,1034.05 568.827,1024.49 418.904,1092.21 421.984,1090.82 411.988,1095.33 337.103,1129.16 770.303,933.491 787.228,925.846 \n",
       "  713.086,959.334 282.765,1153.7 2182.89,295.462 1430.97,635.085 1909.08,419.135 523.401,1045.01 650.499,987.603 879.568,884.138 320.544,1136.64 2072.18,345.464 \n",
       "  867.766,889.469 537.127,1038.81 380.358,1109.62 524.309,1044.6 264.778,1161.82 444.29,1080.74 561.215,1027.93 265.911,1161.31 884.053,882.113 274.315,1157.52 \n",
       "  347.666,1124.39 283.839,1153.21 421.606,1090.99 824.417,909.049 440.514,1082.45 676.712,975.764 754.96,940.421 379.862,1109.84 323.022,1135.52 268.614,1160.09 \n",
       "  345.128,1125.53 572.781,1022.71 364.366,1116.84 297.648,1146.98 650.298,987.694 1252.28,715.793 313.168,1139.97 \n",
       "  \"/>\n",
       "</svg>\n"
      ]
     },
     "execution_count": 42,
     "metadata": {},
     "output_type": "execute_result"
    }
   ],
   "source": [
    "x = C.population\n",
    "y = C.profit\n",
    "optimizedTheta = result[iterations][2]\n",
    "gr()\n",
    "Plots.plot(x, y, seriestype = :scatter, title = \"Scatter Plot\", markersize=3,\n",
    "        alpha=.8,\n",
    "        legend=false, \n",
    "        xlabel=\"Population of City in 10,000s\",\n",
    "        ylabel=\"Prices in 10,000s\")\n",
    "Plots.plot!(x,X*optimizedTheta,linewidth=3, color=:red)"
   ]
  },
  {
   "cell_type": "code",
   "execution_count": 43,
   "id": "passive-dairy",
   "metadata": {},
   "outputs": [
    {
     "data": {
      "text/plain": [
       "6.374881438009295"
      ]
     },
     "execution_count": 43,
     "metadata": {},
     "output_type": "execute_result"
    }
   ],
   "source": [
    "#Predict values for population sizes of 35,000 and 70,000\n",
    "predict1 = [1, 8.5781]' * optimizedTheta"
   ]
  },
  {
   "cell_type": "code",
   "execution_count": 44,
   "id": "elder-yorkshire",
   "metadata": {},
   "outputs": [
    {
     "data": {
      "image/svg+xml": [
       "<?xml version=\"1.0\" encoding=\"utf-8\"?>\n",
       "<svg xmlns=\"http://www.w3.org/2000/svg\" xmlns:xlink=\"http://www.w3.org/1999/xlink\" width=\"600\" height=\"400\" viewBox=\"0 0 2400 1600\">\n",
       "<defs>\n",
       "  <clipPath id=\"clip260\">\n",
       "    <rect x=\"0\" y=\"0\" width=\"2400\" height=\"1600\"/>\n",
       "  </clipPath>\n",
       "</defs>\n",
       "<path clip-path=\"url(#clip260)\" d=\"\n",
       "M0 1600 L2400 1600 L2400 0 L0 0  Z\n",
       "  \" fill=\"#ffffff\" fill-rule=\"evenodd\" fill-opacity=\"1\"/>\n",
       "<defs>\n",
       "  <clipPath id=\"clip261\">\n",
       "    <rect x=\"480\" y=\"0\" width=\"1681\" height=\"1600\"/>\n",
       "  </clipPath>\n",
       "</defs>\n",
       "<path clip-path=\"url(#clip260)\" d=\"\n",
       "M219.195 1423.18 L2352.76 1423.18 L2352.76 47.2441 L219.195 47.2441  Z\n",
       "  \" fill=\"#ffffff\" fill-rule=\"evenodd\" fill-opacity=\"1\"/>\n",
       "<defs>\n",
       "  <clipPath id=\"clip262\">\n",
       "    <rect x=\"219\" y=\"47\" width=\"2135\" height=\"1377\"/>\n",
       "  </clipPath>\n",
       "</defs>\n",
       "<polyline clip-path=\"url(#clip262)\" style=\"stroke:#000000; stroke-linecap:butt; stroke-linejoin:round; stroke-width:2; stroke-opacity:0.1; fill:none\" points=\"\n",
       "  278.236,1423.18 278.236,47.2441 \n",
       "  \"/>\n",
       "<polyline clip-path=\"url(#clip262)\" style=\"stroke:#000000; stroke-linecap:butt; stroke-linejoin:round; stroke-width:2; stroke-opacity:0.1; fill:none\" points=\"\n",
       "  949.615,1423.18 949.615,47.2441 \n",
       "  \"/>\n",
       "<polyline clip-path=\"url(#clip262)\" style=\"stroke:#000000; stroke-linecap:butt; stroke-linejoin:round; stroke-width:2; stroke-opacity:0.1; fill:none\" points=\"\n",
       "  1620.99,1423.18 1620.99,47.2441 \n",
       "  \"/>\n",
       "<polyline clip-path=\"url(#clip262)\" style=\"stroke:#000000; stroke-linecap:butt; stroke-linejoin:round; stroke-width:2; stroke-opacity:0.1; fill:none\" points=\"\n",
       "  2292.37,1423.18 2292.37,47.2441 \n",
       "  \"/>\n",
       "<polyline clip-path=\"url(#clip260)\" style=\"stroke:#000000; stroke-linecap:butt; stroke-linejoin:round; stroke-width:4; stroke-opacity:1; fill:none\" points=\"\n",
       "  219.195,1423.18 2352.76,1423.18 \n",
       "  \"/>\n",
       "<polyline clip-path=\"url(#clip260)\" style=\"stroke:#000000; stroke-linecap:butt; stroke-linejoin:round; stroke-width:4; stroke-opacity:1; fill:none\" points=\"\n",
       "  278.236,1423.18 278.236,1404.28 \n",
       "  \"/>\n",
       "<polyline clip-path=\"url(#clip260)\" style=\"stroke:#000000; stroke-linecap:butt; stroke-linejoin:round; stroke-width:4; stroke-opacity:1; fill:none\" points=\"\n",
       "  949.615,1423.18 949.615,1404.28 \n",
       "  \"/>\n",
       "<polyline clip-path=\"url(#clip260)\" style=\"stroke:#000000; stroke-linecap:butt; stroke-linejoin:round; stroke-width:4; stroke-opacity:1; fill:none\" points=\"\n",
       "  1620.99,1423.18 1620.99,1404.28 \n",
       "  \"/>\n",
       "<polyline clip-path=\"url(#clip260)\" style=\"stroke:#000000; stroke-linecap:butt; stroke-linejoin:round; stroke-width:4; stroke-opacity:1; fill:none\" points=\"\n",
       "  2292.37,1423.18 2292.37,1404.28 \n",
       "  \"/>\n",
       "<path clip-path=\"url(#clip260)\" d=\"M278.236 1454.1 Q274.625 1454.1 272.796 1457.66 Q270.991 1461.2 270.991 1468.33 Q270.991 1475.44 272.796 1479.01 Q274.625 1482.55 278.236 1482.55 Q281.87 1482.55 283.676 1479.01 Q285.504 1475.44 285.504 1468.33 Q285.504 1461.2 283.676 1457.66 Q281.87 1454.1 278.236 1454.1 M278.236 1450.39 Q284.046 1450.39 287.102 1455 Q290.18 1459.58 290.18 1468.33 Q290.18 1477.06 287.102 1481.67 Q284.046 1486.25 278.236 1486.25 Q272.426 1486.25 269.347 1481.67 Q266.292 1477.06 266.292 1468.33 Q266.292 1459.58 269.347 1455 Q272.426 1450.39 278.236 1450.39 Z\" fill=\"#000000\" fill-rule=\"evenodd\" fill-opacity=\"1\" /><path clip-path=\"url(#clip260)\" d=\"M909.233 1451.02 L927.589 1451.02 L927.589 1454.96 L913.515 1454.96 L913.515 1463.43 Q914.534 1463.08 915.552 1462.92 Q916.571 1462.73 917.589 1462.73 Q923.376 1462.73 926.756 1465.9 Q930.136 1469.08 930.136 1474.49 Q930.136 1480.07 926.663 1483.17 Q923.191 1486.25 916.872 1486.25 Q914.696 1486.25 912.427 1485.88 Q910.182 1485.51 907.775 1484.77 L907.775 1480.07 Q909.858 1481.2 912.08 1481.76 Q914.302 1482.32 916.779 1482.32 Q920.784 1482.32 923.122 1480.21 Q925.46 1478.1 925.46 1474.49 Q925.46 1470.88 923.122 1468.77 Q920.784 1466.67 916.779 1466.67 Q914.904 1466.67 913.029 1467.08 Q911.177 1467.5 909.233 1468.38 L909.233 1451.02 Z\" fill=\"#000000\" fill-rule=\"evenodd\" fill-opacity=\"1\" /><path clip-path=\"url(#clip260)\" d=\"M949.349 1454.1 Q945.737 1454.1 943.909 1457.66 Q942.103 1461.2 942.103 1468.33 Q942.103 1475.44 943.909 1479.01 Q945.737 1482.55 949.349 1482.55 Q952.983 1482.55 954.788 1479.01 Q956.617 1475.44 956.617 1468.33 Q956.617 1461.2 954.788 1457.66 Q952.983 1454.1 949.349 1454.1 M949.349 1450.39 Q955.159 1450.39 958.214 1455 Q961.293 1459.58 961.293 1468.33 Q961.293 1477.06 958.214 1481.67 Q955.159 1486.25 949.349 1486.25 Q943.538 1486.25 940.46 1481.67 Q937.404 1477.06 937.404 1468.33 Q937.404 1459.58 940.46 1455 Q943.538 1450.39 949.349 1450.39 Z\" fill=\"#000000\" fill-rule=\"evenodd\" fill-opacity=\"1\" /><path clip-path=\"url(#clip260)\" d=\"M979.51 1454.1 Q975.899 1454.1 974.071 1457.66 Q972.265 1461.2 972.265 1468.33 Q972.265 1475.44 974.071 1479.01 Q975.899 1482.55 979.51 1482.55 Q983.145 1482.55 984.95 1479.01 Q986.779 1475.44 986.779 1468.33 Q986.779 1461.2 984.95 1457.66 Q983.145 1454.1 979.51 1454.1 M979.51 1450.39 Q985.321 1450.39 988.376 1455 Q991.455 1459.58 991.455 1468.33 Q991.455 1477.06 988.376 1481.67 Q985.321 1486.25 979.51 1486.25 Q973.7 1486.25 970.622 1481.67 Q967.566 1477.06 967.566 1468.33 Q967.566 1459.58 970.622 1455 Q973.7 1450.39 979.51 1450.39 Z\" fill=\"#000000\" fill-rule=\"evenodd\" fill-opacity=\"1\" /><path clip-path=\"url(#clip260)\" d=\"M1565.52 1481.64 L1573.16 1481.64 L1573.16 1455.28 L1564.85 1456.95 L1564.85 1452.69 L1573.11 1451.02 L1577.79 1451.02 L1577.79 1481.64 L1585.43 1481.64 L1585.43 1485.58 L1565.52 1485.58 L1565.52 1481.64 Z\" fill=\"#000000\" fill-rule=\"evenodd\" fill-opacity=\"1\" /><path clip-path=\"url(#clip260)\" d=\"M1604.87 1454.1 Q1601.26 1454.1 1599.43 1457.66 Q1597.63 1461.2 1597.63 1468.33 Q1597.63 1475.44 1599.43 1479.01 Q1601.26 1482.55 1604.87 1482.55 Q1608.51 1482.55 1610.31 1479.01 Q1612.14 1475.44 1612.14 1468.33 Q1612.14 1461.2 1610.31 1457.66 Q1608.51 1454.1 1604.87 1454.1 M1604.87 1450.39 Q1610.68 1450.39 1613.74 1455 Q1616.82 1459.58 1616.82 1468.33 Q1616.82 1477.06 1613.74 1481.67 Q1610.68 1486.25 1604.87 1486.25 Q1599.06 1486.25 1595.98 1481.67 Q1592.93 1477.06 1592.93 1468.33 Q1592.93 1459.58 1595.98 1455 Q1599.06 1450.39 1604.87 1450.39 Z\" fill=\"#000000\" fill-rule=\"evenodd\" fill-opacity=\"1\" /><path clip-path=\"url(#clip260)\" d=\"M1635.03 1454.1 Q1631.42 1454.1 1629.59 1457.66 Q1627.79 1461.2 1627.79 1468.33 Q1627.79 1475.44 1629.59 1479.01 Q1631.42 1482.55 1635.03 1482.55 Q1638.67 1482.55 1640.47 1479.01 Q1642.3 1475.44 1642.3 1468.33 Q1642.3 1461.2 1640.47 1457.66 Q1638.67 1454.1 1635.03 1454.1 M1635.03 1450.39 Q1640.84 1450.39 1643.9 1455 Q1646.98 1459.58 1646.98 1468.33 Q1646.98 1477.06 1643.9 1481.67 Q1640.84 1486.25 1635.03 1486.25 Q1629.22 1486.25 1626.14 1481.67 Q1623.09 1477.06 1623.09 1468.33 Q1623.09 1459.58 1626.14 1455 Q1629.22 1450.39 1635.03 1450.39 Z\" fill=\"#000000\" fill-rule=\"evenodd\" fill-opacity=\"1\" /><path clip-path=\"url(#clip260)\" d=\"M1665.19 1454.1 Q1661.58 1454.1 1659.75 1457.66 Q1657.95 1461.2 1657.95 1468.33 Q1657.95 1475.44 1659.75 1479.01 Q1661.58 1482.55 1665.19 1482.55 Q1668.83 1482.55 1670.63 1479.01 Q1672.46 1475.44 1672.46 1468.33 Q1672.46 1461.2 1670.63 1457.66 Q1668.83 1454.1 1665.19 1454.1 M1665.19 1450.39 Q1671 1450.39 1674.06 1455 Q1677.14 1459.58 1677.14 1468.33 Q1677.14 1477.06 1674.06 1481.67 Q1671 1486.25 1665.19 1486.25 Q1659.38 1486.25 1656.31 1481.67 Q1653.25 1477.06 1653.25 1468.33 Q1653.25 1459.58 1656.31 1455 Q1659.38 1450.39 1665.19 1450.39 Z\" fill=\"#000000\" fill-rule=\"evenodd\" fill-opacity=\"1\" /><path clip-path=\"url(#clip260)\" d=\"M2236.9 1481.64 L2244.54 1481.64 L2244.54 1455.28 L2236.23 1456.95 L2236.23 1452.69 L2244.49 1451.02 L2249.17 1451.02 L2249.17 1481.64 L2256.81 1481.64 L2256.81 1485.58 L2236.9 1485.58 L2236.9 1481.64 Z\" fill=\"#000000\" fill-rule=\"evenodd\" fill-opacity=\"1\" /><path clip-path=\"url(#clip260)\" d=\"M2266.3 1451.02 L2284.65 1451.02 L2284.65 1454.96 L2270.58 1454.96 L2270.58 1463.43 Q2271.6 1463.08 2272.62 1462.92 Q2273.63 1462.73 2274.65 1462.73 Q2280.44 1462.73 2283.82 1465.9 Q2287.2 1469.08 2287.2 1474.49 Q2287.2 1480.07 2283.73 1483.17 Q2280.25 1486.25 2273.93 1486.25 Q2271.76 1486.25 2269.49 1485.88 Q2267.24 1485.51 2264.84 1484.77 L2264.84 1480.07 Q2266.92 1481.2 2269.14 1481.76 Q2271.37 1482.32 2273.84 1482.32 Q2277.85 1482.32 2280.18 1480.21 Q2282.52 1478.1 2282.52 1474.49 Q2282.52 1470.88 2280.18 1468.77 Q2277.85 1466.67 2273.84 1466.67 Q2271.97 1466.67 2270.09 1467.08 Q2268.24 1467.5 2266.3 1468.38 L2266.3 1451.02 Z\" fill=\"#000000\" fill-rule=\"evenodd\" fill-opacity=\"1\" /><path clip-path=\"url(#clip260)\" d=\"M2306.41 1454.1 Q2302.8 1454.1 2300.97 1457.66 Q2299.17 1461.2 2299.17 1468.33 Q2299.17 1475.44 2300.97 1479.01 Q2302.8 1482.55 2306.41 1482.55 Q2310.05 1482.55 2311.85 1479.01 Q2313.68 1475.44 2313.68 1468.33 Q2313.68 1461.2 2311.85 1457.66 Q2310.05 1454.1 2306.41 1454.1 M2306.41 1450.39 Q2312.22 1450.39 2315.28 1455 Q2318.36 1459.58 2318.36 1468.33 Q2318.36 1477.06 2315.28 1481.67 Q2312.22 1486.25 2306.41 1486.25 Q2300.6 1486.25 2297.52 1481.67 Q2294.47 1477.06 2294.47 1468.33 Q2294.47 1459.58 2297.52 1455 Q2300.6 1450.39 2306.41 1450.39 Z\" fill=\"#000000\" fill-rule=\"evenodd\" fill-opacity=\"1\" /><path clip-path=\"url(#clip260)\" d=\"M2336.57 1454.1 Q2332.96 1454.1 2331.13 1457.66 Q2329.33 1461.2 2329.33 1468.33 Q2329.33 1475.44 2331.13 1479.01 Q2332.96 1482.55 2336.57 1482.55 Q2340.21 1482.55 2342.01 1479.01 Q2343.84 1475.44 2343.84 1468.33 Q2343.84 1461.2 2342.01 1457.66 Q2340.21 1454.1 2336.57 1454.1 M2336.57 1450.39 Q2342.38 1450.39 2345.44 1455 Q2348.52 1459.58 2348.52 1468.33 Q2348.52 1477.06 2345.44 1481.67 Q2342.38 1486.25 2336.57 1486.25 Q2330.76 1486.25 2327.68 1481.67 Q2324.63 1477.06 2324.63 1468.33 Q2324.63 1459.58 2327.68 1455 Q2330.76 1450.39 2336.57 1450.39 Z\" fill=\"#000000\" fill-rule=\"evenodd\" fill-opacity=\"1\" /><path clip-path=\"url(#clip260)\" d=\"M1135.54 1520.52 L1141.97 1520.52 L1141.97 1568.04 L1135.54 1568.04 L1135.54 1520.52 Z\" fill=\"#000000\" fill-rule=\"evenodd\" fill-opacity=\"1\" /><path clip-path=\"url(#clip260)\" d=\"M1160.3 1522.27 L1160.3 1532.4 L1172.36 1532.4 L1172.36 1536.95 L1160.3 1536.95 L1160.3 1556.3 Q1160.3 1560.66 1161.48 1561.9 Q1162.69 1563.14 1166.35 1563.14 L1172.36 1563.14 L1172.36 1568.04 L1166.35 1568.04 Q1159.57 1568.04 1156.99 1565.53 Q1154.41 1562.98 1154.41 1556.3 L1154.41 1536.95 L1150.12 1536.95 L1150.12 1532.4 L1154.41 1532.4 L1154.41 1522.27 L1160.3 1522.27 Z\" fill=\"#000000\" fill-rule=\"evenodd\" fill-opacity=\"1\" /><path clip-path=\"url(#clip260)\" d=\"M1210.56 1548.76 L1210.56 1551.62 L1183.63 1551.62 Q1184.01 1557.67 1187.26 1560.85 Q1190.54 1564 1196.36 1564 Q1199.74 1564 1202.89 1563.17 Q1206.07 1562.35 1209.19 1560.69 L1209.19 1566.23 Q1206.04 1567.57 1202.73 1568.27 Q1199.42 1568.97 1196.01 1568.97 Q1187.48 1568.97 1182.48 1564 Q1177.52 1559.04 1177.52 1550.57 Q1177.52 1541.82 1182.23 1536.69 Q1186.97 1531.54 1194.99 1531.54 Q1202.19 1531.54 1206.36 1536.18 Q1210.56 1540.8 1210.56 1548.76 M1204.7 1547.04 Q1204.64 1542.23 1202 1539.37 Q1199.39 1536.5 1195.06 1536.5 Q1190.16 1536.5 1187.2 1539.27 Q1184.27 1542.04 1183.82 1547.07 L1204.7 1547.04 Z\" fill=\"#000000\" fill-rule=\"evenodd\" fill-opacity=\"1\" /><path clip-path=\"url(#clip260)\" d=\"M1240.83 1537.87 Q1239.84 1537.3 1238.66 1537.04 Q1237.52 1536.76 1236.12 1536.76 Q1231.15 1536.76 1228.48 1540 Q1225.84 1543.22 1225.84 1549.27 L1225.84 1568.04 L1219.95 1568.04 L1219.95 1532.4 L1225.84 1532.4 L1225.84 1537.93 Q1227.68 1534.69 1230.64 1533.13 Q1233.6 1531.54 1237.83 1531.54 Q1238.44 1531.54 1239.17 1531.63 Q1239.9 1531.7 1240.79 1531.85 L1240.83 1537.87 Z\" fill=\"#000000\" fill-rule=\"evenodd\" fill-opacity=\"1\" /><path clip-path=\"url(#clip260)\" d=\"M1263.17 1550.12 Q1256.07 1550.12 1253.34 1551.75 Q1250.6 1553.37 1250.6 1557.29 Q1250.6 1560.4 1252.64 1562.25 Q1254.7 1564.07 1258.24 1564.07 Q1263.11 1564.07 1266.03 1560.63 Q1268.99 1557.16 1268.99 1551.43 L1268.99 1550.12 L1263.17 1550.12 M1274.85 1547.71 L1274.85 1568.04 L1268.99 1568.04 L1268.99 1562.63 Q1266.99 1565.88 1264 1567.44 Q1261.01 1568.97 1256.68 1568.97 Q1251.2 1568.97 1247.96 1565.91 Q1244.74 1562.82 1244.74 1557.67 Q1244.74 1551.65 1248.75 1548.6 Q1252.79 1545.54 1260.78 1545.54 L1268.99 1545.54 L1268.99 1544.97 Q1268.99 1540.93 1266.32 1538.73 Q1263.68 1536.5 1258.87 1536.5 Q1255.82 1536.5 1252.92 1537.23 Q1250.03 1537.97 1247.35 1539.43 L1247.35 1534.02 Q1250.57 1532.78 1253.59 1532.17 Q1256.61 1531.54 1259.48 1531.54 Q1267.21 1531.54 1271.03 1535.55 Q1274.85 1539.56 1274.85 1547.71 Z\" fill=\"#000000\" fill-rule=\"evenodd\" fill-opacity=\"1\" /><path clip-path=\"url(#clip260)\" d=\"M1292.71 1522.27 L1292.71 1532.4 L1304.77 1532.4 L1304.77 1536.95 L1292.71 1536.95 L1292.71 1556.3 Q1292.71 1560.66 1293.88 1561.9 Q1295.09 1563.14 1298.75 1563.14 L1304.77 1563.14 L1304.77 1568.04 L1298.75 1568.04 Q1291.98 1568.04 1289.4 1565.53 Q1286.82 1562.98 1286.82 1556.3 L1286.82 1536.95 L1282.52 1536.95 L1282.52 1532.4 L1286.82 1532.4 L1286.82 1522.27 L1292.71 1522.27 Z\" fill=\"#000000\" fill-rule=\"evenodd\" fill-opacity=\"1\" /><path clip-path=\"url(#clip260)\" d=\"M1312.47 1532.4 L1318.33 1532.4 L1318.33 1568.04 L1312.47 1568.04 L1312.47 1532.4 M1312.47 1518.52 L1318.33 1518.52 L1318.33 1525.93 L1312.47 1525.93 L1312.47 1518.52 Z\" fill=\"#000000\" fill-rule=\"evenodd\" fill-opacity=\"1\" /><path clip-path=\"url(#clip260)\" d=\"M1344.4 1536.5 Q1339.69 1536.5 1336.95 1540.19 Q1334.21 1543.85 1334.21 1550.25 Q1334.21 1556.65 1336.92 1560.34 Q1339.65 1564 1344.4 1564 Q1349.08 1564 1351.81 1560.31 Q1354.55 1556.62 1354.55 1550.25 Q1354.55 1543.92 1351.81 1540.23 Q1349.08 1536.5 1344.4 1536.5 M1344.4 1531.54 Q1352.04 1531.54 1356.4 1536.5 Q1360.76 1541.47 1360.76 1550.25 Q1360.76 1559 1356.4 1564 Q1352.04 1568.97 1344.4 1568.97 Q1336.73 1568.97 1332.37 1564 Q1328.04 1559 1328.04 1550.25 Q1328.04 1541.47 1332.37 1536.5 Q1336.73 1531.54 1344.4 1531.54 Z\" fill=\"#000000\" fill-rule=\"evenodd\" fill-opacity=\"1\" /><path clip-path=\"url(#clip260)\" d=\"M1400.1 1546.53 L1400.1 1568.04 L1394.24 1568.04 L1394.24 1546.72 Q1394.24 1541.66 1392.27 1539.14 Q1390.29 1536.63 1386.35 1536.63 Q1381.6 1536.63 1378.87 1539.65 Q1376.13 1542.68 1376.13 1547.9 L1376.13 1568.04 L1370.24 1568.04 L1370.24 1532.4 L1376.13 1532.4 L1376.13 1537.93 Q1378.23 1534.72 1381.06 1533.13 Q1383.93 1531.54 1387.65 1531.54 Q1393.79 1531.54 1396.95 1535.36 Q1400.1 1539.14 1400.1 1546.53 Z\" fill=\"#000000\" fill-rule=\"evenodd\" fill-opacity=\"1\" /><path clip-path=\"url(#clip260)\" d=\"M1434.5 1533.45 L1434.5 1538.98 Q1432.02 1537.71 1429.35 1537.07 Q1426.67 1536.44 1423.81 1536.44 Q1419.45 1536.44 1417.25 1537.77 Q1415.09 1539.11 1415.09 1541.79 Q1415.09 1543.82 1416.65 1545 Q1418.21 1546.15 1422.92 1547.2 L1424.92 1547.64 Q1431.16 1548.98 1433.77 1551.43 Q1436.41 1553.85 1436.41 1558.21 Q1436.41 1563.17 1432.47 1566.07 Q1428.55 1568.97 1421.68 1568.97 Q1418.81 1568.97 1415.69 1568.39 Q1412.61 1567.85 1409.17 1566.74 L1409.17 1560.69 Q1412.41 1562.38 1415.57 1563.24 Q1418.72 1564.07 1421.8 1564.07 Q1425.94 1564.07 1428.17 1562.66 Q1430.4 1561.23 1430.4 1558.65 Q1430.4 1556.27 1428.77 1554.99 Q1427.18 1553.72 1421.74 1552.54 L1419.7 1552.07 Q1414.26 1550.92 1411.84 1548.56 Q1409.42 1546.18 1409.42 1542.04 Q1409.42 1537.01 1412.99 1534.27 Q1416.55 1531.54 1423.11 1531.54 Q1426.36 1531.54 1429.22 1532.01 Q1432.08 1532.49 1434.5 1533.45 Z\" fill=\"#000000\" fill-rule=\"evenodd\" fill-opacity=\"1\" /><polyline clip-path=\"url(#clip262)\" style=\"stroke:#000000; stroke-linecap:butt; stroke-linejoin:round; stroke-width:2; stroke-opacity:0.1; fill:none\" points=\"\n",
       "  219.195,1374.67 2352.76,1374.67 \n",
       "  \"/>\n",
       "<polyline clip-path=\"url(#clip262)\" style=\"stroke:#000000; stroke-linecap:butt; stroke-linejoin:round; stroke-width:2; stroke-opacity:0.1; fill:none\" points=\"\n",
       "  219.195,1086.7 2352.76,1086.7 \n",
       "  \"/>\n",
       "<polyline clip-path=\"url(#clip262)\" style=\"stroke:#000000; stroke-linecap:butt; stroke-linejoin:round; stroke-width:2; stroke-opacity:0.1; fill:none\" points=\"\n",
       "  219.195,798.732 2352.76,798.732 \n",
       "  \"/>\n",
       "<polyline clip-path=\"url(#clip262)\" style=\"stroke:#000000; stroke-linecap:butt; stroke-linejoin:round; stroke-width:2; stroke-opacity:0.1; fill:none\" points=\"\n",
       "  219.195,510.762 2352.76,510.762 \n",
       "  \"/>\n",
       "<polyline clip-path=\"url(#clip262)\" style=\"stroke:#000000; stroke-linecap:butt; stroke-linejoin:round; stroke-width:2; stroke-opacity:0.1; fill:none\" points=\"\n",
       "  219.195,222.793 2352.76,222.793 \n",
       "  \"/>\n",
       "<polyline clip-path=\"url(#clip260)\" style=\"stroke:#000000; stroke-linecap:butt; stroke-linejoin:round; stroke-width:4; stroke-opacity:1; fill:none\" points=\"\n",
       "  219.195,1423.18 219.195,47.2441 \n",
       "  \"/>\n",
       "<polyline clip-path=\"url(#clip260)\" style=\"stroke:#000000; stroke-linecap:butt; stroke-linejoin:round; stroke-width:4; stroke-opacity:1; fill:none\" points=\"\n",
       "  219.195,1374.67 238.093,1374.67 \n",
       "  \"/>\n",
       "<polyline clip-path=\"url(#clip260)\" style=\"stroke:#000000; stroke-linecap:butt; stroke-linejoin:round; stroke-width:4; stroke-opacity:1; fill:none\" points=\"\n",
       "  219.195,1086.7 238.093,1086.7 \n",
       "  \"/>\n",
       "<polyline clip-path=\"url(#clip260)\" style=\"stroke:#000000; stroke-linecap:butt; stroke-linejoin:round; stroke-width:4; stroke-opacity:1; fill:none\" points=\"\n",
       "  219.195,798.732 238.093,798.732 \n",
       "  \"/>\n",
       "<polyline clip-path=\"url(#clip260)\" style=\"stroke:#000000; stroke-linecap:butt; stroke-linejoin:round; stroke-width:4; stroke-opacity:1; fill:none\" points=\"\n",
       "  219.195,510.762 238.093,510.762 \n",
       "  \"/>\n",
       "<polyline clip-path=\"url(#clip260)\" style=\"stroke:#000000; stroke-linecap:butt; stroke-linejoin:round; stroke-width:4; stroke-opacity:1; fill:none\" points=\"\n",
       "  219.195,222.793 238.093,222.793 \n",
       "  \"/>\n",
       "<path clip-path=\"url(#clip260)\" d=\"M129.862 1361.46 L118.056 1379.91 L129.862 1379.91 L129.862 1361.46 M128.635 1357.39 L134.515 1357.39 L134.515 1379.91 L139.445 1379.91 L139.445 1383.8 L134.515 1383.8 L134.515 1391.95 L129.862 1391.95 L129.862 1383.8 L114.26 1383.8 L114.26 1379.29 L128.635 1357.39 Z\" fill=\"#000000\" fill-rule=\"evenodd\" fill-opacity=\"1\" /><path clip-path=\"url(#clip260)\" d=\"M147.177 1386.07 L152.061 1386.07 L152.061 1391.95 L147.177 1391.95 L147.177 1386.07 Z\" fill=\"#000000\" fill-rule=\"evenodd\" fill-opacity=\"1\" /><path clip-path=\"url(#clip260)\" d=\"M162.292 1357.39 L180.649 1357.39 L180.649 1361.33 L166.575 1361.33 L166.575 1369.8 Q167.593 1369.45 168.612 1369.29 Q169.63 1369.1 170.649 1369.1 Q176.436 1369.1 179.815 1372.28 Q183.195 1375.45 183.195 1380.86 Q183.195 1386.44 179.723 1389.54 Q176.251 1392.62 169.931 1392.62 Q167.755 1392.62 165.487 1392.25 Q163.241 1391.88 160.834 1391.14 L160.834 1386.44 Q162.917 1387.58 165.14 1388.13 Q167.362 1388.69 169.839 1388.69 Q173.843 1388.69 176.181 1386.58 Q178.519 1384.47 178.519 1380.86 Q178.519 1377.25 176.181 1375.15 Q173.843 1373.04 169.839 1373.04 Q167.964 1373.04 166.089 1373.46 Q164.237 1373.87 162.292 1374.75 L162.292 1357.39 Z\" fill=\"#000000\" fill-rule=\"evenodd\" fill-opacity=\"1\" /><path clip-path=\"url(#clip260)\" d=\"M116.066 1069.42 L134.422 1069.42 L134.422 1073.36 L120.348 1073.36 L120.348 1081.83 Q121.367 1081.48 122.385 1081.32 Q123.404 1081.13 124.422 1081.13 Q130.209 1081.13 133.589 1084.31 Q136.968 1087.48 136.968 1092.89 Q136.968 1098.47 133.496 1101.57 Q130.024 1104.65 123.705 1104.65 Q121.529 1104.65 119.26 1104.28 Q117.015 1103.91 114.607 1103.17 L114.607 1098.47 Q116.691 1099.61 118.913 1100.16 Q121.135 1100.72 123.612 1100.72 Q127.617 1100.72 129.955 1098.61 Q132.292 1096.5 132.292 1092.89 Q132.292 1089.28 129.955 1087.18 Q127.617 1085.07 123.612 1085.07 Q121.737 1085.07 119.862 1085.49 Q118.01 1085.9 116.066 1086.78 L116.066 1069.42 Z\" fill=\"#000000\" fill-rule=\"evenodd\" fill-opacity=\"1\" /><path clip-path=\"url(#clip260)\" d=\"M146.181 1098.1 L151.066 1098.1 L151.066 1103.98 L146.181 1103.98 L146.181 1098.1 Z\" fill=\"#000000\" fill-rule=\"evenodd\" fill-opacity=\"1\" /><path clip-path=\"url(#clip260)\" d=\"M171.251 1072.5 Q167.64 1072.5 165.811 1076.06 Q164.005 1079.61 164.005 1086.74 Q164.005 1093.84 165.811 1097.41 Q167.64 1100.95 171.251 1100.95 Q174.885 1100.95 176.69 1097.41 Q178.519 1093.84 178.519 1086.74 Q178.519 1079.61 176.69 1076.06 Q174.885 1072.5 171.251 1072.5 M171.251 1068.8 Q177.061 1068.8 180.116 1073.4 Q183.195 1077.99 183.195 1086.74 Q183.195 1095.46 180.116 1100.07 Q177.061 1104.65 171.251 1104.65 Q165.44 1104.65 162.362 1100.07 Q159.306 1095.46 159.306 1086.74 Q159.306 1077.99 162.362 1073.4 Q165.44 1068.8 171.251 1068.8 Z\" fill=\"#000000\" fill-rule=\"evenodd\" fill-opacity=\"1\" /><path clip-path=\"url(#clip260)\" d=\"M117.061 781.452 L135.417 781.452 L135.417 785.387 L121.343 785.387 L121.343 793.859 Q122.362 793.512 123.38 793.35 Q124.399 793.165 125.418 793.165 Q131.205 793.165 134.584 796.336 Q137.964 799.507 137.964 804.924 Q137.964 810.503 134.492 813.605 Q131.019 816.683 124.7 816.683 Q122.524 816.683 120.255 816.313 Q118.01 815.942 115.603 815.202 L115.603 810.503 Q117.686 811.637 119.908 812.192 Q122.13 812.748 124.607 812.748 Q128.612 812.748 130.95 810.642 Q133.288 808.535 133.288 804.924 Q133.288 801.313 130.95 799.206 Q128.612 797.1 124.607 797.1 Q122.732 797.1 120.857 797.517 Q119.006 797.933 117.061 798.813 L117.061 781.452 Z\" fill=\"#000000\" fill-rule=\"evenodd\" fill-opacity=\"1\" /><path clip-path=\"url(#clip260)\" d=\"M147.177 810.132 L152.061 810.132 L152.061 816.012 L147.177 816.012 L147.177 810.132 Z\" fill=\"#000000\" fill-rule=\"evenodd\" fill-opacity=\"1\" /><path clip-path=\"url(#clip260)\" d=\"M162.292 781.452 L180.649 781.452 L180.649 785.387 L166.575 785.387 L166.575 793.859 Q167.593 793.512 168.612 793.35 Q169.63 793.165 170.649 793.165 Q176.436 793.165 179.815 796.336 Q183.195 799.507 183.195 804.924 Q183.195 810.503 179.723 813.605 Q176.251 816.683 169.931 816.683 Q167.755 816.683 165.487 816.313 Q163.241 815.942 160.834 815.202 L160.834 810.503 Q162.917 811.637 165.14 812.192 Q167.362 812.748 169.839 812.748 Q173.843 812.748 176.181 810.642 Q178.519 808.535 178.519 804.924 Q178.519 801.313 176.181 799.206 Q173.843 797.1 169.839 797.1 Q167.964 797.1 166.089 797.517 Q164.237 797.933 162.292 798.813 L162.292 781.452 Z\" fill=\"#000000\" fill-rule=\"evenodd\" fill-opacity=\"1\" /><path clip-path=\"url(#clip260)\" d=\"M126.598 508.899 Q123.45 508.899 121.598 511.052 Q119.769 513.205 119.769 516.955 Q119.769 520.681 121.598 522.857 Q123.45 525.01 126.598 525.01 Q129.746 525.01 131.575 522.857 Q133.427 520.681 133.427 516.955 Q133.427 513.205 131.575 511.052 Q129.746 508.899 126.598 508.899 M135.88 494.246 L135.88 498.506 Q134.121 497.672 132.316 497.232 Q130.533 496.793 128.774 496.793 Q124.144 496.793 121.691 499.918 Q119.26 503.043 118.913 509.362 Q120.279 507.348 122.339 506.283 Q124.399 505.195 126.876 505.195 Q132.084 505.195 135.093 508.367 Q138.126 511.515 138.126 516.955 Q138.126 522.279 134.978 525.496 Q131.83 528.714 126.598 528.714 Q120.603 528.714 117.431 524.13 Q114.26 519.524 114.26 510.797 Q114.26 502.603 118.149 497.742 Q122.038 492.857 128.589 492.857 Q130.348 492.857 132.13 493.205 Q133.936 493.552 135.88 494.246 Z\" fill=\"#000000\" fill-rule=\"evenodd\" fill-opacity=\"1\" /><path clip-path=\"url(#clip260)\" d=\"M146.181 522.163 L151.066 522.163 L151.066 528.042 L146.181 528.042 L146.181 522.163 Z\" fill=\"#000000\" fill-rule=\"evenodd\" fill-opacity=\"1\" /><path clip-path=\"url(#clip260)\" d=\"M171.251 496.561 Q167.64 496.561 165.811 500.126 Q164.005 503.668 164.005 510.797 Q164.005 517.904 165.811 521.468 Q167.64 525.01 171.251 525.01 Q174.885 525.01 176.69 521.468 Q178.519 517.904 178.519 510.797 Q178.519 503.668 176.69 500.126 Q174.885 496.561 171.251 496.561 M171.251 492.857 Q177.061 492.857 180.116 497.464 Q183.195 502.047 183.195 510.797 Q183.195 519.524 180.116 524.13 Q177.061 528.714 171.251 528.714 Q165.44 528.714 162.362 524.13 Q159.306 519.524 159.306 510.797 Q159.306 502.047 162.362 497.464 Q165.44 492.857 171.251 492.857 Z\" fill=\"#000000\" fill-rule=\"evenodd\" fill-opacity=\"1\" /><path clip-path=\"url(#clip260)\" d=\"M127.593 220.929 Q124.445 220.929 122.593 223.082 Q120.765 225.235 120.765 228.985 Q120.765 232.712 122.593 234.888 Q124.445 237.041 127.593 237.041 Q130.742 237.041 132.57 234.888 Q134.422 232.712 134.422 228.985 Q134.422 225.235 132.57 223.082 Q130.742 220.929 127.593 220.929 M136.876 206.277 L136.876 210.536 Q135.117 209.703 133.311 209.263 Q131.529 208.823 129.769 208.823 Q125.14 208.823 122.686 211.948 Q120.255 215.073 119.908 221.392 Q121.274 219.379 123.334 218.314 Q125.394 217.226 127.871 217.226 Q133.08 217.226 136.089 220.397 Q139.121 223.545 139.121 228.985 Q139.121 234.309 135.973 237.527 Q132.825 240.744 127.593 240.744 Q121.598 240.744 118.427 236.161 Q115.256 231.554 115.256 222.828 Q115.256 214.633 119.144 209.772 Q123.033 204.888 129.584 204.888 Q131.343 204.888 133.126 205.235 Q134.931 205.582 136.876 206.277 Z\" fill=\"#000000\" fill-rule=\"evenodd\" fill-opacity=\"1\" /><path clip-path=\"url(#clip260)\" d=\"M147.177 234.193 L152.061 234.193 L152.061 240.073 L147.177 240.073 L147.177 234.193 Z\" fill=\"#000000\" fill-rule=\"evenodd\" fill-opacity=\"1\" /><path clip-path=\"url(#clip260)\" d=\"M162.292 205.513 L180.649 205.513 L180.649 209.448 L166.575 209.448 L166.575 217.92 Q167.593 217.573 168.612 217.411 Q169.63 217.226 170.649 217.226 Q176.436 217.226 179.815 220.397 Q183.195 223.568 183.195 228.985 Q183.195 234.564 179.723 237.666 Q176.251 240.744 169.931 240.744 Q167.755 240.744 165.487 240.374 Q163.241 240.003 160.834 239.263 L160.834 234.564 Q162.917 235.698 165.14 236.253 Q167.362 236.809 169.839 236.809 Q173.843 236.809 176.181 234.703 Q178.519 232.596 178.519 228.985 Q178.519 225.374 176.181 223.267 Q173.843 221.161 169.839 221.161 Q167.964 221.161 166.089 221.578 Q164.237 221.994 162.292 222.874 L162.292 205.513 Z\" fill=\"#000000\" fill-rule=\"evenodd\" fill-opacity=\"1\" /><path clip-path=\"url(#clip260)\" d=\"M20.1444 913.738 L26.9239 913.738 Q23.9002 916.985 22.4043 920.677 Q20.9083 924.337 20.9083 928.475 Q20.9083 936.623 25.9054 940.952 Q30.8707 945.28 40.2919 945.28 Q49.6813 945.28 54.6784 940.952 Q59.6436 936.623 59.6436 928.475 Q59.6436 924.337 58.1477 920.677 Q56.6518 916.985 53.6281 913.738 L60.3439 913.738 Q62.6355 917.112 63.7814 920.9 Q64.9272 924.655 64.9272 928.857 Q64.9272 939.647 58.3387 945.853 Q51.7183 952.06 40.2919 952.06 Q28.8336 952.06 22.2451 945.853 Q15.6248 939.647 15.6248 928.857 Q15.6248 924.592 16.7706 920.836 Q17.8846 917.048 20.1444 913.738 Z\" fill=\"#000000\" fill-rule=\"evenodd\" fill-opacity=\"1\" /><path clip-path=\"url(#clip260)\" d=\"M32.4621 890.249 Q32.4621 894.959 36.1542 897.697 Q39.8145 900.434 46.212 900.434 Q52.6095 900.434 56.3017 897.728 Q59.9619 894.991 59.9619 890.249 Q59.9619 885.57 56.2698 882.833 Q52.5777 880.095 46.212 880.095 Q39.8781 880.095 36.186 882.833 Q32.4621 885.57 32.4621 890.249 M27.4968 890.249 Q27.4968 882.61 32.4621 878.249 Q37.4273 873.889 46.212 873.889 Q54.9649 873.889 59.9619 878.249 Q64.9272 882.61 64.9272 890.249 Q64.9272 897.919 59.9619 902.28 Q54.9649 906.609 46.212 906.609 Q37.4273 906.609 32.4621 902.28 Q27.4968 897.919 27.4968 890.249 Z\" fill=\"#000000\" fill-rule=\"evenodd\" fill-opacity=\"1\" /><path clip-path=\"url(#clip260)\" d=\"M29.4065 841.456 L34.9447 841.456 Q33.6716 843.938 33.035 846.612 Q32.3984 849.285 32.3984 852.15 Q32.3984 856.511 33.7352 858.707 Q35.072 860.871 37.7456 860.871 Q39.7826 860.871 40.9603 859.311 Q42.1061 857.752 43.1565 853.041 L43.6021 851.036 Q44.9389 844.798 47.3897 842.188 Q49.8086 839.546 54.1691 839.546 Q59.1344 839.546 62.0308 843.493 Q64.9272 847.408 64.9272 854.283 Q64.9272 857.147 64.3543 860.266 Q63.8132 863.354 62.6992 866.791 L56.6518 866.791 Q58.3387 863.545 59.198 860.394 Q60.0256 857.243 60.0256 854.155 Q60.0256 850.017 58.6251 847.789 Q57.1929 845.561 54.6147 845.561 Q52.2276 845.561 50.9545 847.185 Q49.6813 848.776 48.5037 854.219 L48.0262 856.256 Q46.8804 861.699 44.5251 864.118 Q42.138 866.536 38.0002 866.536 Q32.9713 866.536 30.2341 862.972 Q27.4968 859.407 27.4968 852.85 Q27.4968 849.604 27.9743 846.739 Q28.4517 843.875 29.4065 841.456 Z\" fill=\"#000000\" fill-rule=\"evenodd\" fill-opacity=\"1\" /><path clip-path=\"url(#clip260)\" d=\"M18.2347 824.427 L28.3562 824.427 L28.3562 812.364 L32.9077 812.364 L32.9077 824.427 L52.2594 824.427 Q56.6199 824.427 57.8613 823.25 Q59.1026 822.04 59.1026 818.38 L59.1026 812.364 L64.0042 812.364 L64.0042 818.38 Q64.0042 825.159 61.4897 827.738 Q58.9434 830.316 52.2594 830.316 L32.9077 830.316 L32.9077 834.612 L28.3562 834.612 L28.3562 830.316 L18.2347 830.316 L18.2347 824.427 Z\" fill=\"#000000\" fill-rule=\"evenodd\" fill-opacity=\"1\" /><path clip-path=\"url(#clip260)\" d=\"M16.4842 783.687 L16.4842 756.378 L21.895 756.378 L21.895 777.257 L35.8996 777.257 L35.8996 758.415 L41.3104 758.415 L41.3104 777.257 L64.0042 777.257 L64.0042 783.687 L16.4842 783.687 Z\" fill=\"#000000\" fill-rule=\"evenodd\" fill-opacity=\"1\" /><path clip-path=\"url(#clip260)\" d=\"M49.9359 750.617 L28.3562 750.617 L28.3562 744.761 L49.7131 744.761 Q54.7739 744.761 57.3202 742.787 Q59.8346 740.814 59.8346 736.867 Q59.8346 732.125 56.8109 729.387 Q53.7872 726.618 48.5673 726.618 L28.3562 726.618 L28.3562 720.762 L64.0042 720.762 L64.0042 726.618 L58.5296 726.618 Q61.7762 728.751 63.3676 731.584 Q64.9272 734.384 64.9272 738.108 Q64.9272 744.251 61.1078 747.434 Q57.2883 750.617 49.9359 750.617 M27.4968 735.88 L27.4968 735.88 Z\" fill=\"#000000\" fill-rule=\"evenodd\" fill-opacity=\"1\" /><path clip-path=\"url(#clip260)\" d=\"M42.4881 679.066 L64.0042 679.066 L64.0042 684.923 L42.679 684.923 Q37.6183 684.923 35.1038 686.896 Q32.5894 688.87 32.5894 692.816 Q32.5894 697.559 35.6131 700.296 Q38.6368 703.033 43.8567 703.033 L64.0042 703.033 L64.0042 708.922 L28.3562 708.922 L28.3562 703.033 L33.8944 703.033 Q30.6797 700.933 29.0883 698.1 Q27.4968 695.235 27.4968 691.511 Q27.4968 685.368 31.3163 682.217 Q35.1038 679.066 42.4881 679.066 Z\" fill=\"#000000\" fill-rule=\"evenodd\" fill-opacity=\"1\" /><path clip-path=\"url(#clip260)\" d=\"M29.7248 641.732 L35.1993 641.732 Q33.8307 644.214 33.1623 646.729 Q32.4621 649.211 32.4621 651.758 Q32.4621 657.455 36.0905 660.606 Q39.6872 663.757 46.212 663.757 Q52.7369 663.757 56.3653 660.606 Q59.9619 657.455 59.9619 651.758 Q59.9619 649.211 59.2935 646.729 Q58.5933 644.214 57.2247 641.732 L62.6355 641.732 Q63.7814 644.182 64.3543 646.824 Q64.9272 649.434 64.9272 652.394 Q64.9272 660.447 59.8664 665.189 Q54.8057 669.932 46.212 669.932 Q37.491 669.932 32.4939 665.157 Q27.4968 660.351 27.4968 652.012 Q27.4968 649.307 28.0697 646.729 Q28.6108 644.151 29.7248 641.732 Z\" fill=\"#000000\" fill-rule=\"evenodd\" fill-opacity=\"1\" /><path clip-path=\"url(#clip260)\" d=\"M18.2347 625.754 L28.3562 625.754 L28.3562 613.691 L32.9077 613.691 L32.9077 625.754 L52.2594 625.754 Q56.6199 625.754 57.8613 624.576 Q59.1026 623.367 59.1026 619.706 L59.1026 613.691 L64.0042 613.691 L64.0042 619.706 Q64.0042 626.486 61.4897 629.064 Q58.9434 631.642 52.2594 631.642 L32.9077 631.642 L32.9077 635.939 L28.3562 635.939 L28.3562 631.642 L18.2347 631.642 L18.2347 625.754 Z\" fill=\"#000000\" fill-rule=\"evenodd\" fill-opacity=\"1\" /><path clip-path=\"url(#clip260)\" d=\"M28.3562 605.988 L28.3562 600.132 L64.0042 600.132 L64.0042 605.988 L28.3562 605.988 M14.479 605.988 L14.479 600.132 L21.895 600.132 L21.895 605.988 L14.479 605.988 Z\" fill=\"#000000\" fill-rule=\"evenodd\" fill-opacity=\"1\" /><path clip-path=\"url(#clip260)\" d=\"M32.4621 574.064 Q32.4621 578.775 36.1542 581.512 Q39.8145 584.249 46.212 584.249 Q52.6095 584.249 56.3017 581.544 Q59.9619 578.807 59.9619 574.064 Q59.9619 569.385 56.2698 566.648 Q52.5777 563.911 46.212 563.911 Q39.8781 563.911 36.186 566.648 Q32.4621 569.385 32.4621 574.064 M27.4968 574.064 Q27.4968 566.425 32.4621 562.065 Q37.4273 557.704 46.212 557.704 Q54.9649 557.704 59.9619 562.065 Q64.9272 566.425 64.9272 574.064 Q64.9272 581.735 59.9619 586.095 Q54.9649 590.424 46.212 590.424 Q37.4273 590.424 32.4621 586.095 Q27.4968 581.735 27.4968 574.064 Z\" fill=\"#000000\" fill-rule=\"evenodd\" fill-opacity=\"1\" /><path clip-path=\"url(#clip260)\" d=\"M42.4881 518.364 L64.0042 518.364 L64.0042 524.221 L42.679 524.221 Q37.6183 524.221 35.1038 526.194 Q32.5894 528.167 32.5894 532.114 Q32.5894 536.857 35.6131 539.594 Q38.6368 542.331 43.8567 542.331 L64.0042 542.331 L64.0042 548.219 L28.3562 548.219 L28.3562 542.331 L33.8944 542.331 Q30.6797 540.23 29.0883 537.398 Q27.4968 534.533 27.4968 530.809 Q27.4968 524.666 31.3163 521.515 Q35.1038 518.364 42.4881 518.364 Z\" fill=\"#000000\" fill-rule=\"evenodd\" fill-opacity=\"1\" /><polyline clip-path=\"url(#clip262)\" style=\"stroke:#ff0000; stroke-linecap:butt; stroke-linejoin:round; stroke-width:12; stroke-opacity:1; fill:none\" points=\"\n",
       "  279.579,86.1857 280.922,550.16 282.264,567.691 283.607,571.104 284.95,574.061 286.293,576.993 287.635,579.914 288.978,582.824 290.321,585.724 291.664,588.614 \n",
       "  293.006,591.493 294.349,594.362 295.692,597.22 297.035,600.068 298.377,602.906 299.72,605.734 301.063,608.551 302.406,611.358 303.748,614.156 305.091,616.943 \n",
       "  306.434,619.72 307.777,622.487 309.119,625.244 310.462,627.991 311.805,630.728 313.148,633.456 314.49,636.173 315.833,638.881 317.176,641.579 318.519,644.268 \n",
       "  319.861,646.946 321.204,649.615 322.547,652.275 323.89,654.924 325.233,657.565 326.575,660.195 327.918,662.817 329.261,665.428 330.604,668.031 331.946,670.624 \n",
       "  333.289,673.208 334.632,675.782 335.975,678.347 337.317,680.903 338.66,683.45 340.003,685.987 341.346,688.516 342.688,691.035 344.031,693.545 345.374,696.046 \n",
       "  346.717,698.538 348.059,701.022 349.402,703.496 350.745,705.961 352.088,708.418 353.43,710.865 354.773,713.304 356.116,715.734 357.459,718.155 358.801,720.568 \n",
       "  360.144,722.971 361.487,725.367 362.83,727.753 364.172,730.131 365.515,732.5 366.858,734.861 368.201,737.214 369.544,739.557 370.886,741.893 372.229,744.22 \n",
       "  373.572,746.538 374.915,748.849 376.257,751.151 377.6,753.444 378.943,755.73 380.286,758.007 381.628,760.276 382.971,762.537 384.314,764.789 385.657,767.034 \n",
       "  386.999,769.27 388.342,771.499 389.685,773.719 391.028,775.931 392.37,778.136 393.713,780.332 395.056,782.521 396.399,784.701 397.741,786.874 399.084,789.039 \n",
       "  400.427,791.196 401.77,793.346 403.112,795.487 404.455,797.621 405.798,799.748 407.141,801.866 408.483,803.977 409.826,806.081 411.169,808.177 412.512,810.265 \n",
       "  413.855,812.345 415.197,814.419 416.54,816.484 417.883,818.543 419.226,820.594 420.568,822.637 421.911,824.673 423.254,826.702 424.597,828.724 425.939,830.738 \n",
       "  427.282,832.745 428.625,834.745 429.968,836.737 431.31,838.723 432.653,840.701 433.996,842.672 435.339,844.636 436.681,846.593 438.024,848.543 439.367,850.486 \n",
       "  440.71,852.422 442.052,854.35 443.395,856.272 444.738,858.187 446.081,860.096 447.423,861.997 448.766,863.891 450.109,865.779 451.452,867.659 452.794,869.533 \n",
       "  454.137,871.401 455.48,873.261 456.823,875.115 458.166,876.962 459.508,878.803 460.851,880.637 462.194,882.464 463.537,884.285 464.879,886.099 466.222,887.906 \n",
       "  467.565,889.707 468.908,891.502 470.25,893.29 471.593,895.072 472.936,896.847 474.279,898.616 475.621,900.378 476.964,902.134 478.307,903.884 479.65,905.628 \n",
       "  480.992,907.365 482.335,909.096 483.678,910.821 485.021,912.539 486.363,914.252 487.706,915.958 489.049,917.658 490.392,919.352 491.734,921.04 493.077,922.721 \n",
       "  494.42,924.397 495.763,926.067 497.105,927.73 498.448,929.388 499.791,931.039 501.134,932.685 502.477,934.325 503.819,935.959 505.162,937.587 506.505,939.209 \n",
       "  507.848,940.825 509.19,942.436 510.533,944.04 511.876,945.639 513.219,947.232 514.561,948.82 515.904,950.401 517.247,951.977 518.59,953.548 519.932,955.112 \n",
       "  521.275,956.671 522.618,958.225 523.961,959.772 525.303,961.315 526.646,962.851 527.989,964.382 529.332,965.908 530.674,967.428 532.017,968.943 533.36,970.452 \n",
       "  534.703,971.956 536.045,973.454 537.388,974.947 538.731,976.435 540.074,977.917 541.416,979.394 542.759,980.865 544.102,982.331 545.445,983.792 546.787,985.248 \n",
       "  548.13,986.699 549.473,988.144 550.816,989.584 552.159,991.019 553.501,992.448 554.844,993.873 556.187,995.292 557.53,996.706 558.872,998.116 560.215,999.52 \n",
       "  561.558,1000.92 562.901,1002.31 564.243,1003.7 565.586,1005.09 566.929,1006.46 568.272,1007.84 569.614,1009.21 570.957,1010.57 572.3,1011.93 573.643,1013.29 \n",
       "  574.985,1014.64 576.328,1015.98 577.671,1017.32 579.014,1018.65 580.356,1019.98 581.699,1021.31 583.042,1022.63 584.385,1023.95 585.727,1025.26 587.07,1026.56 \n",
       "  588.413,1027.87 589.756,1029.16 591.098,1030.45 592.441,1031.74 593.784,1033.03 595.127,1034.3 596.47,1035.58 597.812,1036.85 599.155,1038.11 600.498,1039.37 \n",
       "  601.841,1040.63 603.183,1041.88 604.526,1043.12 605.869,1044.37 607.212,1045.6 608.554,1046.84 609.897,1048.07 611.24,1049.29 612.583,1050.51 613.925,1051.72 \n",
       "  615.268,1052.94 616.611,1054.14 617.954,1055.34 619.296,1056.54 620.639,1057.74 621.982,1058.93 623.325,1060.11 624.667,1061.29 626.01,1062.47 627.353,1063.64 \n",
       "  628.696,1064.81 630.038,1065.97 631.381,1067.13 632.724,1068.29 634.067,1069.44 635.409,1070.59 636.752,1071.73 638.095,1072.87 639.438,1074 640.781,1075.13 \n",
       "  642.123,1076.26 643.466,1077.38 644.809,1078.5 646.152,1079.62 647.494,1080.73 648.837,1081.83 650.18,1082.94 651.523,1084.03 652.865,1085.13 654.208,1086.22 \n",
       "  655.551,1087.31 656.894,1088.39 658.236,1089.47 659.579,1090.54 660.922,1091.61 662.265,1092.68 663.607,1093.75 664.95,1094.8 666.293,1095.86 667.636,1096.91 \n",
       "  668.978,1097.96 670.321,1099.01 671.664,1100.05 673.007,1101.08 674.349,1102.12 675.692,1103.15 677.035,1104.17 678.378,1105.19 679.72,1106.21 681.063,1107.23 \n",
       "  682.406,1108.24 683.749,1109.25 685.092,1110.25 686.434,1111.25 687.777,1112.25 689.12,1113.24 690.463,1114.23 691.805,1115.21 693.148,1116.2 694.491,1117.18 \n",
       "  695.834,1118.15 697.176,1119.12 698.519,1120.09 699.862,1121.06 701.205,1122.02 702.547,1122.97 703.89,1123.93 705.233,1124.88 706.576,1125.83 707.918,1126.77 \n",
       "  709.261,1127.71 710.604,1128.65 711.947,1129.58 713.289,1130.51 714.632,1131.44 715.975,1132.36 717.318,1133.29 718.66,1134.2 720.003,1135.12 721.346,1136.03 \n",
       "  722.689,1136.93 724.031,1137.84 725.374,1138.74 726.717,1139.64 728.06,1140.53 729.402,1141.42 730.745,1142.31 732.088,1143.2 733.431,1144.08 734.774,1144.96 \n",
       "  736.116,1145.83 737.459,1146.7 738.802,1147.57 740.145,1148.44 741.487,1149.3 742.83,1150.16 744.173,1151.02 745.516,1151.87 746.858,1152.72 748.201,1153.57 \n",
       "  749.544,1154.41 750.887,1155.25 752.229,1156.09 753.572,1156.93 754.915,1157.76 756.258,1158.59 757.6,1159.41 758.943,1160.24 760.286,1161.06 761.629,1161.87 \n",
       "  762.971,1162.69 764.314,1163.5 765.657,1164.31 767,1165.11 768.342,1165.91 769.685,1166.71 771.028,1167.51 772.371,1168.31 773.713,1169.1 775.056,1169.88 \n",
       "  776.399,1170.67 777.742,1171.45 779.085,1172.23 780.427,1173.01 781.77,1173.78 783.113,1174.55 784.456,1175.32 785.798,1176.09 787.141,1176.85 788.484,1177.61 \n",
       "  789.827,1178.37 791.169,1179.12 792.512,1179.88 793.855,1180.63 795.198,1181.37 796.54,1182.12 797.883,1182.86 799.226,1183.6 800.569,1184.33 801.911,1185.07 \n",
       "  803.254,1185.8 804.597,1186.53 805.94,1187.25 807.282,1187.97 808.625,1188.69 809.968,1189.41 811.311,1190.13 812.653,1190.84 813.996,1191.55 815.339,1192.26 \n",
       "  816.682,1192.96 818.024,1193.66 819.367,1194.36 820.71,1195.06 822.053,1195.76 823.396,1196.45 824.738,1197.14 826.081,1197.82 827.424,1198.51 828.767,1199.19 \n",
       "  830.109,1199.87 831.452,1200.55 832.795,1201.22 834.138,1201.9 835.48,1202.57 836.823,1203.23 838.166,1203.9 839.509,1204.56 840.851,1205.22 842.194,1205.88 \n",
       "  843.537,1206.54 844.88,1207.19 846.222,1207.84 847.565,1208.49 848.908,1209.14 850.251,1209.78 851.593,1210.42 852.936,1211.06 854.279,1211.7 855.622,1212.33 \n",
       "  856.964,1212.97 858.307,1213.6 859.65,1214.22 860.993,1214.85 862.335,1215.47 863.678,1216.09 865.021,1216.71 866.364,1217.33 867.707,1217.94 869.049,1218.56 \n",
       "  870.392,1219.17 871.735,1219.77 873.078,1220.38 874.42,1220.98 875.763,1221.59 877.106,1222.18 878.449,1222.78 879.791,1223.38 881.134,1223.97 882.477,1224.56 \n",
       "  883.82,1225.15 885.162,1225.73 886.505,1226.32 887.848,1226.9 889.191,1227.48 890.533,1228.06 891.876,1228.63 893.219,1229.21 894.562,1229.78 895.904,1230.35 \n",
       "  897.247,1230.92 898.59,1231.48 899.933,1232.05 901.275,1232.61 902.618,1233.17 903.961,1233.72 905.304,1234.28 906.646,1234.83 907.989,1235.39 909.332,1235.93 \n",
       "  910.675,1236.48 912.018,1237.03 913.36,1237.57 914.703,1238.11 916.046,1238.65 917.389,1239.19 918.731,1239.73 920.074,1240.26 921.417,1240.79 922.76,1241.32 \n",
       "  924.102,1241.85 925.445,1242.38 926.788,1242.9 928.131,1243.42 929.473,1243.94 930.816,1244.46 932.159,1244.98 933.502,1245.49 934.844,1246.01 936.187,1246.52 \n",
       "  937.53,1247.03 938.873,1247.53 940.215,1248.04 941.558,1248.54 942.901,1249.05 944.244,1249.55 945.586,1250.05 946.929,1250.54 948.272,1251.04 949.615,1251.53 \n",
       "  950.957,1252.02 952.3,1252.51 953.643,1253 954.986,1253.48 956.328,1253.97 957.671,1254.45 959.014,1254.93 960.357,1255.41 961.7,1255.89 963.042,1256.36 \n",
       "  964.385,1256.84 965.728,1257.31 967.071,1257.78 968.413,1258.25 969.756,1258.72 971.099,1259.18 972.442,1259.65 973.784,1260.11 975.127,1260.57 976.47,1261.03 \n",
       "  977.813,1261.48 979.155,1261.94 980.498,1262.39 981.841,1262.85 983.184,1263.3 984.526,1263.75 985.869,1264.19 987.212,1264.64 988.555,1265.08 989.897,1265.52 \n",
       "  991.24,1265.97 992.583,1266.4 993.926,1266.84 995.268,1267.28 996.611,1267.71 997.954,1268.15 999.297,1268.58 1000.64,1269.01 1001.98,1269.44 1003.33,1269.86 \n",
       "  1004.67,1270.29 1006.01,1270.71 1007.35,1271.13 1008.7,1271.56 1010.04,1271.97 1011.38,1272.39 1012.72,1272.81 1014.07,1273.22 1015.41,1273.64 1016.75,1274.05 \n",
       "  1018.1,1274.46 1019.44,1274.87 1020.78,1275.27 1022.12,1275.68 1023.47,1276.08 1024.81,1276.49 1026.15,1276.89 1027.49,1277.29 1028.84,1277.69 1030.18,1278.08 \n",
       "  1031.52,1278.48 1032.87,1278.87 1034.21,1279.27 1035.55,1279.66 1036.89,1280.05 1038.24,1280.44 1039.58,1280.82 1040.92,1281.21 1042.26,1281.59 1043.61,1281.98 \n",
       "  1044.95,1282.36 1046.29,1282.74 1047.64,1283.12 1048.98,1283.5 1050.32,1283.87 1051.66,1284.25 1053.01,1284.62 1054.35,1284.99 1055.69,1285.36 1057.04,1285.73 \n",
       "  1058.38,1286.1 1059.72,1286.47 1061.06,1286.83 1062.41,1287.2 1063.75,1287.56 1065.09,1287.92 1066.43,1288.28 1067.78,1288.64 1069.12,1289 1070.46,1289.35 \n",
       "  1071.81,1289.71 1073.15,1290.06 1074.49,1290.42 1075.83,1290.77 1077.18,1291.12 1078.52,1291.47 1079.86,1291.81 1081.2,1292.16 1082.55,1292.5 1083.89,1292.85 \n",
       "  1085.23,1293.19 1086.58,1293.53 1087.92,1293.87 1089.26,1294.21 1090.6,1294.55 1091.95,1294.88 1093.29,1295.22 1094.63,1295.55 1095.98,1295.89 1097.32,1296.22 \n",
       "  1098.66,1296.55 1100,1296.88 1101.35,1297.21 1102.69,1297.53 1104.03,1297.86 1105.37,1298.18 1106.72,1298.51 1108.06,1298.83 1109.4,1299.15 1110.75,1299.47 \n",
       "  1112.09,1299.79 1113.43,1300.1 1114.77,1300.42 1116.12,1300.74 1117.46,1301.05 1118.8,1301.36 1120.14,1301.68 1121.49,1301.99 1122.83,1302.3 1124.17,1302.6 \n",
       "  1125.52,1302.91 1126.86,1303.22 1128.2,1303.52 1129.54,1303.83 1130.89,1304.13 1132.23,1304.43 1133.57,1304.73 1134.92,1305.03 1136.26,1305.33 1137.6,1305.63 \n",
       "  1138.94,1305.92 1140.29,1306.22 1141.63,1306.51 1142.97,1306.81 1144.31,1307.1 1145.66,1307.39 1147,1307.68 1148.34,1307.97 1149.69,1308.26 1151.03,1308.55 \n",
       "  1152.37,1308.83 1153.71,1309.12 1155.06,1309.4 1156.4,1309.68 1157.74,1309.96 1159.08,1310.25 1160.43,1310.53 1161.77,1310.8 1163.11,1311.08 1164.46,1311.36 \n",
       "  1165.8,1311.63 1167.14,1311.91 1168.48,1312.18 1169.83,1312.46 1171.17,1312.73 1172.51,1313 1173.86,1313.27 1175.2,1313.54 1176.54,1313.81 1177.88,1314.07 \n",
       "  1179.23,1314.34 1180.57,1314.6 1181.91,1314.87 1183.25,1315.13 1184.6,1315.39 1185.94,1315.65 1187.28,1315.92 1188.63,1316.17 1189.97,1316.43 1191.31,1316.69 \n",
       "  1192.65,1316.95 1194,1317.2 1195.34,1317.46 1196.68,1317.71 1198.02,1317.96 1199.37,1318.22 1200.71,1318.47 1202.05,1318.72 1203.4,1318.97 1204.74,1319.22 \n",
       "  1206.08,1319.46 1207.42,1319.71 1208.77,1319.96 1210.11,1320.2 1211.45,1320.44 1212.8,1320.69 1214.14,1320.93 1215.48,1321.17 1216.82,1321.41 1218.17,1321.65 \n",
       "  1219.51,1321.89 1220.85,1322.13 1222.19,1322.36 1223.54,1322.6 1224.88,1322.84 1226.22,1323.07 1227.57,1323.3 1228.91,1323.54 1230.25,1323.77 1231.59,1324 \n",
       "  1232.94,1324.23 1234.28,1324.46 1235.62,1324.69 1236.96,1324.92 1238.31,1325.14 1239.65,1325.37 1240.99,1325.59 1242.34,1325.82 1243.68,1326.04 1245.02,1326.27 \n",
       "  1246.36,1326.49 1247.71,1326.71 1249.05,1326.93 1250.39,1327.15 1251.74,1327.37 1253.08,1327.59 1254.42,1327.8 1255.76,1328.02 1257.11,1328.24 1258.45,1328.45 \n",
       "  1259.79,1328.67 1261.13,1328.88 1262.48,1329.09 1263.82,1329.3 1265.16,1329.52 1266.51,1329.73 1267.85,1329.94 1269.19,1330.14 1270.53,1330.35 1271.88,1330.56 \n",
       "  1273.22,1330.77 1274.56,1330.97 1275.9,1331.18 1277.25,1331.38 1278.59,1331.59 1279.93,1331.79 1281.28,1331.99 1282.62,1332.19 1283.96,1332.39 1285.3,1332.59 \n",
       "  1286.65,1332.79 1287.99,1332.99 1289.33,1333.19 1290.68,1333.39 1292.02,1333.58 1293.36,1333.78 1294.7,1333.97 1296.05,1334.17 1297.39,1334.36 1298.73,1334.55 \n",
       "  1300.07,1334.75 1301.42,1334.94 1302.76,1335.13 1304.1,1335.32 1305.45,1335.51 1306.79,1335.7 1308.13,1335.89 1309.47,1336.07 1310.82,1336.26 1312.16,1336.45 \n",
       "  1313.5,1336.63 1314.84,1336.82 1316.19,1337 1317.53,1337.18 1318.87,1337.37 1320.22,1337.55 1321.56,1337.73 1322.9,1337.91 1324.24,1338.09 1325.59,1338.27 \n",
       "  1326.93,1338.45 1328.27,1338.63 1329.62,1338.81 1330.96,1338.98 1332.3,1339.16 1333.64,1339.33 1334.99,1339.51 1336.33,1339.68 1337.67,1339.86 1339.01,1340.03 \n",
       "  1340.36,1340.2 1341.7,1340.38 1343.04,1340.55 1344.39,1340.72 1345.73,1340.89 1347.07,1341.06 1348.41,1341.23 1349.76,1341.39 1351.1,1341.56 1352.44,1341.73 \n",
       "  1353.78,1341.9 1355.13,1342.06 1356.47,1342.23 1357.81,1342.39 1359.16,1342.56 1360.5,1342.72 1361.84,1342.88 1363.18,1343.04 1364.53,1343.21 1365.87,1343.37 \n",
       "  1367.21,1343.53 1368.56,1343.69 1369.9,1343.85 1371.24,1344.01 1372.58,1344.16 1373.93,1344.32 1375.27,1344.48 1376.61,1344.63 1377.95,1344.79 1379.3,1344.95 \n",
       "  1380.64,1345.1 1381.98,1345.26 1383.33,1345.41 1384.67,1345.56 1386.01,1345.71 1387.35,1345.87 1388.7,1346.02 1390.04,1346.17 1391.38,1346.32 1392.72,1346.47 \n",
       "  1394.07,1346.62 1395.41,1346.77 1396.75,1346.92 1398.1,1347.06 1399.44,1347.21 1400.78,1347.36 1402.12,1347.5 1403.47,1347.65 1404.81,1347.79 1406.15,1347.94 \n",
       "  1407.49,1348.08 1408.84,1348.23 1410.18,1348.37 1411.52,1348.51 1412.87,1348.65 1414.21,1348.8 1415.55,1348.94 1416.89,1349.08 1418.24,1349.22 1419.58,1349.36 \n",
       "  1420.92,1349.5 1422.27,1349.63 1423.61,1349.77 1424.95,1349.91 1426.29,1350.05 1427.64,1350.18 1428.98,1350.32 1430.32,1350.45 1431.66,1350.59 1433.01,1350.72 \n",
       "  1434.35,1350.86 1435.69,1350.99 1437.04,1351.12 1438.38,1351.26 1439.72,1351.39 1441.06,1351.52 1442.41,1351.65 1443.75,1351.78 1445.09,1351.91 1446.43,1352.04 \n",
       "  1447.78,1352.17 1449.12,1352.3 1450.46,1352.43 1451.81,1352.56 1453.15,1352.68 1454.49,1352.81 1455.83,1352.94 1457.18,1353.06 1458.52,1353.19 1459.86,1353.31 \n",
       "  1461.21,1353.44 1462.55,1353.56 1463.89,1353.69 1465.23,1353.81 1466.58,1353.93 1467.92,1354.06 1469.26,1354.18 1470.6,1354.3 1471.95,1354.42 1473.29,1354.54 \n",
       "  1474.63,1354.66 1475.98,1354.78 1477.32,1354.9 1478.66,1355.02 1480,1355.14 1481.35,1355.26 1482.69,1355.37 1484.03,1355.49 1485.37,1355.61 1486.72,1355.73 \n",
       "  1488.06,1355.84 1489.4,1355.96 1490.75,1356.07 1492.09,1356.19 1493.43,1356.3 1494.77,1356.41 1496.12,1356.53 1497.46,1356.64 1498.8,1356.75 1500.15,1356.87 \n",
       "  1501.49,1356.98 1502.83,1357.09 1504.17,1357.2 1505.52,1357.31 1506.86,1357.42 1508.2,1357.53 1509.54,1357.64 1510.89,1357.75 1512.23,1357.86 1513.57,1357.97 \n",
       "  1514.92,1358.08 1516.26,1358.18 1517.6,1358.29 1518.94,1358.4 1520.29,1358.5 1521.63,1358.61 1522.97,1358.72 1524.31,1358.82 1525.66,1358.93 1527,1359.03 \n",
       "  1528.34,1359.13 1529.69,1359.24 1531.03,1359.34 1532.37,1359.44 1533.71,1359.55 1535.06,1359.65 1536.4,1359.75 1537.74,1359.85 1539.09,1359.95 1540.43,1360.05 \n",
       "  1541.77,1360.15 1543.11,1360.25 1544.46,1360.35 1545.8,1360.45 1547.14,1360.55 1548.48,1360.65 1549.83,1360.75 1551.17,1360.85 1552.51,1360.94 1553.86,1361.04 \n",
       "  1555.2,1361.14 1556.54,1361.24 1557.88,1361.33 1559.23,1361.43 1560.57,1361.52 1561.91,1361.62 1563.25,1361.71 1564.6,1361.81 1565.94,1361.9 1567.28,1362 \n",
       "  1568.63,1362.09 1569.97,1362.18 1571.31,1362.27 1572.65,1362.37 1574,1362.46 1575.34,1362.55 1576.68,1362.64 1578.03,1362.73 1579.37,1362.82 1580.71,1362.91 \n",
       "  1582.05,1363 1583.4,1363.09 1584.74,1363.18 1586.08,1363.27 1587.42,1363.36 1588.77,1363.45 1590.11,1363.54 1591.45,1363.63 1592.8,1363.71 1594.14,1363.8 \n",
       "  1595.48,1363.89 1596.82,1363.97 1598.17,1364.06 1599.51,1364.15 1600.85,1364.23 1602.19,1364.32 1603.54,1364.4 1604.88,1364.49 1606.22,1364.57 1607.57,1364.66 \n",
       "  1608.91,1364.74 1610.25,1364.82 1611.59,1364.91 1612.94,1364.99 1614.28,1365.07 1615.62,1365.16 1616.97,1365.24 1618.31,1365.32 1619.65,1365.4 1620.99,1365.48 \n",
       "  1622.34,1365.56 1623.68,1365.64 1625.02,1365.72 1626.36,1365.8 1627.71,1365.88 1629.05,1365.96 1630.39,1366.04 1631.74,1366.12 1633.08,1366.2 1634.42,1366.28 \n",
       "  1635.76,1366.36 1637.11,1366.43 1638.45,1366.51 1639.79,1366.59 1641.13,1366.66 1642.48,1366.74 1643.82,1366.82 1645.16,1366.89 1646.51,1366.97 1647.85,1367.04 \n",
       "  1649.19,1367.12 1650.53,1367.2 1651.88,1367.27 1653.22,1367.34 1654.56,1367.42 1655.91,1367.49 1657.25,1367.57 1658.59,1367.64 1659.93,1367.71 1661.28,1367.79 \n",
       "  1662.62,1367.86 1663.96,1367.93 1665.3,1368 1666.65,1368.07 1667.99,1368.15 1669.33,1368.22 1670.68,1368.29 1672.02,1368.36 1673.36,1368.43 1674.7,1368.5 \n",
       "  1676.05,1368.57 1677.39,1368.64 1678.73,1368.71 1680.07,1368.78 1681.42,1368.85 1682.76,1368.92 1684.1,1368.98 1685.45,1369.05 1686.79,1369.12 1688.13,1369.19 \n",
       "  1689.47,1369.26 1690.82,1369.32 1692.16,1369.39 1693.5,1369.46 1694.85,1369.52 1696.19,1369.59 1697.53,1369.66 1698.87,1369.72 1700.22,1369.79 1701.56,1369.85 \n",
       "  1702.9,1369.92 1704.24,1369.98 1705.59,1370.05 1706.93,1370.11 1708.27,1370.18 1709.62,1370.24 1710.96,1370.3 1712.3,1370.37 1713.64,1370.43 1714.99,1370.49 \n",
       "  1716.33,1370.56 1717.67,1370.62 1719.01,1370.68 1720.36,1370.74 1721.7,1370.81 1723.04,1370.87 1724.39,1370.93 1725.73,1370.99 1727.07,1371.05 1728.41,1371.11 \n",
       "  1729.76,1371.17 1731.1,1371.23 1732.44,1371.29 1733.79,1371.35 1735.13,1371.41 1736.47,1371.47 1737.81,1371.53 1739.16,1371.59 1740.5,1371.65 1741.84,1371.71 \n",
       "  1743.18,1371.77 1744.53,1371.82 1745.87,1371.88 1747.21,1371.94 1748.56,1372 1749.9,1372.06 1751.24,1372.11 1752.58,1372.17 1753.93,1372.23 1755.27,1372.28 \n",
       "  1756.61,1372.34 1757.95,1372.4 1759.3,1372.45 1760.64,1372.51 1761.98,1372.56 1763.33,1372.62 1764.67,1372.67 1766.01,1372.73 1767.35,1372.78 1768.7,1372.84 \n",
       "  1770.04,1372.89 1771.38,1372.95 1772.72,1373 1774.07,1373.05 1775.41,1373.11 1776.75,1373.16 1778.1,1373.21 1779.44,1373.27 1780.78,1373.32 1782.12,1373.37 \n",
       "  1783.47,1373.42 1784.81,1373.48 1786.15,1373.53 1787.5,1373.58 1788.84,1373.63 1790.18,1373.68 1791.52,1373.74 1792.87,1373.79 1794.21,1373.84 1795.55,1373.89 \n",
       "  1796.89,1373.94 1798.24,1373.99 1799.58,1374.04 1800.92,1374.09 1802.27,1374.14 1803.61,1374.19 1804.95,1374.24 1806.29,1374.29 1807.64,1374.34 1808.98,1374.39 \n",
       "  1810.32,1374.44 1811.66,1374.48 1813.01,1374.53 1814.35,1374.58 1815.69,1374.63 1817.04,1374.68 1818.38,1374.72 1819.72,1374.77 1821.06,1374.82 1822.41,1374.87 \n",
       "  1823.75,1374.91 1825.09,1374.96 1826.44,1375.01 1827.78,1375.05 1829.12,1375.1 1830.46,1375.15 1831.81,1375.19 1833.15,1375.24 1834.49,1375.28 1835.83,1375.33 \n",
       "  1837.18,1375.37 1838.52,1375.42 1839.86,1375.47 1841.21,1375.51 1842.55,1375.55 1843.89,1375.6 1845.23,1375.64 1846.58,1375.69 1847.92,1375.73 1849.26,1375.78 \n",
       "  1850.6,1375.82 1851.95,1375.86 1853.29,1375.91 1854.63,1375.95 1855.98,1375.99 1857.32,1376.04 1858.66,1376.08 1860,1376.12 1861.35,1376.16 1862.69,1376.21 \n",
       "  1864.03,1376.25 1865.38,1376.29 1866.72,1376.33 1868.06,1376.38 1869.4,1376.42 1870.75,1376.46 1872.09,1376.5 1873.43,1376.54 1874.77,1376.58 1876.12,1376.62 \n",
       "  1877.46,1376.66 1878.8,1376.7 1880.15,1376.74 1881.49,1376.78 1882.83,1376.83 1884.17,1376.87 1885.52,1376.9 1886.86,1376.94 1888.2,1376.98 1889.54,1377.02 \n",
       "  1890.89,1377.06 1892.23,1377.1 1893.57,1377.14 1894.92,1377.18 1896.26,1377.22 1897.6,1377.26 1898.94,1377.3 1900.29,1377.33 1901.63,1377.37 1902.97,1377.41 \n",
       "  1904.32,1377.45 1905.66,1377.49 1907,1377.52 1908.34,1377.56 1909.69,1377.6 1911.03,1377.64 1912.37,1377.67 1913.71,1377.71 1915.06,1377.75 1916.4,1377.78 \n",
       "  1917.74,1377.82 1919.09,1377.86 1920.43,1377.89 1921.77,1377.93 1923.11,1377.96 1924.46,1378 1925.8,1378.04 1927.14,1378.07 1928.48,1378.11 1929.83,1378.14 \n",
       "  1931.17,1378.18 1932.51,1378.21 1933.86,1378.25 1935.2,1378.28 1936.54,1378.32 1937.88,1378.35 1939.23,1378.39 1940.57,1378.42 1941.91,1378.46 1943.26,1378.49 \n",
       "  1944.6,1378.52 1945.94,1378.56 1947.28,1378.59 1948.63,1378.63 1949.97,1378.66 1951.31,1378.69 1952.65,1378.73 1954,1378.76 1955.34,1378.79 1956.68,1378.82 \n",
       "  1958.03,1378.86 1959.37,1378.89 1960.71,1378.92 1962.05,1378.96 1963.4,1378.99 1964.74,1379.02 1966.08,1379.05 1967.42,1379.08 1968.77,1379.12 1970.11,1379.15 \n",
       "  1971.45,1379.18 1972.8,1379.21 1974.14,1379.24 1975.48,1379.27 1976.82,1379.3 1978.17,1379.34 1979.51,1379.37 1980.85,1379.4 1982.2,1379.43 1983.54,1379.46 \n",
       "  1984.88,1379.49 1986.22,1379.52 1987.57,1379.55 1988.91,1379.58 1990.25,1379.61 1991.59,1379.64 1992.94,1379.67 1994.28,1379.7 1995.62,1379.73 1996.97,1379.76 \n",
       "  1998.31,1379.79 1999.65,1379.82 2000.99,1379.85 2002.34,1379.88 2003.68,1379.91 2005.02,1379.93 2006.36,1379.96 2007.71,1379.99 2009.05,1380.02 2010.39,1380.05 \n",
       "  2011.74,1380.08 2013.08,1380.11 2014.42,1380.13 2015.76,1380.16 2017.11,1380.19 2018.45,1380.22 2019.79,1380.25 2021.14,1380.27 2022.48,1380.3 2023.82,1380.33 \n",
       "  2025.16,1380.36 2026.51,1380.38 2027.85,1380.41 2029.19,1380.44 2030.53,1380.46 2031.88,1380.49 2033.22,1380.52 2034.56,1380.54 2035.91,1380.57 2037.25,1380.6 \n",
       "  2038.59,1380.62 2039.93,1380.65 2041.28,1380.68 2042.62,1380.7 2043.96,1380.73 2045.3,1380.76 2046.65,1380.78 2047.99,1380.81 2049.33,1380.83 2050.68,1380.86 \n",
       "  2052.02,1380.88 2053.36,1380.91 2054.7,1380.93 2056.05,1380.96 2057.39,1380.98 2058.73,1381.01 2060.08,1381.03 2061.42,1381.06 2062.76,1381.08 2064.1,1381.11 \n",
       "  2065.45,1381.13 2066.79,1381.16 2068.13,1381.18 2069.47,1381.21 2070.82,1381.23 2072.16,1381.26 2073.5,1381.28 2074.85,1381.3 2076.19,1381.33 2077.53,1381.35 \n",
       "  2078.87,1381.37 2080.22,1381.4 2081.56,1381.42 2082.9,1381.45 2084.24,1381.47 2085.59,1381.49 2086.93,1381.51 2088.27,1381.54 2089.62,1381.56 2090.96,1381.58 \n",
       "  2092.3,1381.61 2093.64,1381.63 2094.99,1381.65 2096.33,1381.68 2097.67,1381.7 2099.02,1381.72 2100.36,1381.74 2101.7,1381.76 2103.04,1381.79 2104.39,1381.81 \n",
       "  2105.73,1381.83 2107.07,1381.85 2108.41,1381.88 2109.76,1381.9 2111.1,1381.92 2112.44,1381.94 2113.79,1381.96 2115.13,1381.98 2116.47,1382 2117.81,1382.03 \n",
       "  2119.16,1382.05 2120.5,1382.07 2121.84,1382.09 2123.18,1382.11 2124.53,1382.13 2125.87,1382.15 2127.21,1382.17 2128.56,1382.19 2129.9,1382.21 2131.24,1382.24 \n",
       "  2132.58,1382.26 2133.93,1382.28 2135.27,1382.3 2136.61,1382.32 2137.96,1382.34 2139.3,1382.36 2140.64,1382.38 2141.98,1382.4 2143.33,1382.42 2144.67,1382.44 \n",
       "  2146.01,1382.46 2147.35,1382.48 2148.7,1382.5 2150.04,1382.52 2151.38,1382.54 2152.73,1382.56 2154.07,1382.57 2155.41,1382.59 2156.75,1382.61 2158.1,1382.63 \n",
       "  2159.44,1382.65 2160.78,1382.67 2162.12,1382.69 2163.47,1382.71 2164.81,1382.73 2166.15,1382.75 2167.5,1382.76 2168.84,1382.78 2170.18,1382.8 2171.52,1382.82 \n",
       "  2172.87,1382.84 2174.21,1382.86 2175.55,1382.88 2176.89,1382.89 2178.24,1382.91 2179.58,1382.93 2180.92,1382.95 2182.27,1382.97 2183.61,1382.98 2184.95,1383 \n",
       "  2186.29,1383.02 2187.64,1383.04 2188.98,1383.05 2190.32,1383.07 2191.67,1383.09 2193.01,1383.11 2194.35,1383.12 2195.69,1383.14 2197.04,1383.16 2198.38,1383.18 \n",
       "  2199.72,1383.19 2201.06,1383.21 2202.41,1383.23 2203.75,1383.24 2205.09,1383.26 2206.44,1383.28 2207.78,1383.29 2209.12,1383.31 2210.46,1383.33 2211.81,1383.34 \n",
       "  2213.15,1383.36 2214.49,1383.38 2215.83,1383.39 2217.18,1383.41 2218.52,1383.43 2219.86,1383.44 2221.21,1383.46 2222.55,1383.48 2223.89,1383.49 2225.23,1383.51 \n",
       "  2226.58,1383.52 2227.92,1383.54 2229.26,1383.56 2230.61,1383.57 2231.95,1383.59 2233.29,1383.6 2234.63,1383.62 2235.98,1383.63 2237.32,1383.65 2238.66,1383.66 \n",
       "  2240,1383.68 2241.35,1383.7 2242.69,1383.71 2244.03,1383.73 2245.38,1383.74 2246.72,1383.76 2248.06,1383.77 2249.4,1383.79 2250.75,1383.8 2252.09,1383.82 \n",
       "  2253.43,1383.83 2254.77,1383.85 2256.12,1383.86 2257.46,1383.87 2258.8,1383.89 2260.15,1383.9 2261.49,1383.92 2262.83,1383.93 2264.17,1383.95 2265.52,1383.96 \n",
       "  2266.86,1383.98 2268.2,1383.99 2269.55,1384 2270.89,1384.02 2272.23,1384.03 2273.57,1384.05 2274.92,1384.06 2276.26,1384.07 2277.6,1384.09 2278.94,1384.1 \n",
       "  2280.29,1384.12 2281.63,1384.13 2282.97,1384.14 2284.32,1384.16 2285.66,1384.17 2287,1384.18 2288.34,1384.2 2289.69,1384.21 2291.03,1384.22 2292.37,1384.24 \n",
       "  \n",
       "  \"/>\n",
       "<path clip-path=\"url(#clip260)\" d=\"\n",
       "M1992.14 196.789 L2281.64 196.789 L2281.64 93.1086 L1992.14 93.1086  Z\n",
       "  \" fill=\"#ffffff\" fill-rule=\"evenodd\" fill-opacity=\"1\"/>\n",
       "<polyline clip-path=\"url(#clip260)\" style=\"stroke:#000000; stroke-linecap:butt; stroke-linejoin:round; stroke-width:4; stroke-opacity:1; fill:none\" points=\"\n",
       "  1992.14,196.789 2281.64,196.789 2281.64,93.1086 1992.14,93.1086 1992.14,196.789 \n",
       "  \"/>\n",
       "<polyline clip-path=\"url(#clip260)\" style=\"stroke:#ff0000; stroke-linecap:butt; stroke-linejoin:round; stroke-width:4; stroke-opacity:1; fill:none\" points=\"\n",
       "  2015.85,144.949 2158.09,144.949 \n",
       "  \"/>\n",
       "<path clip-path=\"url(#clip260)\" d=\"M2195.64 164.636 Q2193.83 169.266 2192.12 170.678 Q2190.41 172.09 2187.54 172.09 L2184.13 172.09 L2184.13 168.525 L2186.63 168.525 Q2188.39 168.525 2189.36 167.692 Q2190.34 166.858 2191.52 163.756 L2192.28 161.812 L2181.79 136.303 L2186.31 136.303 L2194.41 156.581 L2202.51 136.303 L2207.03 136.303 L2195.64 164.636 Z\" fill=\"#000000\" fill-rule=\"evenodd\" fill-opacity=\"1\" /><path clip-path=\"url(#clip260)\" d=\"M2214.32 158.293 L2221.96 158.293 L2221.96 131.928 L2213.65 133.595 L2213.65 129.335 L2221.91 127.669 L2226.59 127.669 L2226.59 158.293 L2234.22 158.293 L2234.22 162.229 L2214.32 162.229 L2214.32 158.293 Z\" fill=\"#000000\" fill-rule=\"evenodd\" fill-opacity=\"1\" /></svg>\n"
      ]
     },
     "execution_count": 44,
     "metadata": {},
     "output_type": "execute_result"
    }
   ],
   "source": [
    "Plots.plot(getindex.(result, 1), getindex.(result, 3), linewidth=3, color=:red, \n",
    "        xlabel=\"Iterations\",\n",
    "        ylabel=\"Cost Function\")"
   ]
  },
  {
   "cell_type": "code",
   "execution_count": 45,
   "id": "contrary-carroll",
   "metadata": {},
   "outputs": [
    {
     "data": {
      "application/vnd.webio.node+json": {
       "children": [
        "Hello, Jupyter"
       ],
       "instanceArgs": {
        "namespace": "html",
        "tag": "p"
       },
       "nodeType": "DOM",
       "props": {},
       "type": "node"
      },
      "text/html": [
       "<div\n",
       "    class=\"webio-mountpoint\"\n",
       "    data-webio-mountpoint=\"4087350718891892167\"\n",
       ">\n",
       "    <script>\n",
       "    (function(){\n",
       "    // Some integrations (namely, IJulia/Jupyter) use an alternate render pathway than\n",
       "    // just putting the html on the page. If WebIO isn't defined, then it's pretty likely\n",
       "    // that we're in one of those situations and the integration just isn't installed\n",
       "    // correctly.\n",
       "    if (typeof window.WebIO === \"undefined\") {\n",
       "        document\n",
       "            .querySelector('[data-webio-mountpoint=\"4087350718891892167\"]')\n",
       "            .innerHTML = (\n",
       "                '<div style=\"padding: 1em; background-color: #f8d6da; border: 1px solid #f5c6cb; font-weight: bold;\">' +\n",
       "                '<p><strong>WebIO not detected.</strong></p>' +\n",
       "                '<p>Please read ' +\n",
       "                '<a href=\"https://juliagizmos.github.io/WebIO.jl/latest/troubleshooting/not-detected/\" target=\"_blank\">the troubleshooting guide</a> ' +\n",
       "                'for more information on how to resolve this issue.</p>' +\n",
       "                '<p><a href=\"https://juliagizmos.github.io/WebIO.jl/latest/troubleshooting/not-detected/\" target=\"_blank\">https://juliagizmos.github.io/WebIO.jl/latest/troubleshooting/not-detected/</a></p>' +\n",
       "                '</div>'\n",
       "            );\n",
       "        return;\n",
       "    }\n",
       "    WebIO.mount(\n",
       "        document.querySelector('[data-webio-mountpoint=\"4087350718891892167\"]'),\n",
       "        {\"props\":{},\"nodeType\":\"DOM\",\"type\":\"node\",\"instanceArgs\":{\"namespace\":\"html\",\"tag\":\"p\"},\"children\":[\"Hello, Jupyter\"]},\n",
       "        window,\n",
       "    );\n",
       "    })()\n",
       "    </script>\n",
       "</div>\n"
      ],
      "text/plain": [
       "(p\n",
       "  \"Hello, Jupyter\")"
      ]
     },
     "execution_count": 45,
     "metadata": {
      "application/vnd.webio.node+json": {
       "kernelId": "5e7fad60-e191-4c69-8a4c-bad091a4cf9c"
      }
     },
     "output_type": "execute_result"
    }
   ],
   "source": [
    "using WebIO\n",
    "node(:p, \"Hello, Jupyter\")"
   ]
  },
  {
   "cell_type": "code",
   "execution_count": 46,
   "id": "a8d0b94e",
   "metadata": {},
   "outputs": [
    {
     "data": {
      "text/plain": [
       "21×21 Matrix{Any}:\n",
       " 328.093    304.594    282.095    260.596    …   58.1121   52.6131   48.1142\n",
       " 273.554    252.095    231.636    212.177        40.2923   36.8334   34.3744\n",
       " 224.103    204.684    186.265    168.846        27.5604   26.1413   25.7223\n",
       " 179.74     162.361    145.981    130.602        19.9161   20.5371   22.158\n",
       " 140.464    125.125    110.786     97.4467       17.3597   20.0205   23.6814\n",
       " 106.276     92.9771    80.6779    69.3787   …   19.8909   24.5917   30.2925\n",
       "  77.1762    65.9169    55.6577    46.3984       27.5099   34.2507   41.9915\n",
       "  53.1638    43.9445    35.7252    28.506        40.2167   48.9974   58.7781\n",
       "  34.2392    27.0599    20.8805    15.7012       58.0112   68.8318   80.6525\n",
       "  20.4024    15.263     11.1236     7.9842       80.8934   93.754   107.615\n",
       "  11.6532     8.55381    6.45438    5.35494  …  108.863   123.764   139.665\n",
       "   7.99188    6.9324     6.87291    7.81343     141.921   158.862   176.802\n",
       "   9.41827   10.3987    12.3792    15.3597      180.067   199.047   219.028\n",
       "  15.9324    18.9528    22.9732    27.9936      223.3     244.32    266.341\n",
       "  27.5343    32.5946    38.655     45.7154      271.621   294.681   318.742\n",
       "  44.2239    51.3242    59.4245    68.5249   …  325.03    350.13    376.23\n",
       "  66.0013    75.1415    85.2818    96.4221      383.526   410.666   438.807\n",
       "  92.8664   104.047    116.227    129.407       447.11    476.29    506.471\n",
       " 124.819    138.039    152.26     167.48        515.782   547.002   579.223\n",
       " 161.86     177.12     193.38     210.64        589.542   622.802   657.062\n",
       " 203.988    221.288    239.588    258.888    …  668.389   703.689   739.99"
      ]
     },
     "execution_count": 46,
     "metadata": {},
     "output_type": "execute_result"
    }
   ],
   "source": [
    "x = C.population\n",
    "y = C.profit\n",
    "\n",
    "m = length(y)\n",
    "x1 = ones(m, 1)\n",
    "X = hcat(x1, x);\n",
    "\n",
    "function CostFunction(X, y, theta)\n",
    "    JTheta = (1 / (2 * m)) * (sum((X * theta - y) .^ 2))\n",
    "    return JTheta\n",
    "end\n",
    "\n",
    "\n",
    "theta0s = range(-10, 10, step=1)\n",
    "theta1s = range(-1, 4, step=0.25)\n",
    "costtheta = []\n",
    "\n",
    "for i in theta0s\n",
    "    for j in theta1s\n",
    "        theta = [i, j]\n",
    "        push!(costtheta, CostFunction(X, y, theta))\n",
    "    end\n",
    "end\n",
    "\n",
    "axis_length = length(theta0s)\n",
    "cost_function_matrix = reshape(costtheta, (axis_length, axis_length))\n"
   ]
  },
  {
   "cell_type": "code",
   "execution_count": 47,
   "id": "d5b06e0a",
   "metadata": {},
   "outputs": [
    {
     "data": {
      "application/vnd.plotly.v1+json": {
       "config": {
        "editable": false,
        "responsive": true,
        "scrollZoom": true,
        "showLink": false,
        "staticPlot": false
       },
       "data": [
        {
         "contours": {
          "z": {
           "highlightcolor": "limegreen",
           "project": {
            "z": true
           },
           "show": true,
           "usecolormap": true
          }
         },
         "type": "surface",
         "x": [
          -10,
          -9,
          -8,
          -7,
          -6,
          -5,
          -4,
          -3,
          -2,
          -1,
          0,
          1,
          2,
          3,
          4,
          5,
          6,
          7,
          8,
          9,
          10
         ],
         "y": [
          -1,
          -0.75,
          -0.5,
          -0.25,
          0,
          0.25,
          0.5,
          0.75,
          1,
          1.25,
          1.5,
          1.75,
          2,
          2.25,
          2.5,
          2.75,
          3,
          3.25,
          3.5,
          3.75,
          4
         ],
         "z": [
          [
           328.0929055495072,
           273.554080620792,
           224.1030021184556,
           179.73967004249818,
           140.4640843929196,
           106.27624516971984,
           77.17615237289897,
           53.163806002456965,
           34.23920605839381,
           20.402352540709536,
           11.653245449404128,
           7.991884784477576,
           9.418270545929895,
           15.932402733761085,
           27.534281347971135,
           44.223906388560046,
           66.00127785552783,
           92.86639574887447,
           124.81926006859999,
           161.85987081470438,
           203.98822798718754
          ],
          [
           304.5939704979609,
           252.09509556924556,
           204.68396706690928,
           162.36058499095182,
           125.12494934137318,
           92.97706011817343,
           65.91691732135259,
           43.94452095091056,
           27.059871006847427,
           15.262967489163145,
           8.553810397857731,
           6.932399732931184,
           10.398735494383503,
           18.95281768221469,
           32.594646296424735,
           51.32422133701364,
           75.14154280398142,
           104.04661069732809,
           138.0394250170536,
           177.11998576315796,
           221.28829293564115
          ],
          [
           282.09503544641433,
           231.6361105176992,
           186.26493201536292,
           145.98149993940544,
           110.78581428982679,
           80.67787506662705,
           55.65768226980619,
           35.725235899364186,
           20.880535955301028,
           11.12358243761675,
           6.454375346311341,
           6.872914681384794,
           12.37920044283711,
           22.973232630668292,
           38.65501124487835,
           59.424536285467276,
           85.28180775243503,
           116.22682564578164,
           152.2595899655072,
           193.3801007116116,
           239.58835788409485
          ],
          [
           260.59610039486796,
           212.17712546615277,
           168.84589696381647,
           130.602414887859,
           97.44667923828041,
           69.37869001508068,
           46.39844721825979,
           28.505950847817793,
           15.701200903754636,
           7.98419738607036,
           5.3549402947649485,
           7.8134296298384,
           15.35966539129072,
           27.993647579121916,
           45.71537619333196,
           68.52485123392088,
           96.42207270088863,
           129.40704059423535,
           167.47975491396082,
           210.6402156600652,
           258.8884228325485
          ],
          [
           240.09716534332168,
           193.7181404146064,
           152.4268619122701,
           116.22332983631264,
           85.107544186734,
           59.07950496353427,
           38.1392121667134,
           22.286665796271393,
           11.521865852208242,
           5.84481233452397,
           5.255505243218555,
           9.753944578292009,
           19.340130339744327,
           34.01406252757552,
           53.775741141785595,
           78.6251661823745,
           108.56233764934225,
           143.5872555426889,
           183.69991986241442,
           228.90033060851883,
           279.18848778100204
          ],
          [
           220.59823029177525,
           176.25915536306005,
           137.0078268607237,
           102.84424478476626,
           73.76840913518762,
           49.7803199119879,
           30.879977115166994,
           17.067380744725003,
           8.342530800661853,
           4.705427282977578,
           6.156070191672165,
           12.694459526745616,
           24.320595288197932,
           41.034477476029124,
           62.83610609023918,
           89.7254811308281,
           121.70260259779589,
           158.76747049114255,
           200.920084810868,
           248.16044555697238,
           300.48855272945565
          ],
          [
           202.09929524022888,
           159.80017031151368,
           122.58879180917735,
           90.46515973321985,
           63.42927408364124,
           41.481134860441486,
           24.620742063620614,
           12.84809569317861,
           6.163195749115466,
           4.566042231431185,
           8.056635140125774,
           16.63497447519923,
           30.301060236651544,
           49.05489242448274,
           72.89647103869277,
           101.82579607928172,
           135.8428675462495,
           174.94768543959609,
           219.14024975932165,
           268.42056050542595,
           322.78861767790926
          ],
          [
           184.6003601886825,
           144.34118525996726,
           109.16975675763094,
           79.08607468167342,
           54.090139032094854,
           34.18194980889511,
           19.36150701207423,
           9.628810641632215,
           4.983860697569074,
           5.426657179884795,
           10.957200088579379,
           21.575489423652837,
           37.281525185105146,
           58.07530737293633,
           83.9568359871464,
           114.9261110277353,
           150.9831324947031,
           192.1279003880498,
           238.3604147077753,
           289.68067545387964,
           346.08868262636287
          ],
          [
           168.10142513713606,
           129.88220020842084,
           96.75072170608449,
           68.70698963012707,
           45.75100398054846,
           27.88276475734871,
           15.102271960527837,
           7.409525590085823,
           4.80452564602268,
           7.287272128338404,
           14.857765037032989,
           27.516004372106448,
           45.26199013355877,
           68.09572232138994,
           96.01720093559996,
           129.02642597618893,
           167.12339744315668,
           210.30811533650336,
           258.5805796562288,
           311.9407904023332,
           370.3887475748163
          ],
          [
           152.60249008558966,
           116.42321515687448,
           85.33168665453813,
           59.327904578580686,
           38.41186892900206,
           22.583579705802325,
           11.843036908981444,
           6.190240538539434,
           5.625190594476288,
           10.147887076792008,
           19.758329985486597,
           34.45651932056005,
           54.242455082012384,
           79.11613726984353,
           109.07756588405361,
           144.12674092464252,
           184.26366239161027,
           229.48833028495693,
           279.80074460468245,
           335.20090535078674,
           395.6888125232699
          ],
          [
           138.1035550340433,
           103.96423010532807,
           74.91265160299176,
           50.948819527034274,
           32.072733877455676,
           18.284394654255927,
           9.58380185743505,
           5.9709554869930415,
           7.4458555429298965,
           14.008502025245626,
           25.658894933940207,
           42.39703426901366,
           64.22292003046599,
           91.13655221829715,
           123.13793083250724,
           160.22705587309616,
           202.40392734006394,
           249.6685452334106,
           302.02090955313605,
           359.4610202992405,
           421.98887747172387
          ],
          [
           124.6046199824969,
           92.50524505378166,
           65.49361655144536,
           43.569734475487884,
           26.733598825909272,
           14.985209602709537,
           8.324566805888661,
           6.7516704354466475,
           10.266520491383504,
           18.869116973699228,
           32.559459882393824,
           51.337549217467256,
           75.20338497891957,
           104.15696716675075,
           138.19829578096082,
           177.32737082154978,
           221.54419228851754,
           270.8487601818641,
           325.2410745015897,
           384.72113524769406,
           449.2889424201774
          ],
          [
           112.10568493095052,
           82.04626000223529,
           57.07458149989899,
           37.190649423941494,
           22.39446377436288,
           12.686024551163142,
           8.06533175434227,
           8.532385383900257,
           14.087185439837114,
           24.729731922152833,
           40.460024830847416,
           61.278064165920874,
           87.18384992737317,
           118.17738211520437,
           154.25866072941443,
           195.42768577000322,
           241.6844572369711,
           293.0289751303178,
           349.46123945004314,
           410.9812501961476,
           477.5890073686309
          ],
          [
           100.60674987940412,
           72.58727495068892,
           49.655546448352574,
           31.811564372395107,
           19.055328722816494,
           11.386839499616753,
           8.806096702795879,
           11.313100332353867,
           18.907850388290722,
           31.59034687060645,
           49.360589779301044,
           72.21857911437449,
           100.1643148758268,
           133.197797063658,
           171.319025677868,
           214.52800071845698,
           262.82472218542466,
           316.20919007877137,
           374.68140439849697,
           438.2413651446013,
           506.8890723170844
          ],
          [
           90.1078148278577,
           64.12828989914253,
           43.236511396806186,
           27.432479320848707,
           16.716193671270105,
           11.087654448070358,
           10.546861651249484,
           15.093815280807474,
           24.728515336744323,
           39.45096181906004,
           59.26115472775465,
           84.15909406282809,
           114.14477982428036,
           149.2182120121116,
           189.37939062632162,
           234.6283156669106,
           284.96498713387837,
           340.3894050272249,
           400.90156934695057,
           466.501480093055,
           537.1891372655382
          ],
          [
           80.60887977631135,
           56.669304847596116,
           37.8174763452598,
           24.053394269302313,
           15.377058619723709,
           11.788469396523967,
           13.287626599703094,
           19.87453022926108,
           31.549180285197938,
           48.31157676751366,
           70.16171967620824,
           97.09960901128169,
           129.12524477273405,
           166.2386269605652,
           208.43975557477523,
           255.72863061536427,
           308.105252082332,
           365.56961997567873,
           428.1217342954042,
           495.76159504150854,
           568.4892022139918
          ],
          [
           72.10994472476496,
           50.210319796049745,
           33.3984412937134,
           21.674309217755926,
           15.037923568177318,
           13.489284344977575,
           17.0283915481567,
           25.65524517771469,
           39.36984523365155,
           58.172191715967266,
           82.06228462466186,
           111.04012395973534,
           145.10570972118762,
           184.25904190901886,
           228.5001205232289,
           277.82894556381785,
           332.2455170307855,
           391.7498349241322,
           456.34189924385754,
           526.0217099899621,
           600.7892671624453
          ],
          [
           64.61100967321855,
           44.75133474450335,
           29.979406242167006,
           20.295224166209533,
           15.698788516630927,
           16.19009929343119,
           21.769156496610307,
           32.4359601261683,
           48.19051018210514,
           69.03280666442086,
           94.96284957311548,
           125.9806389081889,
           162.08617466964122,
           203.2794568574724,
           249.56048547168243,
           300.92926051227136,
           357.3857819792391,
           418.9300498725858,
           485.5620641923112,
           557.2818249384156,
           634.089332110899
          ],
          [
           58.11207462167216,
           40.29234969295696,
           27.560371190620618,
           19.916139114663142,
           17.35965346508454,
           19.890914241884794,
           27.509921445063917,
           40.2166750746219,
           58.01117513055876,
           80.89342161287449,
           108.86341452156908,
           141.92115385664255,
           180.06663961809485,
           223.29987180592602,
           271.62085042013615,
           325.029575460725,
           383.52604692769273,
           447.1102648210395,
           515.782229140765,
           589.5419398868695,
           668.3893970593524
          ],
          [
           52.61313957012576,
           36.833364641410576,
           26.14133613907422,
           20.53705406311675,
           20.02051841353814,
           24.5917291903384,
           34.25068639351751,
           48.99739002307551,
           68.83184007901235,
           93.75403656132809,
           123.76397947002269,
           158.8616688050961,
           199.04710456654848,
           244.32028675437962,
           294.6812153685897,
           350.1298904091786,
           410.66631187614627,
           476.2904797694932,
           547.0023940892185,
           622.802054835323,
           703.689462007806
          ],
          [
           48.114204518579385,
           34.374379589864176,
           25.722301087527832,
           22.15796901157036,
           23.681383361991752,
           30.292544138792017,
           41.99145134197113,
           58.778104971529125,
           80.65250502746599,
           107.61465150978168,
           139.66454441847623,
           176.8021837535497,
           219.02756951500206,
           266.34070170283326,
           318.7415803170433,
           376.23020535763226,
           438.8065768246,
           506.4706947179465,
           579.2225590376722,
           657.0621697837767,
           739.9895269562596
          ]
         ]
        }
       ],
       "frames": [],
       "layout": {
        "autosize": false,
        "height": 500,
        "margin": {
         "b": 65,
         "l": 65,
         "r": 50,
         "t": 90
        },
        "template": {
         "data": {
          "bar": [
           {
            "error_x": {
             "color": "#2a3f5f"
            },
            "error_y": {
             "color": "#2a3f5f"
            },
            "marker": {
             "line": {
              "color": "#E5ECF6",
              "width": 0.5
             }
            },
            "type": "bar"
           }
          ],
          "barpolar": [
           {
            "marker": {
             "line": {
              "color": "#E5ECF6",
              "width": 0.5
             }
            },
            "type": "barpolar"
           }
          ],
          "carpet": [
           {
            "aaxis": {
             "endlinecolor": "#2a3f5f",
             "gridcolor": "white",
             "linecolor": "white",
             "minorgridcolor": "white",
             "startlinecolor": "#2a3f5f"
            },
            "baxis": {
             "endlinecolor": "#2a3f5f",
             "gridcolor": "white",
             "linecolor": "white",
             "minorgridcolor": "white",
             "startlinecolor": "#2a3f5f"
            },
            "type": "carpet"
           }
          ],
          "choropleth": [
           {
            "colorbar": {
             "outlinewidth": 0,
             "ticks": ""
            },
            "type": "choropleth"
           }
          ],
          "contour": [
           {
            "colorbar": {
             "outlinewidth": 0,
             "ticks": ""
            },
            "colorscale": [
             [
              0,
              "#0d0887"
             ],
             [
              0.1111111111111111,
              "#46039f"
             ],
             [
              0.2222222222222222,
              "#7201a8"
             ],
             [
              0.3333333333333333,
              "#9c179e"
             ],
             [
              0.4444444444444444,
              "#bd3786"
             ],
             [
              0.5555555555555556,
              "#d8576b"
             ],
             [
              0.6666666666666666,
              "#ed7953"
             ],
             [
              0.7777777777777778,
              "#fb9f3a"
             ],
             [
              0.8888888888888888,
              "#fdca26"
             ],
             [
              1,
              "#f0f921"
             ]
            ],
            "type": "contour"
           }
          ],
          "contourcarpet": [
           {
            "colorbar": {
             "outlinewidth": 0,
             "ticks": ""
            },
            "type": "contourcarpet"
           }
          ],
          "heatmap": [
           {
            "colorbar": {
             "outlinewidth": 0,
             "ticks": ""
            },
            "colorscale": [
             [
              0,
              "#0d0887"
             ],
             [
              0.1111111111111111,
              "#46039f"
             ],
             [
              0.2222222222222222,
              "#7201a8"
             ],
             [
              0.3333333333333333,
              "#9c179e"
             ],
             [
              0.4444444444444444,
              "#bd3786"
             ],
             [
              0.5555555555555556,
              "#d8576b"
             ],
             [
              0.6666666666666666,
              "#ed7953"
             ],
             [
              0.7777777777777778,
              "#fb9f3a"
             ],
             [
              0.8888888888888888,
              "#fdca26"
             ],
             [
              1,
              "#f0f921"
             ]
            ],
            "type": "heatmap"
           }
          ],
          "heatmapgl": [
           {
            "colorbar": {
             "outlinewidth": 0,
             "ticks": ""
            },
            "colorscale": [
             [
              0,
              "#0d0887"
             ],
             [
              0.1111111111111111,
              "#46039f"
             ],
             [
              0.2222222222222222,
              "#7201a8"
             ],
             [
              0.3333333333333333,
              "#9c179e"
             ],
             [
              0.4444444444444444,
              "#bd3786"
             ],
             [
              0.5555555555555556,
              "#d8576b"
             ],
             [
              0.6666666666666666,
              "#ed7953"
             ],
             [
              0.7777777777777778,
              "#fb9f3a"
             ],
             [
              0.8888888888888888,
              "#fdca26"
             ],
             [
              1,
              "#f0f921"
             ]
            ],
            "type": "heatmapgl"
           }
          ],
          "histogram": [
           {
            "marker": {
             "colorbar": {
              "outlinewidth": 0,
              "ticks": ""
             }
            },
            "type": "histogram"
           }
          ],
          "histogram2d": [
           {
            "colorbar": {
             "outlinewidth": 0,
             "ticks": ""
            },
            "colorscale": [
             [
              0,
              "#0d0887"
             ],
             [
              0.1111111111111111,
              "#46039f"
             ],
             [
              0.2222222222222222,
              "#7201a8"
             ],
             [
              0.3333333333333333,
              "#9c179e"
             ],
             [
              0.4444444444444444,
              "#bd3786"
             ],
             [
              0.5555555555555556,
              "#d8576b"
             ],
             [
              0.6666666666666666,
              "#ed7953"
             ],
             [
              0.7777777777777778,
              "#fb9f3a"
             ],
             [
              0.8888888888888888,
              "#fdca26"
             ],
             [
              1,
              "#f0f921"
             ]
            ],
            "type": "histogram2d"
           }
          ],
          "histogram2dcontour": [
           {
            "colorbar": {
             "outlinewidth": 0,
             "ticks": ""
            },
            "colorscale": [
             [
              0,
              "#0d0887"
             ],
             [
              0.1111111111111111,
              "#46039f"
             ],
             [
              0.2222222222222222,
              "#7201a8"
             ],
             [
              0.3333333333333333,
              "#9c179e"
             ],
             [
              0.4444444444444444,
              "#bd3786"
             ],
             [
              0.5555555555555556,
              "#d8576b"
             ],
             [
              0.6666666666666666,
              "#ed7953"
             ],
             [
              0.7777777777777778,
              "#fb9f3a"
             ],
             [
              0.8888888888888888,
              "#fdca26"
             ],
             [
              1,
              "#f0f921"
             ]
            ],
            "type": "histogram2dcontour"
           }
          ],
          "mesh3d": [
           {
            "colorbar": {
             "outlinewidth": 0,
             "ticks": ""
            },
            "type": "mesh3d"
           }
          ],
          "parcoords": [
           {
            "line": {
             "colorbar": {
              "outlinewidth": 0,
              "ticks": ""
             }
            },
            "type": "parcoords"
           }
          ],
          "pie": [
           {
            "automargin": true,
            "type": "pie"
           }
          ],
          "scatter": [
           {
            "marker": {
             "colorbar": {
              "outlinewidth": 0,
              "ticks": ""
             }
            },
            "type": "scatter"
           }
          ],
          "scatter3d": [
           {
            "line": {
             "colorbar": {
              "outlinewidth": 0,
              "ticks": ""
             }
            },
            "marker": {
             "colorbar": {
              "outlinewidth": 0,
              "ticks": ""
             }
            },
            "type": "scatter3d"
           }
          ],
          "scattercarpet": [
           {
            "marker": {
             "colorbar": {
              "outlinewidth": 0,
              "ticks": ""
             }
            },
            "type": "scattercarpet"
           }
          ],
          "scattergeo": [
           {
            "marker": {
             "colorbar": {
              "outlinewidth": 0,
              "ticks": ""
             }
            },
            "type": "scattergeo"
           }
          ],
          "scattergl": [
           {
            "marker": {
             "colorbar": {
              "outlinewidth": 0,
              "ticks": ""
             }
            },
            "type": "scattergl"
           }
          ],
          "scattermapbox": [
           {
            "marker": {
             "colorbar": {
              "outlinewidth": 0,
              "ticks": ""
             }
            },
            "type": "scattermapbox"
           }
          ],
          "scatterpolar": [
           {
            "marker": {
             "colorbar": {
              "outlinewidth": 0,
              "ticks": ""
             }
            },
            "type": "scatterpolar"
           }
          ],
          "scatterpolargl": [
           {
            "marker": {
             "colorbar": {
              "outlinewidth": 0,
              "ticks": ""
             }
            },
            "type": "scatterpolargl"
           }
          ],
          "scatterternary": [
           {
            "marker": {
             "colorbar": {
              "outlinewidth": 0,
              "ticks": ""
             }
            },
            "type": "scatterternary"
           }
          ],
          "surface": [
           {
            "colorbar": {
             "outlinewidth": 0,
             "ticks": ""
            },
            "colorscale": [
             [
              0,
              "#0d0887"
             ],
             [
              0.1111111111111111,
              "#46039f"
             ],
             [
              0.2222222222222222,
              "#7201a8"
             ],
             [
              0.3333333333333333,
              "#9c179e"
             ],
             [
              0.4444444444444444,
              "#bd3786"
             ],
             [
              0.5555555555555556,
              "#d8576b"
             ],
             [
              0.6666666666666666,
              "#ed7953"
             ],
             [
              0.7777777777777778,
              "#fb9f3a"
             ],
             [
              0.8888888888888888,
              "#fdca26"
             ],
             [
              1,
              "#f0f921"
             ]
            ],
            "type": "surface"
           }
          ],
          "table": [
           {
            "cells": {
             "fill": {
              "color": "#EBF0F8"
             },
             "line": {
              "color": "white"
             }
            },
            "header": {
             "fill": {
              "color": "#C8D4E3"
             },
             "line": {
              "color": "white"
             }
            },
            "type": "table"
           }
          ]
         },
         "layout": {
          "annotationdefaults": {
           "arrowcolor": "#2a3f5f",
           "arrowhead": 0,
           "arrowwidth": 1
          },
          "autotypenumbers": "strict",
          "coloraxis": {
           "colorbar": {
            "outlinewidth": 0,
            "ticks": ""
           }
          },
          "colorscale": {
           "diverging": [
            [
             0,
             "#8e0152"
            ],
            [
             0.1,
             "#c51b7d"
            ],
            [
             0.2,
             "#de77ae"
            ],
            [
             0.3,
             "#f1b6da"
            ],
            [
             0.4,
             "#fde0ef"
            ],
            [
             0.5,
             "#f7f7f7"
            ],
            [
             0.6,
             "#e6f5d0"
            ],
            [
             0.7,
             "#b8e186"
            ],
            [
             0.8,
             "#7fbc41"
            ],
            [
             0.9,
             "#4d9221"
            ],
            [
             1,
             "#276419"
            ]
           ],
           "sequential": [
            [
             0,
             "#0d0887"
            ],
            [
             0.1111111111111111,
             "#46039f"
            ],
            [
             0.2222222222222222,
             "#7201a8"
            ],
            [
             0.3333333333333333,
             "#9c179e"
            ],
            [
             0.4444444444444444,
             "#bd3786"
            ],
            [
             0.5555555555555556,
             "#d8576b"
            ],
            [
             0.6666666666666666,
             "#ed7953"
            ],
            [
             0.7777777777777778,
             "#fb9f3a"
            ],
            [
             0.8888888888888888,
             "#fdca26"
            ],
            [
             1,
             "#f0f921"
            ]
           ],
           "sequentialminus": [
            [
             0,
             "#0d0887"
            ],
            [
             0.1111111111111111,
             "#46039f"
            ],
            [
             0.2222222222222222,
             "#7201a8"
            ],
            [
             0.3333333333333333,
             "#9c179e"
            ],
            [
             0.4444444444444444,
             "#bd3786"
            ],
            [
             0.5555555555555556,
             "#d8576b"
            ],
            [
             0.6666666666666666,
             "#ed7953"
            ],
            [
             0.7777777777777778,
             "#fb9f3a"
            ],
            [
             0.8888888888888888,
             "#fdca26"
            ],
            [
             1,
             "#f0f921"
            ]
           ]
          },
          "colorway": [
           "#636efa",
           "#EF553B",
           "#00cc96",
           "#ab63fa",
           "#FFA15A",
           "#19d3f3",
           "#FF6692",
           "#B6E880",
           "#FF97FF",
           "#FECB52"
          ],
          "font": {
           "color": "#2a3f5f"
          },
          "geo": {
           "bgcolor": "white",
           "lakecolor": "white",
           "landcolor": "#E5ECF6",
           "showlakes": true,
           "showland": true,
           "subunitcolor": "white"
          },
          "hoverlabel": {
           "align": "left"
          },
          "hovermode": "closest",
          "mapbox": {
           "style": "light"
          },
          "paper_bgcolor": "white",
          "plot_bgcolor": "#E5ECF6",
          "polar": {
           "angularaxis": {
            "gridcolor": "white",
            "linecolor": "white",
            "ticks": ""
           },
           "bgcolor": "#E5ECF6",
           "radialaxis": {
            "gridcolor": "white",
            "linecolor": "white",
            "ticks": ""
           }
          },
          "scene": {
           "xaxis": {
            "backgroundcolor": "#E5ECF6",
            "gridcolor": "white",
            "gridwidth": 2,
            "linecolor": "white",
            "showbackground": true,
            "ticks": "",
            "zerolinecolor": "white"
           },
           "yaxis": {
            "backgroundcolor": "#E5ECF6",
            "gridcolor": "white",
            "gridwidth": 2,
            "linecolor": "white",
            "showbackground": true,
            "ticks": "",
            "zerolinecolor": "white"
           },
           "zaxis": {
            "backgroundcolor": "#E5ECF6",
            "gridcolor": "white",
            "gridwidth": 2,
            "linecolor": "white",
            "showbackground": true,
            "ticks": "",
            "zerolinecolor": "white"
           }
          },
          "shapedefaults": {
           "line": {
            "color": "#2a3f5f"
           }
          },
          "ternary": {
           "aaxis": {
            "gridcolor": "white",
            "linecolor": "white",
            "ticks": ""
           },
           "baxis": {
            "gridcolor": "white",
            "linecolor": "white",
            "ticks": ""
           },
           "bgcolor": "#E5ECF6",
           "caxis": {
            "gridcolor": "white",
            "linecolor": "white",
            "ticks": ""
           }
          },
          "title": {
           "x": 0.05
          },
          "xaxis": {
           "automargin": true,
           "gridcolor": "white",
           "linecolor": "white",
           "ticks": "",
           "title": {
            "standoff": 15
           },
           "zerolinecolor": "white",
           "zerolinewidth": 2
          },
          "yaxis": {
           "automargin": true,
           "gridcolor": "white",
           "linecolor": "white",
           "ticks": "",
           "title": {
            "standoff": 15
           },
           "zerolinecolor": "white",
           "zerolinewidth": 2
          }
         }
        },
        "title": "Cost Function",
        "width": 500
       }
      },
      "text/html": [
       "<div\n",
       "    class=\"webio-mountpoint\"\n",
       "    data-webio-mountpoint=\"8314081761383571277\"\n",
       ">\n",
       "    <script>\n",
       "    (function(){\n",
       "    // Some integrations (namely, IJulia/Jupyter) use an alternate render pathway than\n",
       "    // just putting the html on the page. If WebIO isn't defined, then it's pretty likely\n",
       "    // that we're in one of those situations and the integration just isn't installed\n",
       "    // correctly.\n",
       "    if (typeof window.WebIO === \"undefined\") {\n",
       "        document\n",
       "            .querySelector('[data-webio-mountpoint=\"8314081761383571277\"]')\n",
       "            .innerHTML = (\n",
       "                '<div style=\"padding: 1em; background-color: #f8d6da; border: 1px solid #f5c6cb; font-weight: bold;\">' +\n",
       "                '<p><strong>WebIO not detected.</strong></p>' +\n",
       "                '<p>Please read ' +\n",
       "                '<a href=\"https://juliagizmos.github.io/WebIO.jl/latest/troubleshooting/not-detected/\" target=\"_blank\">the troubleshooting guide</a> ' +\n",
       "                'for more information on how to resolve this issue.</p>' +\n",
       "                '<p><a href=\"https://juliagizmos.github.io/WebIO.jl/latest/troubleshooting/not-detected/\" target=\"_blank\">https://juliagizmos.github.io/WebIO.jl/latest/troubleshooting/not-detected/</a></p>' +\n",
       "                '</div>'\n",
       "            );\n",
       "        return;\n",
       "    }\n",
       "    WebIO.mount(\n",
       "        document.querySelector('[data-webio-mountpoint=\"8314081761383571277\"]'),\n",
       "        {\"props\":{},\"nodeType\":\"Scope\",\"type\":\"node\",\"instanceArgs\":{\"imports\":{\"data\":[{\"name\":\"Plotly\",\"type\":\"js\",\"url\":\"\\/assetserver\\/c1ceafbb88f71e36d0668c9d7a58ed90cde4cd06-plotly.min.js\"},{\"name\":null,\"type\":\"js\",\"url\":\"\\/assetserver\\/4c539090c3e5a185e20c539d3b31979e04872767-plotly_webio.bundle.js\"}],\"type\":\"async_block\"},\"id\":\"5266459813482023880\",\"handlers\":{\"_toImage\":[\"(function (options){return this.Plotly.toImage(this.plotElem,options).then((function (data){return WebIO.setval({\\\"name\\\":\\\"image\\\",\\\"scope\\\":\\\"5266459813482023880\\\",\\\"id\\\":\\\"1155356736352876704\\\",\\\"type\\\":\\\"observable\\\"},data)}))})\"],\"__get_gd_contents\":[\"(function (prop){prop==\\\"data\\\" ? (WebIO.setval({\\\"name\\\":\\\"__gd_contents\\\",\\\"scope\\\":\\\"5266459813482023880\\\",\\\"id\\\":\\\"9062234943905642247\\\",\\\"type\\\":\\\"observable\\\"},this.plotElem.data)) : undefined; return prop==\\\"layout\\\" ? (WebIO.setval({\\\"name\\\":\\\"__gd_contents\\\",\\\"scope\\\":\\\"5266459813482023880\\\",\\\"id\\\":\\\"9062234943905642247\\\",\\\"type\\\":\\\"observable\\\"},this.plotElem.layout)) : undefined})\"],\"_downloadImage\":[\"(function (options){return this.Plotly.downloadImage(this.plotElem,options)})\"],\"_commands\":[\"(function (args){var fn=args.shift(); var elem=this.plotElem; var Plotly=this.Plotly; args.unshift(elem); return Plotly[fn].apply(this,args)})\"]},\"systemjs_options\":null,\"mount_callbacks\":[\"function () {\\n    var handler = ((function (Plotly,PlotlyWebIO){PlotlyWebIO.init(WebIO); var gd=this.dom.querySelector(\\\"#plot-015cb1b7-f330-4d22-95dc-2e26d9c922a3\\\"); this.plotElem=gd; this.Plotly=Plotly; (window.Blink!==undefined) ? (gd.style.width=\\\"100%\\\", gd.style.height=\\\"100vh\\\", gd.style.marginLeft=\\\"0%\\\", gd.style.marginTop=\\\"0vh\\\") : undefined; window.onresize=(function (){return Plotly.Plots.resize(gd)}); Plotly.newPlot(gd,[{\\\"y\\\":[-1.0,-0.75,-0.5,-0.25,0.0,0.25,0.5,0.75,1.0,1.25,1.5,1.75,2.0,2.25,2.5,2.75,3.0,3.25,3.5,3.75,4.0],\\\"type\\\":\\\"surface\\\",\\\"contours\\\":{\\\"z\\\":{\\\"highlightcolor\\\":\\\"limegreen\\\",\\\"show\\\":true,\\\"usecolormap\\\":true,\\\"project\\\":{\\\"z\\\":true}}},\\\"z\\\":[[328.0929055495072,273.554080620792,224.1030021184556,179.73967004249818,140.4640843929196,106.27624516971984,77.17615237289897,53.163806002456965,34.23920605839381,20.402352540709536,11.653245449404128,7.991884784477576,9.418270545929895,15.932402733761085,27.534281347971135,44.223906388560046,66.00127785552783,92.86639574887447,124.81926006859999,161.85987081470438,203.98822798718754],[304.5939704979609,252.09509556924556,204.68396706690928,162.36058499095182,125.12494934137318,92.97706011817343,65.91691732135259,43.94452095091056,27.059871006847427,15.262967489163145,8.553810397857731,6.932399732931184,10.398735494383503,18.95281768221469,32.594646296424735,51.32422133701364,75.14154280398142,104.04661069732809,138.0394250170536,177.11998576315796,221.28829293564115],[282.09503544641433,231.6361105176992,186.26493201536292,145.98149993940544,110.78581428982679,80.67787506662705,55.65768226980619,35.725235899364186,20.880535955301028,11.12358243761675,6.454375346311341,6.872914681384794,12.37920044283711,22.973232630668292,38.65501124487835,59.424536285467276,85.28180775243503,116.22682564578164,152.2595899655072,193.3801007116116,239.58835788409485],[260.59610039486796,212.17712546615277,168.84589696381647,130.602414887859,97.44667923828041,69.37869001508068,46.39844721825979,28.505950847817793,15.701200903754636,7.98419738607036,5.3549402947649485,7.8134296298384,15.35966539129072,27.993647579121916,45.71537619333196,68.52485123392088,96.42207270088863,129.40704059423535,167.47975491396082,210.6402156600652,258.8884228325485],[240.09716534332168,193.7181404146064,152.4268619122701,116.22332983631264,85.107544186734,59.07950496353427,38.1392121667134,22.286665796271393,11.521865852208242,5.84481233452397,5.255505243218555,9.753944578292009,19.340130339744327,34.01406252757552,53.775741141785595,78.6251661823745,108.56233764934225,143.5872555426889,183.69991986241442,228.90033060851883,279.18848778100204],[220.59823029177525,176.25915536306005,137.0078268607237,102.84424478476626,73.76840913518762,49.7803199119879,30.879977115166994,17.067380744725003,8.342530800661853,4.705427282977578,6.156070191672165,12.694459526745616,24.320595288197932,41.034477476029124,62.83610609023918,89.7254811308281,121.70260259779589,158.76747049114255,200.920084810868,248.16044555697238,300.48855272945565],[202.09929524022888,159.80017031151368,122.58879180917735,90.46515973321985,63.42927408364124,41.481134860441486,24.620742063620614,12.84809569317861,6.163195749115466,4.566042231431185,8.056635140125774,16.63497447519923,30.301060236651544,49.05489242448274,72.89647103869277,101.82579607928172,135.8428675462495,174.94768543959609,219.14024975932165,268.42056050542595,322.78861767790926],[184.6003601886825,144.34118525996726,109.16975675763094,79.08607468167342,54.090139032094854,34.18194980889511,19.36150701207423,9.628810641632215,4.983860697569074,5.426657179884795,10.957200088579379,21.575489423652837,37.281525185105146,58.07530737293633,83.9568359871464,114.9261110277353,150.9831324947031,192.1279003880498,238.3604147077753,289.68067545387964,346.08868262636287],[168.10142513713606,129.88220020842084,96.75072170608449,68.70698963012707,45.75100398054846,27.88276475734871,15.102271960527837,7.409525590085823,4.80452564602268,7.287272128338404,14.857765037032989,27.516004372106448,45.26199013355877,68.09572232138994,96.01720093559996,129.02642597618893,167.12339744315668,210.30811533650336,258.5805796562288,311.9407904023332,370.3887475748163],[152.60249008558966,116.42321515687448,85.33168665453813,59.327904578580686,38.41186892900206,22.583579705802325,11.843036908981444,6.190240538539434,5.625190594476288,10.147887076792008,19.758329985486597,34.45651932056005,54.242455082012384,79.11613726984353,109.07756588405361,144.12674092464252,184.26366239161027,229.48833028495693,279.80074460468245,335.20090535078674,395.6888125232699],[138.1035550340433,103.96423010532807,74.91265160299176,50.948819527034274,32.072733877455676,18.284394654255927,9.58380185743505,5.9709554869930415,7.4458555429298965,14.008502025245626,25.658894933940207,42.39703426901366,64.22292003046599,91.13655221829715,123.13793083250724,160.22705587309616,202.40392734006394,249.6685452334106,302.02090955313605,359.4610202992405,421.98887747172387],[124.6046199824969,92.50524505378166,65.49361655144536,43.569734475487884,26.733598825909272,14.985209602709537,8.324566805888661,6.7516704354466475,10.266520491383504,18.869116973699228,32.559459882393824,51.337549217467256,75.20338497891957,104.15696716675075,138.19829578096082,177.32737082154978,221.54419228851754,270.8487601818641,325.2410745015897,384.72113524769406,449.2889424201774],[112.10568493095052,82.04626000223529,57.07458149989899,37.190649423941494,22.39446377436288,12.686024551163142,8.06533175434227,8.532385383900257,14.087185439837114,24.729731922152833,40.460024830847416,61.278064165920874,87.18384992737317,118.17738211520437,154.25866072941443,195.42768577000322,241.6844572369711,293.0289751303178,349.46123945004314,410.9812501961476,477.5890073686309],[100.60674987940412,72.58727495068892,49.655546448352574,31.811564372395107,19.055328722816494,11.386839499616753,8.806096702795879,11.313100332353867,18.907850388290722,31.59034687060645,49.360589779301044,72.21857911437449,100.1643148758268,133.197797063658,171.319025677868,214.52800071845698,262.82472218542466,316.20919007877137,374.68140439849697,438.2413651446013,506.8890723170844],[90.1078148278577,64.12828989914253,43.236511396806186,27.432479320848707,16.716193671270105,11.087654448070358,10.546861651249484,15.093815280807474,24.728515336744323,39.45096181906004,59.26115472775465,84.15909406282809,114.14477982428036,149.2182120121116,189.37939062632162,234.6283156669106,284.96498713387837,340.3894050272249,400.90156934695057,466.501480093055,537.1891372655382],[80.60887977631135,56.669304847596116,37.8174763452598,24.053394269302313,15.377058619723709,11.788469396523967,13.287626599703094,19.87453022926108,31.549180285197938,48.31157676751366,70.16171967620824,97.09960901128169,129.12524477273405,166.2386269605652,208.43975557477523,255.72863061536427,308.105252082332,365.56961997567873,428.1217342954042,495.76159504150854,568.4892022139918],[72.10994472476496,50.210319796049745,33.3984412937134,21.674309217755926,15.037923568177318,13.489284344977575,17.0283915481567,25.65524517771469,39.36984523365155,58.172191715967266,82.06228462466186,111.04012395973534,145.10570972118762,184.25904190901886,228.5001205232289,277.82894556381785,332.2455170307855,391.7498349241322,456.34189924385754,526.0217099899621,600.7892671624453],[64.61100967321855,44.75133474450335,29.979406242167006,20.295224166209533,15.698788516630927,16.19009929343119,21.769156496610307,32.4359601261683,48.19051018210514,69.03280666442086,94.96284957311548,125.9806389081889,162.08617466964122,203.2794568574724,249.56048547168243,300.92926051227136,357.3857819792391,418.9300498725858,485.5620641923112,557.2818249384156,634.089332110899],[58.11207462167216,40.29234969295696,27.560371190620618,19.916139114663142,17.35965346508454,19.890914241884794,27.509921445063917,40.2166750746219,58.01117513055876,80.89342161287449,108.86341452156908,141.92115385664255,180.06663961809485,223.29987180592602,271.62085042013615,325.029575460725,383.52604692769273,447.1102648210395,515.782229140765,589.5419398868695,668.3893970593524],[52.61313957012576,36.833364641410576,26.14133613907422,20.53705406311675,20.02051841353814,24.5917291903384,34.25068639351751,48.99739002307551,68.83184007901235,93.75403656132809,123.76397947002269,158.8616688050961,199.04710456654848,244.32028675437962,294.6812153685897,350.1298904091786,410.66631187614627,476.2904797694932,547.0023940892185,622.802054835323,703.689462007806],[48.114204518579385,34.374379589864176,25.722301087527832,22.15796901157036,23.681383361991752,30.292544138792017,41.99145134197113,58.778104971529125,80.65250502746599,107.61465150978168,139.66454441847623,176.8021837535497,219.02756951500206,266.34070170283326,318.7415803170433,376.23020535763226,438.8065768246,506.4706947179465,579.2225590376722,657.0621697837767,739.9895269562596]],\\\"x\\\":[-10,-9,-8,-7,-6,-5,-4,-3,-2,-1,0,1,2,3,4,5,6,7,8,9,10]}],{\\\"autosize\\\":false,\\\"template\\\":{\\\"layout\\\":{\\\"coloraxis\\\":{\\\"colorbar\\\":{\\\"ticks\\\":\\\"\\\",\\\"outlinewidth\\\":0}},\\\"xaxis\\\":{\\\"gridcolor\\\":\\\"white\\\",\\\"zerolinewidth\\\":2,\\\"title\\\":{\\\"standoff\\\":15},\\\"ticks\\\":\\\"\\\",\\\"zerolinecolor\\\":\\\"white\\\",\\\"automargin\\\":true,\\\"linecolor\\\":\\\"white\\\"},\\\"hovermode\\\":\\\"closest\\\",\\\"paper_bgcolor\\\":\\\"white\\\",\\\"geo\\\":{\\\"showlakes\\\":true,\\\"showland\\\":true,\\\"landcolor\\\":\\\"#E5ECF6\\\",\\\"bgcolor\\\":\\\"white\\\",\\\"subunitcolor\\\":\\\"white\\\",\\\"lakecolor\\\":\\\"white\\\"},\\\"colorscale\\\":{\\\"sequential\\\":[[0.0,\\\"#0d0887\\\"],[0.1111111111111111,\\\"#46039f\\\"],[0.2222222222222222,\\\"#7201a8\\\"],[0.3333333333333333,\\\"#9c179e\\\"],[0.4444444444444444,\\\"#bd3786\\\"],[0.5555555555555556,\\\"#d8576b\\\"],[0.6666666666666666,\\\"#ed7953\\\"],[0.7777777777777778,\\\"#fb9f3a\\\"],[0.8888888888888888,\\\"#fdca26\\\"],[1.0,\\\"#f0f921\\\"]],\\\"diverging\\\":[[0,\\\"#8e0152\\\"],[0.1,\\\"#c51b7d\\\"],[0.2,\\\"#de77ae\\\"],[0.3,\\\"#f1b6da\\\"],[0.4,\\\"#fde0ef\\\"],[0.5,\\\"#f7f7f7\\\"],[0.6,\\\"#e6f5d0\\\"],[0.7,\\\"#b8e186\\\"],[0.8,\\\"#7fbc41\\\"],[0.9,\\\"#4d9221\\\"],[1,\\\"#276419\\\"]],\\\"sequentialminus\\\":[[0.0,\\\"#0d0887\\\"],[0.1111111111111111,\\\"#46039f\\\"],[0.2222222222222222,\\\"#7201a8\\\"],[0.3333333333333333,\\\"#9c179e\\\"],[0.4444444444444444,\\\"#bd3786\\\"],[0.5555555555555556,\\\"#d8576b\\\"],[0.6666666666666666,\\\"#ed7953\\\"],[0.7777777777777778,\\\"#fb9f3a\\\"],[0.8888888888888888,\\\"#fdca26\\\"],[1.0,\\\"#f0f921\\\"]]},\\\"yaxis\\\":{\\\"gridcolor\\\":\\\"white\\\",\\\"zerolinewidth\\\":2,\\\"title\\\":{\\\"standoff\\\":15},\\\"ticks\\\":\\\"\\\",\\\"zerolinecolor\\\":\\\"white\\\",\\\"automargin\\\":true,\\\"linecolor\\\":\\\"white\\\"},\\\"shapedefaults\\\":{\\\"line\\\":{\\\"color\\\":\\\"#2a3f5f\\\"}},\\\"hoverlabel\\\":{\\\"align\\\":\\\"left\\\"},\\\"mapbox\\\":{\\\"style\\\":\\\"light\\\"},\\\"polar\\\":{\\\"angularaxis\\\":{\\\"gridcolor\\\":\\\"white\\\",\\\"ticks\\\":\\\"\\\",\\\"linecolor\\\":\\\"white\\\"},\\\"bgcolor\\\":\\\"#E5ECF6\\\",\\\"radialaxis\\\":{\\\"gridcolor\\\":\\\"white\\\",\\\"ticks\\\":\\\"\\\",\\\"linecolor\\\":\\\"white\\\"}},\\\"autotypenumbers\\\":\\\"strict\\\",\\\"font\\\":{\\\"color\\\":\\\"#2a3f5f\\\"},\\\"ternary\\\":{\\\"baxis\\\":{\\\"gridcolor\\\":\\\"white\\\",\\\"ticks\\\":\\\"\\\",\\\"linecolor\\\":\\\"white\\\"},\\\"bgcolor\\\":\\\"#E5ECF6\\\",\\\"caxis\\\":{\\\"gridcolor\\\":\\\"white\\\",\\\"ticks\\\":\\\"\\\",\\\"linecolor\\\":\\\"white\\\"},\\\"aaxis\\\":{\\\"gridcolor\\\":\\\"white\\\",\\\"ticks\\\":\\\"\\\",\\\"linecolor\\\":\\\"white\\\"}},\\\"annotationdefaults\\\":{\\\"arrowhead\\\":0,\\\"arrowwidth\\\":1,\\\"arrowcolor\\\":\\\"#2a3f5f\\\"},\\\"plot_bgcolor\\\":\\\"#E5ECF6\\\",\\\"title\\\":{\\\"x\\\":0.05},\\\"scene\\\":{\\\"xaxis\\\":{\\\"gridcolor\\\":\\\"white\\\",\\\"gridwidth\\\":2,\\\"backgroundcolor\\\":\\\"#E5ECF6\\\",\\\"ticks\\\":\\\"\\\",\\\"showbackground\\\":true,\\\"zerolinecolor\\\":\\\"white\\\",\\\"linecolor\\\":\\\"white\\\"},\\\"zaxis\\\":{\\\"gridcolor\\\":\\\"white\\\",\\\"gridwidth\\\":2,\\\"backgroundcolor\\\":\\\"#E5ECF6\\\",\\\"ticks\\\":\\\"\\\",\\\"showbackground\\\":true,\\\"zerolinecolor\\\":\\\"white\\\",\\\"linecolor\\\":\\\"white\\\"},\\\"yaxis\\\":{\\\"gridcolor\\\":\\\"white\\\",\\\"gridwidth\\\":2,\\\"backgroundcolor\\\":\\\"#E5ECF6\\\",\\\"ticks\\\":\\\"\\\",\\\"showbackground\\\":true,\\\"zerolinecolor\\\":\\\"white\\\",\\\"linecolor\\\":\\\"white\\\"}},\\\"colorway\\\":[\\\"#636efa\\\",\\\"#EF553B\\\",\\\"#00cc96\\\",\\\"#ab63fa\\\",\\\"#FFA15A\\\",\\\"#19d3f3\\\",\\\"#FF6692\\\",\\\"#B6E880\\\",\\\"#FF97FF\\\",\\\"#FECB52\\\"]},\\\"data\\\":{\\\"barpolar\\\":[{\\\"type\\\":\\\"barpolar\\\",\\\"marker\\\":{\\\"line\\\":{\\\"color\\\":\\\"#E5ECF6\\\",\\\"width\\\":0.5}}}],\\\"carpet\\\":[{\\\"aaxis\\\":{\\\"gridcolor\\\":\\\"white\\\",\\\"endlinecolor\\\":\\\"#2a3f5f\\\",\\\"minorgridcolor\\\":\\\"white\\\",\\\"startlinecolor\\\":\\\"#2a3f5f\\\",\\\"linecolor\\\":\\\"white\\\"},\\\"type\\\":\\\"carpet\\\",\\\"baxis\\\":{\\\"gridcolor\\\":\\\"white\\\",\\\"endlinecolor\\\":\\\"#2a3f5f\\\",\\\"minorgridcolor\\\":\\\"white\\\",\\\"startlinecolor\\\":\\\"#2a3f5f\\\",\\\"linecolor\\\":\\\"white\\\"}}],\\\"scatterpolar\\\":[{\\\"type\\\":\\\"scatterpolar\\\",\\\"marker\\\":{\\\"colorbar\\\":{\\\"ticks\\\":\\\"\\\",\\\"outlinewidth\\\":0}}}],\\\"parcoords\\\":[{\\\"line\\\":{\\\"colorbar\\\":{\\\"ticks\\\":\\\"\\\",\\\"outlinewidth\\\":0}},\\\"type\\\":\\\"parcoords\\\"}],\\\"scatter\\\":[{\\\"type\\\":\\\"scatter\\\",\\\"marker\\\":{\\\"colorbar\\\":{\\\"ticks\\\":\\\"\\\",\\\"outlinewidth\\\":0}}}],\\\"histogram2dcontour\\\":[{\\\"colorbar\\\":{\\\"ticks\\\":\\\"\\\",\\\"outlinewidth\\\":0},\\\"type\\\":\\\"histogram2dcontour\\\",\\\"colorscale\\\":[[0.0,\\\"#0d0887\\\"],[0.1111111111111111,\\\"#46039f\\\"],[0.2222222222222222,\\\"#7201a8\\\"],[0.3333333333333333,\\\"#9c179e\\\"],[0.4444444444444444,\\\"#bd3786\\\"],[0.5555555555555556,\\\"#d8576b\\\"],[0.6666666666666666,\\\"#ed7953\\\"],[0.7777777777777778,\\\"#fb9f3a\\\"],[0.8888888888888888,\\\"#fdca26\\\"],[1.0,\\\"#f0f921\\\"]]}],\\\"contour\\\":[{\\\"colorbar\\\":{\\\"ticks\\\":\\\"\\\",\\\"outlinewidth\\\":0},\\\"type\\\":\\\"contour\\\",\\\"colorscale\\\":[[0.0,\\\"#0d0887\\\"],[0.1111111111111111,\\\"#46039f\\\"],[0.2222222222222222,\\\"#7201a8\\\"],[0.3333333333333333,\\\"#9c179e\\\"],[0.4444444444444444,\\\"#bd3786\\\"],[0.5555555555555556,\\\"#d8576b\\\"],[0.6666666666666666,\\\"#ed7953\\\"],[0.7777777777777778,\\\"#fb9f3a\\\"],[0.8888888888888888,\\\"#fdca26\\\"],[1.0,\\\"#f0f921\\\"]]}],\\\"scattercarpet\\\":[{\\\"type\\\":\\\"scattercarpet\\\",\\\"marker\\\":{\\\"colorbar\\\":{\\\"ticks\\\":\\\"\\\",\\\"outlinewidth\\\":0}}}],\\\"mesh3d\\\":[{\\\"colorbar\\\":{\\\"ticks\\\":\\\"\\\",\\\"outlinewidth\\\":0},\\\"type\\\":\\\"mesh3d\\\"}],\\\"surface\\\":[{\\\"colorbar\\\":{\\\"ticks\\\":\\\"\\\",\\\"outlinewidth\\\":0},\\\"type\\\":\\\"surface\\\",\\\"colorscale\\\":[[0.0,\\\"#0d0887\\\"],[0.1111111111111111,\\\"#46039f\\\"],[0.2222222222222222,\\\"#7201a8\\\"],[0.3333333333333333,\\\"#9c179e\\\"],[0.4444444444444444,\\\"#bd3786\\\"],[0.5555555555555556,\\\"#d8576b\\\"],[0.6666666666666666,\\\"#ed7953\\\"],[0.7777777777777778,\\\"#fb9f3a\\\"],[0.8888888888888888,\\\"#fdca26\\\"],[1.0,\\\"#f0f921\\\"]]}],\\\"scattermapbox\\\":[{\\\"type\\\":\\\"scattermapbox\\\",\\\"marker\\\":{\\\"colorbar\\\":{\\\"ticks\\\":\\\"\\\",\\\"outlinewidth\\\":0}}}],\\\"scattergeo\\\":[{\\\"type\\\":\\\"scattergeo\\\",\\\"marker\\\":{\\\"colorbar\\\":{\\\"ticks\\\":\\\"\\\",\\\"outlinewidth\\\":0}}}],\\\"histogram\\\":[{\\\"type\\\":\\\"histogram\\\",\\\"marker\\\":{\\\"colorbar\\\":{\\\"ticks\\\":\\\"\\\",\\\"outlinewidth\\\":0}}}],\\\"pie\\\":[{\\\"type\\\":\\\"pie\\\",\\\"automargin\\\":true}],\\\"choropleth\\\":[{\\\"colorbar\\\":{\\\"ticks\\\":\\\"\\\",\\\"outlinewidth\\\":0},\\\"type\\\":\\\"choropleth\\\"}],\\\"heatmapgl\\\":[{\\\"colorbar\\\":{\\\"ticks\\\":\\\"\\\",\\\"outlinewidth\\\":0},\\\"type\\\":\\\"heatmapgl\\\",\\\"colorscale\\\":[[0.0,\\\"#0d0887\\\"],[0.1111111111111111,\\\"#46039f\\\"],[0.2222222222222222,\\\"#7201a8\\\"],[0.3333333333333333,\\\"#9c179e\\\"],[0.4444444444444444,\\\"#bd3786\\\"],[0.5555555555555556,\\\"#d8576b\\\"],[0.6666666666666666,\\\"#ed7953\\\"],[0.7777777777777778,\\\"#fb9f3a\\\"],[0.8888888888888888,\\\"#fdca26\\\"],[1.0,\\\"#f0f921\\\"]]}],\\\"bar\\\":[{\\\"type\\\":\\\"bar\\\",\\\"error_y\\\":{\\\"color\\\":\\\"#2a3f5f\\\"},\\\"error_x\\\":{\\\"color\\\":\\\"#2a3f5f\\\"},\\\"marker\\\":{\\\"line\\\":{\\\"color\\\":\\\"#E5ECF6\\\",\\\"width\\\":0.5}}}],\\\"heatmap\\\":[{\\\"colorbar\\\":{\\\"ticks\\\":\\\"\\\",\\\"outlinewidth\\\":0},\\\"type\\\":\\\"heatmap\\\",\\\"colorscale\\\":[[0.0,\\\"#0d0887\\\"],[0.1111111111111111,\\\"#46039f\\\"],[0.2222222222222222,\\\"#7201a8\\\"],[0.3333333333333333,\\\"#9c179e\\\"],[0.4444444444444444,\\\"#bd3786\\\"],[0.5555555555555556,\\\"#d8576b\\\"],[0.6666666666666666,\\\"#ed7953\\\"],[0.7777777777777778,\\\"#fb9f3a\\\"],[0.8888888888888888,\\\"#fdca26\\\"],[1.0,\\\"#f0f921\\\"]]}],\\\"contourcarpet\\\":[{\\\"colorbar\\\":{\\\"ticks\\\":\\\"\\\",\\\"outlinewidth\\\":0},\\\"type\\\":\\\"contourcarpet\\\"}],\\\"table\\\":[{\\\"type\\\":\\\"table\\\",\\\"header\\\":{\\\"line\\\":{\\\"color\\\":\\\"white\\\"},\\\"fill\\\":{\\\"color\\\":\\\"#C8D4E3\\\"}},\\\"cells\\\":{\\\"line\\\":{\\\"color\\\":\\\"white\\\"},\\\"fill\\\":{\\\"color\\\":\\\"#EBF0F8\\\"}}}],\\\"scatter3d\\\":[{\\\"line\\\":{\\\"colorbar\\\":{\\\"ticks\\\":\\\"\\\",\\\"outlinewidth\\\":0}},\\\"type\\\":\\\"scatter3d\\\",\\\"marker\\\":{\\\"colorbar\\\":{\\\"ticks\\\":\\\"\\\",\\\"outlinewidth\\\":0}}}],\\\"scattergl\\\":[{\\\"type\\\":\\\"scattergl\\\",\\\"marker\\\":{\\\"colorbar\\\":{\\\"ticks\\\":\\\"\\\",\\\"outlinewidth\\\":0}}}],\\\"histogram2d\\\":[{\\\"colorbar\\\":{\\\"ticks\\\":\\\"\\\",\\\"outlinewidth\\\":0},\\\"type\\\":\\\"histogram2d\\\",\\\"colorscale\\\":[[0.0,\\\"#0d0887\\\"],[0.1111111111111111,\\\"#46039f\\\"],[0.2222222222222222,\\\"#7201a8\\\"],[0.3333333333333333,\\\"#9c179e\\\"],[0.4444444444444444,\\\"#bd3786\\\"],[0.5555555555555556,\\\"#d8576b\\\"],[0.6666666666666666,\\\"#ed7953\\\"],[0.7777777777777778,\\\"#fb9f3a\\\"],[0.8888888888888888,\\\"#fdca26\\\"],[1.0,\\\"#f0f921\\\"]]}],\\\"scatterternary\\\":[{\\\"type\\\":\\\"scatterternary\\\",\\\"marker\\\":{\\\"colorbar\\\":{\\\"ticks\\\":\\\"\\\",\\\"outlinewidth\\\":0}}}],\\\"scatterpolargl\\\":[{\\\"type\\\":\\\"scatterpolargl\\\",\\\"marker\\\":{\\\"colorbar\\\":{\\\"ticks\\\":\\\"\\\",\\\"outlinewidth\\\":0}}}]}},\\\"height\\\":500,\\\"margin\\\":{\\\"l\\\":65,\\\"b\\\":65,\\\"r\\\":50,\\\"t\\\":90},\\\"title\\\":\\\"Cost Function\\\",\\\"width\\\":500},{\\\"showLink\\\":false,\\\"editable\\\":false,\\\"responsive\\\":true,\\\"staticPlot\\\":false,\\\"scrollZoom\\\":true}); gd.on(\\\"plotly_hover\\\",(function (data){var filtered_data=WebIO.PlotlyCommands.filterEventData(gd,data,\\\"hover\\\"); return !(filtered_data.isnil) ? (WebIO.setval({\\\"name\\\":\\\"hover\\\",\\\"scope\\\":\\\"5266459813482023880\\\",\\\"id\\\":\\\"17383558073881734158\\\",\\\"type\\\":\\\"observable\\\"},filtered_data.out)) : undefined})); gd.on(\\\"plotly_unhover\\\",(function (){return WebIO.setval({\\\"name\\\":\\\"hover\\\",\\\"scope\\\":\\\"5266459813482023880\\\",\\\"id\\\":\\\"17383558073881734158\\\",\\\"type\\\":\\\"observable\\\"},{})})); gd.on(\\\"plotly_selected\\\",(function (data){var filtered_data=WebIO.PlotlyCommands.filterEventData(gd,data,\\\"selected\\\"); return !(filtered_data.isnil) ? (WebIO.setval({\\\"name\\\":\\\"selected\\\",\\\"scope\\\":\\\"5266459813482023880\\\",\\\"id\\\":\\\"2133675341814985841\\\",\\\"type\\\":\\\"observable\\\"},filtered_data.out)) : undefined})); gd.on(\\\"plotly_deselect\\\",(function (){return WebIO.setval({\\\"name\\\":\\\"selected\\\",\\\"scope\\\":\\\"5266459813482023880\\\",\\\"id\\\":\\\"2133675341814985841\\\",\\\"type\\\":\\\"observable\\\"},{})})); gd.on(\\\"plotly_relayout\\\",(function (data){var filtered_data=WebIO.PlotlyCommands.filterEventData(gd,data,\\\"relayout\\\"); return !(filtered_data.isnil) ? (WebIO.setval({\\\"name\\\":\\\"relayout\\\",\\\"scope\\\":\\\"5266459813482023880\\\",\\\"id\\\":\\\"2531745276194900275\\\",\\\"type\\\":\\\"observable\\\"},filtered_data.out)) : undefined})); return gd.on(\\\"plotly_click\\\",(function (data){var filtered_data=WebIO.PlotlyCommands.filterEventData(gd,data,\\\"click\\\"); return !(filtered_data.isnil) ? (WebIO.setval({\\\"name\\\":\\\"click\\\",\\\"scope\\\":\\\"5266459813482023880\\\",\\\"id\\\":\\\"15036352610812790137\\\",\\\"type\\\":\\\"observable\\\"},filtered_data.out)) : undefined}))}));\\n    (WebIO.importBlock({\\\"data\\\":[{\\\"name\\\":\\\"Plotly\\\",\\\"type\\\":\\\"js\\\",\\\"url\\\":\\\"\\/assetserver\\/c1ceafbb88f71e36d0668c9d7a58ed90cde4cd06-plotly.min.js\\\"},{\\\"name\\\":null,\\\"type\\\":\\\"js\\\",\\\"url\\\":\\\"\\/assetserver\\/4c539090c3e5a185e20c539d3b31979e04872767-plotly_webio.bundle.js\\\"}],\\\"type\\\":\\\"async_block\\\"})).then((imports) => handler.apply(this, imports));\\n}\\n\"],\"observables\":{\"_toImage\":{\"sync\":false,\"id\":\"8947966913740435537\",\"value\":{}},\"hover\":{\"sync\":false,\"id\":\"17383558073881734158\",\"value\":{}},\"selected\":{\"sync\":false,\"id\":\"2133675341814985841\",\"value\":{}},\"__gd_contents\":{\"sync\":false,\"id\":\"9062234943905642247\",\"value\":{}},\"click\":{\"sync\":false,\"id\":\"15036352610812790137\",\"value\":{}},\"image\":{\"sync\":true,\"id\":\"1155356736352876704\",\"value\":\"\"},\"__get_gd_contents\":{\"sync\":false,\"id\":\"10523887434392957491\",\"value\":\"\"},\"_downloadImage\":{\"sync\":false,\"id\":\"11702713515103521417\",\"value\":{}},\"relayout\":{\"sync\":false,\"id\":\"2531745276194900275\",\"value\":{}},\"_commands\":{\"sync\":false,\"id\":\"9466036003200693100\",\"value\":[]}}},\"children\":[{\"props\":{\"id\":\"plot-015cb1b7-f330-4d22-95dc-2e26d9c922a3\"},\"nodeType\":\"DOM\",\"type\":\"node\",\"instanceArgs\":{\"namespace\":\"html\",\"tag\":\"div\"},\"children\":[]}]},\n",
       "        window,\n",
       "    );\n",
       "    })()\n",
       "    </script>\n",
       "</div>\n"
      ],
      "text/plain": [
       "data: [\n",
       "  \"surface with fields contours, type, x, y, and z\"\n",
       "]\n",
       "\n",
       "layout: \"layout with fields autosize, height, margin, template, title, and width\"\n",
       "\n"
      ]
     },
     "execution_count": 47,
     "metadata": {},
     "output_type": "execute_result"
    }
   ],
   "source": [
    "layout = Layout(\n",
    "    title=\"Cost Function\", autosize=false,\n",
    "    width=500, height=500,\n",
    "    margin=attr(l=65, r=50, b=65, t=90)\n",
    ")\n",
    "\n",
    "\n",
    "PlotlyJS.plot(PlotlyJS.surface(z=cost_function_matrix, x=theta0s, y=theta1s,\n",
    "    contours_z=attr(\n",
    "        show=true,\n",
    "        usecolormap=true,\n",
    "        highlightcolor=\"limegreen\",\n",
    "        project_z=true\n",
    "    )),\n",
    "    layout)"
   ]
  },
  {
   "cell_type": "code",
   "execution_count": 48,
   "id": "bdedf7c1",
   "metadata": {},
   "outputs": [
    {
     "data": {
      "application/vnd.plotly.v1+json": {
       "config": {
        "editable": false,
        "responsive": true,
        "scrollZoom": true,
        "showLink": false,
        "staticPlot": false
       },
       "data": [
        {
         "transpose": true,
         "type": "contour",
         "x": [
          -10,
          -9,
          -8,
          -7,
          -6,
          -5,
          -4,
          -3,
          -2,
          -1,
          0,
          1,
          2,
          3,
          4,
          5,
          6,
          7,
          8,
          9,
          10
         ],
         "y": [
          -1,
          -0.75,
          -0.5,
          -0.25,
          0,
          0.25,
          0.5,
          0.75,
          1,
          1.25,
          1.5,
          1.75,
          2,
          2.25,
          2.5,
          2.75,
          3,
          3.25,
          3.5,
          3.75,
          4
         ],
         "z": [
          [
           328.0929055495072,
           273.554080620792,
           224.1030021184556,
           179.73967004249818,
           140.4640843929196,
           106.27624516971984,
           77.17615237289897,
           53.163806002456965,
           34.23920605839381,
           20.402352540709536,
           11.653245449404128,
           7.991884784477576,
           9.418270545929895,
           15.932402733761085,
           27.534281347971135,
           44.223906388560046,
           66.00127785552783,
           92.86639574887447,
           124.81926006859999,
           161.85987081470438,
           203.98822798718754
          ],
          [
           304.5939704979609,
           252.09509556924556,
           204.68396706690928,
           162.36058499095182,
           125.12494934137318,
           92.97706011817343,
           65.91691732135259,
           43.94452095091056,
           27.059871006847427,
           15.262967489163145,
           8.553810397857731,
           6.932399732931184,
           10.398735494383503,
           18.95281768221469,
           32.594646296424735,
           51.32422133701364,
           75.14154280398142,
           104.04661069732809,
           138.0394250170536,
           177.11998576315796,
           221.28829293564115
          ],
          [
           282.09503544641433,
           231.6361105176992,
           186.26493201536292,
           145.98149993940544,
           110.78581428982679,
           80.67787506662705,
           55.65768226980619,
           35.725235899364186,
           20.880535955301028,
           11.12358243761675,
           6.454375346311341,
           6.872914681384794,
           12.37920044283711,
           22.973232630668292,
           38.65501124487835,
           59.424536285467276,
           85.28180775243503,
           116.22682564578164,
           152.2595899655072,
           193.3801007116116,
           239.58835788409485
          ],
          [
           260.59610039486796,
           212.17712546615277,
           168.84589696381647,
           130.602414887859,
           97.44667923828041,
           69.37869001508068,
           46.39844721825979,
           28.505950847817793,
           15.701200903754636,
           7.98419738607036,
           5.3549402947649485,
           7.8134296298384,
           15.35966539129072,
           27.993647579121916,
           45.71537619333196,
           68.52485123392088,
           96.42207270088863,
           129.40704059423535,
           167.47975491396082,
           210.6402156600652,
           258.8884228325485
          ],
          [
           240.09716534332168,
           193.7181404146064,
           152.4268619122701,
           116.22332983631264,
           85.107544186734,
           59.07950496353427,
           38.1392121667134,
           22.286665796271393,
           11.521865852208242,
           5.84481233452397,
           5.255505243218555,
           9.753944578292009,
           19.340130339744327,
           34.01406252757552,
           53.775741141785595,
           78.6251661823745,
           108.56233764934225,
           143.5872555426889,
           183.69991986241442,
           228.90033060851883,
           279.18848778100204
          ],
          [
           220.59823029177525,
           176.25915536306005,
           137.0078268607237,
           102.84424478476626,
           73.76840913518762,
           49.7803199119879,
           30.879977115166994,
           17.067380744725003,
           8.342530800661853,
           4.705427282977578,
           6.156070191672165,
           12.694459526745616,
           24.320595288197932,
           41.034477476029124,
           62.83610609023918,
           89.7254811308281,
           121.70260259779589,
           158.76747049114255,
           200.920084810868,
           248.16044555697238,
           300.48855272945565
          ],
          [
           202.09929524022888,
           159.80017031151368,
           122.58879180917735,
           90.46515973321985,
           63.42927408364124,
           41.481134860441486,
           24.620742063620614,
           12.84809569317861,
           6.163195749115466,
           4.566042231431185,
           8.056635140125774,
           16.63497447519923,
           30.301060236651544,
           49.05489242448274,
           72.89647103869277,
           101.82579607928172,
           135.8428675462495,
           174.94768543959609,
           219.14024975932165,
           268.42056050542595,
           322.78861767790926
          ],
          [
           184.6003601886825,
           144.34118525996726,
           109.16975675763094,
           79.08607468167342,
           54.090139032094854,
           34.18194980889511,
           19.36150701207423,
           9.628810641632215,
           4.983860697569074,
           5.426657179884795,
           10.957200088579379,
           21.575489423652837,
           37.281525185105146,
           58.07530737293633,
           83.9568359871464,
           114.9261110277353,
           150.9831324947031,
           192.1279003880498,
           238.3604147077753,
           289.68067545387964,
           346.08868262636287
          ],
          [
           168.10142513713606,
           129.88220020842084,
           96.75072170608449,
           68.70698963012707,
           45.75100398054846,
           27.88276475734871,
           15.102271960527837,
           7.409525590085823,
           4.80452564602268,
           7.287272128338404,
           14.857765037032989,
           27.516004372106448,
           45.26199013355877,
           68.09572232138994,
           96.01720093559996,
           129.02642597618893,
           167.12339744315668,
           210.30811533650336,
           258.5805796562288,
           311.9407904023332,
           370.3887475748163
          ],
          [
           152.60249008558966,
           116.42321515687448,
           85.33168665453813,
           59.327904578580686,
           38.41186892900206,
           22.583579705802325,
           11.843036908981444,
           6.190240538539434,
           5.625190594476288,
           10.147887076792008,
           19.758329985486597,
           34.45651932056005,
           54.242455082012384,
           79.11613726984353,
           109.07756588405361,
           144.12674092464252,
           184.26366239161027,
           229.48833028495693,
           279.80074460468245,
           335.20090535078674,
           395.6888125232699
          ],
          [
           138.1035550340433,
           103.96423010532807,
           74.91265160299176,
           50.948819527034274,
           32.072733877455676,
           18.284394654255927,
           9.58380185743505,
           5.9709554869930415,
           7.4458555429298965,
           14.008502025245626,
           25.658894933940207,
           42.39703426901366,
           64.22292003046599,
           91.13655221829715,
           123.13793083250724,
           160.22705587309616,
           202.40392734006394,
           249.6685452334106,
           302.02090955313605,
           359.4610202992405,
           421.98887747172387
          ],
          [
           124.6046199824969,
           92.50524505378166,
           65.49361655144536,
           43.569734475487884,
           26.733598825909272,
           14.985209602709537,
           8.324566805888661,
           6.7516704354466475,
           10.266520491383504,
           18.869116973699228,
           32.559459882393824,
           51.337549217467256,
           75.20338497891957,
           104.15696716675075,
           138.19829578096082,
           177.32737082154978,
           221.54419228851754,
           270.8487601818641,
           325.2410745015897,
           384.72113524769406,
           449.2889424201774
          ],
          [
           112.10568493095052,
           82.04626000223529,
           57.07458149989899,
           37.190649423941494,
           22.39446377436288,
           12.686024551163142,
           8.06533175434227,
           8.532385383900257,
           14.087185439837114,
           24.729731922152833,
           40.460024830847416,
           61.278064165920874,
           87.18384992737317,
           118.17738211520437,
           154.25866072941443,
           195.42768577000322,
           241.6844572369711,
           293.0289751303178,
           349.46123945004314,
           410.9812501961476,
           477.5890073686309
          ],
          [
           100.60674987940412,
           72.58727495068892,
           49.655546448352574,
           31.811564372395107,
           19.055328722816494,
           11.386839499616753,
           8.806096702795879,
           11.313100332353867,
           18.907850388290722,
           31.59034687060645,
           49.360589779301044,
           72.21857911437449,
           100.1643148758268,
           133.197797063658,
           171.319025677868,
           214.52800071845698,
           262.82472218542466,
           316.20919007877137,
           374.68140439849697,
           438.2413651446013,
           506.8890723170844
          ],
          [
           90.1078148278577,
           64.12828989914253,
           43.236511396806186,
           27.432479320848707,
           16.716193671270105,
           11.087654448070358,
           10.546861651249484,
           15.093815280807474,
           24.728515336744323,
           39.45096181906004,
           59.26115472775465,
           84.15909406282809,
           114.14477982428036,
           149.2182120121116,
           189.37939062632162,
           234.6283156669106,
           284.96498713387837,
           340.3894050272249,
           400.90156934695057,
           466.501480093055,
           537.1891372655382
          ],
          [
           80.60887977631135,
           56.669304847596116,
           37.8174763452598,
           24.053394269302313,
           15.377058619723709,
           11.788469396523967,
           13.287626599703094,
           19.87453022926108,
           31.549180285197938,
           48.31157676751366,
           70.16171967620824,
           97.09960901128169,
           129.12524477273405,
           166.2386269605652,
           208.43975557477523,
           255.72863061536427,
           308.105252082332,
           365.56961997567873,
           428.1217342954042,
           495.76159504150854,
           568.4892022139918
          ],
          [
           72.10994472476496,
           50.210319796049745,
           33.3984412937134,
           21.674309217755926,
           15.037923568177318,
           13.489284344977575,
           17.0283915481567,
           25.65524517771469,
           39.36984523365155,
           58.172191715967266,
           82.06228462466186,
           111.04012395973534,
           145.10570972118762,
           184.25904190901886,
           228.5001205232289,
           277.82894556381785,
           332.2455170307855,
           391.7498349241322,
           456.34189924385754,
           526.0217099899621,
           600.7892671624453
          ],
          [
           64.61100967321855,
           44.75133474450335,
           29.979406242167006,
           20.295224166209533,
           15.698788516630927,
           16.19009929343119,
           21.769156496610307,
           32.4359601261683,
           48.19051018210514,
           69.03280666442086,
           94.96284957311548,
           125.9806389081889,
           162.08617466964122,
           203.2794568574724,
           249.56048547168243,
           300.92926051227136,
           357.3857819792391,
           418.9300498725858,
           485.5620641923112,
           557.2818249384156,
           634.089332110899
          ],
          [
           58.11207462167216,
           40.29234969295696,
           27.560371190620618,
           19.916139114663142,
           17.35965346508454,
           19.890914241884794,
           27.509921445063917,
           40.2166750746219,
           58.01117513055876,
           80.89342161287449,
           108.86341452156908,
           141.92115385664255,
           180.06663961809485,
           223.29987180592602,
           271.62085042013615,
           325.029575460725,
           383.52604692769273,
           447.1102648210395,
           515.782229140765,
           589.5419398868695,
           668.3893970593524
          ],
          [
           52.61313957012576,
           36.833364641410576,
           26.14133613907422,
           20.53705406311675,
           20.02051841353814,
           24.5917291903384,
           34.25068639351751,
           48.99739002307551,
           68.83184007901235,
           93.75403656132809,
           123.76397947002269,
           158.8616688050961,
           199.04710456654848,
           244.32028675437962,
           294.6812153685897,
           350.1298904091786,
           410.66631187614627,
           476.2904797694932,
           547.0023940892185,
           622.802054835323,
           703.689462007806
          ],
          [
           48.114204518579385,
           34.374379589864176,
           25.722301087527832,
           22.15796901157036,
           23.681383361991752,
           30.292544138792017,
           41.99145134197113,
           58.778104971529125,
           80.65250502746599,
           107.61465150978168,
           139.66454441847623,
           176.8021837535497,
           219.02756951500206,
           266.34070170283326,
           318.7415803170433,
           376.23020535763226,
           438.8065768246,
           506.4706947179465,
           579.2225590376722,
           657.0621697837767,
           739.9895269562596
          ]
         ]
        }
       ],
       "frames": [],
       "layout": {
        "margin": {
         "b": 50,
         "l": 50,
         "r": 50,
         "t": 60
        },
        "template": {
         "data": {
          "bar": [
           {
            "error_x": {
             "color": "#2a3f5f"
            },
            "error_y": {
             "color": "#2a3f5f"
            },
            "marker": {
             "line": {
              "color": "#E5ECF6",
              "width": 0.5
             }
            },
            "type": "bar"
           }
          ],
          "barpolar": [
           {
            "marker": {
             "line": {
              "color": "#E5ECF6",
              "width": 0.5
             }
            },
            "type": "barpolar"
           }
          ],
          "carpet": [
           {
            "aaxis": {
             "endlinecolor": "#2a3f5f",
             "gridcolor": "white",
             "linecolor": "white",
             "minorgridcolor": "white",
             "startlinecolor": "#2a3f5f"
            },
            "baxis": {
             "endlinecolor": "#2a3f5f",
             "gridcolor": "white",
             "linecolor": "white",
             "minorgridcolor": "white",
             "startlinecolor": "#2a3f5f"
            },
            "type": "carpet"
           }
          ],
          "choropleth": [
           {
            "colorbar": {
             "outlinewidth": 0,
             "ticks": ""
            },
            "type": "choropleth"
           }
          ],
          "contour": [
           {
            "colorbar": {
             "outlinewidth": 0,
             "ticks": ""
            },
            "colorscale": [
             [
              0,
              "#0d0887"
             ],
             [
              0.1111111111111111,
              "#46039f"
             ],
             [
              0.2222222222222222,
              "#7201a8"
             ],
             [
              0.3333333333333333,
              "#9c179e"
             ],
             [
              0.4444444444444444,
              "#bd3786"
             ],
             [
              0.5555555555555556,
              "#d8576b"
             ],
             [
              0.6666666666666666,
              "#ed7953"
             ],
             [
              0.7777777777777778,
              "#fb9f3a"
             ],
             [
              0.8888888888888888,
              "#fdca26"
             ],
             [
              1,
              "#f0f921"
             ]
            ],
            "type": "contour"
           }
          ],
          "contourcarpet": [
           {
            "colorbar": {
             "outlinewidth": 0,
             "ticks": ""
            },
            "type": "contourcarpet"
           }
          ],
          "heatmap": [
           {
            "colorbar": {
             "outlinewidth": 0,
             "ticks": ""
            },
            "colorscale": [
             [
              0,
              "#0d0887"
             ],
             [
              0.1111111111111111,
              "#46039f"
             ],
             [
              0.2222222222222222,
              "#7201a8"
             ],
             [
              0.3333333333333333,
              "#9c179e"
             ],
             [
              0.4444444444444444,
              "#bd3786"
             ],
             [
              0.5555555555555556,
              "#d8576b"
             ],
             [
              0.6666666666666666,
              "#ed7953"
             ],
             [
              0.7777777777777778,
              "#fb9f3a"
             ],
             [
              0.8888888888888888,
              "#fdca26"
             ],
             [
              1,
              "#f0f921"
             ]
            ],
            "type": "heatmap"
           }
          ],
          "heatmapgl": [
           {
            "colorbar": {
             "outlinewidth": 0,
             "ticks": ""
            },
            "colorscale": [
             [
              0,
              "#0d0887"
             ],
             [
              0.1111111111111111,
              "#46039f"
             ],
             [
              0.2222222222222222,
              "#7201a8"
             ],
             [
              0.3333333333333333,
              "#9c179e"
             ],
             [
              0.4444444444444444,
              "#bd3786"
             ],
             [
              0.5555555555555556,
              "#d8576b"
             ],
             [
              0.6666666666666666,
              "#ed7953"
             ],
             [
              0.7777777777777778,
              "#fb9f3a"
             ],
             [
              0.8888888888888888,
              "#fdca26"
             ],
             [
              1,
              "#f0f921"
             ]
            ],
            "type": "heatmapgl"
           }
          ],
          "histogram": [
           {
            "marker": {
             "colorbar": {
              "outlinewidth": 0,
              "ticks": ""
             }
            },
            "type": "histogram"
           }
          ],
          "histogram2d": [
           {
            "colorbar": {
             "outlinewidth": 0,
             "ticks": ""
            },
            "colorscale": [
             [
              0,
              "#0d0887"
             ],
             [
              0.1111111111111111,
              "#46039f"
             ],
             [
              0.2222222222222222,
              "#7201a8"
             ],
             [
              0.3333333333333333,
              "#9c179e"
             ],
             [
              0.4444444444444444,
              "#bd3786"
             ],
             [
              0.5555555555555556,
              "#d8576b"
             ],
             [
              0.6666666666666666,
              "#ed7953"
             ],
             [
              0.7777777777777778,
              "#fb9f3a"
             ],
             [
              0.8888888888888888,
              "#fdca26"
             ],
             [
              1,
              "#f0f921"
             ]
            ],
            "type": "histogram2d"
           }
          ],
          "histogram2dcontour": [
           {
            "colorbar": {
             "outlinewidth": 0,
             "ticks": ""
            },
            "colorscale": [
             [
              0,
              "#0d0887"
             ],
             [
              0.1111111111111111,
              "#46039f"
             ],
             [
              0.2222222222222222,
              "#7201a8"
             ],
             [
              0.3333333333333333,
              "#9c179e"
             ],
             [
              0.4444444444444444,
              "#bd3786"
             ],
             [
              0.5555555555555556,
              "#d8576b"
             ],
             [
              0.6666666666666666,
              "#ed7953"
             ],
             [
              0.7777777777777778,
              "#fb9f3a"
             ],
             [
              0.8888888888888888,
              "#fdca26"
             ],
             [
              1,
              "#f0f921"
             ]
            ],
            "type": "histogram2dcontour"
           }
          ],
          "mesh3d": [
           {
            "colorbar": {
             "outlinewidth": 0,
             "ticks": ""
            },
            "type": "mesh3d"
           }
          ],
          "parcoords": [
           {
            "line": {
             "colorbar": {
              "outlinewidth": 0,
              "ticks": ""
             }
            },
            "type": "parcoords"
           }
          ],
          "pie": [
           {
            "automargin": true,
            "type": "pie"
           }
          ],
          "scatter": [
           {
            "marker": {
             "colorbar": {
              "outlinewidth": 0,
              "ticks": ""
             }
            },
            "type": "scatter"
           }
          ],
          "scatter3d": [
           {
            "line": {
             "colorbar": {
              "outlinewidth": 0,
              "ticks": ""
             }
            },
            "marker": {
             "colorbar": {
              "outlinewidth": 0,
              "ticks": ""
             }
            },
            "type": "scatter3d"
           }
          ],
          "scattercarpet": [
           {
            "marker": {
             "colorbar": {
              "outlinewidth": 0,
              "ticks": ""
             }
            },
            "type": "scattercarpet"
           }
          ],
          "scattergeo": [
           {
            "marker": {
             "colorbar": {
              "outlinewidth": 0,
              "ticks": ""
             }
            },
            "type": "scattergeo"
           }
          ],
          "scattergl": [
           {
            "marker": {
             "colorbar": {
              "outlinewidth": 0,
              "ticks": ""
             }
            },
            "type": "scattergl"
           }
          ],
          "scattermapbox": [
           {
            "marker": {
             "colorbar": {
              "outlinewidth": 0,
              "ticks": ""
             }
            },
            "type": "scattermapbox"
           }
          ],
          "scatterpolar": [
           {
            "marker": {
             "colorbar": {
              "outlinewidth": 0,
              "ticks": ""
             }
            },
            "type": "scatterpolar"
           }
          ],
          "scatterpolargl": [
           {
            "marker": {
             "colorbar": {
              "outlinewidth": 0,
              "ticks": ""
             }
            },
            "type": "scatterpolargl"
           }
          ],
          "scatterternary": [
           {
            "marker": {
             "colorbar": {
              "outlinewidth": 0,
              "ticks": ""
             }
            },
            "type": "scatterternary"
           }
          ],
          "surface": [
           {
            "colorbar": {
             "outlinewidth": 0,
             "ticks": ""
            },
            "colorscale": [
             [
              0,
              "#0d0887"
             ],
             [
              0.1111111111111111,
              "#46039f"
             ],
             [
              0.2222222222222222,
              "#7201a8"
             ],
             [
              0.3333333333333333,
              "#9c179e"
             ],
             [
              0.4444444444444444,
              "#bd3786"
             ],
             [
              0.5555555555555556,
              "#d8576b"
             ],
             [
              0.6666666666666666,
              "#ed7953"
             ],
             [
              0.7777777777777778,
              "#fb9f3a"
             ],
             [
              0.8888888888888888,
              "#fdca26"
             ],
             [
              1,
              "#f0f921"
             ]
            ],
            "type": "surface"
           }
          ],
          "table": [
           {
            "cells": {
             "fill": {
              "color": "#EBF0F8"
             },
             "line": {
              "color": "white"
             }
            },
            "header": {
             "fill": {
              "color": "#C8D4E3"
             },
             "line": {
              "color": "white"
             }
            },
            "type": "table"
           }
          ]
         },
         "layout": {
          "annotationdefaults": {
           "arrowcolor": "#2a3f5f",
           "arrowhead": 0,
           "arrowwidth": 1
          },
          "autotypenumbers": "strict",
          "coloraxis": {
           "colorbar": {
            "outlinewidth": 0,
            "ticks": ""
           }
          },
          "colorscale": {
           "diverging": [
            [
             0,
             "#8e0152"
            ],
            [
             0.1,
             "#c51b7d"
            ],
            [
             0.2,
             "#de77ae"
            ],
            [
             0.3,
             "#f1b6da"
            ],
            [
             0.4,
             "#fde0ef"
            ],
            [
             0.5,
             "#f7f7f7"
            ],
            [
             0.6,
             "#e6f5d0"
            ],
            [
             0.7,
             "#b8e186"
            ],
            [
             0.8,
             "#7fbc41"
            ],
            [
             0.9,
             "#4d9221"
            ],
            [
             1,
             "#276419"
            ]
           ],
           "sequential": [
            [
             0,
             "#0d0887"
            ],
            [
             0.1111111111111111,
             "#46039f"
            ],
            [
             0.2222222222222222,
             "#7201a8"
            ],
            [
             0.3333333333333333,
             "#9c179e"
            ],
            [
             0.4444444444444444,
             "#bd3786"
            ],
            [
             0.5555555555555556,
             "#d8576b"
            ],
            [
             0.6666666666666666,
             "#ed7953"
            ],
            [
             0.7777777777777778,
             "#fb9f3a"
            ],
            [
             0.8888888888888888,
             "#fdca26"
            ],
            [
             1,
             "#f0f921"
            ]
           ],
           "sequentialminus": [
            [
             0,
             "#0d0887"
            ],
            [
             0.1111111111111111,
             "#46039f"
            ],
            [
             0.2222222222222222,
             "#7201a8"
            ],
            [
             0.3333333333333333,
             "#9c179e"
            ],
            [
             0.4444444444444444,
             "#bd3786"
            ],
            [
             0.5555555555555556,
             "#d8576b"
            ],
            [
             0.6666666666666666,
             "#ed7953"
            ],
            [
             0.7777777777777778,
             "#fb9f3a"
            ],
            [
             0.8888888888888888,
             "#fdca26"
            ],
            [
             1,
             "#f0f921"
            ]
           ]
          },
          "colorway": [
           "#636efa",
           "#EF553B",
           "#00cc96",
           "#ab63fa",
           "#FFA15A",
           "#19d3f3",
           "#FF6692",
           "#B6E880",
           "#FF97FF",
           "#FECB52"
          ],
          "font": {
           "color": "#2a3f5f"
          },
          "geo": {
           "bgcolor": "white",
           "lakecolor": "white",
           "landcolor": "#E5ECF6",
           "showlakes": true,
           "showland": true,
           "subunitcolor": "white"
          },
          "hoverlabel": {
           "align": "left"
          },
          "hovermode": "closest",
          "mapbox": {
           "style": "light"
          },
          "paper_bgcolor": "white",
          "plot_bgcolor": "#E5ECF6",
          "polar": {
           "angularaxis": {
            "gridcolor": "white",
            "linecolor": "white",
            "ticks": ""
           },
           "bgcolor": "#E5ECF6",
           "radialaxis": {
            "gridcolor": "white",
            "linecolor": "white",
            "ticks": ""
           }
          },
          "scene": {
           "xaxis": {
            "backgroundcolor": "#E5ECF6",
            "gridcolor": "white",
            "gridwidth": 2,
            "linecolor": "white",
            "showbackground": true,
            "ticks": "",
            "zerolinecolor": "white"
           },
           "yaxis": {
            "backgroundcolor": "#E5ECF6",
            "gridcolor": "white",
            "gridwidth": 2,
            "linecolor": "white",
            "showbackground": true,
            "ticks": "",
            "zerolinecolor": "white"
           },
           "zaxis": {
            "backgroundcolor": "#E5ECF6",
            "gridcolor": "white",
            "gridwidth": 2,
            "linecolor": "white",
            "showbackground": true,
            "ticks": "",
            "zerolinecolor": "white"
           }
          },
          "shapedefaults": {
           "line": {
            "color": "#2a3f5f"
           }
          },
          "ternary": {
           "aaxis": {
            "gridcolor": "white",
            "linecolor": "white",
            "ticks": ""
           },
           "baxis": {
            "gridcolor": "white",
            "linecolor": "white",
            "ticks": ""
           },
           "bgcolor": "#E5ECF6",
           "caxis": {
            "gridcolor": "white",
            "linecolor": "white",
            "ticks": ""
           }
          },
          "title": {
           "x": 0.05
          },
          "xaxis": {
           "automargin": true,
           "gridcolor": "white",
           "linecolor": "white",
           "ticks": "",
           "title": {
            "standoff": 15
           },
           "zerolinecolor": "white",
           "zerolinewidth": 2
          },
          "yaxis": {
           "automargin": true,
           "gridcolor": "white",
           "linecolor": "white",
           "ticks": "",
           "title": {
            "standoff": 15
           },
           "zerolinecolor": "white",
           "zerolinewidth": 2
          }
         }
        }
       }
      },
      "text/html": [
       "<div\n",
       "    class=\"webio-mountpoint\"\n",
       "    data-webio-mountpoint=\"469046838604915701\"\n",
       ">\n",
       "    <script>\n",
       "    (function(){\n",
       "    // Some integrations (namely, IJulia/Jupyter) use an alternate render pathway than\n",
       "    // just putting the html on the page. If WebIO isn't defined, then it's pretty likely\n",
       "    // that we're in one of those situations and the integration just isn't installed\n",
       "    // correctly.\n",
       "    if (typeof window.WebIO === \"undefined\") {\n",
       "        document\n",
       "            .querySelector('[data-webio-mountpoint=\"469046838604915701\"]')\n",
       "            .innerHTML = (\n",
       "                '<div style=\"padding: 1em; background-color: #f8d6da; border: 1px solid #f5c6cb; font-weight: bold;\">' +\n",
       "                '<p><strong>WebIO not detected.</strong></p>' +\n",
       "                '<p>Please read ' +\n",
       "                '<a href=\"https://juliagizmos.github.io/WebIO.jl/latest/troubleshooting/not-detected/\" target=\"_blank\">the troubleshooting guide</a> ' +\n",
       "                'for more information on how to resolve this issue.</p>' +\n",
       "                '<p><a href=\"https://juliagizmos.github.io/WebIO.jl/latest/troubleshooting/not-detected/\" target=\"_blank\">https://juliagizmos.github.io/WebIO.jl/latest/troubleshooting/not-detected/</a></p>' +\n",
       "                '</div>'\n",
       "            );\n",
       "        return;\n",
       "    }\n",
       "    WebIO.mount(\n",
       "        document.querySelector('[data-webio-mountpoint=\"469046838604915701\"]'),\n",
       "        {\"props\":{},\"nodeType\":\"Scope\",\"type\":\"node\",\"instanceArgs\":{\"imports\":{\"data\":[{\"name\":\"Plotly\",\"type\":\"js\",\"url\":\"\\/assetserver\\/c1ceafbb88f71e36d0668c9d7a58ed90cde4cd06-plotly.min.js\"},{\"name\":null,\"type\":\"js\",\"url\":\"\\/assetserver\\/4c539090c3e5a185e20c539d3b31979e04872767-plotly_webio.bundle.js\"}],\"type\":\"async_block\"},\"id\":\"4744534778516371978\",\"handlers\":{\"_toImage\":[\"(function (options){return this.Plotly.toImage(this.plotElem,options).then((function (data){return WebIO.setval({\\\"name\\\":\\\"image\\\",\\\"scope\\\":\\\"4744534778516371978\\\",\\\"id\\\":\\\"1890291812444748601\\\",\\\"type\\\":\\\"observable\\\"},data)}))})\"],\"__get_gd_contents\":[\"(function (prop){prop==\\\"data\\\" ? (WebIO.setval({\\\"name\\\":\\\"__gd_contents\\\",\\\"scope\\\":\\\"4744534778516371978\\\",\\\"id\\\":\\\"16236082985538302307\\\",\\\"type\\\":\\\"observable\\\"},this.plotElem.data)) : undefined; return prop==\\\"layout\\\" ? (WebIO.setval({\\\"name\\\":\\\"__gd_contents\\\",\\\"scope\\\":\\\"4744534778516371978\\\",\\\"id\\\":\\\"16236082985538302307\\\",\\\"type\\\":\\\"observable\\\"},this.plotElem.layout)) : undefined})\"],\"_downloadImage\":[\"(function (options){return this.Plotly.downloadImage(this.plotElem,options)})\"],\"_commands\":[\"(function (args){var fn=args.shift(); var elem=this.plotElem; var Plotly=this.Plotly; args.unshift(elem); return Plotly[fn].apply(this,args)})\"]},\"systemjs_options\":null,\"mount_callbacks\":[\"function () {\\n    var handler = ((function (Plotly,PlotlyWebIO){PlotlyWebIO.init(WebIO); var gd=this.dom.querySelector(\\\"#plot-a23351f5-93f4-4ccf-be24-e2369c593d99\\\"); this.plotElem=gd; this.Plotly=Plotly; (window.Blink!==undefined) ? (gd.style.width=\\\"100%\\\", gd.style.height=\\\"100vh\\\", gd.style.marginLeft=\\\"0%\\\", gd.style.marginTop=\\\"0vh\\\") : undefined; window.onresize=(function (){return Plotly.Plots.resize(gd)}); Plotly.newPlot(gd,[{\\\"y\\\":[-1.0,-0.75,-0.5,-0.25,0.0,0.25,0.5,0.75,1.0,1.25,1.5,1.75,2.0,2.25,2.5,2.75,3.0,3.25,3.5,3.75,4.0],\\\"type\\\":\\\"contour\\\",\\\"z\\\":[[328.0929055495072,273.554080620792,224.1030021184556,179.73967004249818,140.4640843929196,106.27624516971984,77.17615237289897,53.163806002456965,34.23920605839381,20.402352540709536,11.653245449404128,7.991884784477576,9.418270545929895,15.932402733761085,27.534281347971135,44.223906388560046,66.00127785552783,92.86639574887447,124.81926006859999,161.85987081470438,203.98822798718754],[304.5939704979609,252.09509556924556,204.68396706690928,162.36058499095182,125.12494934137318,92.97706011817343,65.91691732135259,43.94452095091056,27.059871006847427,15.262967489163145,8.553810397857731,6.932399732931184,10.398735494383503,18.95281768221469,32.594646296424735,51.32422133701364,75.14154280398142,104.04661069732809,138.0394250170536,177.11998576315796,221.28829293564115],[282.09503544641433,231.6361105176992,186.26493201536292,145.98149993940544,110.78581428982679,80.67787506662705,55.65768226980619,35.725235899364186,20.880535955301028,11.12358243761675,6.454375346311341,6.872914681384794,12.37920044283711,22.973232630668292,38.65501124487835,59.424536285467276,85.28180775243503,116.22682564578164,152.2595899655072,193.3801007116116,239.58835788409485],[260.59610039486796,212.17712546615277,168.84589696381647,130.602414887859,97.44667923828041,69.37869001508068,46.39844721825979,28.505950847817793,15.701200903754636,7.98419738607036,5.3549402947649485,7.8134296298384,15.35966539129072,27.993647579121916,45.71537619333196,68.52485123392088,96.42207270088863,129.40704059423535,167.47975491396082,210.6402156600652,258.8884228325485],[240.09716534332168,193.7181404146064,152.4268619122701,116.22332983631264,85.107544186734,59.07950496353427,38.1392121667134,22.286665796271393,11.521865852208242,5.84481233452397,5.255505243218555,9.753944578292009,19.340130339744327,34.01406252757552,53.775741141785595,78.6251661823745,108.56233764934225,143.5872555426889,183.69991986241442,228.90033060851883,279.18848778100204],[220.59823029177525,176.25915536306005,137.0078268607237,102.84424478476626,73.76840913518762,49.7803199119879,30.879977115166994,17.067380744725003,8.342530800661853,4.705427282977578,6.156070191672165,12.694459526745616,24.320595288197932,41.034477476029124,62.83610609023918,89.7254811308281,121.70260259779589,158.76747049114255,200.920084810868,248.16044555697238,300.48855272945565],[202.09929524022888,159.80017031151368,122.58879180917735,90.46515973321985,63.42927408364124,41.481134860441486,24.620742063620614,12.84809569317861,6.163195749115466,4.566042231431185,8.056635140125774,16.63497447519923,30.301060236651544,49.05489242448274,72.89647103869277,101.82579607928172,135.8428675462495,174.94768543959609,219.14024975932165,268.42056050542595,322.78861767790926],[184.6003601886825,144.34118525996726,109.16975675763094,79.08607468167342,54.090139032094854,34.18194980889511,19.36150701207423,9.628810641632215,4.983860697569074,5.426657179884795,10.957200088579379,21.575489423652837,37.281525185105146,58.07530737293633,83.9568359871464,114.9261110277353,150.9831324947031,192.1279003880498,238.3604147077753,289.68067545387964,346.08868262636287],[168.10142513713606,129.88220020842084,96.75072170608449,68.70698963012707,45.75100398054846,27.88276475734871,15.102271960527837,7.409525590085823,4.80452564602268,7.287272128338404,14.857765037032989,27.516004372106448,45.26199013355877,68.09572232138994,96.01720093559996,129.02642597618893,167.12339744315668,210.30811533650336,258.5805796562288,311.9407904023332,370.3887475748163],[152.60249008558966,116.42321515687448,85.33168665453813,59.327904578580686,38.41186892900206,22.583579705802325,11.843036908981444,6.190240538539434,5.625190594476288,10.147887076792008,19.758329985486597,34.45651932056005,54.242455082012384,79.11613726984353,109.07756588405361,144.12674092464252,184.26366239161027,229.48833028495693,279.80074460468245,335.20090535078674,395.6888125232699],[138.1035550340433,103.96423010532807,74.91265160299176,50.948819527034274,32.072733877455676,18.284394654255927,9.58380185743505,5.9709554869930415,7.4458555429298965,14.008502025245626,25.658894933940207,42.39703426901366,64.22292003046599,91.13655221829715,123.13793083250724,160.22705587309616,202.40392734006394,249.6685452334106,302.02090955313605,359.4610202992405,421.98887747172387],[124.6046199824969,92.50524505378166,65.49361655144536,43.569734475487884,26.733598825909272,14.985209602709537,8.324566805888661,6.7516704354466475,10.266520491383504,18.869116973699228,32.559459882393824,51.337549217467256,75.20338497891957,104.15696716675075,138.19829578096082,177.32737082154978,221.54419228851754,270.8487601818641,325.2410745015897,384.72113524769406,449.2889424201774],[112.10568493095052,82.04626000223529,57.07458149989899,37.190649423941494,22.39446377436288,12.686024551163142,8.06533175434227,8.532385383900257,14.087185439837114,24.729731922152833,40.460024830847416,61.278064165920874,87.18384992737317,118.17738211520437,154.25866072941443,195.42768577000322,241.6844572369711,293.0289751303178,349.46123945004314,410.9812501961476,477.5890073686309],[100.60674987940412,72.58727495068892,49.655546448352574,31.811564372395107,19.055328722816494,11.386839499616753,8.806096702795879,11.313100332353867,18.907850388290722,31.59034687060645,49.360589779301044,72.21857911437449,100.1643148758268,133.197797063658,171.319025677868,214.52800071845698,262.82472218542466,316.20919007877137,374.68140439849697,438.2413651446013,506.8890723170844],[90.1078148278577,64.12828989914253,43.236511396806186,27.432479320848707,16.716193671270105,11.087654448070358,10.546861651249484,15.093815280807474,24.728515336744323,39.45096181906004,59.26115472775465,84.15909406282809,114.14477982428036,149.2182120121116,189.37939062632162,234.6283156669106,284.96498713387837,340.3894050272249,400.90156934695057,466.501480093055,537.1891372655382],[80.60887977631135,56.669304847596116,37.8174763452598,24.053394269302313,15.377058619723709,11.788469396523967,13.287626599703094,19.87453022926108,31.549180285197938,48.31157676751366,70.16171967620824,97.09960901128169,129.12524477273405,166.2386269605652,208.43975557477523,255.72863061536427,308.105252082332,365.56961997567873,428.1217342954042,495.76159504150854,568.4892022139918],[72.10994472476496,50.210319796049745,33.3984412937134,21.674309217755926,15.037923568177318,13.489284344977575,17.0283915481567,25.65524517771469,39.36984523365155,58.172191715967266,82.06228462466186,111.04012395973534,145.10570972118762,184.25904190901886,228.5001205232289,277.82894556381785,332.2455170307855,391.7498349241322,456.34189924385754,526.0217099899621,600.7892671624453],[64.61100967321855,44.75133474450335,29.979406242167006,20.295224166209533,15.698788516630927,16.19009929343119,21.769156496610307,32.4359601261683,48.19051018210514,69.03280666442086,94.96284957311548,125.9806389081889,162.08617466964122,203.2794568574724,249.56048547168243,300.92926051227136,357.3857819792391,418.9300498725858,485.5620641923112,557.2818249384156,634.089332110899],[58.11207462167216,40.29234969295696,27.560371190620618,19.916139114663142,17.35965346508454,19.890914241884794,27.509921445063917,40.2166750746219,58.01117513055876,80.89342161287449,108.86341452156908,141.92115385664255,180.06663961809485,223.29987180592602,271.62085042013615,325.029575460725,383.52604692769273,447.1102648210395,515.782229140765,589.5419398868695,668.3893970593524],[52.61313957012576,36.833364641410576,26.14133613907422,20.53705406311675,20.02051841353814,24.5917291903384,34.25068639351751,48.99739002307551,68.83184007901235,93.75403656132809,123.76397947002269,158.8616688050961,199.04710456654848,244.32028675437962,294.6812153685897,350.1298904091786,410.66631187614627,476.2904797694932,547.0023940892185,622.802054835323,703.689462007806],[48.114204518579385,34.374379589864176,25.722301087527832,22.15796901157036,23.681383361991752,30.292544138792017,41.99145134197113,58.778104971529125,80.65250502746599,107.61465150978168,139.66454441847623,176.8021837535497,219.02756951500206,266.34070170283326,318.7415803170433,376.23020535763226,438.8065768246,506.4706947179465,579.2225590376722,657.0621697837767,739.9895269562596]],\\\"transpose\\\":true,\\\"x\\\":[-10,-9,-8,-7,-6,-5,-4,-3,-2,-1,0,1,2,3,4,5,6,7,8,9,10]}],{\\\"template\\\":{\\\"layout\\\":{\\\"coloraxis\\\":{\\\"colorbar\\\":{\\\"ticks\\\":\\\"\\\",\\\"outlinewidth\\\":0}},\\\"xaxis\\\":{\\\"gridcolor\\\":\\\"white\\\",\\\"zerolinewidth\\\":2,\\\"title\\\":{\\\"standoff\\\":15},\\\"ticks\\\":\\\"\\\",\\\"zerolinecolor\\\":\\\"white\\\",\\\"automargin\\\":true,\\\"linecolor\\\":\\\"white\\\"},\\\"hovermode\\\":\\\"closest\\\",\\\"paper_bgcolor\\\":\\\"white\\\",\\\"geo\\\":{\\\"showlakes\\\":true,\\\"showland\\\":true,\\\"landcolor\\\":\\\"#E5ECF6\\\",\\\"bgcolor\\\":\\\"white\\\",\\\"subunitcolor\\\":\\\"white\\\",\\\"lakecolor\\\":\\\"white\\\"},\\\"colorscale\\\":{\\\"sequential\\\":[[0.0,\\\"#0d0887\\\"],[0.1111111111111111,\\\"#46039f\\\"],[0.2222222222222222,\\\"#7201a8\\\"],[0.3333333333333333,\\\"#9c179e\\\"],[0.4444444444444444,\\\"#bd3786\\\"],[0.5555555555555556,\\\"#d8576b\\\"],[0.6666666666666666,\\\"#ed7953\\\"],[0.7777777777777778,\\\"#fb9f3a\\\"],[0.8888888888888888,\\\"#fdca26\\\"],[1.0,\\\"#f0f921\\\"]],\\\"diverging\\\":[[0,\\\"#8e0152\\\"],[0.1,\\\"#c51b7d\\\"],[0.2,\\\"#de77ae\\\"],[0.3,\\\"#f1b6da\\\"],[0.4,\\\"#fde0ef\\\"],[0.5,\\\"#f7f7f7\\\"],[0.6,\\\"#e6f5d0\\\"],[0.7,\\\"#b8e186\\\"],[0.8,\\\"#7fbc41\\\"],[0.9,\\\"#4d9221\\\"],[1,\\\"#276419\\\"]],\\\"sequentialminus\\\":[[0.0,\\\"#0d0887\\\"],[0.1111111111111111,\\\"#46039f\\\"],[0.2222222222222222,\\\"#7201a8\\\"],[0.3333333333333333,\\\"#9c179e\\\"],[0.4444444444444444,\\\"#bd3786\\\"],[0.5555555555555556,\\\"#d8576b\\\"],[0.6666666666666666,\\\"#ed7953\\\"],[0.7777777777777778,\\\"#fb9f3a\\\"],[0.8888888888888888,\\\"#fdca26\\\"],[1.0,\\\"#f0f921\\\"]]},\\\"yaxis\\\":{\\\"gridcolor\\\":\\\"white\\\",\\\"zerolinewidth\\\":2,\\\"title\\\":{\\\"standoff\\\":15},\\\"ticks\\\":\\\"\\\",\\\"zerolinecolor\\\":\\\"white\\\",\\\"automargin\\\":true,\\\"linecolor\\\":\\\"white\\\"},\\\"shapedefaults\\\":{\\\"line\\\":{\\\"color\\\":\\\"#2a3f5f\\\"}},\\\"hoverlabel\\\":{\\\"align\\\":\\\"left\\\"},\\\"mapbox\\\":{\\\"style\\\":\\\"light\\\"},\\\"polar\\\":{\\\"angularaxis\\\":{\\\"gridcolor\\\":\\\"white\\\",\\\"ticks\\\":\\\"\\\",\\\"linecolor\\\":\\\"white\\\"},\\\"bgcolor\\\":\\\"#E5ECF6\\\",\\\"radialaxis\\\":{\\\"gridcolor\\\":\\\"white\\\",\\\"ticks\\\":\\\"\\\",\\\"linecolor\\\":\\\"white\\\"}},\\\"autotypenumbers\\\":\\\"strict\\\",\\\"font\\\":{\\\"color\\\":\\\"#2a3f5f\\\"},\\\"ternary\\\":{\\\"baxis\\\":{\\\"gridcolor\\\":\\\"white\\\",\\\"ticks\\\":\\\"\\\",\\\"linecolor\\\":\\\"white\\\"},\\\"bgcolor\\\":\\\"#E5ECF6\\\",\\\"caxis\\\":{\\\"gridcolor\\\":\\\"white\\\",\\\"ticks\\\":\\\"\\\",\\\"linecolor\\\":\\\"white\\\"},\\\"aaxis\\\":{\\\"gridcolor\\\":\\\"white\\\",\\\"ticks\\\":\\\"\\\",\\\"linecolor\\\":\\\"white\\\"}},\\\"annotationdefaults\\\":{\\\"arrowhead\\\":0,\\\"arrowwidth\\\":1,\\\"arrowcolor\\\":\\\"#2a3f5f\\\"},\\\"plot_bgcolor\\\":\\\"#E5ECF6\\\",\\\"title\\\":{\\\"x\\\":0.05},\\\"scene\\\":{\\\"xaxis\\\":{\\\"gridcolor\\\":\\\"white\\\",\\\"gridwidth\\\":2,\\\"backgroundcolor\\\":\\\"#E5ECF6\\\",\\\"ticks\\\":\\\"\\\",\\\"showbackground\\\":true,\\\"zerolinecolor\\\":\\\"white\\\",\\\"linecolor\\\":\\\"white\\\"},\\\"zaxis\\\":{\\\"gridcolor\\\":\\\"white\\\",\\\"gridwidth\\\":2,\\\"backgroundcolor\\\":\\\"#E5ECF6\\\",\\\"ticks\\\":\\\"\\\",\\\"showbackground\\\":true,\\\"zerolinecolor\\\":\\\"white\\\",\\\"linecolor\\\":\\\"white\\\"},\\\"yaxis\\\":{\\\"gridcolor\\\":\\\"white\\\",\\\"gridwidth\\\":2,\\\"backgroundcolor\\\":\\\"#E5ECF6\\\",\\\"ticks\\\":\\\"\\\",\\\"showbackground\\\":true,\\\"zerolinecolor\\\":\\\"white\\\",\\\"linecolor\\\":\\\"white\\\"}},\\\"colorway\\\":[\\\"#636efa\\\",\\\"#EF553B\\\",\\\"#00cc96\\\",\\\"#ab63fa\\\",\\\"#FFA15A\\\",\\\"#19d3f3\\\",\\\"#FF6692\\\",\\\"#B6E880\\\",\\\"#FF97FF\\\",\\\"#FECB52\\\"]},\\\"data\\\":{\\\"barpolar\\\":[{\\\"type\\\":\\\"barpolar\\\",\\\"marker\\\":{\\\"line\\\":{\\\"color\\\":\\\"#E5ECF6\\\",\\\"width\\\":0.5}}}],\\\"carpet\\\":[{\\\"aaxis\\\":{\\\"gridcolor\\\":\\\"white\\\",\\\"endlinecolor\\\":\\\"#2a3f5f\\\",\\\"minorgridcolor\\\":\\\"white\\\",\\\"startlinecolor\\\":\\\"#2a3f5f\\\",\\\"linecolor\\\":\\\"white\\\"},\\\"type\\\":\\\"carpet\\\",\\\"baxis\\\":{\\\"gridcolor\\\":\\\"white\\\",\\\"endlinecolor\\\":\\\"#2a3f5f\\\",\\\"minorgridcolor\\\":\\\"white\\\",\\\"startlinecolor\\\":\\\"#2a3f5f\\\",\\\"linecolor\\\":\\\"white\\\"}}],\\\"scatterpolar\\\":[{\\\"type\\\":\\\"scatterpolar\\\",\\\"marker\\\":{\\\"colorbar\\\":{\\\"ticks\\\":\\\"\\\",\\\"outlinewidth\\\":0}}}],\\\"parcoords\\\":[{\\\"line\\\":{\\\"colorbar\\\":{\\\"ticks\\\":\\\"\\\",\\\"outlinewidth\\\":0}},\\\"type\\\":\\\"parcoords\\\"}],\\\"scatter\\\":[{\\\"type\\\":\\\"scatter\\\",\\\"marker\\\":{\\\"colorbar\\\":{\\\"ticks\\\":\\\"\\\",\\\"outlinewidth\\\":0}}}],\\\"histogram2dcontour\\\":[{\\\"colorbar\\\":{\\\"ticks\\\":\\\"\\\",\\\"outlinewidth\\\":0},\\\"type\\\":\\\"histogram2dcontour\\\",\\\"colorscale\\\":[[0.0,\\\"#0d0887\\\"],[0.1111111111111111,\\\"#46039f\\\"],[0.2222222222222222,\\\"#7201a8\\\"],[0.3333333333333333,\\\"#9c179e\\\"],[0.4444444444444444,\\\"#bd3786\\\"],[0.5555555555555556,\\\"#d8576b\\\"],[0.6666666666666666,\\\"#ed7953\\\"],[0.7777777777777778,\\\"#fb9f3a\\\"],[0.8888888888888888,\\\"#fdca26\\\"],[1.0,\\\"#f0f921\\\"]]}],\\\"contour\\\":[{\\\"colorbar\\\":{\\\"ticks\\\":\\\"\\\",\\\"outlinewidth\\\":0},\\\"type\\\":\\\"contour\\\",\\\"colorscale\\\":[[0.0,\\\"#0d0887\\\"],[0.1111111111111111,\\\"#46039f\\\"],[0.2222222222222222,\\\"#7201a8\\\"],[0.3333333333333333,\\\"#9c179e\\\"],[0.4444444444444444,\\\"#bd3786\\\"],[0.5555555555555556,\\\"#d8576b\\\"],[0.6666666666666666,\\\"#ed7953\\\"],[0.7777777777777778,\\\"#fb9f3a\\\"],[0.8888888888888888,\\\"#fdca26\\\"],[1.0,\\\"#f0f921\\\"]]}],\\\"scattercarpet\\\":[{\\\"type\\\":\\\"scattercarpet\\\",\\\"marker\\\":{\\\"colorbar\\\":{\\\"ticks\\\":\\\"\\\",\\\"outlinewidth\\\":0}}}],\\\"mesh3d\\\":[{\\\"colorbar\\\":{\\\"ticks\\\":\\\"\\\",\\\"outlinewidth\\\":0},\\\"type\\\":\\\"mesh3d\\\"}],\\\"surface\\\":[{\\\"colorbar\\\":{\\\"ticks\\\":\\\"\\\",\\\"outlinewidth\\\":0},\\\"type\\\":\\\"surface\\\",\\\"colorscale\\\":[[0.0,\\\"#0d0887\\\"],[0.1111111111111111,\\\"#46039f\\\"],[0.2222222222222222,\\\"#7201a8\\\"],[0.3333333333333333,\\\"#9c179e\\\"],[0.4444444444444444,\\\"#bd3786\\\"],[0.5555555555555556,\\\"#d8576b\\\"],[0.6666666666666666,\\\"#ed7953\\\"],[0.7777777777777778,\\\"#fb9f3a\\\"],[0.8888888888888888,\\\"#fdca26\\\"],[1.0,\\\"#f0f921\\\"]]}],\\\"scattermapbox\\\":[{\\\"type\\\":\\\"scattermapbox\\\",\\\"marker\\\":{\\\"colorbar\\\":{\\\"ticks\\\":\\\"\\\",\\\"outlinewidth\\\":0}}}],\\\"scattergeo\\\":[{\\\"type\\\":\\\"scattergeo\\\",\\\"marker\\\":{\\\"colorbar\\\":{\\\"ticks\\\":\\\"\\\",\\\"outlinewidth\\\":0}}}],\\\"histogram\\\":[{\\\"type\\\":\\\"histogram\\\",\\\"marker\\\":{\\\"colorbar\\\":{\\\"ticks\\\":\\\"\\\",\\\"outlinewidth\\\":0}}}],\\\"pie\\\":[{\\\"type\\\":\\\"pie\\\",\\\"automargin\\\":true}],\\\"choropleth\\\":[{\\\"colorbar\\\":{\\\"ticks\\\":\\\"\\\",\\\"outlinewidth\\\":0},\\\"type\\\":\\\"choropleth\\\"}],\\\"heatmapgl\\\":[{\\\"colorbar\\\":{\\\"ticks\\\":\\\"\\\",\\\"outlinewidth\\\":0},\\\"type\\\":\\\"heatmapgl\\\",\\\"colorscale\\\":[[0.0,\\\"#0d0887\\\"],[0.1111111111111111,\\\"#46039f\\\"],[0.2222222222222222,\\\"#7201a8\\\"],[0.3333333333333333,\\\"#9c179e\\\"],[0.4444444444444444,\\\"#bd3786\\\"],[0.5555555555555556,\\\"#d8576b\\\"],[0.6666666666666666,\\\"#ed7953\\\"],[0.7777777777777778,\\\"#fb9f3a\\\"],[0.8888888888888888,\\\"#fdca26\\\"],[1.0,\\\"#f0f921\\\"]]}],\\\"bar\\\":[{\\\"type\\\":\\\"bar\\\",\\\"error_y\\\":{\\\"color\\\":\\\"#2a3f5f\\\"},\\\"error_x\\\":{\\\"color\\\":\\\"#2a3f5f\\\"},\\\"marker\\\":{\\\"line\\\":{\\\"color\\\":\\\"#E5ECF6\\\",\\\"width\\\":0.5}}}],\\\"heatmap\\\":[{\\\"colorbar\\\":{\\\"ticks\\\":\\\"\\\",\\\"outlinewidth\\\":0},\\\"type\\\":\\\"heatmap\\\",\\\"colorscale\\\":[[0.0,\\\"#0d0887\\\"],[0.1111111111111111,\\\"#46039f\\\"],[0.2222222222222222,\\\"#7201a8\\\"],[0.3333333333333333,\\\"#9c179e\\\"],[0.4444444444444444,\\\"#bd3786\\\"],[0.5555555555555556,\\\"#d8576b\\\"],[0.6666666666666666,\\\"#ed7953\\\"],[0.7777777777777778,\\\"#fb9f3a\\\"],[0.8888888888888888,\\\"#fdca26\\\"],[1.0,\\\"#f0f921\\\"]]}],\\\"contourcarpet\\\":[{\\\"colorbar\\\":{\\\"ticks\\\":\\\"\\\",\\\"outlinewidth\\\":0},\\\"type\\\":\\\"contourcarpet\\\"}],\\\"table\\\":[{\\\"type\\\":\\\"table\\\",\\\"header\\\":{\\\"line\\\":{\\\"color\\\":\\\"white\\\"},\\\"fill\\\":{\\\"color\\\":\\\"#C8D4E3\\\"}},\\\"cells\\\":{\\\"line\\\":{\\\"color\\\":\\\"white\\\"},\\\"fill\\\":{\\\"color\\\":\\\"#EBF0F8\\\"}}}],\\\"scatter3d\\\":[{\\\"line\\\":{\\\"colorbar\\\":{\\\"ticks\\\":\\\"\\\",\\\"outlinewidth\\\":0}},\\\"type\\\":\\\"scatter3d\\\",\\\"marker\\\":{\\\"colorbar\\\":{\\\"ticks\\\":\\\"\\\",\\\"outlinewidth\\\":0}}}],\\\"scattergl\\\":[{\\\"type\\\":\\\"scattergl\\\",\\\"marker\\\":{\\\"colorbar\\\":{\\\"ticks\\\":\\\"\\\",\\\"outlinewidth\\\":0}}}],\\\"histogram2d\\\":[{\\\"colorbar\\\":{\\\"ticks\\\":\\\"\\\",\\\"outlinewidth\\\":0},\\\"type\\\":\\\"histogram2d\\\",\\\"colorscale\\\":[[0.0,\\\"#0d0887\\\"],[0.1111111111111111,\\\"#46039f\\\"],[0.2222222222222222,\\\"#7201a8\\\"],[0.3333333333333333,\\\"#9c179e\\\"],[0.4444444444444444,\\\"#bd3786\\\"],[0.5555555555555556,\\\"#d8576b\\\"],[0.6666666666666666,\\\"#ed7953\\\"],[0.7777777777777778,\\\"#fb9f3a\\\"],[0.8888888888888888,\\\"#fdca26\\\"],[1.0,\\\"#f0f921\\\"]]}],\\\"scatterternary\\\":[{\\\"type\\\":\\\"scatterternary\\\",\\\"marker\\\":{\\\"colorbar\\\":{\\\"ticks\\\":\\\"\\\",\\\"outlinewidth\\\":0}}}],\\\"scatterpolargl\\\":[{\\\"type\\\":\\\"scatterpolargl\\\",\\\"marker\\\":{\\\"colorbar\\\":{\\\"ticks\\\":\\\"\\\",\\\"outlinewidth\\\":0}}}]}},\\\"margin\\\":{\\\"l\\\":50,\\\"b\\\":50,\\\"r\\\":50,\\\"t\\\":60}},{\\\"showLink\\\":false,\\\"editable\\\":false,\\\"responsive\\\":true,\\\"staticPlot\\\":false,\\\"scrollZoom\\\":true}); gd.on(\\\"plotly_hover\\\",(function (data){var filtered_data=WebIO.PlotlyCommands.filterEventData(gd,data,\\\"hover\\\"); return !(filtered_data.isnil) ? (WebIO.setval({\\\"name\\\":\\\"hover\\\",\\\"scope\\\":\\\"4744534778516371978\\\",\\\"id\\\":\\\"12882388576548025012\\\",\\\"type\\\":\\\"observable\\\"},filtered_data.out)) : undefined})); gd.on(\\\"plotly_unhover\\\",(function (){return WebIO.setval({\\\"name\\\":\\\"hover\\\",\\\"scope\\\":\\\"4744534778516371978\\\",\\\"id\\\":\\\"12882388576548025012\\\",\\\"type\\\":\\\"observable\\\"},{})})); gd.on(\\\"plotly_selected\\\",(function (data){var filtered_data=WebIO.PlotlyCommands.filterEventData(gd,data,\\\"selected\\\"); return !(filtered_data.isnil) ? (WebIO.setval({\\\"name\\\":\\\"selected\\\",\\\"scope\\\":\\\"4744534778516371978\\\",\\\"id\\\":\\\"15710314598113448779\\\",\\\"type\\\":\\\"observable\\\"},filtered_data.out)) : undefined})); gd.on(\\\"plotly_deselect\\\",(function (){return WebIO.setval({\\\"name\\\":\\\"selected\\\",\\\"scope\\\":\\\"4744534778516371978\\\",\\\"id\\\":\\\"15710314598113448779\\\",\\\"type\\\":\\\"observable\\\"},{})})); gd.on(\\\"plotly_relayout\\\",(function (data){var filtered_data=WebIO.PlotlyCommands.filterEventData(gd,data,\\\"relayout\\\"); return !(filtered_data.isnil) ? (WebIO.setval({\\\"name\\\":\\\"relayout\\\",\\\"scope\\\":\\\"4744534778516371978\\\",\\\"id\\\":\\\"8492214296071551814\\\",\\\"type\\\":\\\"observable\\\"},filtered_data.out)) : undefined})); return gd.on(\\\"plotly_click\\\",(function (data){var filtered_data=WebIO.PlotlyCommands.filterEventData(gd,data,\\\"click\\\"); return !(filtered_data.isnil) ? (WebIO.setval({\\\"name\\\":\\\"click\\\",\\\"scope\\\":\\\"4744534778516371978\\\",\\\"id\\\":\\\"6290539885031591542\\\",\\\"type\\\":\\\"observable\\\"},filtered_data.out)) : undefined}))}));\\n    (WebIO.importBlock({\\\"data\\\":[{\\\"name\\\":\\\"Plotly\\\",\\\"type\\\":\\\"js\\\",\\\"url\\\":\\\"\\/assetserver\\/c1ceafbb88f71e36d0668c9d7a58ed90cde4cd06-plotly.min.js\\\"},{\\\"name\\\":null,\\\"type\\\":\\\"js\\\",\\\"url\\\":\\\"\\/assetserver\\/4c539090c3e5a185e20c539d3b31979e04872767-plotly_webio.bundle.js\\\"}],\\\"type\\\":\\\"async_block\\\"})).then((imports) => handler.apply(this, imports));\\n}\\n\"],\"observables\":{\"_toImage\":{\"sync\":false,\"id\":\"9710382036713761284\",\"value\":{}},\"hover\":{\"sync\":false,\"id\":\"12882388576548025012\",\"value\":{}},\"selected\":{\"sync\":false,\"id\":\"15710314598113448779\",\"value\":{}},\"__gd_contents\":{\"sync\":false,\"id\":\"16236082985538302307\",\"value\":{}},\"click\":{\"sync\":false,\"id\":\"6290539885031591542\",\"value\":{}},\"image\":{\"sync\":true,\"id\":\"1890291812444748601\",\"value\":\"\"},\"__get_gd_contents\":{\"sync\":false,\"id\":\"11535742680949744651\",\"value\":\"\"},\"_downloadImage\":{\"sync\":false,\"id\":\"1366144504592011439\",\"value\":{}},\"relayout\":{\"sync\":false,\"id\":\"8492214296071551814\",\"value\":{}},\"_commands\":{\"sync\":false,\"id\":\"18223599593976920645\",\"value\":[]}}},\"children\":[{\"props\":{\"id\":\"plot-a23351f5-93f4-4ccf-be24-e2369c593d99\"},\"nodeType\":\"DOM\",\"type\":\"node\",\"instanceArgs\":{\"namespace\":\"html\",\"tag\":\"div\"},\"children\":[]}]},\n",
       "        window,\n",
       "    );\n",
       "    })()\n",
       "    </script>\n",
       "</div>\n"
      ],
      "text/plain": [
       "data: [\n",
       "  \"contour with fields transpose, type, x, y, and z\"\n",
       "]\n",
       "\n",
       "layout: \"layout with fields margin and template\"\n",
       "\n"
      ]
     },
     "execution_count": 48,
     "metadata": {},
     "output_type": "execute_result"
    }
   ],
   "source": [
    "using PlotlyJS\n",
    "\n",
    "PlotlyJS.plot(PlotlyJS.contour(\n",
    "    x=theta0s, \n",
    "    y=theta1s,\n",
    "    z=cost_function_matrix\n",
    "))"
   ]
  },
  {
   "cell_type": "code",
   "execution_count": 49,
   "id": "2ea4699b",
   "metadata": {},
   "outputs": [
    {
     "data": {
      "text/plain": [
       "2-element Vector{Float64}:\n",
       " -3.895780878311886\n",
       "  1.1930336441895961"
      ]
     },
     "execution_count": 49,
     "metadata": {},
     "output_type": "execute_result"
    }
   ],
   "source": [
    "# Normal equa2on: Method to solve for Theta analytically.\n",
    "\n",
    "XTranspose = X'\n",
    "XTranposeX = XTranspose * X\n",
    "XTranposeXInv = inv(XTranposeX)\n",
    "Theta = (XTranposeXInv * XTranspose) * y\n"
   ]
  },
  {
   "cell_type": "code",
   "execution_count": 50,
   "id": "b536da46",
   "metadata": {},
   "outputs": [
    {
     "data": {
      "text/plain": [
       "4×4 Matrix{Int64}:\n",
       " 1  5   9  13\n",
       " 2  6  10  14\n",
       " 3  7  11  15\n",
       " 4  8  12  16"
      ]
     },
     "execution_count": 50,
     "metadata": {},
     "output_type": "execute_result"
    }
   ],
   "source": [
    "#How to use reshape in Julia\n",
    "\n",
    "#reshape([],0,2)\n",
    "#BX = Vector(1:16)\n",
    "#reshape(BX, (4, 4))\n",
    "#reshape(BX, 2, :)\n",
    "#reshape(1:6, 2, 3)\n",
    "#LX = [1  2  3  4; 5  6  7  8; 9  10  11  12; 13  14  15  16];\n",
    "#reshape(LX, (4, 4))\n",
    "#NX = [1  5   9  13; 2  6  10  14; 3  7  11  15; 4  8  12  16];\n",
    "#(reshape(NX, 2, :))\n",
    "\n",
    "BX = Vector(1:16)\n",
    "reshape(BX, (4, 4))"
   ]
  }
 ],
 "metadata": {
  "@webio": {
   "lastCommId": "7186f3a565a2407dae0dfbb6caafe6a9",
   "lastKernelId": "5e7fad60-e191-4c69-8a4c-bad091a4cf9c"
  },
  "kernelspec": {
   "display_name": "Julia 1.6.4",
   "language": "julia",
   "name": "julia-1.6"
  },
  "language_info": {
   "file_extension": ".jl",
   "mimetype": "application/julia",
   "name": "julia",
   "version": "1.6.4"
  }
 },
 "nbformat": 4,
 "nbformat_minor": 5
}
