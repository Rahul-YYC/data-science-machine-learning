{
 "cells": [
  {
   "cell_type": "markdown",
   "id": "5e5a65b6",
   "metadata": {},
   "source": [
    "Try to predict a value based on two or more variables - model the relationship between two or more explanatory variables and a response variable by fitting a linear equation to observed data.\n",
    "\n",
    "### Linear regression with multiple variables"
   ]
  },
  {
   "cell_type": "code",
   "execution_count": 1,
   "id": "62676307",
   "metadata": {},
   "outputs": [
    {
     "name": "stdout",
     "output_type": "stream",
     "text": [
      "Linear regression with multiple variable:\n"
     ]
    }
   ],
   "source": [
    "println(\"Linear regression with multiple variable:\")"
   ]
  },
  {
   "cell_type": "markdown",
   "id": "c625af1d",
   "metadata": {},
   "source": [
    "We load important packages that will help us do this in Julia"
   ]
  },
  {
   "cell_type": "code",
   "execution_count": 4,
   "id": "bfab74b5",
   "metadata": {},
   "outputs": [
    {
     "data": {
      "text/plain": [
       "Plots.GRBackend()"
      ]
     },
     "execution_count": 4,
     "metadata": {},
     "output_type": "execute_result"
    }
   ],
   "source": [
    "using CSV\n",
    "using DataFrames\n",
    "using Plots\n",
    "using ForwardDiff\n",
    "using PlotlyJS\n",
    "using WebIO\n",
    "using Statistics\n",
    "\n",
    "gr()\n",
    "Plots.GRBackend()\n",
    "Plots.gr() # I prefer the default GR backend "
   ]
  },
  {
   "cell_type": "markdown",
   "id": "a77135e9",
   "metadata": {},
   "source": [
    "Our goal in this exercise is know what a good market price for a house would be — based on the the size of the house and the number of bedrooms. So, there are 2 features\n",
    "\n",
    "Load the data file ex1data2.csv — The first column is the size of the house (in square feet), the second column is the number of bedrooms, and the third column is the price of the house.\n"
   ]
  },
  {
   "cell_type": "code",
   "execution_count": 6,
   "id": "ba19c1be",
   "metadata": {},
   "outputs": [
    {
     "data": {
      "text/html": [
       "<div class=\"data-frame\"><p>47 rows × 3 columns</p><table class=\"data-frame\"><thead><tr><th></th><th>sqft</th><th>bedrooms</th><th>price</th></tr><tr><th></th><th title=\"Int64\">Int64</th><th title=\"Int64\">Int64</th><th title=\"Int64\">Int64</th></tr></thead><tbody><tr><th>1</th><td>2104</td><td>3</td><td>399900</td></tr><tr><th>2</th><td>1600</td><td>3</td><td>329900</td></tr><tr><th>3</th><td>2400</td><td>3</td><td>369000</td></tr><tr><th>4</th><td>1416</td><td>2</td><td>232000</td></tr><tr><th>5</th><td>3000</td><td>4</td><td>539900</td></tr><tr><th>6</th><td>1985</td><td>4</td><td>299900</td></tr><tr><th>7</th><td>1534</td><td>3</td><td>314900</td></tr><tr><th>8</th><td>1427</td><td>3</td><td>198999</td></tr><tr><th>9</th><td>1380</td><td>3</td><td>212000</td></tr><tr><th>10</th><td>1494</td><td>3</td><td>242500</td></tr><tr><th>11</th><td>1940</td><td>4</td><td>239999</td></tr><tr><th>12</th><td>2000</td><td>3</td><td>347000</td></tr><tr><th>13</th><td>1890</td><td>3</td><td>329999</td></tr><tr><th>14</th><td>4478</td><td>5</td><td>699900</td></tr><tr><th>15</th><td>1268</td><td>3</td><td>259900</td></tr><tr><th>16</th><td>2300</td><td>4</td><td>449900</td></tr><tr><th>17</th><td>1320</td><td>2</td><td>299900</td></tr><tr><th>18</th><td>1236</td><td>3</td><td>199900</td></tr><tr><th>19</th><td>2609</td><td>4</td><td>499998</td></tr><tr><th>20</th><td>3031</td><td>4</td><td>599000</td></tr><tr><th>21</th><td>1767</td><td>3</td><td>252900</td></tr><tr><th>22</th><td>1888</td><td>2</td><td>255000</td></tr><tr><th>23</th><td>1604</td><td>3</td><td>242900</td></tr><tr><th>24</th><td>1962</td><td>4</td><td>259900</td></tr><tr><th>25</th><td>3890</td><td>3</td><td>573900</td></tr><tr><th>26</th><td>1100</td><td>3</td><td>249900</td></tr><tr><th>27</th><td>1458</td><td>3</td><td>464500</td></tr><tr><th>28</th><td>2526</td><td>3</td><td>469000</td></tr><tr><th>29</th><td>2200</td><td>3</td><td>475000</td></tr><tr><th>30</th><td>2637</td><td>3</td><td>299900</td></tr><tr><th>&vellip;</th><td>&vellip;</td><td>&vellip;</td><td>&vellip;</td></tr></tbody></table></div>"
      ],
      "text/latex": [
       "\\begin{tabular}{r|ccc}\n",
       "\t& sqft & bedrooms & price\\\\\n",
       "\t\\hline\n",
       "\t& Int64 & Int64 & Int64\\\\\n",
       "\t\\hline\n",
       "\t1 & 2104 & 3 & 399900 \\\\\n",
       "\t2 & 1600 & 3 & 329900 \\\\\n",
       "\t3 & 2400 & 3 & 369000 \\\\\n",
       "\t4 & 1416 & 2 & 232000 \\\\\n",
       "\t5 & 3000 & 4 & 539900 \\\\\n",
       "\t6 & 1985 & 4 & 299900 \\\\\n",
       "\t7 & 1534 & 3 & 314900 \\\\\n",
       "\t8 & 1427 & 3 & 198999 \\\\\n",
       "\t9 & 1380 & 3 & 212000 \\\\\n",
       "\t10 & 1494 & 3 & 242500 \\\\\n",
       "\t11 & 1940 & 4 & 239999 \\\\\n",
       "\t12 & 2000 & 3 & 347000 \\\\\n",
       "\t13 & 1890 & 3 & 329999 \\\\\n",
       "\t14 & 4478 & 5 & 699900 \\\\\n",
       "\t15 & 1268 & 3 & 259900 \\\\\n",
       "\t16 & 2300 & 4 & 449900 \\\\\n",
       "\t17 & 1320 & 2 & 299900 \\\\\n",
       "\t18 & 1236 & 3 & 199900 \\\\\n",
       "\t19 & 2609 & 4 & 499998 \\\\\n",
       "\t20 & 3031 & 4 & 599000 \\\\\n",
       "\t21 & 1767 & 3 & 252900 \\\\\n",
       "\t22 & 1888 & 2 & 255000 \\\\\n",
       "\t23 & 1604 & 3 & 242900 \\\\\n",
       "\t24 & 1962 & 4 & 259900 \\\\\n",
       "\t25 & 3890 & 3 & 573900 \\\\\n",
       "\t26 & 1100 & 3 & 249900 \\\\\n",
       "\t27 & 1458 & 3 & 464500 \\\\\n",
       "\t28 & 2526 & 3 & 469000 \\\\\n",
       "\t29 & 2200 & 3 & 475000 \\\\\n",
       "\t30 & 2637 & 3 & 299900 \\\\\n",
       "\t$\\dots$ & $\\dots$ & $\\dots$ & $\\dots$ \\\\\n",
       "\\end{tabular}\n"
      ],
      "text/plain": [
       "\u001b[1m47×3 DataFrame\u001b[0m\n",
       "\u001b[1m Row \u001b[0m│\u001b[1m sqft  \u001b[0m\u001b[1m bedrooms \u001b[0m\u001b[1m price  \u001b[0m\n",
       "\u001b[1m     \u001b[0m│\u001b[90m Int64 \u001b[0m\u001b[90m Int64    \u001b[0m\u001b[90m Int64  \u001b[0m\n",
       "─────┼─────────────────────────\n",
       "   1 │  2104         3  399900\n",
       "   2 │  1600         3  329900\n",
       "   3 │  2400         3  369000\n",
       "   4 │  1416         2  232000\n",
       "   5 │  3000         4  539900\n",
       "   6 │  1985         4  299900\n",
       "   7 │  1534         3  314900\n",
       "   8 │  1427         3  198999\n",
       "   9 │  1380         3  212000\n",
       "  10 │  1494         3  242500\n",
       "  11 │  1940         4  239999\n",
       "  ⋮  │   ⋮       ⋮        ⋮\n",
       "  38 │  2132         4  345000\n",
       "  39 │  4215         4  549000\n",
       "  40 │  2162         4  287000\n",
       "  41 │  1664         2  368500\n",
       "  42 │  2238         3  329900\n",
       "  43 │  2567         4  314000\n",
       "  44 │  1200         3  299000\n",
       "  45 │   852         2  179900\n",
       "  46 │  1852         4  299900\n",
       "  47 │  1203         3  239500\n",
       "\u001b[36m                26 rows omitted\u001b[0m"
      ]
     },
     "execution_count": 6,
     "metadata": {},
     "output_type": "execute_result"
    }
   ],
   "source": [
    "C = CSV.read(\"ex1data2.csv\", DataFrame)"
   ]
  },
  {
   "cell_type": "markdown",
   "id": "f836db0f",
   "metadata": {},
   "source": [
    "Let's take a look at it after loading"
   ]
  },
  {
   "cell_type": "code",
   "execution_count": 6,
   "id": "85ff6faa",
   "metadata": {
    "scrolled": true
   },
   "outputs": [
    {
     "data": {
      "text/plain": [
       "(47, 3)"
      ]
     },
     "execution_count": 6,
     "metadata": {},
     "output_type": "execute_result"
    }
   ],
   "source": [
    "size(C)\n"
   ]
  },
  {
   "cell_type": "code",
   "execution_count": 7,
   "id": "dd6fbae4",
   "metadata": {},
   "outputs": [
    {
     "data": {
      "text/html": [
       "<div class=\"data-frame\"><p>3 rows × 7 columns</p><table class=\"data-frame\"><thead><tr><th></th><th>variable</th><th>mean</th><th>min</th><th>median</th><th>max</th><th>nmissing</th><th>eltype</th></tr><tr><th></th><th title=\"Symbol\">Symbol</th><th title=\"Float64\">Float64</th><th title=\"Int64\">Int64</th><th title=\"Float64\">Float64</th><th title=\"Int64\">Int64</th><th title=\"Int64\">Int64</th><th title=\"DataType\">DataType</th></tr></thead><tbody><tr><th>1</th><td>sqft</td><td>2000.68</td><td>852</td><td>1888.0</td><td>4478</td><td>0</td><td>Int64</td></tr><tr><th>2</th><td>bedrooms</td><td>3.17021</td><td>1</td><td>3.0</td><td>5</td><td>0</td><td>Int64</td></tr><tr><th>3</th><td>price</td><td>3.40413e5</td><td>169900</td><td>299900.0</td><td>699900</td><td>0</td><td>Int64</td></tr></tbody></table></div>"
      ],
      "text/latex": [
       "\\begin{tabular}{r|ccccccc}\n",
       "\t& variable & mean & min & median & max & nmissing & eltype\\\\\n",
       "\t\\hline\n",
       "\t& Symbol & Float64 & Int64 & Float64 & Int64 & Int64 & DataType\\\\\n",
       "\t\\hline\n",
       "\t1 & sqft & 2000.68 & 852 & 1888.0 & 4478 & 0 & Int64 \\\\\n",
       "\t2 & bedrooms & 3.17021 & 1 & 3.0 & 5 & 0 & Int64 \\\\\n",
       "\t3 & price & 3.40413e5 & 169900 & 299900.0 & 699900 & 0 & Int64 \\\\\n",
       "\\end{tabular}\n"
      ],
      "text/plain": [
       "\u001b[1m3×7 DataFrame\u001b[0m\n",
       "\u001b[1m Row \u001b[0m│\u001b[1m variable \u001b[0m\u001b[1m mean         \u001b[0m\u001b[1m min    \u001b[0m\u001b[1m median   \u001b[0m\u001b[1m max    \u001b[0m\u001b[1m nmissing \u001b[0m\u001b[1m eltype   \u001b[0m\n",
       "\u001b[1m     \u001b[0m│\u001b[90m Symbol   \u001b[0m\u001b[90m Float64      \u001b[0m\u001b[90m Int64  \u001b[0m\u001b[90m Float64  \u001b[0m\u001b[90m Int64  \u001b[0m\u001b[90m Int64    \u001b[0m\u001b[90m DataType \u001b[0m\n",
       "─────┼──────────────────────────────────────────────────────────────────────\n",
       "   1 │ sqft      2000.68          852    1888.0    4478         0  Int64\n",
       "   2 │ bedrooms     3.17021         1       3.0       5         0  Int64\n",
       "   3 │ price        3.40413e5  169900  299900.0  699900         0  Int64"
      ]
     },
     "execution_count": 7,
     "metadata": {},
     "output_type": "execute_result"
    }
   ],
   "source": [
    "describe(C)"
   ]
  },
  {
   "cell_type": "code",
   "execution_count": 9,
   "id": "a5d4b2c4",
   "metadata": {},
   "outputs": [
    {
     "data": {
      "text/plain": [
       "2000.6808510638298"
      ]
     },
     "execution_count": 9,
     "metadata": {},
     "output_type": "execute_result"
    }
   ],
   "source": [
    "mu_sqft = mean(C.sqft)"
   ]
  },
  {
   "cell_type": "code",
   "execution_count": 8,
   "id": "817dd086",
   "metadata": {},
   "outputs": [
    {
     "data": {
      "text/plain": [
       "3.1702127659574466"
      ]
     },
     "execution_count": 8,
     "metadata": {},
     "output_type": "execute_result"
    }
   ],
   "source": [
    "mu_sqft = mean(C.sqft)\n",
    "mu_bedrooms = mean(C.bedrooms)"
   ]
  },
  {
   "cell_type": "markdown",
   "id": "22aaa754",
   "metadata": {},
   "source": [
    "By looking at the values, note that house sizes are about 1000 times the number of bedrooms. When features differ by orders of magnitude, first performing feature scaling can make gradient descent converge much more quickly.\n",
    "\n",
    "* Subtract the mean value of each feature from the dataset.\n",
    "* After subtracting the mean, additionally scale (divide) the feature values by their respective “standard deviation\n",
    "\n",
    "This article offers a good background as to Why, How, and When to scale our feature sets:\n",
    "https://medium.com/greyatom/why-how-and-when-to-scale-your-features-4b30ab09db5e"
   ]
  },
  {
   "cell_type": "code",
   "execution_count": 3,
   "id": "9ab7acd9",
   "metadata": {},
   "outputs": [
    {
     "data": {
      "text/plain": [
       "47-element Vector{Float64}:\n",
       " -0.2236751871685913\n",
       " -0.2236751871685913\n",
       " -0.2236751871685913\n",
       " -1.5377669117840669\n",
       "  1.0904165374468842\n",
       "  1.0904165374468842\n",
       " -0.2236751871685913\n",
       " -0.2236751871685913\n",
       " -0.2236751871685913\n",
       " -0.2236751871685913\n",
       "  1.0904165374468842\n",
       " -0.2236751871685913\n",
       " -0.2236751871685913\n",
       "  ⋮\n",
       " -0.2236751871685913\n",
       " -0.2236751871685913\n",
       "  1.0904165374468842\n",
       "  1.0904165374468842\n",
       "  1.0904165374468842\n",
       " -1.5377669117840669\n",
       " -0.2236751871685913\n",
       "  1.0904165374468842\n",
       " -0.2236751871685913\n",
       " -1.5377669117840669\n",
       "  1.0904165374468842\n",
       " -0.2236751871685913"
      ]
     },
     "execution_count": 3,
     "metadata": {},
     "output_type": "execute_result"
    }
   ],
   "source": [
    "mu_sqft = mean(C.sqft)\n",
    "mu_bedrooms = mean(C.bedrooms)\n",
    "std_sqft = std(C.sqft)\n",
    "std_bedrooms = std(C.bedrooms)\n",
    "\n",
    "featureNormalize(x) = (x .- mean(x)) ./ std(x)\n",
    "\n",
    "n_sqft = featureNormalize(C.sqft)\n",
    "n_bedrooms = featureNormalize(C.bedrooms)"
   ]
  },
  {
   "cell_type": "markdown",
   "id": "2a7911d5",
   "metadata": {},
   "source": [
    "A quick scatter plot shows the positive correlation between the size of the hourse and the price of the house — price increase with the increse in the size"
   ]
  },
  {
   "cell_type": "code",
   "execution_count": 14,
   "id": "18e3f2cb",
   "metadata": {},
   "outputs": [],
   "source": [
    "x1 = C.sqft\n",
    "y = C.price\n",
    "gr()\n",
    "price_scatter_size_plot = Plots.plot(x1, y, seriestype = :scatter, title = \"Scatter Plot\", markersize=3,\n",
    "        alpha=.8,\n",
    "        legend=false, \n",
    "        xlabel=\"Home Size - Sq Ft\",\n",
    "        ylabel=\"Price of the home\")\n",
    "\n",
    "Plots.savefig(price_scatter_size_plot, \"Price-Size-Scatter-Plot.png\")"
   ]
  },
  {
   "cell_type": "code",
   "execution_count": 13,
   "id": "8a1e805c",
   "metadata": {},
   "outputs": [],
   "source": [
    "x2 = C.bedrooms\n",
    "y = C.price\n",
    "gr()\n",
    "price_scatter_nbr_plot = Plots.plot(x2, y, seriestype = :scatter, title = \"Scatter Plot\", markersize=3,\n",
    "        alpha=.8,\n",
    "        legend=false, \n",
    "        xlabel=\"Number of bedrooms\",\n",
    "        ylabel=\"Price of the home\")\n",
    "\n",
    "Plots.savefig(price_scatter_nbr_plot, \"Price-NoBedrooms-Scatter-Plot.png\")Plots.savefig(, \"Price-NoBedrooms-Scatter-Plot.png\")"
   ]
  },
  {
   "cell_type": "code",
   "execution_count": 6,
   "id": "bbc53970",
   "metadata": {},
   "outputs": [
    {
     "name": "stdout",
     "output_type": "stream",
     "text": [
      "Parameter theta: [338658.2492492952, 104127.51559689779, -172.20533370781607]\n",
      "Minimized Cost Function: 2.0629614180859683e9\n",
      "Last Element: (50, [338658.2492492952, 104127.51559689779, -172.20533370781607], 2.0629614180859683e9)\n"
     ]
    }
   ],
   "source": [
    "#n_sqft = featureNormalize(C.sqft)\n",
    "#n_bedrooms = featureNormalize(C.bedrooms)\n",
    "\n",
    "m = length(y)\n",
    "x0 = ones(m, 1)\n",
    "X = hcat(x0, n_sqft, n_bedrooms);\n",
    "\n",
    "# define cost function J\n",
    "function CostFunction(X, y, theta)\n",
    "    JTheta = (1 / (2 * m)) * (sum((X * theta - y) .^ 2))\n",
    "    return JTheta\n",
    "end\n",
    "\n",
    "thetaInitial = zeros(3)\n",
    "#CostFunction(X, y, thetaInitial)\n",
    "\n",
    "# Gradinet Descent\n",
    "\n",
    "iterations = 50;\n",
    "alpha = 0.1;\n",
    "\n",
    "result = []\n",
    "\n",
    "\n",
    "f(theta::Vector)::Real = CostFunction(X, y, theta)\n",
    "g = x -> ForwardDiff.gradient(f, theta); # g = ∇f\n",
    "\n",
    "theta = thetaInitial\n",
    "\n",
    "for i = 1:iterations\n",
    "    theta = theta - alpha * g(theta)\n",
    "    push!(result, (i, theta, f(theta)))\n",
    "end\n",
    "\n",
    "println(\"Parameter theta: \", theta)\n",
    "println(\"Minimized Cost Function: \", f(theta))\n",
    "println(\"Last Element: \", result[iterations])"
   ]
  },
  {
   "cell_type": "code",
   "execution_count": 66,
   "id": "cf3c2e18",
   "metadata": {},
   "outputs": [
    {
     "data": {
      "text/plain": [
       "3-element Vector{Float64}:\n",
       " 338658.2492492952\n",
       " 104127.51559689779\n",
       "   -172.20533370781607"
      ]
     },
     "execution_count": 66,
     "metadata": {},
     "output_type": "execute_result"
    }
   ],
   "source": [
    "result[iterations][2]"
   ]
  },
  {
   "cell_type": "code",
   "execution_count": 7,
   "id": "253da6f3",
   "metadata": {},
   "outputs": [
    {
     "data": {
      "image/svg+xml": [
       "<?xml version=\"1.0\" encoding=\"utf-8\"?>\n",
       "<svg xmlns=\"http://www.w3.org/2000/svg\" xmlns:xlink=\"http://www.w3.org/1999/xlink\" width=\"600\" height=\"400\" viewBox=\"0 0 2400 1600\">\n",
       "<defs>\n",
       "  <clipPath id=\"clip510\">\n",
       "    <rect x=\"0\" y=\"0\" width=\"2400\" height=\"1600\"/>\n",
       "  </clipPath>\n",
       "</defs>\n",
       "<path clip-path=\"url(#clip510)\" d=\"\n",
       "M0 1600 L2400 1600 L2400 0 L0 0  Z\n",
       "  \" fill=\"#ffffff\" fill-rule=\"evenodd\" fill-opacity=\"1\"/>\n",
       "<defs>\n",
       "  <clipPath id=\"clip511\">\n",
       "    <rect x=\"480\" y=\"0\" width=\"1681\" height=\"1600\"/>\n",
       "  </clipPath>\n",
       "</defs>\n",
       "<path clip-path=\"url(#clip510)\" d=\"\n",
       "M362.46 1423.18 L2352.76 1423.18 L2352.76 47.2441 L362.46 47.2441  Z\n",
       "  \" fill=\"#ffffff\" fill-rule=\"evenodd\" fill-opacity=\"1\"/>\n",
       "<defs>\n",
       "  <clipPath id=\"clip512\">\n",
       "    <rect x=\"362\" y=\"47\" width=\"1991\" height=\"1377\"/>\n",
       "  </clipPath>\n",
       "</defs>\n",
       "<polyline clip-path=\"url(#clip512)\" style=\"stroke:#000000; stroke-linecap:butt; stroke-linejoin:round; stroke-width:2; stroke-opacity:0.1; fill:none\" points=\"\n",
       "  380.47,1423.18 380.47,47.2441 \n",
       "  \"/>\n",
       "<polyline clip-path=\"url(#clip512)\" style=\"stroke:#000000; stroke-linecap:butt; stroke-linejoin:round; stroke-width:2; stroke-opacity:0.1; fill:none\" points=\"\n",
       "  763.661,1423.18 763.661,47.2441 \n",
       "  \"/>\n",
       "<polyline clip-path=\"url(#clip512)\" style=\"stroke:#000000; stroke-linecap:butt; stroke-linejoin:round; stroke-width:2; stroke-opacity:0.1; fill:none\" points=\"\n",
       "  1146.85,1423.18 1146.85,47.2441 \n",
       "  \"/>\n",
       "<polyline clip-path=\"url(#clip512)\" style=\"stroke:#000000; stroke-linecap:butt; stroke-linejoin:round; stroke-width:2; stroke-opacity:0.1; fill:none\" points=\"\n",
       "  1530.04,1423.18 1530.04,47.2441 \n",
       "  \"/>\n",
       "<polyline clip-path=\"url(#clip512)\" style=\"stroke:#000000; stroke-linecap:butt; stroke-linejoin:round; stroke-width:2; stroke-opacity:0.1; fill:none\" points=\"\n",
       "  1913.24,1423.18 1913.24,47.2441 \n",
       "  \"/>\n",
       "<polyline clip-path=\"url(#clip512)\" style=\"stroke:#000000; stroke-linecap:butt; stroke-linejoin:round; stroke-width:2; stroke-opacity:0.1; fill:none\" points=\"\n",
       "  2296.43,1423.18 2296.43,47.2441 \n",
       "  \"/>\n",
       "<polyline clip-path=\"url(#clip510)\" style=\"stroke:#000000; stroke-linecap:butt; stroke-linejoin:round; stroke-width:4; stroke-opacity:1; fill:none\" points=\"\n",
       "  362.46,1423.18 2352.76,1423.18 \n",
       "  \"/>\n",
       "<polyline clip-path=\"url(#clip510)\" style=\"stroke:#000000; stroke-linecap:butt; stroke-linejoin:round; stroke-width:4; stroke-opacity:1; fill:none\" points=\"\n",
       "  380.47,1423.18 380.47,1404.28 \n",
       "  \"/>\n",
       "<polyline clip-path=\"url(#clip510)\" style=\"stroke:#000000; stroke-linecap:butt; stroke-linejoin:round; stroke-width:4; stroke-opacity:1; fill:none\" points=\"\n",
       "  763.661,1423.18 763.661,1404.28 \n",
       "  \"/>\n",
       "<polyline clip-path=\"url(#clip510)\" style=\"stroke:#000000; stroke-linecap:butt; stroke-linejoin:round; stroke-width:4; stroke-opacity:1; fill:none\" points=\"\n",
       "  1146.85,1423.18 1146.85,1404.28 \n",
       "  \"/>\n",
       "<polyline clip-path=\"url(#clip510)\" style=\"stroke:#000000; stroke-linecap:butt; stroke-linejoin:round; stroke-width:4; stroke-opacity:1; fill:none\" points=\"\n",
       "  1530.04,1423.18 1530.04,1404.28 \n",
       "  \"/>\n",
       "<polyline clip-path=\"url(#clip510)\" style=\"stroke:#000000; stroke-linecap:butt; stroke-linejoin:round; stroke-width:4; stroke-opacity:1; fill:none\" points=\"\n",
       "  1913.24,1423.18 1913.24,1404.28 \n",
       "  \"/>\n",
       "<polyline clip-path=\"url(#clip510)\" style=\"stroke:#000000; stroke-linecap:butt; stroke-linejoin:round; stroke-width:4; stroke-opacity:1; fill:none\" points=\"\n",
       "  2296.43,1423.18 2296.43,1404.28 \n",
       "  \"/>\n",
       "<path clip-path=\"url(#clip510)\" d=\"M380.47 1454.1 Q376.858 1454.1 375.03 1457.66 Q373.224 1461.2 373.224 1468.33 Q373.224 1475.44 375.03 1479.01 Q376.858 1482.55 380.47 1482.55 Q384.104 1482.55 385.909 1479.01 Q387.738 1475.44 387.738 1468.33 Q387.738 1461.2 385.909 1457.66 Q384.104 1454.1 380.47 1454.1 M380.47 1450.39 Q386.28 1450.39 389.335 1455 Q392.414 1459.58 392.414 1468.33 Q392.414 1477.06 389.335 1481.67 Q386.28 1486.25 380.47 1486.25 Q374.659 1486.25 371.581 1481.67 Q368.525 1477.06 368.525 1468.33 Q368.525 1459.58 371.581 1455 Q374.659 1450.39 380.47 1450.39 Z\" fill=\"#000000\" fill-rule=\"evenodd\" fill-opacity=\"1\" /><path clip-path=\"url(#clip510)\" d=\"M738.349 1481.64 L745.987 1481.64 L745.987 1455.28 L737.677 1456.95 L737.677 1452.69 L745.941 1451.02 L750.617 1451.02 L750.617 1481.64 L758.256 1481.64 L758.256 1485.58 L738.349 1485.58 L738.349 1481.64 Z\" fill=\"#000000\" fill-rule=\"evenodd\" fill-opacity=\"1\" /><path clip-path=\"url(#clip510)\" d=\"M777.7 1454.1 Q774.089 1454.1 772.26 1457.66 Q770.455 1461.2 770.455 1468.33 Q770.455 1475.44 772.26 1479.01 Q774.089 1482.55 777.7 1482.55 Q781.335 1482.55 783.14 1479.01 Q784.969 1475.44 784.969 1468.33 Q784.969 1461.2 783.14 1457.66 Q781.335 1454.1 777.7 1454.1 M777.7 1450.39 Q783.51 1450.39 786.566 1455 Q789.645 1459.58 789.645 1468.33 Q789.645 1477.06 786.566 1481.67 Q783.51 1486.25 777.7 1486.25 Q771.89 1486.25 768.811 1481.67 Q765.756 1477.06 765.756 1468.33 Q765.756 1459.58 768.811 1455 Q771.89 1450.39 777.7 1450.39 Z\" fill=\"#000000\" fill-rule=\"evenodd\" fill-opacity=\"1\" /><path clip-path=\"url(#clip510)\" d=\"M1125.63 1481.64 L1141.95 1481.64 L1141.95 1485.58 L1120 1485.58 L1120 1481.64 Q1122.66 1478.89 1127.25 1474.26 Q1131.85 1469.61 1133.03 1468.27 Q1135.28 1465.74 1136.16 1464.01 Q1137.06 1462.25 1137.06 1460.56 Q1137.06 1457.8 1135.12 1456.07 Q1133.2 1454.33 1130.09 1454.33 Q1127.89 1454.33 1125.44 1455.09 Q1123.01 1455.86 1120.23 1457.41 L1120.23 1452.69 Q1123.06 1451.55 1125.51 1450.97 Q1127.96 1450.39 1130 1450.39 Q1135.37 1450.39 1138.57 1453.08 Q1141.76 1455.77 1141.76 1460.26 Q1141.76 1462.39 1140.95 1464.31 Q1140.16 1466.2 1138.06 1468.8 Q1137.48 1469.47 1134.38 1472.69 Q1131.27 1475.88 1125.63 1481.64 Z\" fill=\"#000000\" fill-rule=\"evenodd\" fill-opacity=\"1\" /><path clip-path=\"url(#clip510)\" d=\"M1161.76 1454.1 Q1158.15 1454.1 1156.32 1457.66 Q1154.51 1461.2 1154.51 1468.33 Q1154.51 1475.44 1156.32 1479.01 Q1158.15 1482.55 1161.76 1482.55 Q1165.39 1482.55 1167.2 1479.01 Q1169.03 1475.44 1169.03 1468.33 Q1169.03 1461.2 1167.2 1457.66 Q1165.39 1454.1 1161.76 1454.1 M1161.76 1450.39 Q1167.57 1450.39 1170.63 1455 Q1173.7 1459.58 1173.7 1468.33 Q1173.7 1477.06 1170.63 1481.67 Q1167.57 1486.25 1161.76 1486.25 Q1155.95 1486.25 1152.87 1481.67 Q1149.82 1477.06 1149.82 1468.33 Q1149.82 1459.58 1152.87 1455 Q1155.95 1450.39 1161.76 1450.39 Z\" fill=\"#000000\" fill-rule=\"evenodd\" fill-opacity=\"1\" /><path clip-path=\"url(#clip510)\" d=\"M1518.89 1466.95 Q1522.24 1467.66 1524.12 1469.93 Q1526.02 1472.2 1526.02 1475.53 Q1526.02 1480.65 1522.5 1483.45 Q1518.98 1486.25 1512.5 1486.25 Q1510.32 1486.25 1508.01 1485.81 Q1505.72 1485.39 1503.26 1484.54 L1503.26 1480.02 Q1505.21 1481.16 1507.52 1481.74 Q1509.84 1482.32 1512.36 1482.32 Q1516.76 1482.32 1519.05 1480.58 Q1521.36 1478.84 1521.36 1475.53 Q1521.36 1472.48 1519.21 1470.77 Q1517.08 1469.03 1513.26 1469.03 L1509.23 1469.03 L1509.23 1465.19 L1513.45 1465.19 Q1516.9 1465.19 1518.72 1463.82 Q1520.55 1462.43 1520.55 1459.84 Q1520.55 1457.18 1518.66 1455.77 Q1516.78 1454.33 1513.26 1454.33 Q1511.34 1454.33 1509.14 1454.75 Q1506.94 1455.16 1504.3 1456.04 L1504.3 1451.88 Q1506.97 1451.14 1509.28 1450.77 Q1511.62 1450.39 1513.68 1450.39 Q1519 1450.39 1522.1 1452.83 Q1525.21 1455.23 1525.21 1459.35 Q1525.21 1462.22 1523.56 1464.21 Q1521.92 1466.18 1518.89 1466.95 Z\" fill=\"#000000\" fill-rule=\"evenodd\" fill-opacity=\"1\" /><path clip-path=\"url(#clip510)\" d=\"M1544.88 1454.1 Q1541.27 1454.1 1539.44 1457.66 Q1537.64 1461.2 1537.64 1468.33 Q1537.64 1475.44 1539.44 1479.01 Q1541.27 1482.55 1544.88 1482.55 Q1548.52 1482.55 1550.32 1479.01 Q1552.15 1475.44 1552.15 1468.33 Q1552.15 1461.2 1550.32 1457.66 Q1548.52 1454.1 1544.88 1454.1 M1544.88 1450.39 Q1550.69 1450.39 1553.75 1455 Q1556.83 1459.58 1556.83 1468.33 Q1556.83 1477.06 1553.75 1481.67 Q1550.69 1486.25 1544.88 1486.25 Q1539.07 1486.25 1535.99 1481.67 Q1532.94 1477.06 1532.94 1468.33 Q1532.94 1459.58 1535.99 1455 Q1539.07 1450.39 1544.88 1450.39 Z\" fill=\"#000000\" fill-rule=\"evenodd\" fill-opacity=\"1\" /><path clip-path=\"url(#clip510)\" d=\"M1901.41 1455.09 L1889.6 1473.54 L1901.41 1473.54 L1901.41 1455.09 M1900.18 1451.02 L1906.06 1451.02 L1906.06 1473.54 L1910.99 1473.54 L1910.99 1477.43 L1906.06 1477.43 L1906.06 1485.58 L1901.41 1485.58 L1901.41 1477.43 L1885.8 1477.43 L1885.8 1472.92 L1900.18 1451.02 Z\" fill=\"#000000\" fill-rule=\"evenodd\" fill-opacity=\"1\" /><path clip-path=\"url(#clip510)\" d=\"M1928.72 1454.1 Q1925.11 1454.1 1923.28 1457.66 Q1921.48 1461.2 1921.48 1468.33 Q1921.48 1475.44 1923.28 1479.01 Q1925.11 1482.55 1928.72 1482.55 Q1932.36 1482.55 1934.16 1479.01 Q1935.99 1475.44 1935.99 1468.33 Q1935.99 1461.2 1934.16 1457.66 Q1932.36 1454.1 1928.72 1454.1 M1928.72 1450.39 Q1934.53 1450.39 1937.59 1455 Q1940.67 1459.58 1940.67 1468.33 Q1940.67 1477.06 1937.59 1481.67 Q1934.53 1486.25 1928.72 1486.25 Q1922.91 1486.25 1919.83 1481.67 Q1916.78 1477.06 1916.78 1468.33 Q1916.78 1459.58 1919.83 1455 Q1922.91 1450.39 1928.72 1450.39 Z\" fill=\"#000000\" fill-rule=\"evenodd\" fill-opacity=\"1\" /><path clip-path=\"url(#clip510)\" d=\"M2271.13 1451.02 L2289.48 1451.02 L2289.48 1454.96 L2275.41 1454.96 L2275.41 1463.43 Q2276.43 1463.08 2277.45 1462.92 Q2278.46 1462.73 2279.48 1462.73 Q2285.27 1462.73 2288.65 1465.9 Q2292.03 1469.08 2292.03 1474.49 Q2292.03 1480.07 2288.56 1483.17 Q2285.08 1486.25 2278.76 1486.25 Q2276.59 1486.25 2274.32 1485.88 Q2272.08 1485.51 2269.67 1484.77 L2269.67 1480.07 Q2271.75 1481.2 2273.97 1481.76 Q2276.2 1482.32 2278.67 1482.32 Q2282.68 1482.32 2285.01 1480.21 Q2287.35 1478.1 2287.35 1474.49 Q2287.35 1470.88 2285.01 1468.77 Q2282.68 1466.67 2278.67 1466.67 Q2276.8 1466.67 2274.92 1467.08 Q2273.07 1467.5 2271.13 1468.38 L2271.13 1451.02 Z\" fill=\"#000000\" fill-rule=\"evenodd\" fill-opacity=\"1\" /><path clip-path=\"url(#clip510)\" d=\"M2311.24 1454.1 Q2307.63 1454.1 2305.8 1457.66 Q2304 1461.2 2304 1468.33 Q2304 1475.44 2305.8 1479.01 Q2307.63 1482.55 2311.24 1482.55 Q2314.88 1482.55 2316.68 1479.01 Q2318.51 1475.44 2318.51 1468.33 Q2318.51 1461.2 2316.68 1457.66 Q2314.88 1454.1 2311.24 1454.1 M2311.24 1450.39 Q2317.05 1450.39 2320.11 1455 Q2323.19 1459.58 2323.19 1468.33 Q2323.19 1477.06 2320.11 1481.67 Q2317.05 1486.25 2311.24 1486.25 Q2305.43 1486.25 2302.35 1481.67 Q2299.3 1477.06 2299.3 1468.33 Q2299.3 1459.58 2302.35 1455 Q2305.43 1450.39 2311.24 1450.39 Z\" fill=\"#000000\" fill-rule=\"evenodd\" fill-opacity=\"1\" /><path clip-path=\"url(#clip510)\" d=\"M1207.17 1520.52 L1213.6 1520.52 L1213.6 1568.04 L1207.17 1568.04 L1207.17 1520.52 Z\" fill=\"#000000\" fill-rule=\"evenodd\" fill-opacity=\"1\" /><path clip-path=\"url(#clip510)\" d=\"M1231.93 1522.27 L1231.93 1532.4 L1244 1532.4 L1244 1536.95 L1231.93 1536.95 L1231.93 1556.3 Q1231.93 1560.66 1233.11 1561.9 Q1234.32 1563.14 1237.98 1563.14 L1244 1563.14 L1244 1568.04 L1237.98 1568.04 Q1231.2 1568.04 1228.62 1565.53 Q1226.04 1562.98 1226.04 1556.3 L1226.04 1536.95 L1221.75 1536.95 L1221.75 1532.4 L1226.04 1532.4 L1226.04 1522.27 L1231.93 1522.27 Z\" fill=\"#000000\" fill-rule=\"evenodd\" fill-opacity=\"1\" /><path clip-path=\"url(#clip510)\" d=\"M1282.19 1548.76 L1282.19 1551.62 L1255.26 1551.62 Q1255.65 1557.67 1258.89 1560.85 Q1262.17 1564 1267.99 1564 Q1271.37 1564 1274.52 1563.17 Q1277.7 1562.35 1280.82 1560.69 L1280.82 1566.23 Q1277.67 1567.57 1274.36 1568.27 Q1271.05 1568.97 1267.64 1568.97 Q1259.11 1568.97 1254.12 1564 Q1249.15 1559.04 1249.15 1550.57 Q1249.15 1541.82 1253.86 1536.69 Q1258.61 1531.54 1266.63 1531.54 Q1273.82 1531.54 1277.99 1536.18 Q1282.19 1540.8 1282.19 1548.76 M1276.33 1547.04 Q1276.27 1542.23 1273.63 1539.37 Q1271.02 1536.5 1266.69 1536.5 Q1261.79 1536.5 1258.83 1539.27 Q1255.9 1542.04 1255.45 1547.07 L1276.33 1547.04 Z\" fill=\"#000000\" fill-rule=\"evenodd\" fill-opacity=\"1\" /><path clip-path=\"url(#clip510)\" d=\"M1312.46 1537.87 Q1311.47 1537.3 1310.29 1537.04 Q1309.15 1536.76 1307.75 1536.76 Q1302.78 1536.76 1300.11 1540 Q1297.47 1543.22 1297.47 1549.27 L1297.47 1568.04 L1291.58 1568.04 L1291.58 1532.4 L1297.47 1532.4 L1297.47 1537.93 Q1299.31 1534.69 1302.27 1533.13 Q1305.23 1531.54 1309.47 1531.54 Q1310.07 1531.54 1310.8 1531.63 Q1311.54 1531.7 1312.43 1531.85 L1312.46 1537.87 Z\" fill=\"#000000\" fill-rule=\"evenodd\" fill-opacity=\"1\" /><path clip-path=\"url(#clip510)\" d=\"M1334.8 1550.12 Q1327.7 1550.12 1324.97 1551.75 Q1322.23 1553.37 1322.23 1557.29 Q1322.23 1560.4 1324.27 1562.25 Q1326.34 1564.07 1329.87 1564.07 Q1334.74 1564.07 1337.67 1560.63 Q1340.63 1557.16 1340.63 1551.43 L1340.63 1550.12 L1334.8 1550.12 M1346.48 1547.71 L1346.48 1568.04 L1340.63 1568.04 L1340.63 1562.63 Q1338.62 1565.88 1335.63 1567.44 Q1332.64 1568.97 1328.31 1568.97 Q1322.84 1568.97 1319.59 1565.91 Q1316.37 1562.82 1316.37 1557.67 Q1316.37 1551.65 1320.38 1548.6 Q1324.43 1545.54 1332.42 1545.54 L1340.63 1545.54 L1340.63 1544.97 Q1340.63 1540.93 1337.95 1538.73 Q1335.31 1536.5 1330.51 1536.5 Q1327.45 1536.5 1324.55 1537.23 Q1321.66 1537.97 1318.98 1539.43 L1318.98 1534.02 Q1322.2 1532.78 1325.22 1532.17 Q1328.25 1531.54 1331.11 1531.54 Q1338.84 1531.54 1342.66 1535.55 Q1346.48 1539.56 1346.48 1547.71 Z\" fill=\"#000000\" fill-rule=\"evenodd\" fill-opacity=\"1\" /><path clip-path=\"url(#clip510)\" d=\"M1364.34 1522.27 L1364.34 1532.4 L1376.4 1532.4 L1376.4 1536.95 L1364.34 1536.95 L1364.34 1556.3 Q1364.34 1560.66 1365.52 1561.9 Q1366.73 1563.14 1370.39 1563.14 L1376.4 1563.14 L1376.4 1568.04 L1370.39 1568.04 Q1363.61 1568.04 1361.03 1565.53 Q1358.45 1562.98 1358.45 1556.3 L1358.45 1536.95 L1354.15 1536.95 L1354.15 1532.4 L1358.45 1532.4 L1358.45 1522.27 L1364.34 1522.27 Z\" fill=\"#000000\" fill-rule=\"evenodd\" fill-opacity=\"1\" /><path clip-path=\"url(#clip510)\" d=\"M1384.1 1532.4 L1389.96 1532.4 L1389.96 1568.04 L1384.1 1568.04 L1384.1 1532.4 M1384.1 1518.52 L1389.96 1518.52 L1389.96 1525.93 L1384.1 1525.93 L1384.1 1518.52 Z\" fill=\"#000000\" fill-rule=\"evenodd\" fill-opacity=\"1\" /><path clip-path=\"url(#clip510)\" d=\"M1416.03 1536.5 Q1411.32 1536.5 1408.58 1540.19 Q1405.84 1543.85 1405.84 1550.25 Q1405.84 1556.65 1408.55 1560.34 Q1411.29 1564 1416.03 1564 Q1420.71 1564 1423.45 1560.31 Q1426.18 1556.62 1426.18 1550.25 Q1426.18 1543.92 1423.45 1540.23 Q1420.71 1536.5 1416.03 1536.5 M1416.03 1531.54 Q1423.67 1531.54 1428.03 1536.5 Q1432.39 1541.47 1432.39 1550.25 Q1432.39 1559 1428.03 1564 Q1423.67 1568.97 1416.03 1568.97 Q1408.36 1568.97 1404 1564 Q1399.67 1559 1399.67 1550.25 Q1399.67 1541.47 1404 1536.5 Q1408.36 1531.54 1416.03 1531.54 Z\" fill=\"#000000\" fill-rule=\"evenodd\" fill-opacity=\"1\" /><path clip-path=\"url(#clip510)\" d=\"M1471.73 1546.53 L1471.73 1568.04 L1465.87 1568.04 L1465.87 1546.72 Q1465.87 1541.66 1463.9 1539.14 Q1461.93 1536.63 1457.98 1536.63 Q1453.24 1536.63 1450.5 1539.65 Q1447.76 1542.68 1447.76 1547.9 L1447.76 1568.04 L1441.87 1568.04 L1441.87 1532.4 L1447.76 1532.4 L1447.76 1537.93 Q1449.86 1534.72 1452.7 1533.13 Q1455.56 1531.54 1459.28 1531.54 Q1465.43 1531.54 1468.58 1535.36 Q1471.73 1539.14 1471.73 1546.53 Z\" fill=\"#000000\" fill-rule=\"evenodd\" fill-opacity=\"1\" /><path clip-path=\"url(#clip510)\" d=\"M1506.14 1533.45 L1506.14 1538.98 Q1503.65 1537.71 1500.98 1537.07 Q1498.31 1536.44 1495.44 1536.44 Q1491.08 1536.44 1488.88 1537.77 Q1486.72 1539.11 1486.72 1541.79 Q1486.72 1543.82 1488.28 1545 Q1489.84 1546.15 1494.55 1547.2 L1496.56 1547.64 Q1502.79 1548.98 1505.4 1551.43 Q1508.05 1553.85 1508.05 1558.21 Q1508.05 1563.17 1504.1 1566.07 Q1500.18 1568.97 1493.31 1568.97 Q1490.44 1568.97 1487.32 1568.39 Q1484.24 1567.85 1480.8 1566.74 L1480.8 1560.69 Q1484.05 1562.38 1487.2 1563.24 Q1490.35 1564.07 1493.44 1564.07 Q1497.57 1564.07 1499.8 1562.66 Q1502.03 1561.23 1502.03 1558.65 Q1502.03 1556.27 1500.41 1554.99 Q1498.82 1553.72 1493.37 1552.54 L1491.34 1552.07 Q1485.89 1550.92 1483.47 1548.56 Q1481.05 1546.18 1481.05 1542.04 Q1481.05 1537.01 1484.62 1534.27 Q1488.18 1531.54 1494.74 1531.54 Q1497.99 1531.54 1500.85 1532.01 Q1503.72 1532.49 1506.14 1533.45 Z\" fill=\"#000000\" fill-rule=\"evenodd\" fill-opacity=\"1\" /><polyline clip-path=\"url(#clip512)\" style=\"stroke:#000000; stroke-linecap:butt; stroke-linejoin:round; stroke-width:2; stroke-opacity:0.1; fill:none\" points=\"\n",
       "  362.46,1183.14 2352.76,1183.14 \n",
       "  \"/>\n",
       "<polyline clip-path=\"url(#clip512)\" style=\"stroke:#000000; stroke-linecap:butt; stroke-linejoin:round; stroke-width:2; stroke-opacity:0.1; fill:none\" points=\"\n",
       "  362.46,929.764 2352.76,929.764 \n",
       "  \"/>\n",
       "<polyline clip-path=\"url(#clip512)\" style=\"stroke:#000000; stroke-linecap:butt; stroke-linejoin:round; stroke-width:2; stroke-opacity:0.1; fill:none\" points=\"\n",
       "  362.46,676.392 2352.76,676.392 \n",
       "  \"/>\n",
       "<polyline clip-path=\"url(#clip512)\" style=\"stroke:#000000; stroke-linecap:butt; stroke-linejoin:round; stroke-width:2; stroke-opacity:0.1; fill:none\" points=\"\n",
       "  362.46,423.02 2352.76,423.02 \n",
       "  \"/>\n",
       "<polyline clip-path=\"url(#clip512)\" style=\"stroke:#000000; stroke-linecap:butt; stroke-linejoin:round; stroke-width:2; stroke-opacity:0.1; fill:none\" points=\"\n",
       "  362.46,169.648 2352.76,169.648 \n",
       "  \"/>\n",
       "<polyline clip-path=\"url(#clip510)\" style=\"stroke:#000000; stroke-linecap:butt; stroke-linejoin:round; stroke-width:4; stroke-opacity:1; fill:none\" points=\"\n",
       "  362.46,1423.18 362.46,47.2441 \n",
       "  \"/>\n",
       "<polyline clip-path=\"url(#clip510)\" style=\"stroke:#000000; stroke-linecap:butt; stroke-linejoin:round; stroke-width:4; stroke-opacity:1; fill:none\" points=\"\n",
       "  362.46,1183.14 381.357,1183.14 \n",
       "  \"/>\n",
       "<polyline clip-path=\"url(#clip510)\" style=\"stroke:#000000; stroke-linecap:butt; stroke-linejoin:round; stroke-width:4; stroke-opacity:1; fill:none\" points=\"\n",
       "  362.46,929.764 381.357,929.764 \n",
       "  \"/>\n",
       "<polyline clip-path=\"url(#clip510)\" style=\"stroke:#000000; stroke-linecap:butt; stroke-linejoin:round; stroke-width:4; stroke-opacity:1; fill:none\" points=\"\n",
       "  362.46,676.392 381.357,676.392 \n",
       "  \"/>\n",
       "<polyline clip-path=\"url(#clip510)\" style=\"stroke:#000000; stroke-linecap:butt; stroke-linejoin:round; stroke-width:4; stroke-opacity:1; fill:none\" points=\"\n",
       "  362.46,423.02 381.357,423.02 \n",
       "  \"/>\n",
       "<polyline clip-path=\"url(#clip510)\" style=\"stroke:#000000; stroke-linecap:butt; stroke-linejoin:round; stroke-width:4; stroke-opacity:1; fill:none\" points=\"\n",
       "  362.46,169.648 381.357,169.648 \n",
       "  \"/>\n",
       "<path clip-path=\"url(#clip510)\" d=\"M117.825 1202.93 L125.464 1202.93 L125.464 1176.56 L117.154 1178.23 L117.154 1173.97 L125.418 1172.3 L130.093 1172.3 L130.093 1202.93 L137.732 1202.93 L137.732 1206.86 L117.825 1206.86 L117.825 1202.93 Z\" fill=\"#000000\" fill-rule=\"evenodd\" fill-opacity=\"1\" /><path clip-path=\"url(#clip510)\" d=\"M147.177 1200.98 L152.061 1200.98 L152.061 1206.86 L147.177 1206.86 L147.177 1200.98 Z\" fill=\"#000000\" fill-rule=\"evenodd\" fill-opacity=\"1\" /><path clip-path=\"url(#clip510)\" d=\"M172.246 1175.38 Q168.635 1175.38 166.806 1178.95 Q165.001 1182.49 165.001 1189.62 Q165.001 1196.72 166.806 1200.29 Q168.635 1203.83 172.246 1203.83 Q175.88 1203.83 177.686 1200.29 Q179.514 1196.72 179.514 1189.62 Q179.514 1182.49 177.686 1178.95 Q175.88 1175.38 172.246 1175.38 M172.246 1171.68 Q178.056 1171.68 181.112 1176.29 Q184.19 1180.87 184.19 1189.62 Q184.19 1198.35 181.112 1202.95 Q178.056 1207.53 172.246 1207.53 Q166.436 1207.53 163.357 1202.95 Q160.302 1198.35 160.302 1189.62 Q160.302 1180.87 163.357 1176.29 Q166.436 1171.68 172.246 1171.68 Z\" fill=\"#000000\" fill-rule=\"evenodd\" fill-opacity=\"1\" /><path clip-path=\"url(#clip510)\" d=\"M220.579 1181.4 L210 1192.03 L220.579 1202.6 L217.824 1205.41 L207.199 1194.78 L196.575 1205.41 L193.843 1202.6 L204.399 1192.03 L193.843 1181.4 L196.575 1178.6 L207.199 1189.22 L217.824 1178.6 L220.579 1181.4 Z\" fill=\"#000000\" fill-rule=\"evenodd\" fill-opacity=\"1\" /><path clip-path=\"url(#clip510)\" d=\"M232.94 1202.93 L240.579 1202.93 L240.579 1176.56 L232.269 1178.23 L232.269 1173.97 L240.533 1172.3 L245.209 1172.3 L245.209 1202.93 L252.847 1202.93 L252.847 1206.86 L232.94 1206.86 L232.94 1202.93 Z\" fill=\"#000000\" fill-rule=\"evenodd\" fill-opacity=\"1\" /><path clip-path=\"url(#clip510)\" d=\"M272.292 1175.38 Q268.681 1175.38 266.852 1178.95 Q265.046 1182.49 265.046 1189.62 Q265.046 1196.72 266.852 1200.29 Q268.681 1203.83 272.292 1203.83 Q275.926 1203.83 277.732 1200.29 Q279.56 1196.72 279.56 1189.62 Q279.56 1182.49 277.732 1178.95 Q275.926 1175.38 272.292 1175.38 M272.292 1171.68 Q278.102 1171.68 281.157 1176.29 Q284.236 1180.87 284.236 1189.62 Q284.236 1198.35 281.157 1202.95 Q278.102 1207.53 272.292 1207.53 Q266.482 1207.53 263.403 1202.95 Q260.347 1198.35 260.347 1189.62 Q260.347 1180.87 263.403 1176.29 Q266.482 1171.68 272.292 1171.68 Z\" fill=\"#000000\" fill-rule=\"evenodd\" fill-opacity=\"1\" /><path clip-path=\"url(#clip510)\" d=\"M284.782 1176.26 L290.988 1176.26 L290.988 1154.83 L284.236 1156.19 L284.236 1152.73 L290.95 1151.37 L294.75 1151.37 L294.75 1176.26 L300.956 1176.26 L300.956 1179.45 L284.782 1179.45 L284.782 1176.26 Z\" fill=\"#000000\" fill-rule=\"evenodd\" fill-opacity=\"1\" /><path clip-path=\"url(#clip510)\" d=\"M316.755 1153.87 Q313.821 1153.87 312.335 1156.77 Q310.868 1159.65 310.868 1165.44 Q310.868 1171.22 312.335 1174.11 Q313.821 1176.99 316.755 1176.99 Q319.708 1176.99 321.175 1174.11 Q322.66 1171.22 322.66 1165.44 Q322.66 1159.65 321.175 1156.77 Q319.708 1153.87 316.755 1153.87 M316.755 1150.87 Q321.475 1150.87 323.958 1154.61 Q326.46 1158.33 326.46 1165.44 Q326.46 1172.53 323.958 1176.27 Q321.475 1180 316.755 1180 Q312.034 1180 309.533 1176.27 Q307.05 1172.53 307.05 1165.44 Q307.05 1158.33 309.533 1154.61 Q312.034 1150.87 316.755 1150.87 Z\" fill=\"#000000\" fill-rule=\"evenodd\" fill-opacity=\"1\" /><path clip-path=\"url(#clip510)\" d=\"M121.043 949.557 L137.362 949.557 L137.362 953.492 L115.418 953.492 L115.418 949.557 Q118.08 946.802 122.663 942.172 Q127.269 937.52 128.45 936.177 Q130.695 933.654 131.575 931.918 Q132.478 930.158 132.478 928.469 Q132.478 925.714 130.533 923.978 Q128.612 922.242 125.51 922.242 Q123.311 922.242 120.857 923.006 Q118.427 923.77 115.649 925.321 L115.649 920.598 Q118.473 919.464 120.927 918.885 Q123.38 918.307 125.418 918.307 Q130.788 918.307 133.982 920.992 Q137.177 923.677 137.177 928.168 Q137.177 930.297 136.367 932.219 Q135.579 934.117 133.473 936.709 Q132.894 937.381 129.792 940.598 Q126.691 943.793 121.043 949.557 Z\" fill=\"#000000\" fill-rule=\"evenodd\" fill-opacity=\"1\" /><path clip-path=\"url(#clip510)\" d=\"M147.177 947.612 L152.061 947.612 L152.061 953.492 L147.177 953.492 L147.177 947.612 Z\" fill=\"#000000\" fill-rule=\"evenodd\" fill-opacity=\"1\" /><path clip-path=\"url(#clip510)\" d=\"M172.246 922.01 Q168.635 922.01 166.806 925.575 Q165.001 929.117 165.001 936.246 Q165.001 943.353 166.806 946.918 Q168.635 950.459 172.246 950.459 Q175.88 950.459 177.686 946.918 Q179.514 943.353 179.514 936.246 Q179.514 929.117 177.686 925.575 Q175.88 922.01 172.246 922.01 M172.246 918.307 Q178.056 918.307 181.112 922.913 Q184.19 927.496 184.19 936.246 Q184.19 944.973 181.112 949.58 Q178.056 954.163 172.246 954.163 Q166.436 954.163 163.357 949.58 Q160.302 944.973 160.302 936.246 Q160.302 927.496 163.357 922.913 Q166.436 918.307 172.246 918.307 Z\" fill=\"#000000\" fill-rule=\"evenodd\" fill-opacity=\"1\" /><path clip-path=\"url(#clip510)\" d=\"M220.579 928.029 L210 938.654 L220.579 949.232 L217.824 952.033 L207.199 941.408 L196.575 952.033 L193.843 949.232 L204.399 938.654 L193.843 928.029 L196.575 925.228 L207.199 935.853 L217.824 925.228 L220.579 928.029 Z\" fill=\"#000000\" fill-rule=\"evenodd\" fill-opacity=\"1\" /><path clip-path=\"url(#clip510)\" d=\"M232.94 949.557 L240.579 949.557 L240.579 923.191 L232.269 924.858 L232.269 920.598 L240.533 918.932 L245.209 918.932 L245.209 949.557 L252.847 949.557 L252.847 953.492 L232.94 953.492 L232.94 949.557 Z\" fill=\"#000000\" fill-rule=\"evenodd\" fill-opacity=\"1\" /><path clip-path=\"url(#clip510)\" d=\"M272.292 922.01 Q268.681 922.01 266.852 925.575 Q265.046 929.117 265.046 936.246 Q265.046 943.353 266.852 946.918 Q268.681 950.459 272.292 950.459 Q275.926 950.459 277.732 946.918 Q279.56 943.353 279.56 936.246 Q279.56 929.117 277.732 925.575 Q275.926 922.01 272.292 922.01 M272.292 918.307 Q278.102 918.307 281.157 922.913 Q284.236 927.496 284.236 936.246 Q284.236 944.973 281.157 949.58 Q278.102 954.163 272.292 954.163 Q266.482 954.163 263.403 949.58 Q260.347 944.973 260.347 936.246 Q260.347 927.496 263.403 922.913 Q266.482 918.307 272.292 918.307 Z\" fill=\"#000000\" fill-rule=\"evenodd\" fill-opacity=\"1\" /><path clip-path=\"url(#clip510)\" d=\"M284.782 922.884 L290.988 922.884 L290.988 901.462 L284.236 902.816 L284.236 899.355 L290.95 898.001 L294.75 898.001 L294.75 922.884 L300.956 922.884 L300.956 926.081 L284.782 926.081 L284.782 922.884 Z\" fill=\"#000000\" fill-rule=\"evenodd\" fill-opacity=\"1\" /><path clip-path=\"url(#clip510)\" d=\"M316.755 900.503 Q313.821 900.503 312.335 903.399 Q310.868 906.277 310.868 912.07 Q310.868 917.843 312.335 920.74 Q313.821 923.617 316.755 923.617 Q319.708 923.617 321.175 920.74 Q322.66 917.843 322.66 912.07 Q322.66 906.277 321.175 903.399 Q319.708 900.503 316.755 900.503 M316.755 897.493 Q321.475 897.493 323.958 901.236 Q326.46 904.96 326.46 912.07 Q326.46 919.16 323.958 922.903 Q321.475 926.627 316.755 926.627 Q312.034 926.627 309.533 922.903 Q307.05 919.16 307.05 912.07 Q307.05 904.96 309.533 901.236 Q312.034 897.493 316.755 897.493 Z\" fill=\"#000000\" fill-rule=\"evenodd\" fill-opacity=\"1\" /><path clip-path=\"url(#clip510)\" d=\"M131.181 681.486 Q134.538 682.203 136.413 684.472 Q138.311 686.74 138.311 690.074 Q138.311 695.189 134.792 697.99 Q131.274 700.791 124.793 700.791 Q122.617 700.791 120.302 700.351 Q118.01 699.935 115.556 699.078 L115.556 694.564 Q117.501 695.699 119.816 696.277 Q122.13 696.856 124.654 696.856 Q129.052 696.856 131.343 695.12 Q133.658 693.384 133.658 690.074 Q133.658 687.018 131.505 685.305 Q129.376 683.569 125.556 683.569 L121.529 683.569 L121.529 679.726 L125.742 679.726 Q129.191 679.726 131.019 678.361 Q132.848 676.972 132.848 674.379 Q132.848 671.717 130.95 670.305 Q129.075 668.87 125.556 668.87 Q123.635 668.87 121.436 669.287 Q119.237 669.703 116.598 670.583 L116.598 666.416 Q119.26 665.676 121.575 665.305 Q123.913 664.935 125.973 664.935 Q131.297 664.935 134.399 667.365 Q137.501 669.773 137.501 673.893 Q137.501 676.763 135.857 678.754 Q134.214 680.722 131.181 681.486 Z\" fill=\"#000000\" fill-rule=\"evenodd\" fill-opacity=\"1\" /><path clip-path=\"url(#clip510)\" d=\"M147.177 694.24 L152.061 694.24 L152.061 700.12 L147.177 700.12 L147.177 694.24 Z\" fill=\"#000000\" fill-rule=\"evenodd\" fill-opacity=\"1\" /><path clip-path=\"url(#clip510)\" d=\"M172.246 668.638 Q168.635 668.638 166.806 672.203 Q165.001 675.745 165.001 682.875 Q165.001 689.981 166.806 693.546 Q168.635 697.087 172.246 697.087 Q175.88 697.087 177.686 693.546 Q179.514 689.981 179.514 682.875 Q179.514 675.745 177.686 672.203 Q175.88 668.638 172.246 668.638 M172.246 664.935 Q178.056 664.935 181.112 669.541 Q184.19 674.125 184.19 682.875 Q184.19 691.601 181.112 696.208 Q178.056 700.791 172.246 700.791 Q166.436 700.791 163.357 696.208 Q160.302 691.601 160.302 682.875 Q160.302 674.125 163.357 669.541 Q166.436 664.935 172.246 664.935 Z\" fill=\"#000000\" fill-rule=\"evenodd\" fill-opacity=\"1\" /><path clip-path=\"url(#clip510)\" d=\"M220.579 674.657 L210 685.282 L220.579 695.861 L217.824 698.661 L207.199 688.037 L196.575 698.661 L193.843 695.861 L204.399 685.282 L193.843 674.657 L196.575 671.856 L207.199 682.481 L217.824 671.856 L220.579 674.657 Z\" fill=\"#000000\" fill-rule=\"evenodd\" fill-opacity=\"1\" /><path clip-path=\"url(#clip510)\" d=\"M232.94 696.185 L240.579 696.185 L240.579 669.819 L232.269 671.486 L232.269 667.226 L240.533 665.56 L245.209 665.56 L245.209 696.185 L252.847 696.185 L252.847 700.12 L232.94 700.12 L232.94 696.185 Z\" fill=\"#000000\" fill-rule=\"evenodd\" fill-opacity=\"1\" /><path clip-path=\"url(#clip510)\" d=\"M272.292 668.638 Q268.681 668.638 266.852 672.203 Q265.046 675.745 265.046 682.875 Q265.046 689.981 266.852 693.546 Q268.681 697.087 272.292 697.087 Q275.926 697.087 277.732 693.546 Q279.56 689.981 279.56 682.875 Q279.56 675.745 277.732 672.203 Q275.926 668.638 272.292 668.638 M272.292 664.935 Q278.102 664.935 281.157 669.541 Q284.236 674.125 284.236 682.875 Q284.236 691.601 281.157 696.208 Q278.102 700.791 272.292 700.791 Q266.482 700.791 263.403 696.208 Q260.347 691.601 260.347 682.875 Q260.347 674.125 263.403 669.541 Q266.482 664.935 272.292 664.935 Z\" fill=\"#000000\" fill-rule=\"evenodd\" fill-opacity=\"1\" /><path clip-path=\"url(#clip510)\" d=\"M284.782 669.512 L290.988 669.512 L290.988 648.09 L284.236 649.444 L284.236 645.984 L290.95 644.629 L294.75 644.629 L294.75 669.512 L300.956 669.512 L300.956 672.709 L284.782 672.709 L284.782 669.512 Z\" fill=\"#000000\" fill-rule=\"evenodd\" fill-opacity=\"1\" /><path clip-path=\"url(#clip510)\" d=\"M316.755 647.131 Q313.821 647.131 312.335 650.027 Q310.868 652.905 310.868 658.698 Q310.868 664.472 312.335 667.368 Q313.821 670.246 316.755 670.246 Q319.708 670.246 321.175 667.368 Q322.66 664.472 322.66 658.698 Q322.66 652.905 321.175 650.027 Q319.708 647.131 316.755 647.131 M316.755 644.122 Q321.475 644.122 323.958 647.864 Q326.46 651.588 326.46 658.698 Q326.46 665.788 323.958 669.531 Q321.475 673.255 316.755 673.255 Q312.034 673.255 309.533 669.531 Q307.05 665.788 307.05 658.698 Q307.05 651.588 309.533 647.864 Q312.034 644.122 316.755 644.122 Z\" fill=\"#000000\" fill-rule=\"evenodd\" fill-opacity=\"1\" /><path clip-path=\"url(#clip510)\" d=\"M129.862 416.262 L118.056 434.711 L129.862 434.711 L129.862 416.262 M128.635 412.188 L134.515 412.188 L134.515 434.711 L139.445 434.711 L139.445 438.6 L134.515 438.6 L134.515 446.748 L129.862 446.748 L129.862 438.6 L114.26 438.6 L114.26 434.086 L128.635 412.188 Z\" fill=\"#000000\" fill-rule=\"evenodd\" fill-opacity=\"1\" /><path clip-path=\"url(#clip510)\" d=\"M147.177 440.868 L152.061 440.868 L152.061 446.748 L147.177 446.748 L147.177 440.868 Z\" fill=\"#000000\" fill-rule=\"evenodd\" fill-opacity=\"1\" /><path clip-path=\"url(#clip510)\" d=\"M172.246 415.267 Q168.635 415.267 166.806 418.831 Q165.001 422.373 165.001 429.503 Q165.001 436.609 166.806 440.174 Q168.635 443.716 172.246 443.716 Q175.88 443.716 177.686 440.174 Q179.514 436.609 179.514 429.503 Q179.514 422.373 177.686 418.831 Q175.88 415.267 172.246 415.267 M172.246 411.563 Q178.056 411.563 181.112 416.169 Q184.19 420.753 184.19 429.503 Q184.19 438.229 181.112 442.836 Q178.056 447.419 172.246 447.419 Q166.436 447.419 163.357 442.836 Q160.302 438.229 160.302 429.503 Q160.302 420.753 163.357 416.169 Q166.436 411.563 172.246 411.563 Z\" fill=\"#000000\" fill-rule=\"evenodd\" fill-opacity=\"1\" /><path clip-path=\"url(#clip510)\" d=\"M220.579 421.285 L210 431.91 L220.579 442.489 L217.824 445.29 L207.199 434.665 L196.575 445.29 L193.843 442.489 L204.399 431.91 L193.843 421.285 L196.575 418.484 L207.199 429.109 L217.824 418.484 L220.579 421.285 Z\" fill=\"#000000\" fill-rule=\"evenodd\" fill-opacity=\"1\" /><path clip-path=\"url(#clip510)\" d=\"M232.94 442.813 L240.579 442.813 L240.579 416.447 L232.269 418.114 L232.269 413.855 L240.533 412.188 L245.209 412.188 L245.209 442.813 L252.847 442.813 L252.847 446.748 L232.94 446.748 L232.94 442.813 Z\" fill=\"#000000\" fill-rule=\"evenodd\" fill-opacity=\"1\" /><path clip-path=\"url(#clip510)\" d=\"M272.292 415.267 Q268.681 415.267 266.852 418.831 Q265.046 422.373 265.046 429.503 Q265.046 436.609 266.852 440.174 Q268.681 443.716 272.292 443.716 Q275.926 443.716 277.732 440.174 Q279.56 436.609 279.56 429.503 Q279.56 422.373 277.732 418.831 Q275.926 415.267 272.292 415.267 M272.292 411.563 Q278.102 411.563 281.157 416.169 Q284.236 420.753 284.236 429.503 Q284.236 438.229 281.157 442.836 Q278.102 447.419 272.292 447.419 Q266.482 447.419 263.403 442.836 Q260.347 438.229 260.347 429.503 Q260.347 420.753 263.403 416.169 Q266.482 411.563 272.292 411.563 Z\" fill=\"#000000\" fill-rule=\"evenodd\" fill-opacity=\"1\" /><path clip-path=\"url(#clip510)\" d=\"M284.782 416.14 L290.988 416.14 L290.988 394.718 L284.236 396.072 L284.236 392.612 L290.95 391.257 L294.75 391.257 L294.75 416.14 L300.956 416.14 L300.956 419.337 L284.782 419.337 L284.782 416.14 Z\" fill=\"#000000\" fill-rule=\"evenodd\" fill-opacity=\"1\" /><path clip-path=\"url(#clip510)\" d=\"M316.755 393.759 Q313.821 393.759 312.335 396.655 Q310.868 399.533 310.868 405.326 Q310.868 411.1 312.335 413.996 Q313.821 416.874 316.755 416.874 Q319.708 416.874 321.175 413.996 Q322.66 411.1 322.66 405.326 Q322.66 399.533 321.175 396.655 Q319.708 393.759 316.755 393.759 M316.755 390.75 Q321.475 390.75 323.958 394.492 Q326.46 398.216 326.46 405.326 Q326.46 412.416 323.958 416.159 Q321.475 419.883 316.755 419.883 Q312.034 419.883 309.533 416.159 Q307.05 412.416 307.05 405.326 Q307.05 398.216 309.533 394.492 Q312.034 390.75 316.755 390.75 Z\" fill=\"#000000\" fill-rule=\"evenodd\" fill-opacity=\"1\" /><path clip-path=\"url(#clip510)\" d=\"M117.061 158.816 L135.417 158.816 L135.417 162.751 L121.343 162.751 L121.343 171.223 Q122.362 170.876 123.38 170.714 Q124.399 170.529 125.418 170.529 Q131.205 170.529 134.584 173.7 Q137.964 176.871 137.964 182.288 Q137.964 187.867 134.492 190.969 Q131.019 194.047 124.7 194.047 Q122.524 194.047 120.255 193.677 Q118.01 193.307 115.603 192.566 L115.603 187.867 Q117.686 189.001 119.908 189.557 Q122.13 190.112 124.607 190.112 Q128.612 190.112 130.95 188.006 Q133.288 185.899 133.288 182.288 Q133.288 178.677 130.95 176.571 Q128.612 174.464 124.607 174.464 Q122.732 174.464 120.857 174.881 Q119.006 175.297 117.061 176.177 L117.061 158.816 Z\" fill=\"#000000\" fill-rule=\"evenodd\" fill-opacity=\"1\" /><path clip-path=\"url(#clip510)\" d=\"M147.177 187.496 L152.061 187.496 L152.061 193.376 L147.177 193.376 L147.177 187.496 Z\" fill=\"#000000\" fill-rule=\"evenodd\" fill-opacity=\"1\" /><path clip-path=\"url(#clip510)\" d=\"M172.246 161.895 Q168.635 161.895 166.806 165.459 Q165.001 169.001 165.001 176.131 Q165.001 183.237 166.806 186.802 Q168.635 190.344 172.246 190.344 Q175.88 190.344 177.686 186.802 Q179.514 183.237 179.514 176.131 Q179.514 169.001 177.686 165.459 Q175.88 161.895 172.246 161.895 M172.246 158.191 Q178.056 158.191 181.112 162.797 Q184.19 167.381 184.19 176.131 Q184.19 184.858 181.112 189.464 Q178.056 194.047 172.246 194.047 Q166.436 194.047 163.357 189.464 Q160.302 184.858 160.302 176.131 Q160.302 167.381 163.357 162.797 Q166.436 158.191 172.246 158.191 Z\" fill=\"#000000\" fill-rule=\"evenodd\" fill-opacity=\"1\" /><path clip-path=\"url(#clip510)\" d=\"M220.579 167.913 L210 178.538 L220.579 189.117 L217.824 191.918 L207.199 181.293 L196.575 191.918 L193.843 189.117 L204.399 178.538 L193.843 167.913 L196.575 165.112 L207.199 175.737 L217.824 165.112 L220.579 167.913 Z\" fill=\"#000000\" fill-rule=\"evenodd\" fill-opacity=\"1\" /><path clip-path=\"url(#clip510)\" d=\"M232.94 189.441 L240.579 189.441 L240.579 163.075 L232.269 164.742 L232.269 160.483 L240.533 158.816 L245.209 158.816 L245.209 189.441 L252.847 189.441 L252.847 193.376 L232.94 193.376 L232.94 189.441 Z\" fill=\"#000000\" fill-rule=\"evenodd\" fill-opacity=\"1\" /><path clip-path=\"url(#clip510)\" d=\"M272.292 161.895 Q268.681 161.895 266.852 165.459 Q265.046 169.001 265.046 176.131 Q265.046 183.237 266.852 186.802 Q268.681 190.344 272.292 190.344 Q275.926 190.344 277.732 186.802 Q279.56 183.237 279.56 176.131 Q279.56 169.001 277.732 165.459 Q275.926 161.895 272.292 161.895 M272.292 158.191 Q278.102 158.191 281.157 162.797 Q284.236 167.381 284.236 176.131 Q284.236 184.858 281.157 189.464 Q278.102 194.047 272.292 194.047 Q266.482 194.047 263.403 189.464 Q260.347 184.858 260.347 176.131 Q260.347 167.381 263.403 162.797 Q266.482 158.191 272.292 158.191 Z\" fill=\"#000000\" fill-rule=\"evenodd\" fill-opacity=\"1\" /><path clip-path=\"url(#clip510)\" d=\"M284.782 162.768 L290.988 162.768 L290.988 141.346 L284.236 142.7 L284.236 139.24 L290.95 137.886 L294.75 137.886 L294.75 162.768 L300.956 162.768 L300.956 165.966 L284.782 165.966 L284.782 162.768 Z\" fill=\"#000000\" fill-rule=\"evenodd\" fill-opacity=\"1\" /><path clip-path=\"url(#clip510)\" d=\"M316.755 140.387 Q313.821 140.387 312.335 143.283 Q310.868 146.161 310.868 151.954 Q310.868 157.728 312.335 160.624 Q313.821 163.502 316.755 163.502 Q319.708 163.502 321.175 160.624 Q322.66 157.728 322.66 151.954 Q322.66 146.161 321.175 143.283 Q319.708 140.387 316.755 140.387 M316.755 137.378 Q321.475 137.378 323.958 141.121 Q326.46 144.844 326.46 151.954 Q326.46 159.044 323.958 162.787 Q321.475 166.511 316.755 166.511 Q312.034 166.511 309.533 162.787 Q307.05 159.044 307.05 151.954 Q307.05 144.844 309.533 141.121 Q312.034 137.378 316.755 137.378 Z\" fill=\"#000000\" fill-rule=\"evenodd\" fill-opacity=\"1\" /><path clip-path=\"url(#clip510)\" d=\"M20.1444 913.738 L26.9239 913.738 Q23.9002 916.985 22.4043 920.677 Q20.9083 924.337 20.9083 928.475 Q20.9083 936.623 25.9054 940.952 Q30.8707 945.28 40.2919 945.28 Q49.6813 945.28 54.6784 940.952 Q59.6436 936.623 59.6436 928.475 Q59.6436 924.337 58.1477 920.677 Q56.6518 916.985 53.6281 913.738 L60.3439 913.738 Q62.6355 917.112 63.7814 920.9 Q64.9272 924.655 64.9272 928.857 Q64.9272 939.647 58.3387 945.853 Q51.7183 952.06 40.2919 952.06 Q28.8336 952.06 22.2451 945.853 Q15.6248 939.647 15.6248 928.857 Q15.6248 924.592 16.7706 920.836 Q17.8846 917.048 20.1444 913.738 Z\" fill=\"#000000\" fill-rule=\"evenodd\" fill-opacity=\"1\" /><path clip-path=\"url(#clip510)\" d=\"M32.4621 890.249 Q32.4621 894.959 36.1542 897.697 Q39.8145 900.434 46.212 900.434 Q52.6095 900.434 56.3017 897.728 Q59.9619 894.991 59.9619 890.249 Q59.9619 885.57 56.2698 882.833 Q52.5777 880.095 46.212 880.095 Q39.8781 880.095 36.186 882.833 Q32.4621 885.57 32.4621 890.249 M27.4968 890.249 Q27.4968 882.61 32.4621 878.249 Q37.4273 873.889 46.212 873.889 Q54.9649 873.889 59.9619 878.249 Q64.9272 882.61 64.9272 890.249 Q64.9272 897.919 59.9619 902.28 Q54.9649 906.609 46.212 906.609 Q37.4273 906.609 32.4621 902.28 Q27.4968 897.919 27.4968 890.249 Z\" fill=\"#000000\" fill-rule=\"evenodd\" fill-opacity=\"1\" /><path clip-path=\"url(#clip510)\" d=\"M29.4065 841.456 L34.9447 841.456 Q33.6716 843.938 33.035 846.612 Q32.3984 849.285 32.3984 852.15 Q32.3984 856.511 33.7352 858.707 Q35.072 860.871 37.7456 860.871 Q39.7826 860.871 40.9603 859.311 Q42.1061 857.752 43.1565 853.041 L43.6021 851.036 Q44.9389 844.798 47.3897 842.188 Q49.8086 839.546 54.1691 839.546 Q59.1344 839.546 62.0308 843.493 Q64.9272 847.408 64.9272 854.283 Q64.9272 857.147 64.3543 860.266 Q63.8132 863.354 62.6992 866.791 L56.6518 866.791 Q58.3387 863.545 59.198 860.394 Q60.0256 857.243 60.0256 854.155 Q60.0256 850.017 58.6251 847.789 Q57.1929 845.561 54.6147 845.561 Q52.2276 845.561 50.9545 847.185 Q49.6813 848.776 48.5037 854.219 L48.0262 856.256 Q46.8804 861.699 44.5251 864.118 Q42.138 866.536 38.0002 866.536 Q32.9713 866.536 30.2341 862.972 Q27.4968 859.407 27.4968 852.85 Q27.4968 849.604 27.9743 846.739 Q28.4517 843.875 29.4065 841.456 Z\" fill=\"#000000\" fill-rule=\"evenodd\" fill-opacity=\"1\" /><path clip-path=\"url(#clip510)\" d=\"M18.2347 824.427 L28.3562 824.427 L28.3562 812.364 L32.9077 812.364 L32.9077 824.427 L52.2594 824.427 Q56.6199 824.427 57.8613 823.25 Q59.1026 822.04 59.1026 818.38 L59.1026 812.364 L64.0042 812.364 L64.0042 818.38 Q64.0042 825.159 61.4897 827.738 Q58.9434 830.316 52.2594 830.316 L32.9077 830.316 L32.9077 834.612 L28.3562 834.612 L28.3562 830.316 L18.2347 830.316 L18.2347 824.427 Z\" fill=\"#000000\" fill-rule=\"evenodd\" fill-opacity=\"1\" /><path clip-path=\"url(#clip510)\" d=\"M16.4842 783.687 L16.4842 756.378 L21.895 756.378 L21.895 777.257 L35.8996 777.257 L35.8996 758.415 L41.3104 758.415 L41.3104 777.257 L64.0042 777.257 L64.0042 783.687 L16.4842 783.687 Z\" fill=\"#000000\" fill-rule=\"evenodd\" fill-opacity=\"1\" /><path clip-path=\"url(#clip510)\" d=\"M49.9359 750.617 L28.3562 750.617 L28.3562 744.761 L49.7131 744.761 Q54.7739 744.761 57.3202 742.787 Q59.8346 740.814 59.8346 736.867 Q59.8346 732.125 56.8109 729.387 Q53.7872 726.618 48.5673 726.618 L28.3562 726.618 L28.3562 720.762 L64.0042 720.762 L64.0042 726.618 L58.5296 726.618 Q61.7762 728.751 63.3676 731.584 Q64.9272 734.384 64.9272 738.108 Q64.9272 744.251 61.1078 747.434 Q57.2883 750.617 49.9359 750.617 M27.4968 735.88 L27.4968 735.88 Z\" fill=\"#000000\" fill-rule=\"evenodd\" fill-opacity=\"1\" /><path clip-path=\"url(#clip510)\" d=\"M42.4881 679.066 L64.0042 679.066 L64.0042 684.923 L42.679 684.923 Q37.6183 684.923 35.1038 686.896 Q32.5894 688.87 32.5894 692.816 Q32.5894 697.559 35.6131 700.296 Q38.6368 703.033 43.8567 703.033 L64.0042 703.033 L64.0042 708.922 L28.3562 708.922 L28.3562 703.033 L33.8944 703.033 Q30.6797 700.933 29.0883 698.1 Q27.4968 695.235 27.4968 691.511 Q27.4968 685.368 31.3163 682.217 Q35.1038 679.066 42.4881 679.066 Z\" fill=\"#000000\" fill-rule=\"evenodd\" fill-opacity=\"1\" /><path clip-path=\"url(#clip510)\" d=\"M29.7248 641.732 L35.1993 641.732 Q33.8307 644.214 33.1623 646.729 Q32.4621 649.211 32.4621 651.758 Q32.4621 657.455 36.0905 660.606 Q39.6872 663.757 46.212 663.757 Q52.7369 663.757 56.3653 660.606 Q59.9619 657.455 59.9619 651.758 Q59.9619 649.211 59.2935 646.729 Q58.5933 644.214 57.2247 641.732 L62.6355 641.732 Q63.7814 644.182 64.3543 646.824 Q64.9272 649.434 64.9272 652.394 Q64.9272 660.447 59.8664 665.189 Q54.8057 669.932 46.212 669.932 Q37.491 669.932 32.4939 665.157 Q27.4968 660.351 27.4968 652.012 Q27.4968 649.307 28.0697 646.729 Q28.6108 644.151 29.7248 641.732 Z\" fill=\"#000000\" fill-rule=\"evenodd\" fill-opacity=\"1\" /><path clip-path=\"url(#clip510)\" d=\"M18.2347 625.754 L28.3562 625.754 L28.3562 613.691 L32.9077 613.691 L32.9077 625.754 L52.2594 625.754 Q56.6199 625.754 57.8613 624.576 Q59.1026 623.367 59.1026 619.706 L59.1026 613.691 L64.0042 613.691 L64.0042 619.706 Q64.0042 626.486 61.4897 629.064 Q58.9434 631.642 52.2594 631.642 L32.9077 631.642 L32.9077 635.939 L28.3562 635.939 L28.3562 631.642 L18.2347 631.642 L18.2347 625.754 Z\" fill=\"#000000\" fill-rule=\"evenodd\" fill-opacity=\"1\" /><path clip-path=\"url(#clip510)\" d=\"M28.3562 605.988 L28.3562 600.132 L64.0042 600.132 L64.0042 605.988 L28.3562 605.988 M14.479 605.988 L14.479 600.132 L21.895 600.132 L21.895 605.988 L14.479 605.988 Z\" fill=\"#000000\" fill-rule=\"evenodd\" fill-opacity=\"1\" /><path clip-path=\"url(#clip510)\" d=\"M32.4621 574.064 Q32.4621 578.775 36.1542 581.512 Q39.8145 584.249 46.212 584.249 Q52.6095 584.249 56.3017 581.544 Q59.9619 578.807 59.9619 574.064 Q59.9619 569.385 56.2698 566.648 Q52.5777 563.911 46.212 563.911 Q39.8781 563.911 36.186 566.648 Q32.4621 569.385 32.4621 574.064 M27.4968 574.064 Q27.4968 566.425 32.4621 562.065 Q37.4273 557.704 46.212 557.704 Q54.9649 557.704 59.9619 562.065 Q64.9272 566.425 64.9272 574.064 Q64.9272 581.735 59.9619 586.095 Q54.9649 590.424 46.212 590.424 Q37.4273 590.424 32.4621 586.095 Q27.4968 581.735 27.4968 574.064 Z\" fill=\"#000000\" fill-rule=\"evenodd\" fill-opacity=\"1\" /><path clip-path=\"url(#clip510)\" d=\"M42.4881 518.364 L64.0042 518.364 L64.0042 524.221 L42.679 524.221 Q37.6183 524.221 35.1038 526.194 Q32.5894 528.167 32.5894 532.114 Q32.5894 536.857 35.6131 539.594 Q38.6368 542.331 43.8567 542.331 L64.0042 542.331 L64.0042 548.219 L28.3562 548.219 L28.3562 542.331 L33.8944 542.331 Q30.6797 540.23 29.0883 537.398 Q27.4968 534.533 27.4968 530.809 Q27.4968 524.666 31.3163 521.515 Q35.1038 518.364 42.4881 518.364 Z\" fill=\"#000000\" fill-rule=\"evenodd\" fill-opacity=\"1\" /><polyline clip-path=\"url(#clip512)\" style=\"stroke:#ff0000; stroke-linecap:butt; stroke-linejoin:round; stroke-width:12; stroke-opacity:1; fill:none\" points=\"\n",
       "  418.789,86.1857 457.108,336.188 495.427,537.047 533.746,698.624 572.065,828.753 610.384,933.672 648.704,1018.35 687.023,1086.77 725.342,1142.1 763.661,1186.89 \n",
       "  801.98,1223.19 840.299,1252.63 878.618,1276.53 916.938,1295.96 955.257,1311.76 993.576,1324.63 1031.89,1335.13 1070.21,1343.7 1108.53,1350.71 1146.85,1356.45 \n",
       "  1185.17,1361.15 1223.49,1365.02 1261.81,1368.2 1300.13,1370.82 1338.45,1372.99 1376.77,1374.79 1415.09,1376.28 1453.41,1377.52 1491.72,1378.55 1530.04,1379.42 \n",
       "  1568.36,1380.15 1606.68,1380.76 1645,1381.28 1683.32,1381.72 1721.64,1382.09 1759.96,1382.41 1798.28,1382.69 1836.6,1382.93 1874.92,1383.13 1913.24,1383.31 \n",
       "  1951.55,1383.46 1989.87,1383.6 2028.19,1383.72 2066.51,1383.82 2104.83,1383.91 2143.15,1383.99 2181.47,1384.06 2219.79,1384.13 2258.11,1384.19 2296.43,1384.24 \n",
       "  \n",
       "  \"/>\n",
       "<path clip-path=\"url(#clip510)\" d=\"\n",
       "M2012.84 196.789 L2286.41 196.789 L2286.41 93.1086 L2012.84 93.1086  Z\n",
       "  \" fill=\"#ffffff\" fill-rule=\"evenodd\" fill-opacity=\"1\"/>\n",
       "<polyline clip-path=\"url(#clip510)\" style=\"stroke:#000000; stroke-linecap:butt; stroke-linejoin:round; stroke-width:4; stroke-opacity:1; fill:none\" points=\"\n",
       "  2012.84,196.789 2286.41,196.789 2286.41,93.1086 2012.84,93.1086 2012.84,196.789 \n",
       "  \"/>\n",
       "<polyline clip-path=\"url(#clip510)\" style=\"stroke:#ff0000; stroke-linecap:butt; stroke-linejoin:round; stroke-width:4; stroke-opacity:1; fill:none\" points=\"\n",
       "  2034.95,144.949 2167.64,144.949 \n",
       "  \"/>\n",
       "<path clip-path=\"url(#clip510)\" d=\"M2203.6 164.636 Q2201.79 169.266 2200.08 170.678 Q2198.36 172.09 2195.49 172.09 L2192.09 172.09 L2192.09 168.525 L2194.59 168.525 Q2196.35 168.525 2197.32 167.692 Q2198.3 166.858 2199.48 163.756 L2200.24 161.812 L2189.75 136.303 L2194.27 136.303 L2202.37 156.581 L2210.47 136.303 L2214.98 136.303 L2203.6 164.636 Z\" fill=\"#000000\" fill-rule=\"evenodd\" fill-opacity=\"1\" /><path clip-path=\"url(#clip510)\" d=\"M2222.28 158.293 L2229.92 158.293 L2229.92 131.928 L2221.61 133.595 L2221.61 129.335 L2229.87 127.669 L2234.55 127.669 L2234.55 158.293 L2242.18 158.293 L2242.18 162.229 L2222.28 162.229 L2222.28 158.293 Z\" fill=\"#000000\" fill-rule=\"evenodd\" fill-opacity=\"1\" /></svg>\n"
      ]
     },
     "execution_count": 7,
     "metadata": {},
     "output_type": "execute_result"
    }
   ],
   "source": [
    "Plots.plot(getindex.(result, 1), getindex.(result, 3), linewidth=3, color=:red, \n",
    "        xlabel=\"Iterations\",\n",
    "        ylabel=\"Cost Function\")"
   ]
  },
  {
   "cell_type": "code",
   "execution_count": 59,
   "id": "3fe45695",
   "metadata": {},
   "outputs": [
    {
     "data": {
      "text/plain": [
       "2.0432800506028283e9"
      ]
     },
     "execution_count": 59,
     "metadata": {},
     "output_type": "execute_result"
    }
   ],
   "source": [
    "# Normal equa2on: Method to solve for Theta analytically.\n",
    "\n",
    "XTranspose = X'\n",
    "XTranposeX = XTranspose * X\n",
    "XTranposeXInv = inv(XTranposeX)\n",
    "Theta = (XTranposeXInv * XTranspose) * y\n",
    "CostFunction(X, y, Theta)"
   ]
  },
  {
   "cell_type": "code",
   "execution_count": 62,
   "id": "3077805e",
   "metadata": {},
   "outputs": [
    {
     "data": {
      "text/plain": [
       "1-element Vector{Float64}:\n",
       " 293081.46433489624"
      ]
     },
     "execution_count": 62,
     "metadata": {},
     "output_type": "execute_result"
    }
   ],
   "source": [
    "mu_sqft = mean(C.sqft)\n",
    "mu_bedrooms = mean(C.bedrooms)\n",
    "std_sqft = std(C.sqft)\n",
    "std_bedrooms = std(C.bedrooms)\n",
    "\n",
    "# Now, once you have found θ using this method, use it to make a price prediction for a 1650-square-foot house with 3 bedrooms.\n",
    "\n",
    "normalize1650sqft = (1650 - mu_sqft)/std_sqft\n",
    "normalize3br = (3 - mu_bedrooms)/std_bedrooms\n",
    "\n",
    "predicted_price = [1 normalize1650sqft normalize3br] * Theta"
   ]
  },
  {
   "cell_type": "code",
   "execution_count": 68,
   "id": "324e554d",
   "metadata": {},
   "outputs": [
    {
     "data": {
      "text/plain": [
       "1-element Vector{Float64}:\n",
       " 292748.0852321537"
      ]
     },
     "execution_count": 68,
     "metadata": {},
     "output_type": "execute_result"
    }
   ],
   "source": [
    "predicted_price_using_gradient = [1 normalize1650sqft normalize3br] * result[iterations][2]"
   ]
  }
 ],
 "metadata": {
  "@webio": {
   "lastCommId": "66bd56cb10f646e38c880fe50dac2651",
   "lastKernelId": "c2d86d73-c24b-4a59-b5a2-0e05118ce6f8"
  },
  "kernelspec": {
   "display_name": "Julia 1.6.4",
   "language": "julia",
   "name": "julia-1.6"
  },
  "language_info": {
   "file_extension": ".jl",
   "mimetype": "application/julia",
   "name": "julia",
   "version": "1.6.4"
  }
 },
 "nbformat": 4,
 "nbformat_minor": 5
}
