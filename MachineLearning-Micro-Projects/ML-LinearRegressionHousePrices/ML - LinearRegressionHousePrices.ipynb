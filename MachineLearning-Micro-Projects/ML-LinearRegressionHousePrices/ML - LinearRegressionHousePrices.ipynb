{
 "cells": [
  {
   "cell_type": "markdown",
   "id": "623e9327",
   "metadata": {},
   "source": [
    "Try to predict a value based on two or more variables - model the relationship between two or more explanatory variables and a response variable by fitting a linear equation to observed data.\n",
    "\n",
    "### Linear regression with multiple variables"
   ]
  },
  {
   "cell_type": "code",
   "execution_count": 1,
   "id": "62676307",
   "metadata": {},
   "outputs": [
    {
     "name": "stdout",
     "output_type": "stream",
     "text": [
      "Linear regression with multiple variable:\n"
     ]
    }
   ],
   "source": [
    "println(\"Linear regression with multiple variable:\")"
   ]
  },
  {
   "cell_type": "markdown",
   "id": "85ec15e1",
   "metadata": {},
   "source": [
    "We load important packages that will help us do this in Julia"
   ]
  },
  {
   "cell_type": "code",
   "execution_count": 4,
   "id": "bfab74b5",
   "metadata": {},
   "outputs": [
    {
     "data": {
      "text/plain": [
       "Plots.GRBackend()"
      ]
     },
     "execution_count": 4,
     "metadata": {},
     "output_type": "execute_result"
    }
   ],
   "source": [
    "using CSV\n",
    "using DataFrames\n",
    "using Plots\n",
    "using ForwardDiff\n",
    "using PlotlyJS\n",
    "using WebIO\n",
    "using Statistics\n",
    "\n",
    "gr()\n",
    "Plots.GRBackend()\n",
    "Plots.gr() # I prefer the default GR backend "
   ]
  },
  {
   "cell_type": "markdown",
   "id": "395aaa83",
   "metadata": {},
   "source": [
    "Our goal in this exercise is know what a good market price for a house would be — based on the the size of the house and the number of bedrooms. So, there are 2 features\n",
    "\n",
    "Load the data file ex1data2.csv — The first column is the size of the house (in square feet), the second column is the number of bedrooms, and the third column is the price of the house.\n"
   ]
  },
  {
   "cell_type": "code",
   "execution_count": 6,
   "id": "ba19c1be",
   "metadata": {},
   "outputs": [
    {
     "data": {
      "text/html": [
       "<div class=\"data-frame\"><p>47 rows × 3 columns</p><table class=\"data-frame\"><thead><tr><th></th><th>sqft</th><th>bedrooms</th><th>price</th></tr><tr><th></th><th title=\"Int64\">Int64</th><th title=\"Int64\">Int64</th><th title=\"Int64\">Int64</th></tr></thead><tbody><tr><th>1</th><td>2104</td><td>3</td><td>399900</td></tr><tr><th>2</th><td>1600</td><td>3</td><td>329900</td></tr><tr><th>3</th><td>2400</td><td>3</td><td>369000</td></tr><tr><th>4</th><td>1416</td><td>2</td><td>232000</td></tr><tr><th>5</th><td>3000</td><td>4</td><td>539900</td></tr><tr><th>6</th><td>1985</td><td>4</td><td>299900</td></tr><tr><th>7</th><td>1534</td><td>3</td><td>314900</td></tr><tr><th>8</th><td>1427</td><td>3</td><td>198999</td></tr><tr><th>9</th><td>1380</td><td>3</td><td>212000</td></tr><tr><th>10</th><td>1494</td><td>3</td><td>242500</td></tr><tr><th>11</th><td>1940</td><td>4</td><td>239999</td></tr><tr><th>12</th><td>2000</td><td>3</td><td>347000</td></tr><tr><th>13</th><td>1890</td><td>3</td><td>329999</td></tr><tr><th>14</th><td>4478</td><td>5</td><td>699900</td></tr><tr><th>15</th><td>1268</td><td>3</td><td>259900</td></tr><tr><th>16</th><td>2300</td><td>4</td><td>449900</td></tr><tr><th>17</th><td>1320</td><td>2</td><td>299900</td></tr><tr><th>18</th><td>1236</td><td>3</td><td>199900</td></tr><tr><th>19</th><td>2609</td><td>4</td><td>499998</td></tr><tr><th>20</th><td>3031</td><td>4</td><td>599000</td></tr><tr><th>21</th><td>1767</td><td>3</td><td>252900</td></tr><tr><th>22</th><td>1888</td><td>2</td><td>255000</td></tr><tr><th>23</th><td>1604</td><td>3</td><td>242900</td></tr><tr><th>24</th><td>1962</td><td>4</td><td>259900</td></tr><tr><th>25</th><td>3890</td><td>3</td><td>573900</td></tr><tr><th>26</th><td>1100</td><td>3</td><td>249900</td></tr><tr><th>27</th><td>1458</td><td>3</td><td>464500</td></tr><tr><th>28</th><td>2526</td><td>3</td><td>469000</td></tr><tr><th>29</th><td>2200</td><td>3</td><td>475000</td></tr><tr><th>30</th><td>2637</td><td>3</td><td>299900</td></tr><tr><th>&vellip;</th><td>&vellip;</td><td>&vellip;</td><td>&vellip;</td></tr></tbody></table></div>"
      ],
      "text/latex": [
       "\\begin{tabular}{r|ccc}\n",
       "\t& sqft & bedrooms & price\\\\\n",
       "\t\\hline\n",
       "\t& Int64 & Int64 & Int64\\\\\n",
       "\t\\hline\n",
       "\t1 & 2104 & 3 & 399900 \\\\\n",
       "\t2 & 1600 & 3 & 329900 \\\\\n",
       "\t3 & 2400 & 3 & 369000 \\\\\n",
       "\t4 & 1416 & 2 & 232000 \\\\\n",
       "\t5 & 3000 & 4 & 539900 \\\\\n",
       "\t6 & 1985 & 4 & 299900 \\\\\n",
       "\t7 & 1534 & 3 & 314900 \\\\\n",
       "\t8 & 1427 & 3 & 198999 \\\\\n",
       "\t9 & 1380 & 3 & 212000 \\\\\n",
       "\t10 & 1494 & 3 & 242500 \\\\\n",
       "\t11 & 1940 & 4 & 239999 \\\\\n",
       "\t12 & 2000 & 3 & 347000 \\\\\n",
       "\t13 & 1890 & 3 & 329999 \\\\\n",
       "\t14 & 4478 & 5 & 699900 \\\\\n",
       "\t15 & 1268 & 3 & 259900 \\\\\n",
       "\t16 & 2300 & 4 & 449900 \\\\\n",
       "\t17 & 1320 & 2 & 299900 \\\\\n",
       "\t18 & 1236 & 3 & 199900 \\\\\n",
       "\t19 & 2609 & 4 & 499998 \\\\\n",
       "\t20 & 3031 & 4 & 599000 \\\\\n",
       "\t21 & 1767 & 3 & 252900 \\\\\n",
       "\t22 & 1888 & 2 & 255000 \\\\\n",
       "\t23 & 1604 & 3 & 242900 \\\\\n",
       "\t24 & 1962 & 4 & 259900 \\\\\n",
       "\t25 & 3890 & 3 & 573900 \\\\\n",
       "\t26 & 1100 & 3 & 249900 \\\\\n",
       "\t27 & 1458 & 3 & 464500 \\\\\n",
       "\t28 & 2526 & 3 & 469000 \\\\\n",
       "\t29 & 2200 & 3 & 475000 \\\\\n",
       "\t30 & 2637 & 3 & 299900 \\\\\n",
       "\t$\\dots$ & $\\dots$ & $\\dots$ & $\\dots$ \\\\\n",
       "\\end{tabular}\n"
      ],
      "text/plain": [
       "\u001b[1m47×3 DataFrame\u001b[0m\n",
       "\u001b[1m Row \u001b[0m│\u001b[1m sqft  \u001b[0m\u001b[1m bedrooms \u001b[0m\u001b[1m price  \u001b[0m\n",
       "\u001b[1m     \u001b[0m│\u001b[90m Int64 \u001b[0m\u001b[90m Int64    \u001b[0m\u001b[90m Int64  \u001b[0m\n",
       "─────┼─────────────────────────\n",
       "   1 │  2104         3  399900\n",
       "   2 │  1600         3  329900\n",
       "   3 │  2400         3  369000\n",
       "   4 │  1416         2  232000\n",
       "   5 │  3000         4  539900\n",
       "   6 │  1985         4  299900\n",
       "   7 │  1534         3  314900\n",
       "   8 │  1427         3  198999\n",
       "   9 │  1380         3  212000\n",
       "  10 │  1494         3  242500\n",
       "  11 │  1940         4  239999\n",
       "  ⋮  │   ⋮       ⋮        ⋮\n",
       "  38 │  2132         4  345000\n",
       "  39 │  4215         4  549000\n",
       "  40 │  2162         4  287000\n",
       "  41 │  1664         2  368500\n",
       "  42 │  2238         3  329900\n",
       "  43 │  2567         4  314000\n",
       "  44 │  1200         3  299000\n",
       "  45 │   852         2  179900\n",
       "  46 │  1852         4  299900\n",
       "  47 │  1203         3  239500\n",
       "\u001b[36m                26 rows omitted\u001b[0m"
      ]
     },
     "execution_count": 6,
     "metadata": {},
     "output_type": "execute_result"
    }
   ],
   "source": [
    "C = CSV.read(\"ex1data2.csv\", DataFrame)"
   ]
  },
  {
   "cell_type": "markdown",
   "id": "a7d111dd",
   "metadata": {},
   "source": [
    "Let's take a look at it after loading"
   ]
  },
  {
   "cell_type": "code",
   "execution_count": 6,
   "id": "85ff6faa",
   "metadata": {
    "scrolled": true
   },
   "outputs": [
    {
     "data": {
      "text/plain": [
       "(47, 3)"
      ]
     },
     "execution_count": 6,
     "metadata": {},
     "output_type": "execute_result"
    }
   ],
   "source": [
    "size(C)\n"
   ]
  },
  {
   "cell_type": "code",
   "execution_count": 7,
   "id": "dd6fbae4",
   "metadata": {},
   "outputs": [
    {
     "data": {
      "text/html": [
       "<div class=\"data-frame\"><p>3 rows × 7 columns</p><table class=\"data-frame\"><thead><tr><th></th><th>variable</th><th>mean</th><th>min</th><th>median</th><th>max</th><th>nmissing</th><th>eltype</th></tr><tr><th></th><th title=\"Symbol\">Symbol</th><th title=\"Float64\">Float64</th><th title=\"Int64\">Int64</th><th title=\"Float64\">Float64</th><th title=\"Int64\">Int64</th><th title=\"Int64\">Int64</th><th title=\"DataType\">DataType</th></tr></thead><tbody><tr><th>1</th><td>sqft</td><td>2000.68</td><td>852</td><td>1888.0</td><td>4478</td><td>0</td><td>Int64</td></tr><tr><th>2</th><td>bedrooms</td><td>3.17021</td><td>1</td><td>3.0</td><td>5</td><td>0</td><td>Int64</td></tr><tr><th>3</th><td>price</td><td>3.40413e5</td><td>169900</td><td>299900.0</td><td>699900</td><td>0</td><td>Int64</td></tr></tbody></table></div>"
      ],
      "text/latex": [
       "\\begin{tabular}{r|ccccccc}\n",
       "\t& variable & mean & min & median & max & nmissing & eltype\\\\\n",
       "\t\\hline\n",
       "\t& Symbol & Float64 & Int64 & Float64 & Int64 & Int64 & DataType\\\\\n",
       "\t\\hline\n",
       "\t1 & sqft & 2000.68 & 852 & 1888.0 & 4478 & 0 & Int64 \\\\\n",
       "\t2 & bedrooms & 3.17021 & 1 & 3.0 & 5 & 0 & Int64 \\\\\n",
       "\t3 & price & 3.40413e5 & 169900 & 299900.0 & 699900 & 0 & Int64 \\\\\n",
       "\\end{tabular}\n"
      ],
      "text/plain": [
       "\u001b[1m3×7 DataFrame\u001b[0m\n",
       "\u001b[1m Row \u001b[0m│\u001b[1m variable \u001b[0m\u001b[1m mean         \u001b[0m\u001b[1m min    \u001b[0m\u001b[1m median   \u001b[0m\u001b[1m max    \u001b[0m\u001b[1m nmissing \u001b[0m\u001b[1m eltype   \u001b[0m\n",
       "\u001b[1m     \u001b[0m│\u001b[90m Symbol   \u001b[0m\u001b[90m Float64      \u001b[0m\u001b[90m Int64  \u001b[0m\u001b[90m Float64  \u001b[0m\u001b[90m Int64  \u001b[0m\u001b[90m Int64    \u001b[0m\u001b[90m DataType \u001b[0m\n",
       "─────┼──────────────────────────────────────────────────────────────────────\n",
       "   1 │ sqft      2000.68          852    1888.0    4478         0  Int64\n",
       "   2 │ bedrooms     3.17021         1       3.0       5         0  Int64\n",
       "   3 │ price        3.40413e5  169900  299900.0  699900         0  Int64"
      ]
     },
     "execution_count": 7,
     "metadata": {},
     "output_type": "execute_result"
    }
   ],
   "source": [
    "describe(C)"
   ]
  },
  {
   "cell_type": "code",
   "execution_count": 9,
   "id": "bd77decb",
   "metadata": {},
   "outputs": [
    {
     "data": {
      "text/plain": [
       "2000.6808510638298"
      ]
     },
     "execution_count": 9,
     "metadata": {},
     "output_type": "execute_result"
    }
   ],
   "source": [
    "mu_sqft = mean(C.sqft)"
   ]
  },
  {
   "cell_type": "code",
   "execution_count": 8,
   "id": "0c78093c",
   "metadata": {},
   "outputs": [
    {
     "data": {
      "text/plain": [
       "3.1702127659574466"
      ]
     },
     "execution_count": 8,
     "metadata": {},
     "output_type": "execute_result"
    }
   ],
   "source": [
    "mu_sqft = mean(C.sqft)\n",
    "mu_bedrooms = mean(C.bedrooms)"
   ]
  },
  {
   "cell_type": "markdown",
   "id": "6ba306ef",
   "metadata": {},
   "source": [
    "By looking at the values, note that house sizes are about 1000 times the number of bedrooms. When features differ by orders of magnitude, first performing feature scaling can make gradient descent converge much more quickly.\n",
    "\n",
    "* Subtract the mean value of each feature from the dataset.\n",
    "* After subtracting the mean, additionally scale (divide) the feature values by their respective “standard deviation\n",
    "\n",
    "This article offers a good background as to Why, How, and When to scale our feature sets:\n",
    "https://medium.com/greyatom/why-how-and-when-to-scale-your-features-4b30ab09db5e"
   ]
  },
  {
   "cell_type": "code",
   "execution_count": 19,
   "id": "9ab7acd9",
   "metadata": {},
   "outputs": [
    {
     "data": {
      "text/plain": [
       "47-element Vector{Float64}:\n",
       " -0.2236751871685913\n",
       " -0.2236751871685913\n",
       " -0.2236751871685913\n",
       " -1.5377669117840669\n",
       "  1.0904165374468842\n",
       "  1.0904165374468842\n",
       " -0.2236751871685913\n",
       " -0.2236751871685913\n",
       " -0.2236751871685913\n",
       " -0.2236751871685913\n",
       "  1.0904165374468842\n",
       " -0.2236751871685913\n",
       " -0.2236751871685913\n",
       "  ⋮\n",
       " -0.2236751871685913\n",
       " -0.2236751871685913\n",
       "  1.0904165374468842\n",
       "  1.0904165374468842\n",
       "  1.0904165374468842\n",
       " -1.5377669117840669\n",
       " -0.2236751871685913\n",
       "  1.0904165374468842\n",
       " -0.2236751871685913\n",
       " -1.5377669117840669\n",
       "  1.0904165374468842\n",
       " -0.2236751871685913"
      ]
     },
     "execution_count": 19,
     "metadata": {},
     "output_type": "execute_result"
    }
   ],
   "source": [
    "mu_sqft = mean(C.sqft)\n",
    "mu_bedrooms = mean(C.bedrooms)\n",
    "std_sqft = std(C.sqft)\n",
    "std_bedrooms = std(C.bedrooms)\n",
    "\n",
    "featureNormalize(x) = (x .- mean(x)) ./ std(x)\n",
    "\n",
    "n_sqft = featureNormalize(C.sqft)\n",
    "n_bedrooms = featureNormalize(C.bedrooms)"
   ]
  },
  {
   "cell_type": "markdown",
   "id": "dcd03c77",
   "metadata": {},
   "source": [
    "A quick scatter plot shows the positive correlation between the size of the hourse and the price of the house — price increase with the increse in the size"
   ]
  },
  {
   "cell_type": "code",
   "execution_count": 16,
   "id": "18e3f2cb",
   "metadata": {},
   "outputs": [],
   "source": [
    "x1 = C.sqft\n",
    "y = C.price\n",
    "gr()\n",
    "price_scatter_size_plot = Plots.plot(x1, y, seriestype = :scatter, title = \"Scatter Plot\", markersize=3,\n",
    "        alpha=.8,\n",
    "        legend=false, \n",
    "        xlabel=\"Home Size - Sq Ft\",\n",
    "        ylabel=\"Price of the home\")\n",
    "\n",
    "Plots.savefig(price_scatter_size_plot, \"Price-Size-Scatter-Plot.png\")"
   ]
  },
  {
   "cell_type": "code",
   "execution_count": 17,
   "id": "8a1e805c",
   "metadata": {},
   "outputs": [],
   "source": [
    "x2 = C.bedrooms\n",
    "y = C.price\n",
    "gr()\n",
    "price_scatter_nbr_plot = Plots.plot(x2, y, seriestype = :scatter, title = \"Scatter Plot\", markersize=3,\n",
    "        alpha=.8,\n",
    "        legend=false, \n",
    "        xlabel=\"Number of bedrooms\",\n",
    "        ylabel=\"Price of the home\")\n",
    "\n",
    "Plots.savefig(price_scatter_nbr_plot, \"Price-NoBedrooms-Scatter-Plot.png\")"
   ]
  },
  {
   "cell_type": "markdown",
   "id": "25aead19",
   "metadata": {},
   "source": [
    "We applye the batch gradient descent to our formulation"
   ]
  },
  {
   "cell_type": "code",
   "execution_count": 20,
   "id": "bbc53970",
   "metadata": {},
   "outputs": [
    {
     "name": "stdout",
     "output_type": "stream",
     "text": [
      "Parameter theta: [338658.2492492952, 104127.51559689779, -172.20533370781607]\n",
      "Minimized Cost Function: 2.0629614180859683e9\n",
      "Last Element: (50, [338658.2492492952, 104127.51559689779, -172.20533370781607], 2.0629614180859683e9)\n"
     ]
    }
   ],
   "source": [
    "#n_sqft = featureNormalize(C.sqft)\n",
    "#n_bedrooms = featureNormalize(C.bedrooms)\n",
    "\n",
    "m = length(y)\n",
    "x0 = ones(m, 1)\n",
    "X = hcat(x0, n_sqft, n_bedrooms);\n",
    "\n",
    "# define cost function J\n",
    "function CostFunction(X, y, theta)\n",
    "    JTheta = (1 / (2 * m)) * (sum((X * theta - y) .^ 2))\n",
    "    return JTheta\n",
    "end\n",
    "\n",
    "thetaInitial = zeros(3)\n",
    "#CostFunction(X, y, thetaInitial)\n",
    "\n",
    "# Gradinet Descent\n",
    "\n",
    "iterations = 50;\n",
    "alpha = 0.1;\n",
    "\n",
    "result = []\n",
    "\n",
    "\n",
    "f(theta::Vector)::Real = CostFunction(X, y, theta)\n",
    "g = x -> ForwardDiff.gradient(f, theta); # g = ∇f\n",
    "\n",
    "theta = thetaInitial\n",
    "\n",
    "for i = 1:iterations\n",
    "    theta = theta - alpha * g(theta)\n",
    "    push!(result, (i, theta, f(theta)))\n",
    "end\n",
    "\n",
    "println(\"Parameter theta: \", theta)\n",
    "println(\"Minimized Cost Function: \", f(theta))\n",
    "println(\"Last Element: \", result[iterations])"
   ]
  },
  {
   "cell_type": "code",
   "execution_count": 21,
   "id": "cf3c2e18",
   "metadata": {},
   "outputs": [
    {
     "data": {
      "text/plain": [
       "3-element Vector{Float64}:\n",
       " 338658.2492492952\n",
       " 104127.51559689779\n",
       "   -172.20533370781607"
      ]
     },
     "execution_count": 21,
     "metadata": {},
     "output_type": "execute_result"
    }
   ],
   "source": [
    "result[iterations][2]"
   ]
  },
  {
   "cell_type": "code",
   "execution_count": 25,
   "id": "253da6f3",
   "metadata": {},
   "outputs": [],
   "source": [
    "cost_function_iteration_plot = Plots.plot(getindex.(result, 1), getindex.(result, 3), linewidth=3, color=:red, \n",
    "        xlabel=\"Iterations\",\n",
    "        ylabel=\"Cost Function\")\n",
    "\n",
    "Plots.savefig(cost_function_iteration_plot, \"Cost-Function-Iteration-Plot.png\")"
   ]
  },
  {
   "cell_type": "code",
   "execution_count": 26,
   "id": "3fe45695",
   "metadata": {},
   "outputs": [
    {
     "data": {
      "text/plain": [
       "2.0432800506028283e9"
      ]
     },
     "execution_count": 26,
     "metadata": {},
     "output_type": "execute_result"
    }
   ],
   "source": [
    "# Normal equa2on: Method to solve for Theta analytically.\n",
    "\n",
    "XTranspose = X'\n",
    "XTranposeX = XTranspose * X\n",
    "XTranposeXInv = inv(XTranposeX)\n",
    "Theta = (XTranposeXInv * XTranspose) * y\n",
    "CostFunction(X, y, Theta)"
   ]
  },
  {
   "cell_type": "markdown",
   "id": "a3b8bce5",
   "metadata": {},
   "source": [
    "Now, once you have found parameter θ using this method, use it to make a price prediction for a 1650-square-foot house with 3 bedrooms.\n",
    "\n"
   ]
  },
  {
   "cell_type": "code",
   "execution_count": 24,
   "id": "3077805e",
   "metadata": {},
   "outputs": [
    {
     "data": {
      "text/plain": [
       "1-element Vector{Float64}:\n",
       " 293081.46433489624"
      ]
     },
     "execution_count": 24,
     "metadata": {},
     "output_type": "execute_result"
    }
   ],
   "source": [
    "mu_sqft = mean(C.sqft)\n",
    "mu_bedrooms = mean(C.bedrooms)\n",
    "std_sqft = std(C.sqft)\n",
    "std_bedrooms = std(C.bedrooms)\n",
    "\n",
    "# Now, once you have found θ using this method, use it to make a price prediction for a 1650-square-foot house with 3 bedrooms.\n",
    "\n",
    "normalize1650sqft = (1650 - mu_sqft)/std_sqft\n",
    "normalize3br = (3 - mu_bedrooms)/std_bedrooms\n",
    "\n",
    "predicted_price = [1 normalize1650sqft normalize3br] * Theta"
   ]
  },
  {
   "cell_type": "code",
   "execution_count": 68,
   "id": "324e554d",
   "metadata": {},
   "outputs": [
    {
     "data": {
      "text/plain": [
       "1-element Vector{Float64}:\n",
       " 292748.0852321537"
      ]
     },
     "execution_count": 68,
     "metadata": {},
     "output_type": "execute_result"
    }
   ],
   "source": [
    "predicted_price_using_gradient = [1 normalize1650sqft normalize3br] * result[iterations][2]"
   ]
  }
 ],
 "metadata": {
  "@webio": {
   "lastCommId": "66bd56cb10f646e38c880fe50dac2651",
   "lastKernelId": "c2d86d73-c24b-4a59-b5a2-0e05118ce6f8"
  },
  "kernelspec": {
   "display_name": "Julia 1.6.4",
   "language": "julia",
   "name": "julia-1.6"
  },
  "language_info": {
   "file_extension": ".jl",
   "mimetype": "application/julia",
   "name": "julia",
   "version": "1.6.4"
  }
 },
 "nbformat": 4,
 "nbformat_minor": 5
}
