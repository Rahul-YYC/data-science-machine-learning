{
 "cells": [
  {
   "cell_type": "markdown",
   "id": "4920c5ab",
   "metadata": {},
   "source": [
    "This implementation is motivated by the Machine Learning online class taught by Professor Andrew Ng.\n",
    "\n",
    "I am implementing this example in the Julia programming language. I have prior experience working with Python and R and transition to Julia seems to be relatively straight forward. So, I am excited.\n",
    "\n",
    "I watched the presentation that Alan Edelman (co-founder) did \n",
    "https://www.youtube.com/watch?v=rZS2LGiurKY&t=497s and that peaked my interest.\n",
    "\n",
    "I also read - Why We Created Julia article in the 2012 blogpost. https://julialang.org/blog/2012/02/why-we-created-julia/"
   ]
  },
  {
   "cell_type": "code",
   "execution_count": 1,
   "id": "perfect-glance",
   "metadata": {},
   "outputs": [
    {
     "name": "stdout",
     "output_type": "stream",
     "text": [
      "Linear regression - one variable - Predict profits for a food truck\n"
     ]
    }
   ],
   "source": [
    "println(\"Linear regression - one variable - Predict profits for a food truck\")"
   ]
  },
  {
   "cell_type": "markdown",
   "id": "b37ebe22",
   "metadata": {},
   "source": [
    "We need to load following library modules into our environment to use a particular module or function. We use them at different stages of implementation, but I declared them at the top for clarity"
   ]
  },
  {
   "cell_type": "code",
   "execution_count": 3,
   "id": "abstract-abuse",
   "metadata": {},
   "outputs": [
    {
     "data": {
      "text/plain": [
       "Plots.GRBackend()"
      ]
     },
     "execution_count": 3,
     "metadata": {},
     "output_type": "execute_result"
    }
   ],
   "source": [
    "using CSV\n",
    "using DataFrames\n",
    "using Plots\n",
    "using ForwardDiff\n",
    "using PlotlyJS\n",
    "using WebIO\n",
    "\n",
    "gr()\n",
    "Plots.GRBackend()\n",
    "Plots.gr() # I prefer the default GR backend "
   ]
  },
  {
   "cell_type": "markdown",
   "id": "ea126578",
   "metadata": {},
   "source": [
    "We can get a quick look at the data stored inside the ex1data1.csv file"
   ]
  },
  {
   "cell_type": "code",
   "execution_count": 4,
   "id": "parental-husband",
   "metadata": {},
   "outputs": [
    {
     "name": "stdout",
     "output_type": "stream",
     "text": [
      "population,profit\n",
      "6.1101,17.592\n",
      "5.5277,9.1302\n",
      "8.5186,13.662\n",
      "7.0032,11.854\n",
      "5.8598,6.8233\n",
      "8.3829,11.886\n",
      "7.4764,4.3483\n",
      "8.5781,12\n",
      "6.4862,6.5987\n"
     ]
    }
   ],
   "source": [
    ";head ex1data1.csv"
   ]
  },
  {
   "cell_type": "markdown",
   "id": "3005e196",
   "metadata": {},
   "source": [
    "Next, we load the data into the DataFrame using CSV.jl package:\n",
    "\n",
    "https://csv.juliadata.org/stable/"
   ]
  },
  {
   "cell_type": "code",
   "execution_count": 7,
   "id": "rotary-builder",
   "metadata": {},
   "outputs": [
    {
     "data": {
      "text/html": [
       "<div class=\"data-frame\"><p>97 rows × 2 columns</p><table class=\"data-frame\"><thead><tr><th></th><th>population</th><th>profit</th></tr><tr><th></th><th title=\"Float64\">Float64</th><th title=\"Float64\">Float64</th></tr></thead><tbody><tr><th>1</th><td>6.1101</td><td>17.592</td></tr><tr><th>2</th><td>5.5277</td><td>9.1302</td></tr><tr><th>3</th><td>8.5186</td><td>13.662</td></tr><tr><th>4</th><td>7.0032</td><td>11.854</td></tr><tr><th>5</th><td>5.8598</td><td>6.8233</td></tr><tr><th>6</th><td>8.3829</td><td>11.886</td></tr><tr><th>7</th><td>7.4764</td><td>4.3483</td></tr><tr><th>8</th><td>8.5781</td><td>12.0</td></tr><tr><th>9</th><td>6.4862</td><td>6.5987</td></tr><tr><th>10</th><td>5.0546</td><td>3.8166</td></tr><tr><th>11</th><td>5.7107</td><td>3.2522</td></tr><tr><th>12</th><td>14.164</td><td>15.505</td></tr><tr><th>13</th><td>5.734</td><td>3.1551</td></tr><tr><th>14</th><td>8.4084</td><td>7.2258</td></tr><tr><th>15</th><td>5.6407</td><td>0.71618</td></tr><tr><th>16</th><td>5.3794</td><td>3.5129</td></tr><tr><th>17</th><td>6.3654</td><td>5.3048</td></tr><tr><th>18</th><td>5.1301</td><td>0.56077</td></tr><tr><th>19</th><td>6.4296</td><td>3.6518</td></tr><tr><th>20</th><td>7.0708</td><td>5.3893</td></tr><tr><th>21</th><td>6.1891</td><td>3.1386</td></tr><tr><th>22</th><td>20.27</td><td>21.767</td></tr><tr><th>23</th><td>5.4901</td><td>4.263</td></tr><tr><th>24</th><td>6.3261</td><td>5.1875</td></tr><tr><th>25</th><td>5.5649</td><td>3.0825</td></tr><tr><th>26</th><td>18.945</td><td>22.638</td></tr><tr><th>27</th><td>12.828</td><td>13.501</td></tr><tr><th>28</th><td>10.957</td><td>7.0467</td></tr><tr><th>29</th><td>13.176</td><td>14.692</td></tr><tr><th>30</th><td>22.203</td><td>24.147</td></tr><tr><th>&vellip;</th><td>&vellip;</td><td>&vellip;</td></tr></tbody></table></div>"
      ],
      "text/latex": [
       "\\begin{tabular}{r|cc}\n",
       "\t& population & profit\\\\\n",
       "\t\\hline\n",
       "\t& Float64 & Float64\\\\\n",
       "\t\\hline\n",
       "\t1 & 6.1101 & 17.592 \\\\\n",
       "\t2 & 5.5277 & 9.1302 \\\\\n",
       "\t3 & 8.5186 & 13.662 \\\\\n",
       "\t4 & 7.0032 & 11.854 \\\\\n",
       "\t5 & 5.8598 & 6.8233 \\\\\n",
       "\t6 & 8.3829 & 11.886 \\\\\n",
       "\t7 & 7.4764 & 4.3483 \\\\\n",
       "\t8 & 8.5781 & 12.0 \\\\\n",
       "\t9 & 6.4862 & 6.5987 \\\\\n",
       "\t10 & 5.0546 & 3.8166 \\\\\n",
       "\t11 & 5.7107 & 3.2522 \\\\\n",
       "\t12 & 14.164 & 15.505 \\\\\n",
       "\t13 & 5.734 & 3.1551 \\\\\n",
       "\t14 & 8.4084 & 7.2258 \\\\\n",
       "\t15 & 5.6407 & 0.71618 \\\\\n",
       "\t16 & 5.3794 & 3.5129 \\\\\n",
       "\t17 & 6.3654 & 5.3048 \\\\\n",
       "\t18 & 5.1301 & 0.56077 \\\\\n",
       "\t19 & 6.4296 & 3.6518 \\\\\n",
       "\t20 & 7.0708 & 5.3893 \\\\\n",
       "\t21 & 6.1891 & 3.1386 \\\\\n",
       "\t22 & 20.27 & 21.767 \\\\\n",
       "\t23 & 5.4901 & 4.263 \\\\\n",
       "\t24 & 6.3261 & 5.1875 \\\\\n",
       "\t25 & 5.5649 & 3.0825 \\\\\n",
       "\t26 & 18.945 & 22.638 \\\\\n",
       "\t27 & 12.828 & 13.501 \\\\\n",
       "\t28 & 10.957 & 7.0467 \\\\\n",
       "\t29 & 13.176 & 14.692 \\\\\n",
       "\t30 & 22.203 & 24.147 \\\\\n",
       "\t$\\dots$ & $\\dots$ & $\\dots$ \\\\\n",
       "\\end{tabular}\n"
      ],
      "text/plain": [
       "\u001b[1m97×2 DataFrame\u001b[0m\n",
       "\u001b[1m Row \u001b[0m│\u001b[1m population \u001b[0m\u001b[1m profit   \u001b[0m\n",
       "\u001b[1m     \u001b[0m│\u001b[90m Float64    \u001b[0m\u001b[90m Float64  \u001b[0m\n",
       "─────┼──────────────────────\n",
       "   1 │     6.1101  17.592\n",
       "   2 │     5.5277   9.1302\n",
       "   3 │     8.5186  13.662\n",
       "   4 │     7.0032  11.854\n",
       "   5 │     5.8598   6.8233\n",
       "   6 │     8.3829  11.886\n",
       "   7 │     7.4764   4.3483\n",
       "   8 │     8.5781  12.0\n",
       "   9 │     6.4862   6.5987\n",
       "  10 │     5.0546   3.8166\n",
       "  11 │     5.7107   3.2522\n",
       "  ⋮  │     ⋮          ⋮\n",
       "  88 │     6.002    0.92695\n",
       "  89 │     5.5204   0.152\n",
       "  90 │     5.0594   2.8214\n",
       "  91 │     5.7077   1.8451\n",
       "  92 │     7.6366   4.2959\n",
       "  93 │     5.8707   7.2029\n",
       "  94 │     5.3054   1.9869\n",
       "  95 │     8.2934   0.14454\n",
       "  96 │    13.394    9.0551\n",
       "  97 │     5.4369   0.61705\n",
       "\u001b[36m             76 rows omitted\u001b[0m"
      ]
     },
     "execution_count": 7,
     "metadata": {},
     "output_type": "execute_result"
    }
   ],
   "source": [
    "C = CSV.read(\"ex1data1.csv\", DataFrame)"
   ]
  },
  {
   "cell_type": "markdown",
   "id": "a3ed7b0a",
   "metadata": {},
   "source": [
    "The problem is posed as : You are considering different cities for opening a new outlet. The chain already has trucks in various cities and you have data for profits and populations from the cities."
   ]
  },
  {
   "cell_type": "markdown",
   "id": "d813db97",
   "metadata": {},
   "source": [
    "**@show** — Prints one or more expressions, and their results, to stdout, and returns the last result."
   ]
  },
  {
   "cell_type": "code",
   "execution_count": 8,
   "id": "liked-packing",
   "metadata": {},
   "outputs": [
    {
     "name": "stdout",
     "output_type": "stream",
     "text": [
      "typeof(C) = DataFrame\n"
     ]
    },
    {
     "data": {
      "text/plain": [
       "97-element Vector{Float64}:\n",
       " 17.592\n",
       "  9.1302\n",
       " 13.662\n",
       " 11.854\n",
       "  6.8233\n",
       " 11.886\n",
       "  4.3483\n",
       " 12.0\n",
       "  6.5987\n",
       "  3.8166\n",
       "  3.2522\n",
       " 15.505\n",
       "  3.1551\n",
       "  ⋮\n",
       "  4.2415\n",
       "  6.7981\n",
       "  0.92695\n",
       "  0.152\n",
       "  2.8214\n",
       "  1.8451\n",
       "  4.2959\n",
       "  7.2029\n",
       "  1.9869\n",
       "  0.14454\n",
       "  9.0551\n",
       "  0.61705"
      ]
     },
     "execution_count": 8,
     "metadata": {},
     "output_type": "execute_result"
    }
   ],
   "source": [
    "@show typeof(C)\n",
    "C[1:10, :]\n",
    "C.profit\n",
    "#C[!,:population]"
   ]
  },
  {
   "cell_type": "markdown",
   "id": "27928fb5",
   "metadata": {},
   "source": [
    "names function — Return a freshly allocated Vector{String} of names of columns contained in df.\n",
    "\n",
    "https://dataframes.juliadata.org/stable/lib/functions/#Base.names"
   ]
  },
  {
   "cell_type": "code",
   "execution_count": 9,
   "id": "vertical-recycling",
   "metadata": {},
   "outputs": [
    {
     "data": {
      "text/plain": [
       "2-element Vector{String}:\n",
       " \"population\"\n",
       " \"profit\""
      ]
     },
     "execution_count": 9,
     "metadata": {},
     "output_type": "execute_result"
    }
   ],
   "source": [
    "names(C)"
   ]
  },
  {
   "cell_type": "markdown",
   "id": "7c9caa04",
   "metadata": {},
   "source": [
    "Return descriptive statistics for a data frame as a new DataFrame where each row represents a variable and each column a summary statistic."
   ]
  },
  {
   "cell_type": "code",
   "execution_count": 10,
   "id": "alert-verse",
   "metadata": {},
   "outputs": [
    {
     "data": {
      "text/html": [
       "<div class=\"data-frame\"><p>2 rows × 7 columns</p><table class=\"data-frame\"><thead><tr><th></th><th>variable</th><th>mean</th><th>min</th><th>median</th><th>max</th><th>nmissing</th><th>eltype</th></tr><tr><th></th><th title=\"Symbol\">Symbol</th><th title=\"Float64\">Float64</th><th title=\"Float64\">Float64</th><th title=\"Float64\">Float64</th><th title=\"Float64\">Float64</th><th title=\"Int64\">Int64</th><th title=\"DataType\">DataType</th></tr></thead><tbody><tr><th>1</th><td>population</td><td>8.1598</td><td>5.0269</td><td>6.5894</td><td>22.203</td><td>0</td><td>Float64</td></tr><tr><th>2</th><td>profit</td><td>5.83914</td><td>-2.6807</td><td>4.5623</td><td>24.147</td><td>0</td><td>Float64</td></tr></tbody></table></div>"
      ],
      "text/latex": [
       "\\begin{tabular}{r|ccccccc}\n",
       "\t& variable & mean & min & median & max & nmissing & eltype\\\\\n",
       "\t\\hline\n",
       "\t& Symbol & Float64 & Float64 & Float64 & Float64 & Int64 & DataType\\\\\n",
       "\t\\hline\n",
       "\t1 & population & 8.1598 & 5.0269 & 6.5894 & 22.203 & 0 & Float64 \\\\\n",
       "\t2 & profit & 5.83914 & -2.6807 & 4.5623 & 24.147 & 0 & Float64 \\\\\n",
       "\\end{tabular}\n"
      ],
      "text/plain": [
       "\u001b[1m2×7 DataFrame\u001b[0m\n",
       "\u001b[1m Row \u001b[0m│\u001b[1m variable   \u001b[0m\u001b[1m mean    \u001b[0m\u001b[1m min     \u001b[0m\u001b[1m median  \u001b[0m\u001b[1m max     \u001b[0m\u001b[1m nmissing \u001b[0m\u001b[1m eltype   \u001b[0m\n",
       "\u001b[1m     \u001b[0m│\u001b[90m Symbol     \u001b[0m\u001b[90m Float64 \u001b[0m\u001b[90m Float64 \u001b[0m\u001b[90m Float64 \u001b[0m\u001b[90m Float64 \u001b[0m\u001b[90m Int64    \u001b[0m\u001b[90m DataType \u001b[0m\n",
       "─────┼────────────────────────────────────────────────────────────────────\n",
       "   1 │ population  8.1598    5.0269   6.5894   22.203         0  Float64\n",
       "   2 │ profit      5.83914  -2.6807   4.5623   24.147         0  Float64"
      ]
     },
     "execution_count": 10,
     "metadata": {},
     "output_type": "execute_result"
    }
   ],
   "source": [
    "describe(C)"
   ]
  },
  {
   "cell_type": "code",
   "execution_count": 11,
   "id": "statewide-fight",
   "metadata": {},
   "outputs": [
    {
     "data": {
      "text/html": [
       "<p>DataFrameRow (2 columns)</p><div class=\"data-frame\"><table class=\"data-frame\"><thead><tr><th></th><th>population</th><th>profit</th></tr><tr><th></th><th title=\"Float64\">Float64</th><th title=\"Float64\">Float64</th></tr></thead><tbody><tr><th>1</th><td>6.1101</td><td>17.592</td></tr></tbody></table></div>"
      ],
      "text/latex": [
       "\\begin{tabular}{r|cc}\n",
       "\t& population & profit\\\\\n",
       "\t\\hline\n",
       "\t& Float64 & Float64\\\\\n",
       "\t\\hline\n",
       "\t1 & 6.1101 & 17.592 \\\\\n",
       "\\end{tabular}\n"
      ],
      "text/plain": [
       "\u001b[1mDataFrameRow\u001b[0m\n",
       "\u001b[1m Row \u001b[0m│\u001b[1m population \u001b[0m\u001b[1m profit  \u001b[0m\n",
       "\u001b[1m     \u001b[0m│\u001b[90m Float64    \u001b[0m\u001b[90m Float64 \u001b[0m\n",
       "─────┼─────────────────────\n",
       "   1 │     6.1101   17.592"
      ]
     },
     "execution_count": 11,
     "metadata": {},
     "output_type": "execute_result"
    }
   ],
   "source": [
    "C[1,:]"
   ]
  },
  {
   "cell_type": "markdown",
   "id": "547c4990",
   "metadata": {},
   "source": [
    "Get a data frame with the n first rows of df."
   ]
  },
  {
   "cell_type": "code",
   "execution_count": 13,
   "id": "systematic-white",
   "metadata": {},
   "outputs": [
    {
     "data": {
      "text/html": [
       "<div class=\"data-frame\"><p>10 rows × 2 columns</p><table class=\"data-frame\"><thead><tr><th></th><th>population</th><th>profit</th></tr><tr><th></th><th title=\"Float64\">Float64</th><th title=\"Float64\">Float64</th></tr></thead><tbody><tr><th>1</th><td>6.1101</td><td>17.592</td></tr><tr><th>2</th><td>5.5277</td><td>9.1302</td></tr><tr><th>3</th><td>8.5186</td><td>13.662</td></tr><tr><th>4</th><td>7.0032</td><td>11.854</td></tr><tr><th>5</th><td>5.8598</td><td>6.8233</td></tr><tr><th>6</th><td>8.3829</td><td>11.886</td></tr><tr><th>7</th><td>7.4764</td><td>4.3483</td></tr><tr><th>8</th><td>8.5781</td><td>12.0</td></tr><tr><th>9</th><td>6.4862</td><td>6.5987</td></tr><tr><th>10</th><td>5.0546</td><td>3.8166</td></tr></tbody></table></div>"
      ],
      "text/latex": [
       "\\begin{tabular}{r|cc}\n",
       "\t& population & profit\\\\\n",
       "\t\\hline\n",
       "\t& Float64 & Float64\\\\\n",
       "\t\\hline\n",
       "\t1 & 6.1101 & 17.592 \\\\\n",
       "\t2 & 5.5277 & 9.1302 \\\\\n",
       "\t3 & 8.5186 & 13.662 \\\\\n",
       "\t4 & 7.0032 & 11.854 \\\\\n",
       "\t5 & 5.8598 & 6.8233 \\\\\n",
       "\t6 & 8.3829 & 11.886 \\\\\n",
       "\t7 & 7.4764 & 4.3483 \\\\\n",
       "\t8 & 8.5781 & 12.0 \\\\\n",
       "\t9 & 6.4862 & 6.5987 \\\\\n",
       "\t10 & 5.0546 & 3.8166 \\\\\n",
       "\\end{tabular}\n"
      ],
      "text/plain": [
       "\u001b[1m10×2 DataFrame\u001b[0m\n",
       "\u001b[1m Row \u001b[0m│\u001b[1m population \u001b[0m\u001b[1m profit  \u001b[0m\n",
       "\u001b[1m     \u001b[0m│\u001b[90m Float64    \u001b[0m\u001b[90m Float64 \u001b[0m\n",
       "─────┼─────────────────────\n",
       "   1 │     6.1101  17.592\n",
       "   2 │     5.5277   9.1302\n",
       "   3 │     8.5186  13.662\n",
       "   4 │     7.0032  11.854\n",
       "   5 │     5.8598   6.8233\n",
       "   6 │     8.3829  11.886\n",
       "   7 │     7.4764   4.3483\n",
       "   8 │     8.5781  12.0\n",
       "   9 │     6.4862   6.5987\n",
       "  10 │     5.0546   3.8166"
      ]
     },
     "execution_count": 13,
     "metadata": {},
     "output_type": "execute_result"
    }
   ],
   "source": [
    "first(C, 10)"
   ]
  },
  {
   "cell_type": "markdown",
   "id": "7ff94458",
   "metadata": {},
   "source": [
    "Get a data frame with the n last rows of df."
   ]
  },
  {
   "cell_type": "code",
   "execution_count": 14,
   "id": "republican-journalist",
   "metadata": {
    "scrolled": true
   },
   "outputs": [
    {
     "data": {
      "text/html": [
       "<div class=\"data-frame\"><p>3 rows × 2 columns</p><table class=\"data-frame\"><thead><tr><th></th><th>population</th><th>profit</th></tr><tr><th></th><th title=\"Float64\">Float64</th><th title=\"Float64\">Float64</th></tr></thead><tbody><tr><th>1</th><td>8.2934</td><td>0.14454</td></tr><tr><th>2</th><td>13.394</td><td>9.0551</td></tr><tr><th>3</th><td>5.4369</td><td>0.61705</td></tr></tbody></table></div>"
      ],
      "text/latex": [
       "\\begin{tabular}{r|cc}\n",
       "\t& population & profit\\\\\n",
       "\t\\hline\n",
       "\t& Float64 & Float64\\\\\n",
       "\t\\hline\n",
       "\t1 & 8.2934 & 0.14454 \\\\\n",
       "\t2 & 13.394 & 9.0551 \\\\\n",
       "\t3 & 5.4369 & 0.61705 \\\\\n",
       "\\end{tabular}\n"
      ],
      "text/plain": [
       "\u001b[1m3×2 DataFrame\u001b[0m\n",
       "\u001b[1m Row \u001b[0m│\u001b[1m population \u001b[0m\u001b[1m profit  \u001b[0m\n",
       "\u001b[1m     \u001b[0m│\u001b[90m Float64    \u001b[0m\u001b[90m Float64 \u001b[0m\n",
       "─────┼─────────────────────\n",
       "   1 │     8.2934  0.14454\n",
       "   2 │    13.394   9.0551\n",
       "   3 │     5.4369  0.61705"
      ]
     },
     "execution_count": 14,
     "metadata": {},
     "output_type": "execute_result"
    }
   ],
   "source": [
    "last(C, 3)"
   ]
  },
  {
   "cell_type": "code",
   "execution_count": 15,
   "id": "artificial-metallic",
   "metadata": {},
   "outputs": [
    {
     "data": {
      "text/plain": [
       "2-element Vector{String}:\n",
       " \"population\"\n",
       " \"profit\""
      ]
     },
     "execution_count": 15,
     "metadata": {},
     "output_type": "execute_result"
    }
   ],
   "source": [
    "names(C)"
   ]
  },
  {
   "cell_type": "markdown",
   "id": "f6a0b0a8",
   "metadata": {},
   "source": [
    "Return a tuple containing the number of rows and columns of df. Optionally a dimension dim can be specified, where 1 corresponds to rows and 2 corresponds to columns."
   ]
  },
  {
   "cell_type": "code",
   "execution_count": 20,
   "id": "engaging-butter",
   "metadata": {
    "scrolled": true
   },
   "outputs": [
    {
     "data": {
      "text/plain": [
       "(97, 2)"
      ]
     },
     "execution_count": 20,
     "metadata": {},
     "output_type": "execute_result"
    }
   ],
   "source": [
    "size(C)"
   ]
  },
  {
   "cell_type": "markdown",
   "id": "68184d1b",
   "metadata": {},
   "source": [
    "### Broadcasting Operators and Functions\n",
    "\n",
    "Broadcasting is also known as vectorization and we use the “dot” operator .\n",
    "\n",
    "It also works with functions. "
   ]
  },
  {
   "cell_type": "code",
   "execution_count": 22,
   "id": "3ee63912",
   "metadata": {},
   "outputs": [
    {
     "data": {
      "text/plain": [
       "3-element Vector{Int64}:\n",
       "  6\n",
       " 11\n",
       " 21"
      ]
     },
     "execution_count": 22,
     "metadata": {},
     "output_type": "execute_result"
    }
   ],
   "source": [
    "[5, 10, 20] .+ 1"
   ]
  },
  {
   "cell_type": "code",
   "execution_count": 24,
   "id": "ebf304fd",
   "metadata": {},
   "outputs": [
    {
     "data": {
      "text/plain": [
       "3-element Vector{Float64}:\n",
       " 0.6931471805599453\n",
       " 1.3862943611198906\n",
       " 1.791759469228055"
      ]
     },
     "execution_count": 24,
     "metadata": {},
     "output_type": "execute_result"
    }
   ],
   "source": [
    "log.([2, 4, 6])"
   ]
  },
  {
   "cell_type": "code",
   "execution_count": 19,
   "id": "dimensional-willow",
   "metadata": {},
   "outputs": [
    {
     "data": {
      "text/plain": [
       "2-element Vector{DataType}:\n",
       " Float64\n",
       " Float64"
      ]
     },
     "execution_count": 19,
     "metadata": {},
     "output_type": "execute_result"
    }
   ],
   "source": [
    "eltype.(eachcol(C))"
   ]
  },
  {
   "cell_type": "code",
   "execution_count": 26,
   "id": "light-great",
   "metadata": {},
   "outputs": [
    {
     "data": {
      "text/plain": [
       "97-element Vector{Float64}:\n",
       "  6.1101\n",
       "  5.5277\n",
       "  8.5186\n",
       "  7.0032\n",
       "  5.8598\n",
       "  8.3829\n",
       "  7.4764\n",
       "  8.5781\n",
       "  6.4862\n",
       "  5.0546\n",
       "  5.7107\n",
       " 14.164\n",
       "  5.734\n",
       "  ⋮\n",
       "  8.5172\n",
       "  9.1802\n",
       "  6.002\n",
       "  5.5204\n",
       "  5.0594\n",
       "  5.7077\n",
       "  7.6366\n",
       "  5.8707\n",
       "  5.3054\n",
       "  8.2934\n",
       " 13.394\n",
       "  5.4369"
      ]
     },
     "execution_count": 26,
     "metadata": {},
     "output_type": "execute_result"
    }
   ],
   "source": [
    "#C.population\n",
    "#C[!, \"population\"] - ! in indexing is specific to DataFrames, and signals that you want a reference to the underlying vector storing the data, rather than a copy of it.\n",
    "C[:, 1]"
   ]
  },
  {
   "cell_type": "code",
   "execution_count": 27,
   "id": "permanent-collective",
   "metadata": {},
   "outputs": [
    {
     "data": {
      "text/html": [
       "<div class=\"data-frame\"><p>1 rows × 2 columns</p><table class=\"data-frame\"><thead><tr><th></th><th>population</th><th>profit</th></tr><tr><th></th><th title=\"Float64\">Float64</th><th title=\"Float64\">Float64</th></tr></thead><tbody><tr><th>1</th><td>8.5781</td><td>12.0</td></tr></tbody></table></div>"
      ],
      "text/latex": [
       "\\begin{tabular}{r|cc}\n",
       "\t& population & profit\\\\\n",
       "\t\\hline\n",
       "\t& Float64 & Float64\\\\\n",
       "\t\\hline\n",
       "\t1 & 8.5781 & 12.0 \\\\\n",
       "\\end{tabular}\n"
      ],
      "text/plain": [
       "\u001b[1m1×2 DataFrame\u001b[0m\n",
       "\u001b[1m Row \u001b[0m│\u001b[1m population \u001b[0m\u001b[1m profit  \u001b[0m\n",
       "\u001b[1m     \u001b[0m│\u001b[90m Float64    \u001b[0m\u001b[90m Float64 \u001b[0m\n",
       "─────┼─────────────────────\n",
       "   1 │     8.5781     12.0"
      ]
     },
     "execution_count": 27,
     "metadata": {},
     "output_type": "execute_result"
    }
   ],
   "source": [
    "loc=C.population .== 8.5781\n",
    "C[loc, :]\n",
    "#typeof(C[loc, :])\n",
    "#C[loc, :].profit"
   ]
  },
  {
   "cell_type": "markdown",
   "id": "irish-virgin",
   "metadata": {},
   "source": [
    "Another way of achieving the same is to use a higher-order function such as **filter**. \n",
    "\n",
    "The filter function takes 2 arguments:\n",
    "A function that takes an element of the array-like object as input and returns a boolean.\n",
    "An array-like object (in our case a DataFrame) that we can iterate over.\n",
    "For each row, filter will apply the function under 1. and when that function returns true we keep the row, otherwise, we throw it away:\n",
    "\n",
    "The notation df -> df.population .== 8.5781 is a lambda (nameless) function"
   ]
  },
  {
   "cell_type": "code",
   "execution_count": 28,
   "id": "macro-microphone",
   "metadata": {},
   "outputs": [
    {
     "data": {
      "text/html": [
       "<div class=\"data-frame\"><p>1 rows × 2 columns</p><table class=\"data-frame\"><thead><tr><th></th><th>population</th><th>profit</th></tr><tr><th></th><th title=\"Float64\">Float64</th><th title=\"Float64\">Float64</th></tr></thead><tbody><tr><th>1</th><td>8.5781</td><td>12.0</td></tr></tbody></table></div>"
      ],
      "text/latex": [
       "\\begin{tabular}{r|cc}\n",
       "\t& population & profit\\\\\n",
       "\t\\hline\n",
       "\t& Float64 & Float64\\\\\n",
       "\t\\hline\n",
       "\t1 & 8.5781 & 12.0 \\\\\n",
       "\\end{tabular}\n"
      ],
      "text/plain": [
       "\u001b[1m1×2 DataFrame\u001b[0m\n",
       "\u001b[1m Row \u001b[0m│\u001b[1m population \u001b[0m\u001b[1m profit  \u001b[0m\n",
       "\u001b[1m     \u001b[0m│\u001b[90m Float64    \u001b[0m\u001b[90m Float64 \u001b[0m\n",
       "─────┼─────────────────────\n",
       "   1 │     8.5781     12.0"
      ]
     },
     "execution_count": 28,
     "metadata": {},
     "output_type": "execute_result"
    }
   ],
   "source": [
    "# typeof(filter(df -> df.population .== 8.5781, C))\n",
    "filter(df -> df.population .== 8.5781, C)"
   ]
  },
  {
   "cell_type": "code",
   "execution_count": 29,
   "id": "communist-nickname",
   "metadata": {},
   "outputs": [
    {
     "data": {
      "text/plain": [
       "1-element Vector{Float64}:\n",
       " 12.0"
      ]
     },
     "execution_count": 29,
     "metadata": {},
     "output_type": "execute_result"
    }
   ],
   "source": [
    "filter(df -> df.population .== 8.5781, C).profit"
   ]
  },
  {
   "cell_type": "markdown",
   "id": "6ab3e61e",
   "metadata": {},
   "source": [
    "**Plots.jl** is a plotting API and toolset in Julia\n",
    "\n",
    "https://github.com/JuliaPlots\n",
    "\n",
    "We want to use the data to help us select which city to expand to next.\n",
    "\n",
    "A good step is to visualize the data. We create a scatter plot of the data using Plots.jl package"
   ]
  },
  {
   "cell_type": "code",
   "execution_count": 55,
   "id": "proud-pioneer",
   "metadata": {},
   "outputs": [],
   "source": [
    "x = C.population\n",
    "y = C.profit\n",
    "gr()\n",
    "plot_scatter = Plots.plot(x, y, seriestype = :scatter, title = \"Scatter Plot\", markersize=3,\n",
    "        alpha=.8,\n",
    "        legend=false, \n",
    "        xlabel=\"Population of City in 10,000s\",\n",
    "        ylabel=\"Prices in 10,000s\")\n",
    "\n",
    "Plots.savefig(plot_scatter,\"ScatterPlotPopulationProfit.png\")"
   ]
  },
  {
   "cell_type": "markdown",
   "id": "5e6ebb89",
   "metadata": {},
   "source": [
    "### Gradient Descent\n",
    "\n",
    "We will fit the linear regression parameters θ to our dataset using gradient descent.\n",
    "\n",
    "The objective of linear regression is to minimize the cost function\n"
   ]
  },
  {
   "cell_type": "code",
   "execution_count": 31,
   "id": "anonymous-behavior",
   "metadata": {},
   "outputs": [
    {
     "data": {
      "text/plain": [
       "Matrix{Float64} (alias for Array{Float64, 2})"
      ]
     },
     "execution_count": 31,
     "metadata": {},
     "output_type": "execute_result"
    }
   ],
   "source": [
    "m = length(y)\n",
    "x1 = ones(m, 1)\n",
    "X = hcat(x1, x);\n",
    "typeof(X)"
   ]
  },
  {
   "cell_type": "code",
   "execution_count": 32,
   "id": "surface-magic",
   "metadata": {},
   "outputs": [
    {
     "data": {
      "text/plain": [
       "97×2 Matrix{Float64}:\n",
       " 1.0   6.1101\n",
       " 1.0   5.5277\n",
       " 1.0   8.5186\n",
       " 1.0   7.0032\n",
       " 1.0   5.8598\n",
       " 1.0   8.3829\n",
       " 1.0   7.4764\n",
       " 1.0   8.5781\n",
       " 1.0   6.4862\n",
       " 1.0   5.0546\n",
       " 1.0   5.7107\n",
       " 1.0  14.164\n",
       " 1.0   5.734\n",
       " ⋮    \n",
       " 1.0   8.5172\n",
       " 1.0   9.1802\n",
       " 1.0   6.002\n",
       " 1.0   5.5204\n",
       " 1.0   5.0594\n",
       " 1.0   5.7077\n",
       " 1.0   7.6366\n",
       " 1.0   5.8707\n",
       " 1.0   5.3054\n",
       " 1.0   8.2934\n",
       " 1.0  13.394\n",
       " 1.0   5.4369"
      ]
     },
     "execution_count": 32,
     "metadata": {},
     "output_type": "execute_result"
    }
   ],
   "source": [
    "X"
   ]
  },
  {
   "cell_type": "code",
   "execution_count": 33,
   "id": "educated-religious",
   "metadata": {},
   "outputs": [
    {
     "data": {
      "text/plain": [
       "2-element Vector{Float64}:\n",
       " 0.0\n",
       " 0.0"
      ]
     },
     "execution_count": 33,
     "metadata": {},
     "output_type": "execute_result"
    }
   ],
   "source": [
    "thetaInitial = zeros(2)"
   ]
  },
  {
   "cell_type": "code",
   "execution_count": 34,
   "id": "informed-somalia",
   "metadata": {},
   "outputs": [
    {
     "data": {
      "text/plain": [
       "CostFunction (generic function with 1 method)"
      ]
     },
     "execution_count": 34,
     "metadata": {},
     "output_type": "execute_result"
    }
   ],
   "source": [
    "# define cost function J\n",
    "function CostFunction(X, y, theta)\n",
    "    JTheta = (1 / (2 * m)) * (sum((X * theta - y) .^ 2))\n",
    "    return JTheta\n",
    "end"
   ]
  },
  {
   "cell_type": "code",
   "execution_count": 35,
   "id": "retained-webster",
   "metadata": {},
   "outputs": [
    {
     "data": {
      "text/plain": [
       "32.072733877455676"
      ]
     },
     "execution_count": 35,
     "metadata": {},
     "output_type": "execute_result"
    }
   ],
   "source": [
    "CostFunction(X, y, thetaInitial)"
   ]
  },
  {
   "cell_type": "code",
   "execution_count": 36,
   "id": "prospective-processor",
   "metadata": {},
   "outputs": [
    {
     "data": {
      "text/plain": [
       "2-element Vector{Int64}:\n",
       " -1\n",
       "  2"
      ]
     },
     "execution_count": 36,
     "metadata": {},
     "output_type": "execute_result"
    }
   ],
   "source": [
    "theta = [-1, 2]"
   ]
  },
  {
   "cell_type": "code",
   "execution_count": 37,
   "id": "sexual-coral",
   "metadata": {},
   "outputs": [
    {
     "data": {
      "text/plain": [
       "54.242455082012384"
      ]
     },
     "execution_count": 37,
     "metadata": {},
     "output_type": "execute_result"
    }
   ],
   "source": [
    "CostFunction(X, y, theta)"
   ]
  },
  {
   "cell_type": "markdown",
   "id": "9d0d9a56",
   "metadata": {},
   "source": [
    "###ForwardDiff.jl\n",
    "\n",
    "ForwardDiff implements methods to take derivatives, gradients, Jacobians, Hessians, and higher-order derivatives of native Julia functions (or any callable object, really) using forward mode automatic differentiation (AD)."
   ]
  },
  {
   "cell_type": "code",
   "execution_count": 38,
   "id": "behavioral-mapping",
   "metadata": {},
   "outputs": [
    {
     "name": "stdout",
     "output_type": "stream",
     "text": [
      "Parameter theta: [-3.63029143940436, 1.166362350335582]\n",
      "Minimized Cost Function: 4.483388256587726\n",
      "Last Element: (1500, [-3.63029143940436, 1.166362350335582], 4.483388256587726)\n"
     ]
    }
   ],
   "source": [
    "# Gradinet Descent\n",
    "\n",
    "x = C.population\n",
    "y = C.profit\n",
    "iterations = 1500;\n",
    "alpha = 0.01;\n",
    "thetaInitial = zeros(2)\n",
    "result = []\n",
    "\n",
    "# define cost function J\n",
    "function CostFunction(X, y, theta)\n",
    "    JTheta = (1 / (2 * m)) * (sum((X * theta - y) .^ 2))\n",
    "    return JTheta\n",
    "end\n",
    "\n",
    "f(theta::Vector)::Real = CostFunction(X, y, theta)\n",
    "g = x -> ForwardDiff.gradient(f, theta); # g = ∇f\n",
    "\n",
    "theta = thetaInitial\n",
    "\n",
    "for i = 1:iterations\n",
    "    theta = theta - alpha * g(theta)\n",
    "    push!(result, (i, theta, f(theta)))\n",
    "end\n",
    "\n",
    "println(\"Parameter theta: \", theta)\n",
    "println(\"Minimized Cost Function: \", f(theta))\n",
    "println(\"Last Element: \", result[iterations])"
   ]
  },
  {
   "cell_type": "code",
   "execution_count": 39,
   "id": "fitting-bahamas",
   "metadata": {},
   "outputs": [
    {
     "data": {
      "text/plain": [
       "1500-element Vector{Vector{Float64}}:\n",
       " [0.0583913505154639, 0.6532884974555673]\n",
       " [0.06289175271039381, 0.7700097825599365]\n",
       " [0.05782292746142809, 0.7913481156584673]\n",
       " [0.051063625160778114, 0.795729810284954]\n",
       " [0.04401437836500257, 0.7970961782721866]\n",
       " [0.036924131142162586, 0.7979254732843951]\n",
       " [0.029837117577144807, 0.7986582394519285]\n",
       " [0.022761181894038814, 0.7993727912003019]\n",
       " [0.015697699574200114, 0.8000830518518655]\n",
       " [0.00864689622891351, 0.8007914983590768]\n",
       " [0.0016087930989843414, 0.8014985729280016]\n",
       " [-0.005416624870320671, 0.8022043560583255]\n",
       " [-0.012429379151800795, 0.8029088639482521]\n",
       " ⋮\n",
       " [-3.6249697840311965, 1.165827732330318]\n",
       " [-3.62545794697811, 1.1658767735933502]\n",
       " [-3.625945229964535, 1.1659257264548066]\n",
       " [-3.626431634576685, 1.1659745910740398]\n",
       " [-3.626917162397914, 1.1660233676101144]\n",
       " [-3.627401815008721, 1.1660720562218088]\n",
       " [-3.6278855939867567, 1.1661206570676153]\n",
       " [-3.6283685009068285, 1.1661691703057402]\n",
       " [-3.628850537340904, 1.1662175960941048]\n",
       " [-3.6293317048581177, 1.1662659345903454]\n",
       " [-3.6298120050247755, 1.166314185951815]\n",
       " [-3.63029143940436, 1.166362350335582]"
      ]
     },
     "execution_count": 39,
     "metadata": {},
     "output_type": "execute_result"
    }
   ],
   "source": [
    "getindex.(result, 2)"
   ]
  },
  {
   "cell_type": "code",
   "execution_count": 40,
   "id": "intermediate-rhythm",
   "metadata": {
    "scrolled": true
   },
   "outputs": [
    {
     "data": {
      "text/plain": [
       "1500-element Vector{Float64}:\n",
       "  0.0583913505154639\n",
       "  0.06289175271039381\n",
       "  0.05782292746142809\n",
       "  0.051063625160778114\n",
       "  0.04401437836500257\n",
       "  0.036924131142162586\n",
       "  0.029837117577144807\n",
       "  0.022761181894038814\n",
       "  0.015697699574200114\n",
       "  0.00864689622891351\n",
       "  0.0016087930989843414\n",
       " -0.005416624870320671\n",
       " -0.012429379151800795\n",
       "  ⋮\n",
       " -3.6249697840311965\n",
       " -3.62545794697811\n",
       " -3.625945229964535\n",
       " -3.626431634576685\n",
       " -3.626917162397914\n",
       " -3.627401815008721\n",
       " -3.6278855939867567\n",
       " -3.6283685009068285\n",
       " -3.628850537340904\n",
       " -3.6293317048581177\n",
       " -3.6298120050247755\n",
       " -3.63029143940436"
      ]
     },
     "execution_count": 40,
     "metadata": {},
     "output_type": "execute_result"
    }
   ],
   "source": [
    "getindex.(getindex.(result, 2), 1)\n",
    "\n",
    "#getindex.(ThetaHistory, 1)"
   ]
  },
  {
   "cell_type": "code",
   "execution_count": 41,
   "id": "rough-dream",
   "metadata": {},
   "outputs": [
    {
     "data": {
      "text/plain": [
       "2-element Vector{Float64}:\n",
       " -3.63029143940436\n",
       "  1.166362350335582"
      ]
     },
     "execution_count": 41,
     "metadata": {},
     "output_type": "execute_result"
    }
   ],
   "source": [
    "result[iterations][2]"
   ]
  },
  {
   "cell_type": "code",
   "execution_count": 56,
   "id": "advance-publication",
   "metadata": {},
   "outputs": [],
   "source": [
    "x = C.population\n",
    "y = C.profit\n",
    "optimizedTheta = result[iterations][2]\n",
    "gr()\n",
    "Plots.plot(x, y, seriestype = :scatter, title = \"Scatter Plot\", markersize=3,\n",
    "        alpha=.8,\n",
    "        legend=false, \n",
    "        xlabel=\"Population of City in 10,000s\",\n",
    "        ylabel=\"Prices in 10,000s\")\n",
    "Plots.plot!(x,X*optimizedTheta,linewidth=3, color=:red)\n",
    "\n",
    "Plots.savefig(\"LinearRegressionfit.png\")"
   ]
  },
  {
   "cell_type": "code",
   "execution_count": 43,
   "id": "passive-dairy",
   "metadata": {},
   "outputs": [
    {
     "data": {
      "text/plain": [
       "6.374881438009295"
      ]
     },
     "execution_count": 43,
     "metadata": {},
     "output_type": "execute_result"
    }
   ],
   "source": [
    "#Predict values for population sizes of 35,000 and 70,000\n",
    "predict1 = [1, 8.5781]' * optimizedTheta"
   ]
  },
  {
   "cell_type": "code",
   "execution_count": 57,
   "id": "elder-yorkshire",
   "metadata": {},
   "outputs": [],
   "source": [
    "Plots.plot(getindex.(result, 1), getindex.(result, 3), linewidth=3, color=:red, \n",
    "        xlabel=\"Iterations\",\n",
    "        ylabel=\"Cost Function\")\n",
    "\n",
    "Plots.savefig(\"VisualizingCostOverIterations.png\")"
   ]
  },
  {
   "cell_type": "code",
   "execution_count": 45,
   "id": "contrary-carroll",
   "metadata": {},
   "outputs": [
    {
     "data": {
      "application/vnd.webio.node+json": {
       "children": [
        "Hello, Jupyter"
       ],
       "instanceArgs": {
        "namespace": "html",
        "tag": "p"
       },
       "nodeType": "DOM",
       "props": {},
       "type": "node"
      },
      "text/html": [
       "<div\n",
       "    class=\"webio-mountpoint\"\n",
       "    data-webio-mountpoint=\"4087350718891892167\"\n",
       ">\n",
       "    <script>\n",
       "    (function(){\n",
       "    // Some integrations (namely, IJulia/Jupyter) use an alternate render pathway than\n",
       "    // just putting the html on the page. If WebIO isn't defined, then it's pretty likely\n",
       "    // that we're in one of those situations and the integration just isn't installed\n",
       "    // correctly.\n",
       "    if (typeof window.WebIO === \"undefined\") {\n",
       "        document\n",
       "            .querySelector('[data-webio-mountpoint=\"4087350718891892167\"]')\n",
       "            .innerHTML = (\n",
       "                '<div style=\"padding: 1em; background-color: #f8d6da; border: 1px solid #f5c6cb; font-weight: bold;\">' +\n",
       "                '<p><strong>WebIO not detected.</strong></p>' +\n",
       "                '<p>Please read ' +\n",
       "                '<a href=\"https://juliagizmos.github.io/WebIO.jl/latest/troubleshooting/not-detected/\" target=\"_blank\">the troubleshooting guide</a> ' +\n",
       "                'for more information on how to resolve this issue.</p>' +\n",
       "                '<p><a href=\"https://juliagizmos.github.io/WebIO.jl/latest/troubleshooting/not-detected/\" target=\"_blank\">https://juliagizmos.github.io/WebIO.jl/latest/troubleshooting/not-detected/</a></p>' +\n",
       "                '</div>'\n",
       "            );\n",
       "        return;\n",
       "    }\n",
       "    WebIO.mount(\n",
       "        document.querySelector('[data-webio-mountpoint=\"4087350718891892167\"]'),\n",
       "        {\"props\":{},\"nodeType\":\"DOM\",\"type\":\"node\",\"instanceArgs\":{\"namespace\":\"html\",\"tag\":\"p\"},\"children\":[\"Hello, Jupyter\"]},\n",
       "        window,\n",
       "    );\n",
       "    })()\n",
       "    </script>\n",
       "</div>\n"
      ],
      "text/plain": [
       "(p\n",
       "  \"Hello, Jupyter\")"
      ]
     },
     "execution_count": 45,
     "metadata": {
      "application/vnd.webio.node+json": {
       "kernelId": "5e7fad60-e191-4c69-8a4c-bad091a4cf9c"
      }
     },
     "output_type": "execute_result"
    }
   ],
   "source": [
    "using WebIO\n",
    "node(:p, \"Hello, Jupyter\")"
   ]
  },
  {
   "cell_type": "code",
   "execution_count": 46,
   "id": "a8d0b94e",
   "metadata": {},
   "outputs": [
    {
     "data": {
      "text/plain": [
       "21×21 Matrix{Any}:\n",
       " 328.093    304.594    282.095    260.596    …   58.1121   52.6131   48.1142\n",
       " 273.554    252.095    231.636    212.177        40.2923   36.8334   34.3744\n",
       " 224.103    204.684    186.265    168.846        27.5604   26.1413   25.7223\n",
       " 179.74     162.361    145.981    130.602        19.9161   20.5371   22.158\n",
       " 140.464    125.125    110.786     97.4467       17.3597   20.0205   23.6814\n",
       " 106.276     92.9771    80.6779    69.3787   …   19.8909   24.5917   30.2925\n",
       "  77.1762    65.9169    55.6577    46.3984       27.5099   34.2507   41.9915\n",
       "  53.1638    43.9445    35.7252    28.506        40.2167   48.9974   58.7781\n",
       "  34.2392    27.0599    20.8805    15.7012       58.0112   68.8318   80.6525\n",
       "  20.4024    15.263     11.1236     7.9842       80.8934   93.754   107.615\n",
       "  11.6532     8.55381    6.45438    5.35494  …  108.863   123.764   139.665\n",
       "   7.99188    6.9324     6.87291    7.81343     141.921   158.862   176.802\n",
       "   9.41827   10.3987    12.3792    15.3597      180.067   199.047   219.028\n",
       "  15.9324    18.9528    22.9732    27.9936      223.3     244.32    266.341\n",
       "  27.5343    32.5946    38.655     45.7154      271.621   294.681   318.742\n",
       "  44.2239    51.3242    59.4245    68.5249   …  325.03    350.13    376.23\n",
       "  66.0013    75.1415    85.2818    96.4221      383.526   410.666   438.807\n",
       "  92.8664   104.047    116.227    129.407       447.11    476.29    506.471\n",
       " 124.819    138.039    152.26     167.48        515.782   547.002   579.223\n",
       " 161.86     177.12     193.38     210.64        589.542   622.802   657.062\n",
       " 203.988    221.288    239.588    258.888    …  668.389   703.689   739.99"
      ]
     },
     "execution_count": 46,
     "metadata": {},
     "output_type": "execute_result"
    }
   ],
   "source": [
    "x = C.population\n",
    "y = C.profit\n",
    "\n",
    "m = length(y)\n",
    "x1 = ones(m, 1)\n",
    "X = hcat(x1, x);\n",
    "\n",
    "function CostFunction(X, y, theta)\n",
    "    JTheta = (1 / (2 * m)) * (sum((X * theta - y) .^ 2))\n",
    "    return JTheta\n",
    "end\n",
    "\n",
    "\n",
    "theta0s = range(-10, 10, step=1)\n",
    "theta1s = range(-1, 4, step=0.25)\n",
    "costtheta = []\n",
    "\n",
    "for i in theta0s\n",
    "    for j in theta1s\n",
    "        theta = [i, j]\n",
    "        push!(costtheta, CostFunction(X, y, theta))\n",
    "    end\n",
    "end\n",
    "\n",
    "axis_length = length(theta0s)\n",
    "cost_function_matrix = reshape(costtheta, (axis_length, axis_length))\n"
   ]
  },
  {
   "cell_type": "code",
   "execution_count": 61,
   "id": "d5b06e0a",
   "metadata": {},
   "outputs": [
    {
     "data": {
      "text/plain": [
       "\"VisualizingJ-3d.png\""
      ]
     },
     "execution_count": 61,
     "metadata": {},
     "output_type": "execute_result"
    }
   ],
   "source": [
    "layout = Layout(\n",
    "    title=\"Cost Function\", autosize=false,\n",
    "    width=500, height=500,\n",
    "    margin=attr(l=65, r=50, b=65, t=90)\n",
    ")\n",
    "\n",
    "\n",
    "plot_visualizej = PlotlyJS.plot(PlotlyJS.surface(z=cost_function_matrix, x=theta0s, y=theta1s,\n",
    "    contours_z=attr(\n",
    "        show=true,\n",
    "        usecolormap=true,\n",
    "        highlightcolor=\"limegreen\",\n",
    "        project_z=true\n",
    "    )),\n",
    "    layout)\n",
    "\n",
    "PlotlyJS.savefig(plot_visualizej, \"VisualizingJ-3d.png\")"
   ]
  },
  {
   "cell_type": "code",
   "execution_count": 62,
   "id": "bdedf7c1",
   "metadata": {},
   "outputs": [
    {
     "data": {
      "text/plain": [
       "\"VisualizingJ-contour.png\""
      ]
     },
     "execution_count": 62,
     "metadata": {},
     "output_type": "execute_result"
    }
   ],
   "source": [
    "using PlotlyJS\n",
    "\n",
    "plot_contourj = PlotlyJS.plot(PlotlyJS.contour(\n",
    "    x=theta0s, \n",
    "    y=theta1s,\n",
    "    z=cost_function_matrix\n",
    "))\n",
    "\n",
    "PlotlyJS.savefig(plot_contourj, \"VisualizingJ-contour.png\")"
   ]
  },
  {
   "cell_type": "code",
   "execution_count": 49,
   "id": "2ea4699b",
   "metadata": {},
   "outputs": [
    {
     "data": {
      "text/plain": [
       "2-element Vector{Float64}:\n",
       " -3.895780878311886\n",
       "  1.1930336441895961"
      ]
     },
     "execution_count": 49,
     "metadata": {},
     "output_type": "execute_result"
    }
   ],
   "source": [
    "# Normal equa2on: Method to solve for Theta analytically.\n",
    "\n",
    "XTranspose = X'\n",
    "XTranposeX = XTranspose * X\n",
    "XTranposeXInv = inv(XTranposeX)\n",
    "Theta = (XTranposeXInv * XTranspose) * y\n"
   ]
  },
  {
   "cell_type": "code",
   "execution_count": 50,
   "id": "b536da46",
   "metadata": {},
   "outputs": [
    {
     "data": {
      "text/plain": [
       "4×4 Matrix{Int64}:\n",
       " 1  5   9  13\n",
       " 2  6  10  14\n",
       " 3  7  11  15\n",
       " 4  8  12  16"
      ]
     },
     "execution_count": 50,
     "metadata": {},
     "output_type": "execute_result"
    }
   ],
   "source": [
    "#How to use reshape in Julia\n",
    "\n",
    "#reshape([],0,2)\n",
    "#BX = Vector(1:16)\n",
    "#reshape(BX, (4, 4))\n",
    "#reshape(BX, 2, :)\n",
    "#reshape(1:6, 2, 3)\n",
    "#LX = [1  2  3  4; 5  6  7  8; 9  10  11  12; 13  14  15  16];\n",
    "#reshape(LX, (4, 4))\n",
    "#NX = [1  5   9  13; 2  6  10  14; 3  7  11  15; 4  8  12  16];\n",
    "#(reshape(NX, 2, :))\n",
    "\n",
    "BX = Vector(1:16)\n",
    "reshape(BX, (4, 4))"
   ]
  }
 ],
 "metadata": {
  "@webio": {
   "lastCommId": "7186f3a565a2407dae0dfbb6caafe6a9",
   "lastKernelId": "5e7fad60-e191-4c69-8a4c-bad091a4cf9c"
  },
  "kernelspec": {
   "display_name": "Julia 1.6.4",
   "language": "julia",
   "name": "julia-1.6"
  },
  "language_info": {
   "file_extension": ".jl",
   "mimetype": "application/julia",
   "name": "julia",
   "version": "1.6.4"
  }
 },
 "nbformat": 4,
 "nbformat_minor": 5
}
