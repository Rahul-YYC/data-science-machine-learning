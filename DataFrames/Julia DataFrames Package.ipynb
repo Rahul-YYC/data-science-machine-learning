{
 "cells": [
  {
   "cell_type": "markdown",
   "id": "7f855597",
   "metadata": {},
   "source": [
    "### Julia Dataframes\n",
    "\n",
    "I am captivated by Julia Programming Language. I had previously used Python and R for data science projects. What captured my attentions was the statement :\n",
    "\n",
    ">It “runs like C but reads like Python” (Perkel, 2019).\n",
    "\n",
    "Julia has an extenxive ecosystem of packages. I will explore Julia package called DataFrames.jl"
   ]
  }
 ],
 "metadata": {
  "kernelspec": {
   "display_name": "Julia 1.6.4",
   "language": "julia",
   "name": "julia-1.6"
  },
  "language_info": {
   "file_extension": ".jl",
   "mimetype": "application/julia",
   "name": "julia",
   "version": "1.6.4"
  }
 },
 "nbformat": 4,
 "nbformat_minor": 5
}
