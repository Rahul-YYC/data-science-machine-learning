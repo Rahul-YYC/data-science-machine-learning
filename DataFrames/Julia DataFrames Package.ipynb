{
 "cells": [
  {
   "cell_type": "markdown",
   "id": "7f855597",
   "metadata": {},
   "source": [
    "### Julia Dataframes\n",
    "\n",
    "I am captivated by Julia Programming Language. I had previously used Python and R for data science projects. What captured my attentions was the statement :\n",
    "\n",
    ">It “runs like C but reads like Python” (Perkel, 2019).\n",
    "\n",
    "Julia has an extenxive ecosystem of packages. I will explore Julia package called DataFrames.jl\n",
    "\n",
    "Let's load DataFrames.jl with using:"
   ]
  },
  {
   "cell_type": "code",
   "execution_count": 4,
   "id": "4e70d546",
   "metadata": {},
   "outputs": [
    {
     "data": {
      "text/html": [
       "<div class=\"data-frame\"><p>4 rows × 2 columns</p><table class=\"data-frame\"><thead><tr><th></th><th>name</th><th>weights</th></tr><tr><th></th><th title=\"String\">String</th><th title=\"Float64\">Float64</th></tr></thead><tbody><tr><th>1</th><td>Andrew</td><td>180.0</td></tr><tr><th>2</th><td>Ross</td><td>191.5</td></tr><tr><th>3</th><td>Bob</td><td>200.0</td></tr><tr><th>4</th><td>Marc</td><td>167.8</td></tr></tbody></table></div>"
      ],
      "text/latex": [
       "\\begin{tabular}{r|cc}\n",
       "\t& name & weights\\\\\n",
       "\t\\hline\n",
       "\t& String & Float64\\\\\n",
       "\t\\hline\n",
       "\t1 & Andrew & 180.0 \\\\\n",
       "\t2 & Ross & 191.5 \\\\\n",
       "\t3 & Bob & 200.0 \\\\\n",
       "\t4 & Marc & 167.8 \\\\\n",
       "\\end{tabular}\n"
      ],
      "text/plain": [
       "\u001b[1m4×2 DataFrame\u001b[0m\n",
       "\u001b[1m Row \u001b[0m│\u001b[1m name   \u001b[0m\u001b[1m weights \u001b[0m\n",
       "\u001b[1m     \u001b[0m│\u001b[90m String \u001b[0m\u001b[90m Float64 \u001b[0m\n",
       "─────┼─────────────────\n",
       "   1 │ Andrew    180.0\n",
       "   2 │ Ross      191.5\n",
       "   3 │ Bob       200.0\n",
       "   4 │ Marc      167.8"
      ]
     },
     "execution_count": 4,
     "metadata": {},
     "output_type": "execute_result"
    }
   ],
   "source": [
    "using DataFrames\n",
    "\n",
    "function weight_friends()\n",
    "    name = [\"Andrew\", \"Ross\", \"Bob\", \"Marc\"]\n",
    "    weights = [180, 191.5, 200, 167.8]\n",
    "    DataFrame(; name, weights)\n",
    "end\n",
    "\n",
    "df = weight_friends()"
   ]
  },
  {
   "cell_type": "markdown",
   "id": "d32a8814",
   "metadata": {},
   "source": [
    "Why (; name, weights) creates a NamedTuple?\n",
    "\n",
    "As the documentation for NamedTuple notes:\n",
    "\n",
    "https://stackoverflow.com/questions/68422352/why-x-1-y-2-creates-a-namedtuple\n",
    "\n",
    ">In a similar fashion as to how one can define keyword arguments programmatically, a\n",
    "named tuple can be created by giving a pair name::Symbol => value or splatting an\n",
    "iterator yielding such pairs after a semicolon inside a tuple literal:\n",
    "\n",
    " julia> (; :a => 1)\n",
    "  \n",
    "  (a = 1,)\n",
    "  \n",
    " julia> x = 0\n",
    "  \n",
    "  0\n",
    "\n",
    "  julia> t = (; x)\n",
    "  \n",
    "  (x = 0,)\n",
    "\n",
    "  julia> (; t.x)\n",
    "  \n",
    "  (x = 0,)"
   ]
  },
  {
   "cell_type": "code",
   "execution_count": 5,
   "id": "eda5f8ea",
   "metadata": {},
   "outputs": [
    {
     "data": {
      "text/plain": [
       "4-element Vector{String}:\n",
       " \"Andrew\"\n",
       " \"Ross\"\n",
       " \"Bob\"\n",
       " \"Marc\""
      ]
     },
     "execution_count": 5,
     "metadata": {},
     "output_type": "execute_result"
    }
   ],
   "source": [
    "df.name"
   ]
  },
  {
   "cell_type": "markdown",
   "id": "ab3e79f6",
   "metadata": {},
   "source": [
    "### CSV\n",
    "\n",
    "Comma-separated values (CSV) files is one of the practical ways to store tables. \n",
    "\n",
    "Julia has a CSV.jl package. Let's load it:\n",
    "\n",
    "We write our dataframe to a file weights.csv and read from it"
   ]
  },
  {
   "cell_type": "code",
   "execution_count": 9,
   "id": "a95b0152",
   "metadata": {},
   "outputs": [
    {
     "data": {
      "text/plain": [
       "\"name,weights\\nAndrew,180.0\\nRoss,191.5\\nBob,200.0\\nMarc,167.8\\n\""
      ]
     },
     "execution_count": 9,
     "metadata": {},
     "output_type": "execute_result"
    }
   ],
   "source": [
    "using CSV\n",
    "\n",
    "function write_weights_csv()\n",
    "    path = \"weights.csv\"\n",
    "    CSV.write(path, df)\n",
    "end\n",
    "\n",
    "path = write_weights_csv()\n",
    "read(path, String)"
   ]
  },
  {
   "cell_type": "markdown",
   "id": "0cbf26c4",
   "metadata": {},
   "source": [
    "We can use CSV.read and specify the format of our output to be dataframe"
   ]
  },
  {
   "cell_type": "code",
   "execution_count": 10,
   "id": "f4383fa3",
   "metadata": {},
   "outputs": [
    {
     "data": {
      "text/html": [
       "<div class=\"data-frame\"><p>4 rows × 2 columns</p><table class=\"data-frame\"><thead><tr><th></th><th>name</th><th>weights</th></tr><tr><th></th><th title=\"String7\">String7</th><th title=\"Float64\">Float64</th></tr></thead><tbody><tr><th>1</th><td>Andrew</td><td>180.0</td></tr><tr><th>2</th><td>Ross</td><td>191.5</td></tr><tr><th>3</th><td>Bob</td><td>200.0</td></tr><tr><th>4</th><td>Marc</td><td>167.8</td></tr></tbody></table></div>"
      ],
      "text/latex": [
       "\\begin{tabular}{r|cc}\n",
       "\t& name & weights\\\\\n",
       "\t\\hline\n",
       "\t& String7 & Float64\\\\\n",
       "\t\\hline\n",
       "\t1 & Andrew & 180.0 \\\\\n",
       "\t2 & Ross & 191.5 \\\\\n",
       "\t3 & Bob & 200.0 \\\\\n",
       "\t4 & Marc & 167.8 \\\\\n",
       "\\end{tabular}\n"
      ],
      "text/plain": [
       "\u001b[1m4×2 DataFrame\u001b[0m\n",
       "\u001b[1m Row \u001b[0m│\u001b[1m name    \u001b[0m\u001b[1m weights \u001b[0m\n",
       "\u001b[1m     \u001b[0m│\u001b[90m String7 \u001b[0m\u001b[90m Float64 \u001b[0m\n",
       "─────┼──────────────────\n",
       "   1 │ Andrew     180.0\n",
       "   2 │ Ross       191.5\n",
       "   3 │ Bob        200.0\n",
       "   4 │ Marc       167.8"
      ]
     },
     "execution_count": 10,
     "metadata": {},
     "output_type": "execute_result"
    }
   ],
   "source": [
    "df = CSV.read(path, DataFrame)"
   ]
  },
  {
   "cell_type": "markdown",
   "id": "41b651d1",
   "metadata": {},
   "source": [
    "### RDatasets.jl\n",
    "\n",
    "The RDatasets package provides an easy way for Julia users to experiment with most of the standard data sets that are available in the core of R as well as datasets included with many of R's most popular packages.\n",
    "\n",
    "https://github.com/JuliaStats/RDatasets.jl"
   ]
  },
  {
   "cell_type": "code",
   "execution_count": 12,
   "id": "89d1709f",
   "metadata": {},
   "outputs": [
    {
     "data": {
      "text/html": [
       "<div class=\"data-frame\"><p>150 rows × 5 columns</p><table class=\"data-frame\"><thead><tr><th></th><th>SepalLength</th><th>SepalWidth</th><th>PetalLength</th><th>PetalWidth</th><th>Species</th></tr><tr><th></th><th title=\"Float64\">Float64</th><th title=\"Float64\">Float64</th><th title=\"Float64\">Float64</th><th title=\"Float64\">Float64</th><th title=\"CategoricalArrays.CategoricalValue{String, UInt8}\">Cat…</th></tr></thead><tbody><tr><th>1</th><td>5.1</td><td>3.5</td><td>1.4</td><td>0.2</td><td>setosa</td></tr><tr><th>2</th><td>4.9</td><td>3.0</td><td>1.4</td><td>0.2</td><td>setosa</td></tr><tr><th>3</th><td>4.7</td><td>3.2</td><td>1.3</td><td>0.2</td><td>setosa</td></tr><tr><th>4</th><td>4.6</td><td>3.1</td><td>1.5</td><td>0.2</td><td>setosa</td></tr><tr><th>5</th><td>5.0</td><td>3.6</td><td>1.4</td><td>0.2</td><td>setosa</td></tr><tr><th>6</th><td>5.4</td><td>3.9</td><td>1.7</td><td>0.4</td><td>setosa</td></tr><tr><th>7</th><td>4.6</td><td>3.4</td><td>1.4</td><td>0.3</td><td>setosa</td></tr><tr><th>8</th><td>5.0</td><td>3.4</td><td>1.5</td><td>0.2</td><td>setosa</td></tr><tr><th>9</th><td>4.4</td><td>2.9</td><td>1.4</td><td>0.2</td><td>setosa</td></tr><tr><th>10</th><td>4.9</td><td>3.1</td><td>1.5</td><td>0.1</td><td>setosa</td></tr><tr><th>11</th><td>5.4</td><td>3.7</td><td>1.5</td><td>0.2</td><td>setosa</td></tr><tr><th>12</th><td>4.8</td><td>3.4</td><td>1.6</td><td>0.2</td><td>setosa</td></tr><tr><th>13</th><td>4.8</td><td>3.0</td><td>1.4</td><td>0.1</td><td>setosa</td></tr><tr><th>14</th><td>4.3</td><td>3.0</td><td>1.1</td><td>0.1</td><td>setosa</td></tr><tr><th>15</th><td>5.8</td><td>4.0</td><td>1.2</td><td>0.2</td><td>setosa</td></tr><tr><th>16</th><td>5.7</td><td>4.4</td><td>1.5</td><td>0.4</td><td>setosa</td></tr><tr><th>17</th><td>5.4</td><td>3.9</td><td>1.3</td><td>0.4</td><td>setosa</td></tr><tr><th>18</th><td>5.1</td><td>3.5</td><td>1.4</td><td>0.3</td><td>setosa</td></tr><tr><th>19</th><td>5.7</td><td>3.8</td><td>1.7</td><td>0.3</td><td>setosa</td></tr><tr><th>20</th><td>5.1</td><td>3.8</td><td>1.5</td><td>0.3</td><td>setosa</td></tr><tr><th>21</th><td>5.4</td><td>3.4</td><td>1.7</td><td>0.2</td><td>setosa</td></tr><tr><th>22</th><td>5.1</td><td>3.7</td><td>1.5</td><td>0.4</td><td>setosa</td></tr><tr><th>23</th><td>4.6</td><td>3.6</td><td>1.0</td><td>0.2</td><td>setosa</td></tr><tr><th>24</th><td>5.1</td><td>3.3</td><td>1.7</td><td>0.5</td><td>setosa</td></tr><tr><th>25</th><td>4.8</td><td>3.4</td><td>1.9</td><td>0.2</td><td>setosa</td></tr><tr><th>26</th><td>5.0</td><td>3.0</td><td>1.6</td><td>0.2</td><td>setosa</td></tr><tr><th>27</th><td>5.0</td><td>3.4</td><td>1.6</td><td>0.4</td><td>setosa</td></tr><tr><th>28</th><td>5.2</td><td>3.5</td><td>1.5</td><td>0.2</td><td>setosa</td></tr><tr><th>29</th><td>5.2</td><td>3.4</td><td>1.4</td><td>0.2</td><td>setosa</td></tr><tr><th>30</th><td>4.7</td><td>3.2</td><td>1.6</td><td>0.2</td><td>setosa</td></tr><tr><th>&vellip;</th><td>&vellip;</td><td>&vellip;</td><td>&vellip;</td><td>&vellip;</td><td>&vellip;</td></tr></tbody></table></div>"
      ],
      "text/latex": [
       "\\begin{tabular}{r|ccccc}\n",
       "\t& SepalLength & SepalWidth & PetalLength & PetalWidth & Species\\\\\n",
       "\t\\hline\n",
       "\t& Float64 & Float64 & Float64 & Float64 & Cat…\\\\\n",
       "\t\\hline\n",
       "\t1 & 5.1 & 3.5 & 1.4 & 0.2 & setosa \\\\\n",
       "\t2 & 4.9 & 3.0 & 1.4 & 0.2 & setosa \\\\\n",
       "\t3 & 4.7 & 3.2 & 1.3 & 0.2 & setosa \\\\\n",
       "\t4 & 4.6 & 3.1 & 1.5 & 0.2 & setosa \\\\\n",
       "\t5 & 5.0 & 3.6 & 1.4 & 0.2 & setosa \\\\\n",
       "\t6 & 5.4 & 3.9 & 1.7 & 0.4 & setosa \\\\\n",
       "\t7 & 4.6 & 3.4 & 1.4 & 0.3 & setosa \\\\\n",
       "\t8 & 5.0 & 3.4 & 1.5 & 0.2 & setosa \\\\\n",
       "\t9 & 4.4 & 2.9 & 1.4 & 0.2 & setosa \\\\\n",
       "\t10 & 4.9 & 3.1 & 1.5 & 0.1 & setosa \\\\\n",
       "\t11 & 5.4 & 3.7 & 1.5 & 0.2 & setosa \\\\\n",
       "\t12 & 4.8 & 3.4 & 1.6 & 0.2 & setosa \\\\\n",
       "\t13 & 4.8 & 3.0 & 1.4 & 0.1 & setosa \\\\\n",
       "\t14 & 4.3 & 3.0 & 1.1 & 0.1 & setosa \\\\\n",
       "\t15 & 5.8 & 4.0 & 1.2 & 0.2 & setosa \\\\\n",
       "\t16 & 5.7 & 4.4 & 1.5 & 0.4 & setosa \\\\\n",
       "\t17 & 5.4 & 3.9 & 1.3 & 0.4 & setosa \\\\\n",
       "\t18 & 5.1 & 3.5 & 1.4 & 0.3 & setosa \\\\\n",
       "\t19 & 5.7 & 3.8 & 1.7 & 0.3 & setosa \\\\\n",
       "\t20 & 5.1 & 3.8 & 1.5 & 0.3 & setosa \\\\\n",
       "\t21 & 5.4 & 3.4 & 1.7 & 0.2 & setosa \\\\\n",
       "\t22 & 5.1 & 3.7 & 1.5 & 0.4 & setosa \\\\\n",
       "\t23 & 4.6 & 3.6 & 1.0 & 0.2 & setosa \\\\\n",
       "\t24 & 5.1 & 3.3 & 1.7 & 0.5 & setosa \\\\\n",
       "\t25 & 4.8 & 3.4 & 1.9 & 0.2 & setosa \\\\\n",
       "\t26 & 5.0 & 3.0 & 1.6 & 0.2 & setosa \\\\\n",
       "\t27 & 5.0 & 3.4 & 1.6 & 0.4 & setosa \\\\\n",
       "\t28 & 5.2 & 3.5 & 1.5 & 0.2 & setosa \\\\\n",
       "\t29 & 5.2 & 3.4 & 1.4 & 0.2 & setosa \\\\\n",
       "\t30 & 4.7 & 3.2 & 1.6 & 0.2 & setosa \\\\\n",
       "\t$\\dots$ & $\\dots$ & $\\dots$ & $\\dots$ & $\\dots$ & $\\dots$ \\\\\n",
       "\\end{tabular}\n"
      ],
      "text/plain": [
       "\u001b[1m150×5 DataFrame\u001b[0m\n",
       "\u001b[1m Row \u001b[0m│\u001b[1m SepalLength \u001b[0m\u001b[1m SepalWidth \u001b[0m\u001b[1m PetalLength \u001b[0m\u001b[1m PetalWidth \u001b[0m\u001b[1m Species   \u001b[0m\n",
       "\u001b[1m     \u001b[0m│\u001b[90m Float64     \u001b[0m\u001b[90m Float64    \u001b[0m\u001b[90m Float64     \u001b[0m\u001b[90m Float64    \u001b[0m\u001b[90m Cat…      \u001b[0m\n",
       "─────┼─────────────────────────────────────────────────────────────\n",
       "   1 │         5.1         3.5          1.4         0.2  setosa\n",
       "   2 │         4.9         3.0          1.4         0.2  setosa\n",
       "   3 │         4.7         3.2          1.3         0.2  setosa\n",
       "   4 │         4.6         3.1          1.5         0.2  setosa\n",
       "   5 │         5.0         3.6          1.4         0.2  setosa\n",
       "   6 │         5.4         3.9          1.7         0.4  setosa\n",
       "   7 │         4.6         3.4          1.4         0.3  setosa\n",
       "   8 │         5.0         3.4          1.5         0.2  setosa\n",
       "   9 │         4.4         2.9          1.4         0.2  setosa\n",
       "  10 │         4.9         3.1          1.5         0.1  setosa\n",
       "  11 │         5.4         3.7          1.5         0.2  setosa\n",
       "  ⋮  │      ⋮           ⋮            ⋮           ⋮           ⋮\n",
       " 141 │         6.7         3.1          5.6         2.4  virginica\n",
       " 142 │         6.9         3.1          5.1         2.3  virginica\n",
       " 143 │         5.8         2.7          5.1         1.9  virginica\n",
       " 144 │         6.8         3.2          5.9         2.3  virginica\n",
       " 145 │         6.7         3.3          5.7         2.5  virginica\n",
       " 146 │         6.7         3.0          5.2         2.3  virginica\n",
       " 147 │         6.3         2.5          5.0         1.9  virginica\n",
       " 148 │         6.5         3.0          5.2         2.0  virginica\n",
       " 149 │         6.2         3.4          5.4         2.3  virginica\n",
       " 150 │         5.9         3.0          5.1         1.8  virginica\n",
       "\u001b[36m                                                   129 rows omitted\u001b[0m"
      ]
     },
     "execution_count": 12,
     "metadata": {},
     "output_type": "execute_result"
    }
   ],
   "source": [
    "using RDatasets\n",
    "iris = dataset(\"datasets\", \"iris\")"
   ]
  },
  {
   "cell_type": "markdown",
   "id": "bf71239b",
   "metadata": {},
   "source": [
    "### How to Index and Summarize\n",
    "\n",
    "How to retrieve a vector for SepalLength?"
   ]
  },
  {
   "cell_type": "code",
   "execution_count": 13,
   "id": "ca1d128c",
   "metadata": {},
   "outputs": [
    {
     "data": {
      "text/plain": [
       "150-element Vector{Float64}:\n",
       " 5.1\n",
       " 4.9\n",
       " 4.7\n",
       " 4.6\n",
       " 5.0\n",
       " 5.4\n",
       " 4.6\n",
       " 5.0\n",
       " 4.4\n",
       " 4.9\n",
       " 5.4\n",
       " 4.8\n",
       " 4.8\n",
       " ⋮\n",
       " 6.0\n",
       " 6.9\n",
       " 6.7\n",
       " 6.9\n",
       " 5.8\n",
       " 6.8\n",
       " 6.7\n",
       " 6.7\n",
       " 6.3\n",
       " 6.5\n",
       " 6.2\n",
       " 5.9"
      ]
     },
     "execution_count": 13,
     "metadata": {},
     "output_type": "execute_result"
    }
   ],
   "source": [
    "iris.SepalLength"
   ]
  },
  {
   "cell_type": "markdown",
   "id": "d8cd6247",
   "metadata": {},
   "source": [
    "Or, we can index a DataFrame like an Array. The second index is the column indexing:"
   ]
  },
  {
   "cell_type": "code",
   "execution_count": 14,
   "id": "a77b9872",
   "metadata": {},
   "outputs": [
    {
     "data": {
      "text/plain": [
       "150-element Vector{Float64}:\n",
       " 5.1\n",
       " 4.9\n",
       " 4.7\n",
       " 4.6\n",
       " 5.0\n",
       " 5.4\n",
       " 4.6\n",
       " 5.0\n",
       " 4.4\n",
       " 4.9\n",
       " 5.4\n",
       " 4.8\n",
       " 4.8\n",
       " ⋮\n",
       " 6.0\n",
       " 6.9\n",
       " 6.7\n",
       " 6.9\n",
       " 5.8\n",
       " 6.8\n",
       " 6.7\n",
       " 6.7\n",
       " 6.3\n",
       " 6.5\n",
       " 6.2\n",
       " 5.9"
      ]
     },
     "execution_count": 14,
     "metadata": {},
     "output_type": "execute_result"
    }
   ],
   "source": [
    "iris[!, :SepalLength]"
   ]
  },
  {
   "cell_type": "markdown",
   "id": "f416eae9",
   "metadata": {},
   "source": [
    "We can also use df[:, :SepalLength] which copies the column :SepalLength. \n",
    "\n",
    "df[!, :SepalLength] is better as it does an in-place modification."
   ]
  },
  {
   "cell_type": "code",
   "execution_count": 15,
   "id": "bc9c4ad3",
   "metadata": {},
   "outputs": [
    {
     "data": {
      "text/plain": [
       "150-element Vector{Float64}:\n",
       " 5.1\n",
       " 4.9\n",
       " 4.7\n",
       " 4.6\n",
       " 5.0\n",
       " 5.4\n",
       " 4.6\n",
       " 5.0\n",
       " 4.4\n",
       " 4.9\n",
       " 5.4\n",
       " 4.8\n",
       " 4.8\n",
       " ⋮\n",
       " 6.0\n",
       " 6.9\n",
       " 6.7\n",
       " 6.9\n",
       " 5.8\n",
       " 6.8\n",
       " 6.7\n",
       " 6.7\n",
       " 6.3\n",
       " 6.5\n",
       " 6.2\n",
       " 5.9"
      ]
     },
     "execution_count": 15,
     "metadata": {},
     "output_type": "execute_result"
    }
   ],
   "source": [
    "iris[:, :SepalLength]"
   ]
  },
  {
   "cell_type": "markdown",
   "id": "363d0a05",
   "metadata": {},
   "source": [
    "**Use first index as row indexing:**"
   ]
  },
  {
   "cell_type": "code",
   "execution_count": 16,
   "id": "e992d3d4",
   "metadata": {
    "scrolled": true
   },
   "outputs": [
    {
     "data": {
      "text/html": [
       "<p>DataFrameRow (5 columns)</p><div class=\"data-frame\"><table class=\"data-frame\"><thead><tr><th></th><th>SepalLength</th><th>SepalWidth</th><th>PetalLength</th><th>PetalWidth</th><th>Species</th></tr><tr><th></th><th title=\"Float64\">Float64</th><th title=\"Float64\">Float64</th><th title=\"Float64\">Float64</th><th title=\"Float64\">Float64</th><th title=\"CategoricalArrays.CategoricalValue{String, UInt8}\">Cat…</th></tr></thead><tbody><tr><th>1</th><td>5.1</td><td>3.5</td><td>1.4</td><td>0.2</td><td>setosa</td></tr></tbody></table></div>"
      ],
      "text/latex": [
       "\\begin{tabular}{r|ccccc}\n",
       "\t& SepalLength & SepalWidth & PetalLength & PetalWidth & Species\\\\\n",
       "\t\\hline\n",
       "\t& Float64 & Float64 & Float64 & Float64 & Cat…\\\\\n",
       "\t\\hline\n",
       "\t1 & 5.1 & 3.5 & 1.4 & 0.2 & setosa \\\\\n",
       "\\end{tabular}\n"
      ],
      "text/plain": [
       "\u001b[1mDataFrameRow\u001b[0m\n",
       "\u001b[1m Row \u001b[0m│\u001b[1m SepalLength \u001b[0m\u001b[1m SepalWidth \u001b[0m\u001b[1m PetalLength \u001b[0m\u001b[1m PetalWidth \u001b[0m\u001b[1m Species \u001b[0m\n",
       "\u001b[1m     \u001b[0m│\u001b[90m Float64     \u001b[0m\u001b[90m Float64    \u001b[0m\u001b[90m Float64     \u001b[0m\u001b[90m Float64    \u001b[0m\u001b[90m Cat…    \u001b[0m\n",
       "─────┼───────────────────────────────────────────────────────────\n",
       "   1 │         5.1         3.5          1.4         0.2  setosa"
      ]
     },
     "execution_count": 16,
     "metadata": {},
     "output_type": "execute_result"
    }
   ],
   "source": [
    "iris[1, :]"
   ]
  },
  {
   "cell_type": "markdown",
   "id": "2035665c",
   "metadata": {},
   "source": [
    "#### Slicing\n",
    "\n",
    "First 4 rows using slicing:"
   ]
  },
  {
   "cell_type": "code",
   "execution_count": 18,
   "id": "301a44ec",
   "metadata": {},
   "outputs": [
    {
     "data": {
      "text/plain": [
       "4-element CategoricalArrays.CategoricalArray{String,1,UInt8}:\n",
       " \"setosa\"\n",
       " \"setosa\"\n",
       " \"setosa\"\n",
       " \"setosa\""
      ]
     },
     "execution_count": 18,
     "metadata": {},
     "output_type": "execute_result"
    }
   ],
   "source": [
    "iris[1:4, :Species]"
   ]
  },
  {
   "cell_type": "markdown",
   "id": "cd4e4905",
   "metadata": {},
   "source": [
    "### Filter and Subset\n",
    "\n",
    "We filter rows by using filter(source => f::Function, df). \n",
    "* very similar to the function filter(f::Function, V::Vector) from Julia Base module. \n",
    "* A good example of how DataFrames.jl uses **multiple dispatch** — define a new method of filter that accepts a DataFrame as argument.\n",
    "\n",
    "Using function to filter data is powerful"
   ]
  },
  {
   "cell_type": "markdown",
   "id": "bbe93b18",
   "metadata": {},
   "source": [
    "What does the `=>` operator do?\n",
    "\n",
    "\"What does => do in replace!(x, 0=>4)? Does it create a pair, a replacement of all zeros by fours, or what?\"\n",
    "\n",
    "It creates a Pair. In the function replace, a Pair in the second argument position means the multiple dispatch of replace() chooses a version of the replace function where, given a numeric array or string x, all items within x fitting the first part of the Pair are replaced with an instance of the second part of the Pair.\n",
    "\n",
    "https://stackoverflow.com/questions/52488743/julia-1-0-0-what-does-the-operator-do\n",
    "\n",
    "This small example should show how \"=>\" makes a pair\n",
    "\n",
    "julia> replace(\"julia\", Pair(\"u\", \"o\"))\n",
    "\n",
    "\"jolia\"\n",
    "\n",
    "julia> replace(\"julia\", \"u\" => \"o\")\n",
    "\n",
    "\"jolia\"\n",
    "\n",
    "The => operator is a function that creates a Pair, The replace function then uses this Pair to decide what changes to make to its inputs, but the => itself is completely independent of that\n",
    "\n",
    "For example, => is also used in the construction of dictionaries: Dict(\"A\"=>1, \"B\"=>2) creates a dictionary with keys \"A\" and \"B\", and values 1 and 2. As you can see, => does not denote a transformation here"
   ]
  },
  {
   "cell_type": "code",
   "execution_count": 42,
   "id": "03a6ac6e",
   "metadata": {},
   "outputs": [
    {
     "data": {
      "text/plain": [
       "CategoricalArrays.CategoricalVector{String, UInt8, String, CategoricalArrays.CategoricalValue{String, UInt8}, Union{}} (alias for CategoricalArrays.CategoricalArray{String, 1, UInt8, String, CategoricalArrays.CategoricalValue{String, UInt8}, Union{}})"
      ]
     },
     "execution_count": 42,
     "metadata": {},
     "output_type": "execute_result"
    }
   ],
   "source": [
    "typeof(iris.Species)"
   ]
  },
  {
   "cell_type": "markdown",
   "id": "2960f945",
   "metadata": {},
   "source": [
    "#### CategoricalArrays.jl\n",
    "\n",
    "CategoricalArrays.jl\n",
    "\n",
    "This package provides tools for working with categorical variables, both with unordered (nominal variables) and ordered categories (ordinal variables), optionally with missing values.\n",
    "\n",
    "https://github.com/JuliaData/CategoricalArrays.jl\n",
    "\n",
    "What is the perfect way to convert a categorical array to a numeric array?\n",
    "https://stackoverflow.com/questions/67469468/julia-what-is-the-perfect-way-to-convert-a-categorical-array-to-a-numeric-array"
   ]
  },
  {
   "cell_type": "code",
   "execution_count": 44,
   "id": "840e5278",
   "metadata": {},
   "outputs": [
    {
     "data": {
      "text/plain": [
       "150-element Vector{String}:\n",
       " \"setosa\"\n",
       " \"setosa\"\n",
       " \"setosa\"\n",
       " \"setosa\"\n",
       " \"setosa\"\n",
       " \"setosa\"\n",
       " \"setosa\"\n",
       " \"setosa\"\n",
       " \"setosa\"\n",
       " \"setosa\"\n",
       " \"setosa\"\n",
       " \"setosa\"\n",
       " \"setosa\"\n",
       " ⋮\n",
       " \"virginica\"\n",
       " \"virginica\"\n",
       " \"virginica\"\n",
       " \"virginica\"\n",
       " \"virginica\"\n",
       " \"virginica\"\n",
       " \"virginica\"\n",
       " \"virginica\"\n",
       " \"virginica\"\n",
       " \"virginica\"\n",
       " \"virginica\"\n",
       " \"virginica\""
      ]
     },
     "execution_count": 44,
     "metadata": {},
     "output_type": "execute_result"
    }
   ],
   "source": [
    "using CategoricalArrays\n",
    "\n",
    "v_species = unwrap.(iris.Species)\n"
   ]
  },
  {
   "cell_type": "code",
   "execution_count": 47,
   "id": "e14e70fa",
   "metadata": {},
   "outputs": [
    {
     "data": {
      "text/html": [
       "<div class=\"data-frame\"><p>50 rows × 5 columns</p><table class=\"data-frame\"><thead><tr><th></th><th>SepalLength</th><th>SepalWidth</th><th>PetalLength</th><th>PetalWidth</th><th>Species</th></tr><tr><th></th><th title=\"Float64\">Float64</th><th title=\"Float64\">Float64</th><th title=\"Float64\">Float64</th><th title=\"Float64\">Float64</th><th title=\"CategoricalValue{String, UInt8}\">Cat…</th></tr></thead><tbody><tr><th>1</th><td>5.1</td><td>3.5</td><td>1.4</td><td>0.2</td><td>setosa</td></tr><tr><th>2</th><td>4.9</td><td>3.0</td><td>1.4</td><td>0.2</td><td>setosa</td></tr><tr><th>3</th><td>4.7</td><td>3.2</td><td>1.3</td><td>0.2</td><td>setosa</td></tr><tr><th>4</th><td>4.6</td><td>3.1</td><td>1.5</td><td>0.2</td><td>setosa</td></tr><tr><th>5</th><td>5.0</td><td>3.6</td><td>1.4</td><td>0.2</td><td>setosa</td></tr><tr><th>6</th><td>5.4</td><td>3.9</td><td>1.7</td><td>0.4</td><td>setosa</td></tr><tr><th>7</th><td>4.6</td><td>3.4</td><td>1.4</td><td>0.3</td><td>setosa</td></tr><tr><th>8</th><td>5.0</td><td>3.4</td><td>1.5</td><td>0.2</td><td>setosa</td></tr><tr><th>9</th><td>4.4</td><td>2.9</td><td>1.4</td><td>0.2</td><td>setosa</td></tr><tr><th>10</th><td>4.9</td><td>3.1</td><td>1.5</td><td>0.1</td><td>setosa</td></tr><tr><th>11</th><td>5.4</td><td>3.7</td><td>1.5</td><td>0.2</td><td>setosa</td></tr><tr><th>12</th><td>4.8</td><td>3.4</td><td>1.6</td><td>0.2</td><td>setosa</td></tr><tr><th>13</th><td>4.8</td><td>3.0</td><td>1.4</td><td>0.1</td><td>setosa</td></tr><tr><th>14</th><td>4.3</td><td>3.0</td><td>1.1</td><td>0.1</td><td>setosa</td></tr><tr><th>15</th><td>5.8</td><td>4.0</td><td>1.2</td><td>0.2</td><td>setosa</td></tr><tr><th>16</th><td>5.7</td><td>4.4</td><td>1.5</td><td>0.4</td><td>setosa</td></tr><tr><th>17</th><td>5.4</td><td>3.9</td><td>1.3</td><td>0.4</td><td>setosa</td></tr><tr><th>18</th><td>5.1</td><td>3.5</td><td>1.4</td><td>0.3</td><td>setosa</td></tr><tr><th>19</th><td>5.7</td><td>3.8</td><td>1.7</td><td>0.3</td><td>setosa</td></tr><tr><th>20</th><td>5.1</td><td>3.8</td><td>1.5</td><td>0.3</td><td>setosa</td></tr><tr><th>21</th><td>5.4</td><td>3.4</td><td>1.7</td><td>0.2</td><td>setosa</td></tr><tr><th>22</th><td>5.1</td><td>3.7</td><td>1.5</td><td>0.4</td><td>setosa</td></tr><tr><th>23</th><td>4.6</td><td>3.6</td><td>1.0</td><td>0.2</td><td>setosa</td></tr><tr><th>24</th><td>5.1</td><td>3.3</td><td>1.7</td><td>0.5</td><td>setosa</td></tr><tr><th>25</th><td>4.8</td><td>3.4</td><td>1.9</td><td>0.2</td><td>setosa</td></tr><tr><th>26</th><td>5.0</td><td>3.0</td><td>1.6</td><td>0.2</td><td>setosa</td></tr><tr><th>27</th><td>5.0</td><td>3.4</td><td>1.6</td><td>0.4</td><td>setosa</td></tr><tr><th>28</th><td>5.2</td><td>3.5</td><td>1.5</td><td>0.2</td><td>setosa</td></tr><tr><th>29</th><td>5.2</td><td>3.4</td><td>1.4</td><td>0.2</td><td>setosa</td></tr><tr><th>30</th><td>4.7</td><td>3.2</td><td>1.6</td><td>0.2</td><td>setosa</td></tr><tr><th>&vellip;</th><td>&vellip;</td><td>&vellip;</td><td>&vellip;</td><td>&vellip;</td><td>&vellip;</td></tr></tbody></table></div>"
      ],
      "text/latex": [
       "\\begin{tabular}{r|ccccc}\n",
       "\t& SepalLength & SepalWidth & PetalLength & PetalWidth & Species\\\\\n",
       "\t\\hline\n",
       "\t& Float64 & Float64 & Float64 & Float64 & Cat…\\\\\n",
       "\t\\hline\n",
       "\t1 & 5.1 & 3.5 & 1.4 & 0.2 & setosa \\\\\n",
       "\t2 & 4.9 & 3.0 & 1.4 & 0.2 & setosa \\\\\n",
       "\t3 & 4.7 & 3.2 & 1.3 & 0.2 & setosa \\\\\n",
       "\t4 & 4.6 & 3.1 & 1.5 & 0.2 & setosa \\\\\n",
       "\t5 & 5.0 & 3.6 & 1.4 & 0.2 & setosa \\\\\n",
       "\t6 & 5.4 & 3.9 & 1.7 & 0.4 & setosa \\\\\n",
       "\t7 & 4.6 & 3.4 & 1.4 & 0.3 & setosa \\\\\n",
       "\t8 & 5.0 & 3.4 & 1.5 & 0.2 & setosa \\\\\n",
       "\t9 & 4.4 & 2.9 & 1.4 & 0.2 & setosa \\\\\n",
       "\t10 & 4.9 & 3.1 & 1.5 & 0.1 & setosa \\\\\n",
       "\t11 & 5.4 & 3.7 & 1.5 & 0.2 & setosa \\\\\n",
       "\t12 & 4.8 & 3.4 & 1.6 & 0.2 & setosa \\\\\n",
       "\t13 & 4.8 & 3.0 & 1.4 & 0.1 & setosa \\\\\n",
       "\t14 & 4.3 & 3.0 & 1.1 & 0.1 & setosa \\\\\n",
       "\t15 & 5.8 & 4.0 & 1.2 & 0.2 & setosa \\\\\n",
       "\t16 & 5.7 & 4.4 & 1.5 & 0.4 & setosa \\\\\n",
       "\t17 & 5.4 & 3.9 & 1.3 & 0.4 & setosa \\\\\n",
       "\t18 & 5.1 & 3.5 & 1.4 & 0.3 & setosa \\\\\n",
       "\t19 & 5.7 & 3.8 & 1.7 & 0.3 & setosa \\\\\n",
       "\t20 & 5.1 & 3.8 & 1.5 & 0.3 & setosa \\\\\n",
       "\t21 & 5.4 & 3.4 & 1.7 & 0.2 & setosa \\\\\n",
       "\t22 & 5.1 & 3.7 & 1.5 & 0.4 & setosa \\\\\n",
       "\t23 & 4.6 & 3.6 & 1.0 & 0.2 & setosa \\\\\n",
       "\t24 & 5.1 & 3.3 & 1.7 & 0.5 & setosa \\\\\n",
       "\t25 & 4.8 & 3.4 & 1.9 & 0.2 & setosa \\\\\n",
       "\t26 & 5.0 & 3.0 & 1.6 & 0.2 & setosa \\\\\n",
       "\t27 & 5.0 & 3.4 & 1.6 & 0.4 & setosa \\\\\n",
       "\t28 & 5.2 & 3.5 & 1.5 & 0.2 & setosa \\\\\n",
       "\t29 & 5.2 & 3.4 & 1.4 & 0.2 & setosa \\\\\n",
       "\t30 & 4.7 & 3.2 & 1.6 & 0.2 & setosa \\\\\n",
       "\t$\\dots$ & $\\dots$ & $\\dots$ & $\\dots$ & $\\dots$ & $\\dots$ \\\\\n",
       "\\end{tabular}\n"
      ],
      "text/plain": [
       "\u001b[1m50×5 DataFrame\u001b[0m\n",
       "\u001b[1m Row \u001b[0m│\u001b[1m SepalLength \u001b[0m\u001b[1m SepalWidth \u001b[0m\u001b[1m PetalLength \u001b[0m\u001b[1m PetalWidth \u001b[0m\u001b[1m Species \u001b[0m\n",
       "\u001b[1m     \u001b[0m│\u001b[90m Float64     \u001b[0m\u001b[90m Float64    \u001b[0m\u001b[90m Float64     \u001b[0m\u001b[90m Float64    \u001b[0m\u001b[90m Cat…    \u001b[0m\n",
       "─────┼───────────────────────────────────────────────────────────\n",
       "   1 │         5.1         3.5          1.4         0.2  setosa\n",
       "   2 │         4.9         3.0          1.4         0.2  setosa\n",
       "   3 │         4.7         3.2          1.3         0.2  setosa\n",
       "   4 │         4.6         3.1          1.5         0.2  setosa\n",
       "   5 │         5.0         3.6          1.4         0.2  setosa\n",
       "   6 │         5.4         3.9          1.7         0.4  setosa\n",
       "   7 │         4.6         3.4          1.4         0.3  setosa\n",
       "   8 │         5.0         3.4          1.5         0.2  setosa\n",
       "   9 │         4.4         2.9          1.4         0.2  setosa\n",
       "  10 │         4.9         3.1          1.5         0.1  setosa\n",
       "  11 │         5.4         3.7          1.5         0.2  setosa\n",
       "  ⋮  │      ⋮           ⋮            ⋮           ⋮          ⋮\n",
       "  41 │         5.0         3.5          1.3         0.3  setosa\n",
       "  42 │         4.5         2.3          1.3         0.3  setosa\n",
       "  43 │         4.4         3.2          1.3         0.2  setosa\n",
       "  44 │         5.0         3.5          1.6         0.6  setosa\n",
       "  45 │         5.1         3.8          1.9         0.4  setosa\n",
       "  46 │         4.8         3.0          1.4         0.3  setosa\n",
       "  47 │         5.1         3.8          1.6         0.2  setosa\n",
       "  48 │         4.6         3.2          1.4         0.2  setosa\n",
       "  49 │         5.3         3.7          1.5         0.2  setosa\n",
       "  50 │         5.0         3.3          1.4         0.2  setosa\n",
       "\u001b[36m                                                  29 rows omitted\u001b[0m"
      ]
     },
     "execution_count": 47,
     "metadata": {},
     "output_type": "execute_result"
    }
   ],
   "source": [
    "get_setosa(name::String) = name == \"setosa\"\n",
    "\n",
    "# 3 Ways\n",
    "\n",
    "# filter(get_setosa, v_species) \n",
    "# Note that this doesn’t only work for DataFrames, but also for vectors as above:\n",
    "\n",
    "filter(:Species => ==(\"setosa\"), iris) # A more efficient (faster to execute) way to express the same is:\n",
    "\n",
    "# Using an anonymous function\n",
    "#filter(:Species => name -> name == \"setosa\", iris)"
   ]
  },
  {
   "cell_type": "markdown",
   "id": "46bac230",
   "metadata": {},
   "source": [
    "julia> filter(row -> row.a != 2, df)\n",
    "\n",
    "   \n",
    "A more efficient (faster to execute) way to express the same is:\n",
    "\n",
    "filter(:a => !=(2), df)\n",
    "\n",
    "   \n",
    "As you can see the style is that you pass a Pair or column name and a\n",
    "predicate function (i.e. a function that produces Bool). This has two\n",
    "benefits. Firstly, the operation is type stable (thus faster). Secondly, in the\n",
    "row -> row.a != 2 we define a new anonymous function with each call of\n",
    "filter, which causes compilation (unless the operation is wrapped in a\n",
    "function or we predefine the predicate function).\n",
    "\n",
    "https://www.juliabloggers.com/dataframes-jl-why-do-we-have-both-subset-and-filter-functions/"
   ]
  },
  {
   "cell_type": "markdown",
   "id": "db89be1f",
   "metadata": {},
   "source": [
    "### Subset\n",
    "\n",
    "Subset function makes it easier to work with missing values\n",
    "\n",
    "subset works on complete columns instead of rows or single values. If we want to use our earlier defined functions, we should wrap it inside ByRow:\n",
    "\n",
    "The contract for the subset(df, args...) function is:\n",
    "\n",
    ">Return a copy of data frame df containing only rows for which all values\n",
    "produced by transformation(s) args for a given row are true.\n",
    "\n",
    "**DataFrame is now the first argument subset(df, args...), whereas in filter it was the second one filter(f, df)**\n",
    "\n",
    "The reason for this is that Julia defines filter as filter(f, V::Vector) and DataFrames.jl chose to maintain consistency with existing Julia functions that were extended to DataFrames types by multiple dispatch.\n",
    "\n",
    ">NOTE: Most of native DataFrames.jl functions, which subset belongs to, have a consistent function signature that always takes a DataFrame as first argument."
   ]
  },
  {
   "cell_type": "code",
   "execution_count": 71,
   "id": "a84bddd4",
   "metadata": {
    "scrolled": true
   },
   "outputs": [
    {
     "data": {
      "text/html": [
       "<div class=\"data-frame\"><p>50 rows × 1 columns</p><table class=\"data-frame\"><thead><tr><th></th><th>v_species</th></tr><tr><th></th><th title=\"String\">String</th></tr></thead><tbody><tr><th>1</th><td>setosa</td></tr><tr><th>2</th><td>setosa</td></tr><tr><th>3</th><td>setosa</td></tr><tr><th>4</th><td>setosa</td></tr><tr><th>5</th><td>setosa</td></tr><tr><th>6</th><td>setosa</td></tr><tr><th>7</th><td>setosa</td></tr><tr><th>8</th><td>setosa</td></tr><tr><th>9</th><td>setosa</td></tr><tr><th>10</th><td>setosa</td></tr><tr><th>11</th><td>setosa</td></tr><tr><th>12</th><td>setosa</td></tr><tr><th>13</th><td>setosa</td></tr><tr><th>14</th><td>setosa</td></tr><tr><th>15</th><td>setosa</td></tr><tr><th>16</th><td>setosa</td></tr><tr><th>17</th><td>setosa</td></tr><tr><th>18</th><td>setosa</td></tr><tr><th>19</th><td>setosa</td></tr><tr><th>20</th><td>setosa</td></tr><tr><th>21</th><td>setosa</td></tr><tr><th>22</th><td>setosa</td></tr><tr><th>23</th><td>setosa</td></tr><tr><th>24</th><td>setosa</td></tr><tr><th>25</th><td>setosa</td></tr><tr><th>26</th><td>setosa</td></tr><tr><th>27</th><td>setosa</td></tr><tr><th>28</th><td>setosa</td></tr><tr><th>29</th><td>setosa</td></tr><tr><th>30</th><td>setosa</td></tr><tr><th>&vellip;</th><td>&vellip;</td></tr></tbody></table></div>"
      ],
      "text/latex": [
       "\\begin{tabular}{r|c}\n",
       "\t& v\\_species\\\\\n",
       "\t\\hline\n",
       "\t& String\\\\\n",
       "\t\\hline\n",
       "\t1 & setosa \\\\\n",
       "\t2 & setosa \\\\\n",
       "\t3 & setosa \\\\\n",
       "\t4 & setosa \\\\\n",
       "\t5 & setosa \\\\\n",
       "\t6 & setosa \\\\\n",
       "\t7 & setosa \\\\\n",
       "\t8 & setosa \\\\\n",
       "\t9 & setosa \\\\\n",
       "\t10 & setosa \\\\\n",
       "\t11 & setosa \\\\\n",
       "\t12 & setosa \\\\\n",
       "\t13 & setosa \\\\\n",
       "\t14 & setosa \\\\\n",
       "\t15 & setosa \\\\\n",
       "\t16 & setosa \\\\\n",
       "\t17 & setosa \\\\\n",
       "\t18 & setosa \\\\\n",
       "\t19 & setosa \\\\\n",
       "\t20 & setosa \\\\\n",
       "\t21 & setosa \\\\\n",
       "\t22 & setosa \\\\\n",
       "\t23 & setosa \\\\\n",
       "\t24 & setosa \\\\\n",
       "\t25 & setosa \\\\\n",
       "\t26 & setosa \\\\\n",
       "\t27 & setosa \\\\\n",
       "\t28 & setosa \\\\\n",
       "\t29 & setosa \\\\\n",
       "\t30 & setosa \\\\\n",
       "\t$\\dots$ & $\\dots$ \\\\\n",
       "\\end{tabular}\n"
      ],
      "text/plain": [
       "\u001b[1m50×1 DataFrame\u001b[0m\n",
       "\u001b[1m Row \u001b[0m│\u001b[1m v_species \u001b[0m\n",
       "\u001b[1m     \u001b[0m│\u001b[90m String    \u001b[0m\n",
       "─────┼───────────\n",
       "   1 │ setosa\n",
       "   2 │ setosa\n",
       "   3 │ setosa\n",
       "   4 │ setosa\n",
       "   5 │ setosa\n",
       "   6 │ setosa\n",
       "   7 │ setosa\n",
       "   8 │ setosa\n",
       "   9 │ setosa\n",
       "  10 │ setosa\n",
       "  11 │ setosa\n",
       "  ⋮  │     ⋮\n",
       "  41 │ setosa\n",
       "  42 │ setosa\n",
       "  43 │ setosa\n",
       "  44 │ setosa\n",
       "  45 │ setosa\n",
       "  46 │ setosa\n",
       "  47 │ setosa\n",
       "  48 │ setosa\n",
       "  49 │ setosa\n",
       "  50 │ setosa\n",
       "\u001b[36m  29 rows omitted\u001b[0m"
      ]
     },
     "execution_count": 71,
     "metadata": {},
     "output_type": "execute_result"
    }
   ],
   "source": [
    "newdf = DataFrame(; v_species)\n",
    "\n",
    "subset(newdf, :v_species => ByRow(get_setosa))"
   ]
  },
  {
   "cell_type": "code",
   "execution_count": 70,
   "id": "4f7e857d",
   "metadata": {},
   "outputs": [
    {
     "data": {
      "text/html": [
       "<div class=\"data-frame\"><p>50 rows × 5 columns</p><table class=\"data-frame\"><thead><tr><th></th><th>SepalLength</th><th>SepalWidth</th><th>PetalLength</th><th>PetalWidth</th><th>Species</th></tr><tr><th></th><th title=\"Float64\">Float64</th><th title=\"Float64\">Float64</th><th title=\"Float64\">Float64</th><th title=\"Float64\">Float64</th><th title=\"CategoricalValue{String, UInt8}\">Cat…</th></tr></thead><tbody><tr><th>1</th><td>5.1</td><td>3.5</td><td>1.4</td><td>0.2</td><td>setosa</td></tr><tr><th>2</th><td>4.9</td><td>3.0</td><td>1.4</td><td>0.2</td><td>setosa</td></tr><tr><th>3</th><td>4.7</td><td>3.2</td><td>1.3</td><td>0.2</td><td>setosa</td></tr><tr><th>4</th><td>4.6</td><td>3.1</td><td>1.5</td><td>0.2</td><td>setosa</td></tr><tr><th>5</th><td>5.0</td><td>3.6</td><td>1.4</td><td>0.2</td><td>setosa</td></tr><tr><th>6</th><td>5.4</td><td>3.9</td><td>1.7</td><td>0.4</td><td>setosa</td></tr><tr><th>7</th><td>4.6</td><td>3.4</td><td>1.4</td><td>0.3</td><td>setosa</td></tr><tr><th>8</th><td>5.0</td><td>3.4</td><td>1.5</td><td>0.2</td><td>setosa</td></tr><tr><th>9</th><td>4.4</td><td>2.9</td><td>1.4</td><td>0.2</td><td>setosa</td></tr><tr><th>10</th><td>4.9</td><td>3.1</td><td>1.5</td><td>0.1</td><td>setosa</td></tr><tr><th>11</th><td>5.4</td><td>3.7</td><td>1.5</td><td>0.2</td><td>setosa</td></tr><tr><th>12</th><td>4.8</td><td>3.4</td><td>1.6</td><td>0.2</td><td>setosa</td></tr><tr><th>13</th><td>4.8</td><td>3.0</td><td>1.4</td><td>0.1</td><td>setosa</td></tr><tr><th>14</th><td>4.3</td><td>3.0</td><td>1.1</td><td>0.1</td><td>setosa</td></tr><tr><th>15</th><td>5.8</td><td>4.0</td><td>1.2</td><td>0.2</td><td>setosa</td></tr><tr><th>16</th><td>5.7</td><td>4.4</td><td>1.5</td><td>0.4</td><td>setosa</td></tr><tr><th>17</th><td>5.4</td><td>3.9</td><td>1.3</td><td>0.4</td><td>setosa</td></tr><tr><th>18</th><td>5.1</td><td>3.5</td><td>1.4</td><td>0.3</td><td>setosa</td></tr><tr><th>19</th><td>5.7</td><td>3.8</td><td>1.7</td><td>0.3</td><td>setosa</td></tr><tr><th>20</th><td>5.1</td><td>3.8</td><td>1.5</td><td>0.3</td><td>setosa</td></tr><tr><th>21</th><td>5.4</td><td>3.4</td><td>1.7</td><td>0.2</td><td>setosa</td></tr><tr><th>22</th><td>5.1</td><td>3.7</td><td>1.5</td><td>0.4</td><td>setosa</td></tr><tr><th>23</th><td>4.6</td><td>3.6</td><td>1.0</td><td>0.2</td><td>setosa</td></tr><tr><th>24</th><td>5.1</td><td>3.3</td><td>1.7</td><td>0.5</td><td>setosa</td></tr><tr><th>25</th><td>4.8</td><td>3.4</td><td>1.9</td><td>0.2</td><td>setosa</td></tr><tr><th>26</th><td>5.0</td><td>3.0</td><td>1.6</td><td>0.2</td><td>setosa</td></tr><tr><th>27</th><td>5.0</td><td>3.4</td><td>1.6</td><td>0.4</td><td>setosa</td></tr><tr><th>28</th><td>5.2</td><td>3.5</td><td>1.5</td><td>0.2</td><td>setosa</td></tr><tr><th>29</th><td>5.2</td><td>3.4</td><td>1.4</td><td>0.2</td><td>setosa</td></tr><tr><th>30</th><td>4.7</td><td>3.2</td><td>1.6</td><td>0.2</td><td>setosa</td></tr><tr><th>&vellip;</th><td>&vellip;</td><td>&vellip;</td><td>&vellip;</td><td>&vellip;</td><td>&vellip;</td></tr></tbody></table></div>"
      ],
      "text/latex": [
       "\\begin{tabular}{r|ccccc}\n",
       "\t& SepalLength & SepalWidth & PetalLength & PetalWidth & Species\\\\\n",
       "\t\\hline\n",
       "\t& Float64 & Float64 & Float64 & Float64 & Cat…\\\\\n",
       "\t\\hline\n",
       "\t1 & 5.1 & 3.5 & 1.4 & 0.2 & setosa \\\\\n",
       "\t2 & 4.9 & 3.0 & 1.4 & 0.2 & setosa \\\\\n",
       "\t3 & 4.7 & 3.2 & 1.3 & 0.2 & setosa \\\\\n",
       "\t4 & 4.6 & 3.1 & 1.5 & 0.2 & setosa \\\\\n",
       "\t5 & 5.0 & 3.6 & 1.4 & 0.2 & setosa \\\\\n",
       "\t6 & 5.4 & 3.9 & 1.7 & 0.4 & setosa \\\\\n",
       "\t7 & 4.6 & 3.4 & 1.4 & 0.3 & setosa \\\\\n",
       "\t8 & 5.0 & 3.4 & 1.5 & 0.2 & setosa \\\\\n",
       "\t9 & 4.4 & 2.9 & 1.4 & 0.2 & setosa \\\\\n",
       "\t10 & 4.9 & 3.1 & 1.5 & 0.1 & setosa \\\\\n",
       "\t11 & 5.4 & 3.7 & 1.5 & 0.2 & setosa \\\\\n",
       "\t12 & 4.8 & 3.4 & 1.6 & 0.2 & setosa \\\\\n",
       "\t13 & 4.8 & 3.0 & 1.4 & 0.1 & setosa \\\\\n",
       "\t14 & 4.3 & 3.0 & 1.1 & 0.1 & setosa \\\\\n",
       "\t15 & 5.8 & 4.0 & 1.2 & 0.2 & setosa \\\\\n",
       "\t16 & 5.7 & 4.4 & 1.5 & 0.4 & setosa \\\\\n",
       "\t17 & 5.4 & 3.9 & 1.3 & 0.4 & setosa \\\\\n",
       "\t18 & 5.1 & 3.5 & 1.4 & 0.3 & setosa \\\\\n",
       "\t19 & 5.7 & 3.8 & 1.7 & 0.3 & setosa \\\\\n",
       "\t20 & 5.1 & 3.8 & 1.5 & 0.3 & setosa \\\\\n",
       "\t21 & 5.4 & 3.4 & 1.7 & 0.2 & setosa \\\\\n",
       "\t22 & 5.1 & 3.7 & 1.5 & 0.4 & setosa \\\\\n",
       "\t23 & 4.6 & 3.6 & 1.0 & 0.2 & setosa \\\\\n",
       "\t24 & 5.1 & 3.3 & 1.7 & 0.5 & setosa \\\\\n",
       "\t25 & 4.8 & 3.4 & 1.9 & 0.2 & setosa \\\\\n",
       "\t26 & 5.0 & 3.0 & 1.6 & 0.2 & setosa \\\\\n",
       "\t27 & 5.0 & 3.4 & 1.6 & 0.4 & setosa \\\\\n",
       "\t28 & 5.2 & 3.5 & 1.5 & 0.2 & setosa \\\\\n",
       "\t29 & 5.2 & 3.4 & 1.4 & 0.2 & setosa \\\\\n",
       "\t30 & 4.7 & 3.2 & 1.6 & 0.2 & setosa \\\\\n",
       "\t$\\dots$ & $\\dots$ & $\\dots$ & $\\dots$ & $\\dots$ & $\\dots$ \\\\\n",
       "\\end{tabular}\n"
      ],
      "text/plain": [
       "\u001b[1m50×5 DataFrame\u001b[0m\n",
       "\u001b[1m Row \u001b[0m│\u001b[1m SepalLength \u001b[0m\u001b[1m SepalWidth \u001b[0m\u001b[1m PetalLength \u001b[0m\u001b[1m PetalWidth \u001b[0m\u001b[1m Species \u001b[0m\n",
       "\u001b[1m     \u001b[0m│\u001b[90m Float64     \u001b[0m\u001b[90m Float64    \u001b[0m\u001b[90m Float64     \u001b[0m\u001b[90m Float64    \u001b[0m\u001b[90m Cat…    \u001b[0m\n",
       "─────┼───────────────────────────────────────────────────────────\n",
       "   1 │         5.1         3.5          1.4         0.2  setosa\n",
       "   2 │         4.9         3.0          1.4         0.2  setosa\n",
       "   3 │         4.7         3.2          1.3         0.2  setosa\n",
       "   4 │         4.6         3.1          1.5         0.2  setosa\n",
       "   5 │         5.0         3.6          1.4         0.2  setosa\n",
       "   6 │         5.4         3.9          1.7         0.4  setosa\n",
       "   7 │         4.6         3.4          1.4         0.3  setosa\n",
       "   8 │         5.0         3.4          1.5         0.2  setosa\n",
       "   9 │         4.4         2.9          1.4         0.2  setosa\n",
       "  10 │         4.9         3.1          1.5         0.1  setosa\n",
       "  11 │         5.4         3.7          1.5         0.2  setosa\n",
       "  ⋮  │      ⋮           ⋮            ⋮           ⋮          ⋮\n",
       "  41 │         5.0         3.5          1.3         0.3  setosa\n",
       "  42 │         4.5         2.3          1.3         0.3  setosa\n",
       "  43 │         4.4         3.2          1.3         0.2  setosa\n",
       "  44 │         5.0         3.5          1.6         0.6  setosa\n",
       "  45 │         5.1         3.8          1.9         0.4  setosa\n",
       "  46 │         4.8         3.0          1.4         0.3  setosa\n",
       "  47 │         5.1         3.8          1.6         0.2  setosa\n",
       "  48 │         4.6         3.2          1.4         0.2  setosa\n",
       "  49 │         5.3         3.7          1.5         0.2  setosa\n",
       "  50 │         5.0         3.3          1.4         0.2  setosa\n",
       "\u001b[36m                                                  29 rows omitted\u001b[0m"
      ]
     },
     "execution_count": 70,
     "metadata": {},
     "output_type": "execute_result"
    }
   ],
   "source": [
    "# we can also use anonymous functions inside subset:\n",
    "\n",
    "subset(iris, :Species => ByRow(name -> name == \"setosa\"))"
   ]
  },
  {
   "cell_type": "markdown",
   "id": "641f0c5b",
   "metadata": {},
   "source": [
    "Or, the partial function application for ==:"
   ]
  },
  {
   "cell_type": "code",
   "execution_count": 73,
   "id": "839e518d",
   "metadata": {},
   "outputs": [
    {
     "data": {
      "text/html": [
       "<div class=\"data-frame\"><p>50 rows × 5 columns</p><table class=\"data-frame\"><thead><tr><th></th><th>SepalLength</th><th>SepalWidth</th><th>PetalLength</th><th>PetalWidth</th><th>Species</th></tr><tr><th></th><th title=\"Float64\">Float64</th><th title=\"Float64\">Float64</th><th title=\"Float64\">Float64</th><th title=\"Float64\">Float64</th><th title=\"CategoricalValue{String, UInt8}\">Cat…</th></tr></thead><tbody><tr><th>1</th><td>5.1</td><td>3.5</td><td>1.4</td><td>0.2</td><td>setosa</td></tr><tr><th>2</th><td>4.9</td><td>3.0</td><td>1.4</td><td>0.2</td><td>setosa</td></tr><tr><th>3</th><td>4.7</td><td>3.2</td><td>1.3</td><td>0.2</td><td>setosa</td></tr><tr><th>4</th><td>4.6</td><td>3.1</td><td>1.5</td><td>0.2</td><td>setosa</td></tr><tr><th>5</th><td>5.0</td><td>3.6</td><td>1.4</td><td>0.2</td><td>setosa</td></tr><tr><th>6</th><td>5.4</td><td>3.9</td><td>1.7</td><td>0.4</td><td>setosa</td></tr><tr><th>7</th><td>4.6</td><td>3.4</td><td>1.4</td><td>0.3</td><td>setosa</td></tr><tr><th>8</th><td>5.0</td><td>3.4</td><td>1.5</td><td>0.2</td><td>setosa</td></tr><tr><th>9</th><td>4.4</td><td>2.9</td><td>1.4</td><td>0.2</td><td>setosa</td></tr><tr><th>10</th><td>4.9</td><td>3.1</td><td>1.5</td><td>0.1</td><td>setosa</td></tr><tr><th>11</th><td>5.4</td><td>3.7</td><td>1.5</td><td>0.2</td><td>setosa</td></tr><tr><th>12</th><td>4.8</td><td>3.4</td><td>1.6</td><td>0.2</td><td>setosa</td></tr><tr><th>13</th><td>4.8</td><td>3.0</td><td>1.4</td><td>0.1</td><td>setosa</td></tr><tr><th>14</th><td>4.3</td><td>3.0</td><td>1.1</td><td>0.1</td><td>setosa</td></tr><tr><th>15</th><td>5.8</td><td>4.0</td><td>1.2</td><td>0.2</td><td>setosa</td></tr><tr><th>16</th><td>5.7</td><td>4.4</td><td>1.5</td><td>0.4</td><td>setosa</td></tr><tr><th>17</th><td>5.4</td><td>3.9</td><td>1.3</td><td>0.4</td><td>setosa</td></tr><tr><th>18</th><td>5.1</td><td>3.5</td><td>1.4</td><td>0.3</td><td>setosa</td></tr><tr><th>19</th><td>5.7</td><td>3.8</td><td>1.7</td><td>0.3</td><td>setosa</td></tr><tr><th>20</th><td>5.1</td><td>3.8</td><td>1.5</td><td>0.3</td><td>setosa</td></tr><tr><th>21</th><td>5.4</td><td>3.4</td><td>1.7</td><td>0.2</td><td>setosa</td></tr><tr><th>22</th><td>5.1</td><td>3.7</td><td>1.5</td><td>0.4</td><td>setosa</td></tr><tr><th>23</th><td>4.6</td><td>3.6</td><td>1.0</td><td>0.2</td><td>setosa</td></tr><tr><th>24</th><td>5.1</td><td>3.3</td><td>1.7</td><td>0.5</td><td>setosa</td></tr><tr><th>25</th><td>4.8</td><td>3.4</td><td>1.9</td><td>0.2</td><td>setosa</td></tr><tr><th>26</th><td>5.0</td><td>3.0</td><td>1.6</td><td>0.2</td><td>setosa</td></tr><tr><th>27</th><td>5.0</td><td>3.4</td><td>1.6</td><td>0.4</td><td>setosa</td></tr><tr><th>28</th><td>5.2</td><td>3.5</td><td>1.5</td><td>0.2</td><td>setosa</td></tr><tr><th>29</th><td>5.2</td><td>3.4</td><td>1.4</td><td>0.2</td><td>setosa</td></tr><tr><th>30</th><td>4.7</td><td>3.2</td><td>1.6</td><td>0.2</td><td>setosa</td></tr><tr><th>&vellip;</th><td>&vellip;</td><td>&vellip;</td><td>&vellip;</td><td>&vellip;</td><td>&vellip;</td></tr></tbody></table></div>"
      ],
      "text/latex": [
       "\\begin{tabular}{r|ccccc}\n",
       "\t& SepalLength & SepalWidth & PetalLength & PetalWidth & Species\\\\\n",
       "\t\\hline\n",
       "\t& Float64 & Float64 & Float64 & Float64 & Cat…\\\\\n",
       "\t\\hline\n",
       "\t1 & 5.1 & 3.5 & 1.4 & 0.2 & setosa \\\\\n",
       "\t2 & 4.9 & 3.0 & 1.4 & 0.2 & setosa \\\\\n",
       "\t3 & 4.7 & 3.2 & 1.3 & 0.2 & setosa \\\\\n",
       "\t4 & 4.6 & 3.1 & 1.5 & 0.2 & setosa \\\\\n",
       "\t5 & 5.0 & 3.6 & 1.4 & 0.2 & setosa \\\\\n",
       "\t6 & 5.4 & 3.9 & 1.7 & 0.4 & setosa \\\\\n",
       "\t7 & 4.6 & 3.4 & 1.4 & 0.3 & setosa \\\\\n",
       "\t8 & 5.0 & 3.4 & 1.5 & 0.2 & setosa \\\\\n",
       "\t9 & 4.4 & 2.9 & 1.4 & 0.2 & setosa \\\\\n",
       "\t10 & 4.9 & 3.1 & 1.5 & 0.1 & setosa \\\\\n",
       "\t11 & 5.4 & 3.7 & 1.5 & 0.2 & setosa \\\\\n",
       "\t12 & 4.8 & 3.4 & 1.6 & 0.2 & setosa \\\\\n",
       "\t13 & 4.8 & 3.0 & 1.4 & 0.1 & setosa \\\\\n",
       "\t14 & 4.3 & 3.0 & 1.1 & 0.1 & setosa \\\\\n",
       "\t15 & 5.8 & 4.0 & 1.2 & 0.2 & setosa \\\\\n",
       "\t16 & 5.7 & 4.4 & 1.5 & 0.4 & setosa \\\\\n",
       "\t17 & 5.4 & 3.9 & 1.3 & 0.4 & setosa \\\\\n",
       "\t18 & 5.1 & 3.5 & 1.4 & 0.3 & setosa \\\\\n",
       "\t19 & 5.7 & 3.8 & 1.7 & 0.3 & setosa \\\\\n",
       "\t20 & 5.1 & 3.8 & 1.5 & 0.3 & setosa \\\\\n",
       "\t21 & 5.4 & 3.4 & 1.7 & 0.2 & setosa \\\\\n",
       "\t22 & 5.1 & 3.7 & 1.5 & 0.4 & setosa \\\\\n",
       "\t23 & 4.6 & 3.6 & 1.0 & 0.2 & setosa \\\\\n",
       "\t24 & 5.1 & 3.3 & 1.7 & 0.5 & setosa \\\\\n",
       "\t25 & 4.8 & 3.4 & 1.9 & 0.2 & setosa \\\\\n",
       "\t26 & 5.0 & 3.0 & 1.6 & 0.2 & setosa \\\\\n",
       "\t27 & 5.0 & 3.4 & 1.6 & 0.4 & setosa \\\\\n",
       "\t28 & 5.2 & 3.5 & 1.5 & 0.2 & setosa \\\\\n",
       "\t29 & 5.2 & 3.4 & 1.4 & 0.2 & setosa \\\\\n",
       "\t30 & 4.7 & 3.2 & 1.6 & 0.2 & setosa \\\\\n",
       "\t$\\dots$ & $\\dots$ & $\\dots$ & $\\dots$ & $\\dots$ & $\\dots$ \\\\\n",
       "\\end{tabular}\n"
      ],
      "text/plain": [
       "\u001b[1m50×5 DataFrame\u001b[0m\n",
       "\u001b[1m Row \u001b[0m│\u001b[1m SepalLength \u001b[0m\u001b[1m SepalWidth \u001b[0m\u001b[1m PetalLength \u001b[0m\u001b[1m PetalWidth \u001b[0m\u001b[1m Species \u001b[0m\n",
       "\u001b[1m     \u001b[0m│\u001b[90m Float64     \u001b[0m\u001b[90m Float64    \u001b[0m\u001b[90m Float64     \u001b[0m\u001b[90m Float64    \u001b[0m\u001b[90m Cat…    \u001b[0m\n",
       "─────┼───────────────────────────────────────────────────────────\n",
       "   1 │         5.1         3.5          1.4         0.2  setosa\n",
       "   2 │         4.9         3.0          1.4         0.2  setosa\n",
       "   3 │         4.7         3.2          1.3         0.2  setosa\n",
       "   4 │         4.6         3.1          1.5         0.2  setosa\n",
       "   5 │         5.0         3.6          1.4         0.2  setosa\n",
       "   6 │         5.4         3.9          1.7         0.4  setosa\n",
       "   7 │         4.6         3.4          1.4         0.3  setosa\n",
       "   8 │         5.0         3.4          1.5         0.2  setosa\n",
       "   9 │         4.4         2.9          1.4         0.2  setosa\n",
       "  10 │         4.9         3.1          1.5         0.1  setosa\n",
       "  11 │         5.4         3.7          1.5         0.2  setosa\n",
       "  ⋮  │      ⋮           ⋮            ⋮           ⋮          ⋮\n",
       "  41 │         5.0         3.5          1.3         0.3  setosa\n",
       "  42 │         4.5         2.3          1.3         0.3  setosa\n",
       "  43 │         4.4         3.2          1.3         0.2  setosa\n",
       "  44 │         5.0         3.5          1.6         0.6  setosa\n",
       "  45 │         5.1         3.8          1.9         0.4  setosa\n",
       "  46 │         4.8         3.0          1.4         0.3  setosa\n",
       "  47 │         5.1         3.8          1.6         0.2  setosa\n",
       "  48 │         4.6         3.2          1.4         0.2  setosa\n",
       "  49 │         5.3         3.7          1.5         0.2  setosa\n",
       "  50 │         5.0         3.3          1.4         0.2  setosa\n",
       "\u001b[36m                                                  29 rows omitted\u001b[0m"
      ]
     },
     "execution_count": 73,
     "metadata": {},
     "output_type": "execute_result"
    }
   ],
   "source": [
    "subset(iris, :Species => ByRow(==(\"setosa\")))"
   ]
  },
  {
   "cell_type": "markdown",
   "id": "e036b970",
   "metadata": {},
   "source": [
    "A feature of subset:\n",
    "\n",
    "**skipmissing=true**\n",
    "\n",
    "> all transformations must produce vectors containing true or false; however,\n",
    "optionally missing is allowed if **skipmissing=true** (this option is not available in filter);"
   ]
  },
  {
   "cell_type": "code",
   "execution_count": 74,
   "id": "203bfb9b",
   "metadata": {},
   "outputs": [
    {
     "data": {
      "text/html": [
       "<div class=\"data-frame\"><p>4 rows × 2 columns</p><table class=\"data-frame\"><thead><tr><th></th><th>names</th><th>salary</th></tr><tr><th></th><th title=\"String\">String</th><th title=\"Union{Missing, Int64}\">Int64?</th></tr></thead><tbody><tr><th>1</th><td>John</td><td>1900</td></tr><tr><th>2</th><td>Hank</td><td>2800</td></tr><tr><th>3</th><td>Karen</td><td>2800</td></tr><tr><th>4</th><td>Zed</td><td><em>missing</em></td></tr></tbody></table></div>"
      ],
      "text/latex": [
       "\\begin{tabular}{r|cc}\n",
       "\t& names & salary\\\\\n",
       "\t\\hline\n",
       "\t& String & Int64?\\\\\n",
       "\t\\hline\n",
       "\t1 & John & 1900 \\\\\n",
       "\t2 & Hank & 2800 \\\\\n",
       "\t3 & Karen & 2800 \\\\\n",
       "\t4 & Zed & \\emph{missing} \\\\\n",
       "\\end{tabular}\n"
      ],
      "text/plain": [
       "\u001b[1m4×2 DataFrame\u001b[0m\n",
       "\u001b[1m Row \u001b[0m│\u001b[1m names  \u001b[0m\u001b[1m salary  \u001b[0m\n",
       "\u001b[1m     \u001b[0m│\u001b[90m String \u001b[0m\u001b[90m Int64?  \u001b[0m\n",
       "─────┼─────────────────\n",
       "   1 │ John       1900\n",
       "   2 │ Hank       2800\n",
       "   3 │ Karen      2800\n",
       "   4 │ Zed    \u001b[90m missing \u001b[0m"
      ]
     },
     "execution_count": 74,
     "metadata": {},
     "output_type": "execute_result"
    }
   ],
   "source": [
    "function salaries()\n",
    "    names = [\"John\", \"Hank\", \"Karen\", \"Zed\"]\n",
    "    salary = [1_900, 2_800, 2_800, missing]\n",
    "    DataFrame(; names, salary)\n",
    "end\n",
    "salaries()"
   ]
  },
  {
   "cell_type": "markdown",
   "id": "3284b473",
   "metadata": {},
   "source": [
    "If we use filter, without taking the missing values into account, it will fail:"
   ]
  },
  {
   "cell_type": "code",
   "execution_count": 75,
   "id": "7223fff7",
   "metadata": {},
   "outputs": [
    {
     "ename": "LoadError",
     "evalue": "TypeError: non-boolean (Missing) used in boolean context",
     "output_type": "error",
     "traceback": [
      "TypeError: non-boolean (Missing) used in boolean context",
      "",
      "Stacktrace:",
      "  [1] (::DataFrames.var\"#89#90\"{Base.Fix2{typeof(>), Int64}})(x::Missing)",
      "    @ DataFrames ~/.julia/packages/DataFrames/vuMM8/src/abstractdataframe/abstractdataframe.jl:1043",
      "  [2] _broadcast_getindex_evalf",
      "    @ ./broadcast.jl:648 [inlined]",
      "  [3] _broadcast_getindex",
      "    @ ./broadcast.jl:621 [inlined]",
      "  [4] getindex",
      "    @ ./broadcast.jl:575 [inlined]",
      "  [5] macro expansion",
      "    @ ./broadcast.jl:984 [inlined]",
      "  [6] macro expansion",
      "    @ ./simdloop.jl:77 [inlined]",
      "  [7] copyto!",
      "    @ ./broadcast.jl:983 [inlined]",
      "  [8] copyto!",
      "    @ ./broadcast.jl:994 [inlined]",
      "  [9] copyto!",
      "    @ ./broadcast.jl:936 [inlined]",
      " [10] copy",
      "    @ ./broadcast.jl:908 [inlined]",
      " [11] materialize(bc::Base.Broadcast.Broadcasted{Base.Broadcast.DefaultArrayStyle{1}, Nothing, DataFrames.var\"#89#90\"{Base.Fix2{typeof(>), Int64}}, Tuple{Vector{Union{Missing, Int64}}}})",
      "    @ Base.Broadcast ./broadcast.jl:883",
      " [12] _filter_helper(f::Function, cols::Vector{Union{Missing, Int64}})",
      "    @ DataFrames ~/.julia/packages/DataFrames/vuMM8/src/abstractdataframe/abstractdataframe.jl:1043",
      " [13] #filter#79",
      "    @ ~/.julia/packages/DataFrames/vuMM8/src/abstractdataframe/abstractdataframe.jl:1025 [inlined]",
      " [14] filter(::Pair{Symbol, Base.Fix2{typeof(>), Int64}}, df::DataFrame)",
      "    @ DataFrames ~/.julia/packages/DataFrames/vuMM8/src/abstractdataframe/abstractdataframe.jl:1021",
      " [15] top-level scope",
      "    @ In[75]:1",
      " [16] eval",
      "    @ ./boot.jl:360 [inlined]",
      " [17] include_string(mapexpr::typeof(REPL.softscope), mod::Module, code::String, filename::String)",
      "    @ Base ./loading.jl:1116"
     ]
    }
   ],
   "source": [
    "filter(:salary => >(2_000), salaries())"
   ]
  },
  {
   "cell_type": "markdown",
   "id": "e1faf2fe",
   "metadata": {},
   "source": [
    "subset will also fail, but it points us towards a solution:"
   ]
  },
  {
   "cell_type": "code",
   "execution_count": 76,
   "id": "f1fc0185",
   "metadata": {},
   "outputs": [
    {
     "ename": "LoadError",
     "evalue": "ArgumentError: missing was returned in condition number 1 but only true or false are allowed; pass skipmissing=true to skip missing values",
     "output_type": "error",
     "traceback": [
      "ArgumentError: missing was returned in condition number 1 but only true or false are allowed; pass skipmissing=true to skip missing values",
      "",
      "Stacktrace:",
      "  [1] _and(x::Missing)",
      "    @ DataFrames ~/.julia/packages/DataFrames/vuMM8/src/abstractdataframe/subset.jl:11",
      "  [2] _broadcast_getindex_evalf",
      "    @ ./broadcast.jl:648 [inlined]",
      "  [3] _broadcast_getindex",
      "    @ ./broadcast.jl:621 [inlined]",
      "  [4] getindex",
      "    @ ./broadcast.jl:575 [inlined]",
      "  [5] macro expansion",
      "    @ ./broadcast.jl:984 [inlined]",
      "  [6] macro expansion",
      "    @ ./simdloop.jl:77 [inlined]",
      "  [7] copyto!",
      "    @ ./broadcast.jl:983 [inlined]",
      "  [8] copyto!",
      "    @ ./broadcast.jl:994 [inlined]",
      "  [9] copyto!",
      "    @ ./broadcast.jl:936 [inlined]",
      " [10] copy",
      "    @ ./broadcast.jl:908 [inlined]",
      " [11] materialize(bc::Base.Broadcast.Broadcasted{Base.Broadcast.DefaultArrayStyle{1}, Nothing, typeof(DataFrames._and), Tuple{Vector{Union{Missing, Bool}}}})",
      "    @ Base.Broadcast ./broadcast.jl:883",
      " [12] _get_subset_conditions(df::DataFrame, ::Base.RefValue{Any}, skipmissing::Bool)",
      "    @ DataFrames ~/.julia/packages/DataFrames/vuMM8/src/abstractdataframe/subset.jl:74",
      " [13] subset(df::DataFrame, args::Any; skipmissing::Bool, view::Bool)",
      "    @ DataFrames ~/.julia/packages/DataFrames/vuMM8/src/abstractdataframe/subset.jl:173",
      " [14] subset(df::DataFrame, args::Any)",
      "    @ DataFrames ~/.julia/packages/DataFrames/vuMM8/src/abstractdataframe/subset.jl:173",
      " [15] top-level scope",
      "    @ In[76]:1",
      " [16] eval",
      "    @ ./boot.jl:360 [inlined]",
      " [17] include_string(mapexpr::typeof(REPL.softscope), mod::Module, code::String, filename::String)",
      "    @ Base ./loading.jl:1116"
     ]
    }
   ],
   "source": [
    "subset(salaries(), :salary => ByRow(>(2_000)))"
   ]
  },
  {
   "cell_type": "markdown",
   "id": "fe17c281",
   "metadata": {},
   "source": [
    "A feature of subset:\n",
    "\n",
    "skipmissing=true**\n",
    "\n",
    "all transformations must produce vectors containing true or false; however, optionally missing is allowed if skipmissing=true (this option is not available in filter);"
   ]
  },
  {
   "cell_type": "code",
   "execution_count": 77,
   "id": "4a157830",
   "metadata": {
    "scrolled": true
   },
   "outputs": [
    {
     "data": {
      "text/html": [
       "<div class=\"data-frame\"><p>2 rows × 2 columns</p><table class=\"data-frame\"><thead><tr><th></th><th>names</th><th>salary</th></tr><tr><th></th><th title=\"String\">String</th><th title=\"Union{Missing, Int64}\">Int64?</th></tr></thead><tbody><tr><th>1</th><td>Hank</td><td>2800</td></tr><tr><th>2</th><td>Karen</td><td>2800</td></tr></tbody></table></div>"
      ],
      "text/latex": [
       "\\begin{tabular}{r|cc}\n",
       "\t& names & salary\\\\\n",
       "\t\\hline\n",
       "\t& String & Int64?\\\\\n",
       "\t\\hline\n",
       "\t1 & Hank & 2800 \\\\\n",
       "\t2 & Karen & 2800 \\\\\n",
       "\\end{tabular}\n"
      ],
      "text/plain": [
       "\u001b[1m2×2 DataFrame\u001b[0m\n",
       "\u001b[1m Row \u001b[0m│\u001b[1m names  \u001b[0m\u001b[1m salary \u001b[0m\n",
       "\u001b[1m     \u001b[0m│\u001b[90m String \u001b[0m\u001b[90m Int64? \u001b[0m\n",
       "─────┼────────────────\n",
       "   1 │ Hank      2800\n",
       "   2 │ Karen     2800"
      ]
     },
     "execution_count": 77,
     "metadata": {},
     "output_type": "execute_result"
    }
   ],
   "source": [
    "subset(salaries(), :salary => ByRow(>(2_000)); skipmissing=true)"
   ]
  }
 ],
 "metadata": {
  "kernelspec": {
   "display_name": "Julia 1.6.4",
   "language": "julia",
   "name": "julia-1.6"
  },
  "language_info": {
   "file_extension": ".jl",
   "mimetype": "application/julia",
   "name": "julia",
   "version": "1.6.4"
  }
 },
 "nbformat": 4,
 "nbformat_minor": 5
}
